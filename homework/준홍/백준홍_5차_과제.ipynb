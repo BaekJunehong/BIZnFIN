{
  "nbformat": 4,
  "nbformat_minor": 0,
  "metadata": {
    "colab": {
      "provenance": []
    },
    "kernelspec": {
      "name": "python3",
      "display_name": "Python 3"
    },
    "language_info": {
      "name": "python"
    }
  },
  "cells": [
    {
      "cell_type": "markdown",
      "source": [
        "이번 주차 과제는 간단한 이미지 데이터를 활용해 크기가 큰 데이터의 차원 축소를 진행하고 데이터의 라벨에 따라 클러스터링을 진행하는 과제입니다."
      ],
      "metadata": {
        "id": "-15WlI3nYkj9"
      }
    },
    {
      "cell_type": "markdown",
      "source": [
        "###필요한 모듈을 가져오세요."
      ],
      "metadata": {
        "id": "ShhHQ1vKZ4Pq"
      }
    },
    {
      "cell_type": "code",
      "source": [],
      "metadata": {
        "id": "ESZ6KgYPZ6cx"
      },
      "execution_count": null,
      "outputs": []
    },
    {
      "cell_type": "markdown",
      "source": [
        "# Image data 가져오기\n",
        "https://www.kaggle.com/datasets/zalando-research/fashionmnist/data\n",
        "\n",
        "###위 링크의 fashion mnist 데이터의 train dataset과 test dataset을 가져오세요.\n",
        "(데이터의 용량이 크니 직접 다운로드 하지 말고 코드를 이용해 가져오도록 해보세요.)"
      ],
      "metadata": {
        "id": "BoFZSdXiYdE3"
      }
    },
    {
      "cell_type": "code",
      "execution_count": null,
      "metadata": {
        "id": "TFSDQfGrYSls"
      },
      "outputs": [],
      "source": []
    },
    {
      "cell_type": "markdown",
      "source": [
        "###데이터에 대한 정보들을 보여주세요.\n",
        "(필수: 요약, 모양, 크기, 결측치 여부 등)"
      ],
      "metadata": {
        "id": "vlj3YLp0ZOFq"
      }
    },
    {
      "cell_type": "code",
      "source": [],
      "metadata": {
        "id": "LYFeoZOuZfVL"
      },
      "execution_count": null,
      "outputs": []
    },
    {
      "cell_type": "markdown",
      "source": [
        "### Data중 첫 번째 이미지를 보여주세요."
      ],
      "metadata": {
        "id": "756WyhW1ZgRK"
      }
    },
    {
      "cell_type": "code",
      "source": [],
      "metadata": {
        "id": "Lee92REBaJfv"
      },
      "execution_count": null,
      "outputs": []
    },
    {
      "cell_type": "markdown",
      "source": [
        "# 이미지 전처리"
      ],
      "metadata": {
        "id": "AP57A114aLMw"
      }
    },
    {
      "cell_type": "markdown",
      "source": [
        "### 이미지 데이터를 머신러닝에 이용하기 편한 형태로 바꾸어 합니다.\n",
        "(torch model 사용 - tensor 형태로 바꾸기 등)"
      ],
      "metadata": {
        "id": "4zlBjqeBa3Wr"
      }
    },
    {
      "cell_type": "code",
      "source": [],
      "metadata": {
        "id": "NmwJq5lgaKdH"
      },
      "execution_count": null,
      "outputs": []
    },
    {
      "cell_type": "markdown",
      "source": [
        "### 이미지 데이터는 픽셀 값이 0 - 255로 이루어져 있습니다. 이 값을 0 - 1까지의 값으로 normalize 해주세요."
      ],
      "metadata": {
        "id": "3SsW999JbC8x"
      }
    },
    {
      "cell_type": "code",
      "source": [],
      "metadata": {
        "id": "1fIrEfrCbKBa"
      },
      "execution_count": null,
      "outputs": []
    },
    {
      "cell_type": "markdown",
      "source": [
        "### 추가적인 이미지 전처리를 진행해주세요.\n",
        "(차원을 수정하는 것은 뒤의 문제에서 진행할 것이므로 여기에서 하지 마세요.)"
      ],
      "metadata": {
        "id": "PezsmRgWbdPg"
      }
    },
    {
      "cell_type": "code",
      "source": [],
      "metadata": {
        "id": "MpU6ZzPLbkD1"
      },
      "execution_count": null,
      "outputs": []
    },
    {
      "cell_type": "markdown",
      "source": [
        "# 차원 축소\n",
        "차원 축소란 고차원 데이터를 효율적으로 처리하기 위한 기법입니다.\n",
        "### 그 중 대표적인 PCA와 t-sne에 대한 내용을 비교하여 아래에 적어주세요."
      ],
      "metadata": {
        "id": "vyUi1AjXbkoa"
      }
    },
    {
      "cell_type": "markdown",
      "source": [
        "(더블클릭하여 이곳에 작성)"
      ],
      "metadata": {
        "id": "9ML5wJe4b2LK"
      }
    },
    {
      "cell_type": "markdown",
      "source": [
        "## PCA"
      ],
      "metadata": {
        "id": "8xTtabYzeRJU"
      }
    },
    {
      "cell_type": "markdown",
      "source": [
        "### 현재 데이터는 28*28로 784차원을 가지고 있습니다. PCA를 이용하여 데이터들을 가장 잘 설명하는 50개의 변수만으로 데이터를 변환하시오."
      ],
      "metadata": {
        "id": "vs6RBhtkb6tu"
      }
    },
    {
      "cell_type": "code",
      "source": [],
      "metadata": {
        "id": "4Zj0xKm4b1WG"
      },
      "execution_count": null,
      "outputs": []
    },
    {
      "cell_type": "markdown",
      "source": [
        "### PCA 이후 데이터들의 설명된 분산 비율 (explained variance ratio)를 출력하세요."
      ],
      "metadata": {
        "id": "UuSt3fwYcUnE"
      }
    },
    {
      "cell_type": "code",
      "source": [],
      "metadata": {
        "id": "p4kxdwqEcz5_"
      },
      "execution_count": null,
      "outputs": []
    },
    {
      "cell_type": "markdown",
      "source": [
        "### PCA를 시행하면 데이터가 수정되므로 원본 데이터와 차이가 생기게 됩니다. 이때 이 차이를 재구성 오차(Reconstruction Error)라고 합니다. 재구성 오차를 mse(오차제곱합) 방식으로 구하시오."
      ],
      "metadata": {
        "id": "ZmYiUuiec_7n"
      }
    },
    {
      "cell_type": "code",
      "source": [],
      "metadata": {
        "id": "zus6Aa1XdVum"
      },
      "execution_count": null,
      "outputs": []
    },
    {
      "cell_type": "markdown",
      "source": [
        "### 이번에는 PCA를 통해 원본 데이터를 30차원으로 줄이고, explained variance ratio와 reconstructon error를 구하시오."
      ],
      "metadata": {
        "id": "ywT8cpNsdWPn"
      }
    },
    {
      "cell_type": "code",
      "source": [],
      "metadata": {
        "id": "v8MvNhDLdxV7"
      },
      "execution_count": null,
      "outputs": []
    },
    {
      "cell_type": "markdown",
      "source": [
        "### 데이터를 30차원으로 줄인 결과와 50차원으로 줄인 결과에는 어떤 차이가 있습니까?"
      ],
      "metadata": {
        "id": "S7xeUj-tdycW"
      }
    },
    {
      "cell_type": "markdown",
      "source": [],
      "metadata": {
        "id": "mhwYvvI-d3G6"
      }
    },
    {
      "cell_type": "markdown",
      "source": [
        "### 마지막으로 원본 데이터를 2차원으로 줄이고, explained variance ratio와 reconstruction error를 구하시오."
      ],
      "metadata": {
        "id": "U4-QjLDNd31v"
      }
    },
    {
      "cell_type": "code",
      "source": [],
      "metadata": {
        "id": "C0_INnL6d2oS"
      },
      "execution_count": null,
      "outputs": []
    },
    {
      "cell_type": "markdown",
      "source": [
        "### 2차원으로 축소한 데이터를 시각화하여 보여주세요. 대신 데이터의 label에 따라 색상을 다르게 해주세요."
      ],
      "metadata": {
        "id": "8J1dMVnDeAbl"
      }
    },
    {
      "cell_type": "code",
      "source": [],
      "metadata": {
        "id": "UeegGdPZeK-W"
      },
      "execution_count": null,
      "outputs": []
    },
    {
      "cell_type": "markdown",
      "source": [
        "## T-SNE"
      ],
      "metadata": {
        "id": "F3eYEgGOeLq6"
      }
    },
    {
      "cell_type": "markdown",
      "source": [
        "### 앞서 pca를 통해 50차원으로 줄인 데이터를 t-sne를 통해 시각화 하세요."
      ],
      "metadata": {
        "id": "9HiO6ttNeb5k"
      }
    },
    {
      "cell_type": "code",
      "source": [],
      "metadata": {
        "id": "Qg1YFEpgeUb7"
      },
      "execution_count": null,
      "outputs": []
    },
    {
      "cell_type": "markdown",
      "source": [
        "### 앞서 pca를 통해 30차원으로 줄인 데이터를 t-sne를 통해 시각화 하세요."
      ],
      "metadata": {
        "id": "TvUjeH3Aem2Q"
      }
    },
    {
      "cell_type": "code",
      "source": [],
      "metadata": {
        "id": "58-_xgOmeqqv"
      },
      "execution_count": null,
      "outputs": []
    },
    {
      "cell_type": "markdown",
      "source": [
        "## 군집화"
      ],
      "metadata": {
        "id": "m4lUrsO0e2MG"
      }
    },
    {
      "cell_type": "markdown",
      "source": [
        "### PCA를 통해 50차원으로 줄인 데이터를 DBSCAN을 이용하여 군집화 하시오."
      ],
      "metadata": {
        "id": "E1U5H0P_e4t6"
      }
    },
    {
      "cell_type": "code",
      "source": [],
      "metadata": {
        "id": "CAwXqJDSe4HO"
      },
      "execution_count": null,
      "outputs": []
    },
    {
      "cell_type": "markdown",
      "source": [
        "### k-means를 통해 50차원으로 줄인 데이터를 군집화 하시오.(군집의 개수는 10개로 하시오.)"
      ],
      "metadata": {
        "id": "1grdXAN1gABa"
      }
    },
    {
      "cell_type": "code",
      "source": [],
      "metadata": {
        "id": "r6R8VSE7gQvi"
      },
      "execution_count": null,
      "outputs": []
    },
    {
      "cell_type": "markdown",
      "source": [
        "### 엘보우 메소드를 이용하여 k-means에서 가장 적절한 군집의 개수를 구하시오."
      ],
      "metadata": {
        "id": "-PDxcqNrgRLn"
      }
    },
    {
      "cell_type": "code",
      "source": [],
      "metadata": {
        "id": "1IGQb4JkgY_y"
      },
      "execution_count": null,
      "outputs": []
    },
    {
      "cell_type": "markdown",
      "source": [
        "### k-means 최적의 군집 개수로 다시 군집화 하여 시각화 하시오."
      ],
      "metadata": {
        "id": "RGLULMHfg3oc"
      }
    },
    {
      "cell_type": "code",
      "source": [],
      "metadata": {
        "id": "6FfcSG7sg9FK"
      },
      "execution_count": null,
      "outputs": []
    },
    {
      "cell_type": "markdown",
      "source": [
        "### 다른 추가적인 군집화 기법을 2가지 이상 사용하여 pca 50 데이터를 시각화 하시오."
      ],
      "metadata": {
        "id": "45OlhPQ5ftie"
      }
    },
    {
      "cell_type": "code",
      "source": [],
      "metadata": {
        "id": "peN_Mj7ifzWO"
      },
      "execution_count": null,
      "outputs": []
    },
    {
      "cell_type": "markdown",
      "source": [
        "## 군집화 결과 비교"
      ],
      "metadata": {
        "id": "enm9PXeZf0BT"
      }
    },
    {
      "cell_type": "markdown",
      "source": [
        "### 앞선 모든 군집화 모델의 결과를 실루엣 점수(Silhouette score)를 이용하여 성능을 비교하시오."
      ],
      "metadata": {
        "id": "lGP_YsStgre_"
      }
    },
    {
      "cell_type": "code",
      "source": [],
      "metadata": {
        "id": "Guxl_X-Fgo01"
      },
      "execution_count": null,
      "outputs": []
    },
    {
      "cell_type": "markdown",
      "source": [
        "### 실루엣 점수를 통해 군집화 모델의 성능에 대한 간단한 해석을 적으세요."
      ],
      "metadata": {
        "id": "zUFgDq2fhC-W"
      }
    },
    {
      "cell_type": "markdown",
      "source": [
        "\n",
        "(더블클릭해서 이곳에 작성)"
      ],
      "metadata": {
        "id": "LbT8pjhshJ7F"
      }
    }
  ]
}