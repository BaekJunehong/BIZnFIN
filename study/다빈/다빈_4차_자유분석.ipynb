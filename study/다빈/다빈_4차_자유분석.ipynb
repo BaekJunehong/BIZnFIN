{
 "cells": [
  {
   "cell_type": "markdown",
   "metadata": {},
   "source": [
    "# 다빈 kaggle 자유분석"
   ]
  },
  {
   "cell_type": "markdown",
   "metadata": {},
   "source": [
    "#### kick point\n",
    "\n",
    "- 클래스 불균형 처리\n",
    "    - `BorderlineSMOTE`\n",
    "- 이진분류\n",
    "    - `RandomForestClassifier`, `KNeighborsClassifier`,  `XGBClassifier`"
   ]
  },
  {
   "cell_type": "markdown",
   "metadata": {},
   "source": [
    "---\n",
    "\n",
    "### SUMMARY\n",
    "\n",
    "1. [import](#1)\n",
    "2. [Read the Data](#2)\n",
    "3. [Exploratory Data Analysis](#3)\n",
    "4. [Feature Engineering](#4)\n",
    "5. [Binary Classification](#5)\n",
    "\n",
    "---"
   ]
  },
  {
   "cell_type": "markdown",
   "metadata": {},
   "source": [
    "## 1. import\n",
    "<a id=\"1\"></a>"
   ]
  },
  {
   "cell_type": "code",
   "execution_count": 170,
   "metadata": {},
   "outputs": [],
   "source": [
    "import numpy as np\n",
    "import pandas as pd\n",
    "import seaborn as sns\n",
    "import matplotlib.pyplot as plt\n",
    "\n",
    "\n",
    "from sklearn.ensemble import RandomForestClassifier\n",
    "from sklearn.neighbors import KNeighborsClassifier\n",
    "from xgboost import XGBClassifier\n",
    "from sklearn.model_selection import train_test_split,KFold,cross_val_score,StratifiedKFold\n",
    "from sklearn.metrics import accuracy_score,precision_score,recall_score,f1_score\n",
    "from sklearn.metrics import confusion_matrix,ConfusionMatrixDisplay\n",
    "from sklearn.model_selection import GridSearchCV\n",
    "\n",
    "from imblearn.over_sampling import BorderlineSMOTE, SMOTE\n",
    "from collections import Counter"
   ]
  },
  {
   "cell_type": "markdown",
   "metadata": {},
   "source": [
    "## 2. Read the Data\n",
    "<a id=\"2\"></a>"
   ]
  },
  {
   "cell_type": "code",
   "execution_count": 171,
   "metadata": {},
   "outputs": [
    {
     "data": {
      "text/html": [
       "<div>\n",
       "<style scoped>\n",
       "    .dataframe tbody tr th:only-of-type {\n",
       "        vertical-align: middle;\n",
       "    }\n",
       "\n",
       "    .dataframe tbody tr th {\n",
       "        vertical-align: top;\n",
       "    }\n",
       "\n",
       "    .dataframe thead th {\n",
       "        text-align: right;\n",
       "    }\n",
       "</style>\n",
       "<table border=\"1\" class=\"dataframe\">\n",
       "  <thead>\n",
       "    <tr style=\"text-align: right;\">\n",
       "      <th></th>\n",
       "      <th>Bankrupt?</th>\n",
       "      <th>ROA(C) before interest and depreciation before interest</th>\n",
       "      <th>ROA(A) before interest and % after tax</th>\n",
       "      <th>ROA(B) before interest and depreciation after tax</th>\n",
       "      <th>Operating Gross Margin</th>\n",
       "      <th>Realized Sales Gross Margin</th>\n",
       "      <th>Operating Profit Rate</th>\n",
       "      <th>Pre-tax net Interest Rate</th>\n",
       "      <th>After-tax net Interest Rate</th>\n",
       "      <th>Non-industry income and expenditure/revenue</th>\n",
       "      <th>...</th>\n",
       "      <th>Net Income to Total Assets</th>\n",
       "      <th>Total assets to GNP price</th>\n",
       "      <th>No-credit Interval</th>\n",
       "      <th>Gross Profit to Sales</th>\n",
       "      <th>Net Income to Stockholder's Equity</th>\n",
       "      <th>Liability to Equity</th>\n",
       "      <th>Degree of Financial Leverage (DFL)</th>\n",
       "      <th>Interest Coverage Ratio (Interest expense to EBIT)</th>\n",
       "      <th>Net Income Flag</th>\n",
       "      <th>Equity to Liability</th>\n",
       "    </tr>\n",
       "  </thead>\n",
       "  <tbody>\n",
       "    <tr>\n",
       "      <th>0</th>\n",
       "      <td>1</td>\n",
       "      <td>0.370594</td>\n",
       "      <td>0.424389</td>\n",
       "      <td>0.405750</td>\n",
       "      <td>0.601457</td>\n",
       "      <td>0.601457</td>\n",
       "      <td>0.998969</td>\n",
       "      <td>0.796887</td>\n",
       "      <td>0.808809</td>\n",
       "      <td>0.302646</td>\n",
       "      <td>...</td>\n",
       "      <td>0.716845</td>\n",
       "      <td>0.009219</td>\n",
       "      <td>0.622879</td>\n",
       "      <td>0.601453</td>\n",
       "      <td>0.827890</td>\n",
       "      <td>0.290202</td>\n",
       "      <td>0.026601</td>\n",
       "      <td>0.564050</td>\n",
       "      <td>1</td>\n",
       "      <td>0.016469</td>\n",
       "    </tr>\n",
       "    <tr>\n",
       "      <th>1</th>\n",
       "      <td>1</td>\n",
       "      <td>0.464291</td>\n",
       "      <td>0.538214</td>\n",
       "      <td>0.516730</td>\n",
       "      <td>0.610235</td>\n",
       "      <td>0.610235</td>\n",
       "      <td>0.998946</td>\n",
       "      <td>0.797380</td>\n",
       "      <td>0.809301</td>\n",
       "      <td>0.303556</td>\n",
       "      <td>...</td>\n",
       "      <td>0.795297</td>\n",
       "      <td>0.008323</td>\n",
       "      <td>0.623652</td>\n",
       "      <td>0.610237</td>\n",
       "      <td>0.839969</td>\n",
       "      <td>0.283846</td>\n",
       "      <td>0.264577</td>\n",
       "      <td>0.570175</td>\n",
       "      <td>1</td>\n",
       "      <td>0.020794</td>\n",
       "    </tr>\n",
       "    <tr>\n",
       "      <th>2</th>\n",
       "      <td>1</td>\n",
       "      <td>0.426071</td>\n",
       "      <td>0.499019</td>\n",
       "      <td>0.472295</td>\n",
       "      <td>0.601450</td>\n",
       "      <td>0.601364</td>\n",
       "      <td>0.998857</td>\n",
       "      <td>0.796403</td>\n",
       "      <td>0.808388</td>\n",
       "      <td>0.302035</td>\n",
       "      <td>...</td>\n",
       "      <td>0.774670</td>\n",
       "      <td>0.040003</td>\n",
       "      <td>0.623841</td>\n",
       "      <td>0.601449</td>\n",
       "      <td>0.836774</td>\n",
       "      <td>0.290189</td>\n",
       "      <td>0.026555</td>\n",
       "      <td>0.563706</td>\n",
       "      <td>1</td>\n",
       "      <td>0.016474</td>\n",
       "    </tr>\n",
       "    <tr>\n",
       "      <th>3</th>\n",
       "      <td>1</td>\n",
       "      <td>0.399844</td>\n",
       "      <td>0.451265</td>\n",
       "      <td>0.457733</td>\n",
       "      <td>0.583541</td>\n",
       "      <td>0.583541</td>\n",
       "      <td>0.998700</td>\n",
       "      <td>0.796967</td>\n",
       "      <td>0.808966</td>\n",
       "      <td>0.303350</td>\n",
       "      <td>...</td>\n",
       "      <td>0.739555</td>\n",
       "      <td>0.003252</td>\n",
       "      <td>0.622929</td>\n",
       "      <td>0.583538</td>\n",
       "      <td>0.834697</td>\n",
       "      <td>0.281721</td>\n",
       "      <td>0.026697</td>\n",
       "      <td>0.564663</td>\n",
       "      <td>1</td>\n",
       "      <td>0.023982</td>\n",
       "    </tr>\n",
       "    <tr>\n",
       "      <th>4</th>\n",
       "      <td>1</td>\n",
       "      <td>0.465022</td>\n",
       "      <td>0.538432</td>\n",
       "      <td>0.522298</td>\n",
       "      <td>0.598783</td>\n",
       "      <td>0.598783</td>\n",
       "      <td>0.998973</td>\n",
       "      <td>0.797366</td>\n",
       "      <td>0.809304</td>\n",
       "      <td>0.303475</td>\n",
       "      <td>...</td>\n",
       "      <td>0.795016</td>\n",
       "      <td>0.003878</td>\n",
       "      <td>0.623521</td>\n",
       "      <td>0.598782</td>\n",
       "      <td>0.839973</td>\n",
       "      <td>0.278514</td>\n",
       "      <td>0.024752</td>\n",
       "      <td>0.575617</td>\n",
       "      <td>1</td>\n",
       "      <td>0.035490</td>\n",
       "    </tr>\n",
       "  </tbody>\n",
       "</table>\n",
       "<p>5 rows × 96 columns</p>\n",
       "</div>"
      ],
      "text/plain": [
       "   Bankrupt?   ROA(C) before interest and depreciation before interest  \\\n",
       "0          1                                           0.370594          \n",
       "1          1                                           0.464291          \n",
       "2          1                                           0.426071          \n",
       "3          1                                           0.399844          \n",
       "4          1                                           0.465022          \n",
       "\n",
       "    ROA(A) before interest and % after tax  \\\n",
       "0                                 0.424389   \n",
       "1                                 0.538214   \n",
       "2                                 0.499019   \n",
       "3                                 0.451265   \n",
       "4                                 0.538432   \n",
       "\n",
       "    ROA(B) before interest and depreciation after tax  \\\n",
       "0                                           0.405750    \n",
       "1                                           0.516730    \n",
       "2                                           0.472295    \n",
       "3                                           0.457733    \n",
       "4                                           0.522298    \n",
       "\n",
       "    Operating Gross Margin   Realized Sales Gross Margin  \\\n",
       "0                 0.601457                      0.601457   \n",
       "1                 0.610235                      0.610235   \n",
       "2                 0.601450                      0.601364   \n",
       "3                 0.583541                      0.583541   \n",
       "4                 0.598783                      0.598783   \n",
       "\n",
       "    Operating Profit Rate   Pre-tax net Interest Rate  \\\n",
       "0                0.998969                    0.796887   \n",
       "1                0.998946                    0.797380   \n",
       "2                0.998857                    0.796403   \n",
       "3                0.998700                    0.796967   \n",
       "4                0.998973                    0.797366   \n",
       "\n",
       "    After-tax net Interest Rate   Non-industry income and expenditure/revenue  \\\n",
       "0                      0.808809                                      0.302646   \n",
       "1                      0.809301                                      0.303556   \n",
       "2                      0.808388                                      0.302035   \n",
       "3                      0.808966                                      0.303350   \n",
       "4                      0.809304                                      0.303475   \n",
       "\n",
       "   ...   Net Income to Total Assets   Total assets to GNP price  \\\n",
       "0  ...                     0.716845                    0.009219   \n",
       "1  ...                     0.795297                    0.008323   \n",
       "2  ...                     0.774670                    0.040003   \n",
       "3  ...                     0.739555                    0.003252   \n",
       "4  ...                     0.795016                    0.003878   \n",
       "\n",
       "    No-credit Interval   Gross Profit to Sales  \\\n",
       "0             0.622879                0.601453   \n",
       "1             0.623652                0.610237   \n",
       "2             0.623841                0.601449   \n",
       "3             0.622929                0.583538   \n",
       "4             0.623521                0.598782   \n",
       "\n",
       "    Net Income to Stockholder's Equity   Liability to Equity  \\\n",
       "0                             0.827890              0.290202   \n",
       "1                             0.839969              0.283846   \n",
       "2                             0.836774              0.290189   \n",
       "3                             0.834697              0.281721   \n",
       "4                             0.839973              0.278514   \n",
       "\n",
       "    Degree of Financial Leverage (DFL)  \\\n",
       "0                             0.026601   \n",
       "1                             0.264577   \n",
       "2                             0.026555   \n",
       "3                             0.026697   \n",
       "4                             0.024752   \n",
       "\n",
       "    Interest Coverage Ratio (Interest expense to EBIT)   Net Income Flag  \\\n",
       "0                                           0.564050                   1   \n",
       "1                                           0.570175                   1   \n",
       "2                                           0.563706                   1   \n",
       "3                                           0.564663                   1   \n",
       "4                                           0.575617                   1   \n",
       "\n",
       "    Equity to Liability  \n",
       "0              0.016469  \n",
       "1              0.020794  \n",
       "2              0.016474  \n",
       "3              0.023982  \n",
       "4              0.035490  \n",
       "\n",
       "[5 rows x 96 columns]"
      ]
     },
     "execution_count": 171,
     "metadata": {},
     "output_type": "execute_result"
    }
   ],
   "source": [
    "df = pd.read_csv('../../data/캐글_파산기업/data.csv')\n",
    "\n",
    "df.head()"
   ]
  },
  {
   "cell_type": "markdown",
   "metadata": {},
   "source": [
    "## 3. EDA\n",
    "<a id=\"3\"></a>"
   ]
  },
  {
   "cell_type": "markdown",
   "metadata": {},
   "source": [
    "#### 3.1 데이터의 기본 정보 확인"
   ]
  },
  {
   "cell_type": "code",
   "execution_count": 172,
   "metadata": {},
   "outputs": [
    {
     "name": "stdout",
     "output_type": "stream",
     "text": [
      "##################### Shape #####################\n",
      "(6819, 96)\n",
      "##################### Types #####################\n",
      "Bankrupt?                                                     int64\n",
      " ROA(C) before interest and depreciation before interest    float64\n",
      " ROA(A) before interest and % after tax                     float64\n",
      " ROA(B) before interest and depreciation after tax          float64\n",
      " Operating Gross Margin                                     float64\n",
      "                                                             ...   \n",
      " Liability to Equity                                        float64\n",
      " Degree of Financial Leverage (DFL)                         float64\n",
      " Interest Coverage Ratio (Interest expense to EBIT)         float64\n",
      " Net Income Flag                                              int64\n",
      " Equity to Liability                                        float64\n",
      "Length: 96, dtype: object\n",
      "##################### NA #####################\n",
      "Bankrupt?                                                   0\n",
      " ROA(C) before interest and depreciation before interest    0\n",
      " ROA(A) before interest and % after tax                     0\n",
      " ROA(B) before interest and depreciation after tax          0\n",
      " Operating Gross Margin                                     0\n",
      "                                                           ..\n",
      " Liability to Equity                                        0\n",
      " Degree of Financial Leverage (DFL)                         0\n",
      " Interest Coverage Ratio (Interest expense to EBIT)         0\n",
      " Net Income Flag                                            0\n",
      " Equity to Liability                                        0\n",
      "Length: 96, dtype: int64\n"
     ]
    }
   ],
   "source": [
    "def check_df(dataframe):\n",
    "    print(\"##################### Shape #####################\")\n",
    "    print(dataframe.shape)\n",
    "    print(\"##################### Types #####################\")\n",
    "    print(dataframe.dtypes)\n",
    "    #print(\"##################### Head #####################\")\n",
    "    #print(dataframe.head(3))\n",
    "    #print(\"##################### Tail #####################\")\n",
    "    #print(dataframe.tail(3))\n",
    "    print(\"##################### NA #####################\")\n",
    "    print(dataframe.isnull().sum())\n",
    "check_df(df)"
   ]
  },
  {
   "cell_type": "markdown",
   "metadata": {},
   "source": [
    "#### 3.2 타겟변수 비율 확인"
   ]
  },
  {
   "cell_type": "code",
   "execution_count": 173,
   "metadata": {},
   "outputs": [
    {
     "data": {
      "image/png": "[encoded data removed]",
      "text/plain": [
       "<Figure size 640x480 with 1 Axes>"
      ]
     },
     "metadata": {},
     "output_type": "display_data"
    }
   ],
   "source": [
    "val = df['Bankrupt?'].value_counts().reset_index(name='count')\n",
    "\n",
    "def label_function(val):\n",
    "    return f'{val:.2f}%'\n",
    "\n",
    "labels = ['No Bankrupt','Bankrupt']\n",
    "\n",
    "val.plot(x='Bankrupt?',y='count',kind='pie',autopct=label_function,\n",
    "                textprops={'fontsize':15},labels=labels,colors=['lightsteelblue','orange'])\n",
    "\n",
    "plt.ylabel('')\n",
    "plt.title('Bankrupt Classes',fontsize=20)\n",
    "\n",
    "plt.tight_layout()"
   ]
  },
  {
   "cell_type": "markdown",
   "metadata": {},
   "source": [
    "#### 3.3 df 내 각 열의 이상치 비율 확인"
   ]
  },
  {
   "cell_type": "code",
   "execution_count": 174,
   "metadata": {},
   "outputs": [
    {
     "data": {
      "text/plain": [
       "{'Bankrupt?': 3.2262795131250916,\n",
       " ' ROA(C) before interest and depreciation before interest': 1.0705382020824168,\n",
       " ' ROA(A) before interest and % after tax': 1.5984748496847045,\n",
       " ' ROA(B) before interest and depreciation after tax': 1.2465170846165128,\n",
       " ' Operating Gross Margin': 1.6864642909517522,\n",
       " ' Realized Sales Gross Margin': 1.6864642909517522,\n",
       " ' Operating Profit Rate': 3.519577650681918,\n",
       " ' Pre-tax net Interest Rate': 4.443466783985921,\n",
       " ' After-tax net Interest Rate': 4.86874908344332,\n",
       " ' Non-industry income and expenditure/revenue': 6.936500953218946,\n",
       " ' Continuous interest rate (after tax)': 4.648775480275701,\n",
       " ' Operating Expense Rate': 0.0,\n",
       " ' Research and development expense rate': 0.0,\n",
       " ' Cash flow rate': 2.639683238011439,\n",
       " ' Interest-bearing debt interest rate': 4.692770200909225,\n",
       " ' Tax rate (A)': 1.1145329227159408,\n",
       " ' Net Value Per Share (B)': 2.2730605660654053,\n",
       " ' Net Value Per Share (A)': 2.287725472943247,\n",
       " ' Net Value Per Share (C)': 2.287725472943247,\n",
       " ' Persistent EPS in the Last Four Seasons': 2.067751869775627,\n",
       " ' Cash Flow Per Share': 2.800997213667693,\n",
       " ' Revenue Per Share (Yuan ¥)': 3.2409444200029327,\n",
       " ' Operating Profit Per Share (Yuan ¥)': 2.3610500073324534,\n",
       " ' Per Share Net profit before tax (Yuan ¥)': 2.1850711247983576,\n",
       " ' Realized Sales Gross Profit Growth Rate': 6.5845431881507555,\n",
       " ' Operating Profit Growth Rate': 8.212347851591142,\n",
       " ' After-tax Net Profit Growth Rate': 9.414870215574132,\n",
       " ' Regular Net Profit Growth Rate': 9.590849098108228,\n",
       " ' Continuous Net Profit Growth Rate': 9.224226426162193,\n",
       " ' Total Asset Growth Rate': 0.0,\n",
       " ' Net Value Growth Rate': 4.707435107787066,\n",
       " ' Total Asset Return Growth Rate Ratio': 3.1089602581023614,\n",
       " ' Cash Reinvestment %': 2.9623111893239478,\n",
       " ' Current Ratio': 3.4755829300483945,\n",
       " ' Quick Ratio': 3.5782372781932836,\n",
       " ' Interest Expense Ratio': 8.40299164100308,\n",
       " ' Total debt/Total net worth': 2.21440093855404,\n",
       " ' Debt ratio %': 0.029329813755682648,\n",
       " ' Net worth/Assets': 0.029329813755682648,\n",
       " ' Long-term fund suitability ratio (A)': 6.349904678105293,\n",
       " ' Borrowing dependency': 1.9944273353864204,\n",
       " ' Contingent liabilities/Net worth': 4.590115852764335,\n",
       " ' Operating profit/Paid-in capital': 2.3170552866989294,\n",
       " ' Net profit before tax/Paid-in capital': 2.0384220560199444,\n",
       " ' Inventory and accounts receivable/Net value': 1.9944273353864204,\n",
       " ' Total Asset Turnover': 1.7304590115852763,\n",
       " ' Accounts Receivable Turnover': 5.2353717553893535,\n",
       " ' Average Collection Days': 1.0998680158380993,\n",
       " ' Inventory Turnover Rate (times)': 0.0,\n",
       " ' Fixed Assets Turnover Frequency': 10.61739257955712,\n",
       " ' Net Worth Turnover Rate (times)': 3.196949699369409,\n",
       " ' Revenue per person': 4.736764921542748,\n",
       " ' Operating profit per person': 5.294031382900719,\n",
       " ' Allocation rate per person': 4.546121132130811,\n",
       " ' Working Capital to Total Assets': 0.04399472063352398,\n",
       " ' Quick Assets/Total Assets': 0.0,\n",
       " ' Current Assets/Total Assets': 0.0,\n",
       " ' Cash/Total Assets': 2.2437307523097227,\n",
       " ' Quick Assets/Current Liability': 3.6222319988268072,\n",
       " ' Cash/Current Liability': 5.601994427335386,\n",
       " ' Current Liability to Assets': 0.10265434814488929,\n",
       " ' Operating Funds to Liability': 3.7835459744830624,\n",
       " ' Inventory/Working Capital': 7.420442880187711,\n",
       " ' Inventory/Current Liability': 2.9769760962017893,\n",
       " ' Current Liabilities/Liability': 0.0,\n",
       " ' Working Capital/Equity': 0.9385540401818447,\n",
       " ' Current Liabilities/Equity': 2.830327027423376,\n",
       " ' Long-term Liability to Current Assets': 4.575450945886494,\n",
       " ' Retained Earnings to Total Assets': 2.932981375568265,\n",
       " ' Total income/Total expense': 2.2290658454318817,\n",
       " ' Total expense/Assets': 2.1410764041648336,\n",
       " ' Current Asset Turnover Rate': 3.5635723713154417,\n",
       " ' Quick Asset Turnover Rate': 0.0,\n",
       " ' Working capitcal Turnover Rate': 3.6808916263381732,\n",
       " ' Cash Turnover Rate': 0.0,\n",
       " ' Cash Flow to Sales': 5.777973309869482,\n",
       " ' Fixed Assets to Assets': 0.014664906877841324,\n",
       " ' Current Liability to Liability': 0.0,\n",
       " ' Current Liability to Equity': 2.830327027423376,\n",
       " ' Equity to Long-term Liability': 2.3170552866989294,\n",
       " ' Cash Flow to Total Assets': 3.0503006305909954,\n",
       " ' Cash Flow to Liability': 7.068485115119519,\n",
       " ' CFO to Assets': 0.8945593195483209,\n",
       " ' Cash Flow to Equity': 2.888986654934741,\n",
       " ' Current Liability to Current Assets': 1.7744537322188003,\n",
       " ' Liability-Assets Flag': 0.11731925502273059,\n",
       " ' Net Income to Total Assets': 1.583809942806863,\n",
       " ' Total assets to GNP price': 6.599208095028597,\n",
       " ' No-credit Interval': 8.446986361636604,\n",
       " ' Gross Profit to Sales': 1.6864642909517522,\n",
       " \" Net Income to Stockholder's Equity\": 2.859656841179058,\n",
       " ' Liability to Equity': 2.1410764041648336,\n",
       " ' Degree of Financial Leverage (DFL)': 10.250769907611087,\n",
       " ' Interest Coverage Ratio (Interest expense to EBIT)': 8.549640709781494,\n",
       " ' Net Income Flag': 0.0,\n",
       " ' Equity to Liability': 2.9476462824461063}"
      ]
     },
     "execution_count": 174,
     "metadata": {},
     "output_type": "execute_result"
    }
   ],
   "source": [
    "# 이상치 탐지 함수\n",
    "def outlier_thresholds(dataframe, variable, low_quantile=0.15, up_quantile=0.85):\n",
    "    quantile_one = dataframe[variable].quantile(low_quantile)\n",
    "    quantile_three = dataframe[variable].quantile(up_quantile)\n",
    "    interquantile_range = quantile_three - quantile_one\n",
    "    up_limit = quantile_three + 1.5 * interquantile_range\n",
    "    low_limit = quantile_one - 1.5 * interquantile_range\n",
    "    return low_limit, up_limit\n",
    "\n",
    "# 각 열의 이상치 비율을 계산하는 함수\n",
    "def calculate_outlier_ratios(dataframe, low_quantile=0.15, up_quantile=0.85):\n",
    "    outlier_ratios = {}\n",
    "    \n",
    "    for column in dataframe.columns:\n",
    "        if pd.api.types.is_numeric_dtype(dataframe[column]):  # 숫자형 데이터만 처리\n",
    "            low_limit, up_limit = outlier_thresholds(dataframe, column, low_quantile, up_quantile)\n",
    "            # 이상치 조건\n",
    "            outliers = dataframe[(dataframe[column] < low_limit) | (dataframe[column] > up_limit)]\n",
    "            # 이상치 비율 계산\n",
    "            outlier_ratio = len(outliers) / len(dataframe) * 100  # 비율을 백분율로 변환\n",
    "            outlier_ratios[column] = outlier_ratio\n",
    "            \n",
    "    return outlier_ratios\n",
    "\n",
    "outlier_ratios = calculate_outlier_ratios(df)\n",
    "outlier_ratios"
   ]
  },
  {
   "cell_type": "markdown",
   "metadata": {},
   "source": [
    "## 4. Feature Engineering\n",
    "<a id=\"4\"></a>"
   ]
  },
  {
   "cell_type": "markdown",
   "metadata": {},
   "source": [
    "RandomForest를 사용하기 때문에 scaling을 진행하지 않았다."
   ]
  },
  {
   "cell_type": "code",
   "execution_count": 175,
   "metadata": {},
   "outputs": [
    {
     "name": "stdout",
     "output_type": "stream",
     "text": [
      "데이터의 고유한 값이 1개인 열 :   Net Income Flag\n"
     ]
    }
   ],
   "source": [
    "print(\"데이터의 고유한 값이 1개인 열 : \", df.columns[df.nunique() == 1][0])\n",
    "df.drop(df.columns[df.nunique() == 1][0],axis=1,inplace=True) "
   ]
  },
  {
   "cell_type": "code",
   "execution_count": 176,
   "metadata": {},
   "outputs": [],
   "source": [
    "X = df.drop('Bankrupt?',axis=1)\n",
    "y = df['Bankrupt?']"
   ]
  },
  {
   "cell_type": "markdown",
   "metadata": {},
   "source": [
    "#### 4.1 Resampling\n",
    "이전 kaggle 연습코드에서 `BorderlineSMOTE`를 사용하였을 때 가장 좋은 성능을 보인 것 같아 동일한 sampling기법을 사용."
   ]
  },
  {
   "attachments": {
    "image.png": {
     "image/png": "[encoded data removed]"
    }
   },
   "cell_type": "markdown",
   "metadata": {},
   "source": [
    "![image.png](attachment:image.png)"
   ]
  },
  {
   "cell_type": "markdown",
   "metadata": {},
   "source": [
    "우선 minority class의 데이터 중 임의로 하나를 선택하고 그 데이터에서 가장 가까운 majority의 개수가 k 개라면 처음에 선택한 임의의 한 점은 noise, <br>\n",
    "k개의 절반 이상이 majority라면 border point, 절반 미만이라면 safe 데이터로 분류한다. \n",
    "\n",
    "즉, 이 의미는 majority 가운데 minority가 있는지를 판별하는 것이다. \n",
    "\n",
    "noise, border, safe로 분류한 데이터 중에서 noise는 이미 분류하기 어려운 소수 데이터이므로 제외하고, safe는 이미 소수 데이터 끼리 잘 묶여있으므로 처리해줘야할 데이터는 border 뿐이다. \n",
    "\n",
    "​\n",
    "따라서 border point에 해당하는 데이터만 SMOTE를 진행해준다. "
   ]
  },
  {
   "cell_type": "code",
   "execution_count": 177,
   "metadata": {},
   "outputs": [
    {
     "name": "stdout",
     "output_type": "stream",
     "text": [
      "Final dimensions of target label classes: Counter({1: 6599, 0: 6599})\n"
     ]
    }
   ],
   "source": [
    "smote = BorderlineSMOTE()\n",
    "X, y = smote.fit_resample(X, y)\n",
    "print(\"Final dimensions of target label classes:\", Counter(y))"
   ]
  },
  {
   "cell_type": "code",
   "execution_count": 178,
   "metadata": {},
   "outputs": [],
   "source": [
    "X_train, X_test, y_train, y_test = train_test_split(X, y, test_size=0.20, random_state=42,stratify=y)"
   ]
  },
  {
   "cell_type": "code",
   "execution_count": 179,
   "metadata": {},
   "outputs": [
    {
     "data": {
      "text/plain": [
       "(10558, 2640)"
      ]
     },
     "execution_count": 179,
     "metadata": {},
     "output_type": "execute_result"
    }
   ],
   "source": [
    "len(X_train), len(X_test)"
   ]
  },
  {
   "cell_type": "markdown",
   "metadata": {},
   "source": [
    "## 5. Binary Classification\n",
    "<a id=\"4\"></a>"
   ]
  },
  {
   "cell_type": "markdown",
   "metadata": {},
   "source": [
    "### 5.1 RandomForest"
   ]
  },
  {
   "cell_type": "code",
   "execution_count": 180,
   "metadata": {},
   "outputs": [],
   "source": [
    "def get_test_scores(model_name: str, preds, y_true):\n",
    "    '''\n",
    "    Generate a table of test scores.\n",
    "\n",
    "    In:\n",
    "        model_name (string): 모델의 이름\n",
    "        preds: 예측값 배열\n",
    "        y_true: 실제 라벨 값 (numpy 배열)\n",
    "\n",
    "    Out:\n",
    "        table: pandas DataFrame 형태로 precision, recall, f1, accuracy 값을 반환\n",
    "    '''\n",
    "    accuracy  = accuracy_score(y_true, preds)\n",
    "    precision = precision_score(y_true, preds, average='macro')\n",
    "    recall    = recall_score(y_true, preds, average='macro')\n",
    "    f1        = f1_score(y_true, preds, average='macro')\n",
    "\n",
    "    table = pd.DataFrame({'model': [model_name], 'precision': [precision], 'recall': [recall],\n",
    "                          'F1': [f1], 'accuracy': [accuracy]})\n",
    "\n",
    "    return table "
   ]
  },
  {
   "cell_type": "markdown",
   "metadata": {},
   "source": [
    "- train data의 모형을 적합시키고, train data의 점수를 계산"
   ]
  },
  {
   "cell_type": "code",
   "execution_count": 181,
   "metadata": {},
   "outputs": [
    {
     "data": {
      "text/html": [
       "<div>\n",
       "<style scoped>\n",
       "    .dataframe tbody tr th:only-of-type {\n",
       "        vertical-align: middle;\n",
       "    }\n",
       "\n",
       "    .dataframe tbody tr th {\n",
       "        vertical-align: top;\n",
       "    }\n",
       "\n",
       "    .dataframe thead th {\n",
       "        text-align: right;\n",
       "    }\n",
       "</style>\n",
       "<table border=\"1\" class=\"dataframe\">\n",
       "  <thead>\n",
       "    <tr style=\"text-align: right;\">\n",
       "      <th></th>\n",
       "      <th>model</th>\n",
       "      <th>precision</th>\n",
       "      <th>recall</th>\n",
       "      <th>F1</th>\n",
       "      <th>accuracy</th>\n",
       "    </tr>\n",
       "  </thead>\n",
       "  <tbody>\n",
       "    <tr>\n",
       "      <th>0</th>\n",
       "      <td>RF (train, borderlinesmote)</td>\n",
       "      <td>1.0</td>\n",
       "      <td>1.0</td>\n",
       "      <td>1.0</td>\n",
       "      <td>1.0</td>\n",
       "    </tr>\n",
       "  </tbody>\n",
       "</table>\n",
       "</div>"
      ],
      "text/plain": [
       "                         model  precision  recall   F1  accuracy\n",
       "0  RF (train, borderlinesmote)        1.0     1.0  1.0       1.0"
      ]
     },
     "execution_count": 181,
     "metadata": {},
     "output_type": "execute_result"
    }
   ],
   "source": [
    "random_forest = RandomForestClassifier(class_weight='balanced')\n",
    "\n",
    "random_forest.fit(X_train,y_train)\n",
    "\n",
    "# Use the model to predict on train data\n",
    "rf_train_preds = random_forest.predict(X_train)\n",
    "\n",
    "rf_train_results = get_test_scores('RF (train, borderlinesmote)',rf_train_preds,y_train)\n",
    "rf_train_results"
   ]
  },
  {
   "cell_type": "markdown",
   "metadata": {},
   "source": [
    "- 그런 다음 test data의 점수를 계산"
   ]
  },
  {
   "cell_type": "code",
   "execution_count": 182,
   "metadata": {},
   "outputs": [
    {
     "data": {
      "text/html": [
       "<div>\n",
       "<style scoped>\n",
       "    .dataframe tbody tr th:only-of-type {\n",
       "        vertical-align: middle;\n",
       "    }\n",
       "\n",
       "    .dataframe tbody tr th {\n",
       "        vertical-align: top;\n",
       "    }\n",
       "\n",
       "    .dataframe thead th {\n",
       "        text-align: right;\n",
       "    }\n",
       "</style>\n",
       "<table border=\"1\" class=\"dataframe\">\n",
       "  <thead>\n",
       "    <tr style=\"text-align: right;\">\n",
       "      <th></th>\n",
       "      <th>model</th>\n",
       "      <th>precision</th>\n",
       "      <th>recall</th>\n",
       "      <th>F1</th>\n",
       "      <th>accuracy</th>\n",
       "    </tr>\n",
       "  </thead>\n",
       "  <tbody>\n",
       "    <tr>\n",
       "      <th>0</th>\n",
       "      <td>RF (test, borderlinesmote)</td>\n",
       "      <td>0.984983</td>\n",
       "      <td>0.984848</td>\n",
       "      <td>0.984847</td>\n",
       "      <td>0.984848</td>\n",
       "    </tr>\n",
       "  </tbody>\n",
       "</table>\n",
       "</div>"
      ],
      "text/plain": [
       "                        model  precision    recall        F1  accuracy\n",
       "0  RF (test, borderlinesmote)   0.984983  0.984848  0.984847  0.984848"
      ]
     },
     "execution_count": 182,
     "metadata": {},
     "output_type": "execute_result"
    }
   ],
   "source": [
    "# Use the model to predict on test data\n",
    "rf_test_preds = random_forest.predict(X_test)\n",
    "\n",
    "rf_test_results = get_test_scores('RF (test, borderlinesmote)',rf_test_preds,y_test)\n",
    "rf_test_results"
   ]
  },
  {
   "cell_type": "markdown",
   "metadata": {},
   "source": [
    "- GridSearchCV 수행"
   ]
  },
  {
   "cell_type": "code",
   "execution_count": 183,
   "metadata": {},
   "outputs": [],
   "source": [
    "# 1. Instantiate the random forest classifier\n",
    "rf = RandomForestClassifier(random_state=42)\n",
    "\n",
    "# 2. Create a dictionary of hyperparameters to tune\n",
    "cv_params = {'max_depth': [2,3,4,5,None],'max_features': [1.0],'max_samples': [1.0],\n",
    "             'min_samples_leaf': [2,3,4],'min_samples_split': [2,3,4],'n_estimators': [200,300,400]}\n",
    "\n",
    "# 3. Define a dictionary of scoring metrics to capture\n",
    "scoring = {\n",
    "    'accuracy': 'accuracy',\n",
    "    'precision': 'precision',\n",
    "    'recall': 'recall',\n",
    "    'f1': 'f1'\n",
    "}\n",
    "\n",
    "# 4. Instantiate the GridSearchCV object\n",
    "rf_cv = GridSearchCV(rf,cv_params,scoring=scoring,cv=4,refit='accuracy')"
   ]
  },
  {
   "cell_type": "code",
   "execution_count": 184,
   "metadata": {},
   "outputs": [],
   "source": [
    "#%%time\n",
    "#rf_cv.fit(X_train,y_train)"
   ]
  },
  {
   "attachments": {
    "image.png": {
     "image/png": "[encoded data removed]"
    }
   },
   "cell_type": "markdown",
   "metadata": {},
   "source": [
    "![image.png](attachment:image.png)\n",
    "\n",
    "190분 오바"
   ]
  },
  {
   "cell_type": "code",
   "execution_count": 185,
   "metadata": {},
   "outputs": [],
   "source": [
    "# Use the model to predict on test data\n",
    "#rf_grid_test_preds = rf_cv.best_estimator_.predict(X_test)\n",
    "\n",
    "#rf_grid_test_over_results = get_test_scores('RF Grid (test, borderlinesmote)',rf_grid_test_preds,y_test)\n",
    "\n",
    "#rf_grid_test_over_results "
   ]
  },
  {
   "cell_type": "markdown",
   "metadata": {},
   "source": [
    "- 변수중요도"
   ]
  },
  {
   "cell_type": "code",
   "execution_count": 186,
   "metadata": {},
   "outputs": [
    {
     "data": {
      "text/html": [
       "<div>\n",
       "<style scoped>\n",
       "    .dataframe tbody tr th:only-of-type {\n",
       "        vertical-align: middle;\n",
       "    }\n",
       "\n",
       "    .dataframe tbody tr th {\n",
       "        vertical-align: top;\n",
       "    }\n",
       "\n",
       "    .dataframe thead th {\n",
       "        text-align: right;\n",
       "    }\n",
       "</style>\n",
       "<table border=\"1\" class=\"dataframe\">\n",
       "  <thead>\n",
       "    <tr style=\"text-align: right;\">\n",
       "      <th></th>\n",
       "      <th>feature</th>\n",
       "      <th>importance</th>\n",
       "    </tr>\n",
       "  </thead>\n",
       "  <tbody>\n",
       "    <tr>\n",
       "      <th>9</th>\n",
       "      <td>Continuous interest rate (after tax)</td>\n",
       "      <td>0.084</td>\n",
       "    </tr>\n",
       "    <tr>\n",
       "      <th>85</th>\n",
       "      <td>Net Income to Total Assets</td>\n",
       "      <td>0.075</td>\n",
       "    </tr>\n",
       "    <tr>\n",
       "      <th>18</th>\n",
       "      <td>Persistent EPS in the Last Four Seasons</td>\n",
       "      <td>0.061</td>\n",
       "    </tr>\n",
       "    <tr>\n",
       "      <th>6</th>\n",
       "      <td>Pre-tax net Interest Rate</td>\n",
       "      <td>0.056</td>\n",
       "    </tr>\n",
       "    <tr>\n",
       "      <th>35</th>\n",
       "      <td>Total debt/Total net worth</td>\n",
       "      <td>0.049</td>\n",
       "    </tr>\n",
       "    <tr>\n",
       "      <th>67</th>\n",
       "      <td>Retained Earnings to Total Assets</td>\n",
       "      <td>0.049</td>\n",
       "    </tr>\n",
       "    <tr>\n",
       "      <th>22</th>\n",
       "      <td>Per Share Net profit before tax (Yuan ¥)</td>\n",
       "      <td>0.045</td>\n",
       "    </tr>\n",
       "    <tr>\n",
       "      <th>39</th>\n",
       "      <td>Borrowing dependency</td>\n",
       "      <td>0.035</td>\n",
       "    </tr>\n",
       "    <tr>\n",
       "      <th>90</th>\n",
       "      <td>Liability to Equity</td>\n",
       "      <td>0.025</td>\n",
       "    </tr>\n",
       "    <tr>\n",
       "      <th>0</th>\n",
       "      <td>ROA(C) before interest and depreciation befor...</td>\n",
       "      <td>0.024</td>\n",
       "    </tr>\n",
       "    <tr>\n",
       "      <th>36</th>\n",
       "      <td>Debt ratio %</td>\n",
       "      <td>0.022</td>\n",
       "    </tr>\n",
       "    <tr>\n",
       "      <th>7</th>\n",
       "      <td>After-tax net Interest Rate</td>\n",
       "      <td>0.021</td>\n",
       "    </tr>\n",
       "  </tbody>\n",
       "</table>\n",
       "</div>"
      ],
      "text/plain": [
       "                                              feature  importance\n",
       "9                Continuous interest rate (after tax)       0.084\n",
       "85                         Net Income to Total Assets       0.075\n",
       "18            Persistent EPS in the Last Four Seasons       0.061\n",
       "6                           Pre-tax net Interest Rate       0.056\n",
       "35                         Total debt/Total net worth       0.049\n",
       "67                  Retained Earnings to Total Assets       0.049\n",
       "22           Per Share Net profit before tax (Yuan ¥)       0.045\n",
       "39                               Borrowing dependency       0.035\n",
       "90                                Liability to Equity       0.025\n",
       "0    ROA(C) before interest and depreciation befor...       0.024\n",
       "36                                       Debt ratio %       0.022\n",
       "7                         After-tax net Interest Rate       0.021"
      ]
     },
     "execution_count": 186,
     "metadata": {},
     "output_type": "execute_result"
    }
   ],
   "source": [
    "# Random Forest Model\n",
    "importances = pd.DataFrame({'feature':X_train.columns,'importance':np.round(random_forest.feature_importances_,3)})\n",
    "importances = importances.sort_values('importance',ascending=False) \n",
    "\n",
    "importances\n",
    "importances[importances['importance'] > 0.02]"
   ]
  },
  {
   "cell_type": "markdown",
   "metadata": {},
   "source": [
    "- confusion matrix"
   ]
  },
  {
   "cell_type": "code",
   "execution_count": 187,
   "metadata": {},
   "outputs": [
    {
     "data": {
      "image/png": "[encoded data removed]",
      "text/plain": [
       "<Figure size 600x400 with 2 Axes>"
      ]
     },
     "metadata": {},
     "output_type": "display_data"
    }
   ],
   "source": [
    "cm_rf_test = confusion_matrix(y_test, rf_test_preds, labels=random_forest.classes_)\n",
    "\n",
    "fig, ax1 = plt.subplots(figsize=(6, 4))\n",
    "\n",
    "ax1 = sns.heatmap(cm_rf_test, annot=True, fmt='.4g')\n",
    "ax1.xaxis.set_ticklabels(['No Bankrupt', 'Bankrupt']) \n",
    "ax1.yaxis.set_ticklabels(['No Bankrupt', 'Bankrupt']) \n",
    "ax1.set_title('Random Forest (Test)', fontsize=18)\n",
    "\n",
    "fig.suptitle(\"Confusion Matrix of Random Forest Model (BorderlineSMOTE)\", fontsize=20) \n",
    "\n",
    "plt.tight_layout()\n",
    "fig.set_facecolor('darkgrey')\n",
    "plt.show()"
   ]
  },
  {
   "cell_type": "markdown",
   "metadata": {},
   "source": [
    "### 5.2. K Nearest Neighbours"
   ]
  },
  {
   "cell_type": "markdown",
   "metadata": {},
   "source": [
    "- train data의 모형을 적합시키고, train data의 점수를 계산"
   ]
  },
  {
   "cell_type": "code",
   "execution_count": 188,
   "metadata": {},
   "outputs": [
    {
     "data": {
      "text/html": [
       "<div>\n",
       "<style scoped>\n",
       "    .dataframe tbody tr th:only-of-type {\n",
       "        vertical-align: middle;\n",
       "    }\n",
       "\n",
       "    .dataframe tbody tr th {\n",
       "        vertical-align: top;\n",
       "    }\n",
       "\n",
       "    .dataframe thead th {\n",
       "        text-align: right;\n",
       "    }\n",
       "</style>\n",
       "<table border=\"1\" class=\"dataframe\">\n",
       "  <thead>\n",
       "    <tr style=\"text-align: right;\">\n",
       "      <th></th>\n",
       "      <th>model</th>\n",
       "      <th>precision</th>\n",
       "      <th>recall</th>\n",
       "      <th>F1</th>\n",
       "      <th>accuracy</th>\n",
       "    </tr>\n",
       "  </thead>\n",
       "  <tbody>\n",
       "    <tr>\n",
       "      <th>0</th>\n",
       "      <td>KNN (train, borderlinesmote)</td>\n",
       "      <td>0.995402</td>\n",
       "      <td>0.995359</td>\n",
       "      <td>0.995359</td>\n",
       "      <td>0.995359</td>\n",
       "    </tr>\n",
       "  </tbody>\n",
       "</table>\n",
       "</div>"
      ],
      "text/plain": [
       "                          model  precision    recall        F1  accuracy\n",
       "0  KNN (train, borderlinesmote)   0.995402  0.995359  0.995359  0.995359"
      ]
     },
     "execution_count": 188,
     "metadata": {},
     "output_type": "execute_result"
    }
   ],
   "source": [
    "KNN = KNeighborsClassifier(n_neighbors=2)\n",
    "\n",
    "KNN.fit(X_train,y_train)\n",
    "\n",
    "# Use the model to predict on train data\n",
    "KNN_train_preds = KNN.predict(X_train)\n",
    "\n",
    "KNN_train_results = get_test_scores('KNN (train, borderlinesmote)',KNN_train_preds,y_train)\n",
    "KNN_train_results"
   ]
  },
  {
   "cell_type": "markdown",
   "metadata": {},
   "source": [
    "- 그런 다음 test data의 점수를 계산"
   ]
  },
  {
   "cell_type": "code",
   "execution_count": 189,
   "metadata": {},
   "outputs": [
    {
     "data": {
      "text/html": [
       "<div>\n",
       "<style scoped>\n",
       "    .dataframe tbody tr th:only-of-type {\n",
       "        vertical-align: middle;\n",
       "    }\n",
       "\n",
       "    .dataframe tbody tr th {\n",
       "        vertical-align: top;\n",
       "    }\n",
       "\n",
       "    .dataframe thead th {\n",
       "        text-align: right;\n",
       "    }\n",
       "</style>\n",
       "<table border=\"1\" class=\"dataframe\">\n",
       "  <thead>\n",
       "    <tr style=\"text-align: right;\">\n",
       "      <th></th>\n",
       "      <th>model</th>\n",
       "      <th>precision</th>\n",
       "      <th>recall</th>\n",
       "      <th>F1</th>\n",
       "      <th>accuracy</th>\n",
       "    </tr>\n",
       "  </thead>\n",
       "  <tbody>\n",
       "    <tr>\n",
       "      <th>0</th>\n",
       "      <td>KNN (test, borderlinesmote)</td>\n",
       "      <td>0.9683</td>\n",
       "      <td>0.967803</td>\n",
       "      <td>0.967794</td>\n",
       "      <td>0.967803</td>\n",
       "    </tr>\n",
       "  </tbody>\n",
       "</table>\n",
       "</div>"
      ],
      "text/plain": [
       "                         model  precision    recall        F1  accuracy\n",
       "0  KNN (test, borderlinesmote)     0.9683  0.967803  0.967794  0.967803"
      ]
     },
     "execution_count": 189,
     "metadata": {},
     "output_type": "execute_result"
    }
   ],
   "source": [
    "# Use the model to predict on test data\n",
    "KNN_test_preds = KNN.predict(X_test)\n",
    "\n",
    "KNN_test_results = get_test_scores('KNN (test, borderlinesmote)',KNN_test_preds,y_test)\n",
    "KNN_test_results"
   ]
  },
  {
   "cell_type": "markdown",
   "metadata": {},
   "source": [
    "- confusion matrix"
   ]
  },
  {
   "cell_type": "code",
   "execution_count": 190,
   "metadata": {},
   "outputs": [
    {
     "data": {
      "image/png": "[encoded data removed]",
      "text/plain": [
       "<Figure size 600x400 with 2 Axes>"
      ]
     },
     "metadata": {},
     "output_type": "display_data"
    }
   ],
   "source": [
    "cm_KNN_test = confusion_matrix(y_test, KNN_test_preds, labels=KNN.classes_)\n",
    "\n",
    " \n",
    "fig, ax1 = plt.subplots(figsize=(6, 4))\n",
    "\n",
    "ax1 = sns.heatmap(cm_KNN_test, annot=True, fmt='.4g')\n",
    "ax1.xaxis.set_ticklabels(['No Bankrupt', 'Bankrupt']) \n",
    "ax1.yaxis.set_ticklabels(['No Bankrupt', 'Bankrupt']) \n",
    "ax1.set_title('KNeighborsClassifier (Test)', fontsize=18)\n",
    "\n",
    "fig.suptitle(\"Confusion Matrix of KNeighborsClassifier (BorderlineSMOTE)\", fontsize=20) \n",
    "\n",
    "plt.tight_layout()\n",
    "fig.set_facecolor('darkgrey')\n",
    "plt.show()"
   ]
  },
  {
   "cell_type": "markdown",
   "metadata": {},
   "source": [
    "### 5.3 XGBoost"
   ]
  },
  {
   "cell_type": "markdown",
   "metadata": {},
   "source": [
    "- train data의 모형을 적합시키고, train data의 점수를 계산"
   ]
  },
  {
   "cell_type": "code",
   "execution_count": 191,
   "metadata": {},
   "outputs": [
    {
     "data": {
      "text/html": [
       "<div>\n",
       "<style scoped>\n",
       "    .dataframe tbody tr th:only-of-type {\n",
       "        vertical-align: middle;\n",
       "    }\n",
       "\n",
       "    .dataframe tbody tr th {\n",
       "        vertical-align: top;\n",
       "    }\n",
       "\n",
       "    .dataframe thead th {\n",
       "        text-align: right;\n",
       "    }\n",
       "</style>\n",
       "<table border=\"1\" class=\"dataframe\">\n",
       "  <thead>\n",
       "    <tr style=\"text-align: right;\">\n",
       "      <th></th>\n",
       "      <th>model</th>\n",
       "      <th>precision</th>\n",
       "      <th>recall</th>\n",
       "      <th>F1</th>\n",
       "      <th>accuracy</th>\n",
       "    </tr>\n",
       "  </thead>\n",
       "  <tbody>\n",
       "    <tr>\n",
       "      <th>0</th>\n",
       "      <td>XGB (train, borderlinesmote)</td>\n",
       "      <td>1.0</td>\n",
       "      <td>1.0</td>\n",
       "      <td>1.0</td>\n",
       "      <td>1.0</td>\n",
       "    </tr>\n",
       "  </tbody>\n",
       "</table>\n",
       "</div>"
      ],
      "text/plain": [
       "                          model  precision  recall   F1  accuracy\n",
       "0  XGB (train, borderlinesmote)        1.0     1.0  1.0       1.0"
      ]
     },
     "execution_count": 191,
     "metadata": {},
     "output_type": "execute_result"
    }
   ],
   "source": [
    "xgb = XGBClassifier(objective='binary:logistic',random_state=42)\n",
    "\n",
    "xgb.fit(X_train,y_train)\n",
    "\n",
    "# Use the model to predict on train data\n",
    "xgb_train_preds = xgb.predict(X_train)\n",
    "\n",
    "xgb_train_results = get_test_scores('XGB (train, borderlinesmote)',xgb_train_preds,y_train)\n",
    "xgb_train_results"
   ]
  },
  {
   "cell_type": "markdown",
   "metadata": {},
   "source": [
    "- 그런 다음 test data의 점수를 계산"
   ]
  },
  {
   "cell_type": "code",
   "execution_count": 192,
   "metadata": {},
   "outputs": [
    {
     "data": {
      "text/html": [
       "<div>\n",
       "<style scoped>\n",
       "    .dataframe tbody tr th:only-of-type {\n",
       "        vertical-align: middle;\n",
       "    }\n",
       "\n",
       "    .dataframe tbody tr th {\n",
       "        vertical-align: top;\n",
       "    }\n",
       "\n",
       "    .dataframe thead th {\n",
       "        text-align: right;\n",
       "    }\n",
       "</style>\n",
       "<table border=\"1\" class=\"dataframe\">\n",
       "  <thead>\n",
       "    <tr style=\"text-align: right;\">\n",
       "      <th></th>\n",
       "      <th>model</th>\n",
       "      <th>precision</th>\n",
       "      <th>recall</th>\n",
       "      <th>F1</th>\n",
       "      <th>accuracy</th>\n",
       "    </tr>\n",
       "  </thead>\n",
       "  <tbody>\n",
       "    <tr>\n",
       "      <th>0</th>\n",
       "      <td>XGB (test, borderlinesmote)</td>\n",
       "      <td>0.987563</td>\n",
       "      <td>0.9875</td>\n",
       "      <td>0.9875</td>\n",
       "      <td>0.9875</td>\n",
       "    </tr>\n",
       "  </tbody>\n",
       "</table>\n",
       "</div>"
      ],
      "text/plain": [
       "                         model  precision  recall      F1  accuracy\n",
       "0  XGB (test, borderlinesmote)   0.987563  0.9875  0.9875    0.9875"
      ]
     },
     "execution_count": 192,
     "metadata": {},
     "output_type": "execute_result"
    }
   ],
   "source": [
    "# Use the model to predict on test data\n",
    "xgb_test_preds = xgb.predict(X_test)\n",
    "\n",
    "xgb_test_results = get_test_scores('XGB (test, borderlinesmote)',xgb_test_preds,y_test)\n",
    "xgb_test_results"
   ]
  },
  {
   "cell_type": "markdown",
   "metadata": {},
   "source": [
    "- confusion matrix"
   ]
  },
  {
   "cell_type": "code",
   "execution_count": 193,
   "metadata": {},
   "outputs": [
    {
     "data": {
      "image/png": "[encoded data removed]",
      "text/plain": [
       "<Figure size 600x400 with 2 Axes>"
      ]
     },
     "metadata": {},
     "output_type": "display_data"
    }
   ],
   "source": [
    "cm_xgb_test = confusion_matrix(y_test, xgb_test_preds, labels=xgb.classes_)\n",
    "\n",
    " \n",
    "fig, ax1 = plt.subplots(figsize=(6, 4))\n",
    "\n",
    "ax1 = sns.heatmap(cm_xgb_test, annot=True, fmt='.4g')\n",
    "ax1.xaxis.set_ticklabels(['No Bankrupt', 'Bankrupt']) \n",
    "ax1.yaxis.set_ticklabels(['No Bankrupt', 'Bankrupt']) \n",
    "ax1.set_title('XGBClassifier (Test)', fontsize=18)\n",
    "\n",
    "fig.suptitle(\"Confusion Matrix of XGBClassifier (BorderlineSMOTE)\", fontsize=20) \n",
    "\n",
    "plt.tight_layout()\n",
    "fig.set_facecolor('darkgrey')\n",
    "plt.show()"
   ]
  },
  {
   "cell_type": "code",
   "execution_count": 194,
   "metadata": {},
   "outputs": [
    {
     "data": {
      "text/html": [
       "<div>\n",
       "<style scoped>\n",
       "    .dataframe tbody tr th:only-of-type {\n",
       "        vertical-align: middle;\n",
       "    }\n",
       "\n",
       "    .dataframe tbody tr th {\n",
       "        vertical-align: top;\n",
       "    }\n",
       "\n",
       "    .dataframe thead th {\n",
       "        text-align: right;\n",
       "    }\n",
       "</style>\n",
       "<table border=\"1\" class=\"dataframe\">\n",
       "  <thead>\n",
       "    <tr style=\"text-align: right;\">\n",
       "      <th></th>\n",
       "      <th>model</th>\n",
       "      <th>precision</th>\n",
       "      <th>recall</th>\n",
       "      <th>F1</th>\n",
       "      <th>accuracy</th>\n",
       "    </tr>\n",
       "  </thead>\n",
       "  <tbody>\n",
       "    <tr>\n",
       "      <th>0</th>\n",
       "      <td>XGB (test, borderlinesmote)</td>\n",
       "      <td>0.987563</td>\n",
       "      <td>0.987500</td>\n",
       "      <td>0.987500</td>\n",
       "      <td>0.987500</td>\n",
       "    </tr>\n",
       "    <tr>\n",
       "      <th>0</th>\n",
       "      <td>RF (test, borderlinesmote)</td>\n",
       "      <td>0.984983</td>\n",
       "      <td>0.984848</td>\n",
       "      <td>0.984847</td>\n",
       "      <td>0.984848</td>\n",
       "    </tr>\n",
       "    <tr>\n",
       "      <th>0</th>\n",
       "      <td>KNN (test, borderlinesmote)</td>\n",
       "      <td>0.968300</td>\n",
       "      <td>0.967803</td>\n",
       "      <td>0.967794</td>\n",
       "      <td>0.967803</td>\n",
       "    </tr>\n",
       "  </tbody>\n",
       "</table>\n",
       "</div>"
      ],
      "text/plain": [
       "                         model  precision    recall        F1  accuracy\n",
       "0  XGB (test, borderlinesmote)   0.987563  0.987500  0.987500  0.987500\n",
       "0   RF (test, borderlinesmote)   0.984983  0.984848  0.984847  0.984848\n",
       "0  KNN (test, borderlinesmote)   0.968300  0.967803  0.967794  0.967803"
      ]
     },
     "execution_count": 194,
     "metadata": {},
     "output_type": "execute_result"
    }
   ],
   "source": [
    "results = pd.concat([rf_test_results,KNN_test_results,xgb_test_results],axis=0)\n",
    "\n",
    "results.sort_values(by=['accuracy'],ascending=False)"
   ]
  },
  {
   "cell_type": "markdown",
   "metadata": {},
   "source": [
    "BorderlineSMOTE를 사용했을 때 전처리를 진행하지 않아도 전반적으로 성능이 좋게 나온다"
   ]
  },
  {
   "cell_type": "code",
   "execution_count": 195,
   "metadata": {},
   "outputs": [
    {
     "name": "stderr",
     "output_type": "stream",
     "text": [
      "c:\\Users\\ldb76\\AppData\\Local\\Programs\\Python\\Python311\\Lib\\site-packages\\sklearn\\linear_model\\_logistic.py:469: ConvergenceWarning: lbfgs failed to converge (status=1):\n",
      "STOP: TOTAL NO. of ITERATIONS REACHED LIMIT.\n",
      "\n",
      "Increase the number of iterations (max_iter) or scale the data as shown in:\n",
      "    https://scikit-learn.org/stable/modules/preprocessing.html\n",
      "Please also refer to the documentation for alternative solver options:\n",
      "    https://scikit-learn.org/stable/modules/linear_model.html#logistic-regression\n",
      "  n_iter_i = _check_optimize_result(\n"
     ]
    },
    {
     "data": {
      "text/html": [
       "<div>\n",
       "<style scoped>\n",
       "    .dataframe tbody tr th:only-of-type {\n",
       "        vertical-align: middle;\n",
       "    }\n",
       "\n",
       "    .dataframe tbody tr th {\n",
       "        vertical-align: top;\n",
       "    }\n",
       "\n",
       "    .dataframe thead th {\n",
       "        text-align: right;\n",
       "    }\n",
       "</style>\n",
       "<table border=\"1\" class=\"dataframe\">\n",
       "  <thead>\n",
       "    <tr style=\"text-align: right;\">\n",
       "      <th></th>\n",
       "      <th>model</th>\n",
       "      <th>precision</th>\n",
       "      <th>recall</th>\n",
       "      <th>F1</th>\n",
       "      <th>accuracy</th>\n",
       "    </tr>\n",
       "  </thead>\n",
       "  <tbody>\n",
       "    <tr>\n",
       "      <th>0</th>\n",
       "      <td>LR (train, borderlinesmote)</td>\n",
       "      <td>0.688924</td>\n",
       "      <td>0.68441</td>\n",
       "      <td>0.682513</td>\n",
       "      <td>0.68441</td>\n",
       "    </tr>\n",
       "  </tbody>\n",
       "</table>\n",
       "</div>"
      ],
      "text/plain": [
       "                         model  precision   recall        F1  accuracy\n",
       "0  LR (train, borderlinesmote)   0.688924  0.68441  0.682513   0.68441"
      ]
     },
     "execution_count": 195,
     "metadata": {},
     "output_type": "execute_result"
    }
   ],
   "source": [
    "from sklearn.linear_model import LogisticRegression\n",
    "LR = LogisticRegression(random_state=42)\n",
    "\n",
    "LR.fit(X_train,y_train)\n",
    "\n",
    "# Use the model to predict on train data\n",
    "LR_train_preds = LR.predict(X_train)\n",
    "\n",
    "LR_train_results = get_test_scores('LR (train, borderlinesmote)',LR_train_preds,y_train)\n",
    "LR_train_results"
   ]
  },
  {
   "cell_type": "code",
   "execution_count": 196,
   "metadata": {},
   "outputs": [
    {
     "data": {
      "text/html": [
       "<div>\n",
       "<style scoped>\n",
       "    .dataframe tbody tr th:only-of-type {\n",
       "        vertical-align: middle;\n",
       "    }\n",
       "\n",
       "    .dataframe tbody tr th {\n",
       "        vertical-align: top;\n",
       "    }\n",
       "\n",
       "    .dataframe thead th {\n",
       "        text-align: right;\n",
       "    }\n",
       "</style>\n",
       "<table border=\"1\" class=\"dataframe\">\n",
       "  <thead>\n",
       "    <tr style=\"text-align: right;\">\n",
       "      <th></th>\n",
       "      <th>model</th>\n",
       "      <th>precision</th>\n",
       "      <th>recall</th>\n",
       "      <th>F1</th>\n",
       "      <th>accuracy</th>\n",
       "    </tr>\n",
       "  </thead>\n",
       "  <tbody>\n",
       "    <tr>\n",
       "      <th>0</th>\n",
       "      <td>LR (test, borderlinesmote)</td>\n",
       "      <td>0.69814</td>\n",
       "      <td>0.694697</td>\n",
       "      <td>0.693365</td>\n",
       "      <td>0.694697</td>\n",
       "    </tr>\n",
       "  </tbody>\n",
       "</table>\n",
       "</div>"
      ],
      "text/plain": [
       "                        model  precision    recall        F1  accuracy\n",
       "0  LR (test, borderlinesmote)    0.69814  0.694697  0.693365  0.694697"
      ]
     },
     "execution_count": 196,
     "metadata": {},
     "output_type": "execute_result"
    }
   ],
   "source": [
    "# Use the model to predict on test data\n",
    "LR_test_preds = LR.predict(X_test)\n",
    "\n",
    "LR_test_results = get_test_scores('LR (test, borderlinesmote)',LR_test_preds,y_test)\n",
    "LR_test_results   "
   ]
  },
  {
   "cell_type": "markdown",
   "metadata": {},
   "source": [
    "## 이상치 제거"
   ]
  },
  {
   "cell_type": "code",
   "execution_count": 197,
   "metadata": {},
   "outputs": [],
   "source": [
    "# Function for outliers capping\n",
    "def outlier_imputer(data,features):\n",
    "    \n",
    "    data_out = data.copy()\n",
    "    \n",
    "    for column in features:        \n",
    "        \n",
    "        # First define the first and third quartiles\n",
    "        Q1 = data_out[column].quantile(0.25)\n",
    "        Q3 = data_out[column].quantile(0.75)\n",
    "        # Define the inter-quartile range\n",
    "        IQR = Q3 - Q1\n",
    "        # ... and the lower/higher threshold values\n",
    "        lowerL = (Q1 - 1.5 * IQR)\n",
    "        higherL = (Q3 + 1.5 * IQR)\n",
    "        \n",
    "        # 각 열에서 하한을 벗어난 값은 하한으로, 상한을 벗어난 값은 상한으로 대체\n",
    "        # Impute 'left' outliers\n",
    "        data_out.loc[data_out[column] < lowerL,column] = lowerL\n",
    "        # Impute 'right' outliers\n",
    "        data_out.loc[data_out[column] > higherL,column] = higherL\n",
    "        \n",
    "    return data_out \n",
    "\n",
    "# Outliers capping is carried out on the float columns only\n",
    "df_in     = df.select_dtypes(include='float')\n",
    "features_in = df_in.columns\n",
    "\n",
    "capped_data = outlier_imputer(df_in,features_in)  "
   ]
  },
  {
   "cell_type": "code",
   "execution_count": 198,
   "metadata": {},
   "outputs": [
    {
     "data": {
      "text/html": [
       "<div>\n",
       "<style scoped>\n",
       "    .dataframe tbody tr th:only-of-type {\n",
       "        vertical-align: middle;\n",
       "    }\n",
       "\n",
       "    .dataframe tbody tr th {\n",
       "        vertical-align: top;\n",
       "    }\n",
       "\n",
       "    .dataframe thead th {\n",
       "        text-align: right;\n",
       "    }\n",
       "</style>\n",
       "<table border=\"1\" class=\"dataframe\">\n",
       "  <thead>\n",
       "    <tr style=\"text-align: right;\">\n",
       "      <th></th>\n",
       "      <th>ROA(C) before interest and depreciation before interest</th>\n",
       "      <th>ROA(A) before interest and % after tax</th>\n",
       "      <th>ROA(B) before interest and depreciation after tax</th>\n",
       "      <th>Operating Gross Margin</th>\n",
       "      <th>Realized Sales Gross Margin</th>\n",
       "      <th>Operating Profit Rate</th>\n",
       "      <th>Pre-tax net Interest Rate</th>\n",
       "      <th>After-tax net Interest Rate</th>\n",
       "      <th>Non-industry income and expenditure/revenue</th>\n",
       "      <th>Continuous interest rate (after tax)</th>\n",
       "      <th>...</th>\n",
       "      <th>Current Liability to Current Assets</th>\n",
       "      <th>Net Income to Total Assets</th>\n",
       "      <th>Total assets to GNP price</th>\n",
       "      <th>No-credit Interval</th>\n",
       "      <th>Gross Profit to Sales</th>\n",
       "      <th>Net Income to Stockholder's Equity</th>\n",
       "      <th>Liability to Equity</th>\n",
       "      <th>Degree of Financial Leverage (DFL)</th>\n",
       "      <th>Interest Coverage Ratio (Interest expense to EBIT)</th>\n",
       "      <th>Equity to Liability</th>\n",
       "    </tr>\n",
       "  </thead>\n",
       "  <tbody>\n",
       "    <tr>\n",
       "      <th>0</th>\n",
       "      <td>0.387973</td>\n",
       "      <td>0.455122</td>\n",
       "      <td>0.442034</td>\n",
       "      <td>0.601457</td>\n",
       "      <td>0.601457</td>\n",
       "      <td>0.998969</td>\n",
       "      <td>0.797096</td>\n",
       "      <td>0.809075</td>\n",
       "      <td>0.303288</td>\n",
       "      <td>0.781314</td>\n",
       "      <td>...</td>\n",
       "      <td>0.068886</td>\n",
       "      <td>0.752193</td>\n",
       "      <td>0.009219</td>\n",
       "      <td>0.622879</td>\n",
       "      <td>0.601453</td>\n",
       "      <td>0.836752</td>\n",
       "      <td>0.288207</td>\n",
       "      <td>0.026608</td>\n",
       "      <td>0.564309</td>\n",
       "      <td>0.016469</td>\n",
       "    </tr>\n",
       "    <tr>\n",
       "      <th>1</th>\n",
       "      <td>0.464291</td>\n",
       "      <td>0.538214</td>\n",
       "      <td>0.516730</td>\n",
       "      <td>0.610235</td>\n",
       "      <td>0.610235</td>\n",
       "      <td>0.998946</td>\n",
       "      <td>0.797380</td>\n",
       "      <td>0.809301</td>\n",
       "      <td>0.303556</td>\n",
       "      <td>0.781506</td>\n",
       "      <td>...</td>\n",
       "      <td>0.047775</td>\n",
       "      <td>0.795297</td>\n",
       "      <td>0.008323</td>\n",
       "      <td>0.623652</td>\n",
       "      <td>0.610237</td>\n",
       "      <td>0.839969</td>\n",
       "      <td>0.283846</td>\n",
       "      <td>0.027096</td>\n",
       "      <td>0.566574</td>\n",
       "      <td>0.020794</td>\n",
       "    </tr>\n",
       "    <tr>\n",
       "      <th>2</th>\n",
       "      <td>0.426071</td>\n",
       "      <td>0.499019</td>\n",
       "      <td>0.472295</td>\n",
       "      <td>0.601450</td>\n",
       "      <td>0.601364</td>\n",
       "      <td>0.998857</td>\n",
       "      <td>0.797096</td>\n",
       "      <td>0.809075</td>\n",
       "      <td>0.303288</td>\n",
       "      <td>0.781314</td>\n",
       "      <td>...</td>\n",
       "      <td>0.025346</td>\n",
       "      <td>0.774670</td>\n",
       "      <td>0.011819</td>\n",
       "      <td>0.623841</td>\n",
       "      <td>0.601449</td>\n",
       "      <td>0.836774</td>\n",
       "      <td>0.288207</td>\n",
       "      <td>0.026608</td>\n",
       "      <td>0.564309</td>\n",
       "      <td>0.016474</td>\n",
       "    </tr>\n",
       "    <tr>\n",
       "      <th>3</th>\n",
       "      <td>0.399844</td>\n",
       "      <td>0.455122</td>\n",
       "      <td>0.457733</td>\n",
       "      <td>0.583541</td>\n",
       "      <td>0.583541</td>\n",
       "      <td>0.998781</td>\n",
       "      <td>0.797096</td>\n",
       "      <td>0.809075</td>\n",
       "      <td>0.303350</td>\n",
       "      <td>0.781314</td>\n",
       "      <td>...</td>\n",
       "      <td>0.067250</td>\n",
       "      <td>0.752193</td>\n",
       "      <td>0.003252</td>\n",
       "      <td>0.622929</td>\n",
       "      <td>0.583538</td>\n",
       "      <td>0.836752</td>\n",
       "      <td>0.281721</td>\n",
       "      <td>0.026697</td>\n",
       "      <td>0.564663</td>\n",
       "      <td>0.023982</td>\n",
       "    </tr>\n",
       "    <tr>\n",
       "      <th>4</th>\n",
       "      <td>0.465022</td>\n",
       "      <td>0.538432</td>\n",
       "      <td>0.522298</td>\n",
       "      <td>0.598783</td>\n",
       "      <td>0.598783</td>\n",
       "      <td>0.998973</td>\n",
       "      <td>0.797366</td>\n",
       "      <td>0.809304</td>\n",
       "      <td>0.303475</td>\n",
       "      <td>0.781550</td>\n",
       "      <td>...</td>\n",
       "      <td>0.047725</td>\n",
       "      <td>0.795016</td>\n",
       "      <td>0.003878</td>\n",
       "      <td>0.623521</td>\n",
       "      <td>0.598782</td>\n",
       "      <td>0.839973</td>\n",
       "      <td>0.278514</td>\n",
       "      <td>0.026608</td>\n",
       "      <td>0.566574</td>\n",
       "      <td>0.035490</td>\n",
       "    </tr>\n",
       "    <tr>\n",
       "      <th>...</th>\n",
       "      <td>...</td>\n",
       "      <td>...</td>\n",
       "      <td>...</td>\n",
       "      <td>...</td>\n",
       "      <td>...</td>\n",
       "      <td>...</td>\n",
       "      <td>...</td>\n",
       "      <td>...</td>\n",
       "      <td>...</td>\n",
       "      <td>...</td>\n",
       "      <td>...</td>\n",
       "      <td>...</td>\n",
       "      <td>...</td>\n",
       "      <td>...</td>\n",
       "      <td>...</td>\n",
       "      <td>...</td>\n",
       "      <td>...</td>\n",
       "      <td>...</td>\n",
       "      <td>...</td>\n",
       "      <td>...</td>\n",
       "      <td>...</td>\n",
       "    </tr>\n",
       "    <tr>\n",
       "      <th>6814</th>\n",
       "      <td>0.493687</td>\n",
       "      <td>0.539468</td>\n",
       "      <td>0.543230</td>\n",
       "      <td>0.604455</td>\n",
       "      <td>0.604462</td>\n",
       "      <td>0.998992</td>\n",
       "      <td>0.797409</td>\n",
       "      <td>0.809331</td>\n",
       "      <td>0.303510</td>\n",
       "      <td>0.781588</td>\n",
       "      <td>...</td>\n",
       "      <td>0.027951</td>\n",
       "      <td>0.799927</td>\n",
       "      <td>0.000466</td>\n",
       "      <td>0.623620</td>\n",
       "      <td>0.604455</td>\n",
       "      <td>0.840359</td>\n",
       "      <td>0.279606</td>\n",
       "      <td>0.027064</td>\n",
       "      <td>0.566193</td>\n",
       "      <td>0.029890</td>\n",
       "    </tr>\n",
       "    <tr>\n",
       "      <th>6815</th>\n",
       "      <td>0.475162</td>\n",
       "      <td>0.538269</td>\n",
       "      <td>0.524172</td>\n",
       "      <td>0.598308</td>\n",
       "      <td>0.598308</td>\n",
       "      <td>0.998992</td>\n",
       "      <td>0.797414</td>\n",
       "      <td>0.809327</td>\n",
       "      <td>0.303520</td>\n",
       "      <td>0.781586</td>\n",
       "      <td>...</td>\n",
       "      <td>0.031470</td>\n",
       "      <td>0.799748</td>\n",
       "      <td>0.001959</td>\n",
       "      <td>0.623931</td>\n",
       "      <td>0.598306</td>\n",
       "      <td>0.840306</td>\n",
       "      <td>0.278132</td>\n",
       "      <td>0.027009</td>\n",
       "      <td>0.566018</td>\n",
       "      <td>0.038284</td>\n",
       "    </tr>\n",
       "    <tr>\n",
       "      <th>6816</th>\n",
       "      <td>0.472725</td>\n",
       "      <td>0.533744</td>\n",
       "      <td>0.520638</td>\n",
       "      <td>0.610444</td>\n",
       "      <td>0.610213</td>\n",
       "      <td>0.998984</td>\n",
       "      <td>0.797401</td>\n",
       "      <td>0.809317</td>\n",
       "      <td>0.303512</td>\n",
       "      <td>0.781546</td>\n",
       "      <td>...</td>\n",
       "      <td>0.007542</td>\n",
       "      <td>0.797778</td>\n",
       "      <td>0.002840</td>\n",
       "      <td>0.624156</td>\n",
       "      <td>0.610441</td>\n",
       "      <td>0.840138</td>\n",
       "      <td>0.275789</td>\n",
       "      <td>0.026791</td>\n",
       "      <td>0.565158</td>\n",
       "      <td>0.095380</td>\n",
       "    </tr>\n",
       "    <tr>\n",
       "      <th>6817</th>\n",
       "      <td>0.506264</td>\n",
       "      <td>0.559911</td>\n",
       "      <td>0.554045</td>\n",
       "      <td>0.607850</td>\n",
       "      <td>0.607850</td>\n",
       "      <td>0.999074</td>\n",
       "      <td>0.797500</td>\n",
       "      <td>0.809399</td>\n",
       "      <td>0.303498</td>\n",
       "      <td>0.781663</td>\n",
       "      <td>...</td>\n",
       "      <td>0.022916</td>\n",
       "      <td>0.811808</td>\n",
       "      <td>0.002837</td>\n",
       "      <td>0.623957</td>\n",
       "      <td>0.607846</td>\n",
       "      <td>0.841084</td>\n",
       "      <td>0.277547</td>\n",
       "      <td>0.026822</td>\n",
       "      <td>0.565302</td>\n",
       "      <td>0.044009</td>\n",
       "    </tr>\n",
       "    <tr>\n",
       "      <th>6818</th>\n",
       "      <td>0.493053</td>\n",
       "      <td>0.570105</td>\n",
       "      <td>0.549548</td>\n",
       "      <td>0.627409</td>\n",
       "      <td>0.627409</td>\n",
       "      <td>0.998781</td>\n",
       "      <td>0.797868</td>\n",
       "      <td>0.809706</td>\n",
       "      <td>0.303764</td>\n",
       "      <td>0.781988</td>\n",
       "      <td>...</td>\n",
       "      <td>0.005579</td>\n",
       "      <td>0.815956</td>\n",
       "      <td>0.000707</td>\n",
       "      <td>0.624966</td>\n",
       "      <td>0.627408</td>\n",
       "      <td>0.841019</td>\n",
       "      <td>0.275114</td>\n",
       "      <td>0.026793</td>\n",
       "      <td>0.565167</td>\n",
       "      <td>0.095380</td>\n",
       "    </tr>\n",
       "  </tbody>\n",
       "</table>\n",
       "<p>6819 rows × 93 columns</p>\n",
       "</div>"
      ],
      "text/plain": [
       "      ROA(C) before interest and depreciation before interest  \\\n",
       "0                                              0.387973         \n",
       "1                                              0.464291         \n",
       "2                                              0.426071         \n",
       "3                                              0.399844         \n",
       "4                                              0.465022         \n",
       "...                                                 ...         \n",
       "6814                                           0.493687         \n",
       "6815                                           0.475162         \n",
       "6816                                           0.472725         \n",
       "6817                                           0.506264         \n",
       "6818                                           0.493053         \n",
       "\n",
       "      ROA(A) before interest and % after tax  \\\n",
       "0                                   0.455122   \n",
       "1                                   0.538214   \n",
       "2                                   0.499019   \n",
       "3                                   0.455122   \n",
       "4                                   0.538432   \n",
       "...                                      ...   \n",
       "6814                                0.539468   \n",
       "6815                                0.538269   \n",
       "6816                                0.533744   \n",
       "6817                                0.559911   \n",
       "6818                                0.570105   \n",
       "\n",
       "      ROA(B) before interest and depreciation after tax  \\\n",
       "0                                              0.442034   \n",
       "1                                              0.516730   \n",
       "2                                              0.472295   \n",
       "3                                              0.457733   \n",
       "4                                              0.522298   \n",
       "...                                                 ...   \n",
       "6814                                           0.543230   \n",
       "6815                                           0.524172   \n",
       "6816                                           0.520638   \n",
       "6817                                           0.554045   \n",
       "6818                                           0.549548   \n",
       "\n",
       "      Operating Gross Margin  Realized Sales Gross Margin  \\\n",
       "0                   0.601457                     0.601457   \n",
       "1                   0.610235                     0.610235   \n",
       "2                   0.601450                     0.601364   \n",
       "3                   0.583541                     0.583541   \n",
       "4                   0.598783                     0.598783   \n",
       "...                      ...                          ...   \n",
       "6814                0.604455                     0.604462   \n",
       "6815                0.598308                     0.598308   \n",
       "6816                0.610444                     0.610213   \n",
       "6817                0.607850                     0.607850   \n",
       "6818                0.627409                     0.627409   \n",
       "\n",
       "      Operating Profit Rate  Pre-tax net Interest Rate  \\\n",
       "0                  0.998969                   0.797096   \n",
       "1                  0.998946                   0.797380   \n",
       "2                  0.998857                   0.797096   \n",
       "3                  0.998781                   0.797096   \n",
       "4                  0.998973                   0.797366   \n",
       "...                     ...                        ...   \n",
       "6814               0.998992                   0.797409   \n",
       "6815               0.998992                   0.797414   \n",
       "6816               0.998984                   0.797401   \n",
       "6817               0.999074                   0.797500   \n",
       "6818               0.998781                   0.797868   \n",
       "\n",
       "      After-tax net Interest Rate  \\\n",
       "0                        0.809075   \n",
       "1                        0.809301   \n",
       "2                        0.809075   \n",
       "3                        0.809075   \n",
       "4                        0.809304   \n",
       "...                           ...   \n",
       "6814                     0.809331   \n",
       "6815                     0.809327   \n",
       "6816                     0.809317   \n",
       "6817                     0.809399   \n",
       "6818                     0.809706   \n",
       "\n",
       "      Non-industry income and expenditure/revenue  \\\n",
       "0                                        0.303288   \n",
       "1                                        0.303556   \n",
       "2                                        0.303288   \n",
       "3                                        0.303350   \n",
       "4                                        0.303475   \n",
       "...                                           ...   \n",
       "6814                                     0.303510   \n",
       "6815                                     0.303520   \n",
       "6816                                     0.303512   \n",
       "6817                                     0.303498   \n",
       "6818                                     0.303764   \n",
       "\n",
       "      Continuous interest rate (after tax)  ...  \\\n",
       "0                                 0.781314  ...   \n",
       "1                                 0.781506  ...   \n",
       "2                                 0.781314  ...   \n",
       "3                                 0.781314  ...   \n",
       "4                                 0.781550  ...   \n",
       "...                                    ...  ...   \n",
       "6814                              0.781588  ...   \n",
       "6815                              0.781586  ...   \n",
       "6816                              0.781546  ...   \n",
       "6817                              0.781663  ...   \n",
       "6818                              0.781988  ...   \n",
       "\n",
       "      Current Liability to Current Assets  Net Income to Total Assets  \\\n",
       "0                                0.068886                    0.752193   \n",
       "1                                0.047775                    0.795297   \n",
       "2                                0.025346                    0.774670   \n",
       "3                                0.067250                    0.752193   \n",
       "4                                0.047725                    0.795016   \n",
       "...                                   ...                         ...   \n",
       "6814                             0.027951                    0.799927   \n",
       "6815                             0.031470                    0.799748   \n",
       "6816                             0.007542                    0.797778   \n",
       "6817                             0.022916                    0.811808   \n",
       "6818                             0.005579                    0.815956   \n",
       "\n",
       "      Total assets to GNP price  No-credit Interval  Gross Profit to Sales  \\\n",
       "0                      0.009219            0.622879               0.601453   \n",
       "1                      0.008323            0.623652               0.610237   \n",
       "2                      0.011819            0.623841               0.601449   \n",
       "3                      0.003252            0.622929               0.583538   \n",
       "4                      0.003878            0.623521               0.598782   \n",
       "...                         ...                 ...                    ...   \n",
       "6814                   0.000466            0.623620               0.604455   \n",
       "6815                   0.001959            0.623931               0.598306   \n",
       "6816                   0.002840            0.624156               0.610441   \n",
       "6817                   0.002837            0.623957               0.607846   \n",
       "6818                   0.000707            0.624966               0.627408   \n",
       "\n",
       "      Net Income to Stockholder's Equity  Liability to Equity  \\\n",
       "0                               0.836752             0.288207   \n",
       "1                               0.839969             0.283846   \n",
       "2                               0.836774             0.288207   \n",
       "3                               0.836752             0.281721   \n",
       "4                               0.839973             0.278514   \n",
       "...                                  ...                  ...   \n",
       "6814                            0.840359             0.279606   \n",
       "6815                            0.840306             0.278132   \n",
       "6816                            0.840138             0.275789   \n",
       "6817                            0.841084             0.277547   \n",
       "6818                            0.841019             0.275114   \n",
       "\n",
       "      Degree of Financial Leverage (DFL)  \\\n",
       "0                               0.026608   \n",
       "1                               0.027096   \n",
       "2                               0.026608   \n",
       "3                               0.026697   \n",
       "4                               0.026608   \n",
       "...                                  ...   \n",
       "6814                            0.027064   \n",
       "6815                            0.027009   \n",
       "6816                            0.026791   \n",
       "6817                            0.026822   \n",
       "6818                            0.026793   \n",
       "\n",
       "      Interest Coverage Ratio (Interest expense to EBIT)  Equity to Liability  \n",
       "0                                              0.564309              0.016469  \n",
       "1                                              0.566574              0.020794  \n",
       "2                                              0.564309              0.016474  \n",
       "3                                              0.564663              0.023982  \n",
       "4                                              0.566574              0.035490  \n",
       "...                                                 ...                   ...  \n",
       "6814                                           0.566193              0.029890  \n",
       "6815                                           0.566018              0.038284  \n",
       "6816                                           0.565158              0.095380  \n",
       "6817                                           0.565302              0.044009  \n",
       "6818                                           0.565167              0.095380  \n",
       "\n",
       "[6819 rows x 93 columns]"
      ]
     },
     "execution_count": 198,
     "metadata": {},
     "output_type": "execute_result"
    }
   ],
   "source": [
    "capped_data"
   ]
  },
  {
   "cell_type": "code",
   "execution_count": 199,
   "metadata": {},
   "outputs": [
    {
     "data": {
      "text/html": [
       "<div>\n",
       "<style scoped>\n",
       "    .dataframe tbody tr th:only-of-type {\n",
       "        vertical-align: middle;\n",
       "    }\n",
       "\n",
       "    .dataframe tbody tr th {\n",
       "        vertical-align: top;\n",
       "    }\n",
       "\n",
       "    .dataframe thead th {\n",
       "        text-align: right;\n",
       "    }\n",
       "</style>\n",
       "<table border=\"1\" class=\"dataframe\">\n",
       "  <thead>\n",
       "    <tr style=\"text-align: right;\">\n",
       "      <th></th>\n",
       "      <th>ROA(C) before interest and depreciation before interest</th>\n",
       "      <th>ROA(A) before interest and % after tax</th>\n",
       "      <th>ROA(B) before interest and depreciation after tax</th>\n",
       "      <th>Operating Gross Margin</th>\n",
       "      <th>Realized Sales Gross Margin</th>\n",
       "      <th>Operating Profit Rate</th>\n",
       "      <th>Pre-tax net Interest Rate</th>\n",
       "      <th>After-tax net Interest Rate</th>\n",
       "      <th>Non-industry income and expenditure/revenue</th>\n",
       "      <th>Continuous interest rate (after tax)</th>\n",
       "      <th>...</th>\n",
       "      <th>Total assets to GNP price</th>\n",
       "      <th>No-credit Interval</th>\n",
       "      <th>Gross Profit to Sales</th>\n",
       "      <th>Net Income to Stockholder's Equity</th>\n",
       "      <th>Liability to Equity</th>\n",
       "      <th>Degree of Financial Leverage (DFL)</th>\n",
       "      <th>Interest Coverage Ratio (Interest expense to EBIT)</th>\n",
       "      <th>Equity to Liability</th>\n",
       "      <th>Bankrupt?</th>\n",
       "      <th>Liability-Assets Flag</th>\n",
       "    </tr>\n",
       "  </thead>\n",
       "  <tbody>\n",
       "    <tr>\n",
       "      <th>0</th>\n",
       "      <td>0.387973</td>\n",
       "      <td>0.455122</td>\n",
       "      <td>0.442034</td>\n",
       "      <td>0.601457</td>\n",
       "      <td>0.601457</td>\n",
       "      <td>0.998969</td>\n",
       "      <td>0.797096</td>\n",
       "      <td>0.809075</td>\n",
       "      <td>0.303288</td>\n",
       "      <td>0.781314</td>\n",
       "      <td>...</td>\n",
       "      <td>0.009219</td>\n",
       "      <td>0.622879</td>\n",
       "      <td>0.601453</td>\n",
       "      <td>0.836752</td>\n",
       "      <td>0.288207</td>\n",
       "      <td>0.026608</td>\n",
       "      <td>0.564309</td>\n",
       "      <td>0.016469</td>\n",
       "      <td>1</td>\n",
       "      <td>0</td>\n",
       "    </tr>\n",
       "    <tr>\n",
       "      <th>1</th>\n",
       "      <td>0.464291</td>\n",
       "      <td>0.538214</td>\n",
       "      <td>0.516730</td>\n",
       "      <td>0.610235</td>\n",
       "      <td>0.610235</td>\n",
       "      <td>0.998946</td>\n",
       "      <td>0.797380</td>\n",
       "      <td>0.809301</td>\n",
       "      <td>0.303556</td>\n",
       "      <td>0.781506</td>\n",
       "      <td>...</td>\n",
       "      <td>0.008323</td>\n",
       "      <td>0.623652</td>\n",
       "      <td>0.610237</td>\n",
       "      <td>0.839969</td>\n",
       "      <td>0.283846</td>\n",
       "      <td>0.027096</td>\n",
       "      <td>0.566574</td>\n",
       "      <td>0.020794</td>\n",
       "      <td>1</td>\n",
       "      <td>0</td>\n",
       "    </tr>\n",
       "    <tr>\n",
       "      <th>2</th>\n",
       "      <td>0.426071</td>\n",
       "      <td>0.499019</td>\n",
       "      <td>0.472295</td>\n",
       "      <td>0.601450</td>\n",
       "      <td>0.601364</td>\n",
       "      <td>0.998857</td>\n",
       "      <td>0.797096</td>\n",
       "      <td>0.809075</td>\n",
       "      <td>0.303288</td>\n",
       "      <td>0.781314</td>\n",
       "      <td>...</td>\n",
       "      <td>0.011819</td>\n",
       "      <td>0.623841</td>\n",
       "      <td>0.601449</td>\n",
       "      <td>0.836774</td>\n",
       "      <td>0.288207</td>\n",
       "      <td>0.026608</td>\n",
       "      <td>0.564309</td>\n",
       "      <td>0.016474</td>\n",
       "      <td>1</td>\n",
       "      <td>0</td>\n",
       "    </tr>\n",
       "    <tr>\n",
       "      <th>3</th>\n",
       "      <td>0.399844</td>\n",
       "      <td>0.455122</td>\n",
       "      <td>0.457733</td>\n",
       "      <td>0.583541</td>\n",
       "      <td>0.583541</td>\n",
       "      <td>0.998781</td>\n",
       "      <td>0.797096</td>\n",
       "      <td>0.809075</td>\n",
       "      <td>0.303350</td>\n",
       "      <td>0.781314</td>\n",
       "      <td>...</td>\n",
       "      <td>0.003252</td>\n",
       "      <td>0.622929</td>\n",
       "      <td>0.583538</td>\n",
       "      <td>0.836752</td>\n",
       "      <td>0.281721</td>\n",
       "      <td>0.026697</td>\n",
       "      <td>0.564663</td>\n",
       "      <td>0.023982</td>\n",
       "      <td>1</td>\n",
       "      <td>0</td>\n",
       "    </tr>\n",
       "    <tr>\n",
       "      <th>4</th>\n",
       "      <td>0.465022</td>\n",
       "      <td>0.538432</td>\n",
       "      <td>0.522298</td>\n",
       "      <td>0.598783</td>\n",
       "      <td>0.598783</td>\n",
       "      <td>0.998973</td>\n",
       "      <td>0.797366</td>\n",
       "      <td>0.809304</td>\n",
       "      <td>0.303475</td>\n",
       "      <td>0.781550</td>\n",
       "      <td>...</td>\n",
       "      <td>0.003878</td>\n",
       "      <td>0.623521</td>\n",
       "      <td>0.598782</td>\n",
       "      <td>0.839973</td>\n",
       "      <td>0.278514</td>\n",
       "      <td>0.026608</td>\n",
       "      <td>0.566574</td>\n",
       "      <td>0.035490</td>\n",
       "      <td>1</td>\n",
       "      <td>0</td>\n",
       "    </tr>\n",
       "  </tbody>\n",
       "</table>\n",
       "<p>5 rows × 95 columns</p>\n",
       "</div>"
      ],
      "text/plain": [
       "    ROA(C) before interest and depreciation before interest  \\\n",
       "0                                           0.387973          \n",
       "1                                           0.464291          \n",
       "2                                           0.426071          \n",
       "3                                           0.399844          \n",
       "4                                           0.465022          \n",
       "\n",
       "    ROA(A) before interest and % after tax  \\\n",
       "0                                 0.455122   \n",
       "1                                 0.538214   \n",
       "2                                 0.499019   \n",
       "3                                 0.455122   \n",
       "4                                 0.538432   \n",
       "\n",
       "    ROA(B) before interest and depreciation after tax  \\\n",
       "0                                           0.442034    \n",
       "1                                           0.516730    \n",
       "2                                           0.472295    \n",
       "3                                           0.457733    \n",
       "4                                           0.522298    \n",
       "\n",
       "    Operating Gross Margin   Realized Sales Gross Margin  \\\n",
       "0                 0.601457                      0.601457   \n",
       "1                 0.610235                      0.610235   \n",
       "2                 0.601450                      0.601364   \n",
       "3                 0.583541                      0.583541   \n",
       "4                 0.598783                      0.598783   \n",
       "\n",
       "    Operating Profit Rate   Pre-tax net Interest Rate  \\\n",
       "0                0.998969                    0.797096   \n",
       "1                0.998946                    0.797380   \n",
       "2                0.998857                    0.797096   \n",
       "3                0.998781                    0.797096   \n",
       "4                0.998973                    0.797366   \n",
       "\n",
       "    After-tax net Interest Rate   Non-industry income and expenditure/revenue  \\\n",
       "0                      0.809075                                      0.303288   \n",
       "1                      0.809301                                      0.303556   \n",
       "2                      0.809075                                      0.303288   \n",
       "3                      0.809075                                      0.303350   \n",
       "4                      0.809304                                      0.303475   \n",
       "\n",
       "    Continuous interest rate (after tax)  ...   Total assets to GNP price  \\\n",
       "0                               0.781314  ...                    0.009219   \n",
       "1                               0.781506  ...                    0.008323   \n",
       "2                               0.781314  ...                    0.011819   \n",
       "3                               0.781314  ...                    0.003252   \n",
       "4                               0.781550  ...                    0.003878   \n",
       "\n",
       "    No-credit Interval   Gross Profit to Sales  \\\n",
       "0             0.622879                0.601453   \n",
       "1             0.623652                0.610237   \n",
       "2             0.623841                0.601449   \n",
       "3             0.622929                0.583538   \n",
       "4             0.623521                0.598782   \n",
       "\n",
       "    Net Income to Stockholder's Equity   Liability to Equity  \\\n",
       "0                             0.836752              0.288207   \n",
       "1                             0.839969              0.283846   \n",
       "2                             0.836774              0.288207   \n",
       "3                             0.836752              0.281721   \n",
       "4                             0.839973              0.278514   \n",
       "\n",
       "    Degree of Financial Leverage (DFL)  \\\n",
       "0                             0.026608   \n",
       "1                             0.027096   \n",
       "2                             0.026608   \n",
       "3                             0.026697   \n",
       "4                             0.026608   \n",
       "\n",
       "    Interest Coverage Ratio (Interest expense to EBIT)   Equity to Liability  \\\n",
       "0                                           0.564309                0.016469   \n",
       "1                                           0.566574                0.020794   \n",
       "2                                           0.564309                0.016474   \n",
       "3                                           0.564663                0.023982   \n",
       "4                                           0.566574                0.035490   \n",
       "\n",
       "   Bankrupt?   Liability-Assets Flag  \n",
       "0          1                       0  \n",
       "1          1                       0  \n",
       "2          1                       0  \n",
       "3          1                       0  \n",
       "4          1                       0  \n",
       "\n",
       "[5 rows x 95 columns]"
      ]
     },
     "execution_count": 199,
     "metadata": {},
     "output_type": "execute_result"
    }
   ],
   "source": [
    "# 캡션된 데이터 세트에 정수형 열이 연결됩니다\n",
    "df_int = df.select_dtypes(include='int')\n",
    "\n",
    "df2 = pd.concat([capped_data,df_int],axis=1)\n",
    "\n",
    "df2.head()"
   ]
  },
  {
   "cell_type": "code",
   "execution_count": 200,
   "metadata": {},
   "outputs": [],
   "source": [
    "X = df2.drop('Bankrupt?',axis=1)\n",
    "y = df2['Bankrupt?']"
   ]
  },
  {
   "cell_type": "code",
   "execution_count": 201,
   "metadata": {},
   "outputs": [
    {
     "name": "stdout",
     "output_type": "stream",
     "text": [
      "Final dimensions of target label classes: Counter({1: 6599, 0: 6599})\n"
     ]
    }
   ],
   "source": [
    "smote = BorderlineSMOTE()\n",
    "X, y = smote.fit_resample(X, y)\n",
    "print(\"Final dimensions of target label classes:\", Counter(y))"
   ]
  },
  {
   "cell_type": "code",
   "execution_count": 202,
   "metadata": {},
   "outputs": [],
   "source": [
    "X_train, X_test, y_train, y_test = train_test_split(X, y, test_size=0.20, random_state=42,stratify=y)"
   ]
  },
  {
   "cell_type": "code",
   "execution_count": 203,
   "metadata": {},
   "outputs": [
    {
     "data": {
      "text/plain": [
       "(10558, 2640)"
      ]
     },
     "execution_count": 203,
     "metadata": {},
     "output_type": "execute_result"
    }
   ],
   "source": [
    "len(X_train), len(X_test)"
   ]
  },
  {
   "cell_type": "markdown",
   "metadata": {},
   "source": [
    "### 5.1 RandomForest"
   ]
  },
  {
   "cell_type": "code",
   "execution_count": 204,
   "metadata": {},
   "outputs": [],
   "source": [
    "def get_test_scores(model_name: str, preds, y_true):\n",
    "    '''\n",
    "    Generate a table of test scores.\n",
    "\n",
    "    In:\n",
    "        model_name (string): 모델의 이름\n",
    "        preds: 예측값 배열\n",
    "        y_true: 실제 라벨 값 (numpy 배열)\n",
    "\n",
    "    Out:\n",
    "        table: pandas DataFrame 형태로 precision, recall, f1, accuracy 값을 반환\n",
    "    '''\n",
    "    accuracy  = accuracy_score(y_true, preds)\n",
    "    precision = precision_score(y_true, preds, average='macro')\n",
    "    recall    = recall_score(y_true, preds, average='macro')\n",
    "    f1        = f1_score(y_true, preds, average='macro')\n",
    "\n",
    "    table = pd.DataFrame({'model': [model_name], 'precision': [precision], 'recall': [recall],\n",
    "                          'F1': [f1], 'accuracy': [accuracy]})\n",
    "\n",
    "    return table "
   ]
  },
  {
   "cell_type": "markdown",
   "metadata": {},
   "source": [
    "- train data의 모형을 적합시키고, train data의 점수를 계산"
   ]
  },
  {
   "cell_type": "code",
   "execution_count": 205,
   "metadata": {},
   "outputs": [
    {
     "data": {
      "text/html": [
       "<div>\n",
       "<style scoped>\n",
       "    .dataframe tbody tr th:only-of-type {\n",
       "        vertical-align: middle;\n",
       "    }\n",
       "\n",
       "    .dataframe tbody tr th {\n",
       "        vertical-align: top;\n",
       "    }\n",
       "\n",
       "    .dataframe thead th {\n",
       "        text-align: right;\n",
       "    }\n",
       "</style>\n",
       "<table border=\"1\" class=\"dataframe\">\n",
       "  <thead>\n",
       "    <tr style=\"text-align: right;\">\n",
       "      <th></th>\n",
       "      <th>model</th>\n",
       "      <th>precision</th>\n",
       "      <th>recall</th>\n",
       "      <th>F1</th>\n",
       "      <th>accuracy</th>\n",
       "    </tr>\n",
       "  </thead>\n",
       "  <tbody>\n",
       "    <tr>\n",
       "      <th>0</th>\n",
       "      <td>RF (train, borderlinesmote)</td>\n",
       "      <td>1.0</td>\n",
       "      <td>1.0</td>\n",
       "      <td>1.0</td>\n",
       "      <td>1.0</td>\n",
       "    </tr>\n",
       "  </tbody>\n",
       "</table>\n",
       "</div>"
      ],
      "text/plain": [
       "                         model  precision  recall   F1  accuracy\n",
       "0  RF (train, borderlinesmote)        1.0     1.0  1.0       1.0"
      ]
     },
     "execution_count": 205,
     "metadata": {},
     "output_type": "execute_result"
    }
   ],
   "source": [
    "random_forest = RandomForestClassifier(class_weight='balanced')\n",
    "\n",
    "random_forest.fit(X_train,y_train)\n",
    "\n",
    "# Use the model to predict on train data\n",
    "rf_train_preds = random_forest.predict(X_train)\n",
    "\n",
    "rf_train_results2 = get_test_scores('RF (train, borderlinesmote)',rf_train_preds,y_train)\n",
    "rf_train_results2"
   ]
  },
  {
   "cell_type": "markdown",
   "metadata": {},
   "source": [
    "- 그런 다음 test data의 점수를 계산"
   ]
  },
  {
   "cell_type": "code",
   "execution_count": 206,
   "metadata": {},
   "outputs": [
    {
     "data": {
      "text/html": [
       "<div>\n",
       "<style scoped>\n",
       "    .dataframe tbody tr th:only-of-type {\n",
       "        vertical-align: middle;\n",
       "    }\n",
       "\n",
       "    .dataframe tbody tr th {\n",
       "        vertical-align: top;\n",
       "    }\n",
       "\n",
       "    .dataframe thead th {\n",
       "        text-align: right;\n",
       "    }\n",
       "</style>\n",
       "<table border=\"1\" class=\"dataframe\">\n",
       "  <thead>\n",
       "    <tr style=\"text-align: right;\">\n",
       "      <th></th>\n",
       "      <th>model</th>\n",
       "      <th>precision</th>\n",
       "      <th>recall</th>\n",
       "      <th>F1</th>\n",
       "      <th>accuracy</th>\n",
       "    </tr>\n",
       "  </thead>\n",
       "  <tbody>\n",
       "    <tr>\n",
       "      <th>0</th>\n",
       "      <td>RF (test, borderlinesmote)</td>\n",
       "      <td>0.984483</td>\n",
       "      <td>0.98447</td>\n",
       "      <td>0.98447</td>\n",
       "      <td>0.98447</td>\n",
       "    </tr>\n",
       "  </tbody>\n",
       "</table>\n",
       "</div>"
      ],
      "text/plain": [
       "                        model  precision   recall       F1  accuracy\n",
       "0  RF (test, borderlinesmote)   0.984483  0.98447  0.98447   0.98447"
      ]
     },
     "execution_count": 206,
     "metadata": {},
     "output_type": "execute_result"
    }
   ],
   "source": [
    "# Use the model to predict on test data\n",
    "rf_test_preds = random_forest.predict(X_test)\n",
    "\n",
    "rf_test_results2 = get_test_scores('RF (test, borderlinesmote)',rf_test_preds,y_test)\n",
    "rf_test_results2"
   ]
  },
  {
   "cell_type": "markdown",
   "metadata": {},
   "source": [
    "- confusion matrix"
   ]
  },
  {
   "cell_type": "code",
   "execution_count": 207,
   "metadata": {},
   "outputs": [
    {
     "data": {
      "image/png": "[encoded data removed]",
      "text/plain": [
       "<Figure size 600x400 with 2 Axes>"
      ]
     },
     "metadata": {},
     "output_type": "display_data"
    }
   ],
   "source": [
    "cm_rf_test = confusion_matrix(y_test, rf_test_preds, labels=random_forest.classes_)\n",
    "\n",
    "fig, ax1 = plt.subplots(figsize=(6, 4))\n",
    "\n",
    "ax1 = sns.heatmap(cm_rf_test, annot=True, fmt='.4g')\n",
    "ax1.xaxis.set_ticklabels(['No Bankrupt', 'Bankrupt']) \n",
    "ax1.yaxis.set_ticklabels(['No Bankrupt', 'Bankrupt']) \n",
    "ax1.set_title('Random Forest (Test)', fontsize=18)\n",
    "\n",
    "fig.suptitle(\"Confusion Matrix of Random Forest Model (BorderlineSMOTE)\", fontsize=20) \n",
    "\n",
    "plt.tight_layout()\n",
    "fig.set_facecolor('darkgrey')\n",
    "plt.show()"
   ]
  },
  {
   "cell_type": "markdown",
   "metadata": {},
   "source": [
    "### 5.2. K Nearest Neighbours"
   ]
  },
  {
   "cell_type": "markdown",
   "metadata": {},
   "source": [
    "- train data의 모형을 적합시키고, train data의 점수를 계산"
   ]
  },
  {
   "cell_type": "code",
   "execution_count": 208,
   "metadata": {},
   "outputs": [
    {
     "data": {
      "text/html": [
       "<div>\n",
       "<style scoped>\n",
       "    .dataframe tbody tr th:only-of-type {\n",
       "        vertical-align: middle;\n",
       "    }\n",
       "\n",
       "    .dataframe tbody tr th {\n",
       "        vertical-align: top;\n",
       "    }\n",
       "\n",
       "    .dataframe thead th {\n",
       "        text-align: right;\n",
       "    }\n",
       "</style>\n",
       "<table border=\"1\" class=\"dataframe\">\n",
       "  <thead>\n",
       "    <tr style=\"text-align: right;\">\n",
       "      <th></th>\n",
       "      <th>model</th>\n",
       "      <th>precision</th>\n",
       "      <th>recall</th>\n",
       "      <th>F1</th>\n",
       "      <th>accuracy</th>\n",
       "    </tr>\n",
       "  </thead>\n",
       "  <tbody>\n",
       "    <tr>\n",
       "      <th>0</th>\n",
       "      <td>KNN (train, borderlinesmote)</td>\n",
       "      <td>0.992536</td>\n",
       "      <td>0.992423</td>\n",
       "      <td>0.992422</td>\n",
       "      <td>0.992423</td>\n",
       "    </tr>\n",
       "  </tbody>\n",
       "</table>\n",
       "</div>"
      ],
      "text/plain": [
       "                          model  precision    recall        F1  accuracy\n",
       "0  KNN (train, borderlinesmote)   0.992536  0.992423  0.992422  0.992423"
      ]
     },
     "execution_count": 208,
     "metadata": {},
     "output_type": "execute_result"
    }
   ],
   "source": [
    "KNN = KNeighborsClassifier(n_neighbors=2)\n",
    "\n",
    "KNN.fit(X_train,y_train)\n",
    "\n",
    "# Use the model to predict on train data\n",
    "KNN_train_preds = KNN.predict(X_train)\n",
    "\n",
    "KNN_train_results2 = get_test_scores('KNN (train, borderlinesmote)',KNN_train_preds,y_train)\n",
    "KNN_train_results2"
   ]
  },
  {
   "cell_type": "markdown",
   "metadata": {},
   "source": [
    "- 그런 다음 test data의 점수를 계산"
   ]
  },
  {
   "cell_type": "code",
   "execution_count": 209,
   "metadata": {},
   "outputs": [
    {
     "data": {
      "text/html": [
       "<div>\n",
       "<style scoped>\n",
       "    .dataframe tbody tr th:only-of-type {\n",
       "        vertical-align: middle;\n",
       "    }\n",
       "\n",
       "    .dataframe tbody tr th {\n",
       "        vertical-align: top;\n",
       "    }\n",
       "\n",
       "    .dataframe thead th {\n",
       "        text-align: right;\n",
       "    }\n",
       "</style>\n",
       "<table border=\"1\" class=\"dataframe\">\n",
       "  <thead>\n",
       "    <tr style=\"text-align: right;\">\n",
       "      <th></th>\n",
       "      <th>model</th>\n",
       "      <th>precision</th>\n",
       "      <th>recall</th>\n",
       "      <th>F1</th>\n",
       "      <th>accuracy</th>\n",
       "    </tr>\n",
       "  </thead>\n",
       "  <tbody>\n",
       "    <tr>\n",
       "      <th>0</th>\n",
       "      <td>KNN (test, borderlinesmote)</td>\n",
       "      <td>0.956515</td>\n",
       "      <td>0.956439</td>\n",
       "      <td>0.956438</td>\n",
       "      <td>0.956439</td>\n",
       "    </tr>\n",
       "  </tbody>\n",
       "</table>\n",
       "</div>"
      ],
      "text/plain": [
       "                         model  precision    recall        F1  accuracy\n",
       "0  KNN (test, borderlinesmote)   0.956515  0.956439  0.956438  0.956439"
      ]
     },
     "execution_count": 209,
     "metadata": {},
     "output_type": "execute_result"
    }
   ],
   "source": [
    "# Use the model to predict on test data\n",
    "KNN_test_preds = KNN.predict(X_test)\n",
    "\n",
    "KNN_test_results2 = get_test_scores('KNN (test, borderlinesmote)',KNN_test_preds,y_test)\n",
    "KNN_test_results2"
   ]
  },
  {
   "cell_type": "markdown",
   "metadata": {},
   "source": [
    "- confusion matrix"
   ]
  },
  {
   "cell_type": "code",
   "execution_count": 210,
   "metadata": {},
   "outputs": [
    {
     "data": {
      "image/png": "[encoded data removed]",
      "text/plain": [
       "<Figure size 600x400 with 2 Axes>"
      ]
     },
     "metadata": {},
     "output_type": "display_data"
    }
   ],
   "source": [
    "cm_KNN_test = confusion_matrix(y_test, KNN_test_preds, labels=KNN.classes_)\n",
    "\n",
    " \n",
    "fig, ax1 = plt.subplots(figsize=(6, 4))\n",
    "\n",
    "ax1 = sns.heatmap(cm_KNN_test, annot=True, fmt='.4g')\n",
    "ax1.xaxis.set_ticklabels(['No Bankrupt', 'Bankrupt']) \n",
    "ax1.yaxis.set_ticklabels(['No Bankrupt', 'Bankrupt']) \n",
    "ax1.set_title('KNeighborsClassifier (Test)', fontsize=18)\n",
    "\n",
    "fig.suptitle(\"Confusion Matrix of KNeighborsClassifier (BorderlineSMOTE)\", fontsize=20) \n",
    "\n",
    "plt.tight_layout()\n",
    "fig.set_facecolor('darkgrey')\n",
    "plt.show()"
   ]
  },
  {
   "cell_type": "markdown",
   "metadata": {},
   "source": [
    "### 5.3 XGBoost"
   ]
  },
  {
   "cell_type": "markdown",
   "metadata": {},
   "source": [
    "- train data의 모형을 적합시키고, train data의 점수를 계산"
   ]
  },
  {
   "cell_type": "code",
   "execution_count": 211,
   "metadata": {},
   "outputs": [
    {
     "data": {
      "text/html": [
       "<div>\n",
       "<style scoped>\n",
       "    .dataframe tbody tr th:only-of-type {\n",
       "        vertical-align: middle;\n",
       "    }\n",
       "\n",
       "    .dataframe tbody tr th {\n",
       "        vertical-align: top;\n",
       "    }\n",
       "\n",
       "    .dataframe thead th {\n",
       "        text-align: right;\n",
       "    }\n",
       "</style>\n",
       "<table border=\"1\" class=\"dataframe\">\n",
       "  <thead>\n",
       "    <tr style=\"text-align: right;\">\n",
       "      <th></th>\n",
       "      <th>model</th>\n",
       "      <th>precision</th>\n",
       "      <th>recall</th>\n",
       "      <th>F1</th>\n",
       "      <th>accuracy</th>\n",
       "    </tr>\n",
       "  </thead>\n",
       "  <tbody>\n",
       "    <tr>\n",
       "      <th>0</th>\n",
       "      <td>XGB (train, borderlinesmote)</td>\n",
       "      <td>1.0</td>\n",
       "      <td>1.0</td>\n",
       "      <td>1.0</td>\n",
       "      <td>1.0</td>\n",
       "    </tr>\n",
       "  </tbody>\n",
       "</table>\n",
       "</div>"
      ],
      "text/plain": [
       "                          model  precision  recall   F1  accuracy\n",
       "0  XGB (train, borderlinesmote)        1.0     1.0  1.0       1.0"
      ]
     },
     "execution_count": 211,
     "metadata": {},
     "output_type": "execute_result"
    }
   ],
   "source": [
    "xgb = XGBClassifier(objective='binary:logistic',random_state=42)\n",
    "\n",
    "xgb.fit(X_train,y_train)\n",
    "\n",
    "# Use the model to predict on train data\n",
    "xgb_train_preds = xgb.predict(X_train)\n",
    "\n",
    "xgb_train_results2 = get_test_scores('XGB (train, borderlinesmote)',xgb_train_preds,y_train)\n",
    "xgb_train_results2"
   ]
  },
  {
   "cell_type": "markdown",
   "metadata": {},
   "source": [
    "- 그런 다음 test data의 점수를 계산"
   ]
  },
  {
   "cell_type": "code",
   "execution_count": 212,
   "metadata": {},
   "outputs": [
    {
     "data": {
      "text/html": [
       "<div>\n",
       "<style scoped>\n",
       "    .dataframe tbody tr th:only-of-type {\n",
       "        vertical-align: middle;\n",
       "    }\n",
       "\n",
       "    .dataframe tbody tr th {\n",
       "        vertical-align: top;\n",
       "    }\n",
       "\n",
       "    .dataframe thead th {\n",
       "        text-align: right;\n",
       "    }\n",
       "</style>\n",
       "<table border=\"1\" class=\"dataframe\">\n",
       "  <thead>\n",
       "    <tr style=\"text-align: right;\">\n",
       "      <th></th>\n",
       "      <th>model</th>\n",
       "      <th>precision</th>\n",
       "      <th>recall</th>\n",
       "      <th>F1</th>\n",
       "      <th>accuracy</th>\n",
       "    </tr>\n",
       "  </thead>\n",
       "  <tbody>\n",
       "    <tr>\n",
       "      <th>0</th>\n",
       "      <td>XGB (test, borderlinesmote)</td>\n",
       "      <td>0.989412</td>\n",
       "      <td>0.989394</td>\n",
       "      <td>0.989394</td>\n",
       "      <td>0.989394</td>\n",
       "    </tr>\n",
       "  </tbody>\n",
       "</table>\n",
       "</div>"
      ],
      "text/plain": [
       "                         model  precision    recall        F1  accuracy\n",
       "0  XGB (test, borderlinesmote)   0.989412  0.989394  0.989394  0.989394"
      ]
     },
     "execution_count": 212,
     "metadata": {},
     "output_type": "execute_result"
    }
   ],
   "source": [
    "# Use the model to predict on test data\n",
    "xgb_test_preds = xgb.predict(X_test)\n",
    "\n",
    "xgb_test_results2 = get_test_scores('XGB (test, borderlinesmote)',xgb_test_preds,y_test)\n",
    "xgb_test_results2  "
   ]
  },
  {
   "cell_type": "markdown",
   "metadata": {},
   "source": [
    "- confusion matrix"
   ]
  },
  {
   "cell_type": "code",
   "execution_count": 213,
   "metadata": {},
   "outputs": [
    {
     "data": {
      "image/png": "[encoded data removed]",
      "text/plain": [
       "<Figure size 600x400 with 2 Axes>"
      ]
     },
     "metadata": {},
     "output_type": "display_data"
    }
   ],
   "source": [
    "cm_xgb_test = confusion_matrix(y_test, xgb_test_preds, labels=xgb.classes_)\n",
    "\n",
    " \n",
    "fig, ax1 = plt.subplots(figsize=(6, 4))\n",
    "\n",
    "ax1 = sns.heatmap(cm_xgb_test, annot=True, fmt='.4g')\n",
    "ax1.xaxis.set_ticklabels(['No Bankrupt', 'Bankrupt']) \n",
    "ax1.yaxis.set_ticklabels(['No Bankrupt', 'Bankrupt']) \n",
    "ax1.set_title('XGBClassifier (Test)', fontsize=18)\n",
    "\n",
    "fig.suptitle(\"Confusion Matrix of XGBClassifier (BorderlineSMOTE)\", fontsize=20) \n",
    "\n",
    "plt.tight_layout()\n",
    "fig.set_facecolor('darkgrey')\n",
    "plt.show()"
   ]
  },
  {
   "cell_type": "code",
   "execution_count": 214,
   "metadata": {},
   "outputs": [
    {
     "data": {
      "text/html": [
       "<div>\n",
       "<style scoped>\n",
       "    .dataframe tbody tr th:only-of-type {\n",
       "        vertical-align: middle;\n",
       "    }\n",
       "\n",
       "    .dataframe tbody tr th {\n",
       "        vertical-align: top;\n",
       "    }\n",
       "\n",
       "    .dataframe thead th {\n",
       "        text-align: right;\n",
       "    }\n",
       "</style>\n",
       "<table border=\"1\" class=\"dataframe\">\n",
       "  <thead>\n",
       "    <tr style=\"text-align: right;\">\n",
       "      <th></th>\n",
       "      <th>model</th>\n",
       "      <th>precision</th>\n",
       "      <th>recall</th>\n",
       "      <th>F1</th>\n",
       "      <th>accuracy</th>\n",
       "    </tr>\n",
       "  </thead>\n",
       "  <tbody>\n",
       "    <tr>\n",
       "      <th>0</th>\n",
       "      <td>XGB (test, borderlinesmote)</td>\n",
       "      <td>0.989412</td>\n",
       "      <td>0.989394</td>\n",
       "      <td>0.989394</td>\n",
       "      <td>0.989394</td>\n",
       "    </tr>\n",
       "    <tr>\n",
       "      <th>0</th>\n",
       "      <td>RF (test, borderlinesmote)</td>\n",
       "      <td>0.984483</td>\n",
       "      <td>0.984470</td>\n",
       "      <td>0.984470</td>\n",
       "      <td>0.984470</td>\n",
       "    </tr>\n",
       "    <tr>\n",
       "      <th>0</th>\n",
       "      <td>KNN (test, borderlinesmote)</td>\n",
       "      <td>0.956515</td>\n",
       "      <td>0.956439</td>\n",
       "      <td>0.956438</td>\n",
       "      <td>0.956439</td>\n",
       "    </tr>\n",
       "  </tbody>\n",
       "</table>\n",
       "</div>"
      ],
      "text/plain": [
       "                         model  precision    recall        F1  accuracy\n",
       "0  XGB (test, borderlinesmote)   0.989412  0.989394  0.989394  0.989394\n",
       "0   RF (test, borderlinesmote)   0.984483  0.984470  0.984470  0.984470\n",
       "0  KNN (test, borderlinesmote)   0.956515  0.956439  0.956438  0.956439"
      ]
     },
     "execution_count": 214,
     "metadata": {},
     "output_type": "execute_result"
    }
   ],
   "source": [
    "results = pd.concat([rf_test_results2,KNN_test_results2,xgb_test_results2],axis=0)\n",
    "\n",
    "results.sort_values(by=['accuracy'],ascending=False)"
   ]
  },
  {
   "cell_type": "code",
   "execution_count": 215,
   "metadata": {},
   "outputs": [
    {
     "data": {
      "text/html": [
       "<div>\n",
       "<style scoped>\n",
       "    .dataframe tbody tr th:only-of-type {\n",
       "        vertical-align: middle;\n",
       "    }\n",
       "\n",
       "    .dataframe tbody tr th {\n",
       "        vertical-align: top;\n",
       "    }\n",
       "\n",
       "    .dataframe thead th {\n",
       "        text-align: right;\n",
       "    }\n",
       "</style>\n",
       "<table border=\"1\" class=\"dataframe\">\n",
       "  <thead>\n",
       "    <tr style=\"text-align: right;\">\n",
       "      <th></th>\n",
       "      <th>model</th>\n",
       "      <th>precision</th>\n",
       "      <th>recall</th>\n",
       "      <th>F1</th>\n",
       "      <th>accuracy</th>\n",
       "    </tr>\n",
       "  </thead>\n",
       "  <tbody>\n",
       "    <tr>\n",
       "      <th>0</th>\n",
       "      <td>LR (train, borderlinesmote)</td>\n",
       "      <td>0.561727</td>\n",
       "      <td>0.548115</td>\n",
       "      <td>0.521749</td>\n",
       "      <td>0.548115</td>\n",
       "    </tr>\n",
       "  </tbody>\n",
       "</table>\n",
       "</div>"
      ],
      "text/plain": [
       "                         model  precision    recall        F1  accuracy\n",
       "0  LR (train, borderlinesmote)   0.561727  0.548115  0.521749  0.548115"
      ]
     },
     "execution_count": 215,
     "metadata": {},
     "output_type": "execute_result"
    }
   ],
   "source": [
    "from sklearn.linear_model import LogisticRegression\n",
    "LR = LogisticRegression(random_state=42)\n",
    "\n",
    "LR.fit(X_train,y_train)\n",
    "\n",
    "# Use the model to predict on train data\n",
    "LR_train_preds = LR.predict(X_train)\n",
    "\n",
    "LR_train_results2 = get_test_scores('LR (train, borderlinesmote)',LR_train_preds,y_train)\n",
    "LR_train_results2"
   ]
  },
  {
   "cell_type": "code",
   "execution_count": 216,
   "metadata": {},
   "outputs": [
    {
     "data": {
      "text/html": [
       "<div>\n",
       "<style scoped>\n",
       "    .dataframe tbody tr th:only-of-type {\n",
       "        vertical-align: middle;\n",
       "    }\n",
       "\n",
       "    .dataframe tbody tr th {\n",
       "        vertical-align: top;\n",
       "    }\n",
       "\n",
       "    .dataframe thead th {\n",
       "        text-align: right;\n",
       "    }\n",
       "</style>\n",
       "<table border=\"1\" class=\"dataframe\">\n",
       "  <thead>\n",
       "    <tr style=\"text-align: right;\">\n",
       "      <th></th>\n",
       "      <th>model</th>\n",
       "      <th>precision</th>\n",
       "      <th>recall</th>\n",
       "      <th>F1</th>\n",
       "      <th>accuracy</th>\n",
       "    </tr>\n",
       "  </thead>\n",
       "  <tbody>\n",
       "    <tr>\n",
       "      <th>0</th>\n",
       "      <td>LR (test, borderlinesmote)</td>\n",
       "      <td>0.587143</td>\n",
       "      <td>0.569318</td>\n",
       "      <td>0.546107</td>\n",
       "      <td>0.569318</td>\n",
       "    </tr>\n",
       "  </tbody>\n",
       "</table>\n",
       "</div>"
      ],
      "text/plain": [
       "                        model  precision    recall        F1  accuracy\n",
       "0  LR (test, borderlinesmote)   0.587143  0.569318  0.546107  0.569318"
      ]
     },
     "execution_count": 216,
     "metadata": {},
     "output_type": "execute_result"
    }
   ],
   "source": [
    "# Use the model to predict on test data\n",
    "LR_test_preds = LR.predict(X_test)\n",
    "\n",
    "LR_test_results2 = get_test_scores('LR (test, borderlinesmote)',LR_test_preds,y_test)\n",
    "LR_test_results2"
   ]
  }
 ],
 "metadata": {
  "kernelspec": {
   "display_name": "Python 3",
   "language": "python",
   "name": "python3"
  },
  "language_info": {
   "codemirror_mode": {
    "name": "ipython",
    "version": 3
   },
   "file_extension": ".py",
   "mimetype": "text/x-python",
   "name": "python",
   "nbconvert_exporter": "python",
   "pygments_lexer": "ipython3",
   "version": "3.11.4"
  }
 },
 "nbformat": 4,
 "nbformat_minor": 2
}
