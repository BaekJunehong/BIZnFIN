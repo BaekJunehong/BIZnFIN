{
 "cells": [
  {
   "cell_type": "code",
   "execution_count": 2,
   "metadata": {},
   "outputs": [
    {
     "name": "stdout",
     "output_type": "stream",
     "text": [
      "Request URL: https://openapi.naver.com/v1/search/news.json?query=%EB%B6%80%EC%8B%A4%EA%B8%B0%EC%97%85&display=100&start=1\n",
      "Request URL: https://openapi.naver.com/v1/search/news.json?query=%EB%B6%80%EC%8B%A4%EA%B8%B0%EC%97%85&display=100&start=101\n",
      "Request URL: https://openapi.naver.com/v1/search/news.json?query=%EB%B6%80%EC%8B%A4%EA%B8%B0%EC%97%85&display=100&start=201\n",
      "Request URL: https://openapi.naver.com/v1/search/news.json?query=%EB%B6%80%EC%8B%A4%EA%B8%B0%EC%97%85&display=100&start=301\n",
      "Request URL: https://openapi.naver.com/v1/search/news.json?query=%EB%B6%80%EC%8B%A4%EA%B8%B0%EC%97%85&display=100&start=401\n",
      "Request URL: https://openapi.naver.com/v1/search/news.json?query=%EB%B6%80%EC%8B%A4%EA%B8%B0%EC%97%85&display=100&start=501\n",
      "Request URL: https://openapi.naver.com/v1/search/news.json?query=%EB%B6%80%EC%8B%A4%EA%B8%B0%EC%97%85&display=100&start=601\n",
      "Request URL: https://openapi.naver.com/v1/search/news.json?query=%EB%B6%80%EC%8B%A4%EA%B8%B0%EC%97%85&display=100&start=701\n",
      "Request URL: https://openapi.naver.com/v1/search/news.json?query=%EB%B6%80%EC%8B%A4%EA%B8%B0%EC%97%85&display=100&start=801\n",
      "Request URL: https://openapi.naver.com/v1/search/news.json?query=%EB%B6%80%EC%8B%A4%EA%B8%B0%EC%97%85&display=100&start=901\n",
      "네이버 API의 start 값은 1000까지 허용됩니다.\n",
      "CSV 파일이 저장되었습니다.\n"
     ]
    }
   ],
   "source": [
    "import os\n",
    "import sys\n",
    "import urllib.request\n",
    "import json\n",
    "import pandas as pd\n",
    "\n",
    "# 네이버 API 인증 정보\n",
    "client_id = \"6IVG4FiHzfy497Dun43J\"  # 네이버 개발자센터에서 발급받은 클라이언트 ID\n",
    "client_secret = \"19h1BGkswI\"         # 네이버 개발자센터에서 발급받은 클라이언트 Secret\n",
    "\n",
    "# 검색할 키워드와 기타 옵션 설정\n",
    "query = \"부실기업\"\n",
    "display_num = 100  # 한번에 가져올 결과 수 (최대 100개)\n",
    "start_num = 1  # 검색 시작 위치\n",
    "max_results = 30000  # 가져올 최대 결과 수 (30,000개)\n",
    "\n",
    "# 빈 리스트로 결과 저장\n",
    "results = []\n",
    "\n",
    "# API 요청 함수\n",
    "def fetch_naver_data(query, start):\n",
    "    encText = urllib.parse.quote(query)\n",
    "    url = f\"https://openapi.naver.com/v1/search/news.json?query={encText}&display={display_num}&start={start}\"\n",
    "    print(f\"Request URL: {url}\")  # 요청 URL을 출력하여 확인\n",
    "    request = urllib.request.Request(url)\n",
    "    request.add_header(\"X-Naver-Client-Id\", client_id)\n",
    "    request.add_header(\"X-Naver-Client-Secret\", client_secret)\n",
    "    try:\n",
    "        response = urllib.request.urlopen(request)\n",
    "        rescode = response.getcode()\n",
    "        if rescode == 200:\n",
    "            response_body = response.read()\n",
    "            return json.loads(response_body.decode('utf-8'))\n",
    "        else:\n",
    "            print(f\"Error Code: {rescode}\")\n",
    "            return None\n",
    "    except urllib.error.HTTPError as e:\n",
    "        print(f\"HTTPError: {e.code} - {e.reason}\")\n",
    "        return None\n",
    "\n",
    "# 페이지를 넘기면서 API 데이터 수집\n",
    "for start in range(1, max_results, display_num):\n",
    "    if start > 1000:  # 네이버 API는 start 값을 1000까지 허용\n",
    "        print(\"네이버 API의 start 값은 1000까지 허용됩니다.\")\n",
    "        break\n",
    "    data = fetch_naver_data(query, start)\n",
    "    if data and \"items\" in data:\n",
    "        results.extend(data['items'])\n",
    "    else:\n",
    "        break\n",
    "\n",
    "# 데이터프레임으로 변환\n",
    "df = pd.DataFrame(results)\n",
    "\n",
    "# CSV 파일로 저장\n",
    "df.to_csv(\"C:/Users/ldb76/OneDrive/바탕 화면/git_bizfin/BIZnFIN/study/다빈/naver_news_results.csv\", index=False, encoding='utf-8-sig')\n",
    "\n",
    "print(\"CSV 파일이 저장되었습니다.\")\n"
   ]
  }
 ],
 "metadata": {
  "kernelspec": {
   "display_name": "Python 3",
   "language": "python",
   "name": "python3"
  },
  "language_info": {
   "codemirror_mode": {
    "name": "ipython",
    "version": 3
   },
   "file_extension": ".py",
   "mimetype": "text/x-python",
   "name": "python",
   "nbconvert_exporter": "python",
   "pygments_lexer": "ipython3",
   "version": "3.11.4"
  }
 },
 "nbformat": 4,
 "nbformat_minor": 2
}
