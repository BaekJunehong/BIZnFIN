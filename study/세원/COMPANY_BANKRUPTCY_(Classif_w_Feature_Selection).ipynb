{
  "metadata": {
    "kernelspec": {
      "language": "python",
      "display_name": "Python 3",
      "name": "python3"
    },
    "language_info": {
      "name": "python",
      "version": "3.10.14",
      "mimetype": "text/x-python",
      "codemirror_mode": {
        "name": "ipython",
        "version": 3
      },
      "pygments_lexer": "ipython3",
      "nbconvert_exporter": "python",
      "file_extension": ".py"
    },
    "kaggle": {
      "accelerator": "none",
      "dataSources": [
        {
          "sourceId": 1938459,
          "sourceType": "datasetVersion",
          "datasetId": 1111894
        }
      ],
      "dockerImageVersionId": 30761,
      "isInternetEnabled": false,
      "language": "python",
      "sourceType": "notebook",
      "isGpuEnabled": false
    },
    "colab": {
      "name": "COMPANY BANKRUPTCY (Classif. w/ Feature Selection)",
      "provenance": []
    }
  },
  "nbformat_minor": 0,
  "nbformat": 4,
  "cells": [
    {
      "cell_type": "markdown",
      "source": [
        "출처: https://www.kaggle.com/code/jacopoferretti/company-bankruptcy-classif-w-feature-selection"
      ],
      "metadata": {
        "id": "27W0Y9eCDaHi"
      }
    },
    {
      "source": [
        "\n",
        "# IMPORTANT: RUN THIS CELL IN ORDER TO IMPORT YOUR KAGGLE DATA SOURCES\n",
        "# TO THE CORRECT LOCATION (/kaggle/input) IN YOUR NOTEBOOK,\n",
        "# THEN FEEL FREE TO DELETE THIS CELL.\n",
        "# NOTE: THIS NOTEBOOK ENVIRONMENT DIFFERS FROM KAGGLE'S PYTHON\n",
        "# ENVIRONMENT SO THERE MAY BE MISSING LIBRARIES USED BY YOUR\n",
        "# NOTEBOOK.\n",
        "\n",
        "import os\n",
        "import sys\n",
        "from tempfile import NamedTemporaryFile\n",
        "from urllib.request import urlopen\n",
        "from urllib.parse import unquote, urlparse\n",
        "from urllib.error import HTTPError\n",
        "from zipfile import ZipFile\n",
        "import tarfile\n",
        "import shutil\n",
        "\n",
        "CHUNK_SIZE = 40960\n",
        "DATA_SOURCE_MAPPING = 'company-bankruptcy-prediction:https%3A%2F%2Fstorage.googleapis.com%2Fkaggle-data-sets%2F1111894%2F1938459%2Fbundle%2Farchive.zip%3FX-Goog-Algorithm%3DGOOG4-RSA-SHA256%26X-Goog-Credential%3Dgcp-kaggle-com%2540kaggle-161607.iam.gserviceaccount.com%252F20240930%252Fauto%252Fstorage%252Fgoog4_request%26X-Goog-Date%3D20240930T035042Z%26X-Goog-Expires%3D259200%26X-Goog-SignedHeaders%3Dhost%26X-Goog-Signature%3D166c5752a58ec4eb085b430696ad65c45e2d3514870db692c4240b6082877aa63677945830b0f2e129d3f10701f7e909e3953e591732c8e2c0bdb79c97e485877cb85f5d1b6e6c16209156b1ad5bfdac3b2bec935517741eb92698f8caedaeabd88231162e73b27000eca54abfce653e341456bb7d42ad724ec766c72a7e7d8aa5efad18890185bade211d5582df25375a89d32b1ca8fd7a95068536409e71cffaba421ba68d73b386e02696bf3652b2cbbb7bed22bba22f75eb6661fc6a0c563054afa766ecd62c72e3b05cb0ecf2fbc709cb1eb1b0df0577ecba59beea72d8c691b98efa0abaf5a80ec38268f9475f4a84f8314ce4e3114dfd6252e11c9c75'\n",
        "\n",
        "KAGGLE_INPUT_PATH='/kaggle/input'\n",
        "KAGGLE_WORKING_PATH='/kaggle/working'\n",
        "KAGGLE_SYMLINK='kaggle'\n",
        "\n",
        "!umount /kaggle/input/ 2> /dev/null\n",
        "shutil.rmtree('/kaggle/input', ignore_errors=True)\n",
        "os.makedirs(KAGGLE_INPUT_PATH, 0o777, exist_ok=True)\n",
        "os.makedirs(KAGGLE_WORKING_PATH, 0o777, exist_ok=True)\n",
        "\n",
        "try:\n",
        "  os.symlink(KAGGLE_INPUT_PATH, os.path.join(\"..\", 'input'), target_is_directory=True)\n",
        "except FileExistsError:\n",
        "  pass\n",
        "try:\n",
        "  os.symlink(KAGGLE_WORKING_PATH, os.path.join(\"..\", 'working'), target_is_directory=True)\n",
        "except FileExistsError:\n",
        "  pass\n",
        "\n",
        "for data_source_mapping in DATA_SOURCE_MAPPING.split(','):\n",
        "    directory, download_url_encoded = data_source_mapping.split(':')\n",
        "    download_url = unquote(download_url_encoded)\n",
        "    filename = urlparse(download_url).path\n",
        "    destination_path = os.path.join(KAGGLE_INPUT_PATH, directory)\n",
        "    try:\n",
        "        with urlopen(download_url) as fileres, NamedTemporaryFile() as tfile:\n",
        "            total_length = fileres.headers['content-length']\n",
        "            print(f'Downloading {directory}, {total_length} bytes compressed')\n",
        "            dl = 0\n",
        "            data = fileres.read(CHUNK_SIZE)\n",
        "            while len(data) > 0:\n",
        "                dl += len(data)\n",
        "                tfile.write(data)\n",
        "                done = int(50 * dl / int(total_length))\n",
        "                sys.stdout.write(f\"\\r[{'=' * done}{' ' * (50-done)}] {dl} bytes downloaded\")\n",
        "                sys.stdout.flush()\n",
        "                data = fileres.read(CHUNK_SIZE)\n",
        "            if filename.endswith('.zip'):\n",
        "              with ZipFile(tfile) as zfile:\n",
        "                zfile.extractall(destination_path)\n",
        "            else:\n",
        "              with tarfile.open(tfile.name) as tarfile:\n",
        "                tarfile.extractall(destination_path)\n",
        "            print(f'\\nDownloaded and uncompressed: {directory}')\n",
        "    except HTTPError as e:\n",
        "        print(f'Failed to load (likely expired) {download_url} to path {destination_path}')\n",
        "        continue\n",
        "    except OSError as e:\n",
        "        print(f'Failed to load {download_url} to path {destination_path}')\n",
        "        continue\n",
        "\n",
        "print('Data source import complete.')\n"
      ],
      "metadata": {
        "id": "lfJOwPpaDVNZ"
      },
      "cell_type": "code",
      "outputs": [],
      "execution_count": null
    },
    {
      "cell_type": "markdown",
      "source": [
        "---\n",
        "요약\n",
        "\n",
        "1. 소개\n",
        "\n",
        "2. 데이터 읽기\n",
        "3. 탐색적 데이터 분석\n",
        "4. 기능 엔지니어링\n",
        "5. 이진 분류\n",
        "\n",
        "---"
      ],
      "metadata": {
        "id": "vhc4zKSgDVNg"
      }
    },
    {
      "cell_type": "markdown",
      "source": [
        "# 1. 소개"
      ],
      "metadata": {
        "id": "teUyu6vdDVNh"
      }
    },
    {
      "cell_type": "markdown",
      "source": [
        "여기에 사용된 데이터는 1999년부터 2009년까지 대만 경제 저널에서 수집한 것입니다. 회사 파산은 대만 증권거래소의 비즈니스 규정을 기반으로 정의되었습니다.\n",
        "<br>이 데이터 세트에는 96개의 열이 있습니다. 하나는 목표 변수 *y*(즉, *파산?*)를 포함하고 나머지 95개는 예측 변수입니다. 이 노트의 목적은 (이진) 분류 기법을 통해 파산한 회사를 예측하는 것입니다."
      ],
      "metadata": {
        "id": "5sRLtEWkDVNh"
      }
    },
    {
      "cell_type": "markdown",
      "source": [
        "예측 변수의 수가 매우 많기 때문에 이진 분류를 수행하기 전에 *X* 행렬의 특징 수, 즉 목표 변수가 포함된 열 옆의 95개 열 수를 줄여야 합니다. 이를 위해 다음을 활용하겠습니다:\n",
        "* 상호 상관관계가 과도한 변수를 식별하기 위한 상관 행렬입니다.\n",
        "* 차원 축소를 수행하기 위한 PCA(주성분 분석)."
      ],
      "metadata": {
        "id": "HVwSS2ayDVNi"
      }
    },
    {
      "cell_type": "markdown",
      "source": [
        "# 2. 데이터 읽기 및 EDA 요약\n"
      ],
      "metadata": {
        "id": "0R6kzJnGDVNi"
      }
    },
    {
      "cell_type": "code",
      "source": [
        "import numpy as np\n",
        "import pandas as pd\n",
        "import seaborn as sns\n",
        "import matplotlib.pyplot as plt\n",
        "\n",
        "from sklearn.ensemble import RandomForestClassifier\n",
        "from sklearn.model_selection import train_test_split,KFold,cross_val_score,StratifiedKFold\n",
        "from sklearn.metrics import accuracy_score,precision_score,recall_score,f1_score\n",
        "from sklearn.metrics import confusion_matrix,ConfusionMatrixDisplay\n",
        "from sklearn.model_selection import KFold,cross_val_score,StratifiedKFold,GridSearchCV\n",
        "from sklearn.preprocessing import MinMaxScaler\n",
        "\n",
        "from xgboost import XGBClassifier\n",
        "\n",
        "from warnings import simplefilter\n",
        "simplefilter(\"ignore\")"
      ],
      "metadata": {
        "_uuid": "8f2839f25d086af736a60e9eeb907d3b93b6e0e5",
        "_cell_guid": "b1076dfc-b9ad-4769-8c92-a6c4dae69d19",
        "execution": {
          "iopub.status.busy": "2024-09-23T21:47:51.786582Z",
          "iopub.execute_input": "2024-09-23T21:47:51.787073Z",
          "iopub.status.idle": "2024-09-23T21:47:54.007222Z",
          "shell.execute_reply.started": "2024-09-23T21:47:51.787008Z",
          "shell.execute_reply": "2024-09-23T21:47:54.005973Z"
        },
        "trusted": true,
        "id": "bVELLIjgDVNj"
      },
      "execution_count": null,
      "outputs": []
    },
    {
      "cell_type": "code",
      "source": [
        "# Option to display all columns\n",
        "pd.set_option('display.max_columns', None)\n",
        "\n",
        "data = pd.read_csv('/kaggle/input/company-bankruptcy-prediction/data.csv')\n",
        "\n",
        "data.head()"
      ],
      "metadata": {
        "execution": {
          "iopub.status.busy": "2024-09-23T21:47:54.009677Z",
          "iopub.execute_input": "2024-09-23T21:47:54.010261Z",
          "iopub.status.idle": "2024-09-23T21:47:54.565758Z",
          "shell.execute_reply.started": "2024-09-23T21:47:54.010215Z",
          "shell.execute_reply": "2024-09-23T21:47:54.564329Z"
        },
        "trusted": true,
        "id": "cSEKxpVqDVNk"
      },
      "execution_count": null,
      "outputs": []
    },
    {
      "cell_type": "code",
      "source": [
        "print(f'The dataset has {data.shape[0]} rows and {data.shape[1]} columns.')"
      ],
      "metadata": {
        "execution": {
          "iopub.status.busy": "2024-09-23T21:47:54.567402Z",
          "iopub.execute_input": "2024-09-23T21:47:54.56796Z",
          "iopub.status.idle": "2024-09-23T21:47:54.574615Z",
          "shell.execute_reply.started": "2024-09-23T21:47:54.567876Z",
          "shell.execute_reply": "2024-09-23T21:47:54.573492Z"
        },
        "trusted": true,
        "id": "k7vdVmyGDVNk"
      },
      "execution_count": null,
      "outputs": []
    },
    {
      "cell_type": "markdown",
      "source": [
        "**Null values and duplicate rows**"
      ],
      "metadata": {
        "id": "X3xYMRdlDVNl"
      }
    },
    {
      "cell_type": "code",
      "source": [
        "data.columns[data.isnull().any()]"
      ],
      "metadata": {
        "execution": {
          "iopub.status.busy": "2024-09-23T21:47:54.576244Z",
          "iopub.execute_input": "2024-09-23T21:47:54.576688Z",
          "iopub.status.idle": "2024-09-23T21:47:54.590643Z",
          "shell.execute_reply.started": "2024-09-23T21:47:54.576618Z",
          "shell.execute_reply": "2024-09-23T21:47:54.58905Z"
        },
        "trusted": true,
        "id": "xeb4BeDwDVNl"
      },
      "execution_count": null,
      "outputs": []
    },
    {
      "cell_type": "code",
      "source": [
        "data.duplicated().sum()"
      ],
      "metadata": {
        "execution": {
          "iopub.status.busy": "2024-09-23T21:47:54.594759Z",
          "iopub.execute_input": "2024-09-23T21:47:54.595234Z",
          "iopub.status.idle": "2024-09-23T21:47:54.659201Z",
          "shell.execute_reply.started": "2024-09-23T21:47:54.595188Z",
          "shell.execute_reply": "2024-09-23T21:47:54.657863Z"
        },
        "trusted": true,
        "id": "7hqt3ujdDVNm"
      },
      "execution_count": null,
      "outputs": []
    },
    {
      "cell_type": "markdown",
      "source": [
        "데이터 세트에 null 값이 없고 중복 행이 없습니다."
      ],
      "metadata": {
        "id": "pIG_55znDVNm"
      }
    },
    {
      "cell_type": "markdown",
      "source": [
        "**Columns and Their Meaning**"
      ],
      "metadata": {
        "id": "l-SUfckSDVNm"
      }
    },
    {
      "cell_type": "markdown",
      "source": [
        "* Y - Bankrupt?: Class label\n",
        "* X1 - ROA(C) before interest and depreciation before interest: Return On Total Assets(C)\n",
        "* X2 - ROA(A) before interest and % after tax: Return On Total Assets(A)\n",
        "* X3 - ROA(B) before interest and depreciation after tax: Return On Total Assets(B)\n",
        "* X4 - Operating Gross Margin: Gross Profit/Net Sales\n",
        "* X5 - Realized Sales Gross Margin: Realized Gross Profit/Net Sales\n",
        "* X6 - Operating Profit Rate: Operating Income/Net Sales\n",
        "* X7 - Pre-tax net Interest Rate: Pre-Tax Income/Net Sales\n",
        "* X8 - After-tax net Interest Rate: Net Income/Net Sales\n",
        "* X9 - Non-industry income and expenditure/revenue: Net Non-operating Income Ratio\n",
        "* X10 - Continuous interest rate (after tax): Net Income-Exclude Disposal Gain or Loss/Net Sales\n",
        "* X11 - Operating Expense Rate: Operating Expenses/Net Sales\n",
        "* X12 - Research and development expense rate: (Research and Development Expenses)/Net Sales\n",
        "* X13 - Cash flow rate: Cash Flow from Operating/Current Liabilities\n",
        "* X14 - Interest-bearing debt interest rate: Interest-bearing Debt/Equity\n",
        "* X15 - Tax rate (A): Effective Tax Rate\n",
        "* X16 - Net Value Per Share (B): Book Value Per Share(B)\n",
        "* X17 - Net Value Per Share (A): Book Value Per Share(A)\n",
        "* X18 - Net Value Per Share (C): Book Value Per Share(C)\n",
        "* X19 - Persistent EPS in the Last Four Seasons: EPS-Net Income\n",
        "* X20 - Cash Flow Per Share\n",
        "* X21 - Revenue Per Share (Yuan ¥): Sales Per Share\n",
        "* X22 - Operating Profit Per Share (Yuan ¥): Operating Income Per Share\n",
        "* X23 - Per Share Net profit before tax (Yuan ¥): Pretax Income Per Share\n",
        "* X24 - Realized Sales Gross Profit Growth Rate\n",
        "* X25 - Operating Profit Growth Rate: Operating Income Growth\n",
        "* X26 - After-tax Net Profit Growth Rate: Net Income Growth\n",
        "* X27 - Regular Net Profit Growth Rate: Continuing Operating Income after Tax Growth\n",
        "* X28 - Continuous Net Profit Growth Rate: Net Income-Excluding Disposal Gain or Loss Growth\n",
        "* X29 - Total Asset Growth Rate: Total Asset Growth\n",
        "* X30 - Net Value Growth Rate: Total Equity Growth\n",
        "* X31 - Total Asset Return Growth Rate Ratio: Return on Total Asset Growth\n",
        "* X32 - Cash Reinvestment %: Cash Reinvestment Ratio\n",
        "* X33 - Current Ratio\n",
        "* X34 - Quick Ratio: Acid Test\n",
        "* X35 - Interest Expense Ratio: Interest Expenses/Total Revenue\n",
        "* X36 - Total debt/Total net worth: Total Liability/Equity Ratio\n",
        "* X37 - Debt ratio %: Liability/Total Assets\n",
        "* X38 - Net worth/Assets: Equity/Total Assets\n",
        "* X39 - Long-term fund suitability ratio (A): (Long-term Liability+Equity)/Fixed Assets\n",
        "* X40 - Borrowing dependency: Cost of Interest-bearing Debt\n",
        "* X41 - Contingent liabilities/Net worth: Contingent Liability/Equity\n",
        "* X42 - Operating profit/Paid-in capital: Operating Income/Capital\n",
        "* X43 - Net profit before tax/Paid-in capital: Pretax Income/Capital\n",
        "* X44 - Inventory and accounts receivable/Net value: (Inventory+Accounts Receivables)/Equity\n",
        "* X45 - Total Asset Turnover\n",
        "* X46 - Accounts Receivable Turnover\n",
        "* X47 - Average Collection Days: Days Receivable Outstanding\n",
        "* X48 - Inventory Turnover Rate (times)\n",
        "* X49 - Fixed Assets Turnover Frequency\n",
        "* X50 - Net Worth Turnover Rate (times): Equity Turnover\n",
        "* X51 - Revenue per person: Sales Per Employee\n",
        "* X52 - Operating profit per person: Operation Income Per Employee\n",
        "* X53 - Allocation rate per person: Fixed Assets Per Employee\n",
        "* X54 - Working Capital to Total Assets\n",
        "* X55 - Quick Assets/Total Assets\n",
        "* X56 - Current Assets/Total Assets\n",
        "* X57 - Cash/Total Assets\n",
        "* X58 - Quick Assets/Current Liability\n",
        "* X59 - Cash/Current Liability\n",
        "* X60 - Current Liability to Assets\n",
        "* X61 - Operating Funds to Liability\n",
        "* X62 - Inventory/Working Capital\n",
        "* X63 - Inventory/Current Liability\n",
        "* X64 - Current Liabilities/Liability\n",
        "* X65 - Working Capital/Equity\n",
        "* X66 - Current Liabilities/Equity\n",
        "* X67 - Long-term Liability to Current Assets\n",
        "* X68 - Retained Earnings to Total Assets\n",
        "* X69 - Total income/Total expense\n",
        "* X70 - Total expense/Assets\n",
        "* X71 - Current Asset Turnover Rate: Current Assets to Sales\n",
        "* X72 - Quick Asset Turnover Rate: Quick Assets to Sales\n",
        "* X73 - Working capitcal Turnover Rate: Working Capital to Sales\n",
        "* X74 - Cash Turnover Rate: Cash to Sales\n",
        "* X75 - Cash Flow to Sales\n",
        "* X76 - Fixed Assets to Assets\n",
        "* X77 - Current Liability to Liability\n",
        "* X78 - Current Liability to Equity\n",
        "* X79 - Equity to Long-term Liability\n",
        "* X80 - Cash Flow to Total Assets\n",
        "* X81 - Cash Flow to Liability\n",
        "* X82 - CFO to Assets\n",
        "* X83 - Cash Flow to Equity\n",
        "* X84 - Current Liability to Current Assets\n",
        "* X85 - Liability-Assets Flag: 1 if Total Liability exceeds Total Assets, 0 otherwise\n",
        "* X86 - Net Income to Total Assets\n",
        "* X87 - Total assets to GNP price\n",
        "* X88 - No-credit Interval\n",
        "* X89 - Gross Profit to Sales\n",
        "* X90 - Net Income to Stockholder's Equity\n",
        "* X91 - Liability to Equity\n",
        "* X92 - Degree of Financial Leverage (DFL)\n",
        "* X93 - Interest Coverage Ratio (Interest expense to EBIT)\n",
        "* X94 - Net Income Flag: 1 if Net Income is Negative for the last two years, 0 otherwise\n",
        "* X95 - Equity to Liability"
      ],
      "metadata": {
        "id": "9EPUa2V7DVNn"
      }
    },
    {
      "cell_type": "markdown",
      "source": [
        "# 3. 탐색적 데이터 분석"
      ],
      "metadata": {
        "id": "BBWA3IizDVNo"
      }
    },
    {
      "cell_type": "markdown",
      "source": [
        "### 3.1 데이터의 균형성 또는 불균형성?"
      ],
      "metadata": {
        "id": "aLTfuAt3DVNo"
      }
    },
    {
      "cell_type": "markdown",
      "source": [
        "목표 변수가 균형을 이루는지 여부를 확인하기 위해 대상 변수를 살펴보겠습니다."
      ],
      "metadata": {
        "id": "I8CU2HFmDVNo"
      }
    },
    {
      "cell_type": "code",
      "source": [
        "val = data['Bankrupt?'].value_counts().reset_index(name='count')\n",
        "\n",
        "val"
      ],
      "metadata": {
        "execution": {
          "iopub.status.busy": "2024-09-23T21:47:54.660962Z",
          "iopub.execute_input": "2024-09-23T21:47:54.66139Z",
          "iopub.status.idle": "2024-09-23T21:47:54.680417Z",
          "shell.execute_reply.started": "2024-09-23T21:47:54.66134Z",
          "shell.execute_reply": "2024-09-23T21:47:54.678198Z"
        },
        "trusted": true,
        "id": "C4Jq1ed3DVNp"
      },
      "execution_count": null,
      "outputs": []
    },
    {
      "cell_type": "code",
      "source": [
        "def label_function(val):\n",
        "    return f'{val:.0f}%'\n",
        "\n",
        "labels = ['No Bankrupt','Bankrupt']\n",
        "\n",
        "val.plot(x='Bankrupt?',y='count',kind='pie',autopct=label_function,\n",
        "                textprops={'fontsize':15},labels=labels,colors=['lightsteelblue','orange'])\n",
        "\n",
        "plt.ylabel('')\n",
        "plt.title('Bankrupt Classes',fontsize=20)\n",
        "\n",
        "plt.tight_layout()"
      ],
      "metadata": {
        "execution": {
          "iopub.status.busy": "2024-09-23T21:47:54.682244Z",
          "iopub.execute_input": "2024-09-23T21:47:54.682792Z",
          "iopub.status.idle": "2024-09-23T21:47:54.993045Z",
          "shell.execute_reply.started": "2024-09-23T21:47:54.682731Z",
          "shell.execute_reply": "2024-09-23T21:47:54.991754Z"
        },
        "trusted": true,
        "id": "eNJGD6c3DVNp"
      },
      "execution_count": null,
      "outputs": []
    },
    {
      "cell_type": "markdown",
      "source": [
        "그림에서 볼 수 있듯이 *파산?* 열의 값은 매우 불균형합니다. 따라서 결과의 정확도를 높이기 위해 목표 변수에서 보다 균형 잡힌 클래스(파산 클래스 간의 50대 50 분할 정도)를 얻으려면 데이터를 다시 샘플링해야 할 것입니다."
      ],
      "metadata": {
        "id": "-gd_vwAxDVNq"
      }
    },
    {
      "cell_type": "markdown",
      "source": [
        "### 3.2 Outliers"
      ],
      "metadata": {
        "id": "-ObvqLymDVNq"
      }
    },
    {
      "cell_type": "markdown",
      "source": [
        "예측 변수의 상자 그림을 통해 이상치가 있는지 여부를 확인합니다."
      ],
      "metadata": {
        "id": "gcRHtf1XDVNq"
      }
    },
    {
      "cell_type": "code",
      "source": [
        "features = data.drop('Bankrupt?',axis=1).columns\n",
        "\n",
        "for i in range(24):\n",
        "    fig,(ax1,ax2,ax3,ax4) = plt.subplots(ncols=4,figsize=(12,5))\n",
        "    ax1 = sns.boxplot(data[features[i*4]],ax=ax1)\n",
        "    ax1.set_title(f'Boxplot of X{i*4+1}',fontsize=20)\n",
        "    ax1.set_facecolor('gold')\n",
        "    ax2 = sns.boxplot(data[features[i*4+1]],ax=ax2)\n",
        "    ax2.set_title(f'Boxplot of X{i*4+2}',fontsize=20)\n",
        "    ax2.set_facecolor('gold')\n",
        "    ax3 = sns.boxplot(data[features[i*4+2]],ax=ax3)\n",
        "    ax3.set_title(f'Boxplot of X{i*4+3}',fontsize=20)\n",
        "    ax3.set_facecolor('gold')\n",
        "    if i < 23:\n",
        "        ax4 = sns.boxplot(data[features[i*4+3]],ax=ax4)\n",
        "        ax4.set_title(f'Boxplot of X{i*4+4}',fontsize=20)\n",
        "        ax4.set_facecolor('gold')\n",
        "    else:\n",
        "        ax4.set_facecolor('gold')\n",
        "\n",
        "    fig.suptitle(\"Boxplots of the Outliers\",fontsize=24)\n",
        "\n",
        "    plt.tight_layout()\n",
        "    fig.set_facecolor('darkgrey')"
      ],
      "metadata": {
        "execution": {
          "iopub.status.busy": "2024-09-23T21:47:54.995411Z",
          "iopub.execute_input": "2024-09-23T21:47:55.004579Z",
          "iopub.status.idle": "2024-09-23T21:48:22.649707Z",
          "shell.execute_reply.started": "2024-09-23T21:47:55.004502Z",
          "shell.execute_reply": "2024-09-23T21:48:22.648408Z"
        },
        "trusted": true,
        "id": "SFLkn4WYDVNq"
      },
      "execution_count": null,
      "outputs": []
    },
    {
      "cell_type": "markdown",
      "source": [
        "몇 가지 예외를 제외하고 *X* 변수에는 많은 수의 특이치가 있습니다."
      ],
      "metadata": {
        "id": "LSCJkgIwDVNr"
      }
    },
    {
      "cell_type": "markdown",
      "source": [
        "### 3.3 상관관계"
      ],
      "metadata": {
        "id": "9KobjNe1DVNr"
      }
    },
    {
      "cell_type": "code",
      "source": [
        "f,ax = plt.subplots(figsize=(30, 25))\n",
        "\n",
        "mat = data.corr('spearman')\n",
        "mask = np.triu(np.ones_like(mat,dtype=bool))\n",
        "cmap = sns.diverging_palette(230,20,as_cmap=True)\n",
        "\n",
        "sns.heatmap(mat,mask=mask,cmap=cmap,vmax=1,center=0,square=True,linewidths=.5,cbar_kws={\"shrink\":.5})\n",
        "\n",
        "plt.title('Correlation Heatmap',fontsize=35)\n",
        "\n",
        "plt.tight_layout()\n",
        "plt.gcf().patch.set_facecolor('darkgrey')\n",
        "plt.gca().set_facecolor('darkgrey')\n",
        "\n",
        "plt.show()"
      ],
      "metadata": {
        "execution": {
          "iopub.status.busy": "2024-09-23T21:48:22.651641Z",
          "iopub.execute_input": "2024-09-23T21:48:22.652167Z",
          "iopub.status.idle": "2024-09-23T21:48:26.553779Z",
          "shell.execute_reply.started": "2024-09-23T21:48:22.652111Z",
          "shell.execute_reply": "2024-09-23T21:48:26.552403Z"
        },
        "trusted": true,
        "id": "IKFfp2sUDVNs"
      },
      "execution_count": null,
      "outputs": []
    },
    {
      "cell_type": "markdown",
      "source": [
        "변수 간에는 몇 가지 강력한 상관관계가 있습니다. *R* > 0.9 또는 *R* < -0.9인 특징 쌍을 살펴봅시다."
      ],
      "metadata": {
        "id": "Uz8Y9qxvDVNs"
      }
    },
    {
      "cell_type": "code",
      "source": [
        "list1 = features\n",
        "list2 = features\n",
        "list_int = []\n",
        "count = 1\n",
        "\n",
        "for col1 in list1:\n",
        "    list_int.append(col1)\n",
        "    for col2 in list2:\n",
        "        if col2 not in list_int:\n",
        "            R_corr = data.corr().loc[col1,col2]\n",
        "            if R_corr > 0.9 or R_corr < -0.9:\n",
        "                print(count,'.  ',col1,' -- ',col2,';  R = {:.3f}'.format(R_corr))\n",
        "                count += 1"
      ],
      "metadata": {
        "execution": {
          "iopub.status.busy": "2024-09-23T21:48:26.555428Z",
          "iopub.execute_input": "2024-09-23T21:48:26.55592Z",
          "iopub.status.idle": "2024-09-23T22:01:21.618254Z",
          "shell.execute_reply.started": "2024-09-23T21:48:26.555855Z",
          "shell.execute_reply": "2024-09-23T22:01:21.616989Z"
        },
        "trusted": true,
        "id": "z-EIqlruDVNt"
      },
      "execution_count": null,
      "outputs": []
    },
    {
      "cell_type": "markdown",
      "source": [
        "At least one of the elements in each pair of features with a high value of the Pearson coefficient *R* will have to be dropped."
      ],
      "metadata": {
        "id": "9E19FD5iDVNt"
      }
    },
    {
      "cell_type": "markdown",
      "source": [
        "# 4. Feature Engineering\n",
        "<a id=\"4\"></a>"
      ],
      "metadata": {
        "id": "J7z2FgFqDVNu"
      }
    },
    {
      "cell_type": "markdown",
      "source": [
        "### 4.1 Outliers Capping"
      ],
      "metadata": {
        "id": "6oWu-XINDVNu"
      }
    },
    {
      "cell_type": "markdown",
      "source": [
        "이상점은 나머지 데이터에서 크게 눈에 띄는 데이터 포인트입니다. 다른 관측치에 비해 매우 높거나 낮은 값일 수 있으며 측정 오류, 데이터의 자연스러운 변화 또는 예기치 않은 발견으로 인해 발생할 수도 있습니다. 데이터 세트의 이상점(분류 또는 회귀 기법을 통해 연구하고자 함)이 예측 성능을 저하시킬 수 있으므로 이를 처리해야 한다는 것은 잘 알려져 있습니다.\n",
        "\n",
        "이상값은 데이터의 첫 번째 및 세 번째 사분위수로 정의된 (각 열에 대한) 하한 및 상한 임계값을 설정하여 제한됩니다.\n",
        "<br>캡핑 절차는 플로트 변수에 대해서만 수행해야 합니다. 정수 유형의 변수는 이 절차에서 제외해야 합니다."
      ],
      "metadata": {
        "id": "g-kcDZWJDVNv"
      }
    },
    {
      "cell_type": "code",
      "source": [
        "# Function for outliers capping\n",
        "def outlier_imputer(data,features):\n",
        "\n",
        "    data_out = data.copy()\n",
        "\n",
        "    for column in features:\n",
        "\n",
        "        # First define the first and third quartiles\n",
        "        Q1 = data_out[column].quantile(0.25)\n",
        "        Q3 = data_out[column].quantile(0.75)\n",
        "        # Define the inter-quartile range\n",
        "        IQR = Q3 - Q1\n",
        "        # ... and the lower/higher threshold values\n",
        "        lowerL = (Q1 - 1.5 * IQR)\n",
        "        higherL = (Q3 + 1.5 * IQR)\n",
        "\n",
        "        # Impute 'left' outliers\n",
        "        data_out.loc[data_out[column] < lowerL,column] = lowerL\n",
        "        # Impute 'right' outliers\n",
        "        data_out.loc[data_out[column] > higherL,column] = higherL\n",
        "\n",
        "    return data_out\n",
        "\n",
        "# Outliers capping is carried out on the float columns only\n",
        "data_in     = data.select_dtypes(include='float')\n",
        "features_in = data_in.columns\n",
        "\n",
        "capped_data = outlier_imputer(data_in,features_in)"
      ],
      "metadata": {
        "execution": {
          "iopub.status.busy": "2024-09-23T22:01:21.619809Z",
          "iopub.execute_input": "2024-09-23T22:01:21.620222Z",
          "iopub.status.idle": "2024-09-23T22:01:21.864143Z",
          "shell.execute_reply.started": "2024-09-23T22:01:21.620181Z",
          "shell.execute_reply": "2024-09-23T22:01:21.862901Z"
        },
        "trusted": true,
        "id": "9rYiBSs4DVNv"
      },
      "execution_count": null,
      "outputs": []
    },
    {
      "cell_type": "code",
      "source": [
        "# Integer-type columns are concatenated to the capped dataset\n",
        "data_int = data.select_dtypes(include='int')\n",
        "\n",
        "data2 = pd.concat([capped_data,data_int],axis=1)\n",
        "\n",
        "data2.head()"
      ],
      "metadata": {
        "execution": {
          "iopub.status.busy": "2024-09-23T22:01:21.865809Z",
          "iopub.execute_input": "2024-09-23T22:01:21.866248Z",
          "iopub.status.idle": "2024-09-23T22:01:21.956745Z",
          "shell.execute_reply.started": "2024-09-23T22:01:21.866203Z",
          "shell.execute_reply": "2024-09-23T22:01:21.95537Z"
        },
        "trusted": true,
        "id": "A4nhY0UGDVNw"
      },
      "execution_count": null,
      "outputs": []
    },
    {
      "cell_type": "code",
      "source": [
        "for i in range(24):\n",
        "    fig,(ax1,ax2,ax3,ax4) = plt.subplots(ncols=4,figsize=(12,5))\n",
        "    ax1 = sns.boxplot(data2[features[i*4]],ax=ax1)\n",
        "    ax1.set_title(f'Boxplot of X{i*4+1}',fontsize=20)\n",
        "    ax1.set_facecolor('gold')\n",
        "    ax2 = sns.boxplot(data2[features[i*4+1]],ax=ax2)\n",
        "    ax2.set_title(f'Boxplot of X{i*4+2}',fontsize=20)\n",
        "    ax2.set_facecolor('gold')\n",
        "    ax3 = sns.boxplot(data2[features[i*4+2]],ax=ax3)\n",
        "    ax3.set_title(f'Boxplot of X{i*4+3}',fontsize=20)\n",
        "    ax3.set_facecolor('gold')\n",
        "    if i < 23:\n",
        "        ax4 = sns.boxplot(data2[features[i*4+3]],ax=ax4)\n",
        "        ax4.set_title(f'Boxplot of X{i*4+4}',fontsize=20)\n",
        "        ax4.set_facecolor('gold')\n",
        "    else:\n",
        "        ax4.set_facecolor('gold')\n",
        "\n",
        "    fig.suptitle(\"Boxplots of the Outliers\",fontsize=24)\n",
        "\n",
        "    plt.tight_layout()\n",
        "    fig.set_facecolor('darkgrey')"
      ],
      "metadata": {
        "execution": {
          "iopub.status.busy": "2024-09-23T22:01:21.958635Z",
          "iopub.execute_input": "2024-09-23T22:01:21.959181Z",
          "iopub.status.idle": "2024-09-23T22:01:46.004487Z",
          "shell.execute_reply.started": "2024-09-23T22:01:21.95912Z",
          "shell.execute_reply": "2024-09-23T22:01:46.003345Z"
        },
        "trusted": true,
        "id": "284lzSsTDVNw"
      },
      "execution_count": null,
      "outputs": []
    },
    {
      "cell_type": "markdown",
      "source": [
        "위의 상자 그림은 특이치 캡핑 절차가 성공했음을 보여줍니다."
      ],
      "metadata": {
        "id": "2wWsa9-CDVNw"
      }
    },
    {
      "cell_type": "markdown",
      "source": [
        "### 4.2 리샘플링"
      ],
      "metadata": {
        "id": "zP2HiJ68DVNy"
      }
    },
    {
      "cell_type": "markdown",
      "source": [
        "목표 값의 약 97%가 이진 클래스 중 하나에 속하기 때문에 데이터는 매우 불균형합니다. 보다 정확한 예측을 얻으려면 테스트 데이터에서 이러한 클래스를 50-50으로 분할해야 합니다."
      ],
      "metadata": {
        "id": "cmKnvX0YDVNz"
      }
    },
    {
      "cell_type": "markdown",
      "source": [
        "**Train-Test Splitting**"
      ],
      "metadata": {
        "id": "7gX1Dx64DVN0"
      }
    },
    {
      "cell_type": "markdown",
      "source": [
        "*X* 및 *y* 변수를 정의하고 있습니다."
      ],
      "metadata": {
        "id": "gctl8UmzDVN0"
      }
    },
    {
      "cell_type": "code",
      "source": [
        "X = data2.drop('Bankrupt?',axis=1)\n",
        "y = data2['Bankrupt?']"
      ],
      "metadata": {
        "execution": {
          "iopub.status.busy": "2024-09-23T22:01:46.010044Z",
          "iopub.execute_input": "2024-09-23T22:01:46.010434Z",
          "iopub.status.idle": "2024-09-23T22:01:46.01781Z",
          "shell.execute_reply.started": "2024-09-23T22:01:46.010395Z",
          "shell.execute_reply": "2024-09-23T22:01:46.016469Z"
        },
        "trusted": true,
        "id": "EIHDfzHjDVN0"
      },
      "execution_count": null,
      "outputs": []
    },
    {
      "cell_type": "markdown",
      "source": [
        "Then, I am performing the train-test splitting."
      ],
      "metadata": {
        "id": "qO5ZZ2teDVN1"
      }
    },
    {
      "cell_type": "code",
      "source": [
        "# Train-test split\n",
        "X_train,X_test,y_train,y_test = train_test_split(X,y,test_size=0.3,stratify=y,random_state=42)"
      ],
      "metadata": {
        "execution": {
          "iopub.status.busy": "2024-09-23T22:01:46.019169Z",
          "iopub.execute_input": "2024-09-23T22:01:46.019684Z",
          "iopub.status.idle": "2024-09-23T22:01:46.04416Z",
          "shell.execute_reply.started": "2024-09-23T22:01:46.019628Z",
          "shell.execute_reply": "2024-09-23T22:01:46.042438Z"
        },
        "trusted": true,
        "id": "3vp3y7_7DVN1"
      },
      "execution_count": null,
      "outputs": []
    },
    {
      "cell_type": "markdown",
      "source": [
        "**Oversampling**"
      ],
      "metadata": {
        "id": "eTX0OfZXDVN2"
      }
    },
    {
      "cell_type": "markdown",
      "source": [
        "오버샘플링 절차부터 시작하겠습니다. 소수 클래스에 속하는 목표 변수 값을 가진 데이터 세트의 행을 복사하여 그 수가 다수 클래스에 속하는 목표 변수 값을 가진 행의 수와 동일하도록 하는 것입니다."
      ],
      "metadata": {
        "id": "dSBveFuCDVN2"
      }
    },
    {
      "cell_type": "code",
      "source": [
        "from imblearn.over_sampling import SMOTE\n",
        "\n",
        "smote = SMOTE()\n",
        "\n",
        "# Balancing the data\n",
        "X_overSampled,y_overSampled = smote.fit_resample(X_train,y_train)"
      ],
      "metadata": {
        "execution": {
          "iopub.status.busy": "2024-09-23T22:01:46.045518Z",
          "iopub.execute_input": "2024-09-23T22:01:46.046062Z",
          "iopub.status.idle": "2024-09-23T22:01:46.327941Z",
          "shell.execute_reply.started": "2024-09-23T22:01:46.045996Z",
          "shell.execute_reply": "2024-09-23T22:01:46.326631Z"
        },
        "trusted": true,
        "id": "fUNuZWc2DVN2"
      },
      "execution_count": null,
      "outputs": []
    },
    {
      "cell_type": "code",
      "source": [
        "len(X_train), len(X_overSampled)"
      ],
      "metadata": {
        "execution": {
          "iopub.status.busy": "2024-09-23T22:01:46.32952Z",
          "iopub.execute_input": "2024-09-23T22:01:46.330252Z",
          "iopub.status.idle": "2024-09-23T22:01:46.338246Z",
          "shell.execute_reply.started": "2024-09-23T22:01:46.330196Z",
          "shell.execute_reply": "2024-09-23T22:01:46.336799Z"
        },
        "trusted": true,
        "id": "tncX0RngDVN3"
      },
      "execution_count": null,
      "outputs": []
    },
    {
      "cell_type": "markdown",
      "source": [
        "**Undersampling**"
      ],
      "metadata": {
        "id": "cnKI_SCSDVN3"
      }
    },
    {
      "cell_type": "markdown",
      "source": [
        "언더샘플링은 오버샘플링과는 정반대입니다. 이 두 번째 경우, 다수 클래스에 속하는 목표 변수 값을 가진 행의 수를 잘라내어 소수 클래스에 속하는 목표 변수 값을 가진 행의 수와 동일하게 만듭니다."
      ],
      "metadata": {
        "id": "MZCflEJ5DVN4"
      }
    },
    {
      "cell_type": "code",
      "source": [
        "from imblearn.under_sampling import RandomUnderSampler\n",
        "\n",
        "# Create a RandomUnderSampler object\n",
        "rus = RandomUnderSampler(random_state=42,sampling_strategy='majority')\n",
        "\n",
        "# Balancing the data\n",
        "X_underSampled,y_underSampled = rus.fit_resample(X_train,y_train)"
      ],
      "metadata": {
        "execution": {
          "iopub.status.busy": "2024-09-23T22:01:46.339679Z",
          "iopub.execute_input": "2024-09-23T22:01:46.340288Z",
          "iopub.status.idle": "2024-09-23T22:01:46.371704Z",
          "shell.execute_reply.started": "2024-09-23T22:01:46.34023Z",
          "shell.execute_reply": "2024-09-23T22:01:46.370445Z"
        },
        "trusted": true,
        "id": "X6KNWAWdDVN4"
      },
      "execution_count": null,
      "outputs": []
    },
    {
      "cell_type": "code",
      "source": [
        "len(X_train), len(X_underSampled)"
      ],
      "metadata": {
        "execution": {
          "iopub.status.busy": "2024-09-23T22:01:46.373357Z",
          "iopub.execute_input": "2024-09-23T22:01:46.373796Z",
          "iopub.status.idle": "2024-09-23T22:01:46.382116Z",
          "shell.execute_reply.started": "2024-09-23T22:01:46.37375Z",
          "shell.execute_reply": "2024-09-23T22:01:46.380741Z"
        },
        "trusted": true,
        "id": "VvS4eH3VDVN5"
      },
      "execution_count": null,
      "outputs": []
    },
    {
      "cell_type": "markdown",
      "source": [
        "# 5. Binary Classification with Feature Selection\n",
        "<a id=\"5\"></a>"
      ],
      "metadata": {
        "id": "V5CbyjGTDVN5"
      }
    },
    {
      "cell_type": "markdown",
      "source": [
        "저는 상대적인 특징 중요도가 높고(임의 포레스트 분류기를 사용하여 계산) 다른 변수와 강한 상관관계가 없는 특징을 '수동적으로' 선택하는 특징 선택 방법을 사용하고 있습니다."
      ],
      "metadata": {
        "id": "75RMzTFiDVN5"
      }
    },
    {
      "cell_type": "markdown",
      "source": [
        "**Scaling**"
      ],
      "metadata": {
        "id": "-oSj3DulDVN6"
      }
    },
    {
      "cell_type": "code",
      "source": [
        "X_test_under = X_test.copy()\n",
        "\n",
        "### Undersampled data ###\n",
        "LABELS = X_underSampled.columns\n",
        "\n",
        "## Scaling ##\n",
        "mm_scaler = MinMaxScaler()\n",
        "\n",
        "# Apply Min-Max Scaling\n",
        "X_underSampled[LABELS] = mm_scaler.fit_transform(X_underSampled[LABELS])\n",
        "X_test_under[LABELS] = mm_scaler.transform(X_test_under[LABELS])"
      ],
      "metadata": {
        "execution": {
          "iopub.status.busy": "2024-09-23T22:01:46.383857Z",
          "iopub.execute_input": "2024-09-23T22:01:46.384301Z",
          "iopub.status.idle": "2024-09-23T22:01:46.433575Z",
          "shell.execute_reply.started": "2024-09-23T22:01:46.384258Z",
          "shell.execute_reply": "2024-09-23T22:01:46.432383Z"
        },
        "trusted": true,
        "id": "1YovNrTVDVN6"
      },
      "execution_count": null,
      "outputs": []
    },
    {
      "cell_type": "code",
      "source": [
        "X_test_over = X_test.copy()\n",
        "\n",
        "### Oversampled data ###\n",
        "LABELS = X_overSampled.columns\n",
        "\n",
        "## Scaling ##\n",
        "mm_scaler = MinMaxScaler()\n",
        "\n",
        "# Apply Min-Max Scaling\n",
        "X_overSampled[LABELS] = mm_scaler.fit_transform(X_overSampled[LABELS])\n",
        "X_test_over[LABELS] = mm_scaler.transform(X_test_over[LABELS])"
      ],
      "metadata": {
        "execution": {
          "iopub.status.busy": "2024-09-23T22:01:46.435075Z",
          "iopub.execute_input": "2024-09-23T22:01:46.435568Z",
          "iopub.status.idle": "2024-09-23T22:01:46.496911Z",
          "shell.execute_reply.started": "2024-09-23T22:01:46.435514Z",
          "shell.execute_reply": "2024-09-23T22:01:46.495739Z"
        },
        "trusted": true,
        "id": "JXfL3Kf3DVN7"
      },
      "execution_count": null,
      "outputs": []
    },
    {
      "cell_type": "markdown",
      "source": [
        "**Feature Importance**"
      ],
      "metadata": {
        "id": "ZpTGP1n3DVN7"
      }
    },
    {
      "cell_type": "markdown",
      "source": [
        "저는 무작위 포레스트 분류기를 사용하여 예측 변수의 상대적 중요도를 계산하고 있습니다. 이 방법은 100% 신뢰할 수는 없지만 분류 단계에서 가장 유용하거나 덜 유용한 기능에 대한 징후를 제공할 수 있습니다. 저는 **언더샘플링된 열차 데이터**를 사용할 것입니다."
      ],
      "metadata": {
        "id": "8KLSVxGuDVN8"
      }
    },
    {
      "cell_type": "code",
      "source": [
        "# Random Forest Model\n",
        "random_forest = RandomForestClassifier(random_state=1,max_depth=4)\n",
        "random_forest.fit(X_underSampled,y_underSampled)\n",
        "\n",
        "importances = pd.DataFrame({'feature':X_underSampled.columns,'importance':np.round(random_forest.feature_importances_,3)})\n",
        "importances = importances.sort_values('importance',ascending=False)\n",
        "\n",
        "importances"
      ],
      "metadata": {
        "execution": {
          "iopub.status.busy": "2024-09-23T22:01:46.498226Z",
          "iopub.execute_input": "2024-09-23T22:01:46.498739Z",
          "iopub.status.idle": "2024-09-23T22:01:46.835936Z",
          "shell.execute_reply.started": "2024-09-23T22:01:46.498684Z",
          "shell.execute_reply": "2024-09-23T22:01:46.834612Z"
        },
        "trusted": true,
        "id": "DdwNdV5bDVN8"
      },
      "execution_count": null,
      "outputs": []
    },
    {
      "cell_type": "markdown",
      "source": [
        "나는 2% 이상의 상대적인 중요도로만 기능을 유지하고 있습니다."
      ],
      "metadata": {
        "id": "yRp6w6PNDVN9"
      }
    },
    {
      "cell_type": "code",
      "source": [
        "importances = importances[importances['importance'] > 0.02]\n",
        "\n",
        "importances"
      ],
      "metadata": {
        "execution": {
          "iopub.status.busy": "2024-09-23T22:01:46.837791Z",
          "iopub.execute_input": "2024-09-23T22:01:46.83833Z",
          "iopub.status.idle": "2024-09-23T22:01:46.854283Z",
          "shell.execute_reply.started": "2024-09-23T22:01:46.838271Z",
          "shell.execute_reply": "2024-09-23T22:01:46.852704Z"
        },
        "trusted": true,
        "id": "LtV0NCblDVN9"
      },
      "execution_count": null,
      "outputs": []
    },
    {
      "cell_type": "markdown",
      "source": [
        "**Dropping some features**"
      ],
      "metadata": {
        "id": "w48yWRejDVN9"
      }
    },
    {
      "cell_type": "markdown",
      "source": [
        "*feature* 열에 표시되는 기능을 목록으로 변경합니다."
      ],
      "metadata": {
        "id": "_7uz444aDVN-"
      }
    },
    {
      "cell_type": "code",
      "source": [
        "list_features = importances['feature'].to_list()\n",
        "\n",
        "list_features"
      ],
      "metadata": {
        "execution": {
          "iopub.status.busy": "2024-09-23T22:01:46.856251Z",
          "iopub.execute_input": "2024-09-23T22:01:46.856781Z",
          "iopub.status.idle": "2024-09-23T22:01:46.872041Z",
          "shell.execute_reply.started": "2024-09-23T22:01:46.856722Z",
          "shell.execute_reply": "2024-09-23T22:01:46.870467Z"
        },
        "trusted": true,
        "id": "kO6DmegKDVN-"
      },
      "execution_count": null,
      "outputs": []
    },
    {
      "cell_type": "markdown",
      "source": [
        "Some of these features have strong mutual correlations, like ROA(C) vs ROA(B). This is why some of them must be dropped. I will drop those that are here in the list below and also have lower feature importance.\n",
        "\n",
        "1.    ROA(C) before interest and depreciation before interest  --   ROA(A) before interest and % after tax ;  R = 0.940\n",
        "2.    ROA(C) before interest and depreciation before interest  --   ROA(B) before interest and depreciation after tax ;  R = 0.987\n",
        "3.    ROA(A) before interest and % after tax  --   ROA(B) before interest and depreciation after tax ;  R = 0.956\n",
        "4.    ROA(A) before interest and % after tax  --   Net Income to Total Assets ;  R = 0.962\n",
        "5.    ROA(B) before interest and depreciation after tax  --   Net Income to Total Assets ;  R = 0.912\n",
        "6.    Operating Gross Margin  --   Realized Sales Gross Margin ;  R = 1.000\n",
        "7.    Operating Gross Margin  --   Gross Profit to Sales ;  R = 1.000\n",
        "8.    Realized Sales Gross Margin  --   Gross Profit to Sales ;  R = 1.000\n",
        "9.    Operating Profit Rate  --   Pre-tax net Interest Rate ;  R = 0.916\n",
        "10.    Operating Profit Rate  --   Continuous interest rate (after tax) ;  R = 0.916\n",
        "11.    Pre-tax net Interest Rate  --   After-tax net Interest Rate ;  R = 0.986\n",
        "12.    Pre-tax net Interest Rate  --   Continuous interest rate (after tax) ;  R = 0.994\n",
        "13.    After-tax net Interest Rate  --   Continuous interest rate (after tax) ;  R = 0.984\n",
        "14.    Net Value Per Share (B)  --   Net Value Per Share (A) ;  R = 0.999\n",
        "15.    Net Value Per Share (B)  --   Net Value Per Share (C) ;  R = 0.999\n",
        "16.    Net Value Per Share (A)  --   Net Value Per Share (C) ;  R = 1.000\n",
        "17.    Persistent EPS in the Last Four Seasons  --   Per Share Net profit before tax (Yuan ¥) ;  R = 0.956\n",
        "18.    Persistent EPS in the Last Four Seasons  --   Net profit before tax/Paid-in capital ;  R = 0.959\n",
        "19.    Operating Profit Per Share (Yuan ¥)  --   Operating profit/Paid-in capital ;  R = 0.999\n",
        "20.    Per Share Net profit before tax (Yuan ¥)  --   Net profit before tax/Paid-in capital ;  R = 0.963\n",
        "21.    After-tax Net Profit Growth Rate  --   Regular Net Profit Growth Rate ;  R = 0.996\n",
        "22.    Debt ratio %  --   Net worth/Assets ;  R = -1.000\n",
        "23.    Borrowing dependency  --   Liability to Equity ;  R = 0.956\n",
        "24.    Current Liabilities/Liability  --   Current Liability to Liability ;  R = 1.000\n",
        "25.    Current Liabilities/Equity  --   Current Liability to Equity ;  R = 1.000\n",
        "26.    Current Liabilities/Equity  --   Liability to Equity ;  R = 0.964\n",
        "27.    Working capitcal Turnover Rate  --   Cash Flow to Sales ;  R = 0.948\n",
        "28.    Current Liability to Equity  --   Liability to Equity ;  R = 0.964"
      ],
      "metadata": {
        "id": "u9xzuBfeDVN_"
      }
    },
    {
      "cell_type": "markdown",
      "source": [
        "I will drop:\n",
        "* ROA(A)\n",
        "* ROA(C)\n",
        "* Per Share Net profit before tax (Yuan ¥)\n",
        "* Net profit before tax/Paid-in capital\n",
        "* Debt ratio %\n",
        "* Liability to Equity"
      ],
      "metadata": {
        "id": "KWyekZ0WDVOA"
      }
    },
    {
      "cell_type": "code",
      "source": [
        "list_remove = [' ROA(A) before interest and % after tax',\n",
        "               ' ROA(C) before interest and depreciation before interest',\n",
        "               ' Per Share Net profit before tax (Yuan ¥)',\n",
        "               ' Net profit before tax/Paid-in capital',\n",
        "               ' Debt ratio %',\n",
        "               ' Liability to Equity']\n",
        "\n",
        "list_features = list(set(list_features) - set(list_remove))\n",
        "\n",
        "list_features"
      ],
      "metadata": {
        "execution": {
          "iopub.status.busy": "2024-09-23T22:01:46.873555Z",
          "iopub.execute_input": "2024-09-23T22:01:46.873993Z",
          "iopub.status.idle": "2024-09-23T22:01:46.886538Z",
          "shell.execute_reply.started": "2024-09-23T22:01:46.873949Z",
          "shell.execute_reply": "2024-09-23T22:01:46.885135Z"
        },
        "trusted": true,
        "id": "HErUoXOEDVOA"
      },
      "execution_count": null,
      "outputs": []
    },
    {
      "cell_type": "markdown",
      "source": [
        "Then, I am keeping in the *X* matrix only the features that are displayed in this list."
      ],
      "metadata": {
        "id": "R_SDNSDADVOB"
      }
    },
    {
      "cell_type": "code",
      "source": [
        "X_train_US2 = X_underSampled[X_underSampled.columns.intersection(list_features)]\n",
        "X_test_US2  = X_test_under[X_test_under.columns.intersection(list_features)]\n",
        "\n",
        "X_train_OS2 = X_overSampled[X_overSampled.columns.intersection(list_features)]\n",
        "X_test_OS2  = X_test_over[X_test_over.columns.intersection(list_features)]\n",
        "\n",
        "X_test_US2.head()"
      ],
      "metadata": {
        "execution": {
          "iopub.status.busy": "2024-09-23T22:01:46.888187Z",
          "iopub.execute_input": "2024-09-23T22:01:46.888604Z",
          "iopub.status.idle": "2024-09-23T22:01:46.924713Z",
          "shell.execute_reply.started": "2024-09-23T22:01:46.888554Z",
          "shell.execute_reply": "2024-09-23T22:01:46.92349Z"
        },
        "trusted": true,
        "id": "XP6bQypxDVOB"
      },
      "execution_count": null,
      "outputs": []
    },
    {
      "cell_type": "markdown",
      "source": [
        "**Binary Classification with a Random Forest Classifier on Undersampled Data**"
      ],
      "metadata": {
        "id": "q2zX-BMjDVOC"
      }
    },
    {
      "cell_type": "markdown",
      "source": [
        "Now, I am performing a binary classification with a random forest classifier on undersampled data.\n",
        "\n",
        "I am defining a function to get the most common scores on the classification outcome."
      ],
      "metadata": {
        "id": "5oRkUjuvDVOC"
      }
    },
    {
      "cell_type": "code",
      "source": [
        "def get_test_scores(model_name:str,preds,y_test_data):\n",
        "    '''\n",
        "    Generate a table of test scores.\n",
        "\n",
        "    In:\n",
        "        model_name (string): Your choice: how the model will be named in the output table\n",
        "        preds: numpy array of test predictions\n",
        "        y_test_data: numpy array of y_test data\n",
        "\n",
        "    Out:\n",
        "        table: a pandas df of precision, recall, f1, and accuracy scores for your model\n",
        "    '''\n",
        "    accuracy  = accuracy_score(y_test_data,preds)\n",
        "    precision = precision_score(y_test_data,preds,average='macro')\n",
        "    recall    = recall_score(y_test_data,preds,average='macro')\n",
        "    f1        = f1_score(y_test_data,preds,average='macro')\n",
        "\n",
        "    table = pd.DataFrame({'model': [model_name],'precision': [precision],'recall': [recall],\n",
        "                          'F1': [f1],'accuracy': [accuracy]})\n",
        "\n",
        "    return table"
      ],
      "metadata": {
        "execution": {
          "iopub.status.busy": "2024-09-23T22:01:46.926292Z",
          "iopub.execute_input": "2024-09-23T22:01:46.926697Z",
          "iopub.status.idle": "2024-09-23T22:01:46.935876Z",
          "shell.execute_reply.started": "2024-09-23T22:01:46.926656Z",
          "shell.execute_reply": "2024-09-23T22:01:46.934328Z"
        },
        "trusted": true,
        "id": "Mc-zHP7xDVOD"
      },
      "execution_count": null,
      "outputs": []
    },
    {
      "cell_type": "markdown",
      "source": [
        "I am fitting the model on the train data, calculating the scores on the train data ..."
      ],
      "metadata": {
        "id": "_LWlgAMBDVOD"
      }
    },
    {
      "cell_type": "code",
      "source": [
        "random_forest = RandomForestClassifier(class_weight='balanced')\n",
        "\n",
        "random_forest.fit(X_train_US2,y_underSampled)\n",
        "\n",
        "# Use the model to predict on train data\n",
        "rf_train_preds = random_forest.predict(X_train_US2)\n",
        "\n",
        "rf_train_results = get_test_scores('RF (train, undersampled)',rf_train_preds,y_underSampled)\n",
        "rf_train_results"
      ],
      "metadata": {
        "execution": {
          "iopub.status.busy": "2024-09-23T22:01:46.93763Z",
          "iopub.execute_input": "2024-09-23T22:01:46.938148Z",
          "iopub.status.idle": "2024-09-23T22:01:47.243346Z",
          "shell.execute_reply.started": "2024-09-23T22:01:46.938099Z",
          "shell.execute_reply": "2024-09-23T22:01:47.241987Z"
        },
        "trusted": true,
        "id": "Gcq8i9F6DVOE"
      },
      "execution_count": null,
      "outputs": []
    },
    {
      "cell_type": "markdown",
      "source": [
        "... then, I am calculating the scores on the test data."
      ],
      "metadata": {
        "id": "MaTF8D9eDVOE"
      }
    },
    {
      "cell_type": "code",
      "source": [
        "# Use the model to predict on test data\n",
        "rf_test_preds = random_forest.predict(X_test_US2)\n",
        "\n",
        "rf_test_results = get_test_scores('RF (test, undersampling)',rf_test_preds,y_test)\n",
        "rf_test_results"
      ],
      "metadata": {
        "execution": {
          "iopub.status.busy": "2024-09-24T01:01:37.944043Z",
          "iopub.execute_input": "2024-09-24T01:01:37.945148Z",
          "iopub.status.idle": "2024-09-24T01:01:38.00313Z",
          "shell.execute_reply.started": "2024-09-24T01:01:37.945094Z",
          "shell.execute_reply": "2024-09-24T01:01:38.001945Z"
        },
        "trusted": true,
        "id": "fm-ZIE97DVOF"
      },
      "execution_count": null,
      "outputs": []
    },
    {
      "cell_type": "markdown",
      "source": [
        "Precision and F1 scores are not very good. Let's try to improve them."
      ],
      "metadata": {
        "id": "cmVkHm6dDVOF"
      }
    },
    {
      "cell_type": "markdown",
      "source": [
        "**Binary Classification with a XGBoost Classifier on Undersampled Data**"
      ],
      "metadata": {
        "id": "Tbe2owc2DVOG"
      }
    },
    {
      "cell_type": "markdown",
      "source": [
        "I am doing the same as before, but this time I will use XGBoost instead of a random forest classifier."
      ],
      "metadata": {
        "id": "pqJ_9wmIDVOG"
      }
    },
    {
      "cell_type": "code",
      "source": [
        "# Instantiate the XGBoost classifier\n",
        "xgb1 = XGBClassifier(objective='binary:logistic',random_state=42)\n",
        "\n",
        "xgb1.fit(X_train_US2,y_underSampled)\n",
        "\n",
        "# Use the model to predict on train data\n",
        "xgb_train_preds = xgb1.predict(X_train_US2)\n",
        "\n",
        "xgb_train_results = get_test_scores('XGB (train, undersampled)',xgb_train_preds,y_underSampled)\n",
        "xgb_train_results"
      ],
      "metadata": {
        "execution": {
          "iopub.status.busy": "2024-09-23T22:01:47.300578Z",
          "iopub.execute_input": "2024-09-23T22:01:47.300981Z",
          "iopub.status.idle": "2024-09-23T22:01:47.450654Z",
          "shell.execute_reply.started": "2024-09-23T22:01:47.300939Z",
          "shell.execute_reply": "2024-09-23T22:01:47.449082Z"
        },
        "trusted": true,
        "id": "2J_gXakeDVOH"
      },
      "execution_count": null,
      "outputs": []
    },
    {
      "cell_type": "code",
      "source": [
        "# Use the model to predict on test data\n",
        "xgb_test_preds = xgb1.predict(X_test_US2)\n",
        "\n",
        "xgb_test_results = get_test_scores('XGB (test, undersampling)',xgb_test_preds,y_test)\n",
        "xgb_test_results"
      ],
      "metadata": {
        "execution": {
          "iopub.status.busy": "2024-09-24T01:01:42.115717Z",
          "iopub.execute_input": "2024-09-24T01:01:42.116193Z",
          "iopub.status.idle": "2024-09-24T01:01:42.149937Z",
          "shell.execute_reply.started": "2024-09-24T01:01:42.116145Z",
          "shell.execute_reply": "2024-09-24T01:01:42.148545Z"
        },
        "trusted": true,
        "id": "ZKHZgZbjDVOH"
      },
      "execution_count": null,
      "outputs": []
    },
    {
      "cell_type": "markdown",
      "source": [
        "The results are worse than the random forest ones."
      ],
      "metadata": {
        "id": "1UJirDRYDVOI"
      }
    },
    {
      "cell_type": "markdown",
      "source": [
        "**Binary Classification with a XGBoost Classifier (and GridSearch + Cross Validation) on Undersampled Data**"
      ],
      "metadata": {
        "id": "qCCNMoC7DVOI"
      }
    },
    {
      "cell_type": "markdown",
      "source": [
        "I am using a XGBoost classifier with GridSearch and cross validation. This will make it possible to vary the parameter values and find the best combination of them."
      ],
      "metadata": {
        "id": "nRb2cF_RDVOJ"
      }
    },
    {
      "cell_type": "code",
      "source": [
        "# Instantiate the XGBoost classifier\n",
        "xgb2 = XGBClassifier(objective='binary:logistic',random_state=42)\n",
        "\n",
        "# 2. Create a dictionary of hyperparameters to tune\n",
        "cv_params = {'max_depth':[None,2,3,4,5],'min_child_weight':[4,5,6],'learning_rate': [0.01,0.05,0.1,0.2],\n",
        "             'n_estimators':[150,200,300]}\n",
        "\n",
        "# 3. Define a dictionary of scoring metrics to capture\n",
        "scoring = {'accuracy','precision','recall','f1'}\n",
        "\n",
        "# 4. Instantiate the GridSearchCV object\n",
        "xgb_cv = GridSearchCV(xgb2,cv_params,scoring=scoring,cv=4,refit='accuracy')"
      ],
      "metadata": {
        "execution": {
          "iopub.status.busy": "2024-09-23T22:01:47.488709Z",
          "iopub.execute_input": "2024-09-23T22:01:47.489208Z",
          "iopub.status.idle": "2024-09-23T22:01:47.497277Z",
          "shell.execute_reply.started": "2024-09-23T22:01:47.48915Z",
          "shell.execute_reply": "2024-09-23T22:01:47.495699Z"
        },
        "trusted": true,
        "id": "qFV0xW1uDVOJ"
      },
      "execution_count": null,
      "outputs": []
    },
    {
      "cell_type": "code",
      "source": [
        "# Model fitting on the train data\n",
        "xgb_cv.fit(X_train_US2,y_underSampled)"
      ],
      "metadata": {
        "execution": {
          "iopub.status.busy": "2024-09-23T22:03:29.78432Z",
          "iopub.execute_input": "2024-09-23T22:03:29.785248Z",
          "iopub.status.idle": "2024-09-23T22:04:48.225301Z",
          "shell.execute_reply.started": "2024-09-23T22:03:29.785196Z",
          "shell.execute_reply": "2024-09-23T22:04:48.224084Z"
        },
        "trusted": true,
        "id": "o7XnIktqDVOK"
      },
      "execution_count": null,
      "outputs": []
    },
    {
      "cell_type": "code",
      "source": [
        "# Use the model to predict on the test data\n",
        "xgb_cv_test_preds = xgb_cv.best_estimator_.predict(X_test_US2)\n",
        "\n",
        "xgb_cv_test_results = get_test_scores('XGB CV (test, undersampling)',xgb_cv_test_preds,y_test)\n",
        "\n",
        "xgb_cv_test_results"
      ],
      "metadata": {
        "execution": {
          "iopub.status.busy": "2024-09-24T01:01:46.682953Z",
          "iopub.execute_input": "2024-09-24T01:01:46.683372Z",
          "iopub.status.idle": "2024-09-24T01:01:46.722552Z",
          "shell.execute_reply.started": "2024-09-24T01:01:46.683332Z",
          "shell.execute_reply": "2024-09-24T01:01:46.72138Z"
        },
        "trusted": true,
        "id": "zc7-NpbjDVOK"
      },
      "execution_count": null,
      "outputs": []
    },
    {
      "cell_type": "markdown",
      "source": [
        "These results are not better than those obtained with the random forest classifier."
      ],
      "metadata": {
        "id": "6Jl6773eDVOL"
      }
    },
    {
      "cell_type": "markdown",
      "source": [
        "**Confusion Matrix**"
      ],
      "metadata": {
        "id": "zCslfY2tDVOL"
      }
    },
    {
      "cell_type": "code",
      "source": [
        "# Generate array of values for confusion matrix\n",
        "cm_rf_test     = confusion_matrix(y_test,rf_test_preds,labels=random_forest.classes_)\n",
        "cm_xgb_test    = confusion_matrix(y_test,xgb_test_preds,labels=xgb1.classes_)\n",
        "cm_xgb_cv_test = confusion_matrix(y_test,xgb_cv_test_preds,labels=xgb_cv.classes_)\n",
        "\n",
        "### Creating the confusion matrices ###\n",
        "fig,(ax1,ax2,ax3) = plt.subplots(ncols=3,figsize=(12,4))\n",
        "\n",
        "ax1 = sns.heatmap(cm_rf_test,annot=True,ax=ax1,fmt='.4g')\n",
        "ax1.xaxis.set_ticklabels(['No Bankrupt','Bankrupt'])\n",
        "ax1.yaxis.set_ticklabels(['No Bankrupt','Bankrupt'])\n",
        "ax1.set_title('Random Forest (Test)',fontsize=18)\n",
        "\n",
        "ax2 = sns.heatmap(cm_xgb_test,annot=True,ax=ax2,fmt='.4g')\n",
        "ax2.xaxis.set_ticklabels(['No Bankrupt','Bankrupt'])\n",
        "ax2.yaxis.set_ticklabels(['No Bankrupt','Bankrupt'])\n",
        "ax2.set_title('XGBoost (Test)',fontsize=18)\n",
        "\n",
        "ax3 = sns.heatmap(cm_xgb_cv_test,annot=True,ax=ax3,fmt='.4g')\n",
        "ax3.xaxis.set_ticklabels(['No Bankrupt','Bankrupt'])\n",
        "ax3.yaxis.set_ticklabels(['No Bankrupt','Bankrupt'])\n",
        "ax3.set_title('XGBoost CV (Test)',fontsize=18)\n",
        "\n",
        "fig.suptitle(\"Confusion Matrices of Different Models (Undersampling)\",fontsize=24)\n",
        "\n",
        "plt.tight_layout()\n",
        "fig.set_facecolor('darkgrey')"
      ],
      "metadata": {
        "execution": {
          "iopub.status.busy": "2024-09-23T22:04:54.662529Z",
          "iopub.execute_input": "2024-09-23T22:04:54.663016Z",
          "iopub.status.idle": "2024-09-23T22:04:55.950058Z",
          "shell.execute_reply.started": "2024-09-23T22:04:54.66297Z",
          "shell.execute_reply": "2024-09-23T22:04:55.948866Z"
        },
        "trusted": true,
        "id": "i3gn_dBJDVOL"
      },
      "execution_count": null,
      "outputs": []
    },
    {
      "cell_type": "markdown",
      "source": [
        "The random forest classifier provides the best results with undersampling."
      ],
      "metadata": {
        "id": "MoGb2NJXDVOM"
      }
    },
    {
      "cell_type": "markdown",
      "source": [
        "**Binary Classification with a Random Forest Classifier on Oversampled Data**"
      ],
      "metadata": {
        "id": "yBX7I35ODVOM"
      }
    },
    {
      "cell_type": "markdown",
      "source": [
        "I am doing basically the same as before, but I will use oversampled instead of undersampled data."
      ],
      "metadata": {
        "id": "TDLKiwDEDVON"
      }
    },
    {
      "cell_type": "code",
      "source": [
        "random_forest = RandomForestClassifier(class_weight='balanced')\n",
        "\n",
        "random_forest.fit(X_train_OS2,y_overSampled)\n",
        "\n",
        "# Use the model to predict on train data\n",
        "rf_train_preds = random_forest.predict(X_train_OS2)\n",
        "\n",
        "rf_train_results = get_test_scores('RF (train, oversampled)',rf_train_preds,y_overSampled)\n",
        "rf_train_results"
      ],
      "metadata": {
        "execution": {
          "iopub.status.busy": "2024-09-23T22:05:36.685177Z",
          "iopub.execute_input": "2024-09-23T22:05:36.68566Z",
          "iopub.status.idle": "2024-09-23T22:05:39.489848Z",
          "shell.execute_reply.started": "2024-09-23T22:05:36.685616Z",
          "shell.execute_reply": "2024-09-23T22:05:39.488516Z"
        },
        "trusted": true,
        "id": "nwsNQobaDVON"
      },
      "execution_count": null,
      "outputs": []
    },
    {
      "cell_type": "code",
      "source": [
        "# Use the model to predict on test data\n",
        "rf_test_preds = random_forest.predict(X_test_OS2)\n",
        "\n",
        "rf_test_over_results = get_test_scores('RF (test, oversampling)',rf_test_preds,y_test)\n",
        "rf_test_over_results"
      ],
      "metadata": {
        "execution": {
          "iopub.status.busy": "2024-09-24T00:56:47.625686Z",
          "iopub.execute_input": "2024-09-24T00:56:47.626142Z",
          "iopub.status.idle": "2024-09-24T00:56:47.685909Z",
          "shell.execute_reply.started": "2024-09-24T00:56:47.626098Z",
          "shell.execute_reply": "2024-09-24T00:56:47.684748Z"
        },
        "trusted": true,
        "id": "BWfZzIcqDVOO"
      },
      "execution_count": null,
      "outputs": []
    },
    {
      "cell_type": "markdown",
      "source": [
        "It seems that the use of an oversampled train set improves the results."
      ],
      "metadata": {
        "id": "8oY-G3khDVOO"
      }
    },
    {
      "cell_type": "markdown",
      "source": [
        "**Binary Classification with a XGBoost Classifier (and GridSearch + Cross Validation) on Oversampled Data**"
      ],
      "metadata": {
        "id": "vZuVPlqQDVOO"
      }
    },
    {
      "cell_type": "code",
      "source": [
        "%%time\n",
        "xgb_cv.fit(X_train_OS2,y_overSampled)"
      ],
      "metadata": {
        "execution": {
          "iopub.status.busy": "2024-09-23T22:06:06.595417Z",
          "iopub.execute_input": "2024-09-23T22:06:06.59587Z",
          "iopub.status.idle": "2024-09-23T22:09:28.217535Z",
          "shell.execute_reply.started": "2024-09-23T22:06:06.595829Z",
          "shell.execute_reply": "2024-09-23T22:09:28.216302Z"
        },
        "trusted": true,
        "id": "CpMvHRpYDVOP"
      },
      "execution_count": null,
      "outputs": []
    },
    {
      "cell_type": "code",
      "source": [
        "# Use the model to predict on test data\n",
        "xgb_cv_test_preds = xgb_cv.best_estimator_.predict(X_test_OS2)\n",
        "\n",
        "xgb_cv_test_over_results = get_test_scores('XGB CV (test, oversampling)',xgb_cv_test_preds,y_test)\n",
        "\n",
        "xgb_cv_test_over_results"
      ],
      "metadata": {
        "execution": {
          "iopub.status.busy": "2024-09-24T00:56:43.535572Z",
          "iopub.execute_input": "2024-09-24T00:56:43.536046Z",
          "iopub.status.idle": "2024-09-24T00:56:43.587474Z",
          "shell.execute_reply.started": "2024-09-24T00:56:43.536002Z",
          "shell.execute_reply": "2024-09-24T00:56:43.585954Z"
        },
        "trusted": true,
        "id": "dI9AwtBVDVOP"
      },
      "execution_count": null,
      "outputs": []
    },
    {
      "cell_type": "markdown",
      "source": [
        "**Binary Classification with a Random Forest Classifier (and GridSearch + Cross Validation) on Oversampled Data**"
      ],
      "metadata": {
        "id": "tB331R7YDVOQ"
      }
    },
    {
      "cell_type": "code",
      "source": [
        "# 1. Instantiate the random forest classifier\n",
        "rf = RandomForestClassifier(random_state=42)\n",
        "\n",
        "# 2. Create a dictionary of hyperparameters to tune\n",
        "cv_params = {'max_depth': [2,3,4,5,None],'max_features': [1.0],'max_samples': [1.0],\n",
        "             'min_samples_leaf': [2,3,4],'min_samples_split': [2,3,4],'n_estimators': [200,300,400]}\n",
        "\n",
        "# 3. Define a dictionary of scoring metrics to capture\n",
        "scoring = {'accuracy','precision','recall','f1'}\n",
        "\n",
        "# 4. Instantiate the GridSearchCV object\n",
        "rf_cv = GridSearchCV(rf,cv_params,scoring=scoring,cv=4,refit='accuracy')"
      ],
      "metadata": {
        "execution": {
          "iopub.status.busy": "2024-09-23T22:13:22.41708Z",
          "iopub.execute_input": "2024-09-23T22:13:22.418033Z",
          "iopub.status.idle": "2024-09-23T22:13:22.425767Z",
          "shell.execute_reply.started": "2024-09-23T22:13:22.417985Z",
          "shell.execute_reply": "2024-09-23T22:13:22.42439Z"
        },
        "trusted": true,
        "id": "HwB6woFGDVOQ"
      },
      "execution_count": null,
      "outputs": []
    },
    {
      "cell_type": "code",
      "source": [
        "%%time\n",
        "rf_cv.fit(X_train_OS2,y_overSampled)"
      ],
      "metadata": {
        "execution": {
          "iopub.status.busy": "2024-09-23T23:33:06.406722Z",
          "iopub.execute_input": "2024-09-23T23:33:06.40758Z",
          "iopub.status.idle": "2024-09-24T00:52:15.922839Z",
          "shell.execute_reply.started": "2024-09-23T23:33:06.407523Z",
          "shell.execute_reply": "2024-09-24T00:52:15.92158Z"
        },
        "trusted": true,
        "id": "uRPWVbQFDVOR"
      },
      "execution_count": null,
      "outputs": []
    },
    {
      "cell_type": "code",
      "source": [
        "# Use the model to predict on test data\n",
        "rf_grid_test_preds = rf_cv.best_estimator_.predict(X_test_OS2)\n",
        "\n",
        "rf_grid_test_over_results = get_test_scores('RF Grid (test, oversampling)',rf_grid_test_preds,y_test)\n",
        "\n",
        "rf_grid_test_over_results"
      ],
      "metadata": {
        "execution": {
          "iopub.status.busy": "2024-09-24T00:57:19.598693Z",
          "iopub.execute_input": "2024-09-24T00:57:19.59993Z",
          "iopub.status.idle": "2024-09-24T00:57:19.714498Z",
          "shell.execute_reply.started": "2024-09-24T00:57:19.59985Z",
          "shell.execute_reply": "2024-09-24T00:57:19.713177Z"
        },
        "trusted": true,
        "id": "YxHkCU2wDVOR"
      },
      "execution_count": null,
      "outputs": []
    },
    {
      "cell_type": "code",
      "source": [
        "# Generate array of values for confusion matrix\n",
        "cm_rf2_test     = confusion_matrix(y_test,rf_test_preds,labels=random_forest.classes_)\n",
        "cm_xgb2_test    = confusion_matrix(y_test,xgb_cv_test_preds,labels=xgb_cv.classes_)\n",
        "cm_rf2_cv_test  = confusion_matrix(y_test,rf_grid_test_preds,labels=rf_cv.classes_)\n",
        "\n",
        "### Creating the confusion matrices ###\n",
        "fig,(ax1,ax2,ax3) = plt.subplots(ncols=3,figsize=(12,4))\n",
        "\n",
        "ax1 = sns.heatmap(cm_rf2_test,annot=True,ax=ax1,fmt='.4g')\n",
        "ax1.xaxis.set_ticklabels(['No Bankrupt','Bankrupt'])\n",
        "ax1.yaxis.set_ticklabels(['No Bankrupt','Bankrupt'])\n",
        "ax1.set_title('Random Forest (Test)',fontsize=18)\n",
        "\n",
        "ax2 = sns.heatmap(cm_xgb2_test,annot=True,ax=ax2,fmt='.4g')\n",
        "ax2.xaxis.set_ticklabels(['No Bankrupt','Bankrupt'])\n",
        "ax2.yaxis.set_ticklabels(['No Bankrupt','Bankrupt'])\n",
        "ax2.set_title('XGBoost (Test)',fontsize=18)\n",
        "\n",
        "ax3 = sns.heatmap(cm_rf2_cv_test,annot=True,ax=ax3,fmt='.4g')\n",
        "ax3.xaxis.set_ticklabels(['No Bankrupt','Bankrupt'])\n",
        "ax3.yaxis.set_ticklabels(['No Bankrupt','Bankrupt'])\n",
        "ax3.set_title('Random Forest CV (Test)',fontsize=18)\n",
        "\n",
        "fig.suptitle(\"Confusion Matrices of Different Models (Oversampling)\",fontsize=24)\n",
        "\n",
        "plt.tight_layout()\n",
        "fig.set_facecolor('darkgrey')"
      ],
      "metadata": {
        "execution": {
          "iopub.status.busy": "2024-09-24T00:57:45.345592Z",
          "iopub.execute_input": "2024-09-24T00:57:45.346722Z",
          "iopub.status.idle": "2024-09-24T00:57:46.5795Z",
          "shell.execute_reply.started": "2024-09-24T00:57:45.346587Z",
          "shell.execute_reply": "2024-09-24T00:57:46.578151Z"
        },
        "trusted": true,
        "id": "hwqFxf-6DVOS"
      },
      "execution_count": null,
      "outputs": []
    },
    {
      "cell_type": "markdown",
      "source": [
        "**Comparison Between the Different Models**"
      ],
      "metadata": {
        "id": "y0e_fDzWDVOS"
      }
    },
    {
      "cell_type": "code",
      "source": [
        "results = pd.concat([rf_test_results,xgb_test_results,xgb_cv_test_results,\n",
        "                     rf_test_over_results,xgb_cv_test_over_results,rf_grid_test_over_results],axis=0)\n",
        "\n",
        "results.sort_values(by=['accuracy'],ascending=False)"
      ],
      "metadata": {
        "execution": {
          "iopub.status.busy": "2024-09-24T01:02:01.164707Z",
          "iopub.execute_input": "2024-09-24T01:02:01.165174Z",
          "iopub.status.idle": "2024-09-24T01:02:01.183543Z",
          "shell.execute_reply.started": "2024-09-24T01:02:01.165127Z",
          "shell.execute_reply": "2024-09-24T01:02:01.182254Z"
        },
        "trusted": true,
        "id": "FVjAO46lDVOT"
      },
      "execution_count": null,
      "outputs": []
    },
    {
      "cell_type": "markdown",
      "source": [
        "# Useful Reads"
      ],
      "metadata": {
        "id": "a4MkEDFFDVOT"
      }
    },
    {
      "cell_type": "markdown",
      "source": [
        "[1] Jacopo Ferretti, [*Bank Marketing Campaign (Segmentation + Binary Classification)*](https://www.kaggle.com/code/jacopoferretti/bank-marketing-campaign-segment-binary-classif), Kaggle.\n",
        "\n",
        "[2] Jacopo Ferretti, [*Credit Card Fraud Detection (Resampling + Cross Validation)*](https://www.kaggle.com/code/jacopoferretti/credit-card-fraud-detection-resampling-cross-val), Kaggle."
      ],
      "metadata": {
        "id": "4cm_G2XEDVOU"
      }
    }
  ]
}