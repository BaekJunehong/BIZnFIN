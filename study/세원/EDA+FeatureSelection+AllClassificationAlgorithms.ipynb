{
  "metadata": {
    "kernelspec": {
      "language": "python",
      "display_name": "Python 3",
      "name": "python3"
    },
    "language_info": {
      "pygments_lexer": "ipython3",
      "nbconvert_exporter": "python",
      "version": "3.6.4",
      "file_extension": ".py",
      "codemirror_mode": {
        "name": "ipython",
        "version": 3
      },
      "name": "python",
      "mimetype": "text/x-python"
    },
    "kaggle": {
      "accelerator": "none",
      "dataSources": [
        {
          "sourceId": 1938459,
          "sourceType": "datasetVersion",
          "datasetId": 1111894
        }
      ],
      "dockerImageVersionId": 30066,
      "isInternetEnabled": false,
      "language": "python",
      "sourceType": "notebook",
      "isGpuEnabled": false
    },
    "colab": {
      "name": "EDA+FeatureSelection+AllClassificationAlgorithms",
      "provenance": []
    }
  },
  "nbformat_minor": 0,
  "nbformat": 4,
  "cells": [
    {
      "cell_type": "markdown",
      "source": [
        "출처: https://www.kaggle.com/code/imsewonyyy/eda-featureselection-allclassificationalgorithms/edit"
      ],
      "metadata": {
        "id": "IOqpdjrL-qNR"
      }
    },
    {
      "source": [
        "\n",
        "# IMPORTANT: RUN THIS CELL IN ORDER TO IMPORT YOUR KAGGLE DATA SOURCES\n",
        "# TO THE CORRECT LOCATION (/kaggle/input) IN YOUR NOTEBOOK,\n",
        "# THEN FEEL FREE TO DELETE THIS CELL.\n",
        "# NOTE: THIS NOTEBOOK ENVIRONMENT DIFFERS FROM KAGGLE'S PYTHON\n",
        "# ENVIRONMENT SO THERE MAY BE MISSING LIBRARIES USED BY YOUR\n",
        "# NOTEBOOK.\n",
        "\n",
        "import os\n",
        "import sys\n",
        "from tempfile import NamedTemporaryFile\n",
        "from urllib.request import urlopen\n",
        "from urllib.parse import unquote, urlparse\n",
        "from urllib.error import HTTPError\n",
        "from zipfile import ZipFile\n",
        "import tarfile\n",
        "import shutil\n",
        "\n",
        "CHUNK_SIZE = 40960\n",
        "DATA_SOURCE_MAPPING = 'company-bankruptcy-prediction:https%3A%2F%2Fstorage.googleapis.com%2Fkaggle-data-sets%2F1111894%2F1938459%2Fbundle%2Farchive.zip%3FX-Goog-Algorithm%3DGOOG4-RSA-SHA256%26X-Goog-Credential%3Dgcp-kaggle-com%2540kaggle-161607.iam.gserviceaccount.com%252F20240930%252Fauto%252Fstorage%252Fgoog4_request%26X-Goog-Date%3D20240930T032911Z%26X-Goog-Expires%3D259200%26X-Goog-SignedHeaders%3Dhost%26X-Goog-Signature%3D208340d87bf04f8e1a11cb16620195cc3d0c7935296035f4ab851c5315eca2fb006247790b6528ce411878a413be0cc82b06b24d826cfb304778d6b1afb88a6eeb5f2a606a4d7feda43cae19d6d8b050ebdded9e462ed89b86623cefcd3bf7d3932f7c0418054bef86bffafca574618045cb8bdc58270a6a31131ed18d3d9fdb02645e7316f8bf52496162178b03673a0db2fbb79ffc02362beb24ebf527fc01dfd95be0c6572abd05617821e602a7b6f614b4bb664eea73820af948dce320ac4152fd733448d47150976cfd717a2a8b8b76a93b343668d166e4c0cb355bfde61690550a9230b0af2aaa6a27b0eee0800764275b0b3d4b4c4229a4fc01cadf53'\n",
        "\n",
        "KAGGLE_INPUT_PATH='/kaggle/input'\n",
        "KAGGLE_WORKING_PATH='/kaggle/working'\n",
        "KAGGLE_SYMLINK='kaggle'\n",
        "\n",
        "!umount /kaggle/input/ 2> /dev/null\n",
        "shutil.rmtree('/kaggle/input', ignore_errors=True)\n",
        "os.makedirs(KAGGLE_INPUT_PATH, 0o777, exist_ok=True)\n",
        "os.makedirs(KAGGLE_WORKING_PATH, 0o777, exist_ok=True)\n",
        "\n",
        "try:\n",
        "  os.symlink(KAGGLE_INPUT_PATH, os.path.join(\"..\", 'input'), target_is_directory=True)\n",
        "except FileExistsError:\n",
        "  pass\n",
        "try:\n",
        "  os.symlink(KAGGLE_WORKING_PATH, os.path.join(\"..\", 'working'), target_is_directory=True)\n",
        "except FileExistsError:\n",
        "  pass\n",
        "\n",
        "for data_source_mapping in DATA_SOURCE_MAPPING.split(','):\n",
        "    directory, download_url_encoded = data_source_mapping.split(':')\n",
        "    download_url = unquote(download_url_encoded)\n",
        "    filename = urlparse(download_url).path\n",
        "    destination_path = os.path.join(KAGGLE_INPUT_PATH, directory)\n",
        "    try:\n",
        "        with urlopen(download_url) as fileres, NamedTemporaryFile() as tfile:\n",
        "            total_length = fileres.headers['content-length']\n",
        "            print(f'Downloading {directory}, {total_length} bytes compressed')\n",
        "            dl = 0\n",
        "            data = fileres.read(CHUNK_SIZE)\n",
        "            while len(data) > 0:\n",
        "                dl += len(data)\n",
        "                tfile.write(data)\n",
        "                done = int(50 * dl / int(total_length))\n",
        "                sys.stdout.write(f\"\\r[{'=' * done}{' ' * (50-done)}] {dl} bytes downloaded\")\n",
        "                sys.stdout.flush()\n",
        "                data = fileres.read(CHUNK_SIZE)\n",
        "            if filename.endswith('.zip'):\n",
        "              with ZipFile(tfile) as zfile:\n",
        "                zfile.extractall(destination_path)\n",
        "            else:\n",
        "              with tarfile.open(tfile.name) as tarfile:\n",
        "                tarfile.extractall(destination_path)\n",
        "            print(f'\\nDownloaded and uncompressed: {directory}')\n",
        "    except HTTPError as e:\n",
        "        print(f'Failed to load (likely expired) {download_url} to path {destination_path}')\n",
        "        continue\n",
        "    except OSError as e:\n",
        "        print(f'Failed to load {download_url} to path {destination_path}')\n",
        "        continue\n",
        "\n",
        "print('Data source import complete.')\n"
      ],
      "metadata": {
        "id": "u9PQpuZO-aKZ"
      },
      "cell_type": "code",
      "outputs": [],
      "execution_count": null
    },
    {
      "cell_type": "markdown",
      "source": [
        "속성 정보:\n",
        "총 95개의 기능이 있습니다. 이 데이터 세트에는 많은 기능이 있습니다. 데이터 세트 설명은 데이터 페이지 자체에 제공됩니다. EDA를 맹목적으로 수행하기 전에 데이터에 대한 정보를 확보하는 것이 중요합니다.\n",
        "\n",
        "https://www.kaggle.com/fedesoriano/company-bankruptcy-prediction\n",
        "\n",
        "먼저 원시 데이터에 대해 모델을 훈련하고, 특징 선택 기법을 사용하여 일부 기능을 강조 표시하고 선택한 기능에 대해 훈련할 것입니다. 따라서 모델과 정확도를 비교할 것입니다.\n",
        "\n",
        "우리 플랜\n",
        "1. 데이터 세트 관찰\n",
        "2. 탐색적 데이터 분석\n",
        "\n",
        "2.1 데이터 세트 청소\n",
        "2.2 데이터 불균형 확인\n",
        "3. 데이터 전처리\n",
        "\n",
        "3.2 교육 및 테스트 분할\n",
        "3.2 랜덤 포레스트 기능 선택\n",
        "3.3 PCA\n",
        "4. 모델, 하이퍼파라미터 튜닝, 교차 검증 및 모델 평가\n",
        "\n",
        "4.1 로지스틱 회귀 분석\n",
        "4.2 나이브 베이즈\n",
        "4.3 K-가장 가까운 이웃\n",
        "4.4 의사 결정 트리\n",
        "4.5 랜덤 포레스트\n",
        "4.6 XGBoost\n",
        "\n",
        "\n",
        "-\n",
        "    \n"
      ],
      "metadata": {
        "id": "X5SaipVt-aKb"
      }
    },
    {
      "cell_type": "markdown",
      "source": [
        "# 1. 데이터세트 관찰"
      ],
      "metadata": {
        "id": "wiqfNqwN-aKf"
      }
    },
    {
      "cell_type": "code",
      "source": [
        "import pandas as pd\n",
        "pd.set_option('max_columns', None)"
      ],
      "metadata": {
        "trusted": true,
        "id": "XBf1LJsx-aKg"
      },
      "execution_count": null,
      "outputs": []
    },
    {
      "cell_type": "code",
      "source": [
        "path = \"../input/company-bankruptcy-prediction/\""
      ],
      "metadata": {
        "trusted": true,
        "id": "Aa4mBnQL-aKh"
      },
      "execution_count": null,
      "outputs": []
    },
    {
      "cell_type": "code",
      "source": [
        "df = pd.read_csv(path + 'data.csv')"
      ],
      "metadata": {
        "trusted": true,
        "id": "fkAmvQOw-aKi"
      },
      "execution_count": null,
      "outputs": []
    },
    {
      "cell_type": "code",
      "source": [
        "df.head()"
      ],
      "metadata": {
        "trusted": true,
        "id": "8eaI9Eun-aKi"
      },
      "execution_count": null,
      "outputs": []
    },
    {
      "cell_type": "code",
      "source": [
        "df.shape"
      ],
      "metadata": {
        "trusted": true,
        "id": "ewrFjRUh-aKj"
      },
      "execution_count": null,
      "outputs": []
    },
    {
      "cell_type": "code",
      "source": [
        "import seaborn as sns\n",
        "import matplotlib.pyplot as plt\n",
        "\n",
        "import warnings\n",
        "warnings.filterwarnings(\"ignore\")"
      ],
      "metadata": {
        "trusted": true,
        "id": "ZOpyi6Gl-aKk"
      },
      "execution_count": null,
      "outputs": []
    },
    {
      "cell_type": "code",
      "source": [
        "corr = df.corr()"
      ],
      "metadata": {
        "trusted": true,
        "id": "nlivIgTt-aKl"
      },
      "execution_count": null,
      "outputs": []
    },
    {
      "cell_type": "code",
      "source": [
        "fig, ax = plt.subplots(figsize = (15,15))\n",
        "sns.heatmap(corr, ax = ax, cmap = 'viridis', linewidth = 0.1)"
      ],
      "metadata": {
        "trusted": true,
        "id": "buGrc9fP-aKl"
      },
      "execution_count": null,
      "outputs": []
    },
    {
      "cell_type": "code",
      "source": [
        "df.info()"
      ],
      "metadata": {
        "collapsed": true,
        "jupyter": {
          "outputs_hidden": true
        },
        "trusted": true,
        "id": "CSqXdQlJ-aKl"
      },
      "execution_count": null,
      "outputs": []
    },
    {
      "cell_type": "markdown",
      "source": [
        "관찰\n",
        "모든 기능은 숫자입니다(int64 또는 float64)\n",
        "모든 값은 -1에서 1 사이로 조정됩니다."
      ],
      "metadata": {
        "id": "FAqlGGIm-aKm"
      }
    },
    {
      "cell_type": "markdown",
      "source": [
        "탐색적 데이터 분석\n",
        "\n",
        "2.1 데이터 불균형 확인\n",
        "\n",
        "2.2 이상치\n",
        "\n",
        "2.3 null 값 채우기\n"
      ],
      "metadata": {
        "id": "kFGWrjC9-aKm"
      }
    },
    {
      "cell_type": "markdown",
      "source": [
        "### 2.1 데이터 불균형 확인"
      ],
      "metadata": {
        "id": "oeENnl8E-aKn"
      }
    },
    {
      "cell_type": "code",
      "source": [
        "df['Bankrupt?'].value_counts()"
      ],
      "metadata": {
        "trusted": true,
        "id": "mwoF5pCq-aKn"
      },
      "execution_count": null,
      "outputs": []
    },
    {
      "cell_type": "code",
      "source": [
        "print('Financially stable:', round(df['Bankrupt?'].value_counts()[0] / len(df) * 100,2) ,'%')\n",
        "print('Financially unstable:', round(df['Bankrupt?'].value_counts()[1] / len(df) * 100, 2), '%')"
      ],
      "metadata": {
        "trusted": true,
        "id": "TUR3RDvG-aKn"
      },
      "execution_count": null,
      "outputs": []
    },
    {
      "cell_type": "markdown",
      "source": [
        "우리는 데이터가 재정적으로 안정적이라는 방향으로 매우 왜곡되어 있음을 알 수 있습니다. 이 데이터 세트에서 모델을 훈련하면 예측이 재정적으로 안정적이라는 방향으로 편향될 것입니다.\n",
        "\n",
        "우리는 모델을 훈련하기 위해 데이터 세트의 균형을 맞출 것입니다.\n",
        "\n",
        "참고: 원래 데이터 세트가 얼마나 불균형한지 알아보세요! 대부분의 회사는 재무적으로 안정적입니다. 이 데이터 프레임을 예측 모델과 분석의 기반으로 사용하면 많은 오류가 발생할 수 있으며, 대부분의 회사가 재무적으로 안정적이라고 \"추정\"하기 때문에 알고리즘이 과적합될 가능성이 높습니다. 하지만 우리는 모델이 파산 징후를 보이는 패턴을 감지하지 않기를 바랍니다!"
      ],
      "metadata": {
        "id": "DLoCs6jv-aKn"
      }
    },
    {
      "cell_type": "code",
      "source": [
        "## Visualizing the datas\n",
        "\n",
        "sns.set_theme(context = 'paper')\n",
        "\n",
        "\n",
        "plt.figure(figsize = (8,8))\n",
        "sns.countplot(x = 'Bankrupt?', data = df);\n",
        "plt.title('Class Distributions: \\n 0: Financially Stable & 1: Financially Unstable');"
      ],
      "metadata": {
        "trusted": true,
        "id": "KnA7VtcB-aKn"
      },
      "execution_count": null,
      "outputs": []
    },
    {
      "cell_type": "markdown",
      "source": [
        "데이터 분할(오리지널 데이터프레임)\n",
        "랜덤언더샘플링 기법을 진행하기 전에 원본 데이터 프레임을 분리해야 합니다.\n",
        "\n",
        "왜요?\n",
        "\n",
        "테스트 목적으로 무작위 언더샘플링 또는 오버샘플링 기술을 구현할 때 데이터를 분할하고 있지만, 이러한 기술 중 어느 것도 생성한 테스트 세트가 아닌 원래 테스트 세트에서 모델을 테스트하고자 합니다. 주요 목표는 언더샘플링 및 오버샘플링된 데이터 프레임에 모델을 맞추고 원래 테스트 세트에서 테스트하는 것입니다(모델이 패턴을 감지할 수 있도록)."
      ],
      "metadata": {
        "id": "_RkoEtU8-aKo"
      }
    },
    {
      "cell_type": "code",
      "source": [
        "from sklearn.model_selection import train_test_split\n",
        "from sklearn.model_selection import StratifiedShuffleSplit\n",
        "from sklearn.model_selection import KFold, StratifiedKFold\n",
        "\n",
        "print(\"Financially Stable:\", round(df['Bankrupt?'].value_counts()[0] / len(df) * 100, 2), '% of the dataset')\n",
        "print(\"Financially Unstable:\", round(df['Bankrupt?'].value_counts()[1] / len(df) * 100,2),'% of the dataset')\n",
        "\n",
        "X = df.drop('Bankrupt?', axis = 1)\n",
        "y = df['Bankrupt?']\n",
        "\n",
        "sss = StratifiedKFold(n_splits = 5, random_state = None, shuffle = False)\n",
        "\n",
        "for train_index, test_index in sss.split(X,y):\n",
        "    print(\"\\n Train\", train_index, \"Test\", test_index)\n",
        "    org_Xtrain, org_Xtest = X.iloc[train_index], X.iloc[test_index]\n",
        "    org_ytrain, org_ytest = y.iloc[train_index], y.iloc[test_index]\n",
        ""
      ],
      "metadata": {
        "trusted": true,
        "id": "zj-Mxdxc-aKo"
      },
      "execution_count": null,
      "outputs": []
    },
    {
      "cell_type": "code",
      "source": [
        "import numpy as np"
      ],
      "metadata": {
        "trusted": true,
        "id": "D05WsIvJ-aKo"
      },
      "execution_count": null,
      "outputs": []
    },
    {
      "cell_type": "code",
      "source": [
        "## turn into an array\n",
        "\n",
        "org_Xtrain = org_Xtrain.values\n",
        "org_Xtest = org_Xtest.values\n",
        "org_ytrain = org_ytrain.values\n",
        "org_ytest = org_ytest.values\n",
        "\n",
        "## See if both the train and test label distribution are similarly distributed\n",
        "train_unique_label, train_counts_label = np.unique(org_ytrain, return_counts = True)\n",
        "test_unique_label, test_counts_label = np.unique(org_ytest, return_counts = True)\n",
        "\n",
        "print('Label Distirubtions: \\n')\n",
        "print(train_counts_label / len(org_ytrain))\n",
        "print(test_counts_label / len(org_ytest))"
      ],
      "metadata": {
        "trusted": true,
        "id": "ToY4NJla-aKo"
      },
      "execution_count": null,
      "outputs": []
    },
    {
      "cell_type": "markdown",
      "source": [
        "무작위 언더샘플링 및 오버샘플링\n",
        "\n",
        "프로젝트의 이 단계에서는 보다 균형 잡힌 데이터 세트를 확보하기 위해 기본적으로 데이터를 제거하고 모델이 과적합되지 않도록 하는 '랜덤 언더 샘플링'을 구현할 것입니다.\n"
      ],
      "metadata": {
        "id": "VIj4rQWK-aKp"
      }
    },
    {
      "cell_type": "code",
      "source": [
        "## Lets shuffle the data before creating the subsamples\n",
        "\n",
        "xdf = df.sample(frac = 1)\n",
        "\n",
        "## amount of Financially unstable data is 220\n",
        "# sdf = Financially stable\n",
        "# ndf = Financially unstable\n",
        "\n",
        "sdf = df.loc[xdf['Bankrupt?'] == 0][:220]\n",
        "ndf = df.loc[xdf['Bankrupt?']==1]\n",
        "\n",
        "normal_distributed_df = pd.concat([sdf, ndf])\n",
        "\n",
        "# Shuffling again\n",
        "\n",
        "nxdf = normal_distributed_df.sample(frac = 1, random_state = 42)"
      ],
      "metadata": {
        "trusted": true,
        "id": "4f9iT_SE-aKp"
      },
      "execution_count": null,
      "outputs": []
    },
    {
      "cell_type": "code",
      "source": [
        "nxdf.head()"
      ],
      "metadata": {
        "trusted": true,
        "id": "lCfFvIBC-aKp"
      },
      "execution_count": null,
      "outputs": []
    },
    {
      "cell_type": "code",
      "source": [
        "## Checking new dataframe\n",
        "\n",
        "print(\"Distribution of the Classes in the subsample dataset\")\n",
        "print(nxdf['Bankrupt?'].value_counts() / len(nxdf))\n",
        "\n",
        "sns.countplot('Bankrupt?', data = nxdf)\n",
        "plt.title(\"Equally Distributed Class\", fontsize = 14)\n",
        "plt.show()"
      ],
      "metadata": {
        "trusted": true,
        "id": "oVL-WlS5-aKp"
      },
      "execution_count": null,
      "outputs": []
    },
    {
      "cell_type": "markdown",
      "source": [
        "#### 상관 행렬\n",
        "\n",
        "상관 행렬은 데이터를 이해하는 데 있어 핵심입니다. 특정 거래가 사기인지 여부에 큰 영향을 미치는 기능이 있는지 알고 싶습니다. 그러나 사기 거래와 관련하여 어떤 기능이 높은 양의 상관관계를 갖는지 확인하려면 올바른 데이터 프레임(하위 샘플)을 사용하는 것이 중요합니다."
      ],
      "metadata": {
        "id": "y-0-4Ztv-aKq"
      }
    },
    {
      "cell_type": "code",
      "source": [
        "## make sure we use the subsampe in our correlation\n",
        "\n",
        "f, (ax1, ax2) = plt.subplots(2,1, figsize = (54,50))\n",
        "\n",
        "## Entire data frame\n",
        "\n",
        "corr = df.corr()\n",
        "sns.heatmap(corr, cmap = 'coolwarm_r', annot_kws = {'size': 20}, ax= ax1)\n",
        "ax1.set_title(\"Imbalanced Correlated Matrix \\n\")\n",
        "\n",
        "\n",
        "sub_sample_corr = nxdf.corr()\n",
        "sns.heatmap(sub_sample_corr, cmap = 'coolwarm_r', annot_kws = {'size': 20}, ax = ax2)\n",
        "ax2.set_title(\"SubSample Correlation Matrix\")\n",
        "plt.show()"
      ],
      "metadata": {
        "scrolled": true,
        "trusted": true,
        "id": "SSCezgof-aKq"
      },
      "execution_count": null,
      "outputs": []
    },
    {
      "cell_type": "code",
      "source": [
        "nxdf.hist(bins = 50, figsize = (35,20))\n",
        "plt.show()"
      ],
      "metadata": {
        "trusted": true,
        "id": "bIFjcBUC-aKq"
      },
      "execution_count": null,
      "outputs": []
    },
    {
      "cell_type": "markdown",
      "source": [
        "\n",
        "파란색 사각형 상자와 빨간색 사각형 상자가 많이 있는데, 이는 해당 열이 하나 또는 다른 열과 상관관계가 높거나 낮음을 나타냅니다. 따라서 PCA(차원 감소) 기술 큐를 사용합니다.\n",
        "\n",
        "PCA 대 기능 선택?\n",
        "\n",
        "https://stackoverflow.com/questions/16249625/difference-between-pca-principal-component-analysis-and-feature-selection#:~:text=The%20difference%20is%20that%20PCA,takes%20the%20target%20into%20consideration.&text=PCA%20is%20based%20on%20extracting,data%20shows%20the%20highest%20variability.\n",
        "\n",
        "위의 매우 좋은 답변을 덧붙이자면 다음과 같습니다. 차이점은 PCA가 데이터의 한 특징이 다른 특징(선형 종속성)으로 어떻게 표현되는지 탐구하여 차원을 줄이려고 한다는 것입니다. 대신 특징 선택은 대상을 고려합니다. 입력 변수의 순위를 목표 값을 예측하는 데 얼마나 유용한지에 따라 결정됩니다. 이는 일변량 특징 선택의 경우에도 마찬가지입니다. 다중 변수 특징 선택은 입력의 일부 특징을 폐기한다는 의미에서 PCA의 한 형태로 간주할 수 있는 작업도 수행할 수 있습니다. 하지만 이 비유를 너무 멀리 받아들이지 마세요."
      ],
      "metadata": {
        "id": "UIyAp6Jf-aKq"
      }
    },
    {
      "cell_type": "markdown",
      "source": [
        "## 3. 데이터 전처리\n",
        "\n",
        "- 교육 및 테스트 분할\n",
        "- 랜덤 포레스트를 사용한 기능 선택\n",
        "- PCA"
      ],
      "metadata": {
        "id": "knT17JVt-aKr"
      }
    },
    {
      "cell_type": "markdown",
      "source": [
        "#### 교육 및 테스트 분할\n"
      ],
      "metadata": {
        "id": "GBh6qzro-aKr"
      }
    },
    {
      "cell_type": "code",
      "source": [
        "## this is equally sampled dataset (perfectly balanced target)\n",
        "\n",
        "X = nxdf.drop(['Bankrupt?'],1)\n",
        "y = nxdf['Bankrupt?']\n",
        "\n",
        "rf_fs_Xtrain, rf_fs_Xtest, rf_fs_ytrain, rf_fs_ytest = train_test_split(X,y, test_size = 0.1, random_state = 1)"
      ],
      "metadata": {
        "trusted": true,
        "id": "Hpayatsx-aKr"
      },
      "execution_count": null,
      "outputs": []
    },
    {
      "cell_type": "code",
      "source": [
        "from sklearn.ensemble import RandomForestClassifier\n",
        "from sklearn.feature_selection import SelectFromModel"
      ],
      "metadata": {
        "trusted": true,
        "id": "-DimJ01C-aKr"
      },
      "execution_count": null,
      "outputs": []
    },
    {
      "cell_type": "markdown",
      "source": [
        "### 랜덤 포레스트를 사용한 기능 선택"
      ],
      "metadata": {
        "id": "c9_uxuBT-aKs"
      }
    },
    {
      "cell_type": "code",
      "source": [
        "## modelling with balanced traget\n",
        "\n",
        "model = RandomForestClassifier(n_estimators=1000, random_state=0, n_jobs=-1)\n",
        "model.fit(rf_fs_Xtrain, rf_fs_ytrain)\n",
        "\n",
        "sel = SelectFromModel(model)"
      ],
      "metadata": {
        "trusted": true,
        "id": "HRE2e-uA-aKs"
      },
      "execution_count": null,
      "outputs": []
    },
    {
      "cell_type": "code",
      "source": [
        "## balanced target\n",
        "\n",
        "sel.fit(rf_fs_Xtrain, rf_fs_ytrain)"
      ],
      "metadata": {
        "trusted": true,
        "id": "pmQmS-VX-aKs"
      },
      "execution_count": null,
      "outputs": []
    },
    {
      "cell_type": "code",
      "source": [
        "# balanced\n",
        "\n",
        "selected_feat= rf_fs_Xtrain.columns[(sel.get_support())]\n",
        "len(selected_feat)"
      ],
      "metadata": {
        "trusted": true,
        "id": "7UYD0fi1-aKs"
      },
      "execution_count": null,
      "outputs": []
    },
    {
      "cell_type": "code",
      "source": [
        "selected_feat"
      ],
      "metadata": {
        "trusted": true,
        "id": "Nhrt_xvs-aK1"
      },
      "execution_count": null,
      "outputs": []
    },
    {
      "cell_type": "code",
      "source": [
        "## Creating a dataframe for only selected values to train later\n",
        "\n",
        "rf_fs = pd.DataFrame()\n",
        "\n",
        "for column in selected_feat:\n",
        "    if column in nxdf:\n",
        "        rf_fs[column] = nxdf[column].values\n",
        "\n"
      ],
      "metadata": {
        "trusted": true,
        "id": "t1YG_J6K-aK1"
      },
      "execution_count": null,
      "outputs": []
    },
    {
      "cell_type": "code",
      "source": [
        "rf_fs"
      ],
      "metadata": {
        "trusted": true,
        "id": "mfyC5Onm-aK2"
      },
      "execution_count": null,
      "outputs": []
    },
    {
      "cell_type": "markdown",
      "source": [
        "### PCA"
      ],
      "metadata": {
        "id": "4PkCYELz-aK2"
      }
    },
    {
      "cell_type": "code",
      "source": [
        "from sklearn.decomposition import PCA"
      ],
      "metadata": {
        "trusted": true,
        "id": "bfFf09yJ-aK2"
      },
      "execution_count": null,
      "outputs": []
    },
    {
      "cell_type": "code",
      "source": [
        "n_components = 2\n",
        "pca = PCA(n_components = n_components)\n",
        "pca.fit(nxdf)"
      ],
      "metadata": {
        "trusted": true,
        "id": "c8-ZtPxE-aK2"
      },
      "execution_count": null,
      "outputs": []
    },
    {
      "cell_type": "code",
      "source": [
        "X_reduced_pca = PCA(n_components=2, random_state=42).fit_transform(rf_fs_Xtrain.values)"
      ],
      "metadata": {
        "trusted": true,
        "id": "echazqaL-aK3"
      },
      "execution_count": null,
      "outputs": []
    },
    {
      "cell_type": "code",
      "source": [
        "x_pca = pca.transform(nxdf)"
      ],
      "metadata": {
        "trusted": true,
        "id": "lojL44pt-aK3"
      },
      "execution_count": null,
      "outputs": []
    },
    {
      "cell_type": "code",
      "source": [
        "x_pca.shape"
      ],
      "metadata": {
        "trusted": true,
        "id": "736IdNiK-aK3"
      },
      "execution_count": null,
      "outputs": []
    },
    {
      "cell_type": "code",
      "source": [
        "# PCA scatter plot\n",
        "plt.figure(figsize = (8,8))\n",
        "plt.scatter(X_reduced_pca[:,0], X_reduced_pca[:,1], c=(rf_fs_ytrain == 0), cmap='coolwarm', label= 'Stable_Company', linewidths=2)\n",
        "plt.scatter(X_reduced_pca[:,0], X_reduced_pca[:,1], c=(rf_fs_ytrain == 1), cmap='coolwarm', label= 'Unstable_Company', linewidths=2)\n",
        "plt.show()"
      ],
      "metadata": {
        "trusted": true,
        "id": "_xGl8Kd0-aK3"
      },
      "execution_count": null,
      "outputs": []
    },
    {
      "cell_type": "markdown",
      "source": [
        "## 모델 테스트\n",
        "\n",
        "우리는 모든 데이터 세트(즉, 각 모델에 대한 일반적인 랜덤 포레스트 특징 선택 및 PCA 데이터 세트)를 테스트할 것입니다.\n",
        "\n",
        "비교를 위해 새로운 데이터프레임을 만들고 어떤 방법이 더 나은 성능을 보였는지 비교할 것입니다\n",
        "\n",
        "또한 분류 문제이므로 다음과 같은 알고리즘으로 테스트합니다\n",
        "\n",
        "- 로지스틱 회귀 분석\n",
        "- 나이브 베이즈\n",
        "- KNN\n",
        "- 의사 결정 트리\n",
        "- 랜덤 포레스트\n",
        "- SVM"
      ],
      "metadata": {
        "id": "ZcdeEuEq-aK4"
      }
    },
    {
      "cell_type": "markdown",
      "source": [
        "#### 모델에 대한 모든 데이터 세트 준비하기\n",
        "\n",
        "- <b> nxdf </b>는 원래 데이터 세트입니다.\n",
        "- <b> rf_fs </b>는 랜덤 포레스트에서 피처 선택이 가능한 데이터 세트입니다\n"
      ],
      "metadata": {
        "id": "dnJzzw3Z-aK4"
      }
    },
    {
      "cell_type": "code",
      "source": [
        "## Splitting dataset for Normal data without feature selection\n",
        "\n",
        "X_train, X_test, y_train, y_test = train_test_split(nxdf.drop('Bankrupt?', axis = 1), nxdf['Bankrupt?'],test_size = 0.1, random_state = 1)"
      ],
      "metadata": {
        "trusted": true,
        "id": "jFD778gh-aK4"
      },
      "execution_count": null,
      "outputs": []
    },
    {
      "cell_type": "code",
      "source": [
        "nxdf.shape"
      ],
      "metadata": {
        "trusted": true,
        "id": "wOSB25on-aK4"
      },
      "execution_count": null,
      "outputs": []
    },
    {
      "cell_type": "code",
      "source": [
        "rf_fs.shape"
      ],
      "metadata": {
        "trusted": true,
        "id": "0Cv0YsD1-aK5"
      },
      "execution_count": null,
      "outputs": []
    },
    {
      "cell_type": "markdown",
      "source": [
        "- <b> rf_fs </b> 목표 기능 <b> 파산? </b>는 이미 삭제되었습니다. nxdf와 rf_fs의 목표 값이 동일하다는 것을 알고 있으므로 선택한 데이터 세트를 분할하는 데 nxdf의 목표 값을 사용합니다"
      ],
      "metadata": {
        "id": "fr56EbZy-aK5"
      }
    },
    {
      "cell_type": "code",
      "source": [
        "## Splitting RandomForest Feature Selection dataset\n",
        "\n",
        "fs_Xtrain, fs_Xtest, fs_ytrain, fs_ytest = train_test_split(rf_fs, nxdf['Bankrupt?'], test_size = 0.1, random_state = 1)"
      ],
      "metadata": {
        "trusted": true,
        "id": "3b7VhQmu-aK5"
      },
      "execution_count": null,
      "outputs": []
    },
    {
      "cell_type": "code",
      "source": [
        "model_score = pd.DataFrame(columns = (\"Original_Dataset\",\"Selected_Dataset\"))"
      ],
      "metadata": {
        "trusted": true,
        "id": "dCwHvviS-aK6"
      },
      "execution_count": null,
      "outputs": []
    },
    {
      "cell_type": "markdown",
      "source": [
        "# Logistic Regression"
      ],
      "metadata": {
        "id": "GEjs0FXx-aK6"
      }
    },
    {
      "cell_type": "code",
      "source": [
        "from sklearn.linear_model import LogisticRegression\n",
        "from sklearn import metrics\n",
        "from sklearn.metrics import classification_report\n",
        "from sklearn.metrics import confusion_matrix, precision_score, recall_score, confusion_matrix"
      ],
      "metadata": {
        "trusted": true,
        "id": "DsQjKZq3-aK6"
      },
      "execution_count": null,
      "outputs": []
    },
    {
      "cell_type": "markdown",
      "source": [
        "### Original Dataset"
      ],
      "metadata": {
        "id": "zgk7Zwbl-aK7"
      }
    },
    {
      "cell_type": "code",
      "source": [
        "lrmodel1 = LogisticRegression(max_iter = 1000)\n",
        "lrmodel1.fit(X_train, y_train)\n",
        "score1 = lrmodel1.score(X_test, y_test)\n",
        "lr_pred1 = lrmodel1.predict(X_test)"
      ],
      "metadata": {
        "trusted": true,
        "id": "4MLKJ6WQ-aK7"
      },
      "execution_count": null,
      "outputs": []
    },
    {
      "cell_type": "code",
      "source": [
        "## Accuracy on Original Datset without Feature Selection:\n",
        "\n",
        "print(\"Score:\", score1)"
      ],
      "metadata": {
        "trusted": true,
        "id": "gSTxP2w9-aK7"
      },
      "execution_count": null,
      "outputs": []
    },
    {
      "cell_type": "code",
      "source": [
        "lr_cm1 = confusion_matrix(y_test, lr_pred1, labels = (1,0))"
      ],
      "metadata": {
        "trusted": true,
        "id": "FtnTRInS-aK7"
      },
      "execution_count": null,
      "outputs": []
    },
    {
      "cell_type": "code",
      "source": [
        "lr_cm1"
      ],
      "metadata": {
        "trusted": true,
        "id": "lcvQ2y5C-aK8"
      },
      "execution_count": null,
      "outputs": []
    },
    {
      "cell_type": "code",
      "source": [
        "x_axis_labels = [1,0]\n",
        "y_axis_labels = [1,0]\n",
        "\n",
        "sns.set(font_scale=1.4)\n",
        "sns.heatmap(lr_cm1, xticklabels = x_axis_labels, yticklabels = y_axis_labels, annot = True, annot_kws = {'size': 16})\n",
        "plt.xlabel(\"Actual Class\")\n",
        "plt.ylabel(\"Predicted Class\")\n",
        "plt.show()"
      ],
      "metadata": {
        "trusted": true,
        "id": "3qAvzvKR-aK8"
      },
      "execution_count": null,
      "outputs": []
    },
    {
      "cell_type": "code",
      "source": [
        "y_test.value_counts()"
      ],
      "metadata": {
        "trusted": true,
        "id": "EPymsixG-aK8"
      },
      "execution_count": null,
      "outputs": []
    },
    {
      "cell_type": "markdown",
      "source": [
        "\n"
      ],
      "metadata": {
        "id": "ZEoBcear-aK8"
      }
    },
    {
      "cell_type": "markdown",
      "source": [
        "### 기능 선택 데이터 세트"
      ],
      "metadata": {
        "id": "s4a9u_8j-aK9"
      }
    },
    {
      "cell_type": "code",
      "source": [
        "lrmodel2 = LogisticRegression(max_iter = 1000)\n",
        "lrmodel2.fit(fs_Xtrain, fs_ytrain)\n",
        "score2 = lrmodel2.score(fs_Xtest, fs_ytest)\n",
        "lr_ypred2 = lrmodel2.predict(fs_Xtest)"
      ],
      "metadata": {
        "trusted": true,
        "id": "ZqDtZ4Yd-aK9"
      },
      "execution_count": null,
      "outputs": []
    },
    {
      "cell_type": "code",
      "source": [
        "print(\"Score\", score2)"
      ],
      "metadata": {
        "trusted": true,
        "id": "ekdtKton-aK9"
      },
      "execution_count": null,
      "outputs": []
    },
    {
      "cell_type": "code",
      "source": [
        "lr_cm2 = confusion_matrix(fs_ytest, lr_ypred2, labels = (1,0))\n",
        "print(\"Confusion Matrix: \\n\", lr_cm2)"
      ],
      "metadata": {
        "trusted": true,
        "id": "nJkGANjb-aK9"
      },
      "execution_count": null,
      "outputs": []
    },
    {
      "cell_type": "code",
      "source": [
        "x_axis_labels = [1,0]\n",
        "y_axis_labels = [1,0]\n",
        "\n",
        "sns.set(font_scale=1.4)\n",
        "sns.heatmap(lr_cm2, xticklabels = x_axis_labels, yticklabels = y_axis_labels, annot = True, annot_kws = {'size': 16})\n",
        "plt.xlabel(\"Actual Class\")\n",
        "plt.ylabel(\"Predicted Class\")\n",
        "plt.show()"
      ],
      "metadata": {
        "trusted": true,
        "id": "yL-GPaew-aK-"
      },
      "execution_count": null,
      "outputs": []
    },
    {
      "cell_type": "code",
      "source": [
        "model_score = model_score.append(pd.DataFrame({'Original_Dataset':[score1], 'Selected_Dataset': [score2]}, index = ['LogisticRegression']))"
      ],
      "metadata": {
        "trusted": true,
        "id": "MM6Odvc7-aK-"
      },
      "execution_count": null,
      "outputs": []
    },
    {
      "cell_type": "code",
      "source": [
        "model_score"
      ],
      "metadata": {
        "trusted": true,
        "id": "jkcG1mU7-aK_"
      },
      "execution_count": null,
      "outputs": []
    },
    {
      "cell_type": "markdown",
      "source": [
        "# Naive Bayes"
      ],
      "metadata": {
        "id": "CVXtXfjN-aK_"
      }
    },
    {
      "cell_type": "code",
      "source": [
        "from sklearn.naive_bayes import GaussianNB"
      ],
      "metadata": {
        "trusted": true,
        "id": "kBJkJmP_-aK_"
      },
      "execution_count": null,
      "outputs": []
    },
    {
      "cell_type": "markdown",
      "source": [
        "### Original dataset"
      ],
      "metadata": {
        "id": "6lAw1hjE-aK_"
      }
    },
    {
      "cell_type": "code",
      "source": [
        "naiveb1 = GaussianNB()"
      ],
      "metadata": {
        "trusted": true,
        "id": "WcBTGOj2-aLA"
      },
      "execution_count": null,
      "outputs": []
    },
    {
      "cell_type": "code",
      "source": [
        "naiveb1.fit(X_train, y_train)\n",
        "score1 = naiveb1.score(X_test, y_test)\n",
        "nb_pred1 = naiveb1.predict(X_test)"
      ],
      "metadata": {
        "trusted": true,
        "id": "DQSAwcDe-aLA"
      },
      "execution_count": null,
      "outputs": []
    },
    {
      "cell_type": "code",
      "source": [
        "print(\"Score:\", score1)"
      ],
      "metadata": {
        "trusted": true,
        "id": "T9Z_OZ29-aLA"
      },
      "execution_count": null,
      "outputs": []
    },
    {
      "cell_type": "code",
      "source": [
        "nb_cm1 = confusion_matrix(y_test, nb_pred1, labels = (1,0))"
      ],
      "metadata": {
        "trusted": true,
        "id": "jrc-tSlI-aLA"
      },
      "execution_count": null,
      "outputs": []
    },
    {
      "cell_type": "code",
      "source": [
        "print(\"Confusion Matrix: \\n\", nb_cm1)"
      ],
      "metadata": {
        "trusted": true,
        "id": "Kr46Vk8Y-aLB"
      },
      "execution_count": null,
      "outputs": []
    },
    {
      "cell_type": "code",
      "source": [
        "x_axis_labels = [1,0]\n",
        "y_axis_labels = [1,0]\n",
        "\n",
        "sns.set(font_scale=1.4)\n",
        "sns.heatmap(nb_cm1, xticklabels = x_axis_labels, yticklabels = y_axis_labels, annot = True, annot_kws = {'size': 16})\n",
        "plt.xlabel(\"Actual Class\")\n",
        "plt.ylabel(\"Predicted Class\")\n",
        "plt.show()"
      ],
      "metadata": {
        "trusted": true,
        "id": "v0ywRJVa-aLB"
      },
      "execution_count": null,
      "outputs": []
    },
    {
      "cell_type": "markdown",
      "source": [
        "### Feature Selection Dataset"
      ],
      "metadata": {
        "id": "biDfdvR7-aLB"
      }
    },
    {
      "cell_type": "code",
      "source": [
        "naiveb2 = GaussianNB()"
      ],
      "metadata": {
        "trusted": true,
        "id": "_1-3FMY2-aLB"
      },
      "execution_count": null,
      "outputs": []
    },
    {
      "cell_type": "code",
      "source": [
        "naiveb2.fit(fs_Xtrain, fs_ytrain)\n",
        "score2 = naiveb2.score(fs_Xtest, fs_ytest)\n",
        "nb_pred2 = naiveb2.predict(fs_Xtest)"
      ],
      "metadata": {
        "trusted": true,
        "id": "V9nDQpap-aLC"
      },
      "execution_count": null,
      "outputs": []
    },
    {
      "cell_type": "code",
      "source": [
        "print(\"Score:\", score2)"
      ],
      "metadata": {
        "trusted": true,
        "id": "gwcAGvOh-aLC"
      },
      "execution_count": null,
      "outputs": []
    },
    {
      "cell_type": "code",
      "source": [
        "nb_cm2 = confusion_matrix(fs_ytest, nb_pred2, labels = [1,0])\n",
        "print(\"Confusion Matrix: \\n\", nb_cm2)"
      ],
      "metadata": {
        "trusted": true,
        "id": "YSR6eO5Z-aLC"
      },
      "execution_count": null,
      "outputs": []
    },
    {
      "cell_type": "code",
      "source": [
        "x_axis_labels = [1,0]\n",
        "y_axis_labels = [1,0]\n",
        "\n",
        "sns.set(font_scale=1.4)\n",
        "sns.heatmap(nb_cm2, xticklabels = x_axis_labels, yticklabels = y_axis_labels, annot = True, annot_kws = {'size': 16})\n",
        "plt.xlabel(\"Actual Class\")\n",
        "plt.ylabel(\"Predicted Class\")\n",
        "plt.show()"
      ],
      "metadata": {
        "scrolled": true,
        "trusted": true,
        "id": "NjvetXYB-aLC"
      },
      "execution_count": null,
      "outputs": []
    },
    {
      "cell_type": "code",
      "source": [
        "model_score = model_score.append(pd.DataFrame({'Original_Dataset': [score1], 'Selected_Dataset': [score2]}, index = ['NaiveBayes']))"
      ],
      "metadata": {
        "trusted": true,
        "id": "X18PRdnz-aLD"
      },
      "execution_count": null,
      "outputs": []
    },
    {
      "cell_type": "code",
      "source": [
        "model_score"
      ],
      "metadata": {
        "trusted": true,
        "id": "xsXIKteG-aLD"
      },
      "execution_count": null,
      "outputs": []
    },
    {
      "cell_type": "markdown",
      "source": [
        "# KNN"
      ],
      "metadata": {
        "id": "pUGR0BK5-aLD"
      }
    },
    {
      "cell_type": "code",
      "source": [
        "from sklearn.neighbors import KNeighborsClassifier"
      ],
      "metadata": {
        "trusted": true,
        "id": "qxmfKEsI-aLD"
      },
      "execution_count": null,
      "outputs": []
    },
    {
      "cell_type": "markdown",
      "source": [
        "### Original Dataset"
      ],
      "metadata": {
        "id": "Ef6RVmiH-aLE"
      }
    },
    {
      "cell_type": "code",
      "source": [
        "knn1 = KNeighborsClassifier(n_neighbors = 7)"
      ],
      "metadata": {
        "trusted": true,
        "id": "wV21-2Xn-aLE"
      },
      "execution_count": null,
      "outputs": []
    },
    {
      "cell_type": "code",
      "source": [
        "knn1.fit(X_train, y_train)"
      ],
      "metadata": {
        "trusted": true,
        "id": "HLj5XT79-aLE"
      },
      "execution_count": null,
      "outputs": []
    },
    {
      "cell_type": "code",
      "source": [
        "score1 = knn1.score(X_test, y_test)\n",
        "print(score1)"
      ],
      "metadata": {
        "trusted": true,
        "id": "w98ffL7C-aLE"
      },
      "execution_count": null,
      "outputs": []
    },
    {
      "cell_type": "code",
      "source": [
        "knn_pred1 = knn1.predict(X_test)\n",
        "knn_cm1 = confusion_matrix(y_test, knn_pred1, labels = (1,0))\n",
        "print(\"Confusion Matrix:\\n\", knn_cm1)"
      ],
      "metadata": {
        "trusted": true,
        "id": "3ilBGQv7-aLF"
      },
      "execution_count": null,
      "outputs": []
    },
    {
      "cell_type": "code",
      "source": [
        "x_axis_labels = [1,0]\n",
        "y_axis_labels = [1,0]\n",
        "\n",
        "sns.set(font_scale=1.4)\n",
        "sns.heatmap(knn_cm1, xticklabels = x_axis_labels, yticklabels = y_axis_labels, annot = True, annot_kws = {'size': 16})\n",
        "plt.xlabel(\"Actual Class\")\n",
        "plt.ylabel(\"Predicted Class\")\n",
        "plt.show()"
      ],
      "metadata": {
        "trusted": true,
        "id": "sYY2UhoX-aLF"
      },
      "execution_count": null,
      "outputs": []
    },
    {
      "cell_type": "code",
      "source": [
        "### Hyperparameter tuning for KNN"
      ],
      "metadata": {
        "trusted": true,
        "id": "oy3pSUyS-aLF"
      },
      "execution_count": null,
      "outputs": []
    },
    {
      "cell_type": "code",
      "source": [
        "error_rate = []\n",
        "\n",
        "for i in range(1,40):\n",
        "    knn = KNeighborsClassifier(n_neighbors = i)\n",
        "    knn.fit(X_train, y_train)\n",
        "    pred_knn = knn.predict(X_test)\n",
        "    error_rate.append(np.mean(pred_knn != y_test))"
      ],
      "metadata": {
        "trusted": true,
        "id": "xrvU1DO9-aLF"
      },
      "execution_count": null,
      "outputs": []
    },
    {
      "cell_type": "code",
      "source": [
        "plt.figure(figsize = (8,8))\n",
        "plt.plot(range(1,40), error_rate, color = 'blue', linestyle = 'dashed', marker = 'o', markerfacecolor = 'red', markersize = 10);\n",
        "plt.title('Error Rate vs K Value')\n",
        "plt.xlabel('K')\n",
        "plt.ylabel('Error Rate')"
      ],
      "metadata": {
        "trusted": true,
        "id": "TbWXy27l-aLG"
      },
      "execution_count": null,
      "outputs": []
    },
    {
      "cell_type": "code",
      "source": [
        "## let's see how much difference does it makes\n",
        "\n",
        "tuned_knn1 = KNeighborsClassifier(n_neighbors = 4)\n",
        "tuned_knn1.fit(X_train, y_train)"
      ],
      "metadata": {
        "trusted": true,
        "id": "_eXGCOjV-aLG"
      },
      "execution_count": null,
      "outputs": []
    },
    {
      "cell_type": "code",
      "source": [
        "tuned_score1 = tuned_knn1.score(X_test, y_test)\n",
        "print(tuned_score1)"
      ],
      "metadata": {
        "scrolled": true,
        "trusted": true,
        "id": "UAl9Csr_-aLG"
      },
      "execution_count": null,
      "outputs": []
    },
    {
      "cell_type": "markdown",
      "source": [
        "We can see, it's not that different"
      ],
      "metadata": {
        "id": "7jOGsurK-aLG"
      }
    },
    {
      "cell_type": "markdown",
      "source": [
        "### Feature Selection Dataset"
      ],
      "metadata": {
        "id": "1SD6xNeG-aLH"
      }
    },
    {
      "cell_type": "code",
      "source": [
        "knn2 = KNeighborsClassifier(n_neighbors = 7)\n",
        "knn2.fit(fs_Xtrain, fs_ytrain)"
      ],
      "metadata": {
        "trusted": true,
        "id": "vCLmW9UH-aLH"
      },
      "execution_count": null,
      "outputs": []
    },
    {
      "cell_type": "code",
      "source": [
        "score2 = knn2.score(fs_Xtest, fs_ytest)\n",
        "print(score2)"
      ],
      "metadata": {
        "trusted": true,
        "id": "Uz8mWUN--aLH"
      },
      "execution_count": null,
      "outputs": []
    },
    {
      "cell_type": "code",
      "source": [
        "knn_pred2 = knn2.predict(fs_Xtest)\n",
        "knn_cm2 = confusion_matrix(fs_ytest, knn_pred2, labels = (1,0))\n",
        "print(\"Confusion Matrix: \\n\", knn_cm2)"
      ],
      "metadata": {
        "trusted": true,
        "id": "DMejVrwh-aLH"
      },
      "execution_count": null,
      "outputs": []
    },
    {
      "cell_type": "code",
      "source": [
        "x_axis_labels = [1,0]\n",
        "y_axis_labels = [1,0]\n",
        "\n",
        "sns.set(font_scale=1.4)\n",
        "sns.heatmap(knn_cm2, xticklabels = x_axis_labels, yticklabels = y_axis_labels, annot = True, annot_kws = {'size': 16})\n",
        "plt.xlabel(\"Actual Class\")\n",
        "plt.ylabel(\"Predicted Class\")\n",
        "plt.show()"
      ],
      "metadata": {
        "trusted": true,
        "id": "fmDdtCEW-aLI"
      },
      "execution_count": null,
      "outputs": []
    },
    {
      "cell_type": "code",
      "source": [
        "## Hyperparamter tuning for this"
      ],
      "metadata": {
        "trusted": true,
        "id": "s3Pu4d2g-aLI"
      },
      "execution_count": null,
      "outputs": []
    },
    {
      "cell_type": "code",
      "source": [
        "error_rate = []\n",
        "\n",
        "for i in range(1,40):\n",
        "    knn = KNeighborsClassifier(n_neighbors = i)\n",
        "    knn.fit(fs_Xtrain, fs_ytrain)\n",
        "    pred_knn = knn.predict(fs_Xtest)\n",
        "    error_rate.append(np.mean(pred_knn != fs_ytest))"
      ],
      "metadata": {
        "trusted": true,
        "id": "bJaBegf8-aLM"
      },
      "execution_count": null,
      "outputs": []
    },
    {
      "cell_type": "code",
      "source": [
        "plt.figure(figsize = (8,8))\n",
        "plt.plot(range(1,40), error_rate, color = 'blue', linestyle = 'dashed', marker = 'o', markerfacecolor = 'red', markersize = 10);\n",
        "plt.title('Error Rate vs K Value')\n",
        "plt.xlabel('K')\n",
        "plt.ylabel('Error Rate')"
      ],
      "metadata": {
        "trusted": true,
        "id": "fGskel3p-aLM"
      },
      "execution_count": null,
      "outputs": []
    },
    {
      "cell_type": "markdown",
      "source": [
        "K = 5로 테스트해 보겠습니다"
      ],
      "metadata": {
        "id": "AWiHNgKX-aLN"
      }
    },
    {
      "cell_type": "code",
      "source": [
        "tuned_knn2 = KNeighborsClassifier(n_neighbors = 14)\n",
        "tuned_knn2.fit(fs_Xtrain, fs_ytrain)"
      ],
      "metadata": {
        "trusted": true,
        "id": "7ZTINgRt-aLN"
      },
      "execution_count": null,
      "outputs": []
    },
    {
      "cell_type": "code",
      "source": [
        "tuned_score2 = tuned_knn2.score(fs_Xtest, fs_ytest)\n",
        "print(tuned_score2)"
      ],
      "metadata": {
        "trusted": true,
        "id": "Jp6hyURQ-aLN"
      },
      "execution_count": null,
      "outputs": []
    },
    {
      "cell_type": "code",
      "source": [
        "tuned_knn_pred2 = knn.predict(fs_Xtest)\n",
        "tuned_cm2 = confusion_matrix(fs_ytest, tuned_knn_pred2, labels = (1,0))\n",
        "print(\"Confusion Matrix: \\n\", tuned_cm2)"
      ],
      "metadata": {
        "scrolled": true,
        "trusted": true,
        "id": "2-QGn7f6-aLO"
      },
      "execution_count": null,
      "outputs": []
    },
    {
      "cell_type": "code",
      "source": [
        "x_axis_labels = [1,0]\n",
        "y_axis_labels = [1,0]\n",
        "\n",
        "sns.set(font_scale=1.4)\n",
        "sns.heatmap(tuned_cm2, xticklabels = x_axis_labels, yticklabels = y_axis_labels, annot = True, annot_kws = {'size': 16})\n",
        "plt.xlabel(\"Actual Class\")\n",
        "plt.ylabel(\"Predicted Class\")\n",
        "plt.show()"
      ],
      "metadata": {
        "trusted": true,
        "id": "MhPCTU8g-aLO"
      },
      "execution_count": null,
      "outputs": []
    },
    {
      "cell_type": "markdown",
      "source": [
        "A bit better but not that great"
      ],
      "metadata": {
        "id": "0TJhMuTW-aLO"
      }
    },
    {
      "cell_type": "code",
      "source": [
        "model_score = model_score.append(pd.DataFrame({'Original_Dataset': [tuned_score1], 'Selected_Dataset': [tuned_score2]}, index = ['KNN']))\n"
      ],
      "metadata": {
        "trusted": true,
        "id": "l6velIxp-aLP"
      },
      "execution_count": null,
      "outputs": []
    },
    {
      "cell_type": "code",
      "source": [
        "model_score"
      ],
      "metadata": {
        "trusted": true,
        "id": "g7CV_GmM-aLP"
      },
      "execution_count": null,
      "outputs": []
    },
    {
      "cell_type": "markdown",
      "source": [
        "# Decision Tree"
      ],
      "metadata": {
        "id": "FSfR9Idk-aLP"
      }
    },
    {
      "cell_type": "code",
      "source": [
        "from sklearn.tree import DecisionTreeClassifier"
      ],
      "metadata": {
        "trusted": true,
        "id": "z1jgbOhG-aLP"
      },
      "execution_count": null,
      "outputs": []
    },
    {
      "cell_type": "code",
      "source": [
        "dt1 = DecisionTreeClassifier()"
      ],
      "metadata": {
        "trusted": true,
        "id": "nYIjYHwP-aLQ"
      },
      "execution_count": null,
      "outputs": []
    },
    {
      "cell_type": "markdown",
      "source": [
        "### Original data"
      ],
      "metadata": {
        "id": "Bl3mgFO3-aLQ"
      }
    },
    {
      "cell_type": "code",
      "source": [
        "dt1 = dt1.fit(X_train, y_train)"
      ],
      "metadata": {
        "trusted": true,
        "id": "78AU5Dcz-aLQ"
      },
      "execution_count": null,
      "outputs": []
    },
    {
      "cell_type": "code",
      "source": [
        "score1 = dt1.score(X_test, y_test)\n",
        "print(score1)"
      ],
      "metadata": {
        "trusted": true,
        "id": "YOwnAgMD-aLQ"
      },
      "execution_count": null,
      "outputs": []
    },
    {
      "cell_type": "code",
      "source": [
        "dt_pred1 = dt1.predict(X_test)\n",
        "dt_cm1 = confusion_matrix(y_test, dt_pred1, labels = [1,0])\n",
        "print(\"Confusion Matrix: \\n\", dt_cm1)"
      ],
      "metadata": {
        "scrolled": true,
        "trusted": true,
        "id": "W4EXsX1r-aLR"
      },
      "execution_count": null,
      "outputs": []
    },
    {
      "cell_type": "code",
      "source": [
        "x_axis_labels = [1,0]\n",
        "y_axis_labels = [1,0]\n",
        "\n",
        "sns.set(font_scale=1.4)\n",
        "sns.heatmap(dt_cm1, xticklabels = x_axis_labels, yticklabels = y_axis_labels, annot = True, annot_kws = {'size': 16})\n",
        "plt.xlabel(\"Actual Class\")\n",
        "plt.ylabel(\"Predicted Class\")\n",
        "plt.show()"
      ],
      "metadata": {
        "trusted": true,
        "id": "eoNFt-1g-aLR"
      },
      "execution_count": null,
      "outputs": []
    },
    {
      "cell_type": "markdown",
      "source": [
        "### Feature Selection Data"
      ],
      "metadata": {
        "id": "djvMKXaZ-aLS"
      }
    },
    {
      "cell_type": "code",
      "source": [
        "dt2 = DecisionTreeClassifier()"
      ],
      "metadata": {
        "trusted": true,
        "id": "5GeZbpHR-aLS"
      },
      "execution_count": null,
      "outputs": []
    },
    {
      "cell_type": "code",
      "source": [
        "dt2 = dt2.fit(fs_Xtrain, fs_ytrain)"
      ],
      "metadata": {
        "trusted": true,
        "id": "5iENwaiQ-aLS"
      },
      "execution_count": null,
      "outputs": []
    },
    {
      "cell_type": "code",
      "source": [
        "score2 = dt2.score(fs_Xtest, fs_ytest)\n",
        "print(score2)"
      ],
      "metadata": {
        "trusted": true,
        "id": "3j-ust78-aLS"
      },
      "execution_count": null,
      "outputs": []
    },
    {
      "cell_type": "code",
      "source": [
        "dt_pred2 = dt2.predict(fs_Xtest)\n",
        "dt_cm2 = confusion_matrix(fs_ytest, dt_pred2, labels = [1,0])\n",
        "print(\"Confusion Matrix: \\n\", dt_cm2)"
      ],
      "metadata": {
        "trusted": true,
        "id": "iAWkgWPf-aLT"
      },
      "execution_count": null,
      "outputs": []
    },
    {
      "cell_type": "code",
      "source": [
        "x_axis_labels = [1,0]\n",
        "y_axis_labels = [1,0]\n",
        "\n",
        "sns.set(font_scale=1.4)\n",
        "sns.heatmap(dt_cm2, xticklabels = x_axis_labels, yticklabels = y_axis_labels, annot = True, annot_kws = {'size': 16})\n",
        "plt.xlabel(\"Actual Class\")\n",
        "plt.ylabel(\"Predicted Class\")\n",
        "plt.show()"
      ],
      "metadata": {
        "scrolled": true,
        "trusted": true,
        "id": "mb-v9z7v-aLT"
      },
      "execution_count": null,
      "outputs": []
    },
    {
      "cell_type": "code",
      "source": [
        "model_score = model_score.append(pd.DataFrame({'Original_Dataset': [score1], 'Selected_Dataset': [score2]}, index = ['DecisionTrees']))\n"
      ],
      "metadata": {
        "trusted": true,
        "id": "DHbehnGA-aLT"
      },
      "execution_count": null,
      "outputs": []
    },
    {
      "cell_type": "code",
      "source": [
        "model_score"
      ],
      "metadata": {
        "trusted": true,
        "id": "NNefnu6X-aLU"
      },
      "execution_count": null,
      "outputs": []
    },
    {
      "cell_type": "markdown",
      "source": [
        "# Random Forest"
      ],
      "metadata": {
        "id": "2j95EBgu-aLU"
      }
    },
    {
      "cell_type": "code",
      "source": [
        "rfclf1 = RandomForestClassifier(n_estimators = 100)"
      ],
      "metadata": {
        "trusted": true,
        "id": "5Sq6k_KB-aLU"
      },
      "execution_count": null,
      "outputs": []
    },
    {
      "cell_type": "markdown",
      "source": [
        "### With Original dataset"
      ],
      "metadata": {
        "id": "WWA0dRXM-aLU"
      }
    },
    {
      "cell_type": "code",
      "source": [
        "rfclf1.fit(X_train, y_train)"
      ],
      "metadata": {
        "trusted": true,
        "id": "RTcXdwoP-aLV"
      },
      "execution_count": null,
      "outputs": []
    },
    {
      "cell_type": "code",
      "source": [
        "score1 = rfclf1.score(X_test, y_test)\n",
        "print(score1)"
      ],
      "metadata": {
        "trusted": true,
        "id": "_edARQhe-aLV"
      },
      "execution_count": null,
      "outputs": []
    },
    {
      "cell_type": "code",
      "source": [
        "rf_pred1 = rfclf1.predict(X_test)\n",
        "rf_cm1 = confusion_matrix(y_test, rf_pred1, labels = (1,0))\n",
        "print(\"Confusion Matrix: \\n\", rf_cm1)"
      ],
      "metadata": {
        "scrolled": true,
        "trusted": true,
        "id": "--TcFk4p-aLV"
      },
      "execution_count": null,
      "outputs": []
    },
    {
      "cell_type": "code",
      "source": [
        "x_axis_labels = [1,0]\n",
        "y_axis_labels = [1,0]\n",
        "\n",
        "sns.set(font_scale=1.4)\n",
        "sns.heatmap(rf_cm1, xticklabels = x_axis_labels, yticklabels = y_axis_labels, annot = True, annot_kws = {'size': 16})\n",
        "plt.xlabel(\"Actual Class\")\n",
        "plt.ylabel(\"Predicted Class\")\n",
        "plt.show()"
      ],
      "metadata": {
        "trusted": true,
        "id": "Uw0g0BL6-aLW"
      },
      "execution_count": null,
      "outputs": []
    },
    {
      "cell_type": "markdown",
      "source": [
        "### With Selected Features"
      ],
      "metadata": {
        "id": "8mhhGSWP-aLW"
      }
    },
    {
      "cell_type": "code",
      "source": [
        "rfclf2 = RandomForestClassifier(n_estimators = 100)"
      ],
      "metadata": {
        "trusted": true,
        "id": "3wwrDbxo-aLW"
      },
      "execution_count": null,
      "outputs": []
    },
    {
      "cell_type": "code",
      "source": [
        "rfclf2.fit(fs_Xtrain, fs_ytrain)"
      ],
      "metadata": {
        "trusted": true,
        "id": "7uo4MPnR-aLW"
      },
      "execution_count": null,
      "outputs": []
    },
    {
      "cell_type": "code",
      "source": [
        "score2 = rfclf2.score(fs_Xtest, fs_ytest)\n",
        "print(score2)"
      ],
      "metadata": {
        "trusted": true,
        "id": "zFkppgmb-aLX"
      },
      "execution_count": null,
      "outputs": []
    },
    {
      "cell_type": "code",
      "source": [
        "rf_pred2 = rfclf2.predict(fs_Xtest)\n",
        "rf_cm2 = confusion_matrix(fs_ytest, rf_pred2, labels = [1,0])\n",
        "print(\"Confusion Matrix: \\n\", rf_cm2)"
      ],
      "metadata": {
        "trusted": true,
        "id": "sWYkd313-aLX"
      },
      "execution_count": null,
      "outputs": []
    },
    {
      "cell_type": "code",
      "source": [
        "x_axis_labels = [1,0]\n",
        "y_axis_labels = [1,0]\n",
        "\n",
        "sns.set(font_scale=1.4)\n",
        "sns.heatmap(rf_cm2, xticklabels = x_axis_labels, yticklabels = y_axis_labels, annot = True, annot_kws = {'size': 16})\n",
        "plt.xlabel(\"Actual Class\")\n",
        "plt.ylabel(\"Predicted Class\")\n",
        "plt.show()"
      ],
      "metadata": {
        "trusted": true,
        "id": "4uVyxBte-aLX"
      },
      "execution_count": null,
      "outputs": []
    },
    {
      "cell_type": "markdown",
      "source": [
        "#### Hyperparamter Tuning"
      ],
      "metadata": {
        "id": "ycGAFKXt-aLX"
      }
    },
    {
      "cell_type": "code",
      "source": [
        "# Number of trees in random forest\n",
        "n_estimators = [int(x) for x in np.linspace(start = 10, stop = 80, num = 10)\n",
        "               ]\n",
        "# Number of features to consider at every split\n",
        "max_features = ['auto', 'sqrt']\n",
        "\n",
        "# Maximum number of levels in tree\n",
        "max_depth = [2,4]\n",
        "\n",
        "# Minimum number of samples required to split a node\n",
        "min_samples_split = [2, 5]\n",
        "\n",
        "# Minimum number of samples required at each leaf node\n",
        "min_samples_leaf = [1, 2]\n",
        "\n",
        "# Method of selecting samples for training each tree\n",
        "bootstrap = [True, False]"
      ],
      "metadata": {
        "trusted": true,
        "id": "APta-sDv-aLY"
      },
      "execution_count": null,
      "outputs": []
    },
    {
      "cell_type": "code",
      "source": [
        "# Create the param grid\n",
        "param_grid = {'n_estimators': n_estimators,\n",
        "               'max_features': max_features,\n",
        "               'max_depth': max_depth,\n",
        "               'min_samples_split': min_samples_split,\n",
        "               'min_samples_leaf': min_samples_leaf,\n",
        "               'bootstrap': bootstrap}\n",
        "print(param_grid)"
      ],
      "metadata": {
        "trusted": true,
        "id": "-cV1HYk0-aLY"
      },
      "execution_count": null,
      "outputs": []
    },
    {
      "cell_type": "code",
      "source": [
        "tuned_rf = RandomForestClassifier()"
      ],
      "metadata": {
        "trusted": true,
        "id": "ZoZCTK-0-aLY"
      },
      "execution_count": null,
      "outputs": []
    },
    {
      "cell_type": "code",
      "source": [
        "from sklearn.model_selection import GridSearchCV\n",
        "rf_Grid = GridSearchCV(estimator = tuned_rf, param_grid = param_grid, cv = 3, verbose=2, n_jobs = 4)"
      ],
      "metadata": {
        "trusted": true,
        "id": "OaRtxbiR-aLY"
      },
      "execution_count": null,
      "outputs": []
    },
    {
      "cell_type": "code",
      "source": [
        "rf_Grid.fit(X_train, y_train)"
      ],
      "metadata": {
        "collapsed": true,
        "jupyter": {
          "outputs_hidden": true
        },
        "trusted": true,
        "id": "HMZ0-NCu-aLZ"
      },
      "execution_count": null,
      "outputs": []
    },
    {
      "cell_type": "code",
      "source": [
        "rf_Grid.best_params_"
      ],
      "metadata": {
        "trusted": true,
        "id": "Vq1qYTqp-aLZ"
      },
      "execution_count": null,
      "outputs": []
    },
    {
      "cell_type": "code",
      "source": [
        "print (f'Train Accuracy - : {rf_Grid.score(X_train,y_train):.3f}')\n",
        "print (f'Test Accuracy - : {rf_Grid.score(X_test,y_test):.3f}')"
      ],
      "metadata": {
        "trusted": true,
        "id": "5sM4DnKK-aLZ"
      },
      "execution_count": null,
      "outputs": []
    },
    {
      "cell_type": "code",
      "source": [
        "tuned_score2 = rf_Grid.score(X_test, y_test)\n",
        "print(tuned_score2)"
      ],
      "metadata": {
        "trusted": true,
        "id": "2vl1VdhX-aLZ"
      },
      "execution_count": null,
      "outputs": []
    },
    {
      "cell_type": "code",
      "source": [
        "model_score = model_score.append(pd.DataFrame({'Original_Dataset': [score1], 'Selected_Dataset': [tuned_score2]}, index = ['RandomForest']))"
      ],
      "metadata": {
        "trusted": true,
        "id": "RgeeF6eI-aLZ"
      },
      "execution_count": null,
      "outputs": []
    },
    {
      "cell_type": "code",
      "source": [
        "model_score"
      ],
      "metadata": {
        "trusted": true,
        "id": "MiAnsMW9-aLa"
      },
      "execution_count": null,
      "outputs": []
    },
    {
      "cell_type": "markdown",
      "source": [
        "# XGBoost"
      ],
      "metadata": {
        "id": "eOvCK7fB-aLa"
      }
    },
    {
      "cell_type": "code",
      "source": [
        "from xgboost import XGBClassifier"
      ],
      "metadata": {
        "trusted": true,
        "id": "1XM1quXc-aLa"
      },
      "execution_count": null,
      "outputs": []
    },
    {
      "cell_type": "markdown",
      "source": [
        "### With Original Dataset"
      ],
      "metadata": {
        "id": "ezaUD6xH-aLa"
      }
    },
    {
      "cell_type": "code",
      "source": [
        "xgb1 = XGBClassifier(n_estimators = 100)\n",
        "xgb1.fit(X_train, y_train)"
      ],
      "metadata": {
        "collapsed": true,
        "jupyter": {
          "outputs_hidden": true
        },
        "trusted": true,
        "id": "LHcEa3zg-aLa"
      },
      "execution_count": null,
      "outputs": []
    },
    {
      "cell_type": "code",
      "source": [
        "score1 = xgb1.score(X_test, y_test)\n",
        "print(score1)"
      ],
      "metadata": {
        "trusted": true,
        "id": "mZ8jgzKE-aLb"
      },
      "execution_count": null,
      "outputs": []
    },
    {
      "cell_type": "code",
      "source": [
        "xgb_pred1 = xgb1.predict(X_test)\n",
        "xgb_cm1 = confusion_matrix(y_test, xgb_pred1, labels = [1,0])\n",
        "print(\"Confusion Matrix: \\n\", xgb_cm1)"
      ],
      "metadata": {
        "trusted": true,
        "id": "qpwD-QkI-aLb"
      },
      "execution_count": null,
      "outputs": []
    },
    {
      "cell_type": "code",
      "source": [
        "x_axis_labels = [1,0]\n",
        "y_axis_labels = [1,0]\n",
        "\n",
        "sns.set(font_scale=1.4)\n",
        "sns.heatmap(xgb_cm1, xticklabels = x_axis_labels, yticklabels = y_axis_labels, annot = True, annot_kws = {'size': 16})\n",
        "plt.xlabel(\"Actual Class\")\n",
        "plt.ylabel(\"Predicted Class\")\n",
        "plt.show()"
      ],
      "metadata": {
        "trusted": true,
        "id": "mbkak13O-aLb"
      },
      "execution_count": null,
      "outputs": []
    },
    {
      "cell_type": "markdown",
      "source": [
        "### With Selected Dataset"
      ],
      "metadata": {
        "id": "I5FpuX_G-aLb"
      }
    },
    {
      "cell_type": "code",
      "source": [
        "xgb2 = XGBClassifier(n_estimators = 100)\n",
        "xgb2.fit(fs_Xtrain, fs_ytrain)"
      ],
      "metadata": {
        "collapsed": true,
        "jupyter": {
          "outputs_hidden": true
        },
        "trusted": true,
        "id": "oZsW0QDt-aLc"
      },
      "execution_count": null,
      "outputs": []
    },
    {
      "cell_type": "code",
      "source": [
        "score2 = xgb2.score(fs_Xtest, fs_ytest)\n",
        "print(score2)"
      ],
      "metadata": {
        "trusted": true,
        "id": "JgRMw7-Z-aLc"
      },
      "execution_count": null,
      "outputs": []
    },
    {
      "cell_type": "code",
      "source": [
        "xgb_pred2 = xgb2.predict(fs_Xtest)\n",
        "xgb_cm2 = confusion_matrix(fs_ytest, xgb_pred2, labels = [1,0])\n",
        "print(\"Confusion Matrix: \\n\", xgb_cm2)"
      ],
      "metadata": {
        "trusted": true,
        "id": "29VwRZUI-aLd"
      },
      "execution_count": null,
      "outputs": []
    },
    {
      "cell_type": "code",
      "source": [
        "x_axis_labels = [1,0]\n",
        "y_axis_labels = [1,0]\n",
        "\n",
        "sns.set(font_scale=1.4)\n",
        "sns.heatmap(xgb_cm2, xticklabels = x_axis_labels, yticklabels = y_axis_labels, annot = True, annot_kws = {'size': 16})\n",
        "plt.xlabel(\"Actual Class\")\n",
        "plt.ylabel(\"Predicted Class\")\n",
        "plt.show()"
      ],
      "metadata": {
        "trusted": true,
        "id": "fOcjqV6X-aLd"
      },
      "execution_count": null,
      "outputs": []
    },
    {
      "cell_type": "markdown",
      "source": [
        "### Hyperparamter Tuning"
      ],
      "metadata": {
        "id": "muVnQ7Hf-aLd"
      }
    },
    {
      "cell_type": "code",
      "source": [
        "from sklearn.model_selection import RandomizedSearchCV"
      ],
      "metadata": {
        "trusted": true,
        "id": "3dR-k4KH-aLe"
      },
      "execution_count": null,
      "outputs": []
    },
    {
      "cell_type": "code",
      "source": [
        "params={\n",
        " \"learning_rate\"    : [0.05, 0.10, 0.15, 0.20, 0.25, 0.30 ] ,\n",
        " \"max_depth\"        : [ 3, 4, 5, 6, 8, 10, 12, 15],\n",
        " \"min_child_weight\" : [ 1, 3, 5, 7 ],\n",
        " \"gamma\"            : [ 0.0, 0.1, 0.2 , 0.3, 0.4 ],\n",
        " \"colsample_bytree\" : [ 0.3, 0.4, 0.5 , 0.7 ]\n",
        "\n",
        "}"
      ],
      "metadata": {
        "trusted": true,
        "id": "HW-giwmb-aLe"
      },
      "execution_count": null,
      "outputs": []
    },
    {
      "cell_type": "code",
      "source": [
        "tuned_xgb = XGBClassifier()"
      ],
      "metadata": {
        "trusted": true,
        "id": "pnd0Mlbn-aLe"
      },
      "execution_count": null,
      "outputs": []
    },
    {
      "cell_type": "code",
      "source": [
        "random_search = RandomizedSearchCV(tuned_xgb, param_distributions = params, n_iter = 5, scoring = 'roc_auc', n_jobs = 1, cv = 5, verbose = 3)"
      ],
      "metadata": {
        "trusted": true,
        "id": "mCImW0Gn-aLf"
      },
      "execution_count": null,
      "outputs": []
    },
    {
      "cell_type": "code",
      "source": [
        "random_search.fit(X_train, y_train)"
      ],
      "metadata": {
        "collapsed": true,
        "jupyter": {
          "outputs_hidden": true
        },
        "trusted": true,
        "id": "K_6Q-qnM-aLf"
      },
      "execution_count": null,
      "outputs": []
    },
    {
      "cell_type": "code",
      "source": [
        "random_search.best_estimator_"
      ],
      "metadata": {
        "trusted": true,
        "id": "Hld95DMC-aLg"
      },
      "execution_count": null,
      "outputs": []
    },
    {
      "cell_type": "code",
      "source": [
        "random_search.best_params_"
      ],
      "metadata": {
        "trusted": true,
        "id": "iGAAZhh8-aLg"
      },
      "execution_count": null,
      "outputs": []
    },
    {
      "cell_type": "code",
      "source": [
        "tuned_score1 = random_search.score(X_test, y_test)\n",
        "print(tuned_score1)"
      ],
      "metadata": {
        "trusted": true,
        "id": "38g7-_U4-aLg"
      },
      "execution_count": null,
      "outputs": []
    },
    {
      "cell_type": "code",
      "source": [
        "print (f'Train Accuracy - : {random_search.score(X_train,y_train):.3f}')\n",
        "print (f'Test Accuracy - : {random_search.score(X_test,y_test):.3f}')"
      ],
      "metadata": {
        "trusted": true,
        "id": "0t0gLn_9-aLh"
      },
      "execution_count": null,
      "outputs": []
    },
    {
      "cell_type": "code",
      "source": [
        "tuned_xgb_pred1 = random_search.predict(X_test)\n",
        "tuned_xgb_cm1 = confusion_matrix(y_test, tuned_xgb_pred1, labels = [1,0])\n",
        "print(\"Confusion Matrix: \\n\", tuned_xgb_cm1)"
      ],
      "metadata": {
        "trusted": true,
        "id": "6wB0YrLg-aLh"
      },
      "execution_count": null,
      "outputs": []
    },
    {
      "cell_type": "code",
      "source": [
        "x_axis_labels = [1,0]\n",
        "y_axis_labels = [1,0]\n",
        "\n",
        "sns.set(font_scale=1.4)\n",
        "sns.heatmap(tuned_xgb_cm1, xticklabels = x_axis_labels, yticklabels = y_axis_labels, annot = True, annot_kws = {'size': 16})\n",
        "plt.xlabel(\"Actual Class\")\n",
        "plt.ylabel(\"Predicted Class\")\n",
        "plt.show()"
      ],
      "metadata": {
        "trusted": true,
        "id": "G_t9APEV-aLi"
      },
      "execution_count": null,
      "outputs": []
    },
    {
      "cell_type": "markdown",
      "source": [
        "확실히 이것은 포스트 클래스에 편향되어 있습니다. 이것은 불균형한 데이터 세트이기 때문입니다. 우리는 동등하게 균형 잡힌 데이터 세트로 하이프루닝할 것입니다"
      ],
      "metadata": {
        "id": "9PW46v6M-aLi"
      }
    },
    {
      "cell_type": "markdown",
      "source": [
        "### Hypertuning for balanced dataset"
      ],
      "metadata": {
        "id": "EaIIZy5Y-aLi"
      }
    },
    {
      "cell_type": "code",
      "source": [
        "tuned_xgb2 = XGBClassifier()"
      ],
      "metadata": {
        "trusted": true,
        "id": "iV3f1yE6-aLi"
      },
      "execution_count": null,
      "outputs": []
    },
    {
      "cell_type": "code",
      "source": [
        "random_search2 = RandomizedSearchCV(tuned_xgb2, param_distributions = params, n_iter = 5, scoring = 'roc_auc', n_jobs = 1, cv = 5, verbose = 3)"
      ],
      "metadata": {
        "trusted": true,
        "id": "-CVvXU4I-aLi"
      },
      "execution_count": null,
      "outputs": []
    },
    {
      "cell_type": "code",
      "source": [
        "random_search2.fit(fs_Xtrain, fs_ytrain)"
      ],
      "metadata": {
        "collapsed": true,
        "jupyter": {
          "outputs_hidden": true
        },
        "trusted": true,
        "id": "zHCnpCWK-aLj"
      },
      "execution_count": null,
      "outputs": []
    },
    {
      "cell_type": "code",
      "source": [
        "random_search2.best_estimator_"
      ],
      "metadata": {
        "trusted": true,
        "id": "pMD3rFx2-aLj"
      },
      "execution_count": null,
      "outputs": []
    },
    {
      "cell_type": "code",
      "source": [
        "random_search2.best_params_"
      ],
      "metadata": {
        "trusted": true,
        "id": "hc0emiRw-aLj"
      },
      "execution_count": null,
      "outputs": []
    },
    {
      "cell_type": "code",
      "source": [
        "tuned_score2 = random_search2.score(fs_Xtest, fs_ytest)\n",
        "print(tuned_score2)"
      ],
      "metadata": {
        "trusted": true,
        "id": "TVqgYzFl-aLj"
      },
      "execution_count": null,
      "outputs": []
    },
    {
      "cell_type": "code",
      "source": [
        "print (f'Train Accuracy - : {random_search2.score(fs_Xtrain,fs_ytrain):.3f}')\n",
        "print (f'Test Accuracy - : {random_search2.score(fs_Xtest,fs_ytest):.3f}')"
      ],
      "metadata": {
        "trusted": true,
        "id": "4Ng75Rvc-aLk"
      },
      "execution_count": null,
      "outputs": []
    },
    {
      "cell_type": "code",
      "source": [
        "tuned_xgb_pred2 = random_search2.predict(fs_Xtest)\n",
        "tuned_xgb_cm2 = confusion_matrix(fs_ytest, tuned_xgb_pred2, labels = [1,0])\n",
        "print(\"Confusion Matrix: \\n\", tuned_xgb_cm2)"
      ],
      "metadata": {
        "trusted": true,
        "id": "i51O9Aoy-aLk"
      },
      "execution_count": null,
      "outputs": []
    },
    {
      "cell_type": "code",
      "source": [
        "x_axis_labels = [1,0]\n",
        "y_axis_labels = [1,0]\n",
        "\n",
        "sns.set(font_scale=1.4)\n",
        "sns.heatmap(tuned_xgb_cm2, xticklabels = x_axis_labels, yticklabels = y_axis_labels, annot = True, annot_kws = {'size': 16})\n",
        "plt.xlabel(\"Actual Class\")\n",
        "plt.ylabel(\"Predicted Class\")\n",
        "plt.show()"
      ],
      "metadata": {
        "trusted": true,
        "id": "hYqEsB-C-aLk"
      },
      "execution_count": null,
      "outputs": []
    },
    {
      "cell_type": "code",
      "source": [
        "model_score = model_score.append(pd.DataFrame({'Original_Dataset': [tuned_score1], 'Selected_Dataset': [tuned_score2]}, index = ['XGBoost']))\n"
      ],
      "metadata": {
        "trusted": true,
        "id": "4Hx1fgAo-aLk"
      },
      "execution_count": null,
      "outputs": []
    },
    {
      "cell_type": "code",
      "source": [
        "model_score"
      ],
      "metadata": {
        "trusted": true,
        "id": "NVrxJqdM-aLl"
      },
      "execution_count": null,
      "outputs": []
    },
    {
      "cell_type": "markdown",
      "source": [
        "보시다시피 <b> XGBoost </b>는 선택한 기능 </b>에서 가장 우수한 성능을 발휘합니다."
      ],
      "metadata": {
        "id": "XOsm3rWC-aLm"
      }
    },
    {
      "cell_type": "code",
      "source": [
        "## Checking Classification report of the best model\n",
        "\n",
        "print(classification_report(fs_ytest, tuned_xgb_pred2))"
      ],
      "metadata": {
        "trusted": true,
        "id": "wd61QOk4-aLm"
      },
      "execution_count": null,
      "outputs": []
    },
    {
      "cell_type": "code",
      "source": [
        "## Biased model\n",
        "\n",
        "print(classification_report(y_test, tuned_xgb_pred1))"
      ],
      "metadata": {
        "trusted": true,
        "id": "Lt1XNJ6y-aLn"
      },
      "execution_count": null,
      "outputs": []
    },
    {
      "cell_type": "code",
      "source": [
        "### Checking Classification report of the worst model\n",
        "\n",
        "print(classification_report(y_test, lr_ypred2 ))"
      ],
      "metadata": {
        "trusted": true,
        "id": "U6qYQyVB-aLn"
      },
      "execution_count": null,
      "outputs": []
    },
    {
      "cell_type": "code",
      "source": [],
      "metadata": {
        "trusted": true,
        "id": "JG9z6LIh-aLn"
      },
      "execution_count": null,
      "outputs": []
    }
  ]
}