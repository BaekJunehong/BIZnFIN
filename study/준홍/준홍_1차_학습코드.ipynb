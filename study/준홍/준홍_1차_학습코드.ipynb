{
 "cells": [
  {
   "cell_type": "markdown",
   "metadata": {},
   "source": [
    "# 신용카드 사용자 연체 예측"
   ]
  },
  {
   "cell_type": "markdown",
   "metadata": {},
   "source": [
    "월간 데이콘 신용카드 사용자 연체 예측 AI 경진대회"
   ]
  },
  {
   "cell_type": "markdown",
   "metadata": {},
   "source": [
    "https://dacon.io/competitions/official/235713/overview/description"
   ]
  },
  {
   "cell_type": "markdown",
   "metadata": {},
   "source": [
    "## Stage 1. 데이터 불러오기"
   ]
  },
  {
   "cell_type": "markdown",
   "metadata": {},
   "source": [
    "### 1-1. 데이터 불러오기"
   ]
  },
  {
   "cell_type": "code",
   "execution_count": 18,
   "metadata": {},
   "outputs": [],
   "source": [
    "# pandas 패키지를 pd라는 별칭으로 불러옵니다.\n",
    "import pandas as pd"
   ]
  },
  {
   "cell_type": "code",
   "execution_count": 19,
   "metadata": {},
   "outputs": [],
   "source": [
    "# sample_submission.csv 파일을 submission이라는 변수에 할당합니다.\n",
    "submission = pd.read_csv(\"../../data/데이콘_신용카드/sample_submission.csv\")"
   ]
  },
  {
   "cell_type": "code",
   "execution_count": 20,
   "metadata": {},
   "outputs": [],
   "source": [
    "# pandas 패키지를 pd 라는 별칭으로 import 해봅시다!\n",
    "import pandas as pd\n",
    "\n",
    "# pandas 내에 있는 read_csv 함수를 사용해 train.csv, test.csv 파일을 각각 train, test라는 이름으로 불러와봅시다!\n",
    "train = pd.read_csv('../../data/데이콘_신용카드/train.csv')\n",
    "test = pd.read_csv('../../data/데이콘_신용카드/test.csv')"
   ]
  },
  {
   "cell_type": "markdown",
   "metadata": {},
   "source": [
    "### 1-2. 간단하게 데이터 살펴보기"
   ]
  },
  {
   "cell_type": "markdown",
   "metadata": {},
   "source": [
    "submission 데이터의 상위 행 5개를 확인"
   ]
  },
  {
   "cell_type": "code",
   "execution_count": 21,
   "metadata": {},
   "outputs": [
    {
     "data": {
      "text/html": [
       "<div>\n",
       "<style scoped>\n",
       "    .dataframe tbody tr th:only-of-type {\n",
       "        vertical-align: middle;\n",
       "    }\n",
       "\n",
       "    .dataframe tbody tr th {\n",
       "        vertical-align: top;\n",
       "    }\n",
       "\n",
       "    .dataframe thead th {\n",
       "        text-align: right;\n",
       "    }\n",
       "</style>\n",
       "<table border=\"1\" class=\"dataframe\">\n",
       "  <thead>\n",
       "    <tr style=\"text-align: right;\">\n",
       "      <th></th>\n",
       "      <th>index</th>\n",
       "      <th>0</th>\n",
       "      <th>1</th>\n",
       "      <th>2</th>\n",
       "    </tr>\n",
       "  </thead>\n",
       "  <tbody>\n",
       "    <tr>\n",
       "      <th>0</th>\n",
       "      <td>26457</td>\n",
       "      <td>0</td>\n",
       "      <td>0</td>\n",
       "      <td>0</td>\n",
       "    </tr>\n",
       "    <tr>\n",
       "      <th>1</th>\n",
       "      <td>26458</td>\n",
       "      <td>0</td>\n",
       "      <td>0</td>\n",
       "      <td>0</td>\n",
       "    </tr>\n",
       "    <tr>\n",
       "      <th>2</th>\n",
       "      <td>26459</td>\n",
       "      <td>0</td>\n",
       "      <td>0</td>\n",
       "      <td>0</td>\n",
       "    </tr>\n",
       "    <tr>\n",
       "      <th>3</th>\n",
       "      <td>26460</td>\n",
       "      <td>0</td>\n",
       "      <td>0</td>\n",
       "      <td>0</td>\n",
       "    </tr>\n",
       "    <tr>\n",
       "      <th>4</th>\n",
       "      <td>26461</td>\n",
       "      <td>0</td>\n",
       "      <td>0</td>\n",
       "      <td>0</td>\n",
       "    </tr>\n",
       "  </tbody>\n",
       "</table>\n",
       "</div>"
      ],
      "text/plain": [
       "   index  0  1  2\n",
       "0  26457  0  0  0\n",
       "1  26458  0  0  0\n",
       "2  26459  0  0  0\n",
       "3  26460  0  0  0\n",
       "4  26461  0  0  0"
      ]
     },
     "execution_count": 21,
     "metadata": {},
     "output_type": "execute_result"
    }
   ],
   "source": [
    "submission.head()"
   ]
  },
  {
   "cell_type": "markdown",
   "metadata": {},
   "source": [
    "train 데이터의 하위 행 5개를 확인"
   ]
  },
  {
   "cell_type": "code",
   "execution_count": 22,
   "metadata": {},
   "outputs": [
    {
     "data": {
      "text/html": [
       "<div>\n",
       "<style scoped>\n",
       "    .dataframe tbody tr th:only-of-type {\n",
       "        vertical-align: middle;\n",
       "    }\n",
       "\n",
       "    .dataframe tbody tr th {\n",
       "        vertical-align: top;\n",
       "    }\n",
       "\n",
       "    .dataframe thead th {\n",
       "        text-align: right;\n",
       "    }\n",
       "</style>\n",
       "<table border=\"1\" class=\"dataframe\">\n",
       "  <thead>\n",
       "    <tr style=\"text-align: right;\">\n",
       "      <th></th>\n",
       "      <th>index</th>\n",
       "      <th>gender</th>\n",
       "      <th>car</th>\n",
       "      <th>reality</th>\n",
       "      <th>child_num</th>\n",
       "      <th>income_total</th>\n",
       "      <th>income_type</th>\n",
       "      <th>edu_type</th>\n",
       "      <th>family_type</th>\n",
       "      <th>house_type</th>\n",
       "      <th>DAYS_BIRTH</th>\n",
       "      <th>DAYS_EMPLOYED</th>\n",
       "      <th>FLAG_MOBIL</th>\n",
       "      <th>work_phone</th>\n",
       "      <th>phone</th>\n",
       "      <th>email</th>\n",
       "      <th>occyp_type</th>\n",
       "      <th>family_size</th>\n",
       "      <th>begin_month</th>\n",
       "      <th>credit</th>\n",
       "    </tr>\n",
       "  </thead>\n",
       "  <tbody>\n",
       "    <tr>\n",
       "      <th>26452</th>\n",
       "      <td>26452</td>\n",
       "      <td>F</td>\n",
       "      <td>N</td>\n",
       "      <td>N</td>\n",
       "      <td>2</td>\n",
       "      <td>225000.0</td>\n",
       "      <td>State servant</td>\n",
       "      <td>Secondary / secondary special</td>\n",
       "      <td>Married</td>\n",
       "      <td>House / apartment</td>\n",
       "      <td>-12079</td>\n",
       "      <td>-1984</td>\n",
       "      <td>1</td>\n",
       "      <td>0</td>\n",
       "      <td>0</td>\n",
       "      <td>0</td>\n",
       "      <td>Core staff</td>\n",
       "      <td>4.0</td>\n",
       "      <td>-2.0</td>\n",
       "      <td>1.0</td>\n",
       "    </tr>\n",
       "    <tr>\n",
       "      <th>26453</th>\n",
       "      <td>26453</td>\n",
       "      <td>F</td>\n",
       "      <td>N</td>\n",
       "      <td>Y</td>\n",
       "      <td>1</td>\n",
       "      <td>180000.0</td>\n",
       "      <td>Working</td>\n",
       "      <td>Higher education</td>\n",
       "      <td>Separated</td>\n",
       "      <td>House / apartment</td>\n",
       "      <td>-15291</td>\n",
       "      <td>-2475</td>\n",
       "      <td>1</td>\n",
       "      <td>0</td>\n",
       "      <td>0</td>\n",
       "      <td>0</td>\n",
       "      <td>NaN</td>\n",
       "      <td>2.0</td>\n",
       "      <td>-47.0</td>\n",
       "      <td>2.0</td>\n",
       "    </tr>\n",
       "    <tr>\n",
       "      <th>26454</th>\n",
       "      <td>26454</td>\n",
       "      <td>F</td>\n",
       "      <td>Y</td>\n",
       "      <td>N</td>\n",
       "      <td>0</td>\n",
       "      <td>292500.0</td>\n",
       "      <td>Working</td>\n",
       "      <td>Secondary / secondary special</td>\n",
       "      <td>Civil marriage</td>\n",
       "      <td>With parents</td>\n",
       "      <td>-10082</td>\n",
       "      <td>-2015</td>\n",
       "      <td>1</td>\n",
       "      <td>0</td>\n",
       "      <td>0</td>\n",
       "      <td>0</td>\n",
       "      <td>Core staff</td>\n",
       "      <td>2.0</td>\n",
       "      <td>-25.0</td>\n",
       "      <td>2.0</td>\n",
       "    </tr>\n",
       "    <tr>\n",
       "      <th>26455</th>\n",
       "      <td>26455</td>\n",
       "      <td>M</td>\n",
       "      <td>N</td>\n",
       "      <td>Y</td>\n",
       "      <td>0</td>\n",
       "      <td>171000.0</td>\n",
       "      <td>Working</td>\n",
       "      <td>Incomplete higher</td>\n",
       "      <td>Single / not married</td>\n",
       "      <td>House / apartment</td>\n",
       "      <td>-10145</td>\n",
       "      <td>-107</td>\n",
       "      <td>1</td>\n",
       "      <td>0</td>\n",
       "      <td>0</td>\n",
       "      <td>0</td>\n",
       "      <td>Laborers</td>\n",
       "      <td>1.0</td>\n",
       "      <td>-59.0</td>\n",
       "      <td>2.0</td>\n",
       "    </tr>\n",
       "    <tr>\n",
       "      <th>26456</th>\n",
       "      <td>26456</td>\n",
       "      <td>F</td>\n",
       "      <td>N</td>\n",
       "      <td>N</td>\n",
       "      <td>0</td>\n",
       "      <td>81000.0</td>\n",
       "      <td>Working</td>\n",
       "      <td>Secondary / secondary special</td>\n",
       "      <td>Civil marriage</td>\n",
       "      <td>House / apartment</td>\n",
       "      <td>-19569</td>\n",
       "      <td>-1013</td>\n",
       "      <td>1</td>\n",
       "      <td>0</td>\n",
       "      <td>0</td>\n",
       "      <td>0</td>\n",
       "      <td>Security staff</td>\n",
       "      <td>2.0</td>\n",
       "      <td>-9.0</td>\n",
       "      <td>2.0</td>\n",
       "    </tr>\n",
       "  </tbody>\n",
       "</table>\n",
       "</div>"
      ],
      "text/plain": [
       "       index gender car reality  child_num  income_total    income_type  \\\n",
       "26452  26452      F   N       N          2      225000.0  State servant   \n",
       "26453  26453      F   N       Y          1      180000.0        Working   \n",
       "26454  26454      F   Y       N          0      292500.0        Working   \n",
       "26455  26455      M   N       Y          0      171000.0        Working   \n",
       "26456  26456      F   N       N          0       81000.0        Working   \n",
       "\n",
       "                            edu_type           family_type         house_type  \\\n",
       "26452  Secondary / secondary special               Married  House / apartment   \n",
       "26453               Higher education             Separated  House / apartment   \n",
       "26454  Secondary / secondary special        Civil marriage       With parents   \n",
       "26455              Incomplete higher  Single / not married  House / apartment   \n",
       "26456  Secondary / secondary special        Civil marriage  House / apartment   \n",
       "\n",
       "       DAYS_BIRTH  DAYS_EMPLOYED  FLAG_MOBIL  work_phone  phone  email  \\\n",
       "26452      -12079          -1984           1           0      0      0   \n",
       "26453      -15291          -2475           1           0      0      0   \n",
       "26454      -10082          -2015           1           0      0      0   \n",
       "26455      -10145           -107           1           0      0      0   \n",
       "26456      -19569          -1013           1           0      0      0   \n",
       "\n",
       "           occyp_type  family_size  begin_month  credit  \n",
       "26452      Core staff          4.0         -2.0     1.0  \n",
       "26453             NaN          2.0        -47.0     2.0  \n",
       "26454      Core staff          2.0        -25.0     2.0  \n",
       "26455        Laborers          1.0        -59.0     2.0  \n",
       "26456  Security staff          2.0         -9.0     2.0  "
      ]
     },
     "execution_count": 22,
     "metadata": {},
     "output_type": "execute_result"
    }
   ],
   "source": [
    "train.tail()"
   ]
  },
  {
   "cell_type": "markdown",
   "metadata": {},
   "source": [
    "데이터프레임의 columns 속성은 열 이름들을 반환하여 변수명을 확인"
   ]
  },
  {
   "cell_type": "code",
   "execution_count": 23,
   "metadata": {},
   "outputs": [
    {
     "data": {
      "text/plain": [
       "Index(['index', 'gender', 'car', 'reality', 'child_num', 'income_total',\n",
       "       'income_type', 'edu_type', 'family_type', 'house_type', 'DAYS_BIRTH',\n",
       "       'DAYS_EMPLOYED', 'FLAG_MOBIL', 'work_phone', 'phone', 'email',\n",
       "       'occyp_type', 'family_size', 'begin_month', 'credit'],\n",
       "      dtype='object')"
      ]
     },
     "execution_count": 23,
     "metadata": {},
     "output_type": "execute_result"
    }
   ],
   "source": [
    "train.columns"
   ]
  },
  {
   "cell_type": "markdown",
   "metadata": {},
   "source": [
    "train 데이터의 컬럼은 다음과 같습니다."
   ]
  },
  {
   "cell_type": "markdown",
   "metadata": {},
   "source": [
    "- index  \n",
    "- gender: 성별  \n",
    "- car: 차량 소유 여부  \n",
    "- reality: 부동산 소유 여부  \n",
    "- child_num: 자녀 수  \n",
    "- income_total: 연간 소득  \n",
    "- income_type: 소득 분류\n",
    "- edu_type: 교육 수준  \n",
    "- family_type: 결혼 여부  \n",
    "- house_type: 생활 방식  \n",
    "- DAYS_BIRTH: 출생일  \n",
    "- DAYS_EMPLOYED: 업무 시작일  \n",
    "- FLAG_MOBIL: 핸드폰 소유 여부  \n",
    "- work_phone: 업무용 전화 소유 여부    \n",
    "- phone: 전화 소유 여부  \n",
    "- email: 이메일 소유 여부  \n",
    "- occyp_type: 직업 유형  \n",
    "- family_size: 가족 규모  \n",
    "- begin_month: 신용카드 발급 월  \n",
    "- credit: 사용자의 신용카드 대금 연체를 기준으로 한 신용도  "
   ]
  },
  {
   "cell_type": "markdown",
   "metadata": {},
   "source": [
    "데이터프레임의 shape 속성은 데이터프레임의 크기를 반환하는 속성  \n",
    "shape 속성을 통해 데이터프레임의 행과 열을 확인"
   ]
  },
  {
   "cell_type": "code",
   "execution_count": 24,
   "metadata": {},
   "outputs": [
    {
     "data": {
      "text/plain": [
       "(26457, 20)"
      ]
     },
     "execution_count": 24,
     "metadata": {},
     "output_type": "execute_result"
    }
   ],
   "source": [
    "train.shape"
   ]
  },
  {
   "cell_type": "markdown",
   "metadata": {},
   "source": [
    "## Stage 2. 데이터 확인"
   ]
  },
  {
   "cell_type": "markdown",
   "metadata": {},
   "source": [
    "### 2-1. 데이터프레임 정보 확인"
   ]
  },
  {
   "cell_type": "markdown",
   "metadata": {},
   "source": [
    "info()"
   ]
  },
  {
   "cell_type": "markdown",
   "metadata": {},
   "source": [
    "결측값 확인 및 데이터타입 확인"
   ]
  },
  {
   "cell_type": "markdown",
   "metadata": {},
   "source": [
    "verbose=True 옵션 사용시 잘리는 부분 없이 모두 출력"
   ]
  },
  {
   "cell_type": "code",
   "execution_count": 25,
   "metadata": {},
   "outputs": [
    {
     "name": "stdout",
     "output_type": "stream",
     "text": [
      "<class 'pandas.core.frame.DataFrame'>\n",
      "RangeIndex: 26457 entries, 0 to 26456\n",
      "Data columns (total 20 columns):\n",
      " #   Column         Non-Null Count  Dtype  \n",
      "---  ------         --------------  -----  \n",
      " 0   index          26457 non-null  int64  \n",
      " 1   gender         26457 non-null  object \n",
      " 2   car            26457 non-null  object \n",
      " 3   reality        26457 non-null  object \n",
      " 4   child_num      26457 non-null  int64  \n",
      " 5   income_total   26457 non-null  float64\n",
      " 6   income_type    26457 non-null  object \n",
      " 7   edu_type       26457 non-null  object \n",
      " 8   family_type    26457 non-null  object \n",
      " 9   house_type     26457 non-null  object \n",
      " 10  DAYS_BIRTH     26457 non-null  int64  \n",
      " 11  DAYS_EMPLOYED  26457 non-null  int64  \n",
      " 12  FLAG_MOBIL     26457 non-null  int64  \n",
      " 13  work_phone     26457 non-null  int64  \n",
      " 14  phone          26457 non-null  int64  \n",
      " 15  email          26457 non-null  int64  \n",
      " 16  occyp_type     18286 non-null  object \n",
      " 17  family_size    26457 non-null  float64\n",
      " 18  begin_month    26457 non-null  float64\n",
      " 19  credit         26457 non-null  float64\n",
      "dtypes: float64(4), int64(8), object(8)\n",
      "memory usage: 4.0+ MB\n"
     ]
    }
   ],
   "source": [
    "train.info(verbose=True) "
   ]
  },
  {
   "cell_type": "markdown",
   "metadata": {},
   "source": [
    "describe()"
   ]
  },
  {
   "cell_type": "markdown",
   "metadata": {},
   "source": [
    "데이터프레임의 기초 통계량을 나타냄  \n",
    "크게 튀는 값들에 대해서는 추후 박스플롯 그려내어 이상치값을 제거할수도 있음  "
   ]
  },
  {
   "cell_type": "markdown",
   "metadata": {},
   "source": [
    "주로 수치형 데이터를 간략하게 파악하고 싶을 때 유용하게 사용"
   ]
  },
  {
   "cell_type": "code",
   "execution_count": 26,
   "metadata": {},
   "outputs": [
    {
     "data": {
      "text/html": [
       "<div>\n",
       "<style scoped>\n",
       "    .dataframe tbody tr th:only-of-type {\n",
       "        vertical-align: middle;\n",
       "    }\n",
       "\n",
       "    .dataframe tbody tr th {\n",
       "        vertical-align: top;\n",
       "    }\n",
       "\n",
       "    .dataframe thead th {\n",
       "        text-align: right;\n",
       "    }\n",
       "</style>\n",
       "<table border=\"1\" class=\"dataframe\">\n",
       "  <thead>\n",
       "    <tr style=\"text-align: right;\">\n",
       "      <th></th>\n",
       "      <th>index</th>\n",
       "      <th>child_num</th>\n",
       "      <th>income_total</th>\n",
       "      <th>DAYS_BIRTH</th>\n",
       "      <th>DAYS_EMPLOYED</th>\n",
       "      <th>FLAG_MOBIL</th>\n",
       "      <th>work_phone</th>\n",
       "      <th>phone</th>\n",
       "      <th>email</th>\n",
       "      <th>family_size</th>\n",
       "      <th>begin_month</th>\n",
       "      <th>credit</th>\n",
       "    </tr>\n",
       "  </thead>\n",
       "  <tbody>\n",
       "    <tr>\n",
       "      <th>count</th>\n",
       "      <td>26457.000000</td>\n",
       "      <td>26457.000000</td>\n",
       "      <td>2.645700e+04</td>\n",
       "      <td>26457.000000</td>\n",
       "      <td>26457.000000</td>\n",
       "      <td>26457.0</td>\n",
       "      <td>26457.000000</td>\n",
       "      <td>26457.000000</td>\n",
       "      <td>26457.000000</td>\n",
       "      <td>26457.000000</td>\n",
       "      <td>26457.000000</td>\n",
       "      <td>26457.000000</td>\n",
       "    </tr>\n",
       "    <tr>\n",
       "      <th>mean</th>\n",
       "      <td>13228.000000</td>\n",
       "      <td>0.428658</td>\n",
       "      <td>1.873065e+05</td>\n",
       "      <td>-15958.053899</td>\n",
       "      <td>59068.750728</td>\n",
       "      <td>1.0</td>\n",
       "      <td>0.224742</td>\n",
       "      <td>0.294251</td>\n",
       "      <td>0.091280</td>\n",
       "      <td>2.196848</td>\n",
       "      <td>-26.123294</td>\n",
       "      <td>1.519560</td>\n",
       "    </tr>\n",
       "    <tr>\n",
       "      <th>std</th>\n",
       "      <td>7637.622372</td>\n",
       "      <td>0.747326</td>\n",
       "      <td>1.018784e+05</td>\n",
       "      <td>4201.589022</td>\n",
       "      <td>137475.427503</td>\n",
       "      <td>0.0</td>\n",
       "      <td>0.417420</td>\n",
       "      <td>0.455714</td>\n",
       "      <td>0.288013</td>\n",
       "      <td>0.916717</td>\n",
       "      <td>16.559550</td>\n",
       "      <td>0.702283</td>\n",
       "    </tr>\n",
       "    <tr>\n",
       "      <th>min</th>\n",
       "      <td>0.000000</td>\n",
       "      <td>0.000000</td>\n",
       "      <td>2.700000e+04</td>\n",
       "      <td>-25152.000000</td>\n",
       "      <td>-15713.000000</td>\n",
       "      <td>1.0</td>\n",
       "      <td>0.000000</td>\n",
       "      <td>0.000000</td>\n",
       "      <td>0.000000</td>\n",
       "      <td>1.000000</td>\n",
       "      <td>-60.000000</td>\n",
       "      <td>0.000000</td>\n",
       "    </tr>\n",
       "    <tr>\n",
       "      <th>25%</th>\n",
       "      <td>6614.000000</td>\n",
       "      <td>0.000000</td>\n",
       "      <td>1.215000e+05</td>\n",
       "      <td>-19431.000000</td>\n",
       "      <td>-3153.000000</td>\n",
       "      <td>1.0</td>\n",
       "      <td>0.000000</td>\n",
       "      <td>0.000000</td>\n",
       "      <td>0.000000</td>\n",
       "      <td>2.000000</td>\n",
       "      <td>-39.000000</td>\n",
       "      <td>1.000000</td>\n",
       "    </tr>\n",
       "    <tr>\n",
       "      <th>50%</th>\n",
       "      <td>13228.000000</td>\n",
       "      <td>0.000000</td>\n",
       "      <td>1.575000e+05</td>\n",
       "      <td>-15547.000000</td>\n",
       "      <td>-1539.000000</td>\n",
       "      <td>1.0</td>\n",
       "      <td>0.000000</td>\n",
       "      <td>0.000000</td>\n",
       "      <td>0.000000</td>\n",
       "      <td>2.000000</td>\n",
       "      <td>-24.000000</td>\n",
       "      <td>2.000000</td>\n",
       "    </tr>\n",
       "    <tr>\n",
       "      <th>75%</th>\n",
       "      <td>19842.000000</td>\n",
       "      <td>1.000000</td>\n",
       "      <td>2.250000e+05</td>\n",
       "      <td>-12446.000000</td>\n",
       "      <td>-407.000000</td>\n",
       "      <td>1.0</td>\n",
       "      <td>0.000000</td>\n",
       "      <td>1.000000</td>\n",
       "      <td>0.000000</td>\n",
       "      <td>3.000000</td>\n",
       "      <td>-12.000000</td>\n",
       "      <td>2.000000</td>\n",
       "    </tr>\n",
       "    <tr>\n",
       "      <th>max</th>\n",
       "      <td>26456.000000</td>\n",
       "      <td>19.000000</td>\n",
       "      <td>1.575000e+06</td>\n",
       "      <td>-7705.000000</td>\n",
       "      <td>365243.000000</td>\n",
       "      <td>1.0</td>\n",
       "      <td>1.000000</td>\n",
       "      <td>1.000000</td>\n",
       "      <td>1.000000</td>\n",
       "      <td>20.000000</td>\n",
       "      <td>0.000000</td>\n",
       "      <td>2.000000</td>\n",
       "    </tr>\n",
       "  </tbody>\n",
       "</table>\n",
       "</div>"
      ],
      "text/plain": [
       "              index     child_num  income_total    DAYS_BIRTH  DAYS_EMPLOYED  \\\n",
       "count  26457.000000  26457.000000  2.645700e+04  26457.000000   26457.000000   \n",
       "mean   13228.000000      0.428658  1.873065e+05 -15958.053899   59068.750728   \n",
       "std     7637.622372      0.747326  1.018784e+05   4201.589022  137475.427503   \n",
       "min        0.000000      0.000000  2.700000e+04 -25152.000000  -15713.000000   \n",
       "25%     6614.000000      0.000000  1.215000e+05 -19431.000000   -3153.000000   \n",
       "50%    13228.000000      0.000000  1.575000e+05 -15547.000000   -1539.000000   \n",
       "75%    19842.000000      1.000000  2.250000e+05 -12446.000000    -407.000000   \n",
       "max    26456.000000     19.000000  1.575000e+06  -7705.000000  365243.000000   \n",
       "\n",
       "       FLAG_MOBIL    work_phone         phone         email   family_size  \\\n",
       "count     26457.0  26457.000000  26457.000000  26457.000000  26457.000000   \n",
       "mean          1.0      0.224742      0.294251      0.091280      2.196848   \n",
       "std           0.0      0.417420      0.455714      0.288013      0.916717   \n",
       "min           1.0      0.000000      0.000000      0.000000      1.000000   \n",
       "25%           1.0      0.000000      0.000000      0.000000      2.000000   \n",
       "50%           1.0      0.000000      0.000000      0.000000      2.000000   \n",
       "75%           1.0      0.000000      1.000000      0.000000      3.000000   \n",
       "max           1.0      1.000000      1.000000      1.000000     20.000000   \n",
       "\n",
       "        begin_month        credit  \n",
       "count  26457.000000  26457.000000  \n",
       "mean     -26.123294      1.519560  \n",
       "std       16.559550      0.702283  \n",
       "min      -60.000000      0.000000  \n",
       "25%      -39.000000      1.000000  \n",
       "50%      -24.000000      2.000000  \n",
       "75%      -12.000000      2.000000  \n",
       "max        0.000000      2.000000  "
      ]
     },
     "execution_count": 26,
     "metadata": {},
     "output_type": "execute_result"
    }
   ],
   "source": [
    "train.describe()"
   ]
  },
  {
   "cell_type": "markdown",
   "metadata": {},
   "source": [
    "DAYS_BIRTH, DAYS_EMPLOYED, begin_month 음수로 값이 나오고 있음"
   ]
  },
  {
   "cell_type": "markdown",
   "metadata": {},
   "source": [
    "DAYS_BIRTH: 출생일  \n",
    "-> 데이터 수집 당시 (0)부터 역으로 셈, 즉, -1은 데이터 수집일 하루 전에 태어났음을 의미  \n",
    "\n",
    "DAYS_EMPLOYED: 업무 시작일  \n",
    "-> 데이터 수집 당시 (0)부터 역으로 셈, 즉, -1은 데이터 수집일 하루 전부터 일을  \n",
    "시작함을 의미 (양수 값은 고용되지 않은 상태를 의미함)  \n",
    "\n",
    "begin_month: 신용카드 발급 월  \n",
    "-> 데이터 수집 당시 (0)부터 역으로 셈, 즉, -1은 데이터 수집일 한 달 전에 신용카드를 발급함을 의미  "
   ]
  },
  {
   "cell_type": "markdown",
   "metadata": {},
   "source": [
    "DAYS_BIRTH, DAYS_EMPLOYED, begin_month 변수들의 값을 알아보기 쉽게 바꿔줌  \n",
    "\n",
    "train 데이터의 각 변수들을 날짜 단위가 아닌 연 단위(만 나이)로 바꿔줌   \n",
    "(begin_month 제외)"
   ]
  },
  {
   "cell_type": "code",
   "execution_count": 27,
   "metadata": {},
   "outputs": [],
   "source": [
    "# 각 변수들을 날짜 단위가 아닌 연 단위(만 나이)로 바꿔줌 (begin_month 제외)\n",
    "\n",
    "# train 적용\n",
    "train.loc[train[\"DAYS_EMPLOYED\"] > 0,\"DAYS_EMPLOYED\"] = 0\n",
    "train[\"DAYS_BIRTH\"] = (train[\"DAYS_BIRTH\"] * -1) / 365.0\n",
    "train[\"DAYS_EMPLOYED\"] = (train[\"DAYS_EMPLOYED\"] * -1) / 365.0\n",
    "train[\"begin_month\"] = (train[\"begin_month\"] * -1)\n",
    "\n",
    "# test 적용\n",
    "test.loc[test[\"DAYS_EMPLOYED\"] > 0,\"DAYS_EMPLOYED\"] = 0\n",
    "test[\"DAYS_BIRTH\"] = (test[\"DAYS_BIRTH\"] * -1) / 365.0\n",
    "test[\"DAYS_EMPLOYED\"] = (test[\"DAYS_EMPLOYED\"] * -1) / 365.0\n",
    "test[\"begin_month\"] = (test[\"begin_month\"] * -1)"
   ]
  },
  {
   "cell_type": "markdown",
   "metadata": {},
   "source": [
    "value_counts()"
   ]
  },
  {
   "cell_type": "markdown",
   "metadata": {},
   "source": [
    "카테고리형 데이터 파악에 유용한 메서드  \n",
    "변수마다 각 카테고리 값들이 얼마나 있는지 확인  \n",
    "value_counts(normalize=True)로 파라미터를 설정하면 각 값들의 비율을 확인가능  "
   ]
  },
  {
   "cell_type": "code",
   "execution_count": 28,
   "metadata": {},
   "outputs": [
    {
     "name": "stdout",
     "output_type": "stream",
     "text": [
      "F    0.668897\n",
      "M    0.331103\n",
      "Name: gender, dtype: float64\n",
      "--------------------------------------------------\n",
      "N    0.620252\n",
      "Y    0.379748\n",
      "Name: car, dtype: float64\n",
      "--------------------------------------------------\n",
      "Y    0.673924\n",
      "N    0.326076\n",
      "Name: reality, dtype: float64\n",
      "--------------------------------------------------\n",
      "Working                 0.515743\n",
      "Commercial associate    0.234418\n",
      "Pensioner               0.168160\n",
      "State servant           0.081415\n",
      "Student                 0.000265\n",
      "Name: income_type, dtype: float64\n",
      "--------------------------------------------------\n",
      "Secondary / secondary special    0.680160\n",
      "Higher education                 0.270703\n",
      "Incomplete higher                0.038553\n",
      "Lower secondary                  0.009714\n",
      "Academic degree                  0.000869\n",
      "Name: edu_type, dtype: float64\n",
      "--------------------------------------------------\n",
      "Married                 0.687757\n",
      "Single / not married    0.132139\n",
      "Civil marriage          0.080243\n",
      "Separated               0.058170\n",
      "Widow                   0.041690\n",
      "Name: family_type, dtype: float64\n",
      "--------------------------------------------------\n",
      "House / apartment      0.894017\n",
      "With parents           0.047511\n",
      "Municipal apartment    0.030918\n",
      "Rented apartment       0.016215\n",
      "Office apartment       0.007181\n",
      "Co-op apartment        0.004158\n",
      "Name: house_type, dtype: float64\n",
      "--------------------------------------------------\n",
      "Laborers                 0.246746\n",
      "Core staff               0.144701\n",
      "Sales staff              0.138849\n",
      "Managers                 0.118506\n",
      "Drivers                  0.086131\n",
      "High skill tech staff    0.056874\n",
      "Accountants              0.049327\n",
      "Medicine staff           0.047249\n",
      "Cooking staff            0.024992\n",
      "Security staff           0.023187\n",
      "Cleaning staff           0.022039\n",
      "Private service staff    0.013289\n",
      "Low-skill Laborers       0.006945\n",
      "Waiters/barmen staff     0.006781\n",
      "Secretaries              0.005305\n",
      "Realty agents            0.003445\n",
      "HR staff                 0.003391\n",
      "IT staff                 0.002242\n",
      "Name: occyp_type, dtype: float64\n",
      "--------------------------------------------------\n"
     ]
    }
   ],
   "source": [
    "# train 데이터의 카테고리 컬럼들을 추출합니다.\n",
    "categories = train.select_dtypes(exclude='number')\n",
    "\n",
    "# 추출한 변수들의 값들의 비율을 확인합니다.\n",
    "for feature in categories:\n",
    "  print(train[feature].value_counts(normalize=True))\n",
    "  print('-'*50)"
   ]
  },
  {
   "cell_type": "markdown",
   "metadata": {},
   "source": [
    "### 2-2. 결측치 처리  "
   ]
  },
  {
   "cell_type": "markdown",
   "metadata": {},
   "source": [
    "info() 메서드로 occyp_type 변수가 결측치가 존재한다는 사실 확인하였음  \n",
    "occyp_type 변수는 직업을 나타내는 변수이므로 결측치는 '무직'(No job) 생각하고 처리해줌  "
   ]
  },
  {
   "cell_type": "code",
   "execution_count": 29,
   "metadata": {},
   "outputs": [],
   "source": [
    "# `occyp_type` 변수의 결측치들을 \"No job\"으로 채워줌\n",
    "train[\"occyp_type\"] = train[\"occyp_type\"].fillna(\"No job\")\n",
    "test[\"occyp_type\"] = test[\"occyp_type\"].fillna(\"No job\")"
   ]
  },
  {
   "cell_type": "code",
   "execution_count": 30,
   "metadata": {},
   "outputs": [
    {
     "data": {
      "text/plain": [
       "No job                   30.88\n",
       "Laborers                 17.05\n",
       "Core staff               10.00\n",
       "Sales staff               9.60\n",
       "Managers                  8.19\n",
       "Drivers                   5.95\n",
       "High skill tech staff     3.93\n",
       "Accountants               3.41\n",
       "Medicine staff            3.27\n",
       "Cooking staff             1.73\n",
       "Security staff            1.60\n",
       "Cleaning staff            1.52\n",
       "Private service staff     0.92\n",
       "Low-skill Laborers        0.48\n",
       "Waiters/barmen staff      0.47\n",
       "Secretaries               0.37\n",
       "Realty agents             0.24\n",
       "HR staff                  0.23\n",
       "IT staff                  0.15\n",
       "Name: occyp_type, dtype: float64"
      ]
     },
     "execution_count": 30,
     "metadata": {},
     "output_type": "execute_result"
    }
   ],
   "source": [
    "# occyp_type 변수의 값의 비율을 백분율로 확인합니다.\n",
    "round(train[\"occyp_type\"].value_counts(normalize=True) * 100, 2)"
   ]
  },
  {
   "cell_type": "markdown",
   "metadata": {},
   "source": [
    "### 2-3. 전처리 데이터 저장하기"
   ]
  },
  {
   "cell_type": "markdown",
   "metadata": {},
   "source": [
    "앞에서의 결과를 통해 train 데이터와 test 데이터를 사용하기 편하게  \n",
    "값을 변경해주었는데 이를 데이터 전처리라고 한다.  "
   ]
  },
  {
   "cell_type": "markdown",
   "metadata": {},
   "source": [
    "이렇게 전처리된 데이터를 저장하기 위해 pandas의 to_csv() 메서드로 저장해준다."
   ]
  },
  {
   "cell_type": "code",
   "execution_count": 31,
   "metadata": {},
   "outputs": [],
   "source": [
    "# # 전처리된 train, test 데이터를 각각 저장\n",
    "\n",
    "# train.to_csv(\"creditcard_train.csv\", index=False)\n",
    "# test.to_csv(\"creditcard_test.csv\", index=False)\n",
    "\n",
    "# submission.to_csv(\"creditcard_submission.csv\", index=False)"
   ]
  },
  {
   "cell_type": "markdown",
   "metadata": {},
   "source": [
    "## Stage 3. 모델링 기초  "
   ]
  },
  {
   "cell_type": "code",
   "execution_count": 32,
   "metadata": {},
   "outputs": [],
   "source": [
    "# # pandas 패키지를 pd라는 별칭으로 불러옵니다.\n",
    "# import pandas as pd\n",
    "\n",
    "# # train 데이터를 불러옵니다.\n",
    "# train = pd.read_csv('creditcard_train.csv')\n",
    "# # test 데이터를 불러옵니다.\n",
    "# test = pd.read_csv('creditcard_test.csv')\n",
    "# # submission 데이터를 불러옵니다.\n",
    "# submission = pd.read_csv('creditcard_submission.csv')"
   ]
  },
  {
   "cell_type": "markdown",
   "metadata": {},
   "source": [
    "모델링이란?  \n",
    "모델링이란 주어진 데이터를 기반으로 패턴을 파악하거나 예측하기 위해  \n",
    "수학적, 통계적 모델을 만들고 활용하는 과정  \n",
    "이렇게 만들어진 모델은 학습데이터를 기반으로 학습하고 최종적으로  \n",
    "예측결과를 만들어내는 역할을 수행  "
   ]
  },
  {
   "cell_type": "markdown",
   "metadata": {},
   "source": [
    "### 3-0. 모델링 이전에 알아야되는 개념"
   ]
  },
  {
   "cell_type": "markdown",
   "metadata": {},
   "source": [
    "3-0-1. Feature & Target  \n",
    "\n",
    "feature는 예측을 위해 모델이 학습하는 변수로 독립변수 X라고도 불림  \n",
    "\n",
    "target은 모델이 예측하고자 하는 대상으로 이때 모델은 feature를 통해  \n",
    "target과의 관계, 패턴 등을 학습하고 결과를 만들어냄. 종속변수 Y라고도 불림"
   ]
  },
  {
   "cell_type": "markdown",
   "metadata": {},
   "source": [
    "3-0-2. Problem Type (Regression vs Classification)  \n",
    "\n",
    "예측 문제는 주로 회귀(Regression)과 분류(Classification) 문제로 나눌 수 있고  \n",
    "둘 중 어떤 문제로 정의할지는 Target 데이터의 특성에 따라 결정됨  \n",
    "\n",
    "<회귀(Regression)>   \n",
    "\n",
    "- Target 데이터가 연속적인 값을 가질 때 이를 예측하기 위해 사용  \n",
    "- 대표적으로 주택 가격 예측 등의 문제  \n",
    "\n",
    "<분류(Classification)>  \n",
    "\n",
    "- Target 데이터가 여러 개의 이산적인 값을 가질 때 이를 예측하기 위해 사용\n",
    "- 대표적으로 스팸 메일 분류, 이미지 분류 등의 문제가 있음"
   ]
  },
  {
   "cell_type": "markdown",
   "metadata": {},
   "source": [
    "신용카드 사용자 예측 관련 문제인 상황에서 분류 or 회귀중  \n",
    "어떠한 문제로 정의해야 되는지 예측할 타겟변수 credit 변수를 확인한다"
   ]
  },
  {
   "cell_type": "code",
   "execution_count": 33,
   "metadata": {},
   "outputs": [
    {
     "data": {
      "text/plain": [
       "2.0    16968\n",
       "1.0     6267\n",
       "0.0     3222\n",
       "Name: credit, dtype: int64"
      ]
     },
     "execution_count": 33,
     "metadata": {},
     "output_type": "execute_result"
    }
   ],
   "source": [
    "train[\"credit\"].value_counts()"
   ]
  },
  {
   "cell_type": "markdown",
   "metadata": {},
   "source": [
    "credit 변수는 사용자의 연체 가능성에 따라  \n",
    "0, 1, 2의 세 가지 값으로 이루어져 있음을 확인할수 있고  \n",
    "\n",
    "Target이 0, 1, 2의 세 가지 결과로 나눠지기 때문에 분류(Classification)  \n",
    "알고리즘을 사용하면 좋을것임을 확인할수 있다.  "
   ]
  },
  {
   "cell_type": "markdown",
   "metadata": {},
   "source": [
    "### 3-1. 모델링"
   ]
  },
  {
   "cell_type": "markdown",
   "metadata": {},
   "source": [
    "이제 가장 널리 사용되는 분류 모델을 배워보겠습니다.  \n",
    "이번에 같이 사용해볼 모델은 의사결정나무 분류기(Decision Tree Classifier)입니다  "
   ]
  },
  {
   "cell_type": "markdown",
   "metadata": {},
   "source": [
    "의사결정나무는 데이터의 특성에 따라 의사결정 규칙을  \n",
    "만들어 내는 트리 구조의 알고리즘입 주로 회귀(Regression)와  \n",
    "분류(Classification) 문제에 사용\n",
    "\n",
    "모델을 불러오기 위해 파이썬의 머신러닝 패키지인 sklearn 패키지를 불러와줌"
   ]
  },
  {
   "cell_type": "markdown",
   "metadata": {},
   "source": [
    "이때 Scikit-Learn은 파이썬 프로그래밍 언어를 기반으로한 오픈소스 기반    \n",
    "머신 러닝 라이브러리입니다. Scikit-Learn은 다음과 같은 특징을 가지고 있음  \n",
    "\n",
    "- 데이터 분석 및 머신 러닝에 필요한 다양한 기능을 제공하여  \n",
    "좀 더 효율적으로 모델을 구축하고 평가할 수 있도록 도와준다.\n",
    "- 가독성이 좋은 문서를 가지고 있어서 누구나 쉽게 접근이 가능하다.  \n",
    "\n",
    "파이썬으로 데이터 분석을 한다면 자주 사용하는 패키지 중 하나이다.  "
   ]
  },
  {
   "cell_type": "markdown",
   "metadata": {},
   "source": [
    "sklenrn 패키지에서 tree 모듈을 불러오겠습니다.  \n",
    "그리고 tree 모듈에서 DecisionTreeClassifier 객체를 불러오도록 하겠습니다."
   ]
  },
  {
   "cell_type": "code",
   "execution_count": 34,
   "metadata": {},
   "outputs": [],
   "source": [
    "from sklearn.tree import DecisionTreeClassifier"
   ]
  },
  {
   "cell_type": "markdown",
   "metadata": {},
   "source": [
    "그 다음 model이라는 변수에 할당  \n",
    "모델의 일정한 결과를 유지하기 위해 파라미터로 random_state=42를 설정  "
   ]
  },
  {
   "cell_type": "code",
   "execution_count": 35,
   "metadata": {},
   "outputs": [],
   "source": [
    "model = DecisionTreeClassifier(random_state=42)"
   ]
  },
  {
   "cell_type": "markdown",
   "metadata": {},
   "source": [
    "### 3-2. 레이블 인코딩  "
   ]
  },
  {
   "cell_type": "markdown",
   "metadata": {},
   "source": [
    "모델 학습 이전에 간단하게 데이터 전처리를 진행한다.   \n",
    "sklearn의 DecisionTreeClassifier 모델은 object 타입의 데이터를 처리하지 못함   따라서 LabelEncoder를 이용해서 object 타입의 컬럼들을 변경해주는 과정 필요"
   ]
  },
  {
   "cell_type": "markdown",
   "metadata": {},
   "source": [
    "레이블 인코딩이란?  \n",
    "레이블 인코딩(Label Encoding)은 카테고리형 데이터를 수치형 데이터로  \n",
    "변환하는 방법 중 하나로 머신 러닝 알고리즘에 입력 데이터로 사용하기 위해,  \n",
    "문자열 형태의 카테고리를 숫자로 변환하는 프로세스를 의미"
   ]
  },
  {
   "cell_type": "markdown",
   "metadata": {},
   "source": [
    "예를 들어, 아래의 대륙들은 각각 1부터 6이라는  \n",
    "고유의 숫자로 변환된 것을 볼 수 있음  \n",
    "\n",
    "|Label|Encoded Label|\n",
    "|---|---|\n",
    "|Africa|1|\n",
    "|Asia|2|\n",
    "|Europe|3|\n",
    "|South America|4|\n",
    "|North America|5|\n",
    "|Other|6|\n"
   ]
  },
  {
   "cell_type": "markdown",
   "metadata": {},
   "source": [
    "sklenrn 패키지에서 preprocessing 모듈을 불러오겠습니다.  \n",
    "그리고 preprocessing 모듈에서 LabelEncoder 함수를 불러오도록 하겠습니다"
   ]
  },
  {
   "cell_type": "code",
   "execution_count": 36,
   "metadata": {},
   "outputs": [],
   "source": [
    "# sklearn 패키지의 preprocessing 모듈에서 LabelEncoder 함수를 불러옵니다  \n",
    "from sklearn.preprocessing import LabelEncoder  \n",
    "  \n",
    "# le라는 변수에 LabelEncoder 함수를 할당합니다  \n",
    "le = LabelEncoder()  "
   ]
  },
  {
   "cell_type": "markdown",
   "metadata": {},
   "source": [
    "이제 object 타입의 데이터들을 LabelEncoder로 변환해줄게요!"
   ]
  },
  {
   "cell_type": "code",
   "execution_count": 37,
   "metadata": {},
   "outputs": [],
   "source": [
    "# LabelEncoder로 object 타입 변수들을 수치형 데이터로 변환해줍니다\n",
    "cols = train.select_dtypes(include=['object']).columns\n",
    "\n",
    "for col in cols:\n",
    "    train[col] = le.fit_transform(train[col])\n",
    "    test[col] = le.fit_transform(test[col])"
   ]
  },
  {
   "cell_type": "code",
   "execution_count": 38,
   "metadata": {},
   "outputs": [
    {
     "data": {
      "text/html": [
       "<div>\n",
       "<style scoped>\n",
       "    .dataframe tbody tr th:only-of-type {\n",
       "        vertical-align: middle;\n",
       "    }\n",
       "\n",
       "    .dataframe tbody tr th {\n",
       "        vertical-align: top;\n",
       "    }\n",
       "\n",
       "    .dataframe thead th {\n",
       "        text-align: right;\n",
       "    }\n",
       "</style>\n",
       "<table border=\"1\" class=\"dataframe\">\n",
       "  <thead>\n",
       "    <tr style=\"text-align: right;\">\n",
       "      <th></th>\n",
       "      <th>index</th>\n",
       "      <th>gender</th>\n",
       "      <th>car</th>\n",
       "      <th>reality</th>\n",
       "      <th>child_num</th>\n",
       "      <th>income_total</th>\n",
       "      <th>income_type</th>\n",
       "      <th>edu_type</th>\n",
       "      <th>family_type</th>\n",
       "      <th>house_type</th>\n",
       "      <th>DAYS_BIRTH</th>\n",
       "      <th>DAYS_EMPLOYED</th>\n",
       "      <th>FLAG_MOBIL</th>\n",
       "      <th>work_phone</th>\n",
       "      <th>phone</th>\n",
       "      <th>email</th>\n",
       "      <th>occyp_type</th>\n",
       "      <th>family_size</th>\n",
       "      <th>begin_month</th>\n",
       "      <th>credit</th>\n",
       "    </tr>\n",
       "  </thead>\n",
       "  <tbody>\n",
       "    <tr>\n",
       "      <th>0</th>\n",
       "      <td>0</td>\n",
       "      <td>0</td>\n",
       "      <td>0</td>\n",
       "      <td>0</td>\n",
       "      <td>0</td>\n",
       "      <td>202500.0</td>\n",
       "      <td>0</td>\n",
       "      <td>1</td>\n",
       "      <td>1</td>\n",
       "      <td>2</td>\n",
       "      <td>38.079452</td>\n",
       "      <td>12.901370</td>\n",
       "      <td>1</td>\n",
       "      <td>0</td>\n",
       "      <td>0</td>\n",
       "      <td>0</td>\n",
       "      <td>12</td>\n",
       "      <td>2.0</td>\n",
       "      <td>6.0</td>\n",
       "      <td>1.0</td>\n",
       "    </tr>\n",
       "    <tr>\n",
       "      <th>1</th>\n",
       "      <td>1</td>\n",
       "      <td>0</td>\n",
       "      <td>0</td>\n",
       "      <td>1</td>\n",
       "      <td>1</td>\n",
       "      <td>247500.0</td>\n",
       "      <td>0</td>\n",
       "      <td>4</td>\n",
       "      <td>0</td>\n",
       "      <td>1</td>\n",
       "      <td>31.178082</td>\n",
       "      <td>4.219178</td>\n",
       "      <td>1</td>\n",
       "      <td>0</td>\n",
       "      <td>0</td>\n",
       "      <td>1</td>\n",
       "      <td>8</td>\n",
       "      <td>3.0</td>\n",
       "      <td>5.0</td>\n",
       "      <td>1.0</td>\n",
       "    </tr>\n",
       "    <tr>\n",
       "      <th>2</th>\n",
       "      <td>2</td>\n",
       "      <td>1</td>\n",
       "      <td>1</td>\n",
       "      <td>1</td>\n",
       "      <td>0</td>\n",
       "      <td>450000.0</td>\n",
       "      <td>4</td>\n",
       "      <td>1</td>\n",
       "      <td>1</td>\n",
       "      <td>1</td>\n",
       "      <td>52.293151</td>\n",
       "      <td>12.147945</td>\n",
       "      <td>1</td>\n",
       "      <td>0</td>\n",
       "      <td>1</td>\n",
       "      <td>0</td>\n",
       "      <td>10</td>\n",
       "      <td>2.0</td>\n",
       "      <td>22.0</td>\n",
       "      <td>2.0</td>\n",
       "    </tr>\n",
       "    <tr>\n",
       "      <th>3</th>\n",
       "      <td>3</td>\n",
       "      <td>0</td>\n",
       "      <td>0</td>\n",
       "      <td>1</td>\n",
       "      <td>0</td>\n",
       "      <td>202500.0</td>\n",
       "      <td>0</td>\n",
       "      <td>4</td>\n",
       "      <td>1</td>\n",
       "      <td>1</td>\n",
       "      <td>41.336986</td>\n",
       "      <td>5.731507</td>\n",
       "      <td>1</td>\n",
       "      <td>0</td>\n",
       "      <td>1</td>\n",
       "      <td>0</td>\n",
       "      <td>15</td>\n",
       "      <td>2.0</td>\n",
       "      <td>37.0</td>\n",
       "      <td>0.0</td>\n",
       "    </tr>\n",
       "    <tr>\n",
       "      <th>4</th>\n",
       "      <td>4</td>\n",
       "      <td>0</td>\n",
       "      <td>1</td>\n",
       "      <td>1</td>\n",
       "      <td>0</td>\n",
       "      <td>157500.0</td>\n",
       "      <td>2</td>\n",
       "      <td>1</td>\n",
       "      <td>1</td>\n",
       "      <td>1</td>\n",
       "      <td>41.197260</td>\n",
       "      <td>5.767123</td>\n",
       "      <td>1</td>\n",
       "      <td>0</td>\n",
       "      <td>0</td>\n",
       "      <td>0</td>\n",
       "      <td>10</td>\n",
       "      <td>2.0</td>\n",
       "      <td>26.0</td>\n",
       "      <td>2.0</td>\n",
       "    </tr>\n",
       "  </tbody>\n",
       "</table>\n",
       "</div>"
      ],
      "text/plain": [
       "   index  gender  car  reality  child_num  income_total  income_type  \\\n",
       "0      0       0    0        0          0      202500.0            0   \n",
       "1      1       0    0        1          1      247500.0            0   \n",
       "2      2       1    1        1          0      450000.0            4   \n",
       "3      3       0    0        1          0      202500.0            0   \n",
       "4      4       0    1        1          0      157500.0            2   \n",
       "\n",
       "   edu_type  family_type  house_type  DAYS_BIRTH  DAYS_EMPLOYED  FLAG_MOBIL  \\\n",
       "0         1            1           2   38.079452      12.901370           1   \n",
       "1         4            0           1   31.178082       4.219178           1   \n",
       "2         1            1           1   52.293151      12.147945           1   \n",
       "3         4            1           1   41.336986       5.731507           1   \n",
       "4         1            1           1   41.197260       5.767123           1   \n",
       "\n",
       "   work_phone  phone  email  occyp_type  family_size  begin_month  credit  \n",
       "0           0      0      0          12          2.0          6.0     1.0  \n",
       "1           0      0      1           8          3.0          5.0     1.0  \n",
       "2           0      1      0          10          2.0         22.0     2.0  \n",
       "3           0      1      0          15          2.0         37.0     0.0  \n",
       "4           0      0      0          10          2.0         26.0     2.0  "
      ]
     },
     "execution_count": 38,
     "metadata": {},
     "output_type": "execute_result"
    }
   ],
   "source": [
    "# 변환 결과를 확인합니다\n",
    "train.head()"
   ]
  },
  {
   "cell_type": "markdown",
   "metadata": {},
   "source": [
    "변환이 완료된 것을 확인할 수 있다."
   ]
  },
  {
   "cell_type": "markdown",
   "metadata": {},
   "source": [
    "### 3-3. 데이터 나누기  "
   ]
  },
  {
   "cell_type": "markdown",
   "metadata": {},
   "source": [
    "다음으로 모델 학습을 위해서 데이터를 나눠주도록 하겠습니다  \n",
    "먼저 학습용 데이터를 독립변수 X와 종속변수 y로 나눠주겠습니다.  "
   ]
  },
  {
   "cell_type": "code",
   "execution_count": 39,
   "metadata": {},
   "outputs": [],
   "source": [
    "# train 데이터를 독립변수 X와 종속변수 y로 나눠줍니다\n",
    "X = train.drop(columns=\"credit\")\n",
    "y = train[\"credit\"]"
   ]
  },
  {
   "attachments": {
    "image.png": {
     "image/png": "[encoded data removed]"
    }
   },
   "cell_type": "markdown",
   "metadata": {},
   "source": [
    "![image.png](attachment:image.png)"
   ]
  },
  {
   "cell_type": "markdown",
   "metadata": {},
   "source": [
    "."
   ]
  }
 ],
 "metadata": {
  "kernelspec": {
   "display_name": "Python 3",
   "language": "python",
   "name": "python3"
  },
  "language_info": {
   "codemirror_mode": {
    "name": "ipython",
    "version": 3
   },
   "file_extension": ".py",
   "mimetype": "text/x-python",
   "name": "python",
   "nbconvert_exporter": "python",
   "pygments_lexer": "ipython3",
   "version": "3.7.8"
  }
 },
 "nbformat": 4,
 "nbformat_minor": 2
}
