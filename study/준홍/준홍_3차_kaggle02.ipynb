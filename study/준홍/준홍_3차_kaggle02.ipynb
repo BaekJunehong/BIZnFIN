{
 "cells": [
  {
   "cell_type": "markdown",
   "id": "f0314613",
   "metadata": {},
   "source": [
    "# 준홍 kaggle 2번째 코드  "
   ]
  },
  {
   "cell_type": "markdown",
   "id": "e6aaad90",
   "metadata": {},
   "source": [
    "## 참고코드"
   ]
  },
  {
   "cell_type": "markdown",
   "id": "8816a33b",
   "metadata": {},
   "source": [
    "https://www.kaggle.com/code/shaswata18/bankruptcy-detection-97-accuracy"
   ]
  },
  {
   "cell_type": "markdown",
   "id": "dfa56c29",
   "metadata": {},
   "source": [
    "### kick point  \n",
    "- Outliers (use Histogram, Boxplot)\n",
    "- Scaling\n",
    "- SMOTE\n",
    "- ROC curve(with cutoff)\n",
    "- SVM(Distance Based model)\n",
    "- Feature Importance"
   ]
  },
  {
   "cell_type": "markdown",
   "id": "practical-place",
   "metadata": {
    "papermill": {
     "duration": 0.041314,
     "end_time": "2021-04-09T11:01:17.611272",
     "exception": false,
     "start_time": "2021-04-09T11:01:17.569958",
     "status": "completed"
    },
    "tags": []
   },
   "source": [
    "# A. Pre-processing "
   ]
  },
  {
   "cell_type": "markdown",
   "id": "superior-vessel",
   "metadata": {
    "papermill": {
     "duration": 0.04231,
     "end_time": "2021-04-09T11:01:17.695256",
     "exception": false,
     "start_time": "2021-04-09T11:01:17.652946",
     "status": "completed"
    },
    "tags": []
   },
   "source": [
    "# Workflow"
   ]
  },
  {
   "cell_type": "code",
   "execution_count": 2,
   "id": "important-reggae",
   "metadata": {
    "execution": {
     "iopub.execute_input": "2021-04-09T11:01:17.785531Z",
     "iopub.status.busy": "2021-04-09T11:01:17.784846Z",
     "iopub.status.idle": "2021-04-09T11:01:18.829224Z",
     "shell.execute_reply": "2021-04-09T11:01:18.828042Z"
    },
    "papermill": {
     "duration": 1.091421,
     "end_time": "2021-04-09T11:01:18.829389",
     "exception": false,
     "start_time": "2021-04-09T11:01:17.737968",
     "status": "completed"
    },
    "tags": []
   },
   "outputs": [],
   "source": [
    "import pandas as pd\n",
    "import numpy as np\n",
    "import matplotlib.pyplot as plt\n",
    "import seaborn as sns"
   ]
  },
  {
   "cell_type": "code",
   "execution_count": 3,
   "id": "blond-conviction",
   "metadata": {
    "execution": {
     "iopub.execute_input": "2021-04-09T11:01:18.922789Z",
     "iopub.status.busy": "2021-04-09T11:01:18.921964Z",
     "iopub.status.idle": "2021-04-09T11:01:18.925653Z",
     "shell.execute_reply": "2021-04-09T11:01:18.925094Z"
    },
    "papermill": {
     "duration": 0.053543,
     "end_time": "2021-04-09T11:01:18.925825",
     "exception": false,
     "start_time": "2021-04-09T11:01:18.872282",
     "status": "completed"
    },
    "tags": []
   },
   "outputs": [],
   "source": [
    "pd.options.display.max_columns=100\n",
    "pd.options.display.max_rows=100\n",
    "pd.set_option('display.float_format','{:.2f}'.format)"
   ]
  },
  {
   "cell_type": "markdown",
   "id": "elect-graduate",
   "metadata": {
    "papermill": {
     "duration": 0.042363,
     "end_time": "2021-04-09T11:01:19.010556",
     "exception": false,
     "start_time": "2021-04-09T11:01:18.968193",
     "status": "completed"
    },
    "tags": []
   },
   "source": [
    "### 1.1 Read - head  - shape\n",
    "- We have total 6819 records from 96 columns in the dataset,of which:\n",
    "    - 1 Target (Bankrupt?)\n",
    "    - 95 features"
   ]
  },
  {
   "cell_type": "code",
   "execution_count": 4,
   "id": "blocked-philosophy",
   "metadata": {
    "execution": {
     "iopub.execute_input": "2021-04-09T11:01:19.099245Z",
     "iopub.status.busy": "2021-04-09T11:01:19.098559Z",
     "iopub.status.idle": "2021-04-09T11:01:19.595530Z",
     "shell.execute_reply": "2021-04-09T11:01:19.595002Z"
    },
    "papermill": {
     "duration": 0.542717,
     "end_time": "2021-04-09T11:01:19.595679",
     "exception": false,
     "start_time": "2021-04-09T11:01:19.052962",
     "status": "completed"
    },
    "tags": []
   },
   "outputs": [
    {
     "name": "stdout",
     "output_type": "stream",
     "text": [
      "(6819, 96)\n"
     ]
    },
    {
     "data": {
      "text/html": [
       "<div>\n",
       "<style scoped>\n",
       "    .dataframe tbody tr th:only-of-type {\n",
       "        vertical-align: middle;\n",
       "    }\n",
       "\n",
       "    .dataframe tbody tr th {\n",
       "        vertical-align: top;\n",
       "    }\n",
       "\n",
       "    .dataframe thead th {\n",
       "        text-align: right;\n",
       "    }\n",
       "</style>\n",
       "<table border=\"1\" class=\"dataframe\">\n",
       "  <thead>\n",
       "    <tr style=\"text-align: right;\">\n",
       "      <th></th>\n",
       "      <th>Bankrupt?</th>\n",
       "      <th>ROA(C) before interest and depreciation before interest</th>\n",
       "      <th>ROA(A) before interest and % after tax</th>\n",
       "      <th>ROA(B) before interest and depreciation after tax</th>\n",
       "      <th>Operating Gross Margin</th>\n",
       "      <th>Realized Sales Gross Margin</th>\n",
       "      <th>Operating Profit Rate</th>\n",
       "      <th>Pre-tax net Interest Rate</th>\n",
       "      <th>After-tax net Interest Rate</th>\n",
       "      <th>Non-industry income and expenditure/revenue</th>\n",
       "      <th>Continuous interest rate (after tax)</th>\n",
       "      <th>Operating Expense Rate</th>\n",
       "      <th>Research and development expense rate</th>\n",
       "      <th>Cash flow rate</th>\n",
       "      <th>Interest-bearing debt interest rate</th>\n",
       "      <th>Tax rate (A)</th>\n",
       "      <th>Net Value Per Share (B)</th>\n",
       "      <th>Net Value Per Share (A)</th>\n",
       "      <th>Net Value Per Share (C)</th>\n",
       "      <th>Persistent EPS in the Last Four Seasons</th>\n",
       "      <th>Cash Flow Per Share</th>\n",
       "      <th>Revenue Per Share (Yuan ¥)</th>\n",
       "      <th>Operating Profit Per Share (Yuan ¥)</th>\n",
       "      <th>Per Share Net profit before tax (Yuan ¥)</th>\n",
       "      <th>Realized Sales Gross Profit Growth Rate</th>\n",
       "      <th>Operating Profit Growth Rate</th>\n",
       "      <th>After-tax Net Profit Growth Rate</th>\n",
       "      <th>Regular Net Profit Growth Rate</th>\n",
       "      <th>Continuous Net Profit Growth Rate</th>\n",
       "      <th>Total Asset Growth Rate</th>\n",
       "      <th>Net Value Growth Rate</th>\n",
       "      <th>Total Asset Return Growth Rate Ratio</th>\n",
       "      <th>Cash Reinvestment %</th>\n",
       "      <th>Current Ratio</th>\n",
       "      <th>Quick Ratio</th>\n",
       "      <th>Interest Expense Ratio</th>\n",
       "      <th>Total debt/Total net worth</th>\n",
       "      <th>Debt ratio %</th>\n",
       "      <th>Net worth/Assets</th>\n",
       "      <th>Long-term fund suitability ratio (A)</th>\n",
       "      <th>Borrowing dependency</th>\n",
       "      <th>Contingent liabilities/Net worth</th>\n",
       "      <th>Operating profit/Paid-in capital</th>\n",
       "      <th>Net profit before tax/Paid-in capital</th>\n",
       "      <th>Inventory and accounts receivable/Net value</th>\n",
       "      <th>Total Asset Turnover</th>\n",
       "      <th>Accounts Receivable Turnover</th>\n",
       "      <th>Average Collection Days</th>\n",
       "      <th>Inventory Turnover Rate (times)</th>\n",
       "      <th>Fixed Assets Turnover Frequency</th>\n",
       "      <th>Net Worth Turnover Rate (times)</th>\n",
       "      <th>Revenue per person</th>\n",
       "      <th>Operating profit per person</th>\n",
       "      <th>Allocation rate per person</th>\n",
       "      <th>Working Capital to Total Assets</th>\n",
       "      <th>Quick Assets/Total Assets</th>\n",
       "      <th>Current Assets/Total Assets</th>\n",
       "      <th>Cash/Total Assets</th>\n",
       "      <th>Quick Assets/Current Liability</th>\n",
       "      <th>Cash/Current Liability</th>\n",
       "      <th>Current Liability to Assets</th>\n",
       "      <th>Operating Funds to Liability</th>\n",
       "      <th>Inventory/Working Capital</th>\n",
       "      <th>Inventory/Current Liability</th>\n",
       "      <th>Current Liabilities/Liability</th>\n",
       "      <th>Working Capital/Equity</th>\n",
       "      <th>Current Liabilities/Equity</th>\n",
       "      <th>Long-term Liability to Current Assets</th>\n",
       "      <th>Retained Earnings to Total Assets</th>\n",
       "      <th>Total income/Total expense</th>\n",
       "      <th>Total expense/Assets</th>\n",
       "      <th>Current Asset Turnover Rate</th>\n",
       "      <th>Quick Asset Turnover Rate</th>\n",
       "      <th>Working capitcal Turnover Rate</th>\n",
       "      <th>Cash Turnover Rate</th>\n",
       "      <th>Cash Flow to Sales</th>\n",
       "      <th>Fixed Assets to Assets</th>\n",
       "      <th>Current Liability to Liability</th>\n",
       "      <th>Current Liability to Equity</th>\n",
       "      <th>Equity to Long-term Liability</th>\n",
       "      <th>Cash Flow to Total Assets</th>\n",
       "      <th>Cash Flow to Liability</th>\n",
       "      <th>CFO to Assets</th>\n",
       "      <th>Cash Flow to Equity</th>\n",
       "      <th>Current Liability to Current Assets</th>\n",
       "      <th>Liability-Assets Flag</th>\n",
       "      <th>Net Income to Total Assets</th>\n",
       "      <th>Total assets to GNP price</th>\n",
       "      <th>No-credit Interval</th>\n",
       "      <th>Gross Profit to Sales</th>\n",
       "      <th>Net Income to Stockholder's Equity</th>\n",
       "      <th>Liability to Equity</th>\n",
       "      <th>Degree of Financial Leverage (DFL)</th>\n",
       "      <th>Interest Coverage Ratio (Interest expense to EBIT)</th>\n",
       "      <th>Net Income Flag</th>\n",
       "      <th>Equity to Liability</th>\n",
       "    </tr>\n",
       "  </thead>\n",
       "  <tbody>\n",
       "    <tr>\n",
       "      <th>0</th>\n",
       "      <td>1</td>\n",
       "      <td>0.37</td>\n",
       "      <td>0.42</td>\n",
       "      <td>0.41</td>\n",
       "      <td>0.60</td>\n",
       "      <td>0.60</td>\n",
       "      <td>1.00</td>\n",
       "      <td>0.80</td>\n",
       "      <td>0.81</td>\n",
       "      <td>0.30</td>\n",
       "      <td>0.78</td>\n",
       "      <td>0.00</td>\n",
       "      <td>0.00</td>\n",
       "      <td>0.46</td>\n",
       "      <td>0.00</td>\n",
       "      <td>0.00</td>\n",
       "      <td>0.15</td>\n",
       "      <td>0.15</td>\n",
       "      <td>0.15</td>\n",
       "      <td>0.17</td>\n",
       "      <td>0.31</td>\n",
       "      <td>0.02</td>\n",
       "      <td>0.10</td>\n",
       "      <td>0.14</td>\n",
       "      <td>0.02</td>\n",
       "      <td>0.85</td>\n",
       "      <td>0.69</td>\n",
       "      <td>0.69</td>\n",
       "      <td>0.22</td>\n",
       "      <td>4980000000.00</td>\n",
       "      <td>0.00</td>\n",
       "      <td>0.26</td>\n",
       "      <td>0.36</td>\n",
       "      <td>0.00</td>\n",
       "      <td>0.00</td>\n",
       "      <td>0.63</td>\n",
       "      <td>0.02</td>\n",
       "      <td>0.21</td>\n",
       "      <td>0.79</td>\n",
       "      <td>0.01</td>\n",
       "      <td>0.39</td>\n",
       "      <td>0.01</td>\n",
       "      <td>0.10</td>\n",
       "      <td>0.14</td>\n",
       "      <td>0.40</td>\n",
       "      <td>0.09</td>\n",
       "      <td>0.00</td>\n",
       "      <td>0.00</td>\n",
       "      <td>0.00</td>\n",
       "      <td>0.00</td>\n",
       "      <td>0.03</td>\n",
       "      <td>0.03</td>\n",
       "      <td>0.39</td>\n",
       "      <td>0.04</td>\n",
       "      <td>0.67</td>\n",
       "      <td>0.17</td>\n",
       "      <td>0.19</td>\n",
       "      <td>0.00</td>\n",
       "      <td>0.00</td>\n",
       "      <td>0.00</td>\n",
       "      <td>0.15</td>\n",
       "      <td>0.33</td>\n",
       "      <td>0.28</td>\n",
       "      <td>0.00</td>\n",
       "      <td>0.68</td>\n",
       "      <td>0.72</td>\n",
       "      <td>0.34</td>\n",
       "      <td>0.03</td>\n",
       "      <td>0.90</td>\n",
       "      <td>0.00</td>\n",
       "      <td>0.06</td>\n",
       "      <td>701000000.00</td>\n",
       "      <td>6550000000.00</td>\n",
       "      <td>0.59</td>\n",
       "      <td>458000000.00</td>\n",
       "      <td>0.67</td>\n",
       "      <td>0.42</td>\n",
       "      <td>0.68</td>\n",
       "      <td>0.34</td>\n",
       "      <td>0.13</td>\n",
       "      <td>0.64</td>\n",
       "      <td>0.46</td>\n",
       "      <td>0.52</td>\n",
       "      <td>0.31</td>\n",
       "      <td>0.12</td>\n",
       "      <td>0</td>\n",
       "      <td>0.72</td>\n",
       "      <td>0.01</td>\n",
       "      <td>0.62</td>\n",
       "      <td>0.60</td>\n",
       "      <td>0.83</td>\n",
       "      <td>0.29</td>\n",
       "      <td>0.03</td>\n",
       "      <td>0.56</td>\n",
       "      <td>1</td>\n",
       "      <td>0.02</td>\n",
       "    </tr>\n",
       "    <tr>\n",
       "      <th>1</th>\n",
       "      <td>1</td>\n",
       "      <td>0.46</td>\n",
       "      <td>0.54</td>\n",
       "      <td>0.52</td>\n",
       "      <td>0.61</td>\n",
       "      <td>0.61</td>\n",
       "      <td>1.00</td>\n",
       "      <td>0.80</td>\n",
       "      <td>0.81</td>\n",
       "      <td>0.30</td>\n",
       "      <td>0.78</td>\n",
       "      <td>0.00</td>\n",
       "      <td>0.00</td>\n",
       "      <td>0.46</td>\n",
       "      <td>0.00</td>\n",
       "      <td>0.00</td>\n",
       "      <td>0.18</td>\n",
       "      <td>0.18</td>\n",
       "      <td>0.18</td>\n",
       "      <td>0.21</td>\n",
       "      <td>0.32</td>\n",
       "      <td>0.02</td>\n",
       "      <td>0.09</td>\n",
       "      <td>0.17</td>\n",
       "      <td>0.02</td>\n",
       "      <td>0.85</td>\n",
       "      <td>0.69</td>\n",
       "      <td>0.69</td>\n",
       "      <td>0.22</td>\n",
       "      <td>6110000000.00</td>\n",
       "      <td>0.00</td>\n",
       "      <td>0.26</td>\n",
       "      <td>0.38</td>\n",
       "      <td>0.01</td>\n",
       "      <td>0.00</td>\n",
       "      <td>0.64</td>\n",
       "      <td>0.01</td>\n",
       "      <td>0.17</td>\n",
       "      <td>0.83</td>\n",
       "      <td>0.01</td>\n",
       "      <td>0.38</td>\n",
       "      <td>0.01</td>\n",
       "      <td>0.09</td>\n",
       "      <td>0.17</td>\n",
       "      <td>0.40</td>\n",
       "      <td>0.06</td>\n",
       "      <td>0.00</td>\n",
       "      <td>0.00</td>\n",
       "      <td>9360000000.00</td>\n",
       "      <td>719000000.00</td>\n",
       "      <td>0.03</td>\n",
       "      <td>0.01</td>\n",
       "      <td>0.39</td>\n",
       "      <td>0.01</td>\n",
       "      <td>0.75</td>\n",
       "      <td>0.13</td>\n",
       "      <td>0.18</td>\n",
       "      <td>0.01</td>\n",
       "      <td>0.00</td>\n",
       "      <td>0.00</td>\n",
       "      <td>0.06</td>\n",
       "      <td>0.34</td>\n",
       "      <td>0.29</td>\n",
       "      <td>0.01</td>\n",
       "      <td>0.31</td>\n",
       "      <td>0.73</td>\n",
       "      <td>0.33</td>\n",
       "      <td>0.02</td>\n",
       "      <td>0.93</td>\n",
       "      <td>0.00</td>\n",
       "      <td>0.03</td>\n",
       "      <td>0.00</td>\n",
       "      <td>7700000000.00</td>\n",
       "      <td>0.59</td>\n",
       "      <td>2490000000.00</td>\n",
       "      <td>0.67</td>\n",
       "      <td>0.47</td>\n",
       "      <td>0.31</td>\n",
       "      <td>0.33</td>\n",
       "      <td>0.12</td>\n",
       "      <td>0.64</td>\n",
       "      <td>0.46</td>\n",
       "      <td>0.57</td>\n",
       "      <td>0.31</td>\n",
       "      <td>0.05</td>\n",
       "      <td>0</td>\n",
       "      <td>0.80</td>\n",
       "      <td>0.01</td>\n",
       "      <td>0.62</td>\n",
       "      <td>0.61</td>\n",
       "      <td>0.84</td>\n",
       "      <td>0.28</td>\n",
       "      <td>0.26</td>\n",
       "      <td>0.57</td>\n",
       "      <td>1</td>\n",
       "      <td>0.02</td>\n",
       "    </tr>\n",
       "    <tr>\n",
       "      <th>2</th>\n",
       "      <td>1</td>\n",
       "      <td>0.43</td>\n",
       "      <td>0.50</td>\n",
       "      <td>0.47</td>\n",
       "      <td>0.60</td>\n",
       "      <td>0.60</td>\n",
       "      <td>1.00</td>\n",
       "      <td>0.80</td>\n",
       "      <td>0.81</td>\n",
       "      <td>0.30</td>\n",
       "      <td>0.78</td>\n",
       "      <td>0.00</td>\n",
       "      <td>25500000.00</td>\n",
       "      <td>0.46</td>\n",
       "      <td>0.00</td>\n",
       "      <td>0.00</td>\n",
       "      <td>0.18</td>\n",
       "      <td>0.18</td>\n",
       "      <td>0.19</td>\n",
       "      <td>0.18</td>\n",
       "      <td>0.31</td>\n",
       "      <td>0.01</td>\n",
       "      <td>0.09</td>\n",
       "      <td>0.14</td>\n",
       "      <td>0.02</td>\n",
       "      <td>0.85</td>\n",
       "      <td>0.69</td>\n",
       "      <td>0.69</td>\n",
       "      <td>0.22</td>\n",
       "      <td>7280000000.00</td>\n",
       "      <td>0.00</td>\n",
       "      <td>0.26</td>\n",
       "      <td>0.37</td>\n",
       "      <td>0.01</td>\n",
       "      <td>0.01</td>\n",
       "      <td>0.63</td>\n",
       "      <td>0.02</td>\n",
       "      <td>0.21</td>\n",
       "      <td>0.79</td>\n",
       "      <td>0.01</td>\n",
       "      <td>0.38</td>\n",
       "      <td>0.01</td>\n",
       "      <td>0.09</td>\n",
       "      <td>0.15</td>\n",
       "      <td>0.41</td>\n",
       "      <td>0.01</td>\n",
       "      <td>0.00</td>\n",
       "      <td>0.00</td>\n",
       "      <td>65000000.00</td>\n",
       "      <td>2650000000.00</td>\n",
       "      <td>0.01</td>\n",
       "      <td>0.03</td>\n",
       "      <td>0.38</td>\n",
       "      <td>0.14</td>\n",
       "      <td>0.83</td>\n",
       "      <td>0.34</td>\n",
       "      <td>0.60</td>\n",
       "      <td>0.00</td>\n",
       "      <td>0.01</td>\n",
       "      <td>5340000000.00</td>\n",
       "      <td>0.10</td>\n",
       "      <td>0.34</td>\n",
       "      <td>0.28</td>\n",
       "      <td>0.01</td>\n",
       "      <td>0.45</td>\n",
       "      <td>0.74</td>\n",
       "      <td>0.33</td>\n",
       "      <td>0.00</td>\n",
       "      <td>0.91</td>\n",
       "      <td>0.00</td>\n",
       "      <td>0.02</td>\n",
       "      <td>0.00</td>\n",
       "      <td>0.00</td>\n",
       "      <td>0.59</td>\n",
       "      <td>761000000.00</td>\n",
       "      <td>0.67</td>\n",
       "      <td>0.28</td>\n",
       "      <td>0.45</td>\n",
       "      <td>0.33</td>\n",
       "      <td>0.12</td>\n",
       "      <td>0.64</td>\n",
       "      <td>0.46</td>\n",
       "      <td>0.54</td>\n",
       "      <td>0.31</td>\n",
       "      <td>0.03</td>\n",
       "      <td>0</td>\n",
       "      <td>0.77</td>\n",
       "      <td>0.04</td>\n",
       "      <td>0.62</td>\n",
       "      <td>0.60</td>\n",
       "      <td>0.84</td>\n",
       "      <td>0.29</td>\n",
       "      <td>0.03</td>\n",
       "      <td>0.56</td>\n",
       "      <td>1</td>\n",
       "      <td>0.02</td>\n",
       "    </tr>\n",
       "  </tbody>\n",
       "</table>\n",
       "</div>"
      ],
      "text/plain": [
       "   Bankrupt?   ROA(C) before interest and depreciation before interest  \\\n",
       "0          1                                               0.37          \n",
       "1          1                                               0.46          \n",
       "2          1                                               0.43          \n",
       "\n",
       "    ROA(A) before interest and % after tax  \\\n",
       "0                                     0.42   \n",
       "1                                     0.54   \n",
       "2                                     0.50   \n",
       "\n",
       "    ROA(B) before interest and depreciation after tax  \\\n",
       "0                                               0.41    \n",
       "1                                               0.52    \n",
       "2                                               0.47    \n",
       "\n",
       "    Operating Gross Margin   Realized Sales Gross Margin  \\\n",
       "0                     0.60                          0.60   \n",
       "1                     0.61                          0.61   \n",
       "2                     0.60                          0.60   \n",
       "\n",
       "    Operating Profit Rate   Pre-tax net Interest Rate  \\\n",
       "0                    1.00                        0.80   \n",
       "1                    1.00                        0.80   \n",
       "2                    1.00                        0.80   \n",
       "\n",
       "    After-tax net Interest Rate   Non-industry income and expenditure/revenue  \\\n",
       "0                          0.81                                          0.30   \n",
       "1                          0.81                                          0.30   \n",
       "2                          0.81                                          0.30   \n",
       "\n",
       "    Continuous interest rate (after tax)   Operating Expense Rate  \\\n",
       "0                                   0.78                     0.00   \n",
       "1                                   0.78                     0.00   \n",
       "2                                   0.78                     0.00   \n",
       "\n",
       "    Research and development expense rate   Cash flow rate  \\\n",
       "0                                    0.00             0.46   \n",
       "1                                    0.00             0.46   \n",
       "2                             25500000.00             0.46   \n",
       "\n",
       "    Interest-bearing debt interest rate   Tax rate (A)  \\\n",
       "0                                  0.00           0.00   \n",
       "1                                  0.00           0.00   \n",
       "2                                  0.00           0.00   \n",
       "\n",
       "    Net Value Per Share (B)   Net Value Per Share (A)  \\\n",
       "0                      0.15                      0.15   \n",
       "1                      0.18                      0.18   \n",
       "2                      0.18                      0.18   \n",
       "\n",
       "    Net Value Per Share (C)   Persistent EPS in the Last Four Seasons  \\\n",
       "0                      0.15                                      0.17   \n",
       "1                      0.18                                      0.21   \n",
       "2                      0.19                                      0.18   \n",
       "\n",
       "    Cash Flow Per Share   Revenue Per Share (Yuan ¥)  \\\n",
       "0                  0.31                         0.02   \n",
       "1                  0.32                         0.02   \n",
       "2                  0.31                         0.01   \n",
       "\n",
       "    Operating Profit Per Share (Yuan ¥)  \\\n",
       "0                                  0.10   \n",
       "1                                  0.09   \n",
       "2                                  0.09   \n",
       "\n",
       "    Per Share Net profit before tax (Yuan ¥)  \\\n",
       "0                                       0.14   \n",
       "1                                       0.17   \n",
       "2                                       0.14   \n",
       "\n",
       "    Realized Sales Gross Profit Growth Rate   Operating Profit Growth Rate  \\\n",
       "0                                      0.02                           0.85   \n",
       "1                                      0.02                           0.85   \n",
       "2                                      0.02                           0.85   \n",
       "\n",
       "    After-tax Net Profit Growth Rate   Regular Net Profit Growth Rate  \\\n",
       "0                               0.69                             0.69   \n",
       "1                               0.69                             0.69   \n",
       "2                               0.69                             0.69   \n",
       "\n",
       "    Continuous Net Profit Growth Rate   Total Asset Growth Rate  \\\n",
       "0                                0.22             4980000000.00   \n",
       "1                                0.22             6110000000.00   \n",
       "2                                0.22             7280000000.00   \n",
       "\n",
       "    Net Value Growth Rate   Total Asset Return Growth Rate Ratio  \\\n",
       "0                    0.00                                   0.26   \n",
       "1                    0.00                                   0.26   \n",
       "2                    0.00                                   0.26   \n",
       "\n",
       "    Cash Reinvestment %   Current Ratio   Quick Ratio  \\\n",
       "0                  0.36            0.00          0.00   \n",
       "1                  0.38            0.01          0.00   \n",
       "2                  0.37            0.01          0.01   \n",
       "\n",
       "    Interest Expense Ratio   Total debt/Total net worth   Debt ratio %  \\\n",
       "0                     0.63                         0.02           0.21   \n",
       "1                     0.64                         0.01           0.17   \n",
       "2                     0.63                         0.02           0.21   \n",
       "\n",
       "    Net worth/Assets   Long-term fund suitability ratio (A)  \\\n",
       "0               0.79                                   0.01   \n",
       "1               0.83                                   0.01   \n",
       "2               0.79                                   0.01   \n",
       "\n",
       "    Borrowing dependency   Contingent liabilities/Net worth  \\\n",
       "0                   0.39                               0.01   \n",
       "1                   0.38                               0.01   \n",
       "2                   0.38                               0.01   \n",
       "\n",
       "    Operating profit/Paid-in capital   Net profit before tax/Paid-in capital  \\\n",
       "0                               0.10                                    0.14   \n",
       "1                               0.09                                    0.17   \n",
       "2                               0.09                                    0.15   \n",
       "\n",
       "    Inventory and accounts receivable/Net value   Total Asset Turnover  \\\n",
       "0                                          0.40                   0.09   \n",
       "1                                          0.40                   0.06   \n",
       "2                                          0.41                   0.01   \n",
       "\n",
       "    Accounts Receivable Turnover   Average Collection Days  \\\n",
       "0                           0.00                      0.00   \n",
       "1                           0.00                      0.00   \n",
       "2                           0.00                      0.00   \n",
       "\n",
       "    Inventory Turnover Rate (times)   Fixed Assets Turnover Frequency  \\\n",
       "0                              0.00                              0.00   \n",
       "1                     9360000000.00                      719000000.00   \n",
       "2                       65000000.00                     2650000000.00   \n",
       "\n",
       "    Net Worth Turnover Rate (times)   Revenue per person  \\\n",
       "0                              0.03                 0.03   \n",
       "1                              0.03                 0.01   \n",
       "2                              0.01                 0.03   \n",
       "\n",
       "    Operating profit per person   Allocation rate per person  \\\n",
       "0                          0.39                         0.04   \n",
       "1                          0.39                         0.01   \n",
       "2                          0.38                         0.14   \n",
       "\n",
       "    Working Capital to Total Assets   Quick Assets/Total Assets  \\\n",
       "0                              0.67                        0.17   \n",
       "1                              0.75                        0.13   \n",
       "2                              0.83                        0.34   \n",
       "\n",
       "    Current Assets/Total Assets   Cash/Total Assets  \\\n",
       "0                          0.19                0.00   \n",
       "1                          0.18                0.01   \n",
       "2                          0.60                0.00   \n",
       "\n",
       "    Quick Assets/Current Liability   Cash/Current Liability  \\\n",
       "0                             0.00                     0.00   \n",
       "1                             0.00                     0.00   \n",
       "2                             0.01            5340000000.00   \n",
       "\n",
       "    Current Liability to Assets   Operating Funds to Liability  \\\n",
       "0                          0.15                           0.33   \n",
       "1                          0.06                           0.34   \n",
       "2                          0.10                           0.34   \n",
       "\n",
       "    Inventory/Working Capital   Inventory/Current Liability  \\\n",
       "0                        0.28                          0.00   \n",
       "1                        0.29                          0.01   \n",
       "2                        0.28                          0.01   \n",
       "\n",
       "    Current Liabilities/Liability   Working Capital/Equity  \\\n",
       "0                            0.68                     0.72   \n",
       "1                            0.31                     0.73   \n",
       "2                            0.45                     0.74   \n",
       "\n",
       "    Current Liabilities/Equity   Long-term Liability to Current Assets  \\\n",
       "0                         0.34                                    0.03   \n",
       "1                         0.33                                    0.02   \n",
       "2                         0.33                                    0.00   \n",
       "\n",
       "    Retained Earnings to Total Assets   Total income/Total expense  \\\n",
       "0                                0.90                         0.00   \n",
       "1                                0.93                         0.00   \n",
       "2                                0.91                         0.00   \n",
       "\n",
       "    Total expense/Assets   Current Asset Turnover Rate  \\\n",
       "0                   0.06                  701000000.00   \n",
       "1                   0.03                          0.00   \n",
       "2                   0.02                          0.00   \n",
       "\n",
       "    Quick Asset Turnover Rate   Working capitcal Turnover Rate  \\\n",
       "0               6550000000.00                             0.59   \n",
       "1               7700000000.00                             0.59   \n",
       "2                        0.00                             0.59   \n",
       "\n",
       "    Cash Turnover Rate   Cash Flow to Sales   Fixed Assets to Assets  \\\n",
       "0         458000000.00                 0.67                     0.42   \n",
       "1        2490000000.00                 0.67                     0.47   \n",
       "2         761000000.00                 0.67                     0.28   \n",
       "\n",
       "    Current Liability to Liability   Current Liability to Equity  \\\n",
       "0                             0.68                          0.34   \n",
       "1                             0.31                          0.33   \n",
       "2                             0.45                          0.33   \n",
       "\n",
       "    Equity to Long-term Liability   Cash Flow to Total Assets  \\\n",
       "0                            0.13                        0.64   \n",
       "1                            0.12                        0.64   \n",
       "2                            0.12                        0.64   \n",
       "\n",
       "    Cash Flow to Liability   CFO to Assets   Cash Flow to Equity  \\\n",
       "0                     0.46            0.52                  0.31   \n",
       "1                     0.46            0.57                  0.31   \n",
       "2                     0.46            0.54                  0.31   \n",
       "\n",
       "    Current Liability to Current Assets   Liability-Assets Flag  \\\n",
       "0                                  0.12                       0   \n",
       "1                                  0.05                       0   \n",
       "2                                  0.03                       0   \n",
       "\n",
       "    Net Income to Total Assets   Total assets to GNP price  \\\n",
       "0                         0.72                        0.01   \n",
       "1                         0.80                        0.01   \n",
       "2                         0.77                        0.04   \n",
       "\n",
       "    No-credit Interval   Gross Profit to Sales  \\\n",
       "0                 0.62                    0.60   \n",
       "1                 0.62                    0.61   \n",
       "2                 0.62                    0.60   \n",
       "\n",
       "    Net Income to Stockholder's Equity   Liability to Equity  \\\n",
       "0                                 0.83                  0.29   \n",
       "1                                 0.84                  0.28   \n",
       "2                                 0.84                  0.29   \n",
       "\n",
       "    Degree of Financial Leverage (DFL)  \\\n",
       "0                                 0.03   \n",
       "1                                 0.26   \n",
       "2                                 0.03   \n",
       "\n",
       "    Interest Coverage Ratio (Interest expense to EBIT)   Net Income Flag  \\\n",
       "0                                               0.56                   1   \n",
       "1                                               0.57                   1   \n",
       "2                                               0.56                   1   \n",
       "\n",
       "    Equity to Liability  \n",
       "0                  0.02  \n",
       "1                  0.02  \n",
       "2                  0.02  "
      ]
     },
     "execution_count": 4,
     "metadata": {},
     "output_type": "execute_result"
    }
   ],
   "source": [
    "data = pd.read_csv(\"/kaggle/input/company-bankruptcy-prediction/data.csv\")\n",
    "print(data.shape)\n",
    "data.head(3)"
   ]
  },
  {
   "cell_type": "markdown",
   "id": "czech-syracuse",
   "metadata": {
    "papermill": {
     "duration": 0.043526,
     "end_time": "2021-04-09T11:01:19.683062",
     "exception": false,
     "start_time": "2021-04-09T11:01:19.639536",
     "status": "completed"
    },
    "tags": []
   },
   "source": [
    "### 1.2 Info , describe\n",
    "- All features are numeric(숫자)\n",
    "- one features(변수) has 0 variance(분산) that is constant throughout\n",
    "- major features are in the range of 0-1(0-1범위 존재)\n",
    "- there are outlier(이상치) infected features"
   ]
  },
  {
   "cell_type": "code",
   "execution_count": 5,
   "id": "isolated-validation",
   "metadata": {
    "execution": {
     "iopub.execute_input": "2021-04-09T11:01:19.778906Z",
     "iopub.status.busy": "2021-04-09T11:01:19.777891Z",
     "iopub.status.idle": "2021-04-09T11:01:19.804454Z",
     "shell.execute_reply": "2021-04-09T11:01:19.803784Z"
    },
    "papermill": {
     "duration": 0.077319,
     "end_time": "2021-04-09T11:01:19.804596",
     "exception": false,
     "start_time": "2021-04-09T11:01:19.727277",
     "status": "completed"
    },
    "tags": []
   },
   "outputs": [
    {
     "name": "stdout",
     "output_type": "stream",
     "text": [
      "<class 'pandas.core.frame.DataFrame'>\n",
      "RangeIndex: 6819 entries, 0 to 6818\n",
      "Data columns (total 96 columns):\n",
      " #   Column                                                    Non-Null Count  Dtype  \n",
      "---  ------                                                    --------------  -----  \n",
      " 0   Bankrupt?                                                 6819 non-null   int64  \n",
      " 1    ROA(C) before interest and depreciation before interest  6819 non-null   float64\n",
      " 2    ROA(A) before interest and % after tax                   6819 non-null   float64\n",
      " 3    ROA(B) before interest and depreciation after tax        6819 non-null   float64\n",
      " 4    Operating Gross Margin                                   6819 non-null   float64\n",
      " 5    Realized Sales Gross Margin                              6819 non-null   float64\n",
      " 6    Operating Profit Rate                                    6819 non-null   float64\n",
      " 7    Pre-tax net Interest Rate                                6819 non-null   float64\n",
      " 8    After-tax net Interest Rate                              6819 non-null   float64\n",
      " 9    Non-industry income and expenditure/revenue              6819 non-null   float64\n",
      " 10   Continuous interest rate (after tax)                     6819 non-null   float64\n",
      " 11   Operating Expense Rate                                   6819 non-null   float64\n",
      " 12   Research and development expense rate                    6819 non-null   float64\n",
      " 13   Cash flow rate                                           6819 non-null   float64\n",
      " 14   Interest-bearing debt interest rate                      6819 non-null   float64\n",
      " 15   Tax rate (A)                                             6819 non-null   float64\n",
      " 16   Net Value Per Share (B)                                  6819 non-null   float64\n",
      " 17   Net Value Per Share (A)                                  6819 non-null   float64\n",
      " 18   Net Value Per Share (C)                                  6819 non-null   float64\n",
      " 19   Persistent EPS in the Last Four Seasons                  6819 non-null   float64\n",
      " 20   Cash Flow Per Share                                      6819 non-null   float64\n",
      " 21   Revenue Per Share (Yuan ¥)                               6819 non-null   float64\n",
      " 22   Operating Profit Per Share (Yuan ¥)                      6819 non-null   float64\n",
      " 23   Per Share Net profit before tax (Yuan ¥)                 6819 non-null   float64\n",
      " 24   Realized Sales Gross Profit Growth Rate                  6819 non-null   float64\n",
      " 25   Operating Profit Growth Rate                             6819 non-null   float64\n",
      " 26   After-tax Net Profit Growth Rate                         6819 non-null   float64\n",
      " 27   Regular Net Profit Growth Rate                           6819 non-null   float64\n",
      " 28   Continuous Net Profit Growth Rate                        6819 non-null   float64\n",
      " 29   Total Asset Growth Rate                                  6819 non-null   float64\n",
      " 30   Net Value Growth Rate                                    6819 non-null   float64\n",
      " 31   Total Asset Return Growth Rate Ratio                     6819 non-null   float64\n",
      " 32   Cash Reinvestment %                                      6819 non-null   float64\n",
      " 33   Current Ratio                                            6819 non-null   float64\n",
      " 34   Quick Ratio                                              6819 non-null   float64\n",
      " 35   Interest Expense Ratio                                   6819 non-null   float64\n",
      " 36   Total debt/Total net worth                               6819 non-null   float64\n",
      " 37   Debt ratio %                                             6819 non-null   float64\n",
      " 38   Net worth/Assets                                         6819 non-null   float64\n",
      " 39   Long-term fund suitability ratio (A)                     6819 non-null   float64\n",
      " 40   Borrowing dependency                                     6819 non-null   float64\n",
      " 41   Contingent liabilities/Net worth                         6819 non-null   float64\n",
      " 42   Operating profit/Paid-in capital                         6819 non-null   float64\n",
      " 43   Net profit before tax/Paid-in capital                    6819 non-null   float64\n",
      " 44   Inventory and accounts receivable/Net value              6819 non-null   float64\n",
      " 45   Total Asset Turnover                                     6819 non-null   float64\n",
      " 46   Accounts Receivable Turnover                             6819 non-null   float64\n",
      " 47   Average Collection Days                                  6819 non-null   float64\n",
      " 48   Inventory Turnover Rate (times)                          6819 non-null   float64\n",
      " 49   Fixed Assets Turnover Frequency                          6819 non-null   float64\n",
      " 50   Net Worth Turnover Rate (times)                          6819 non-null   float64\n",
      " 51   Revenue per person                                       6819 non-null   float64\n",
      " 52   Operating profit per person                              6819 non-null   float64\n",
      " 53   Allocation rate per person                               6819 non-null   float64\n",
      " 54   Working Capital to Total Assets                          6819 non-null   float64\n",
      " 55   Quick Assets/Total Assets                                6819 non-null   float64\n",
      " 56   Current Assets/Total Assets                              6819 non-null   float64\n",
      " 57   Cash/Total Assets                                        6819 non-null   float64\n",
      " 58   Quick Assets/Current Liability                           6819 non-null   float64\n",
      " 59   Cash/Current Liability                                   6819 non-null   float64\n",
      " 60   Current Liability to Assets                              6819 non-null   float64\n",
      " 61   Operating Funds to Liability                             6819 non-null   float64\n",
      " 62   Inventory/Working Capital                                6819 non-null   float64\n",
      " 63   Inventory/Current Liability                              6819 non-null   float64\n",
      " 64   Current Liabilities/Liability                            6819 non-null   float64\n",
      " 65   Working Capital/Equity                                   6819 non-null   float64\n",
      " 66   Current Liabilities/Equity                               6819 non-null   float64\n",
      " 67   Long-term Liability to Current Assets                    6819 non-null   float64\n",
      " 68   Retained Earnings to Total Assets                        6819 non-null   float64\n",
      " 69   Total income/Total expense                               6819 non-null   float64\n",
      " 70   Total expense/Assets                                     6819 non-null   float64\n",
      " 71   Current Asset Turnover Rate                              6819 non-null   float64\n",
      " 72   Quick Asset Turnover Rate                                6819 non-null   float64\n",
      " 73   Working capitcal Turnover Rate                           6819 non-null   float64\n",
      " 74   Cash Turnover Rate                                       6819 non-null   float64\n",
      " 75   Cash Flow to Sales                                       6819 non-null   float64\n",
      " 76   Fixed Assets to Assets                                   6819 non-null   float64\n",
      " 77   Current Liability to Liability                           6819 non-null   float64\n",
      " 78   Current Liability to Equity                              6819 non-null   float64\n",
      " 79   Equity to Long-term Liability                            6819 non-null   float64\n",
      " 80   Cash Flow to Total Assets                                6819 non-null   float64\n",
      " 81   Cash Flow to Liability                                   6819 non-null   float64\n",
      " 82   CFO to Assets                                            6819 non-null   float64\n",
      " 83   Cash Flow to Equity                                      6819 non-null   float64\n",
      " 84   Current Liability to Current Assets                      6819 non-null   float64\n",
      " 85   Liability-Assets Flag                                    6819 non-null   int64  \n",
      " 86   Net Income to Total Assets                               6819 non-null   float64\n",
      " 87   Total assets to GNP price                                6819 non-null   float64\n",
      " 88   No-credit Interval                                       6819 non-null   float64\n",
      " 89   Gross Profit to Sales                                    6819 non-null   float64\n",
      " 90   Net Income to Stockholder's Equity                       6819 non-null   float64\n",
      " 91   Liability to Equity                                      6819 non-null   float64\n",
      " 92   Degree of Financial Leverage (DFL)                       6819 non-null   float64\n",
      " 93   Interest Coverage Ratio (Interest expense to EBIT)       6819 non-null   float64\n",
      " 94   Net Income Flag                                          6819 non-null   int64  \n",
      " 95   Equity to Liability                                      6819 non-null   float64\n",
      "dtypes: float64(93), int64(3)\n",
      "memory usage: 5.0 MB\n"
     ]
    }
   ],
   "source": [
    "data.info()"
   ]
  },
  {
   "cell_type": "code",
   "execution_count": 6,
   "id": "satisfied-content",
   "metadata": {
    "execution": {
     "iopub.execute_input": "2021-04-09T11:01:19.905732Z",
     "iopub.status.busy": "2021-04-09T11:01:19.905042Z",
     "iopub.status.idle": "2021-04-09T11:01:20.174648Z",
     "shell.execute_reply": "2021-04-09T11:01:20.175190Z"
    },
    "papermill": {
     "duration": 0.324727,
     "end_time": "2021-04-09T11:01:20.175368",
     "exception": false,
     "start_time": "2021-04-09T11:01:19.850641",
     "status": "completed"
    },
    "tags": []
   },
   "outputs": [
    {
     "data": {
      "text/html": [
       "<div>\n",
       "<style scoped>\n",
       "    .dataframe tbody tr th:only-of-type {\n",
       "        vertical-align: middle;\n",
       "    }\n",
       "\n",
       "    .dataframe tbody tr th {\n",
       "        vertical-align: top;\n",
       "    }\n",
       "\n",
       "    .dataframe thead th {\n",
       "        text-align: right;\n",
       "    }\n",
       "</style>\n",
       "<table border=\"1\" class=\"dataframe\">\n",
       "  <thead>\n",
       "    <tr style=\"text-align: right;\">\n",
       "      <th></th>\n",
       "      <th>Bankrupt?</th>\n",
       "      <th>ROA(C) before interest and depreciation before interest</th>\n",
       "      <th>ROA(A) before interest and % after tax</th>\n",
       "      <th>ROA(B) before interest and depreciation after tax</th>\n",
       "      <th>Operating Gross Margin</th>\n",
       "      <th>Realized Sales Gross Margin</th>\n",
       "      <th>Operating Profit Rate</th>\n",
       "      <th>Pre-tax net Interest Rate</th>\n",
       "      <th>After-tax net Interest Rate</th>\n",
       "      <th>Non-industry income and expenditure/revenue</th>\n",
       "      <th>Continuous interest rate (after tax)</th>\n",
       "      <th>Operating Expense Rate</th>\n",
       "      <th>Research and development expense rate</th>\n",
       "      <th>Cash flow rate</th>\n",
       "      <th>Interest-bearing debt interest rate</th>\n",
       "      <th>Tax rate (A)</th>\n",
       "      <th>Net Value Per Share (B)</th>\n",
       "      <th>Net Value Per Share (A)</th>\n",
       "      <th>Net Value Per Share (C)</th>\n",
       "      <th>Persistent EPS in the Last Four Seasons</th>\n",
       "      <th>Cash Flow Per Share</th>\n",
       "      <th>Revenue Per Share (Yuan ¥)</th>\n",
       "      <th>Operating Profit Per Share (Yuan ¥)</th>\n",
       "      <th>Per Share Net profit before tax (Yuan ¥)</th>\n",
       "      <th>Realized Sales Gross Profit Growth Rate</th>\n",
       "      <th>Operating Profit Growth Rate</th>\n",
       "      <th>After-tax Net Profit Growth Rate</th>\n",
       "      <th>Regular Net Profit Growth Rate</th>\n",
       "      <th>Continuous Net Profit Growth Rate</th>\n",
       "      <th>Total Asset Growth Rate</th>\n",
       "      <th>Net Value Growth Rate</th>\n",
       "      <th>Total Asset Return Growth Rate Ratio</th>\n",
       "      <th>Cash Reinvestment %</th>\n",
       "      <th>Current Ratio</th>\n",
       "      <th>Quick Ratio</th>\n",
       "      <th>Interest Expense Ratio</th>\n",
       "      <th>Total debt/Total net worth</th>\n",
       "      <th>Debt ratio %</th>\n",
       "      <th>Net worth/Assets</th>\n",
       "      <th>Long-term fund suitability ratio (A)</th>\n",
       "      <th>Borrowing dependency</th>\n",
       "      <th>Contingent liabilities/Net worth</th>\n",
       "      <th>Operating profit/Paid-in capital</th>\n",
       "      <th>Net profit before tax/Paid-in capital</th>\n",
       "      <th>Inventory and accounts receivable/Net value</th>\n",
       "      <th>Total Asset Turnover</th>\n",
       "      <th>Accounts Receivable Turnover</th>\n",
       "      <th>Average Collection Days</th>\n",
       "      <th>Inventory Turnover Rate (times)</th>\n",
       "      <th>Fixed Assets Turnover Frequency</th>\n",
       "      <th>Net Worth Turnover Rate (times)</th>\n",
       "      <th>Revenue per person</th>\n",
       "      <th>Operating profit per person</th>\n",
       "      <th>Allocation rate per person</th>\n",
       "      <th>Working Capital to Total Assets</th>\n",
       "      <th>Quick Assets/Total Assets</th>\n",
       "      <th>Current Assets/Total Assets</th>\n",
       "      <th>Cash/Total Assets</th>\n",
       "      <th>Quick Assets/Current Liability</th>\n",
       "      <th>Cash/Current Liability</th>\n",
       "      <th>Current Liability to Assets</th>\n",
       "      <th>Operating Funds to Liability</th>\n",
       "      <th>Inventory/Working Capital</th>\n",
       "      <th>Inventory/Current Liability</th>\n",
       "      <th>Current Liabilities/Liability</th>\n",
       "      <th>Working Capital/Equity</th>\n",
       "      <th>Current Liabilities/Equity</th>\n",
       "      <th>Long-term Liability to Current Assets</th>\n",
       "      <th>Retained Earnings to Total Assets</th>\n",
       "      <th>Total income/Total expense</th>\n",
       "      <th>Total expense/Assets</th>\n",
       "      <th>Current Asset Turnover Rate</th>\n",
       "      <th>Quick Asset Turnover Rate</th>\n",
       "      <th>Working capitcal Turnover Rate</th>\n",
       "      <th>Cash Turnover Rate</th>\n",
       "      <th>Cash Flow to Sales</th>\n",
       "      <th>Fixed Assets to Assets</th>\n",
       "      <th>Current Liability to Liability</th>\n",
       "      <th>Current Liability to Equity</th>\n",
       "      <th>Equity to Long-term Liability</th>\n",
       "      <th>Cash Flow to Total Assets</th>\n",
       "      <th>Cash Flow to Liability</th>\n",
       "      <th>CFO to Assets</th>\n",
       "      <th>Cash Flow to Equity</th>\n",
       "      <th>Current Liability to Current Assets</th>\n",
       "      <th>Liability-Assets Flag</th>\n",
       "      <th>Net Income to Total Assets</th>\n",
       "      <th>Total assets to GNP price</th>\n",
       "      <th>No-credit Interval</th>\n",
       "      <th>Gross Profit to Sales</th>\n",
       "      <th>Net Income to Stockholder's Equity</th>\n",
       "      <th>Liability to Equity</th>\n",
       "      <th>Degree of Financial Leverage (DFL)</th>\n",
       "      <th>Interest Coverage Ratio (Interest expense to EBIT)</th>\n",
       "      <th>Net Income Flag</th>\n",
       "      <th>Equity to Liability</th>\n",
       "    </tr>\n",
       "  </thead>\n",
       "  <tbody>\n",
       "    <tr>\n",
       "      <th>count</th>\n",
       "      <td>6819.00</td>\n",
       "      <td>6819.00</td>\n",
       "      <td>6819.00</td>\n",
       "      <td>6819.00</td>\n",
       "      <td>6819.00</td>\n",
       "      <td>6819.00</td>\n",
       "      <td>6819.00</td>\n",
       "      <td>6819.00</td>\n",
       "      <td>6819.00</td>\n",
       "      <td>6819.00</td>\n",
       "      <td>6819.00</td>\n",
       "      <td>6819.00</td>\n",
       "      <td>6819.00</td>\n",
       "      <td>6819.00</td>\n",
       "      <td>6819.00</td>\n",
       "      <td>6819.00</td>\n",
       "      <td>6819.00</td>\n",
       "      <td>6819.00</td>\n",
       "      <td>6819.00</td>\n",
       "      <td>6819.00</td>\n",
       "      <td>6819.00</td>\n",
       "      <td>6819.00</td>\n",
       "      <td>6819.00</td>\n",
       "      <td>6819.00</td>\n",
       "      <td>6819.00</td>\n",
       "      <td>6819.00</td>\n",
       "      <td>6819.00</td>\n",
       "      <td>6819.00</td>\n",
       "      <td>6819.00</td>\n",
       "      <td>6819.00</td>\n",
       "      <td>6819.00</td>\n",
       "      <td>6819.00</td>\n",
       "      <td>6819.00</td>\n",
       "      <td>6819.00</td>\n",
       "      <td>6819.00</td>\n",
       "      <td>6819.00</td>\n",
       "      <td>6819.00</td>\n",
       "      <td>6819.00</td>\n",
       "      <td>6819.00</td>\n",
       "      <td>6819.00</td>\n",
       "      <td>6819.00</td>\n",
       "      <td>6819.00</td>\n",
       "      <td>6819.00</td>\n",
       "      <td>6819.00</td>\n",
       "      <td>6819.00</td>\n",
       "      <td>6819.00</td>\n",
       "      <td>6819.00</td>\n",
       "      <td>6819.00</td>\n",
       "      <td>6819.00</td>\n",
       "      <td>6819.00</td>\n",
       "      <td>6819.00</td>\n",
       "      <td>6819.00</td>\n",
       "      <td>6819.00</td>\n",
       "      <td>6819.00</td>\n",
       "      <td>6819.00</td>\n",
       "      <td>6819.00</td>\n",
       "      <td>6819.00</td>\n",
       "      <td>6819.00</td>\n",
       "      <td>6819.00</td>\n",
       "      <td>6819.00</td>\n",
       "      <td>6819.00</td>\n",
       "      <td>6819.00</td>\n",
       "      <td>6819.00</td>\n",
       "      <td>6819.00</td>\n",
       "      <td>6819.00</td>\n",
       "      <td>6819.00</td>\n",
       "      <td>6819.00</td>\n",
       "      <td>6819.00</td>\n",
       "      <td>6819.00</td>\n",
       "      <td>6819.00</td>\n",
       "      <td>6819.00</td>\n",
       "      <td>6819.00</td>\n",
       "      <td>6819.00</td>\n",
       "      <td>6819.00</td>\n",
       "      <td>6819.00</td>\n",
       "      <td>6819.00</td>\n",
       "      <td>6819.00</td>\n",
       "      <td>6819.00</td>\n",
       "      <td>6819.00</td>\n",
       "      <td>6819.00</td>\n",
       "      <td>6819.00</td>\n",
       "      <td>6819.00</td>\n",
       "      <td>6819.00</td>\n",
       "      <td>6819.00</td>\n",
       "      <td>6819.00</td>\n",
       "      <td>6819.00</td>\n",
       "      <td>6819.00</td>\n",
       "      <td>6819.00</td>\n",
       "      <td>6819.00</td>\n",
       "      <td>6819.00</td>\n",
       "      <td>6819.00</td>\n",
       "      <td>6819.00</td>\n",
       "      <td>6819.00</td>\n",
       "      <td>6819.00</td>\n",
       "      <td>6819.00</td>\n",
       "      <td>6819.00</td>\n",
       "    </tr>\n",
       "    <tr>\n",
       "      <th>mean</th>\n",
       "      <td>0.03</td>\n",
       "      <td>0.51</td>\n",
       "      <td>0.56</td>\n",
       "      <td>0.55</td>\n",
       "      <td>0.61</td>\n",
       "      <td>0.61</td>\n",
       "      <td>1.00</td>\n",
       "      <td>0.80</td>\n",
       "      <td>0.81</td>\n",
       "      <td>0.30</td>\n",
       "      <td>0.78</td>\n",
       "      <td>1995347312.80</td>\n",
       "      <td>1950427306.06</td>\n",
       "      <td>0.47</td>\n",
       "      <td>16448012.91</td>\n",
       "      <td>0.12</td>\n",
       "      <td>0.19</td>\n",
       "      <td>0.19</td>\n",
       "      <td>0.19</td>\n",
       "      <td>0.23</td>\n",
       "      <td>0.32</td>\n",
       "      <td>1328640.60</td>\n",
       "      <td>0.11</td>\n",
       "      <td>0.18</td>\n",
       "      <td>0.02</td>\n",
       "      <td>0.85</td>\n",
       "      <td>0.69</td>\n",
       "      <td>0.69</td>\n",
       "      <td>0.22</td>\n",
       "      <td>5508096595.25</td>\n",
       "      <td>1566212.06</td>\n",
       "      <td>0.26</td>\n",
       "      <td>0.38</td>\n",
       "      <td>403284.95</td>\n",
       "      <td>8376594.82</td>\n",
       "      <td>0.63</td>\n",
       "      <td>4416336.71</td>\n",
       "      <td>0.11</td>\n",
       "      <td>0.89</td>\n",
       "      <td>0.01</td>\n",
       "      <td>0.37</td>\n",
       "      <td>0.01</td>\n",
       "      <td>0.11</td>\n",
       "      <td>0.18</td>\n",
       "      <td>0.40</td>\n",
       "      <td>0.14</td>\n",
       "      <td>12789705.24</td>\n",
       "      <td>9826220.86</td>\n",
       "      <td>2149106056.61</td>\n",
       "      <td>1008595981.82</td>\n",
       "      <td>0.04</td>\n",
       "      <td>2325854.27</td>\n",
       "      <td>0.40</td>\n",
       "      <td>11255785.32</td>\n",
       "      <td>0.81</td>\n",
       "      <td>0.40</td>\n",
       "      <td>0.52</td>\n",
       "      <td>0.12</td>\n",
       "      <td>3592902.20</td>\n",
       "      <td>37159994.15</td>\n",
       "      <td>0.09</td>\n",
       "      <td>0.35</td>\n",
       "      <td>0.28</td>\n",
       "      <td>55806804.53</td>\n",
       "      <td>0.76</td>\n",
       "      <td>0.74</td>\n",
       "      <td>0.33</td>\n",
       "      <td>54160038.14</td>\n",
       "      <td>0.93</td>\n",
       "      <td>0.00</td>\n",
       "      <td>0.03</td>\n",
       "      <td>1195855763.31</td>\n",
       "      <td>2163735272.03</td>\n",
       "      <td>0.59</td>\n",
       "      <td>2471976967.44</td>\n",
       "      <td>0.67</td>\n",
       "      <td>1220120.50</td>\n",
       "      <td>0.76</td>\n",
       "      <td>0.33</td>\n",
       "      <td>0.12</td>\n",
       "      <td>0.65</td>\n",
       "      <td>0.46</td>\n",
       "      <td>0.59</td>\n",
       "      <td>0.32</td>\n",
       "      <td>0.03</td>\n",
       "      <td>0.00</td>\n",
       "      <td>0.81</td>\n",
       "      <td>18629417.81</td>\n",
       "      <td>0.62</td>\n",
       "      <td>0.61</td>\n",
       "      <td>0.84</td>\n",
       "      <td>0.28</td>\n",
       "      <td>0.03</td>\n",
       "      <td>0.57</td>\n",
       "      <td>1.00</td>\n",
       "      <td>0.05</td>\n",
       "    </tr>\n",
       "    <tr>\n",
       "      <th>std</th>\n",
       "      <td>0.18</td>\n",
       "      <td>0.06</td>\n",
       "      <td>0.07</td>\n",
       "      <td>0.06</td>\n",
       "      <td>0.02</td>\n",
       "      <td>0.02</td>\n",
       "      <td>0.01</td>\n",
       "      <td>0.01</td>\n",
       "      <td>0.01</td>\n",
       "      <td>0.01</td>\n",
       "      <td>0.01</td>\n",
       "      <td>3237683890.52</td>\n",
       "      <td>2598291554.00</td>\n",
       "      <td>0.02</td>\n",
       "      <td>108275033.53</td>\n",
       "      <td>0.14</td>\n",
       "      <td>0.03</td>\n",
       "      <td>0.03</td>\n",
       "      <td>0.03</td>\n",
       "      <td>0.03</td>\n",
       "      <td>0.02</td>\n",
       "      <td>51707089.77</td>\n",
       "      <td>0.03</td>\n",
       "      <td>0.03</td>\n",
       "      <td>0.01</td>\n",
       "      <td>0.01</td>\n",
       "      <td>0.01</td>\n",
       "      <td>0.01</td>\n",
       "      <td>0.01</td>\n",
       "      <td>2897717771.17</td>\n",
       "      <td>114159389.52</td>\n",
       "      <td>0.01</td>\n",
       "      <td>0.02</td>\n",
       "      <td>33302155.83</td>\n",
       "      <td>244684748.45</td>\n",
       "      <td>0.01</td>\n",
       "      <td>168406905.28</td>\n",
       "      <td>0.05</td>\n",
       "      <td>0.05</td>\n",
       "      <td>0.03</td>\n",
       "      <td>0.02</td>\n",
       "      <td>0.01</td>\n",
       "      <td>0.03</td>\n",
       "      <td>0.03</td>\n",
       "      <td>0.01</td>\n",
       "      <td>0.10</td>\n",
       "      <td>278259836.98</td>\n",
       "      <td>256358895.71</td>\n",
       "      <td>3247967014.05</td>\n",
       "      <td>2477557316.92</td>\n",
       "      <td>0.04</td>\n",
       "      <td>136632654.39</td>\n",
       "      <td>0.03</td>\n",
       "      <td>294506294.12</td>\n",
       "      <td>0.06</td>\n",
       "      <td>0.20</td>\n",
       "      <td>0.22</td>\n",
       "      <td>0.14</td>\n",
       "      <td>171620908.61</td>\n",
       "      <td>510350903.16</td>\n",
       "      <td>0.05</td>\n",
       "      <td>0.04</td>\n",
       "      <td>0.01</td>\n",
       "      <td>582051554.62</td>\n",
       "      <td>0.21</td>\n",
       "      <td>0.01</td>\n",
       "      <td>0.01</td>\n",
       "      <td>570270621.96</td>\n",
       "      <td>0.03</td>\n",
       "      <td>0.01</td>\n",
       "      <td>0.03</td>\n",
       "      <td>2821161238.26</td>\n",
       "      <td>3374944402.17</td>\n",
       "      <td>0.01</td>\n",
       "      <td>2938623226.68</td>\n",
       "      <td>0.01</td>\n",
       "      <td>100754158.71</td>\n",
       "      <td>0.21</td>\n",
       "      <td>0.01</td>\n",
       "      <td>0.02</td>\n",
       "      <td>0.05</td>\n",
       "      <td>0.03</td>\n",
       "      <td>0.06</td>\n",
       "      <td>0.01</td>\n",
       "      <td>0.03</td>\n",
       "      <td>0.03</td>\n",
       "      <td>0.04</td>\n",
       "      <td>376450059.75</td>\n",
       "      <td>0.01</td>\n",
       "      <td>0.02</td>\n",
       "      <td>0.01</td>\n",
       "      <td>0.01</td>\n",
       "      <td>0.02</td>\n",
       "      <td>0.01</td>\n",
       "      <td>0.00</td>\n",
       "      <td>0.05</td>\n",
       "    </tr>\n",
       "    <tr>\n",
       "      <th>min</th>\n",
       "      <td>0.00</td>\n",
       "      <td>0.00</td>\n",
       "      <td>0.00</td>\n",
       "      <td>0.00</td>\n",
       "      <td>0.00</td>\n",
       "      <td>0.00</td>\n",
       "      <td>0.00</td>\n",
       "      <td>0.00</td>\n",
       "      <td>0.00</td>\n",
       "      <td>0.00</td>\n",
       "      <td>0.00</td>\n",
       "      <td>0.00</td>\n",
       "      <td>0.00</td>\n",
       "      <td>0.00</td>\n",
       "      <td>0.00</td>\n",
       "      <td>0.00</td>\n",
       "      <td>0.00</td>\n",
       "      <td>0.00</td>\n",
       "      <td>0.00</td>\n",
       "      <td>0.00</td>\n",
       "      <td>0.00</td>\n",
       "      <td>0.00</td>\n",
       "      <td>0.00</td>\n",
       "      <td>0.00</td>\n",
       "      <td>0.00</td>\n",
       "      <td>0.00</td>\n",
       "      <td>0.00</td>\n",
       "      <td>0.00</td>\n",
       "      <td>0.00</td>\n",
       "      <td>0.00</td>\n",
       "      <td>0.00</td>\n",
       "      <td>0.00</td>\n",
       "      <td>0.00</td>\n",
       "      <td>0.00</td>\n",
       "      <td>0.00</td>\n",
       "      <td>0.00</td>\n",
       "      <td>0.00</td>\n",
       "      <td>0.00</td>\n",
       "      <td>0.00</td>\n",
       "      <td>0.00</td>\n",
       "      <td>0.00</td>\n",
       "      <td>0.00</td>\n",
       "      <td>0.00</td>\n",
       "      <td>0.00</td>\n",
       "      <td>0.00</td>\n",
       "      <td>0.00</td>\n",
       "      <td>0.00</td>\n",
       "      <td>0.00</td>\n",
       "      <td>0.00</td>\n",
       "      <td>0.00</td>\n",
       "      <td>0.00</td>\n",
       "      <td>0.00</td>\n",
       "      <td>0.00</td>\n",
       "      <td>0.00</td>\n",
       "      <td>0.00</td>\n",
       "      <td>0.00</td>\n",
       "      <td>0.00</td>\n",
       "      <td>0.00</td>\n",
       "      <td>0.00</td>\n",
       "      <td>0.00</td>\n",
       "      <td>0.00</td>\n",
       "      <td>0.00</td>\n",
       "      <td>0.00</td>\n",
       "      <td>0.00</td>\n",
       "      <td>0.00</td>\n",
       "      <td>0.00</td>\n",
       "      <td>0.00</td>\n",
       "      <td>0.00</td>\n",
       "      <td>0.00</td>\n",
       "      <td>0.00</td>\n",
       "      <td>0.00</td>\n",
       "      <td>0.00</td>\n",
       "      <td>0.00</td>\n",
       "      <td>0.00</td>\n",
       "      <td>0.00</td>\n",
       "      <td>0.00</td>\n",
       "      <td>0.00</td>\n",
       "      <td>0.00</td>\n",
       "      <td>0.00</td>\n",
       "      <td>0.00</td>\n",
       "      <td>0.00</td>\n",
       "      <td>0.00</td>\n",
       "      <td>0.00</td>\n",
       "      <td>0.00</td>\n",
       "      <td>0.00</td>\n",
       "      <td>0.00</td>\n",
       "      <td>0.00</td>\n",
       "      <td>0.00</td>\n",
       "      <td>0.00</td>\n",
       "      <td>0.00</td>\n",
       "      <td>0.00</td>\n",
       "      <td>0.00</td>\n",
       "      <td>0.00</td>\n",
       "      <td>0.00</td>\n",
       "      <td>1.00</td>\n",
       "      <td>0.00</td>\n",
       "    </tr>\n",
       "    <tr>\n",
       "      <th>25%</th>\n",
       "      <td>0.00</td>\n",
       "      <td>0.48</td>\n",
       "      <td>0.54</td>\n",
       "      <td>0.53</td>\n",
       "      <td>0.60</td>\n",
       "      <td>0.60</td>\n",
       "      <td>1.00</td>\n",
       "      <td>0.80</td>\n",
       "      <td>0.81</td>\n",
       "      <td>0.30</td>\n",
       "      <td>0.78</td>\n",
       "      <td>0.00</td>\n",
       "      <td>0.00</td>\n",
       "      <td>0.46</td>\n",
       "      <td>0.00</td>\n",
       "      <td>0.00</td>\n",
       "      <td>0.17</td>\n",
       "      <td>0.17</td>\n",
       "      <td>0.17</td>\n",
       "      <td>0.21</td>\n",
       "      <td>0.32</td>\n",
       "      <td>0.02</td>\n",
       "      <td>0.10</td>\n",
       "      <td>0.17</td>\n",
       "      <td>0.02</td>\n",
       "      <td>0.85</td>\n",
       "      <td>0.69</td>\n",
       "      <td>0.69</td>\n",
       "      <td>0.22</td>\n",
       "      <td>4860000000.00</td>\n",
       "      <td>0.00</td>\n",
       "      <td>0.26</td>\n",
       "      <td>0.37</td>\n",
       "      <td>0.01</td>\n",
       "      <td>0.00</td>\n",
       "      <td>0.63</td>\n",
       "      <td>0.00</td>\n",
       "      <td>0.07</td>\n",
       "      <td>0.85</td>\n",
       "      <td>0.01</td>\n",
       "      <td>0.37</td>\n",
       "      <td>0.01</td>\n",
       "      <td>0.10</td>\n",
       "      <td>0.17</td>\n",
       "      <td>0.40</td>\n",
       "      <td>0.08</td>\n",
       "      <td>0.00</td>\n",
       "      <td>0.00</td>\n",
       "      <td>0.00</td>\n",
       "      <td>0.00</td>\n",
       "      <td>0.02</td>\n",
       "      <td>0.01</td>\n",
       "      <td>0.39</td>\n",
       "      <td>0.00</td>\n",
       "      <td>0.77</td>\n",
       "      <td>0.24</td>\n",
       "      <td>0.35</td>\n",
       "      <td>0.03</td>\n",
       "      <td>0.01</td>\n",
       "      <td>0.00</td>\n",
       "      <td>0.05</td>\n",
       "      <td>0.34</td>\n",
       "      <td>0.28</td>\n",
       "      <td>0.00</td>\n",
       "      <td>0.63</td>\n",
       "      <td>0.73</td>\n",
       "      <td>0.33</td>\n",
       "      <td>0.00</td>\n",
       "      <td>0.93</td>\n",
       "      <td>0.00</td>\n",
       "      <td>0.01</td>\n",
       "      <td>0.00</td>\n",
       "      <td>0.00</td>\n",
       "      <td>0.59</td>\n",
       "      <td>0.00</td>\n",
       "      <td>0.67</td>\n",
       "      <td>0.09</td>\n",
       "      <td>0.63</td>\n",
       "      <td>0.33</td>\n",
       "      <td>0.11</td>\n",
       "      <td>0.63</td>\n",
       "      <td>0.46</td>\n",
       "      <td>0.57</td>\n",
       "      <td>0.31</td>\n",
       "      <td>0.02</td>\n",
       "      <td>0.00</td>\n",
       "      <td>0.80</td>\n",
       "      <td>0.00</td>\n",
       "      <td>0.62</td>\n",
       "      <td>0.60</td>\n",
       "      <td>0.84</td>\n",
       "      <td>0.28</td>\n",
       "      <td>0.03</td>\n",
       "      <td>0.57</td>\n",
       "      <td>1.00</td>\n",
       "      <td>0.02</td>\n",
       "    </tr>\n",
       "    <tr>\n",
       "      <th>50%</th>\n",
       "      <td>0.00</td>\n",
       "      <td>0.50</td>\n",
       "      <td>0.56</td>\n",
       "      <td>0.55</td>\n",
       "      <td>0.61</td>\n",
       "      <td>0.61</td>\n",
       "      <td>1.00</td>\n",
       "      <td>0.80</td>\n",
       "      <td>0.81</td>\n",
       "      <td>0.30</td>\n",
       "      <td>0.78</td>\n",
       "      <td>0.00</td>\n",
       "      <td>509000000.00</td>\n",
       "      <td>0.47</td>\n",
       "      <td>0.00</td>\n",
       "      <td>0.07</td>\n",
       "      <td>0.18</td>\n",
       "      <td>0.18</td>\n",
       "      <td>0.18</td>\n",
       "      <td>0.22</td>\n",
       "      <td>0.32</td>\n",
       "      <td>0.03</td>\n",
       "      <td>0.10</td>\n",
       "      <td>0.18</td>\n",
       "      <td>0.02</td>\n",
       "      <td>0.85</td>\n",
       "      <td>0.69</td>\n",
       "      <td>0.69</td>\n",
       "      <td>0.22</td>\n",
       "      <td>6400000000.00</td>\n",
       "      <td>0.00</td>\n",
       "      <td>0.26</td>\n",
       "      <td>0.38</td>\n",
       "      <td>0.01</td>\n",
       "      <td>0.01</td>\n",
       "      <td>0.63</td>\n",
       "      <td>0.01</td>\n",
       "      <td>0.11</td>\n",
       "      <td>0.89</td>\n",
       "      <td>0.01</td>\n",
       "      <td>0.37</td>\n",
       "      <td>0.01</td>\n",
       "      <td>0.10</td>\n",
       "      <td>0.18</td>\n",
       "      <td>0.40</td>\n",
       "      <td>0.12</td>\n",
       "      <td>0.00</td>\n",
       "      <td>0.01</td>\n",
       "      <td>0.00</td>\n",
       "      <td>0.00</td>\n",
       "      <td>0.03</td>\n",
       "      <td>0.02</td>\n",
       "      <td>0.40</td>\n",
       "      <td>0.01</td>\n",
       "      <td>0.81</td>\n",
       "      <td>0.39</td>\n",
       "      <td>0.51</td>\n",
       "      <td>0.07</td>\n",
       "      <td>0.01</td>\n",
       "      <td>0.00</td>\n",
       "      <td>0.08</td>\n",
       "      <td>0.35</td>\n",
       "      <td>0.28</td>\n",
       "      <td>0.01</td>\n",
       "      <td>0.81</td>\n",
       "      <td>0.74</td>\n",
       "      <td>0.33</td>\n",
       "      <td>0.00</td>\n",
       "      <td>0.94</td>\n",
       "      <td>0.00</td>\n",
       "      <td>0.02</td>\n",
       "      <td>0.00</td>\n",
       "      <td>0.00</td>\n",
       "      <td>0.59</td>\n",
       "      <td>1080000000.00</td>\n",
       "      <td>0.67</td>\n",
       "      <td>0.20</td>\n",
       "      <td>0.81</td>\n",
       "      <td>0.33</td>\n",
       "      <td>0.11</td>\n",
       "      <td>0.65</td>\n",
       "      <td>0.46</td>\n",
       "      <td>0.59</td>\n",
       "      <td>0.31</td>\n",
       "      <td>0.03</td>\n",
       "      <td>0.00</td>\n",
       "      <td>0.81</td>\n",
       "      <td>0.00</td>\n",
       "      <td>0.62</td>\n",
       "      <td>0.61</td>\n",
       "      <td>0.84</td>\n",
       "      <td>0.28</td>\n",
       "      <td>0.03</td>\n",
       "      <td>0.57</td>\n",
       "      <td>1.00</td>\n",
       "      <td>0.03</td>\n",
       "    </tr>\n",
       "    <tr>\n",
       "      <th>75%</th>\n",
       "      <td>0.00</td>\n",
       "      <td>0.54</td>\n",
       "      <td>0.59</td>\n",
       "      <td>0.58</td>\n",
       "      <td>0.61</td>\n",
       "      <td>0.61</td>\n",
       "      <td>1.00</td>\n",
       "      <td>0.80</td>\n",
       "      <td>0.81</td>\n",
       "      <td>0.30</td>\n",
       "      <td>0.78</td>\n",
       "      <td>4145000000.00</td>\n",
       "      <td>3450000000.00</td>\n",
       "      <td>0.47</td>\n",
       "      <td>0.00</td>\n",
       "      <td>0.21</td>\n",
       "      <td>0.20</td>\n",
       "      <td>0.20</td>\n",
       "      <td>0.20</td>\n",
       "      <td>0.24</td>\n",
       "      <td>0.33</td>\n",
       "      <td>0.05</td>\n",
       "      <td>0.12</td>\n",
       "      <td>0.19</td>\n",
       "      <td>0.02</td>\n",
       "      <td>0.85</td>\n",
       "      <td>0.69</td>\n",
       "      <td>0.69</td>\n",
       "      <td>0.22</td>\n",
       "      <td>7390000000.00</td>\n",
       "      <td>0.00</td>\n",
       "      <td>0.26</td>\n",
       "      <td>0.39</td>\n",
       "      <td>0.02</td>\n",
       "      <td>0.01</td>\n",
       "      <td>0.63</td>\n",
       "      <td>0.01</td>\n",
       "      <td>0.15</td>\n",
       "      <td>0.93</td>\n",
       "      <td>0.01</td>\n",
       "      <td>0.38</td>\n",
       "      <td>0.01</td>\n",
       "      <td>0.12</td>\n",
       "      <td>0.19</td>\n",
       "      <td>0.40</td>\n",
       "      <td>0.18</td>\n",
       "      <td>0.00</td>\n",
       "      <td>0.01</td>\n",
       "      <td>4620000000.00</td>\n",
       "      <td>0.00</td>\n",
       "      <td>0.04</td>\n",
       "      <td>0.04</td>\n",
       "      <td>0.40</td>\n",
       "      <td>0.02</td>\n",
       "      <td>0.85</td>\n",
       "      <td>0.54</td>\n",
       "      <td>0.69</td>\n",
       "      <td>0.16</td>\n",
       "      <td>0.01</td>\n",
       "      <td>0.01</td>\n",
       "      <td>0.12</td>\n",
       "      <td>0.36</td>\n",
       "      <td>0.28</td>\n",
       "      <td>0.01</td>\n",
       "      <td>0.94</td>\n",
       "      <td>0.74</td>\n",
       "      <td>0.33</td>\n",
       "      <td>0.01</td>\n",
       "      <td>0.94</td>\n",
       "      <td>0.00</td>\n",
       "      <td>0.04</td>\n",
       "      <td>0.00</td>\n",
       "      <td>4900000000.00</td>\n",
       "      <td>0.59</td>\n",
       "      <td>4510000000.00</td>\n",
       "      <td>0.67</td>\n",
       "      <td>0.37</td>\n",
       "      <td>0.94</td>\n",
       "      <td>0.33</td>\n",
       "      <td>0.12</td>\n",
       "      <td>0.66</td>\n",
       "      <td>0.46</td>\n",
       "      <td>0.62</td>\n",
       "      <td>0.32</td>\n",
       "      <td>0.04</td>\n",
       "      <td>0.00</td>\n",
       "      <td>0.83</td>\n",
       "      <td>0.01</td>\n",
       "      <td>0.62</td>\n",
       "      <td>0.61</td>\n",
       "      <td>0.84</td>\n",
       "      <td>0.28</td>\n",
       "      <td>0.03</td>\n",
       "      <td>0.57</td>\n",
       "      <td>1.00</td>\n",
       "      <td>0.05</td>\n",
       "    </tr>\n",
       "    <tr>\n",
       "      <th>max</th>\n",
       "      <td>1.00</td>\n",
       "      <td>1.00</td>\n",
       "      <td>1.00</td>\n",
       "      <td>1.00</td>\n",
       "      <td>1.00</td>\n",
       "      <td>1.00</td>\n",
       "      <td>1.00</td>\n",
       "      <td>1.00</td>\n",
       "      <td>1.00</td>\n",
       "      <td>1.00</td>\n",
       "      <td>1.00</td>\n",
       "      <td>9990000000.00</td>\n",
       "      <td>9980000000.00</td>\n",
       "      <td>1.00</td>\n",
       "      <td>990000000.00</td>\n",
       "      <td>1.00</td>\n",
       "      <td>1.00</td>\n",
       "      <td>1.00</td>\n",
       "      <td>1.00</td>\n",
       "      <td>1.00</td>\n",
       "      <td>1.00</td>\n",
       "      <td>3020000000.00</td>\n",
       "      <td>1.00</td>\n",
       "      <td>1.00</td>\n",
       "      <td>1.00</td>\n",
       "      <td>1.00</td>\n",
       "      <td>1.00</td>\n",
       "      <td>1.00</td>\n",
       "      <td>1.00</td>\n",
       "      <td>9990000000.00</td>\n",
       "      <td>9330000000.00</td>\n",
       "      <td>1.00</td>\n",
       "      <td>1.00</td>\n",
       "      <td>2750000000.00</td>\n",
       "      <td>9230000000.00</td>\n",
       "      <td>1.00</td>\n",
       "      <td>9940000000.00</td>\n",
       "      <td>1.00</td>\n",
       "      <td>1.00</td>\n",
       "      <td>1.00</td>\n",
       "      <td>1.00</td>\n",
       "      <td>1.00</td>\n",
       "      <td>1.00</td>\n",
       "      <td>1.00</td>\n",
       "      <td>1.00</td>\n",
       "      <td>1.00</td>\n",
       "      <td>9740000000.00</td>\n",
       "      <td>9730000000.00</td>\n",
       "      <td>9990000000.00</td>\n",
       "      <td>9990000000.00</td>\n",
       "      <td>1.00</td>\n",
       "      <td>8810000000.00</td>\n",
       "      <td>1.00</td>\n",
       "      <td>9570000000.00</td>\n",
       "      <td>1.00</td>\n",
       "      <td>1.00</td>\n",
       "      <td>1.00</td>\n",
       "      <td>1.00</td>\n",
       "      <td>8820000000.00</td>\n",
       "      <td>9650000000.00</td>\n",
       "      <td>1.00</td>\n",
       "      <td>1.00</td>\n",
       "      <td>1.00</td>\n",
       "      <td>9910000000.00</td>\n",
       "      <td>1.00</td>\n",
       "      <td>1.00</td>\n",
       "      <td>1.00</td>\n",
       "      <td>9540000000.00</td>\n",
       "      <td>1.00</td>\n",
       "      <td>1.00</td>\n",
       "      <td>1.00</td>\n",
       "      <td>10000000000.00</td>\n",
       "      <td>10000000000.00</td>\n",
       "      <td>1.00</td>\n",
       "      <td>10000000000.00</td>\n",
       "      <td>1.00</td>\n",
       "      <td>8320000000.00</td>\n",
       "      <td>1.00</td>\n",
       "      <td>1.00</td>\n",
       "      <td>1.00</td>\n",
       "      <td>1.00</td>\n",
       "      <td>1.00</td>\n",
       "      <td>1.00</td>\n",
       "      <td>1.00</td>\n",
       "      <td>1.00</td>\n",
       "      <td>1.00</td>\n",
       "      <td>1.00</td>\n",
       "      <td>9820000000.00</td>\n",
       "      <td>1.00</td>\n",
       "      <td>1.00</td>\n",
       "      <td>1.00</td>\n",
       "      <td>1.00</td>\n",
       "      <td>1.00</td>\n",
       "      <td>1.00</td>\n",
       "      <td>1.00</td>\n",
       "      <td>1.00</td>\n",
       "    </tr>\n",
       "  </tbody>\n",
       "</table>\n",
       "</div>"
      ],
      "text/plain": [
       "       Bankrupt?   ROA(C) before interest and depreciation before interest  \\\n",
       "count    6819.00                                            6819.00          \n",
       "mean        0.03                                               0.51          \n",
       "std         0.18                                               0.06          \n",
       "min         0.00                                               0.00          \n",
       "25%         0.00                                               0.48          \n",
       "50%         0.00                                               0.50          \n",
       "75%         0.00                                               0.54          \n",
       "max         1.00                                               1.00          \n",
       "\n",
       "        ROA(A) before interest and % after tax  \\\n",
       "count                                  6819.00   \n",
       "mean                                      0.56   \n",
       "std                                       0.07   \n",
       "min                                       0.00   \n",
       "25%                                       0.54   \n",
       "50%                                       0.56   \n",
       "75%                                       0.59   \n",
       "max                                       1.00   \n",
       "\n",
       "        ROA(B) before interest and depreciation after tax  \\\n",
       "count                                            6819.00    \n",
       "mean                                                0.55    \n",
       "std                                                 0.06    \n",
       "min                                                 0.00    \n",
       "25%                                                 0.53    \n",
       "50%                                                 0.55    \n",
       "75%                                                 0.58    \n",
       "max                                                 1.00    \n",
       "\n",
       "        Operating Gross Margin   Realized Sales Gross Margin  \\\n",
       "count                  6819.00                       6819.00   \n",
       "mean                      0.61                          0.61   \n",
       "std                       0.02                          0.02   \n",
       "min                       0.00                          0.00   \n",
       "25%                       0.60                          0.60   \n",
       "50%                       0.61                          0.61   \n",
       "75%                       0.61                          0.61   \n",
       "max                       1.00                          1.00   \n",
       "\n",
       "        Operating Profit Rate   Pre-tax net Interest Rate  \\\n",
       "count                 6819.00                     6819.00   \n",
       "mean                     1.00                        0.80   \n",
       "std                      0.01                        0.01   \n",
       "min                      0.00                        0.00   \n",
       "25%                      1.00                        0.80   \n",
       "50%                      1.00                        0.80   \n",
       "75%                      1.00                        0.80   \n",
       "max                      1.00                        1.00   \n",
       "\n",
       "        After-tax net Interest Rate  \\\n",
       "count                       6819.00   \n",
       "mean                           0.81   \n",
       "std                            0.01   \n",
       "min                            0.00   \n",
       "25%                            0.81   \n",
       "50%                            0.81   \n",
       "75%                            0.81   \n",
       "max                            1.00   \n",
       "\n",
       "        Non-industry income and expenditure/revenue  \\\n",
       "count                                       6819.00   \n",
       "mean                                           0.30   \n",
       "std                                            0.01   \n",
       "min                                            0.00   \n",
       "25%                                            0.30   \n",
       "50%                                            0.30   \n",
       "75%                                            0.30   \n",
       "max                                            1.00   \n",
       "\n",
       "        Continuous interest rate (after tax)   Operating Expense Rate  \\\n",
       "count                                6819.00                  6819.00   \n",
       "mean                                    0.78            1995347312.80   \n",
       "std                                     0.01            3237683890.52   \n",
       "min                                     0.00                     0.00   \n",
       "25%                                     0.78                     0.00   \n",
       "50%                                     0.78                     0.00   \n",
       "75%                                     0.78            4145000000.00   \n",
       "max                                     1.00            9990000000.00   \n",
       "\n",
       "        Research and development expense rate   Cash flow rate  \\\n",
       "count                                 6819.00          6819.00   \n",
       "mean                            1950427306.06             0.47   \n",
       "std                             2598291554.00             0.02   \n",
       "min                                      0.00             0.00   \n",
       "25%                                      0.00             0.46   \n",
       "50%                              509000000.00             0.47   \n",
       "75%                             3450000000.00             0.47   \n",
       "max                             9980000000.00             1.00   \n",
       "\n",
       "        Interest-bearing debt interest rate   Tax rate (A)  \\\n",
       "count                               6819.00        6819.00   \n",
       "mean                            16448012.91           0.12   \n",
       "std                            108275033.53           0.14   \n",
       "min                                    0.00           0.00   \n",
       "25%                                    0.00           0.00   \n",
       "50%                                    0.00           0.07   \n",
       "75%                                    0.00           0.21   \n",
       "max                            990000000.00           1.00   \n",
       "\n",
       "        Net Value Per Share (B)   Net Value Per Share (A)  \\\n",
       "count                   6819.00                   6819.00   \n",
       "mean                       0.19                      0.19   \n",
       "std                        0.03                      0.03   \n",
       "min                        0.00                      0.00   \n",
       "25%                        0.17                      0.17   \n",
       "50%                        0.18                      0.18   \n",
       "75%                        0.20                      0.20   \n",
       "max                        1.00                      1.00   \n",
       "\n",
       "        Net Value Per Share (C)   Persistent EPS in the Last Four Seasons  \\\n",
       "count                   6819.00                                   6819.00   \n",
       "mean                       0.19                                      0.23   \n",
       "std                        0.03                                      0.03   \n",
       "min                        0.00                                      0.00   \n",
       "25%                        0.17                                      0.21   \n",
       "50%                        0.18                                      0.22   \n",
       "75%                        0.20                                      0.24   \n",
       "max                        1.00                                      1.00   \n",
       "\n",
       "        Cash Flow Per Share   Revenue Per Share (Yuan ¥)  \\\n",
       "count               6819.00                      6819.00   \n",
       "mean                   0.32                   1328640.60   \n",
       "std                    0.02                  51707089.77   \n",
       "min                    0.00                         0.00   \n",
       "25%                    0.32                         0.02   \n",
       "50%                    0.32                         0.03   \n",
       "75%                    0.33                         0.05   \n",
       "max                    1.00                3020000000.00   \n",
       "\n",
       "        Operating Profit Per Share (Yuan ¥)  \\\n",
       "count                               6819.00   \n",
       "mean                                   0.11   \n",
       "std                                    0.03   \n",
       "min                                    0.00   \n",
       "25%                                    0.10   \n",
       "50%                                    0.10   \n",
       "75%                                    0.12   \n",
       "max                                    1.00   \n",
       "\n",
       "        Per Share Net profit before tax (Yuan ¥)  \\\n",
       "count                                    6819.00   \n",
       "mean                                        0.18   \n",
       "std                                         0.03   \n",
       "min                                         0.00   \n",
       "25%                                         0.17   \n",
       "50%                                         0.18   \n",
       "75%                                         0.19   \n",
       "max                                         1.00   \n",
       "\n",
       "        Realized Sales Gross Profit Growth Rate  \\\n",
       "count                                   6819.00   \n",
       "mean                                       0.02   \n",
       "std                                        0.01   \n",
       "min                                        0.00   \n",
       "25%                                        0.02   \n",
       "50%                                        0.02   \n",
       "75%                                        0.02   \n",
       "max                                        1.00   \n",
       "\n",
       "        Operating Profit Growth Rate   After-tax Net Profit Growth Rate  \\\n",
       "count                        6819.00                            6819.00   \n",
       "mean                            0.85                               0.69   \n",
       "std                             0.01                               0.01   \n",
       "min                             0.00                               0.00   \n",
       "25%                             0.85                               0.69   \n",
       "50%                             0.85                               0.69   \n",
       "75%                             0.85                               0.69   \n",
       "max                             1.00                               1.00   \n",
       "\n",
       "        Regular Net Profit Growth Rate   Continuous Net Profit Growth Rate  \\\n",
       "count                          6819.00                             6819.00   \n",
       "mean                              0.69                                0.22   \n",
       "std                               0.01                                0.01   \n",
       "min                               0.00                                0.00   \n",
       "25%                               0.69                                0.22   \n",
       "50%                               0.69                                0.22   \n",
       "75%                               0.69                                0.22   \n",
       "max                               1.00                                1.00   \n",
       "\n",
       "        Total Asset Growth Rate   Net Value Growth Rate  \\\n",
       "count                   6819.00                 6819.00   \n",
       "mean              5508096595.25              1566212.06   \n",
       "std               2897717771.17            114159389.52   \n",
       "min                        0.00                    0.00   \n",
       "25%               4860000000.00                    0.00   \n",
       "50%               6400000000.00                    0.00   \n",
       "75%               7390000000.00                    0.00   \n",
       "max               9990000000.00           9330000000.00   \n",
       "\n",
       "        Total Asset Return Growth Rate Ratio   Cash Reinvestment %  \\\n",
       "count                                6819.00               6819.00   \n",
       "mean                                    0.26                  0.38   \n",
       "std                                     0.01                  0.02   \n",
       "min                                     0.00                  0.00   \n",
       "25%                                     0.26                  0.37   \n",
       "50%                                     0.26                  0.38   \n",
       "75%                                     0.26                  0.39   \n",
       "max                                     1.00                  1.00   \n",
       "\n",
       "        Current Ratio   Quick Ratio   Interest Expense Ratio  \\\n",
       "count         6819.00       6819.00                  6819.00   \n",
       "mean        403284.95    8376594.82                     0.63   \n",
       "std       33302155.83  244684748.45                     0.01   \n",
       "min              0.00          0.00                     0.00   \n",
       "25%              0.01          0.00                     0.63   \n",
       "50%              0.01          0.01                     0.63   \n",
       "75%              0.02          0.01                     0.63   \n",
       "max     2750000000.00 9230000000.00                     1.00   \n",
       "\n",
       "        Total debt/Total net worth   Debt ratio %   Net worth/Assets  \\\n",
       "count                      6819.00        6819.00            6819.00   \n",
       "mean                    4416336.71           0.11               0.89   \n",
       "std                   168406905.28           0.05               0.05   \n",
       "min                           0.00           0.00               0.00   \n",
       "25%                           0.00           0.07               0.85   \n",
       "50%                           0.01           0.11               0.89   \n",
       "75%                           0.01           0.15               0.93   \n",
       "max                  9940000000.00           1.00               1.00   \n",
       "\n",
       "        Long-term fund suitability ratio (A)   Borrowing dependency  \\\n",
       "count                                6819.00                6819.00   \n",
       "mean                                    0.01                   0.37   \n",
       "std                                     0.03                   0.02   \n",
       "min                                     0.00                   0.00   \n",
       "25%                                     0.01                   0.37   \n",
       "50%                                     0.01                   0.37   \n",
       "75%                                     0.01                   0.38   \n",
       "max                                     1.00                   1.00   \n",
       "\n",
       "        Contingent liabilities/Net worth   Operating profit/Paid-in capital  \\\n",
       "count                            6819.00                            6819.00   \n",
       "mean                                0.01                               0.11   \n",
       "std                                 0.01                               0.03   \n",
       "min                                 0.00                               0.00   \n",
       "25%                                 0.01                               0.10   \n",
       "50%                                 0.01                               0.10   \n",
       "75%                                 0.01                               0.12   \n",
       "max                                 1.00                               1.00   \n",
       "\n",
       "        Net profit before tax/Paid-in capital  \\\n",
       "count                                 6819.00   \n",
       "mean                                     0.18   \n",
       "std                                      0.03   \n",
       "min                                      0.00   \n",
       "25%                                      0.17   \n",
       "50%                                      0.18   \n",
       "75%                                      0.19   \n",
       "max                                      1.00   \n",
       "\n",
       "        Inventory and accounts receivable/Net value   Total Asset Turnover  \\\n",
       "count                                       6819.00                6819.00   \n",
       "mean                                           0.40                   0.14   \n",
       "std                                            0.01                   0.10   \n",
       "min                                            0.00                   0.00   \n",
       "25%                                            0.40                   0.08   \n",
       "50%                                            0.40                   0.12   \n",
       "75%                                            0.40                   0.18   \n",
       "max                                            1.00                   1.00   \n",
       "\n",
       "        Accounts Receivable Turnover   Average Collection Days  \\\n",
       "count                        6819.00                   6819.00   \n",
       "mean                     12789705.24                9826220.86   \n",
       "std                     278259836.98              256358895.71   \n",
       "min                             0.00                      0.00   \n",
       "25%                             0.00                      0.00   \n",
       "50%                             0.00                      0.01   \n",
       "75%                             0.00                      0.01   \n",
       "max                    9740000000.00             9730000000.00   \n",
       "\n",
       "        Inventory Turnover Rate (times)   Fixed Assets Turnover Frequency  \\\n",
       "count                           6819.00                           6819.00   \n",
       "mean                      2149106056.61                     1008595981.82   \n",
       "std                       3247967014.05                     2477557316.92   \n",
       "min                                0.00                              0.00   \n",
       "25%                                0.00                              0.00   \n",
       "50%                                0.00                              0.00   \n",
       "75%                       4620000000.00                              0.00   \n",
       "max                       9990000000.00                     9990000000.00   \n",
       "\n",
       "        Net Worth Turnover Rate (times)   Revenue per person  \\\n",
       "count                           6819.00              6819.00   \n",
       "mean                               0.04           2325854.27   \n",
       "std                                0.04         136632654.39   \n",
       "min                                0.00                 0.00   \n",
       "25%                                0.02                 0.01   \n",
       "50%                                0.03                 0.02   \n",
       "75%                                0.04                 0.04   \n",
       "max                                1.00        8810000000.00   \n",
       "\n",
       "        Operating profit per person   Allocation rate per person  \\\n",
       "count                       6819.00                      6819.00   \n",
       "mean                           0.40                  11255785.32   \n",
       "std                            0.03                 294506294.12   \n",
       "min                            0.00                         0.00   \n",
       "25%                            0.39                         0.00   \n",
       "50%                            0.40                         0.01   \n",
       "75%                            0.40                         0.02   \n",
       "max                            1.00                9570000000.00   \n",
       "\n",
       "        Working Capital to Total Assets   Quick Assets/Total Assets  \\\n",
       "count                           6819.00                     6819.00   \n",
       "mean                               0.81                        0.40   \n",
       "std                                0.06                        0.20   \n",
       "min                                0.00                        0.00   \n",
       "25%                                0.77                        0.24   \n",
       "50%                                0.81                        0.39   \n",
       "75%                                0.85                        0.54   \n",
       "max                                1.00                        1.00   \n",
       "\n",
       "        Current Assets/Total Assets   Cash/Total Assets  \\\n",
       "count                       6819.00             6819.00   \n",
       "mean                           0.52                0.12   \n",
       "std                            0.22                0.14   \n",
       "min                            0.00                0.00   \n",
       "25%                            0.35                0.03   \n",
       "50%                            0.51                0.07   \n",
       "75%                            0.69                0.16   \n",
       "max                            1.00                1.00   \n",
       "\n",
       "        Quick Assets/Current Liability   Cash/Current Liability  \\\n",
       "count                          6819.00                  6819.00   \n",
       "mean                        3592902.20              37159994.15   \n",
       "std                       171620908.61             510350903.16   \n",
       "min                               0.00                     0.00   \n",
       "25%                               0.01                     0.00   \n",
       "50%                               0.01                     0.00   \n",
       "75%                               0.01                     0.01   \n",
       "max                      8820000000.00            9650000000.00   \n",
       "\n",
       "        Current Liability to Assets   Operating Funds to Liability  \\\n",
       "count                       6819.00                        6819.00   \n",
       "mean                           0.09                           0.35   \n",
       "std                            0.05                           0.04   \n",
       "min                            0.00                           0.00   \n",
       "25%                            0.05                           0.34   \n",
       "50%                            0.08                           0.35   \n",
       "75%                            0.12                           0.36   \n",
       "max                            1.00                           1.00   \n",
       "\n",
       "        Inventory/Working Capital   Inventory/Current Liability  \\\n",
       "count                     6819.00                       6819.00   \n",
       "mean                         0.28                   55806804.53   \n",
       "std                          0.01                  582051554.62   \n",
       "min                          0.00                          0.00   \n",
       "25%                          0.28                          0.00   \n",
       "50%                          0.28                          0.01   \n",
       "75%                          0.28                          0.01   \n",
       "max                          1.00                 9910000000.00   \n",
       "\n",
       "        Current Liabilities/Liability   Working Capital/Equity  \\\n",
       "count                         6819.00                  6819.00   \n",
       "mean                             0.76                     0.74   \n",
       "std                              0.21                     0.01   \n",
       "min                              0.00                     0.00   \n",
       "25%                              0.63                     0.73   \n",
       "50%                              0.81                     0.74   \n",
       "75%                              0.94                     0.74   \n",
       "max                              1.00                     1.00   \n",
       "\n",
       "        Current Liabilities/Equity   Long-term Liability to Current Assets  \\\n",
       "count                      6819.00                                 6819.00   \n",
       "mean                          0.33                             54160038.14   \n",
       "std                           0.01                            570270621.96   \n",
       "min                           0.00                                    0.00   \n",
       "25%                           0.33                                    0.00   \n",
       "50%                           0.33                                    0.00   \n",
       "75%                           0.33                                    0.01   \n",
       "max                           1.00                           9540000000.00   \n",
       "\n",
       "        Retained Earnings to Total Assets   Total income/Total expense  \\\n",
       "count                             6819.00                      6819.00   \n",
       "mean                                 0.93                         0.00   \n",
       "std                                  0.03                         0.01   \n",
       "min                                  0.00                         0.00   \n",
       "25%                                  0.93                         0.00   \n",
       "50%                                  0.94                         0.00   \n",
       "75%                                  0.94                         0.00   \n",
       "max                                  1.00                         1.00   \n",
       "\n",
       "        Total expense/Assets   Current Asset Turnover Rate  \\\n",
       "count                6819.00                       6819.00   \n",
       "mean                    0.03                 1195855763.31   \n",
       "std                     0.03                 2821161238.26   \n",
       "min                     0.00                          0.00   \n",
       "25%                     0.01                          0.00   \n",
       "50%                     0.02                          0.00   \n",
       "75%                     0.04                          0.00   \n",
       "max                     1.00                10000000000.00   \n",
       "\n",
       "        Quick Asset Turnover Rate   Working capitcal Turnover Rate  \\\n",
       "count                     6819.00                          6819.00   \n",
       "mean                2163735272.03                             0.59   \n",
       "std                 3374944402.17                             0.01   \n",
       "min                          0.00                             0.00   \n",
       "25%                          0.00                             0.59   \n",
       "50%                          0.00                             0.59   \n",
       "75%                 4900000000.00                             0.59   \n",
       "max                10000000000.00                             1.00   \n",
       "\n",
       "        Cash Turnover Rate   Cash Flow to Sales   Fixed Assets to Assets  \\\n",
       "count              6819.00              6819.00                  6819.00   \n",
       "mean         2471976967.44                 0.67               1220120.50   \n",
       "std          2938623226.68                 0.01             100754158.71   \n",
       "min                   0.00                 0.00                     0.00   \n",
       "25%                   0.00                 0.67                     0.09   \n",
       "50%          1080000000.00                 0.67                     0.20   \n",
       "75%          4510000000.00                 0.67                     0.37   \n",
       "max         10000000000.00                 1.00            8320000000.00   \n",
       "\n",
       "        Current Liability to Liability   Current Liability to Equity  \\\n",
       "count                          6819.00                       6819.00   \n",
       "mean                              0.76                          0.33   \n",
       "std                               0.21                          0.01   \n",
       "min                               0.00                          0.00   \n",
       "25%                               0.63                          0.33   \n",
       "50%                               0.81                          0.33   \n",
       "75%                               0.94                          0.33   \n",
       "max                               1.00                          1.00   \n",
       "\n",
       "        Equity to Long-term Liability   Cash Flow to Total Assets  \\\n",
       "count                         6819.00                     6819.00   \n",
       "mean                             0.12                        0.65   \n",
       "std                              0.02                        0.05   \n",
       "min                              0.00                        0.00   \n",
       "25%                              0.11                        0.63   \n",
       "50%                              0.11                        0.65   \n",
       "75%                              0.12                        0.66   \n",
       "max                              1.00                        1.00   \n",
       "\n",
       "        Cash Flow to Liability   CFO to Assets   Cash Flow to Equity  \\\n",
       "count                  6819.00         6819.00               6819.00   \n",
       "mean                      0.46            0.59                  0.32   \n",
       "std                       0.03            0.06                  0.01   \n",
       "min                       0.00            0.00                  0.00   \n",
       "25%                       0.46            0.57                  0.31   \n",
       "50%                       0.46            0.59                  0.31   \n",
       "75%                       0.46            0.62                  0.32   \n",
       "max                       1.00            1.00                  1.00   \n",
       "\n",
       "        Current Liability to Current Assets   Liability-Assets Flag  \\\n",
       "count                               6819.00                 6819.00   \n",
       "mean                                   0.03                    0.00   \n",
       "std                                    0.03                    0.03   \n",
       "min                                    0.00                    0.00   \n",
       "25%                                    0.02                    0.00   \n",
       "50%                                    0.03                    0.00   \n",
       "75%                                    0.04                    0.00   \n",
       "max                                    1.00                    1.00   \n",
       "\n",
       "        Net Income to Total Assets   Total assets to GNP price  \\\n",
       "count                      6819.00                     6819.00   \n",
       "mean                          0.81                 18629417.81   \n",
       "std                           0.04                376450059.75   \n",
       "min                           0.00                        0.00   \n",
       "25%                           0.80                        0.00   \n",
       "50%                           0.81                        0.00   \n",
       "75%                           0.83                        0.01   \n",
       "max                           1.00               9820000000.00   \n",
       "\n",
       "        No-credit Interval   Gross Profit to Sales  \\\n",
       "count              6819.00                 6819.00   \n",
       "mean                  0.62                    0.61   \n",
       "std                   0.01                    0.02   \n",
       "min                   0.00                    0.00   \n",
       "25%                   0.62                    0.60   \n",
       "50%                   0.62                    0.61   \n",
       "75%                   0.62                    0.61   \n",
       "max                   1.00                    1.00   \n",
       "\n",
       "        Net Income to Stockholder's Equity   Liability to Equity  \\\n",
       "count                              6819.00               6819.00   \n",
       "mean                                  0.84                  0.28   \n",
       "std                                   0.01                  0.01   \n",
       "min                                   0.00                  0.00   \n",
       "25%                                   0.84                  0.28   \n",
       "50%                                   0.84                  0.28   \n",
       "75%                                   0.84                  0.28   \n",
       "max                                   1.00                  1.00   \n",
       "\n",
       "        Degree of Financial Leverage (DFL)  \\\n",
       "count                              6819.00   \n",
       "mean                                  0.03   \n",
       "std                                   0.02   \n",
       "min                                   0.00   \n",
       "25%                                   0.03   \n",
       "50%                                   0.03   \n",
       "75%                                   0.03   \n",
       "max                                   1.00   \n",
       "\n",
       "        Interest Coverage Ratio (Interest expense to EBIT)   Net Income Flag  \\\n",
       "count                                            6819.00             6819.00   \n",
       "mean                                                0.57                1.00   \n",
       "std                                                 0.01                0.00   \n",
       "min                                                 0.00                1.00   \n",
       "25%                                                 0.57                1.00   \n",
       "50%                                                 0.57                1.00   \n",
       "75%                                                 0.57                1.00   \n",
       "max                                                 1.00                1.00   \n",
       "\n",
       "        Equity to Liability  \n",
       "count               6819.00  \n",
       "mean                   0.05  \n",
       "std                    0.05  \n",
       "min                    0.00  \n",
       "25%                    0.02  \n",
       "50%                    0.03  \n",
       "75%                    0.05  \n",
       "max                    1.00  "
      ]
     },
     "execution_count": 6,
     "metadata": {},
     "output_type": "execute_result"
    }
   ],
   "source": [
    "data.describe()"
   ]
  },
  {
   "cell_type": "markdown",
   "id": "forbidden-prayer",
   "metadata": {
    "papermill": {
     "duration": 0.04812,
     "end_time": "2021-04-09T11:01:20.271532",
     "exception": false,
     "start_time": "2021-04-09T11:01:20.223412",
     "status": "completed"
    },
    "tags": []
   },
   "source": [
    "### 2. Sanity Check\n",
    "#### Column Names:\n",
    "- Remove leading whitespaces from Column names(공백제거)\n",
    "- Replace \" \" with \"_\" in columnnames\n",
    "- Rename Target column\n",
    "\n",
    "#### Check constant Columns:\n",
    "- ***Net Income Flag*** is constant(일정), hence drop\n",
    "- Rename ***Bankrupt?  -> Bankrupt***\n",
    "\n",
    "#### Check Duplicates\n",
    " - No duplicated values(중복 없음)\n",
    "\n",
    "#### Check Missing Values\n",
    "- No missing values(결측값 없음)"
   ]
  },
  {
   "cell_type": "code",
   "execution_count": 7,
   "id": "working-softball",
   "metadata": {
    "execution": {
     "iopub.execute_input": "2021-04-09T11:01:20.376205Z",
     "iopub.status.busy": "2021-04-09T11:01:20.375484Z",
     "iopub.status.idle": "2021-04-09T11:01:20.379915Z",
     "shell.execute_reply": "2021-04-09T11:01:20.379286Z"
    },
    "papermill": {
     "duration": 0.060803,
     "end_time": "2021-04-09T11:01:20.380057",
     "exception": false,
     "start_time": "2021-04-09T11:01:20.319254",
     "status": "completed"
    },
    "tags": []
   },
   "outputs": [
    {
     "name": "stdout",
     "output_type": "stream",
     "text": [
      "Column names before renaming \n",
      " Index(['Bankrupt?', ' ROA(C) before interest and depreciation before interest',\n",
      "       ' ROA(A) before interest and % after tax',\n",
      "       ' ROA(B) before interest and depreciation after tax',\n",
      "       ' Operating Gross Margin'],\n",
      "      dtype='object') \n",
      "\n",
      "Column names after renaming \n",
      " Index(['Bankrupt', 'ROA(C)_before_interest_and_depreciation_before_interest',\n",
      "       'ROA(A)_before_interest_and_%_after_tax',\n",
      "       'ROA(B)_before_interest_and_depreciation_after_tax',\n",
      "       'Operating_Gross_Margin'],\n",
      "      dtype='object')\n"
     ]
    }
   ],
   "source": [
    "print(\"Column names before renaming\",\"\\n\", data.columns[:5],\"\\n\")\n",
    "data.columns = data.columns.str.strip()\n",
    "data.columns = data.columns.str.replace(\" \" ,\"_\")\n",
    "data.rename(columns = {'Bankrupt?' :'Bankrupt' },inplace=True)\n",
    "print(\"Column names after renaming\",\"\\n\",data.columns[:5])"
   ]
  },
  {
   "cell_type": "code",
   "execution_count": 8,
   "id": "spiritual-bulgarian",
   "metadata": {
    "execution": {
     "iopub.execute_input": "2021-04-09T11:01:20.484198Z",
     "iopub.status.busy": "2021-04-09T11:01:20.483427Z",
     "iopub.status.idle": "2021-04-09T11:01:20.487354Z",
     "shell.execute_reply": "2021-04-09T11:01:20.486789Z"
    },
    "papermill": {
     "duration": 0.059333,
     "end_time": "2021-04-09T11:01:20.487490",
     "exception": false,
     "start_time": "2021-04-09T11:01:20.428157",
     "status": "completed"
    },
    "tags": []
   },
   "outputs": [],
   "source": [
    "data.drop(['Net_Income_Flag'],axis=1,inplace=True) ## drop constant columns"
   ]
  },
  {
   "cell_type": "code",
   "execution_count": 9,
   "id": "fitted-marriage",
   "metadata": {
    "execution": {
     "iopub.execute_input": "2021-04-09T11:01:20.595833Z",
     "iopub.status.busy": "2021-04-09T11:01:20.594766Z",
     "iopub.status.idle": "2021-04-09T11:01:20.665752Z",
     "shell.execute_reply": "2021-04-09T11:01:20.665238Z"
    },
    "papermill": {
     "duration": 0.130268,
     "end_time": "2021-04-09T11:01:20.665914",
     "exception": false,
     "start_time": "2021-04-09T11:01:20.535646",
     "status": "completed"
    },
    "tags": []
   },
   "outputs": [
    {
     "data": {
      "text/plain": [
       "0"
      ]
     },
     "execution_count": 9,
     "metadata": {},
     "output_type": "execute_result"
    }
   ],
   "source": [
    "data.duplicated(keep=False).sum()  ## no duplicates"
   ]
  },
  {
   "cell_type": "code",
   "execution_count": 10,
   "id": "destroyed-apple",
   "metadata": {
    "execution": {
     "iopub.execute_input": "2021-04-09T11:01:20.769035Z",
     "iopub.status.busy": "2021-04-09T11:01:20.767981Z",
     "iopub.status.idle": "2021-04-09T11:01:20.776610Z",
     "shell.execute_reply": "2021-04-09T11:01:20.775944Z"
    },
    "papermill": {
     "duration": 0.062629,
     "end_time": "2021-04-09T11:01:20.776780",
     "exception": false,
     "start_time": "2021-04-09T11:01:20.714151",
     "status": "completed"
    },
    "tags": []
   },
   "outputs": [
    {
     "data": {
      "text/plain": [
       "0"
      ]
     },
     "execution_count": 10,
     "metadata": {},
     "output_type": "execute_result"
    }
   ],
   "source": [
    "data.isnull().values.sum() # check missing values"
   ]
  },
  {
   "cell_type": "markdown",
   "id": "crude-validation",
   "metadata": {
    "papermill": {
     "duration": 0.048629,
     "end_time": "2021-04-09T11:01:20.874327",
     "exception": false,
     "start_time": "2021-04-09T11:01:20.825698",
     "status": "completed"
    },
    "tags": []
   },
   "source": [
    "### 3.1 Target Class distribution\n",
    "- Target is heavily imballanced (불균형 심함)\n",
    "- Bankruptcy Rate is around 3.2%"
   ]
  },
  {
   "cell_type": "code",
   "execution_count": 11,
   "id": "lesbian-maldives",
   "metadata": {
    "execution": {
     "iopub.execute_input": "2021-04-09T11:01:20.981212Z",
     "iopub.status.busy": "2021-04-09T11:01:20.980350Z",
     "iopub.status.idle": "2021-04-09T11:01:21.006117Z",
     "shell.execute_reply": "2021-04-09T11:01:21.007192Z"
    },
    "papermill": {
     "duration": 0.084026,
     "end_time": "2021-04-09T11:01:21.007522",
     "exception": false,
     "start_time": "2021-04-09T11:01:20.923496",
     "status": "completed"
    },
    "tags": []
   },
   "outputs": [
    {
     "name": "stdout",
     "output_type": "stream",
     "text": [
      "   Count  Percentage\n",
      "0   6599       96.77\n",
      "1    220        3.23\n"
     ]
    }
   ],
   "source": [
    "df1 = pd.DataFrame(data.Bankrupt.value_counts())\n",
    "df2 = pd.DataFrame(100*data.Bankrupt.value_counts(normalize=True).astype(float))\n",
    "tab = df1.merge(df2,left_index=True,right_index=True).rename(columns = {\"Bankrupt_x\" : \"Count\" , \"Bankrupt_y\" : \"Percentage\"})\n",
    "print(tab)"
   ]
  },
  {
   "cell_type": "code",
   "execution_count": 12,
   "id": "forty-perfume",
   "metadata": {
    "execution": {
     "iopub.execute_input": "2021-04-09T11:01:21.121988Z",
     "iopub.status.busy": "2021-04-09T11:01:21.121283Z",
     "iopub.status.idle": "2021-04-09T11:01:21.247743Z",
     "shell.execute_reply": "2021-04-09T11:01:21.247150Z"
    },
    "papermill": {
     "duration": 0.187837,
     "end_time": "2021-04-09T11:01:21.247914",
     "exception": false,
     "start_time": "2021-04-09T11:01:21.060077",
     "status": "completed"
    },
    "tags": []
   },
   "outputs": [
    {
     "data": {
      "text/plain": [
       "([<matplotlib.patches.Wedge at 0x7fb31cb6d9d0>,\n",
       "  <matplotlib.patches.Wedge at 0x7fb31cb6ddd0>],\n",
       " [Text(-1.0943545992823505, 0.11130144217199622, '0'),\n",
       "  Text(1.094354596677152, -0.11130146778721411, '1')])"
      ]
     },
     "execution_count": 12,
     "metadata": {},
     "output_type": "execute_result"
    },
    {
     "data": {
      "image/png": "[encoded data removed]",
      "text/plain": [
       "<Figure size 432x288 with 1 Axes>"
      ]
     },
     "metadata": {},
     "output_type": "display_data"
    }
   ],
   "source": [
    "plt.pie(tab['Count'], labels= [0,1])"
   ]
  },
  {
   "cell_type": "markdown",
   "id": "pharmaceutical-dominant",
   "metadata": {
    "papermill": {
     "duration": 0.050373,
     "end_time": "2021-04-09T11:01:21.348792",
     "exception": false,
     "start_time": "2021-04-09T11:01:21.298419",
     "status": "completed"
    },
    "tags": []
   },
   "source": [
    "### 3.2  Outliers Handling\n",
    "- First separate all **94** features into two groups\n",
    "    - _fraction-only_ features (i.e. features having values in [0,1]) / 분수 o\n",
    "    - _other than fraction-only_ features / 분수 x\n",
    "\n",
    "- **70** features are _fraction-only_ features where as **24** are _other than fraction-only_ features.  \n",
    "**70** -> 분수 o , **24** -> 분수 x\n",
    "\n",
    "- 이상값은 주로 이러한 24개의 _\"분수 전용 이외의\"_ 변수에서 **존재**합니다.  \n",
    "\n",
    "- 이상치 특성을 탐색하기 위해 이러한 24개 특성의 분포는 다음을 사용하여 얻습니다.\n",
    "    - Histogram\n",
    "    - Boxplot"
   ]
  },
  {
   "cell_type": "code",
   "execution_count": 13,
   "id": "hired-courage",
   "metadata": {
    "execution": {
     "iopub.execute_input": "2021-04-09T11:01:21.463664Z",
     "iopub.status.busy": "2021-04-09T11:01:21.462987Z",
     "iopub.status.idle": "2021-04-09T11:01:21.479749Z",
     "shell.execute_reply": "2021-04-09T11:01:21.479072Z"
    },
    "papermill": {
     "duration": 0.080204,
     "end_time": "2021-04-09T11:01:21.479916",
     "exception": false,
     "start_time": "2021-04-09T11:01:21.399712",
     "status": "completed"
    },
    "tags": []
   },
   "outputs": [
    {
     "name": "stdout",
     "output_type": "stream",
     "text": [
      "# Fraction-only Columns 70 \t # Other than Fraction-only Columns 24\n"
     ]
    }
   ],
   "source": [
    "## fn to separate only-fractional & other columns\n",
    "def get_fraction_valued_columns(df):\n",
    "    my_columns  = []\n",
    "    for col in df.columns:\n",
    "        if (data[col].max()<=1) & (data[col].min() >= 0):\n",
    "            my_columns.append(col)\n",
    "    return(my_columns)\n",
    "\n",
    "fractional_columns = get_fraction_valued_columns(df=data.drop(['Bankrupt'],axis=1))\n",
    "non_fraction_columns = data.drop(['Bankrupt'],axis=1).columns.difference(fractional_columns)\n",
    "print(\"# Fraction-only Columns\",len(fractional_columns),\"\\t\",\"# Other than Fraction-only Columns\", len(non_fraction_columns))"
   ]
  },
  {
   "cell_type": "markdown",
   "id": "entitled-drain",
   "metadata": {
    "papermill": {
     "duration": 0.050513,
     "end_time": "2021-04-09T11:01:21.582413",
     "exception": false,
     "start_time": "2021-04-09T11:01:21.531900",
     "status": "completed"
    },
    "tags": []
   },
   "source": [
    "### Other than fration-only features : Histogram"
   ]
  },
  {
   "cell_type": "code",
   "execution_count": 14,
   "id": "lyric-anniversary",
   "metadata": {
    "execution": {
     "iopub.execute_input": "2021-04-09T11:01:21.691145Z",
     "iopub.status.busy": "2021-04-09T11:01:21.690475Z",
     "iopub.status.idle": "2021-04-09T11:01:25.945912Z",
     "shell.execute_reply": "2021-04-09T11:01:25.946605Z"
    },
    "papermill": {
     "duration": 4.31338,
     "end_time": "2021-04-09T11:01:25.946844",
     "exception": false,
     "start_time": "2021-04-09T11:01:21.633464",
     "status": "completed"
    },
    "tags": []
   },
   "outputs": [
    {
     "name": "stderr",
     "output_type": "stream",
     "text": [
      "/opt/conda/lib/python3.7/site-packages/pandas/plotting/_matplotlib/tools.py:400: MatplotlibDeprecationWarning: \n",
      "The is_first_col function was deprecated in Matplotlib 3.4 and will be removed two minor releases later. Use ax.get_subplotspec().is_first_col() instead.\n",
      "  if ax.is_first_col():\n"
     ]
    },
    {
     "data": {
      "image/png": "[encoded data removed]",
      "text/plain": [
       "<Figure size 1440x1440 with 24 Axes>"
      ]
     },
     "metadata": {
      "needs_background": "light"
     },
     "output_type": "display_data"
    }
   ],
   "source": [
    "data[non_fraction_columns].hist(figsize= (20,20),sharex=True,layout= (6,4))\n",
    "plt.show()"
   ]
  },
  {
   "cell_type": "markdown",
   "id": "human-columbia",
   "metadata": {
    "papermill": {
     "duration": 0.056086,
     "end_time": "2021-04-09T11:01:26.057866",
     "exception": false,
     "start_time": "2021-04-09T11:01:26.001780",
     "status": "completed"
    },
    "tags": []
   },
   "source": [
    " ### Other than fration-only features :  Boxplot"
   ]
  },
  {
   "cell_type": "code",
   "execution_count": 15,
   "id": "focused-format",
   "metadata": {
    "execution": {
     "iopub.execute_input": "2021-04-09T11:01:26.177189Z",
     "iopub.status.busy": "2021-04-09T11:01:26.176462Z",
     "iopub.status.idle": "2021-04-09T11:01:26.983387Z",
     "shell.execute_reply": "2021-04-09T11:01:26.983918Z"
    },
    "papermill": {
     "duration": 0.866971,
     "end_time": "2021-04-09T11:01:26.984105",
     "exception": false,
     "start_time": "2021-04-09T11:01:26.117134",
     "status": "completed"
    },
    "tags": []
   },
   "outputs": [
    {
     "data": {
      "image/png": "[encoded data removed]",
      "text/plain": [
       "<Figure size 1080x720 with 1 Axes>"
      ]
     },
     "metadata": {
      "needs_background": "light"
     },
     "output_type": "display_data"
    }
   ],
   "source": [
    "data[non_fraction_columns].boxplot(vert=False,figsize= (15,10))\n",
    "plt.subplots_adjust(left=0.25)\n",
    "plt.show()"
   ]
  },
  {
   "cell_type": "markdown",
   "id": "aerial-psychology",
   "metadata": {
    "papermill": {
     "duration": 0.057856,
     "end_time": "2021-04-09T11:01:27.100069",
     "exception": false,
     "start_time": "2021-04-09T11:01:27.042213",
     "status": "completed"
    },
    "tags": []
   },
   "source": [
    "### __Observations__\n",
    "- Major values are concentrated around starting ranges yet there are very high valued records.\n",
    "- Some features show outliers in top 1% values only.Few of such features are:\n",
    "    - Total_debt/Total_net_worth \n",
    "    - Revenue_per_person\n",
    "    - Net_Value_Growth_Rate\n",
    "    - Revenue_Per_Share etc\n",
    "\n",
    "2. There are some features that have significant number of higher values, like:\n",
    "    - Current_Asset_Turnover_Rate\n",
    "    - Cash_Turnover_Rate\n",
    "\n",
    "- **These features may potentially seem to be outliers but not be practically so.Hence outliers here need to be handled more cautiously,simply eliminating records lying above some cutoff cant be applied for all throughout**. \n",
    "\n",
    "- We Need to have a rule: \n",
    "\n",
    "#### **Rule** :\n",
    "- Only __other than fraction-only__ features are considered for outlier inspection\n",
    "- Among them those meeting following conditions I decide to term them as outliers infected:\n",
    "   - 100th percentile value is atleast 100 times greater than 99th percentile.\n",
    "   - There are 10 or less records for 100th percentile.\n",
    "- For the features satisfying above outlier condition we replace them  as x-> log(1+x)\n",
    "- __N.B: This is just a rule of thumb I made based on the experience while playing with the data.__ \n"
   ]
  },
  {
   "cell_type": "markdown",
   "id": "ae643188",
   "metadata": {},
   "source": [
    "### __관찰__\n",
    "- 주요 값은 시작 범위에 집중되어 있지만 매우 높은 값의 기록이 있습니다.\n",
    "- 일부 기능은 상위 1% 값의 이상값만 표시합니다. 이러한 기능 중 일부는 다음과 같습니다.\n",
    "    - Total_debt/Total_net_worth \n",
    "    - Revenue_per_person\n",
    "    - Net_Value_Growth_Rate\n",
    "    - Revenue_Per_Share \n",
    "    - etc..(등등)\n",
    "\n",
    "2. 다음과 같이 상당히 높은 값을 갖는 일부 기능이 있습니다.\n",
    "    - Current_Asset_Turnover_Rate\n",
    "    - Cash_Turnover_Rate\n",
    "\n",
    "- **이러한 기능은 잠재적으로 이상값으로 보일 수 있지만 실제로는 그렇지 않습니다. 따라서 여기서 이상값은 더 조심스럽게 처리해야 하며, 단순히 일부 cutoff(컷옵) above(이상인, 위에 있는) 레코드를 제거하는 것만으로는 전체에 적용할 수 없습니다**. \n",
    "\n",
    "- 규칙이 필요합니다. \n",
    "\n",
    "#### **규칙** :\n",
    "- __분수 전용 이외의__ 변수만 이상값 검사에 고려됩니다.\n",
    "- 그 중에서 다음 조건을 충족하는 사람들을 감염된 이상치로 정의하기로 결정했습니다.\n",
    "   - 100번째 백분위수 값은 99번째 백분위수보다 최소한 100배 더 큽니다.\n",
    "   - 100번째 백분위수에 대한 레코드가 10개 이하입니다.\n",
    "- 위의 이상치 조건을 만족하는 특징에 대해 x-> log(1+x)로 대체합니다.\n",
    "- __주의: 이것은 제가 데이터를 가지고 놀면서 경험을 바탕으로 만든 경험 법칙입니다.__"
   ]
  },
  {
   "cell_type": "code",
   "execution_count": 16,
   "id": "preliminary-movement",
   "metadata": {
    "execution": {
     "iopub.execute_input": "2021-04-09T11:01:27.224290Z",
     "iopub.status.busy": "2021-04-09T11:01:27.223536Z",
     "iopub.status.idle": "2021-04-09T11:01:27.344252Z",
     "shell.execute_reply": "2021-04-09T11:01:27.343548Z"
    },
    "papermill": {
     "duration": 0.185489,
     "end_time": "2021-04-09T11:01:27.344418",
     "exception": false,
     "start_time": "2021-04-09T11:01:27.158929",
     "status": "completed"
    },
    "tags": []
   },
   "outputs": [],
   "source": [
    "## Outlier handling techniques\n",
    "log_transformed_cols = []\n",
    "for col in data[non_fraction_columns].columns:\n",
    "    if (data[col].quantile(1) >= 100* data[col].quantile(0.99)) |  (sum(data[col] > data[col].quantile(0.99)) <= 10):\n",
    "        data[col] = np.log1p(data[col])\n",
    "        log_transformed_cols.append(col)\n",
    "        \n",
    "## Change names of log transformed column\n",
    "log_names = \"log_\" + data[log_transformed_cols].columns\n",
    "data.rename(columns={data[log_transformed_cols].columns[i]: log_names[i] for i in range(len(log_names))}, inplace = True)\n",
    "#data.columns"
   ]
  },
  {
   "cell_type": "code",
   "execution_count": 17,
   "id": "lesser-damage",
   "metadata": {
    "execution": {
     "iopub.execute_input": "2021-04-09T11:01:27.469146Z",
     "iopub.status.busy": "2021-04-09T11:01:27.468411Z",
     "iopub.status.idle": "2021-04-09T11:01:27.966062Z",
     "shell.execute_reply": "2021-04-09T11:01:27.966733Z"
    },
    "papermill": {
     "duration": 0.563793,
     "end_time": "2021-04-09T11:01:27.966936",
     "exception": false,
     "start_time": "2021-04-09T11:01:27.403143",
     "status": "completed"
    },
    "tags": []
   },
   "outputs": [
    {
     "name": "stdout",
     "output_type": "stream",
     "text": [
      "The following features are log transformed after they fulfill outlier detection condition. \n",
      "\n",
      " ['Accounts_Receivable_Turnover', 'Allocation_rate_per_person', 'Average_Collection_Days', 'Cash/Current_Liability', 'Current_Ratio', 'Fixed_Assets_to_Assets', 'Net_Value_Growth_Rate', 'Quick_Assets/Current_Liability', 'Quick_Ratio', 'Revenue_Per_Share_(Yuan_¥)', 'Revenue_per_person', 'Total_assets_to_GNP_price', 'Total_debt/Total_net_worth']\n"
     ]
    },
    {
     "data": {
      "image/png": "[encoded data removed]",
      "text/plain": [
       "<Figure size 1080x720 with 1 Axes>"
      ]
     },
     "metadata": {
      "needs_background": "light"
     },
     "output_type": "display_data"
    }
   ],
   "source": [
    "print(\"The following features are log transformed after they fulfill outlier detection condition.\",\"\\n\\n\",log_transformed_cols)\n",
    "data[log_names].boxplot(vert=False,figsize= (15,10))\n",
    "plt.subplots_adjust(left=0.25)\n",
    "plt.title(\"Boxplot of Outlier infected features after log transformation\")\n",
    "plt.show()"
   ]
  },
  {
   "cell_type": "markdown",
   "id": "aquatic-grenada",
   "metadata": {
    "papermill": {
     "duration": 0.063876,
     "end_time": "2021-04-09T11:01:28.093763",
     "exception": false,
     "start_time": "2021-04-09T11:01:28.029887",
     "status": "completed"
    },
    "tags": []
   },
   "source": [
    "# B. Modelling"
   ]
  },
  {
   "cell_type": "code",
   "execution_count": 18,
   "id": "organic-truth",
   "metadata": {
    "execution": {
     "iopub.execute_input": "2021-04-09T11:01:28.223727Z",
     "iopub.status.busy": "2021-04-09T11:01:28.222945Z",
     "iopub.status.idle": "2021-04-09T11:01:28.226333Z",
     "shell.execute_reply": "2021-04-09T11:01:28.225689Z"
    },
    "papermill": {
     "duration": 0.072047,
     "end_time": "2021-04-09T11:01:28.226486",
     "exception": false,
     "start_time": "2021-04-09T11:01:28.154439",
     "status": "completed"
    },
    "tags": []
   },
   "outputs": [],
   "source": [
    "X = data.drop([\"Bankrupt\"],axis=1)\n",
    "y = data.Bankrupt"
   ]
  },
  {
   "cell_type": "code",
   "execution_count": 19,
   "id": "aboriginal-lotus",
   "metadata": {
    "execution": {
     "iopub.execute_input": "2021-04-09T11:01:28.352329Z",
     "iopub.status.busy": "2021-04-09T11:01:28.351532Z",
     "iopub.status.idle": "2021-04-09T11:01:29.296476Z",
     "shell.execute_reply": "2021-04-09T11:01:29.295895Z"
    },
    "papermill": {
     "duration": 1.009931,
     "end_time": "2021-04-09T11:01:29.296617",
     "exception": false,
     "start_time": "2021-04-09T11:01:28.286686",
     "status": "completed"
    },
    "tags": []
   },
   "outputs": [],
   "source": [
    "from sklearn.preprocessing import StandardScaler\n",
    "from sklearn.feature_selection import SelectKBest, chi2 , mutual_info_classif \n",
    "from imblearn.over_sampling import SMOTE "
   ]
  },
  {
   "cell_type": "markdown",
   "id": "sufficient-throw",
   "metadata": {
    "papermill": {
     "duration": 0.059323,
     "end_time": "2021-04-09T11:01:29.415174",
     "exception": false,
     "start_time": "2021-04-09T11:01:29.355851",
     "status": "completed"
    },
    "tags": []
   },
   "source": [
    "## 1.1 Feature Scaling\n",
    "- Scale all features in order to have zero mean and unit variance  \n",
    "평균 및 단위 분산이 0이 되도록 모든 기능의 크기를 조정합니다.  "
   ]
  },
  {
   "cell_type": "code",
   "execution_count": 20,
   "id": "opponent-western",
   "metadata": {
    "execution": {
     "iopub.execute_input": "2021-04-09T11:01:29.543292Z",
     "iopub.status.busy": "2021-04-09T11:01:29.542500Z",
     "iopub.status.idle": "2021-04-09T11:01:29.568126Z",
     "shell.execute_reply": "2021-04-09T11:01:29.568826Z"
    },
    "papermill": {
     "duration": 0.094229,
     "end_time": "2021-04-09T11:01:29.569020",
     "exception": false,
     "start_time": "2021-04-09T11:01:29.474791",
     "status": "completed"
    },
    "tags": []
   },
   "outputs": [],
   "source": [
    "X_scaled = pd.DataFrame(StandardScaler(copy=False).fit_transform(X))\n",
    "X_scaled.columns = X.columns"
   ]
  },
  {
   "cell_type": "markdown",
   "id": "scientific-costa",
   "metadata": {
    "papermill": {
     "duration": 0.05944,
     "end_time": "2021-04-09T11:01:29.690220",
     "exception": false,
     "start_time": "2021-04-09T11:01:29.630780",
     "status": "completed"
    },
    "tags": []
   },
   "source": [
    "##  1.2 Feature Selection\n",
    "- In order to select features to be fed into the predictive model mutual information is useed.\n",
    "- Features with positive mutual information are retained for final model."
   ]
  },
  {
   "cell_type": "markdown",
   "id": "341097d8",
   "metadata": {},
   "source": [
    "- 예측 모델에 입력할 변수를 선택하기 위해 상호 정보가 사용됩니다.\n",
    "- 긍정적인 상호 정보를 갖는 변수는 최종 모델에 유지됩니다."
   ]
  },
  {
   "cell_type": "code",
   "execution_count": 21,
   "id": "injured-discretion",
   "metadata": {
    "execution": {
     "iopub.execute_input": "2021-04-09T11:01:29.819766Z",
     "iopub.status.busy": "2021-04-09T11:01:29.818792Z",
     "iopub.status.idle": "2021-04-09T11:01:33.539831Z",
     "shell.execute_reply": "2021-04-09T11:01:33.540366Z"
    },
    "papermill": {
     "duration": 3.791122,
     "end_time": "2021-04-09T11:01:33.540561",
     "exception": false,
     "start_time": "2021-04-09T11:01:29.749439",
     "status": "completed"
    },
    "tags": []
   },
   "outputs": [],
   "source": [
    "mutual_info = mutual_info_classif(X= X_scaled,y= y)  # 모든 예측 변수에 대한 상호 정보 얻기\n",
    "pruned_features = X.columns[np.where(mutual_info>0)]  # mi >0인 경우에만 기능 유지\n",
    "X_scaled_pruned = X_scaled[pruned_features]"
   ]
  },
  {
   "cell_type": "markdown",
   "id": "operating-marketplace",
   "metadata": {
    "papermill": {
     "duration": 0.059357,
     "end_time": "2021-04-09T11:01:33.659693",
     "exception": false,
     "start_time": "2021-04-09T11:01:33.600336",
     "status": "completed"
    },
    "tags": []
   },
   "source": [
    "## 1.3 Target class Imballance : SMOTE\n",
    "- only 3.2% of the companies has Bankrupted in the dataset,making it imballanced target class probelm.\n",
    "- Hence positive target class( Bankrupt=1) is under-represented.This could be challenging as lack of positive class in the train data may lead machine learning model to have poor performance in terms of detecting positive class in the unseen data.\n",
    "- SMOTE(Synthetic Minority Oversampling Techniwque) proposed by Chawla et al 2002, is a well applied technique to handle such scenerio.\n",
    "- SMOTE actually creates as many synthetic examples for minority class as are requirred so that finally two target class are well represented. It does so by synthesising samples that are close to the feature space ,for the minority target class.\n",
    "More about [SMOTE](http://machinelearningmastery.com/smote-oversampling-for-imbalanced-classification/)"
   ]
  },
  {
   "cell_type": "markdown",
   "id": "897ca762",
   "metadata": {},
   "source": [
    "- 데이터 세트에서 회사의 3.2%만이 파산하여 대상 클래스 문제의 불균형을 초래합니다.\n",
    "- 따라서 긍정적인 대상 클래스(파산=1)는 과소 표현됩니다. train 데이터에 긍정적인 클래스가 없으면 기계 학습 모델이 보이지 않는 데이터에서 긍정적인 클래스를 감지하는 측면에서 성능이 저하될 수 있으므로 이는 어려울 수 있습니다.\n",
    "- Chawla et al 2002가 제안한 SMOTE(Synthetic Minority Oversampling Techniwque)는 이러한 장면을 처리하기 위해 잘 적용되는 기술입니다.\n",
    "- SMOTE는 실제로 두 개의 대상 클래스가 잘 표현되도록 소수 클래스에 대해 필요한 만큼의 합성 예제를 생성합니다. 소수 대상 클래스에 대해 기능 공간에 가까운 샘플을 합성함으로써 이를 수행합니다.\n",
    "[SMOTE](http://machinelearningmastery.com/smote-oversampling-for-imbalanced-classification/)에 대해 자세히 알아보기"
   ]
  },
  {
   "cell_type": "code",
   "execution_count": 22,
   "id": "interpreted-stadium",
   "metadata": {
    "execution": {
     "iopub.execute_input": "2021-04-09T11:01:33.790239Z",
     "iopub.status.busy": "2021-04-09T11:01:33.787038Z",
     "iopub.status.idle": "2021-04-09T11:01:33.872561Z",
     "shell.execute_reply": "2021-04-09T11:01:33.874133Z"
    },
    "papermill": {
     "duration": 0.15512,
     "end_time": "2021-04-09T11:01:33.874671",
     "exception": false,
     "start_time": "2021-04-09T11:01:33.719551",
     "status": "completed"
    },
    "tags": []
   },
   "outputs": [
    {
     "name": "stdout",
     "output_type": "stream",
     "text": [
      "Shape of X before SMOTE:(6819, 89)\n",
      "Shape of X after SMOTE:(13198, 89) \n",
      "\n",
      "\n",
      "Target Class distributuion before SMOTE:\n",
      "0   0.97\n",
      "1   0.03\n",
      "Name: Bankrupt, dtype: float64\n",
      "Target Class distributuion after SMOTE :\n",
      "0   0.50\n",
      "1   0.50\n",
      "Name: Bankrupt, dtype: float64\n"
     ]
    }
   ],
   "source": [
    "sm = SMOTE(random_state=123)\n",
    "X_sm , y_sm = sm.fit_resample(X_scaled_pruned,y)\n",
    "\n",
    "print(f'''Shape of X before SMOTE:{X_scaled_pruned.shape}\n",
    "Shape of X after SMOTE:{X_sm.shape}''',\"\\n\\n\")\n",
    "\n",
    "print(f'''Target Class distributuion before SMOTE:\\n{y.value_counts(normalize=True)}\n",
    "Target Class distributuion after SMOTE :\\n{y_sm.value_counts(normalize=True)}''')"
   ]
  },
  {
   "cell_type": "markdown",
   "id": "conservative-interview",
   "metadata": {
    "papermill": {
     "duration": 0.059226,
     "end_time": "2021-04-09T11:01:34.014227",
     "exception": false,
     "start_time": "2021-04-09T11:01:33.955001",
     "status": "completed"
    },
    "tags": []
   },
   "source": [
    "## 2.1 Logistic Regression\n",
    "- Will be using logistic regression as our benchmark model.\n",
    "- Combination of L1 & L2 regularization(Elasticnet)is applied.\n",
    "- With and Without Using SMOTE"
   ]
  },
  {
   "cell_type": "markdown",
   "id": "c6a80a74",
   "metadata": {},
   "source": [
    "- 벤치마크 모델로 로지스틱 회귀를 사용할 예정입니다.  \n",
    "- L1 & L2 정규화(Elasticnet)의 조합이 적용됩니다.  \n",
    "- SMOTE 사용 유무에 관계없이  "
   ]
  },
  {
   "cell_type": "code",
   "execution_count": 23,
   "id": "appreciated-lying",
   "metadata": {
    "execution": {
     "iopub.execute_input": "2021-04-09T11:01:34.141270Z",
     "iopub.status.busy": "2021-04-09T11:01:34.140281Z",
     "iopub.status.idle": "2021-04-09T11:01:34.143921Z",
     "shell.execute_reply": "2021-04-09T11:01:34.143257Z"
    },
    "papermill": {
     "duration": 0.068682,
     "end_time": "2021-04-09T11:01:34.144062",
     "exception": false,
     "start_time": "2021-04-09T11:01:34.075380",
     "status": "completed"
    },
    "tags": []
   },
   "outputs": [],
   "source": [
    "from sklearn.model_selection import train_test_split,StratifiedKFold\n",
    "from sklearn import metrics"
   ]
  },
  {
   "cell_type": "code",
   "execution_count": 24,
   "id": "moderate-conclusion",
   "metadata": {
    "execution": {
     "iopub.execute_input": "2021-04-09T11:01:34.271759Z",
     "iopub.status.busy": "2021-04-09T11:01:34.270695Z",
     "iopub.status.idle": "2021-04-09T11:01:34.285358Z",
     "shell.execute_reply": "2021-04-09T11:01:34.285859Z"
    },
    "papermill": {
     "duration": 0.081643,
     "end_time": "2021-04-09T11:01:34.286053",
     "exception": false,
     "start_time": "2021-04-09T11:01:34.204410",
     "status": "completed"
    },
    "tags": []
   },
   "outputs": [],
   "source": [
    "x_train , x_test , y_train ,y_test = train_test_split(X_sm,y_sm,test_size= 0.33)"
   ]
  },
  {
   "cell_type": "code",
   "execution_count": 25,
   "id": "peaceful-vacation",
   "metadata": {
    "execution": {
     "iopub.execute_input": "2021-04-09T11:01:34.416243Z",
     "iopub.status.busy": "2021-04-09T11:01:34.415139Z",
     "iopub.status.idle": "2021-04-09T11:02:42.541900Z",
     "shell.execute_reply": "2021-04-09T11:02:42.541146Z"
    },
    "papermill": {
     "duration": 68.196018,
     "end_time": "2021-04-09T11:02:42.542052",
     "exception": false,
     "start_time": "2021-04-09T11:01:34.346034",
     "status": "completed"
    },
    "tags": []
   },
   "outputs": [],
   "source": [
    "from sklearn.linear_model import LogisticRegression\n",
    "lr_fit = LogisticRegression(penalty='elasticnet',solver='saga',l1_ratio=0.5,max_iter=10000).fit(x_train,y_train)"
   ]
  },
  {
   "cell_type": "markdown",
   "id": "complicated-illustration",
   "metadata": {
    "papermill": {
     "duration": 0.059215,
     "end_time": "2021-04-09T11:02:42.661350",
     "exception": false,
     "start_time": "2021-04-09T11:02:42.602135",
     "status": "completed"
    },
    "tags": []
   },
   "source": [
    "### 성능 지표: (Cutoff independent)"
   ]
  },
  {
   "cell_type": "code",
   "execution_count": 26,
   "id": "separated-practitioner",
   "metadata": {
    "execution": {
     "iopub.execute_input": "2021-04-09T11:02:42.792623Z",
     "iopub.status.busy": "2021-04-09T11:02:42.791386Z",
     "iopub.status.idle": "2021-04-09T11:02:42.820587Z",
     "shell.execute_reply": "2021-04-09T11:02:42.822187Z"
    },
    "papermill": {
     "duration": 0.100817,
     "end_time": "2021-04-09T11:02:42.822565",
     "exception": false,
     "start_time": "2021-04-09T11:02:42.721748",
     "status": "completed"
    },
    "tags": []
   },
   "outputs": [
    {
     "name": "stdout",
     "output_type": "stream",
     "text": [
      "Logistic Regression AUC=0.960\n"
     ]
    }
   ],
   "source": [
    "lr_pred = lr_fit.predict_proba(x_test)  ## predicted probabilities\n",
    "lr_pred = lr_pred[:,1]  #prob(Bankrupt=0)\n",
    "\n",
    "lr_fpr, lr_tpr, _ = metrics.roc_curve(y_test,  lr_pred)  #fpr, tpr for AUC\n",
    "lr_auc = metrics.roc_auc_score(y_test,lr_pred)   #AUC\n",
    "\n",
    "## in order to collate FPR, TPR and AUC create a dataframe  \n",
    "result_table = pd.DataFrame(columns=['classifiers', 'fpr','tpr','auc'])\n",
    "result_table.set_index('classifiers', inplace=True)\n",
    "result_table = result_table.append({'classifiers':\"Logistic Regression\",\n",
    "                                        'fpr':lr_fpr, \n",
    "                                        'tpr':lr_tpr, \n",
    "                                        'auc':lr_auc}, ignore_index=True)\n",
    "\n",
    "print('Logistic Regression AUC=%.3f' % (lr_auc))"
   ]
  },
  {
   "cell_type": "code",
   "execution_count": 27,
   "id": "continuous-organ",
   "metadata": {
    "execution": {
     "iopub.execute_input": "2021-04-09T11:02:43.012934Z",
     "iopub.status.busy": "2021-04-09T11:02:43.009922Z",
     "iopub.status.idle": "2021-04-09T11:02:43.173630Z",
     "shell.execute_reply": "2021-04-09T11:02:43.173007Z"
    },
    "papermill": {
     "duration": 0.248215,
     "end_time": "2021-04-09T11:02:43.173768",
     "exception": false,
     "start_time": "2021-04-09T11:02:42.925553",
     "status": "completed"
    },
    "tags": []
   },
   "outputs": [
    {
     "data": {
      "image/png": "[encoded data removed]",
      "text/plain": [
       "<Figure size 432x288 with 1 Axes>"
      ]
     },
     "metadata": {
      "needs_background": "light"
     },
     "output_type": "display_data"
    }
   ],
   "source": [
    "plt.plot([0,1], [0,1], color='black', linestyle='--')\n",
    "plt.plot(lr_fpr,lr_tpr ,label=\"{}, AUC={:.3f}\".format(result_table.loc[0,'classifiers'], result_table.loc[0]['auc']))\n",
    "plt.ylabel('True Positive Rate (Sensitivity)')\n",
    "plt.xlabel('False Positive Rate(1-Specificity)')\n",
    "plt.title('ROC Curve Analysis', fontweight='bold', fontsize=15)\n",
    "plt.legend(prop={'size':10}, loc='lower right')\n",
    "plt.show()"
   ]
  },
  {
   "cell_type": "markdown",
   "id": "measured-genius",
   "metadata": {
    "papermill": {
     "duration": 0.061468,
     "end_time": "2021-04-09T11:02:43.297463",
     "exception": false,
     "start_time": "2021-04-09T11:02:43.235995",
     "status": "completed"
    },
    "tags": []
   },
   "source": [
    "### 성능 지표(Cutoff based)"
   ]
  },
  {
   "cell_type": "code",
   "execution_count": 28,
   "id": "disabled-scanning",
   "metadata": {
    "execution": {
     "iopub.execute_input": "2021-04-09T11:02:43.432697Z",
     "iopub.status.busy": "2021-04-09T11:02:43.431549Z",
     "iopub.status.idle": "2021-04-09T11:02:43.479039Z",
     "shell.execute_reply": "2021-04-09T11:02:43.480818Z"
    },
    "papermill": {
     "duration": 0.120269,
     "end_time": "2021-04-09T11:02:43.481167",
     "exception": false,
     "start_time": "2021-04-09T11:02:43.360898",
     "status": "completed"
    },
    "tags": []
   },
   "outputs": [
    {
     "name": "stdout",
     "output_type": "stream",
     "text": [
      "              precision    recall  f1-score   support\n",
      "\n",
      "  Fin.Stable       0.91      0.88      0.90      2178\n",
      "Fin.Unstable       0.89      0.91      0.90      2178\n",
      "\n",
      "    accuracy                           0.90      4356\n",
      "   macro avg       0.90      0.90      0.90      4356\n",
      "weighted avg       0.90      0.90      0.90      4356\n",
      "\n",
      "Confusion Matrix : \n",
      " [[1924  254]\n",
      " [ 197 1981]]\n"
     ]
    }
   ],
   "source": [
    "yhat = lr_fit.predict(x_test,)\n",
    "label = ['Fin.Stable', 'Fin.Unstable']\n",
    "report = metrics.classification_report(y_test, yhat,target_names=label)\n",
    "\n",
    "print(report)\n",
    "print(\"Confusion Matrix :\", \"\\n\" ,metrics.confusion_matrix(y_test,yhat))"
   ]
  },
  {
   "cell_type": "markdown",
   "id": "unauthorized-inventory",
   "metadata": {
    "papermill": {
     "duration": 0.062036,
     "end_time": "2021-04-09T11:02:43.639757",
     "exception": false,
     "start_time": "2021-04-09T11:02:43.577721",
     "status": "completed"
    },
    "tags": []
   },
   "source": [
    "## 2.2 Support Vector Classifier"
   ]
  },
  {
   "cell_type": "code",
   "execution_count": 29,
   "id": "absolute-empty",
   "metadata": {
    "execution": {
     "iopub.execute_input": "2021-04-09T11:02:43.770605Z",
     "iopub.status.busy": "2021-04-09T11:02:43.769940Z",
     "iopub.status.idle": "2021-04-09T11:02:43.772548Z",
     "shell.execute_reply": "2021-04-09T11:02:43.772005Z"
    },
    "papermill": {
     "duration": 0.069668,
     "end_time": "2021-04-09T11:02:43.772690",
     "exception": false,
     "start_time": "2021-04-09T11:02:43.703022",
     "status": "completed"
    },
    "tags": []
   },
   "outputs": [],
   "source": [
    "from sklearn import svm"
   ]
  },
  {
   "cell_type": "code",
   "execution_count": 30,
   "id": "colonial-imagination",
   "metadata": {
    "execution": {
     "iopub.execute_input": "2021-04-09T11:02:43.902371Z",
     "iopub.status.busy": "2021-04-09T11:02:43.901701Z",
     "iopub.status.idle": "2021-04-09T11:03:01.432071Z",
     "shell.execute_reply": "2021-04-09T11:03:01.432642Z"
    },
    "papermill": {
     "duration": 17.596477,
     "end_time": "2021-04-09T11:03:01.432861",
     "exception": false,
     "start_time": "2021-04-09T11:02:43.836384",
     "status": "completed"
    },
    "tags": []
   },
   "outputs": [],
   "source": [
    "svc_fit = svm.SVC(C=1,kernel= 'rbf',degree=3,probability=True).fit(x_train,y_train)"
   ]
  },
  {
   "cell_type": "markdown",
   "id": "040fe928",
   "metadata": {},
   "source": [
    "### 성능 지표: (Cutoff independent)"
   ]
  },
  {
   "cell_type": "code",
   "execution_count": 31,
   "id": "sacred-cambridge",
   "metadata": {
    "execution": {
     "iopub.execute_input": "2021-04-09T11:03:01.690252Z",
     "iopub.status.busy": "2021-04-09T11:03:01.689522Z",
     "iopub.status.idle": "2021-04-09T11:03:03.149703Z",
     "shell.execute_reply": "2021-04-09T11:03:03.150232Z"
    },
    "papermill": {
     "duration": 1.527815,
     "end_time": "2021-04-09T11:03:03.150443",
     "exception": false,
     "start_time": "2021-04-09T11:03:01.622628",
     "status": "completed"
    },
    "tags": []
   },
   "outputs": [
    {
     "name": "stdout",
     "output_type": "stream",
     "text": [
      "Support Vector Classifier AUC =0.973\n"
     ]
    }
   ],
   "source": [
    "svc_pred = svc_fit.predict_proba(x_test)\n",
    "svc_pred = svc_pred[:,1]\n",
    "\n",
    "svc_fpr, svc_tpr, _ = metrics.roc_curve(y_test,  svc_pred)\n",
    "svc_auc = metrics.roc_auc_score(y_test,svc_pred)\n",
    "\n",
    "result_table = result_table.append({'classifiers':\"Support Vector Classifier\",\n",
    "                                        'fpr':svc_fpr, \n",
    "                                        'tpr':svc_tpr, \n",
    "                                        'auc':svc_auc}, ignore_index=True)\n",
    "\n",
    "print('Support Vector Classifier AUC =%.3f' % (svc_auc))"
   ]
  },
  {
   "cell_type": "code",
   "execution_count": 32,
   "id": "severe-burke",
   "metadata": {
    "execution": {
     "iopub.execute_input": "2021-04-09T11:03:03.338859Z",
     "iopub.status.busy": "2021-04-09T11:03:03.303118Z",
     "iopub.status.idle": "2021-04-09T11:03:03.464004Z",
     "shell.execute_reply": "2021-04-09T11:03:03.463301Z"
    },
    "papermill": {
     "duration": 0.250611,
     "end_time": "2021-04-09T11:03:03.464158",
     "exception": false,
     "start_time": "2021-04-09T11:03:03.213547",
     "status": "completed"
    },
    "tags": []
   },
   "outputs": [
    {
     "data": {
      "image/png": "[encoded data removed]",
      "text/plain": [
       "<Figure size 432x288 with 1 Axes>"
      ]
     },
     "metadata": {
      "needs_background": "light"
     },
     "output_type": "display_data"
    }
   ],
   "source": [
    "plt.plot([0,1], [0,1], color='black', linestyle='--')\n",
    "plt.plot(lr_fpr,lr_tpr ,label=\"{}, AUC={:.3f}\".format(result_table.loc[0,'classifiers'], result_table.loc[0]['auc']))\n",
    "plt.plot(svc_fpr,svc_tpr ,label=\"{}, AUC={:.3f}\".format(result_table.loc[1,'classifiers'], result_table.loc[1]['auc']))\n",
    "plt.ylabel('True Positive Rate (Sensitivity)')\n",
    "plt.xlabel('False Positive Rate(1-Specificity)')\n",
    "plt.title('ROC Curve Analysis', fontweight='bold', fontsize=15)\n",
    "plt.legend(prop={'size':10}, loc='lower right')\n",
    "plt.show()"
   ]
  },
  {
   "cell_type": "markdown",
   "id": "unavailable-grounds",
   "metadata": {
    "papermill": {
     "duration": 0.063708,
     "end_time": "2021-04-09T11:03:03.593202",
     "exception": false,
     "start_time": "2021-04-09T11:03:03.529494",
     "status": "completed"
    },
    "tags": []
   },
   "source": [
    "### 성능 지표(Cutoff based)"
   ]
  },
  {
   "cell_type": "code",
   "execution_count": 33,
   "id": "needed-chemistry",
   "metadata": {
    "execution": {
     "iopub.execute_input": "2021-04-09T11:03:03.731166Z",
     "iopub.status.busy": "2021-04-09T11:03:03.730411Z",
     "iopub.status.idle": "2021-04-09T11:03:05.246397Z",
     "shell.execute_reply": "2021-04-09T11:03:05.244754Z"
    },
    "papermill": {
     "duration": 1.588998,
     "end_time": "2021-04-09T11:03:05.246694",
     "exception": false,
     "start_time": "2021-04-09T11:03:03.657696",
     "status": "completed"
    },
    "tags": []
   },
   "outputs": [
    {
     "name": "stdout",
     "output_type": "stream",
     "text": [
      "              precision    recall  f1-score   support\n",
      "\n",
      "  Fin.Stable       0.95      0.89      0.92      2178\n",
      "Fin.Unstable       0.89      0.96      0.92      2178\n",
      "\n",
      "    accuracy                           0.92      4356\n",
      "   macro avg       0.92      0.92      0.92      4356\n",
      "weighted avg       0.92      0.92      0.92      4356\n",
      "\n",
      "Confusion Matrix : \n",
      " [[1930  248]\n",
      " [  95 2083]]\n"
     ]
    }
   ],
   "source": [
    "yhat = svc_fit.predict(x_test)\n",
    "label = ['Fin.Stable', 'Fin.Unstable']\n",
    "report = metrics.classification_report(y_test, yhat,target_names=label)\n",
    "\n",
    "print(report)\n",
    "print(\"Confusion Matrix :\", \"\\n\" ,metrics.confusion_matrix(y_test,yhat))"
   ]
  },
  {
   "cell_type": "markdown",
   "id": "fallen-alignment",
   "metadata": {
    "papermill": {
     "duration": 0.065434,
     "end_time": "2021-04-09T11:03:05.378926",
     "exception": false,
     "start_time": "2021-04-09T11:03:05.313492",
     "status": "completed"
    },
    "tags": []
   },
   "source": [
    "## Tree Based Ensamble Models\n",
    "- Gradient Boosted Classifier\n",
    "- Ada Boost Classifiers"
   ]
  },
  {
   "cell_type": "code",
   "execution_count": 34,
   "id": "angry-princeton",
   "metadata": {
    "execution": {
     "iopub.execute_input": "2021-04-09T11:03:05.515117Z",
     "iopub.status.busy": "2021-04-09T11:03:05.514427Z",
     "iopub.status.idle": "2021-04-09T11:03:05.517658Z",
     "shell.execute_reply": "2021-04-09T11:03:05.517030Z"
    },
    "papermill": {
     "duration": 0.073334,
     "end_time": "2021-04-09T11:03:05.517796",
     "exception": false,
     "start_time": "2021-04-09T11:03:05.444462",
     "status": "completed"
    },
    "tags": []
   },
   "outputs": [],
   "source": [
    "from sklearn.ensemble import RandomForestClassifier, GradientBoostingClassifier,AdaBoostClassifier"
   ]
  },
  {
   "cell_type": "markdown",
   "id": "sized-shock",
   "metadata": {
    "papermill": {
     "duration": 0.064939,
     "end_time": "2021-04-09T11:03:05.648497",
     "exception": false,
     "start_time": "2021-04-09T11:03:05.583558",
     "status": "completed"
    },
    "tags": []
   },
   "source": [
    "## 2.3.1 Gradient Boosted Classifiers"
   ]
  },
  {
   "cell_type": "code",
   "execution_count": 35,
   "id": "artistic-clark",
   "metadata": {
    "execution": {
     "iopub.execute_input": "2021-04-09T11:03:05.787165Z",
     "iopub.status.busy": "2021-04-09T11:03:05.786035Z",
     "iopub.status.idle": "2021-04-09T11:04:29.557274Z",
     "shell.execute_reply": "2021-04-09T11:04:29.556549Z"
    },
    "papermill": {
     "duration": 83.843844,
     "end_time": "2021-04-09T11:04:29.557442",
     "exception": false,
     "start_time": "2021-04-09T11:03:05.713598",
     "status": "completed"
    },
    "tags": []
   },
   "outputs": [],
   "source": [
    "gbc = GradientBoostingClassifier(learning_rate=0.1,max_depth=2,random_state=123,subsample=0.8,n_estimators=600)\n",
    "gbc_fit = gbc.fit(x_train,y_train)"
   ]
  },
  {
   "cell_type": "markdown",
   "id": "digital-secret",
   "metadata": {
    "papermill": {
     "duration": 0.069063,
     "end_time": "2021-04-09T11:04:29.693012",
     "exception": false,
     "start_time": "2021-04-09T11:04:29.623949",
     "status": "completed"
    },
    "tags": []
   },
   "source": [
    "###  Performance metrics : (Cutoff Independent )"
   ]
  },
  {
   "cell_type": "code",
   "execution_count": 36,
   "id": "stupid-margin",
   "metadata": {
    "execution": {
     "iopub.execute_input": "2021-04-09T11:04:29.840430Z",
     "iopub.status.busy": "2021-04-09T11:04:29.839272Z",
     "iopub.status.idle": "2021-04-09T11:04:29.888715Z",
     "shell.execute_reply": "2021-04-09T11:04:29.888168Z"
    },
    "papermill": {
     "duration": 0.129446,
     "end_time": "2021-04-09T11:04:29.888896",
     "exception": false,
     "start_time": "2021-04-09T11:04:29.759450",
     "status": "completed"
    },
    "tags": []
   },
   "outputs": [
    {
     "name": "stdout",
     "output_type": "stream",
     "text": [
      "Gradient Boosted Classifier AUC=0.996\n"
     ]
    }
   ],
   "source": [
    "gbc_pred = gbc_fit.predict_proba(x_test)\n",
    "gbc_pred = gbc_pred[:,1]\n",
    "\n",
    "gbc_fpr, gbc_tpr, _ = metrics.roc_curve(y_test,  gbc_pred)\n",
    "gbc_auc = metrics.roc_auc_score(y_test,gbc_pred)\n",
    "\n",
    "result_table = result_table.append({'classifiers':\"Gradient Boosted Classifier\",\n",
    "                                    'fpr':gbc_fpr, \n",
    "                                    'tpr':gbc_tpr, \n",
    "                                    'auc':gbc_auc}, ignore_index=True)\n",
    "\n",
    "\n",
    "print('Gradient Boosted Classifier AUC=%.3f' % (gbc_auc))"
   ]
  },
  {
   "cell_type": "code",
   "execution_count": 37,
   "id": "adjacent-fifty",
   "metadata": {
    "execution": {
     "iopub.execute_input": "2021-04-09T11:04:30.056790Z",
     "iopub.status.busy": "2021-04-09T11:04:30.052929Z",
     "iopub.status.idle": "2021-04-09T11:04:30.224306Z",
     "shell.execute_reply": "2021-04-09T11:04:30.224788Z"
    },
    "papermill": {
     "duration": 0.268859,
     "end_time": "2021-04-09T11:04:30.224985",
     "exception": false,
     "start_time": "2021-04-09T11:04:29.956126",
     "status": "completed"
    },
    "tags": []
   },
   "outputs": [
    {
     "data": {
      "image/png": "[encoded data removed]",
      "text/plain": [
       "<Figure size 432x288 with 1 Axes>"
      ]
     },
     "metadata": {
      "needs_background": "light"
     },
     "output_type": "display_data"
    }
   ],
   "source": [
    "plt.plot([0,1], [0,1], color='black', linestyle='--')\n",
    "plt.plot(lr_fpr,lr_tpr ,label=\"{}, AUC={:.3f}\".format(result_table.loc[0,'classifiers'], result_table.loc[0]['auc']))\n",
    "plt.plot(svc_fpr,svc_tpr ,label=\"{}, AUC={:.3f}\".format(result_table.loc[1,'classifiers'], result_table.loc[1]['auc']))\n",
    "plt.plot(gbc_fpr,gbc_tpr ,label=\"{}, AUC={:.3f}\".format(result_table.loc[2,'classifiers'], result_table.loc[2]['auc']))\n",
    "plt.ylabel('True Positive Rate (Sensitivity)')\n",
    "plt.xlabel('False Positive Rate(1-Specificity)')\n",
    "plt.title('ROC Curve Analysis', fontweight='bold', fontsize=15)\n",
    "plt.legend(prop={'size':10}, loc='lower right')\n",
    "plt.show()"
   ]
  },
  {
   "cell_type": "markdown",
   "id": "annual-browse",
   "metadata": {
    "papermill": {
     "duration": 0.069173,
     "end_time": "2021-04-09T11:04:30.362662",
     "exception": false,
     "start_time": "2021-04-09T11:04:30.293489",
     "status": "completed"
    },
    "tags": []
   },
   "source": [
    "###  Performance metrics : (Cutoff based )"
   ]
  },
  {
   "cell_type": "code",
   "execution_count": 38,
   "id": "recent-neutral",
   "metadata": {
    "execution": {
     "iopub.execute_input": "2021-04-09T11:04:30.511509Z",
     "iopub.status.busy": "2021-04-09T11:04:30.510757Z",
     "iopub.status.idle": "2021-04-09T11:04:30.570437Z",
     "shell.execute_reply": "2021-04-09T11:04:30.571021Z"
    },
    "papermill": {
     "duration": 0.13839,
     "end_time": "2021-04-09T11:04:30.571222",
     "exception": false,
     "start_time": "2021-04-09T11:04:30.432832",
     "status": "completed"
    },
    "tags": []
   },
   "outputs": [
    {
     "name": "stdout",
     "output_type": "stream",
     "text": [
      "              precision    recall  f1-score   support\n",
      "\n",
      "  Fin.Stable       0.99      0.96      0.97      2178\n",
      "Fin.Unstable       0.96      0.99      0.97      2178\n",
      "\n",
      "    accuracy                           0.97      4356\n",
      "   macro avg       0.97      0.97      0.97      4356\n",
      "weighted avg       0.97      0.97      0.97      4356\n",
      "\n",
      "Confusion Matrix : \n",
      " [[2080   98]\n",
      " [  23 2155]]\n"
     ]
    }
   ],
   "source": [
    "yhat = gbc_fit.predict(x_test)\n",
    "label = ['Fin.Stable', 'Fin.Unstable']\n",
    "report = metrics.classification_report(y_test, yhat,target_names=label)\n",
    "\n",
    "print(report)\n",
    "print(\"Confusion Matrix :\", \"\\n\" ,metrics.confusion_matrix(y_test,yhat))"
   ]
  },
  {
   "cell_type": "markdown",
   "id": "official-watson",
   "metadata": {
    "papermill": {
     "duration": 0.067886,
     "end_time": "2021-04-09T11:04:30.709017",
     "exception": false,
     "start_time": "2021-04-09T11:04:30.641131",
     "status": "completed"
    },
    "tags": []
   },
   "source": [
    "##  2.3.2 AdaBoost Classifier"
   ]
  },
  {
   "cell_type": "code",
   "execution_count": 39,
   "id": "breathing-landscape",
   "metadata": {
    "execution": {
     "iopub.execute_input": "2021-04-09T11:04:30.854314Z",
     "iopub.status.busy": "2021-04-09T11:04:30.853600Z",
     "iopub.status.idle": "2021-04-09T11:05:24.444516Z",
     "shell.execute_reply": "2021-04-09T11:05:24.443848Z"
    },
    "papermill": {
     "duration": 53.667725,
     "end_time": "2021-04-09T11:05:24.444701",
     "exception": false,
     "start_time": "2021-04-09T11:04:30.776976",
     "status": "completed"
    },
    "tags": []
   },
   "outputs": [],
   "source": [
    "abc = AdaBoostClassifier(n_estimators=500,random_state=123,learning_rate=0.3)\n",
    "abc_fit = abc.fit(x_train,y_train)"
   ]
  },
  {
   "cell_type": "markdown",
   "id": "fewer-modification",
   "metadata": {
    "papermill": {
     "duration": 0.069113,
     "end_time": "2021-04-09T11:05:24.582428",
     "exception": false,
     "start_time": "2021-04-09T11:05:24.513315",
     "status": "completed"
    },
    "tags": []
   },
   "source": [
    "###  Performance metrics : (Cutoff Independent )"
   ]
  },
  {
   "cell_type": "code",
   "execution_count": 40,
   "id": "unlike-legislation",
   "metadata": {
    "execution": {
     "iopub.execute_input": "2021-04-09T11:05:24.730101Z",
     "iopub.status.busy": "2021-04-09T11:05:24.729369Z",
     "iopub.status.idle": "2021-04-09T11:05:25.397668Z",
     "shell.execute_reply": "2021-04-09T11:05:25.396524Z"
    },
    "papermill": {
     "duration": 0.746008,
     "end_time": "2021-04-09T11:05:25.397844",
     "exception": false,
     "start_time": "2021-04-09T11:05:24.651836",
     "status": "completed"
    },
    "tags": []
   },
   "outputs": [
    {
     "name": "stdout",
     "output_type": "stream",
     "text": [
      "Ada Boosted Classifier AUC=0.992\n"
     ]
    }
   ],
   "source": [
    "abc_pred = abc_fit.predict_proba(x_test)\n",
    "abc_pred = abc_pred[:,1]\n",
    "\n",
    "abc_fpr, abc_tpr, _ = metrics.roc_curve(y_test,  abc_pred)\n",
    "abc_auc = metrics.roc_auc_score(y_test,abc_pred)\n",
    "\n",
    "result_table = result_table.append({'classifiers':\"Ada Boosted Classifier\",\n",
    "                                    'fpr':abc_fpr, \n",
    "                                    'tpr':abc_tpr, \n",
    "                                    'auc':abc_auc}, ignore_index=True)\n",
    "\n",
    "print('Ada Boosted Classifier AUC=%.3f' % (abc_auc))"
   ]
  },
  {
   "cell_type": "code",
   "execution_count": 41,
   "id": "comparative-accessory",
   "metadata": {
    "execution": {
     "iopub.execute_input": "2021-04-09T11:05:25.574457Z",
     "iopub.status.busy": "2021-04-09T11:05:25.569523Z",
     "iopub.status.idle": "2021-04-09T11:05:25.754859Z",
     "shell.execute_reply": "2021-04-09T11:05:25.753861Z"
    },
    "papermill": {
     "duration": 0.288182,
     "end_time": "2021-04-09T11:05:25.755012",
     "exception": false,
     "start_time": "2021-04-09T11:05:25.466830",
     "status": "completed"
    },
    "tags": []
   },
   "outputs": [
    {
     "data": {
      "image/png": "[encoded data removed]",
      "text/plain": [
       "<Figure size 432x288 with 1 Axes>"
      ]
     },
     "metadata": {
      "needs_background": "light"
     },
     "output_type": "display_data"
    }
   ],
   "source": [
    "plt.plot([0,1], [0,1], color='black', linestyle='--')\n",
    "plt.plot(lr_fpr,lr_tpr ,label=\"{}, AUC={:.3f}\".format(result_table.loc[0,'classifiers'], result_table.loc[0]['auc']))\n",
    "plt.plot(svc_fpr,svc_tpr ,label=\"{}, AUC={:.3f}\".format(result_table.loc[1,'classifiers'], result_table.loc[1]['auc']))\n",
    "plt.plot(gbc_fpr,gbc_tpr ,label=\"{}, AUC={:.3f}\".format(result_table.loc[2,'classifiers'], result_table.loc[2]['auc']))\n",
    "plt.plot(abc_fpr,abc_tpr ,label=\"{}, AUC={:.3f}\".format(result_table.loc[3,'classifiers'], result_table.loc[3]['auc']))\n",
    "plt.ylabel('True Positive Rate (Sensitivity)')\n",
    "plt.xlabel('False Positive Rate(1-Specificity)')\n",
    "plt.title('ROC Curve Analysis', fontweight='bold', fontsize=15)\n",
    "plt.legend(prop={'size':8}, loc='lower right')\n",
    "plt.show()"
   ]
  },
  {
   "cell_type": "markdown",
   "id": "loving-connectivity",
   "metadata": {
    "papermill": {
     "duration": 0.070576,
     "end_time": "2021-04-09T11:05:25.895608",
     "exception": false,
     "start_time": "2021-04-09T11:05:25.825032",
     "status": "completed"
    },
    "tags": []
   },
   "source": [
    "###  Performance metrics : (Cutoff Based )"
   ]
  },
  {
   "cell_type": "code",
   "execution_count": 42,
   "id": "clinical-assistant",
   "metadata": {
    "execution": {
     "iopub.execute_input": "2021-04-09T11:05:26.050023Z",
     "iopub.status.busy": "2021-04-09T11:05:26.048907Z",
     "iopub.status.idle": "2021-04-09T11:05:26.726861Z",
     "shell.execute_reply": "2021-04-09T11:05:26.725856Z"
    },
    "papermill": {
     "duration": 0.760826,
     "end_time": "2021-04-09T11:05:26.727028",
     "exception": false,
     "start_time": "2021-04-09T11:05:25.966202",
     "status": "completed"
    },
    "tags": []
   },
   "outputs": [
    {
     "name": "stdout",
     "output_type": "stream",
     "text": [
      "              precision    recall  f1-score   support\n",
      "\n",
      "  Fin.Stable       0.98      0.94      0.96      2178\n",
      "Fin.Unstable       0.94      0.98      0.96      2178\n",
      "\n",
      "    accuracy                           0.96      4356\n",
      "   macro avg       0.96      0.96      0.96      4356\n",
      "weighted avg       0.96      0.96      0.96      4356\n",
      "\n",
      "Confusion Matrix : \n",
      " [[2053  125]\n",
      " [  43 2135]]\n"
     ]
    }
   ],
   "source": [
    "yhat = abc_fit.predict(x_test)\n",
    "label = ['Fin.Stable', 'Fin.Unstable']\n",
    "report = metrics.classification_report(y_test, yhat,target_names=label)\n",
    "\n",
    "print(report)\n",
    "print(\"Confusion Matrix :\", \"\\n\" ,metrics.confusion_matrix(y_test,yhat))"
   ]
  },
  {
   "cell_type": "markdown",
   "id": "absent-investigator",
   "metadata": {
    "papermill": {
     "duration": 0.071222,
     "end_time": "2021-04-09T11:05:26.869989",
     "exception": false,
     "start_time": "2021-04-09T11:05:26.798767",
     "status": "completed"
    },
    "tags": []
   },
   "source": [
    "## Final Comment : \n",
    "- Best Model for the data: Gradient Boosted Tree\n",
    "- GBC predicts with following score on test dataset\n",
    "  - 96% accuracy \n",
    "  - 99.5% AUC\n",
    "  - 97% f1 score  "
   ]
  },
  {
   "cell_type": "markdown",
   "id": "dominant-train",
   "metadata": {
    "papermill": {
     "duration": 0.070826,
     "end_time": "2021-04-09T11:05:27.012458",
     "exception": false,
     "start_time": "2021-04-09T11:05:26.941632",
     "status": "completed"
    },
    "tags": []
   },
   "source": [
    "### Feature Importance"
   ]
  },
  {
   "cell_type": "code",
   "execution_count": 43,
   "id": "efficient-scope",
   "metadata": {
    "execution": {
     "iopub.execute_input": "2021-04-09T11:05:27.165846Z",
     "iopub.status.busy": "2021-04-09T11:05:27.165154Z",
     "iopub.status.idle": "2021-04-09T11:05:29.543988Z",
     "shell.execute_reply": "2021-04-09T11:05:29.544757Z"
    },
    "papermill": {
     "duration": 2.459809,
     "end_time": "2021-04-09T11:05:29.544968",
     "exception": false,
     "start_time": "2021-04-09T11:05:27.085159",
     "status": "completed"
    },
    "tags": []
   },
   "outputs": [
    {
     "data": {
      "text/plain": [
       "<AxesSubplot:xlabel='Importance', ylabel='Features'>"
      ]
     },
     "execution_count": 43,
     "metadata": {},
     "output_type": "execute_result"
    },
    {
     "data": {
      "image/png": "[encoded data removed]",
      "text/plain": [
       "<Figure size 1440x1440 with 1 Axes>"
      ]
     },
     "metadata": {
      "needs_background": "light"
     },
     "output_type": "display_data"
    }
   ],
   "source": [
    "var_imp = pd.concat([pd.DataFrame(X_scaled_pruned.columns),pd.DataFrame(np.transpose(gbc_fit.feature_importances_))],axis=1)\n",
    "var_imp.columns = ['Features', 'Importance']\n",
    "var_imp = var_imp.sort_values('Importance',ascending = False)\n",
    "plt.figure(figsize=(20,20))\n",
    "sns.barplot(y= 'Features',x= 'Importance',data= var_imp,orient='h')"
   ]
  }
 ],
 "metadata": {
  "kernelspec": {
   "display_name": "Python 3",
   "language": "python",
   "name": "python3"
  },
  "language_info": {
   "codemirror_mode": {
    "name": "ipython",
    "version": 3
   },
   "file_extension": ".py",
   "mimetype": "text/x-python",
   "name": "python",
   "nbconvert_exporter": "python",
   "pygments_lexer": "ipython3",
   "version": "3.7.9"
  },
  "papermill": {
   "default_parameters": {},
   "duration": 259.667174,
   "end_time": "2021-04-09T11:05:30.435453",
   "environment_variables": {},
   "exception": null,
   "input_path": "__notebook__.ipynb",
   "output_path": "__notebook__.ipynb",
   "parameters": {},
   "start_time": "2021-04-09T11:01:10.768279",
   "version": "2.3.2"
  }
 },
 "nbformat": 4,
 "nbformat_minor": 5
}
