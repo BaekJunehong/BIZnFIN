{
 "cells": [
  {
   "cell_type": "markdown",
   "id": "f8ef57aa",
   "metadata": {},
   "source": [
    "# 준홍 kaggle 3번째 코드  "
   ]
  },
  {
   "cell_type": "markdown",
   "id": "7c350b08",
   "metadata": {},
   "source": [
    "## 참고코드"
   ]
  },
  {
   "cell_type": "markdown",
   "id": "81816f67",
   "metadata": {},
   "source": [
    "https://www.kaggle.com/code/jiunkailee/company-bankruptcy-prediction-dt-rf-knn-nn"
   ]
  },
  {
   "cell_type": "markdown",
   "id": "c5c1932a",
   "metadata": {},
   "source": [
    "### kick point  \n",
    "- density plot\n",
    "- smote\n",
    "- zscore\n",
    "- confusion matrix(오차행렬 or 혼동행렬)"
   ]
  },
  {
   "cell_type": "markdown",
   "id": "9d05863d",
   "metadata": {
    "papermill": {
     "duration": 0.009664,
     "end_time": "2022-10-16T01:46:31.254994",
     "exception": false,
     "start_time": "2022-10-16T01:46:31.245330",
     "status": "completed"
    },
    "tags": []
   },
   "source": [
    "# import all the necessary libraries"
   ]
  },
  {
   "cell_type": "code",
   "execution_count": 2,
   "id": "71938c07",
   "metadata": {
    "execution": {
     "iopub.execute_input": "2022-10-16T01:46:31.278855Z",
     "iopub.status.busy": "2022-10-16T01:46:31.278081Z",
     "iopub.status.idle": "2022-10-16T01:46:32.965671Z",
     "shell.execute_reply": "2022-10-16T01:46:32.964421Z"
    },
    "papermill": {
     "duration": 1.703608,
     "end_time": "2022-10-16T01:46:32.968490",
     "exception": false,
     "start_time": "2022-10-16T01:46:31.264882",
     "status": "completed"
    },
    "tags": []
   },
   "outputs": [],
   "source": [
    "import pandas as pd\n",
    "import matplotlib.pyplot as plt\n",
    "import seaborn as sns\n",
    "from sklearn.model_selection import train_test_split \n",
    "from imblearn.over_sampling import SMOTE\n",
    "from scipy import stats\n",
    "from sklearn import linear_model\n",
    "from sklearn.metrics import confusion_matrix\n",
    "from sklearn import tree\n",
    "from sklearn import ensemble\n",
    "from sklearn import neural_network\n",
    "import scikitplot as skplt\n",
    "from sklearn.neighbors import KNeighborsClassifier\n",
    "from sklearn import metrics"
   ]
  },
  {
   "cell_type": "markdown",
   "id": "9fe581ee",
   "metadata": {
    "papermill": {
     "duration": 0.00988,
     "end_time": "2022-10-16T01:46:32.989098",
     "exception": false,
     "start_time": "2022-10-16T01:46:32.979218",
     "status": "completed"
    },
    "tags": []
   },
   "source": [
    "# read csv and set to display all columns"
   ]
  },
  {
   "cell_type": "code",
   "execution_count": 3,
   "id": "9b685cd0",
   "metadata": {
    "execution": {
     "iopub.execute_input": "2022-10-16T01:46:33.011129Z",
     "iopub.status.busy": "2022-10-16T01:46:33.010721Z",
     "iopub.status.idle": "2022-10-16T01:46:33.341926Z",
     "shell.execute_reply": "2022-10-16T01:46:33.340892Z"
    },
    "papermill": {
     "duration": 0.345453,
     "end_time": "2022-10-16T01:46:33.344687",
     "exception": false,
     "start_time": "2022-10-16T01:46:32.999234",
     "status": "completed"
    },
    "tags": []
   },
   "outputs": [],
   "source": [
    "df = pd.read_csv(\"../input/company-bankruptcy-prediction/data.csv\")\n",
    "pd.set_option('display.max_columns', None)"
   ]
  },
  {
   "cell_type": "markdown",
   "id": "428b432e",
   "metadata": {
    "papermill": {
     "duration": 0.00987,
     "end_time": "2022-10-16T01:46:33.364870",
     "exception": false,
     "start_time": "2022-10-16T01:46:33.355000",
     "status": "completed"
    },
    "tags": []
   },
   "source": [
    "# drop all na"
   ]
  },
  {
   "cell_type": "code",
   "execution_count": 4,
   "id": "9341df82",
   "metadata": {
    "execution": {
     "iopub.execute_input": "2022-10-16T01:46:33.386740Z",
     "iopub.status.busy": "2022-10-16T01:46:33.386315Z",
     "iopub.status.idle": "2022-10-16T01:46:33.404061Z",
     "shell.execute_reply": "2022-10-16T01:46:33.403058Z"
    },
    "papermill": {
     "duration": 0.031758,
     "end_time": "2022-10-16T01:46:33.406726",
     "exception": false,
     "start_time": "2022-10-16T01:46:33.374968",
     "status": "completed"
    },
    "tags": []
   },
   "outputs": [],
   "source": [
    "df = df.dropna()"
   ]
  },
  {
   "cell_type": "code",
   "execution_count": 5,
   "id": "8c6ce527",
   "metadata": {
    "execution": {
     "iopub.execute_input": "2022-10-16T01:46:33.429086Z",
     "iopub.status.busy": "2022-10-16T01:46:33.428289Z",
     "iopub.status.idle": "2022-10-16T01:46:33.513835Z",
     "shell.execute_reply": "2022-10-16T01:46:33.512696Z"
    },
    "papermill": {
     "duration": 0.100708,
     "end_time": "2022-10-16T01:46:33.517580",
     "exception": false,
     "start_time": "2022-10-16T01:46:33.416872",
     "status": "completed"
    },
    "tags": []
   },
   "outputs": [
    {
     "data": {
      "text/html": [
       "<div>\n",
       "<style scoped>\n",
       "    .dataframe tbody tr th:only-of-type {\n",
       "        vertical-align: middle;\n",
       "    }\n",
       "\n",
       "    .dataframe tbody tr th {\n",
       "        vertical-align: top;\n",
       "    }\n",
       "\n",
       "    .dataframe thead th {\n",
       "        text-align: right;\n",
       "    }\n",
       "</style>\n",
       "<table border=\"1\" class=\"dataframe\">\n",
       "  <thead>\n",
       "    <tr style=\"text-align: right;\">\n",
       "      <th></th>\n",
       "      <th>Bankrupt?</th>\n",
       "      <th>ROA(C) before interest and depreciation before interest</th>\n",
       "      <th>ROA(A) before interest and % after tax</th>\n",
       "      <th>ROA(B) before interest and depreciation after tax</th>\n",
       "      <th>Operating Gross Margin</th>\n",
       "      <th>Realized Sales Gross Margin</th>\n",
       "      <th>Operating Profit Rate</th>\n",
       "      <th>Pre-tax net Interest Rate</th>\n",
       "      <th>After-tax net Interest Rate</th>\n",
       "      <th>Non-industry income and expenditure/revenue</th>\n",
       "      <th>Continuous interest rate (after tax)</th>\n",
       "      <th>Operating Expense Rate</th>\n",
       "      <th>Research and development expense rate</th>\n",
       "      <th>Cash flow rate</th>\n",
       "      <th>Interest-bearing debt interest rate</th>\n",
       "      <th>Tax rate (A)</th>\n",
       "      <th>Net Value Per Share (B)</th>\n",
       "      <th>Net Value Per Share (A)</th>\n",
       "      <th>Net Value Per Share (C)</th>\n",
       "      <th>Persistent EPS in the Last Four Seasons</th>\n",
       "      <th>Cash Flow Per Share</th>\n",
       "      <th>Revenue Per Share (Yuan ¥)</th>\n",
       "      <th>Operating Profit Per Share (Yuan ¥)</th>\n",
       "      <th>Per Share Net profit before tax (Yuan ¥)</th>\n",
       "      <th>Realized Sales Gross Profit Growth Rate</th>\n",
       "      <th>Operating Profit Growth Rate</th>\n",
       "      <th>After-tax Net Profit Growth Rate</th>\n",
       "      <th>Regular Net Profit Growth Rate</th>\n",
       "      <th>Continuous Net Profit Growth Rate</th>\n",
       "      <th>Total Asset Growth Rate</th>\n",
       "      <th>Net Value Growth Rate</th>\n",
       "      <th>Total Asset Return Growth Rate Ratio</th>\n",
       "      <th>Cash Reinvestment %</th>\n",
       "      <th>Current Ratio</th>\n",
       "      <th>Quick Ratio</th>\n",
       "      <th>Interest Expense Ratio</th>\n",
       "      <th>Total debt/Total net worth</th>\n",
       "      <th>Debt ratio %</th>\n",
       "      <th>Net worth/Assets</th>\n",
       "      <th>Long-term fund suitability ratio (A)</th>\n",
       "      <th>Borrowing dependency</th>\n",
       "      <th>Contingent liabilities/Net worth</th>\n",
       "      <th>Operating profit/Paid-in capital</th>\n",
       "      <th>Net profit before tax/Paid-in capital</th>\n",
       "      <th>Inventory and accounts receivable/Net value</th>\n",
       "      <th>Total Asset Turnover</th>\n",
       "      <th>Accounts Receivable Turnover</th>\n",
       "      <th>Average Collection Days</th>\n",
       "      <th>Inventory Turnover Rate (times)</th>\n",
       "      <th>Fixed Assets Turnover Frequency</th>\n",
       "      <th>Net Worth Turnover Rate (times)</th>\n",
       "      <th>Revenue per person</th>\n",
       "      <th>Operating profit per person</th>\n",
       "      <th>Allocation rate per person</th>\n",
       "      <th>Working Capital to Total Assets</th>\n",
       "      <th>Quick Assets/Total Assets</th>\n",
       "      <th>Current Assets/Total Assets</th>\n",
       "      <th>Cash/Total Assets</th>\n",
       "      <th>Quick Assets/Current Liability</th>\n",
       "      <th>Cash/Current Liability</th>\n",
       "      <th>Current Liability to Assets</th>\n",
       "      <th>Operating Funds to Liability</th>\n",
       "      <th>Inventory/Working Capital</th>\n",
       "      <th>Inventory/Current Liability</th>\n",
       "      <th>Current Liabilities/Liability</th>\n",
       "      <th>Working Capital/Equity</th>\n",
       "      <th>Current Liabilities/Equity</th>\n",
       "      <th>Long-term Liability to Current Assets</th>\n",
       "      <th>Retained Earnings to Total Assets</th>\n",
       "      <th>Total income/Total expense</th>\n",
       "      <th>Total expense/Assets</th>\n",
       "      <th>Current Asset Turnover Rate</th>\n",
       "      <th>Quick Asset Turnover Rate</th>\n",
       "      <th>Working capitcal Turnover Rate</th>\n",
       "      <th>Cash Turnover Rate</th>\n",
       "      <th>Cash Flow to Sales</th>\n",
       "      <th>Fixed Assets to Assets</th>\n",
       "      <th>Current Liability to Liability</th>\n",
       "      <th>Current Liability to Equity</th>\n",
       "      <th>Equity to Long-term Liability</th>\n",
       "      <th>Cash Flow to Total Assets</th>\n",
       "      <th>Cash Flow to Liability</th>\n",
       "      <th>CFO to Assets</th>\n",
       "      <th>Cash Flow to Equity</th>\n",
       "      <th>Current Liability to Current Assets</th>\n",
       "      <th>Liability-Assets Flag</th>\n",
       "      <th>Net Income to Total Assets</th>\n",
       "      <th>Total assets to GNP price</th>\n",
       "      <th>No-credit Interval</th>\n",
       "      <th>Gross Profit to Sales</th>\n",
       "      <th>Net Income to Stockholder's Equity</th>\n",
       "      <th>Liability to Equity</th>\n",
       "      <th>Degree of Financial Leverage (DFL)</th>\n",
       "      <th>Interest Coverage Ratio (Interest expense to EBIT)</th>\n",
       "      <th>Net Income Flag</th>\n",
       "      <th>Equity to Liability</th>\n",
       "    </tr>\n",
       "  </thead>\n",
       "  <tbody>\n",
       "    <tr>\n",
       "      <th>0</th>\n",
       "      <td>1</td>\n",
       "      <td>0.370594</td>\n",
       "      <td>0.424389</td>\n",
       "      <td>0.405750</td>\n",
       "      <td>0.601457</td>\n",
       "      <td>0.601457</td>\n",
       "      <td>0.998969</td>\n",
       "      <td>0.796887</td>\n",
       "      <td>0.808809</td>\n",
       "      <td>0.302646</td>\n",
       "      <td>0.780985</td>\n",
       "      <td>1.256969e-04</td>\n",
       "      <td>0.0</td>\n",
       "      <td>0.458143</td>\n",
       "      <td>0.000725</td>\n",
       "      <td>0.0</td>\n",
       "      <td>0.147950</td>\n",
       "      <td>0.147950</td>\n",
       "      <td>0.147950</td>\n",
       "      <td>0.169141</td>\n",
       "      <td>0.311664</td>\n",
       "      <td>0.017560</td>\n",
       "      <td>0.095921</td>\n",
       "      <td>0.138736</td>\n",
       "      <td>0.022102</td>\n",
       "      <td>0.848195</td>\n",
       "      <td>0.688979</td>\n",
       "      <td>0.688979</td>\n",
       "      <td>0.217535</td>\n",
       "      <td>4.980000e+09</td>\n",
       "      <td>0.000327</td>\n",
       "      <td>0.263100</td>\n",
       "      <td>0.363725</td>\n",
       "      <td>0.002259</td>\n",
       "      <td>0.001208</td>\n",
       "      <td>0.629951</td>\n",
       "      <td>0.021266</td>\n",
       "      <td>0.207576</td>\n",
       "      <td>0.792424</td>\n",
       "      <td>0.005024</td>\n",
       "      <td>0.390284</td>\n",
       "      <td>0.006479</td>\n",
       "      <td>0.095885</td>\n",
       "      <td>0.137757</td>\n",
       "      <td>0.398036</td>\n",
       "      <td>0.086957</td>\n",
       "      <td>0.001814</td>\n",
       "      <td>0.003487</td>\n",
       "      <td>1.820926e-04</td>\n",
       "      <td>1.165007e-04</td>\n",
       "      <td>0.032903</td>\n",
       "      <td>0.034164</td>\n",
       "      <td>0.392913</td>\n",
       "      <td>0.037135</td>\n",
       "      <td>0.672775</td>\n",
       "      <td>0.166673</td>\n",
       "      <td>0.190643</td>\n",
       "      <td>0.004094</td>\n",
       "      <td>0.001997</td>\n",
       "      <td>1.473360e-04</td>\n",
       "      <td>0.147308</td>\n",
       "      <td>0.334015</td>\n",
       "      <td>0.276920</td>\n",
       "      <td>0.001036</td>\n",
       "      <td>0.676269</td>\n",
       "      <td>0.721275</td>\n",
       "      <td>0.339077</td>\n",
       "      <td>0.025592</td>\n",
       "      <td>0.903225</td>\n",
       "      <td>0.002022</td>\n",
       "      <td>0.064856</td>\n",
       "      <td>7.010000e+08</td>\n",
       "      <td>6.550000e+09</td>\n",
       "      <td>0.593831</td>\n",
       "      <td>4.580000e+08</td>\n",
       "      <td>0.671568</td>\n",
       "      <td>0.424206</td>\n",
       "      <td>0.676269</td>\n",
       "      <td>0.339077</td>\n",
       "      <td>0.126549</td>\n",
       "      <td>0.637555</td>\n",
       "      <td>0.458609</td>\n",
       "      <td>0.520382</td>\n",
       "      <td>0.312905</td>\n",
       "      <td>0.118250</td>\n",
       "      <td>0</td>\n",
       "      <td>0.716845</td>\n",
       "      <td>0.009219</td>\n",
       "      <td>0.622879</td>\n",
       "      <td>0.601453</td>\n",
       "      <td>0.827890</td>\n",
       "      <td>0.290202</td>\n",
       "      <td>0.026601</td>\n",
       "      <td>0.564050</td>\n",
       "      <td>1</td>\n",
       "      <td>0.016469</td>\n",
       "    </tr>\n",
       "    <tr>\n",
       "      <th>1</th>\n",
       "      <td>1</td>\n",
       "      <td>0.464291</td>\n",
       "      <td>0.538214</td>\n",
       "      <td>0.516730</td>\n",
       "      <td>0.610235</td>\n",
       "      <td>0.610235</td>\n",
       "      <td>0.998946</td>\n",
       "      <td>0.797380</td>\n",
       "      <td>0.809301</td>\n",
       "      <td>0.303556</td>\n",
       "      <td>0.781506</td>\n",
       "      <td>2.897851e-04</td>\n",
       "      <td>0.0</td>\n",
       "      <td>0.461867</td>\n",
       "      <td>0.000647</td>\n",
       "      <td>0.0</td>\n",
       "      <td>0.182251</td>\n",
       "      <td>0.182251</td>\n",
       "      <td>0.182251</td>\n",
       "      <td>0.208944</td>\n",
       "      <td>0.318137</td>\n",
       "      <td>0.021144</td>\n",
       "      <td>0.093722</td>\n",
       "      <td>0.169918</td>\n",
       "      <td>0.022080</td>\n",
       "      <td>0.848088</td>\n",
       "      <td>0.689693</td>\n",
       "      <td>0.689702</td>\n",
       "      <td>0.217620</td>\n",
       "      <td>6.110000e+09</td>\n",
       "      <td>0.000443</td>\n",
       "      <td>0.264516</td>\n",
       "      <td>0.376709</td>\n",
       "      <td>0.006016</td>\n",
       "      <td>0.004039</td>\n",
       "      <td>0.635172</td>\n",
       "      <td>0.012502</td>\n",
       "      <td>0.171176</td>\n",
       "      <td>0.828824</td>\n",
       "      <td>0.005059</td>\n",
       "      <td>0.376760</td>\n",
       "      <td>0.005835</td>\n",
       "      <td>0.093743</td>\n",
       "      <td>0.168962</td>\n",
       "      <td>0.397725</td>\n",
       "      <td>0.064468</td>\n",
       "      <td>0.001286</td>\n",
       "      <td>0.004917</td>\n",
       "      <td>9.360000e+09</td>\n",
       "      <td>7.190000e+08</td>\n",
       "      <td>0.025484</td>\n",
       "      <td>0.006889</td>\n",
       "      <td>0.391590</td>\n",
       "      <td>0.012335</td>\n",
       "      <td>0.751111</td>\n",
       "      <td>0.127236</td>\n",
       "      <td>0.182419</td>\n",
       "      <td>0.014948</td>\n",
       "      <td>0.004136</td>\n",
       "      <td>1.383910e-03</td>\n",
       "      <td>0.056963</td>\n",
       "      <td>0.341106</td>\n",
       "      <td>0.289642</td>\n",
       "      <td>0.005210</td>\n",
       "      <td>0.308589</td>\n",
       "      <td>0.731975</td>\n",
       "      <td>0.329740</td>\n",
       "      <td>0.023947</td>\n",
       "      <td>0.931065</td>\n",
       "      <td>0.002226</td>\n",
       "      <td>0.025516</td>\n",
       "      <td>1.065198e-04</td>\n",
       "      <td>7.700000e+09</td>\n",
       "      <td>0.593916</td>\n",
       "      <td>2.490000e+09</td>\n",
       "      <td>0.671570</td>\n",
       "      <td>0.468828</td>\n",
       "      <td>0.308589</td>\n",
       "      <td>0.329740</td>\n",
       "      <td>0.120916</td>\n",
       "      <td>0.641100</td>\n",
       "      <td>0.459001</td>\n",
       "      <td>0.567101</td>\n",
       "      <td>0.314163</td>\n",
       "      <td>0.047775</td>\n",
       "      <td>0</td>\n",
       "      <td>0.795297</td>\n",
       "      <td>0.008323</td>\n",
       "      <td>0.623652</td>\n",
       "      <td>0.610237</td>\n",
       "      <td>0.839969</td>\n",
       "      <td>0.283846</td>\n",
       "      <td>0.264577</td>\n",
       "      <td>0.570175</td>\n",
       "      <td>1</td>\n",
       "      <td>0.020794</td>\n",
       "    </tr>\n",
       "    <tr>\n",
       "      <th>2</th>\n",
       "      <td>1</td>\n",
       "      <td>0.426071</td>\n",
       "      <td>0.499019</td>\n",
       "      <td>0.472295</td>\n",
       "      <td>0.601450</td>\n",
       "      <td>0.601364</td>\n",
       "      <td>0.998857</td>\n",
       "      <td>0.796403</td>\n",
       "      <td>0.808388</td>\n",
       "      <td>0.302035</td>\n",
       "      <td>0.780284</td>\n",
       "      <td>2.361297e-04</td>\n",
       "      <td>25500000.0</td>\n",
       "      <td>0.458521</td>\n",
       "      <td>0.000790</td>\n",
       "      <td>0.0</td>\n",
       "      <td>0.177911</td>\n",
       "      <td>0.177911</td>\n",
       "      <td>0.193713</td>\n",
       "      <td>0.180581</td>\n",
       "      <td>0.307102</td>\n",
       "      <td>0.005944</td>\n",
       "      <td>0.092338</td>\n",
       "      <td>0.142803</td>\n",
       "      <td>0.022760</td>\n",
       "      <td>0.848094</td>\n",
       "      <td>0.689463</td>\n",
       "      <td>0.689470</td>\n",
       "      <td>0.217601</td>\n",
       "      <td>7.280000e+09</td>\n",
       "      <td>0.000396</td>\n",
       "      <td>0.264184</td>\n",
       "      <td>0.368913</td>\n",
       "      <td>0.011543</td>\n",
       "      <td>0.005348</td>\n",
       "      <td>0.629631</td>\n",
       "      <td>0.021248</td>\n",
       "      <td>0.207516</td>\n",
       "      <td>0.792484</td>\n",
       "      <td>0.005100</td>\n",
       "      <td>0.379093</td>\n",
       "      <td>0.006562</td>\n",
       "      <td>0.092318</td>\n",
       "      <td>0.148036</td>\n",
       "      <td>0.406580</td>\n",
       "      <td>0.014993</td>\n",
       "      <td>0.001495</td>\n",
       "      <td>0.004227</td>\n",
       "      <td>6.500000e+07</td>\n",
       "      <td>2.650000e+09</td>\n",
       "      <td>0.013387</td>\n",
       "      <td>0.028997</td>\n",
       "      <td>0.381968</td>\n",
       "      <td>0.141016</td>\n",
       "      <td>0.829502</td>\n",
       "      <td>0.340201</td>\n",
       "      <td>0.602806</td>\n",
       "      <td>0.000991</td>\n",
       "      <td>0.006302</td>\n",
       "      <td>5.340000e+09</td>\n",
       "      <td>0.098162</td>\n",
       "      <td>0.336731</td>\n",
       "      <td>0.277456</td>\n",
       "      <td>0.013879</td>\n",
       "      <td>0.446027</td>\n",
       "      <td>0.742729</td>\n",
       "      <td>0.334777</td>\n",
       "      <td>0.003715</td>\n",
       "      <td>0.909903</td>\n",
       "      <td>0.002060</td>\n",
       "      <td>0.021387</td>\n",
       "      <td>1.791094e-03</td>\n",
       "      <td>1.022676e-03</td>\n",
       "      <td>0.594502</td>\n",
       "      <td>7.610000e+08</td>\n",
       "      <td>0.671571</td>\n",
       "      <td>0.276179</td>\n",
       "      <td>0.446027</td>\n",
       "      <td>0.334777</td>\n",
       "      <td>0.117922</td>\n",
       "      <td>0.642765</td>\n",
       "      <td>0.459254</td>\n",
       "      <td>0.538491</td>\n",
       "      <td>0.314515</td>\n",
       "      <td>0.025346</td>\n",
       "      <td>0</td>\n",
       "      <td>0.774670</td>\n",
       "      <td>0.040003</td>\n",
       "      <td>0.623841</td>\n",
       "      <td>0.601449</td>\n",
       "      <td>0.836774</td>\n",
       "      <td>0.290189</td>\n",
       "      <td>0.026555</td>\n",
       "      <td>0.563706</td>\n",
       "      <td>1</td>\n",
       "      <td>0.016474</td>\n",
       "    </tr>\n",
       "    <tr>\n",
       "      <th>3</th>\n",
       "      <td>1</td>\n",
       "      <td>0.399844</td>\n",
       "      <td>0.451265</td>\n",
       "      <td>0.457733</td>\n",
       "      <td>0.583541</td>\n",
       "      <td>0.583541</td>\n",
       "      <td>0.998700</td>\n",
       "      <td>0.796967</td>\n",
       "      <td>0.808966</td>\n",
       "      <td>0.303350</td>\n",
       "      <td>0.781241</td>\n",
       "      <td>1.078888e-04</td>\n",
       "      <td>0.0</td>\n",
       "      <td>0.465705</td>\n",
       "      <td>0.000449</td>\n",
       "      <td>0.0</td>\n",
       "      <td>0.154187</td>\n",
       "      <td>0.154187</td>\n",
       "      <td>0.154187</td>\n",
       "      <td>0.193722</td>\n",
       "      <td>0.321674</td>\n",
       "      <td>0.014368</td>\n",
       "      <td>0.077762</td>\n",
       "      <td>0.148603</td>\n",
       "      <td>0.022046</td>\n",
       "      <td>0.848005</td>\n",
       "      <td>0.689110</td>\n",
       "      <td>0.689110</td>\n",
       "      <td>0.217568</td>\n",
       "      <td>4.880000e+09</td>\n",
       "      <td>0.000382</td>\n",
       "      <td>0.263371</td>\n",
       "      <td>0.384077</td>\n",
       "      <td>0.004194</td>\n",
       "      <td>0.002896</td>\n",
       "      <td>0.630228</td>\n",
       "      <td>0.009572</td>\n",
       "      <td>0.151465</td>\n",
       "      <td>0.848535</td>\n",
       "      <td>0.005047</td>\n",
       "      <td>0.379743</td>\n",
       "      <td>0.005366</td>\n",
       "      <td>0.077727</td>\n",
       "      <td>0.147561</td>\n",
       "      <td>0.397925</td>\n",
       "      <td>0.089955</td>\n",
       "      <td>0.001966</td>\n",
       "      <td>0.003215</td>\n",
       "      <td>7.130000e+09</td>\n",
       "      <td>9.150000e+09</td>\n",
       "      <td>0.028065</td>\n",
       "      <td>0.015463</td>\n",
       "      <td>0.378497</td>\n",
       "      <td>0.021320</td>\n",
       "      <td>0.725754</td>\n",
       "      <td>0.161575</td>\n",
       "      <td>0.225815</td>\n",
       "      <td>0.018851</td>\n",
       "      <td>0.002961</td>\n",
       "      <td>1.010646e-03</td>\n",
       "      <td>0.098715</td>\n",
       "      <td>0.348716</td>\n",
       "      <td>0.276580</td>\n",
       "      <td>0.003540</td>\n",
       "      <td>0.615848</td>\n",
       "      <td>0.729825</td>\n",
       "      <td>0.331509</td>\n",
       "      <td>0.022165</td>\n",
       "      <td>0.906902</td>\n",
       "      <td>0.001831</td>\n",
       "      <td>0.024161</td>\n",
       "      <td>8.140000e+09</td>\n",
       "      <td>6.050000e+09</td>\n",
       "      <td>0.593889</td>\n",
       "      <td>2.030000e+09</td>\n",
       "      <td>0.671519</td>\n",
       "      <td>0.559144</td>\n",
       "      <td>0.615848</td>\n",
       "      <td>0.331509</td>\n",
       "      <td>0.120760</td>\n",
       "      <td>0.579039</td>\n",
       "      <td>0.448518</td>\n",
       "      <td>0.604105</td>\n",
       "      <td>0.302382</td>\n",
       "      <td>0.067250</td>\n",
       "      <td>0</td>\n",
       "      <td>0.739555</td>\n",
       "      <td>0.003252</td>\n",
       "      <td>0.622929</td>\n",
       "      <td>0.583538</td>\n",
       "      <td>0.834697</td>\n",
       "      <td>0.281721</td>\n",
       "      <td>0.026697</td>\n",
       "      <td>0.564663</td>\n",
       "      <td>1</td>\n",
       "      <td>0.023982</td>\n",
       "    </tr>\n",
       "    <tr>\n",
       "      <th>4</th>\n",
       "      <td>1</td>\n",
       "      <td>0.465022</td>\n",
       "      <td>0.538432</td>\n",
       "      <td>0.522298</td>\n",
       "      <td>0.598783</td>\n",
       "      <td>0.598783</td>\n",
       "      <td>0.998973</td>\n",
       "      <td>0.797366</td>\n",
       "      <td>0.809304</td>\n",
       "      <td>0.303475</td>\n",
       "      <td>0.781550</td>\n",
       "      <td>7.890000e+09</td>\n",
       "      <td>0.0</td>\n",
       "      <td>0.462746</td>\n",
       "      <td>0.000686</td>\n",
       "      <td>0.0</td>\n",
       "      <td>0.167502</td>\n",
       "      <td>0.167502</td>\n",
       "      <td>0.167502</td>\n",
       "      <td>0.212537</td>\n",
       "      <td>0.319162</td>\n",
       "      <td>0.029690</td>\n",
       "      <td>0.096898</td>\n",
       "      <td>0.168412</td>\n",
       "      <td>0.022096</td>\n",
       "      <td>0.848258</td>\n",
       "      <td>0.689697</td>\n",
       "      <td>0.689697</td>\n",
       "      <td>0.217626</td>\n",
       "      <td>5.510000e+09</td>\n",
       "      <td>0.000439</td>\n",
       "      <td>0.265218</td>\n",
       "      <td>0.379690</td>\n",
       "      <td>0.006022</td>\n",
       "      <td>0.003727</td>\n",
       "      <td>0.636055</td>\n",
       "      <td>0.005150</td>\n",
       "      <td>0.106509</td>\n",
       "      <td>0.893491</td>\n",
       "      <td>0.005303</td>\n",
       "      <td>0.375025</td>\n",
       "      <td>0.006624</td>\n",
       "      <td>0.096927</td>\n",
       "      <td>0.167461</td>\n",
       "      <td>0.400079</td>\n",
       "      <td>0.175412</td>\n",
       "      <td>0.001449</td>\n",
       "      <td>0.004367</td>\n",
       "      <td>1.633674e-04</td>\n",
       "      <td>2.935211e-04</td>\n",
       "      <td>0.040161</td>\n",
       "      <td>0.058111</td>\n",
       "      <td>0.394371</td>\n",
       "      <td>0.023988</td>\n",
       "      <td>0.751822</td>\n",
       "      <td>0.260330</td>\n",
       "      <td>0.358380</td>\n",
       "      <td>0.014161</td>\n",
       "      <td>0.004275</td>\n",
       "      <td>6.804636e-04</td>\n",
       "      <td>0.110195</td>\n",
       "      <td>0.344639</td>\n",
       "      <td>0.287913</td>\n",
       "      <td>0.004869</td>\n",
       "      <td>0.975007</td>\n",
       "      <td>0.732000</td>\n",
       "      <td>0.330726</td>\n",
       "      <td>0.000000</td>\n",
       "      <td>0.913850</td>\n",
       "      <td>0.002224</td>\n",
       "      <td>0.026385</td>\n",
       "      <td>6.680000e+09</td>\n",
       "      <td>5.050000e+09</td>\n",
       "      <td>0.593915</td>\n",
       "      <td>8.240000e+08</td>\n",
       "      <td>0.671563</td>\n",
       "      <td>0.309555</td>\n",
       "      <td>0.975007</td>\n",
       "      <td>0.330726</td>\n",
       "      <td>0.110933</td>\n",
       "      <td>0.622374</td>\n",
       "      <td>0.454411</td>\n",
       "      <td>0.578469</td>\n",
       "      <td>0.311567</td>\n",
       "      <td>0.047725</td>\n",
       "      <td>0</td>\n",
       "      <td>0.795016</td>\n",
       "      <td>0.003878</td>\n",
       "      <td>0.623521</td>\n",
       "      <td>0.598782</td>\n",
       "      <td>0.839973</td>\n",
       "      <td>0.278514</td>\n",
       "      <td>0.024752</td>\n",
       "      <td>0.575617</td>\n",
       "      <td>1</td>\n",
       "      <td>0.035490</td>\n",
       "    </tr>\n",
       "  </tbody>\n",
       "</table>\n",
       "</div>"
      ],
      "text/plain": [
       "   Bankrupt?   ROA(C) before interest and depreciation before interest  \\\n",
       "0          1                                           0.370594          \n",
       "1          1                                           0.464291          \n",
       "2          1                                           0.426071          \n",
       "3          1                                           0.399844          \n",
       "4          1                                           0.465022          \n",
       "\n",
       "    ROA(A) before interest and % after tax  \\\n",
       "0                                 0.424389   \n",
       "1                                 0.538214   \n",
       "2                                 0.499019   \n",
       "3                                 0.451265   \n",
       "4                                 0.538432   \n",
       "\n",
       "    ROA(B) before interest and depreciation after tax  \\\n",
       "0                                           0.405750    \n",
       "1                                           0.516730    \n",
       "2                                           0.472295    \n",
       "3                                           0.457733    \n",
       "4                                           0.522298    \n",
       "\n",
       "    Operating Gross Margin   Realized Sales Gross Margin  \\\n",
       "0                 0.601457                      0.601457   \n",
       "1                 0.610235                      0.610235   \n",
       "2                 0.601450                      0.601364   \n",
       "3                 0.583541                      0.583541   \n",
       "4                 0.598783                      0.598783   \n",
       "\n",
       "    Operating Profit Rate   Pre-tax net Interest Rate  \\\n",
       "0                0.998969                    0.796887   \n",
       "1                0.998946                    0.797380   \n",
       "2                0.998857                    0.796403   \n",
       "3                0.998700                    0.796967   \n",
       "4                0.998973                    0.797366   \n",
       "\n",
       "    After-tax net Interest Rate   Non-industry income and expenditure/revenue  \\\n",
       "0                      0.808809                                      0.302646   \n",
       "1                      0.809301                                      0.303556   \n",
       "2                      0.808388                                      0.302035   \n",
       "3                      0.808966                                      0.303350   \n",
       "4                      0.809304                                      0.303475   \n",
       "\n",
       "    Continuous interest rate (after tax)   Operating Expense Rate  \\\n",
       "0                               0.780985             1.256969e-04   \n",
       "1                               0.781506             2.897851e-04   \n",
       "2                               0.780284             2.361297e-04   \n",
       "3                               0.781241             1.078888e-04   \n",
       "4                               0.781550             7.890000e+09   \n",
       "\n",
       "    Research and development expense rate   Cash flow rate  \\\n",
       "0                                     0.0         0.458143   \n",
       "1                                     0.0         0.461867   \n",
       "2                              25500000.0         0.458521   \n",
       "3                                     0.0         0.465705   \n",
       "4                                     0.0         0.462746   \n",
       "\n",
       "    Interest-bearing debt interest rate   Tax rate (A)  \\\n",
       "0                              0.000725            0.0   \n",
       "1                              0.000647            0.0   \n",
       "2                              0.000790            0.0   \n",
       "3                              0.000449            0.0   \n",
       "4                              0.000686            0.0   \n",
       "\n",
       "    Net Value Per Share (B)   Net Value Per Share (A)  \\\n",
       "0                  0.147950                  0.147950   \n",
       "1                  0.182251                  0.182251   \n",
       "2                  0.177911                  0.177911   \n",
       "3                  0.154187                  0.154187   \n",
       "4                  0.167502                  0.167502   \n",
       "\n",
       "    Net Value Per Share (C)   Persistent EPS in the Last Four Seasons  \\\n",
       "0                  0.147950                                  0.169141   \n",
       "1                  0.182251                                  0.208944   \n",
       "2                  0.193713                                  0.180581   \n",
       "3                  0.154187                                  0.193722   \n",
       "4                  0.167502                                  0.212537   \n",
       "\n",
       "    Cash Flow Per Share   Revenue Per Share (Yuan ¥)  \\\n",
       "0              0.311664                     0.017560   \n",
       "1              0.318137                     0.021144   \n",
       "2              0.307102                     0.005944   \n",
       "3              0.321674                     0.014368   \n",
       "4              0.319162                     0.029690   \n",
       "\n",
       "    Operating Profit Per Share (Yuan ¥)  \\\n",
       "0                              0.095921   \n",
       "1                              0.093722   \n",
       "2                              0.092338   \n",
       "3                              0.077762   \n",
       "4                              0.096898   \n",
       "\n",
       "    Per Share Net profit before tax (Yuan ¥)  \\\n",
       "0                                   0.138736   \n",
       "1                                   0.169918   \n",
       "2                                   0.142803   \n",
       "3                                   0.148603   \n",
       "4                                   0.168412   \n",
       "\n",
       "    Realized Sales Gross Profit Growth Rate   Operating Profit Growth Rate  \\\n",
       "0                                  0.022102                       0.848195   \n",
       "1                                  0.022080                       0.848088   \n",
       "2                                  0.022760                       0.848094   \n",
       "3                                  0.022046                       0.848005   \n",
       "4                                  0.022096                       0.848258   \n",
       "\n",
       "    After-tax Net Profit Growth Rate   Regular Net Profit Growth Rate  \\\n",
       "0                           0.688979                         0.688979   \n",
       "1                           0.689693                         0.689702   \n",
       "2                           0.689463                         0.689470   \n",
       "3                           0.689110                         0.689110   \n",
       "4                           0.689697                         0.689697   \n",
       "\n",
       "    Continuous Net Profit Growth Rate   Total Asset Growth Rate  \\\n",
       "0                            0.217535              4.980000e+09   \n",
       "1                            0.217620              6.110000e+09   \n",
       "2                            0.217601              7.280000e+09   \n",
       "3                            0.217568              4.880000e+09   \n",
       "4                            0.217626              5.510000e+09   \n",
       "\n",
       "    Net Value Growth Rate   Total Asset Return Growth Rate Ratio  \\\n",
       "0                0.000327                               0.263100   \n",
       "1                0.000443                               0.264516   \n",
       "2                0.000396                               0.264184   \n",
       "3                0.000382                               0.263371   \n",
       "4                0.000439                               0.265218   \n",
       "\n",
       "    Cash Reinvestment %   Current Ratio   Quick Ratio  \\\n",
       "0              0.363725        0.002259      0.001208   \n",
       "1              0.376709        0.006016      0.004039   \n",
       "2              0.368913        0.011543      0.005348   \n",
       "3              0.384077        0.004194      0.002896   \n",
       "4              0.379690        0.006022      0.003727   \n",
       "\n",
       "    Interest Expense Ratio   Total debt/Total net worth   Debt ratio %  \\\n",
       "0                 0.629951                     0.021266       0.207576   \n",
       "1                 0.635172                     0.012502       0.171176   \n",
       "2                 0.629631                     0.021248       0.207516   \n",
       "3                 0.630228                     0.009572       0.151465   \n",
       "4                 0.636055                     0.005150       0.106509   \n",
       "\n",
       "    Net worth/Assets   Long-term fund suitability ratio (A)  \\\n",
       "0           0.792424                               0.005024   \n",
       "1           0.828824                               0.005059   \n",
       "2           0.792484                               0.005100   \n",
       "3           0.848535                               0.005047   \n",
       "4           0.893491                               0.005303   \n",
       "\n",
       "    Borrowing dependency   Contingent liabilities/Net worth  \\\n",
       "0               0.390284                           0.006479   \n",
       "1               0.376760                           0.005835   \n",
       "2               0.379093                           0.006562   \n",
       "3               0.379743                           0.005366   \n",
       "4               0.375025                           0.006624   \n",
       "\n",
       "    Operating profit/Paid-in capital   Net profit before tax/Paid-in capital  \\\n",
       "0                           0.095885                                0.137757   \n",
       "1                           0.093743                                0.168962   \n",
       "2                           0.092318                                0.148036   \n",
       "3                           0.077727                                0.147561   \n",
       "4                           0.096927                                0.167461   \n",
       "\n",
       "    Inventory and accounts receivable/Net value   Total Asset Turnover  \\\n",
       "0                                      0.398036               0.086957   \n",
       "1                                      0.397725               0.064468   \n",
       "2                                      0.406580               0.014993   \n",
       "3                                      0.397925               0.089955   \n",
       "4                                      0.400079               0.175412   \n",
       "\n",
       "    Accounts Receivable Turnover   Average Collection Days  \\\n",
       "0                       0.001814                  0.003487   \n",
       "1                       0.001286                  0.004917   \n",
       "2                       0.001495                  0.004227   \n",
       "3                       0.001966                  0.003215   \n",
       "4                       0.001449                  0.004367   \n",
       "\n",
       "    Inventory Turnover Rate (times)   Fixed Assets Turnover Frequency  \\\n",
       "0                      1.820926e-04                      1.165007e-04   \n",
       "1                      9.360000e+09                      7.190000e+08   \n",
       "2                      6.500000e+07                      2.650000e+09   \n",
       "3                      7.130000e+09                      9.150000e+09   \n",
       "4                      1.633674e-04                      2.935211e-04   \n",
       "\n",
       "    Net Worth Turnover Rate (times)   Revenue per person  \\\n",
       "0                          0.032903             0.034164   \n",
       "1                          0.025484             0.006889   \n",
       "2                          0.013387             0.028997   \n",
       "3                          0.028065             0.015463   \n",
       "4                          0.040161             0.058111   \n",
       "\n",
       "    Operating profit per person   Allocation rate per person  \\\n",
       "0                      0.392913                     0.037135   \n",
       "1                      0.391590                     0.012335   \n",
       "2                      0.381968                     0.141016   \n",
       "3                      0.378497                     0.021320   \n",
       "4                      0.394371                     0.023988   \n",
       "\n",
       "    Working Capital to Total Assets   Quick Assets/Total Assets  \\\n",
       "0                          0.672775                    0.166673   \n",
       "1                          0.751111                    0.127236   \n",
       "2                          0.829502                    0.340201   \n",
       "3                          0.725754                    0.161575   \n",
       "4                          0.751822                    0.260330   \n",
       "\n",
       "    Current Assets/Total Assets   Cash/Total Assets  \\\n",
       "0                      0.190643            0.004094   \n",
       "1                      0.182419            0.014948   \n",
       "2                      0.602806            0.000991   \n",
       "3                      0.225815            0.018851   \n",
       "4                      0.358380            0.014161   \n",
       "\n",
       "    Quick Assets/Current Liability   Cash/Current Liability  \\\n",
       "0                         0.001997             1.473360e-04   \n",
       "1                         0.004136             1.383910e-03   \n",
       "2                         0.006302             5.340000e+09   \n",
       "3                         0.002961             1.010646e-03   \n",
       "4                         0.004275             6.804636e-04   \n",
       "\n",
       "    Current Liability to Assets   Operating Funds to Liability  \\\n",
       "0                      0.147308                       0.334015   \n",
       "1                      0.056963                       0.341106   \n",
       "2                      0.098162                       0.336731   \n",
       "3                      0.098715                       0.348716   \n",
       "4                      0.110195                       0.344639   \n",
       "\n",
       "    Inventory/Working Capital   Inventory/Current Liability  \\\n",
       "0                    0.276920                      0.001036   \n",
       "1                    0.289642                      0.005210   \n",
       "2                    0.277456                      0.013879   \n",
       "3                    0.276580                      0.003540   \n",
       "4                    0.287913                      0.004869   \n",
       "\n",
       "    Current Liabilities/Liability   Working Capital/Equity  \\\n",
       "0                        0.676269                 0.721275   \n",
       "1                        0.308589                 0.731975   \n",
       "2                        0.446027                 0.742729   \n",
       "3                        0.615848                 0.729825   \n",
       "4                        0.975007                 0.732000   \n",
       "\n",
       "    Current Liabilities/Equity   Long-term Liability to Current Assets  \\\n",
       "0                     0.339077                                0.025592   \n",
       "1                     0.329740                                0.023947   \n",
       "2                     0.334777                                0.003715   \n",
       "3                     0.331509                                0.022165   \n",
       "4                     0.330726                                0.000000   \n",
       "\n",
       "    Retained Earnings to Total Assets   Total income/Total expense  \\\n",
       "0                            0.903225                     0.002022   \n",
       "1                            0.931065                     0.002226   \n",
       "2                            0.909903                     0.002060   \n",
       "3                            0.906902                     0.001831   \n",
       "4                            0.913850                     0.002224   \n",
       "\n",
       "    Total expense/Assets   Current Asset Turnover Rate  \\\n",
       "0               0.064856                  7.010000e+08   \n",
       "1               0.025516                  1.065198e-04   \n",
       "2               0.021387                  1.791094e-03   \n",
       "3               0.024161                  8.140000e+09   \n",
       "4               0.026385                  6.680000e+09   \n",
       "\n",
       "    Quick Asset Turnover Rate   Working capitcal Turnover Rate  \\\n",
       "0                6.550000e+09                         0.593831   \n",
       "1                7.700000e+09                         0.593916   \n",
       "2                1.022676e-03                         0.594502   \n",
       "3                6.050000e+09                         0.593889   \n",
       "4                5.050000e+09                         0.593915   \n",
       "\n",
       "    Cash Turnover Rate   Cash Flow to Sales   Fixed Assets to Assets  \\\n",
       "0         4.580000e+08             0.671568                 0.424206   \n",
       "1         2.490000e+09             0.671570                 0.468828   \n",
       "2         7.610000e+08             0.671571                 0.276179   \n",
       "3         2.030000e+09             0.671519                 0.559144   \n",
       "4         8.240000e+08             0.671563                 0.309555   \n",
       "\n",
       "    Current Liability to Liability   Current Liability to Equity  \\\n",
       "0                         0.676269                      0.339077   \n",
       "1                         0.308589                      0.329740   \n",
       "2                         0.446027                      0.334777   \n",
       "3                         0.615848                      0.331509   \n",
       "4                         0.975007                      0.330726   \n",
       "\n",
       "    Equity to Long-term Liability   Cash Flow to Total Assets  \\\n",
       "0                        0.126549                    0.637555   \n",
       "1                        0.120916                    0.641100   \n",
       "2                        0.117922                    0.642765   \n",
       "3                        0.120760                    0.579039   \n",
       "4                        0.110933                    0.622374   \n",
       "\n",
       "    Cash Flow to Liability   CFO to Assets   Cash Flow to Equity  \\\n",
       "0                 0.458609        0.520382              0.312905   \n",
       "1                 0.459001        0.567101              0.314163   \n",
       "2                 0.459254        0.538491              0.314515   \n",
       "3                 0.448518        0.604105              0.302382   \n",
       "4                 0.454411        0.578469              0.311567   \n",
       "\n",
       "    Current Liability to Current Assets   Liability-Assets Flag  \\\n",
       "0                              0.118250                       0   \n",
       "1                              0.047775                       0   \n",
       "2                              0.025346                       0   \n",
       "3                              0.067250                       0   \n",
       "4                              0.047725                       0   \n",
       "\n",
       "    Net Income to Total Assets   Total assets to GNP price  \\\n",
       "0                     0.716845                    0.009219   \n",
       "1                     0.795297                    0.008323   \n",
       "2                     0.774670                    0.040003   \n",
       "3                     0.739555                    0.003252   \n",
       "4                     0.795016                    0.003878   \n",
       "\n",
       "    No-credit Interval   Gross Profit to Sales  \\\n",
       "0             0.622879                0.601453   \n",
       "1             0.623652                0.610237   \n",
       "2             0.623841                0.601449   \n",
       "3             0.622929                0.583538   \n",
       "4             0.623521                0.598782   \n",
       "\n",
       "    Net Income to Stockholder's Equity   Liability to Equity  \\\n",
       "0                             0.827890              0.290202   \n",
       "1                             0.839969              0.283846   \n",
       "2                             0.836774              0.290189   \n",
       "3                             0.834697              0.281721   \n",
       "4                             0.839973              0.278514   \n",
       "\n",
       "    Degree of Financial Leverage (DFL)  \\\n",
       "0                             0.026601   \n",
       "1                             0.264577   \n",
       "2                             0.026555   \n",
       "3                             0.026697   \n",
       "4                             0.024752   \n",
       "\n",
       "    Interest Coverage Ratio (Interest expense to EBIT)   Net Income Flag  \\\n",
       "0                                           0.564050                   1   \n",
       "1                                           0.570175                   1   \n",
       "2                                           0.563706                   1   \n",
       "3                                           0.564663                   1   \n",
       "4                                           0.575617                   1   \n",
       "\n",
       "    Equity to Liability  \n",
       "0              0.016469  \n",
       "1              0.020794  \n",
       "2              0.016474  \n",
       "3              0.023982  \n",
       "4              0.035490  "
      ]
     },
     "execution_count": 5,
     "metadata": {},
     "output_type": "execute_result"
    }
   ],
   "source": [
    "df.head()"
   ]
  },
  {
   "cell_type": "code",
   "execution_count": 6,
   "id": "6e718465",
   "metadata": {
    "execution": {
     "iopub.execute_input": "2022-10-16T01:46:33.543778Z",
     "iopub.status.busy": "2022-10-16T01:46:33.543110Z",
     "iopub.status.idle": "2022-10-16T01:46:33.549339Z",
     "shell.execute_reply": "2022-10-16T01:46:33.548092Z"
    },
    "papermill": {
     "duration": 0.02193,
     "end_time": "2022-10-16T01:46:33.551902",
     "exception": false,
     "start_time": "2022-10-16T01:46:33.529972",
     "status": "completed"
    },
    "tags": []
   },
   "outputs": [
    {
     "name": "stdout",
     "output_type": "stream",
     "text": [
      "Bankrupt?\n",
      " ROA(C) before interest and depreciation before interest\n",
      " ROA(A) before interest and % after tax\n",
      " ROA(B) before interest and depreciation after tax\n",
      " Operating Gross Margin\n",
      " Realized Sales Gross Margin\n",
      " Operating Profit Rate\n",
      " Pre-tax net Interest Rate\n",
      " After-tax net Interest Rate\n",
      " Non-industry income and expenditure/revenue\n",
      " Continuous interest rate (after tax)\n",
      " Operating Expense Rate\n",
      " Research and development expense rate\n",
      " Cash flow rate\n",
      " Interest-bearing debt interest rate\n",
      " Tax rate (A)\n",
      " Net Value Per Share (B)\n",
      " Net Value Per Share (A)\n",
      " Net Value Per Share (C)\n",
      " Persistent EPS in the Last Four Seasons\n",
      " Cash Flow Per Share\n",
      " Revenue Per Share (Yuan ¥)\n",
      " Operating Profit Per Share (Yuan ¥)\n",
      " Per Share Net profit before tax (Yuan ¥)\n",
      " Realized Sales Gross Profit Growth Rate\n",
      " Operating Profit Growth Rate\n",
      " After-tax Net Profit Growth Rate\n",
      " Regular Net Profit Growth Rate\n",
      " Continuous Net Profit Growth Rate\n",
      " Total Asset Growth Rate\n",
      " Net Value Growth Rate\n",
      " Total Asset Return Growth Rate Ratio\n",
      " Cash Reinvestment %\n",
      " Current Ratio\n",
      " Quick Ratio\n",
      " Interest Expense Ratio\n",
      " Total debt/Total net worth\n",
      " Debt ratio %\n",
      " Net worth/Assets\n",
      " Long-term fund suitability ratio (A)\n",
      " Borrowing dependency\n",
      " Contingent liabilities/Net worth\n",
      " Operating profit/Paid-in capital\n",
      " Net profit before tax/Paid-in capital\n",
      " Inventory and accounts receivable/Net value\n",
      " Total Asset Turnover\n",
      " Accounts Receivable Turnover\n",
      " Average Collection Days\n",
      " Inventory Turnover Rate (times)\n",
      " Fixed Assets Turnover Frequency\n",
      " Net Worth Turnover Rate (times)\n",
      " Revenue per person\n",
      " Operating profit per person\n",
      " Allocation rate per person\n",
      " Working Capital to Total Assets\n",
      " Quick Assets/Total Assets\n",
      " Current Assets/Total Assets\n",
      " Cash/Total Assets\n",
      " Quick Assets/Current Liability\n",
      " Cash/Current Liability\n",
      " Current Liability to Assets\n",
      " Operating Funds to Liability\n",
      " Inventory/Working Capital\n",
      " Inventory/Current Liability\n",
      " Current Liabilities/Liability\n",
      " Working Capital/Equity\n",
      " Current Liabilities/Equity\n",
      " Long-term Liability to Current Assets\n",
      " Retained Earnings to Total Assets\n",
      " Total income/Total expense\n",
      " Total expense/Assets\n",
      " Current Asset Turnover Rate\n",
      " Quick Asset Turnover Rate\n",
      " Working capitcal Turnover Rate\n",
      " Cash Turnover Rate\n",
      " Cash Flow to Sales\n",
      " Fixed Assets to Assets\n",
      " Current Liability to Liability\n",
      " Current Liability to Equity\n",
      " Equity to Long-term Liability\n",
      " Cash Flow to Total Assets\n",
      " Cash Flow to Liability\n",
      " CFO to Assets\n",
      " Cash Flow to Equity\n",
      " Current Liability to Current Assets\n",
      " Liability-Assets Flag\n",
      " Net Income to Total Assets\n",
      " Total assets to GNP price\n",
      " No-credit Interval\n",
      " Gross Profit to Sales\n",
      " Net Income to Stockholder's Equity\n",
      " Liability to Equity\n",
      " Degree of Financial Leverage (DFL)\n",
      " Interest Coverage Ratio (Interest expense to EBIT)\n",
      " Net Income Flag\n",
      " Equity to Liability\n"
     ]
    }
   ],
   "source": [
    "for name in df:\n",
    "    print(name)"
   ]
  },
  {
   "cell_type": "markdown",
   "id": "b7d86d5d",
   "metadata": {
    "papermill": {
     "duration": 0.011258,
     "end_time": "2022-10-16T01:46:33.574975",
     "exception": false,
     "start_time": "2022-10-16T01:46:33.563717",
     "status": "completed"
    },
    "tags": []
   },
   "source": [
    "# select only interested features"
   ]
  },
  {
   "cell_type": "code",
   "execution_count": 7,
   "id": "4cb0ea08",
   "metadata": {
    "execution": {
     "iopub.execute_input": "2022-10-16T01:46:33.600423Z",
     "iopub.status.busy": "2022-10-16T01:46:33.599998Z",
     "iopub.status.idle": "2022-10-16T01:46:33.610184Z",
     "shell.execute_reply": "2022-10-16T01:46:33.609191Z"
    },
    "papermill": {
     "duration": 0.026108,
     "end_time": "2022-10-16T01:46:33.612663",
     "exception": false,
     "start_time": "2022-10-16T01:46:33.586555",
     "status": "completed"
    },
    "tags": []
   },
   "outputs": [],
   "source": [
    "df1 = df[[\"Bankrupt?\", \" Net Income to Total Assets\", \" Interest Coverage Ratio (Interest expense to EBIT)\",\n",
    "         \" Cash Flow to Liability\", \" Retained Earnings to Total Assets\", \" Total Asset Growth Rate\", \n",
    "         \" Operating Profit Rate\", \" Cash flow rate\", \" After-tax net Interest Rate\", \" Operating Profit Per Share (Yuan ¥)\",\n",
    "         \" Operating Expense Rate\", \" Cash Flow to Sales\", \" Cash Reinvestment %\", \" Cash Flow Per Share\", \n",
    "         \" CFO to Assets\", \" Cash/Current Liability\"]]"
   ]
  },
  {
   "cell_type": "markdown",
   "id": "e8a3f0ca",
   "metadata": {
    "papermill": {
     "duration": 0.01098,
     "end_time": "2022-10-16T01:46:33.635157",
     "exception": false,
     "start_time": "2022-10-16T01:46:33.624177",
     "status": "completed"
    },
    "tags": []
   },
   "source": [
    "# check the type of all features "
   ]
  },
  {
   "cell_type": "code",
   "execution_count": 8,
   "id": "6e45876f",
   "metadata": {
    "execution": {
     "iopub.execute_input": "2022-10-16T01:46:33.659490Z",
     "iopub.status.busy": "2022-10-16T01:46:33.659106Z",
     "iopub.status.idle": "2022-10-16T01:46:33.668856Z",
     "shell.execute_reply": "2022-10-16T01:46:33.667619Z"
    },
    "papermill": {
     "duration": 0.02476,
     "end_time": "2022-10-16T01:46:33.671271",
     "exception": false,
     "start_time": "2022-10-16T01:46:33.646511",
     "status": "completed"
    },
    "tags": []
   },
   "outputs": [
    {
     "data": {
      "text/plain": [
       "Bankrupt?                                                int64\n",
       " Net Income to Total Assets                            float64\n",
       " Interest Coverage Ratio (Interest expense to EBIT)    float64\n",
       " Cash Flow to Liability                                float64\n",
       " Retained Earnings to Total Assets                     float64\n",
       " Total Asset Growth Rate                               float64\n",
       " Operating Profit Rate                                 float64\n",
       " Cash flow rate                                        float64\n",
       " After-tax net Interest Rate                           float64\n",
       " Operating Profit Per Share (Yuan ¥)                   float64\n",
       " Operating Expense Rate                                float64\n",
       " Cash Flow to Sales                                    float64\n",
       " Cash Reinvestment %                                   float64\n",
       " Cash Flow Per Share                                   float64\n",
       " CFO to Assets                                         float64\n",
       " Cash/Current Liability                                float64\n",
       "dtype: object"
      ]
     },
     "execution_count": 8,
     "metadata": {},
     "output_type": "execute_result"
    }
   ],
   "source": [
    "df1.dtypes"
   ]
  },
  {
   "cell_type": "markdown",
   "id": "baecbe90",
   "metadata": {
    "papermill": {
     "duration": 0.011227,
     "end_time": "2022-10-16T01:46:33.694308",
     "exception": false,
     "start_time": "2022-10-16T01:46:33.683081",
     "status": "completed"
    },
    "tags": []
   },
   "source": [
    "# see the distribution of all the features"
   ]
  },
  {
   "cell_type": "code",
   "execution_count": 9,
   "id": "068fc55f",
   "metadata": {
    "execution": {
     "iopub.execute_input": "2022-10-16T01:46:33.719564Z",
     "iopub.status.busy": "2022-10-16T01:46:33.719188Z",
     "iopub.status.idle": "2022-10-16T01:46:36.738779Z",
     "shell.execute_reply": "2022-10-16T01:46:36.737637Z"
    },
    "papermill": {
     "duration": 3.036693,
     "end_time": "2022-10-16T01:46:36.742638",
     "exception": false,
     "start_time": "2022-10-16T01:46:33.705945",
     "status": "completed"
    },
    "tags": []
   },
   "outputs": [
    {
     "data": {
      "text/plain": [
       "array([[<AxesSubplot:title={'center':'Bankrupt?'}>,\n",
       "        <AxesSubplot:title={'center':' Net Income to Total Assets'}>,\n",
       "        <AxesSubplot:title={'center':' Interest Coverage Ratio (Interest expense to EBIT)'}>,\n",
       "        <AxesSubplot:title={'center':' Cash Flow to Liability'}>],\n",
       "       [<AxesSubplot:title={'center':' Retained Earnings to Total Assets'}>,\n",
       "        <AxesSubplot:title={'center':' Total Asset Growth Rate'}>,\n",
       "        <AxesSubplot:title={'center':' Operating Profit Rate'}>,\n",
       "        <AxesSubplot:title={'center':' Cash flow rate'}>],\n",
       "       [<AxesSubplot:title={'center':' After-tax net Interest Rate'}>,\n",
       "        <AxesSubplot:title={'center':' Operating Profit Per Share (Yuan ¥)'}>,\n",
       "        <AxesSubplot:title={'center':' Operating Expense Rate'}>,\n",
       "        <AxesSubplot:title={'center':' Cash Flow to Sales'}>],\n",
       "       [<AxesSubplot:title={'center':' Cash Reinvestment %'}>,\n",
       "        <AxesSubplot:title={'center':' Cash Flow Per Share'}>,\n",
       "        <AxesSubplot:title={'center':' CFO to Assets'}>,\n",
       "        <AxesSubplot:title={'center':' Cash/Current Liability'}>]],\n",
       "      dtype=object)"
      ]
     },
     "execution_count": 9,
     "metadata": {},
     "output_type": "execute_result"
    },
    {
     "data": {
      "image/png": "[encoded data removed]",
      "text/plain": [
       "<Figure size 2880x2880 with 16 Axes>"
      ]
     },
     "metadata": {
      "needs_background": "light"
     },
     "output_type": "display_data"
    }
   ],
   "source": [
    "df1.hist(figsize = (40,40))"
   ]
  },
  {
   "cell_type": "markdown",
   "id": "2e9ba0c5",
   "metadata": {},
   "source": [
    "# bankruptcy과 각 변수의 관계 강도를 관찰하기 위해 상관 행렬을 구성합니다."
   ]
  },
  {
   "cell_type": "code",
   "execution_count": 10,
   "id": "500009ca",
   "metadata": {
    "execution": {
     "iopub.execute_input": "2022-10-16T01:46:36.798568Z",
     "iopub.status.busy": "2022-10-16T01:46:36.798155Z",
     "iopub.status.idle": "2022-10-16T01:46:37.508968Z",
     "shell.execute_reply": "2022-10-16T01:46:37.508118Z"
    },
    "papermill": {
     "duration": 0.727834,
     "end_time": "2022-10-16T01:46:37.511139",
     "exception": false,
     "start_time": "2022-10-16T01:46:36.783305",
     "status": "completed"
    },
    "tags": []
   },
   "outputs": [
    {
     "data": {
      "text/plain": [
       "<AxesSubplot:>"
      ]
     },
     "execution_count": 10,
     "metadata": {},
     "output_type": "execute_result"
    },
    {
     "data": {
      "image/png": "[encoded data removed]",
      "text/plain": [
       "<Figure size 1440x1440 with 2 Axes>"
      ]
     },
     "metadata": {
      "needs_background": "light"
     },
     "output_type": "display_data"
    }
   ],
   "source": [
    "plt.figure(figsize = (20,20))\n",
    "sns.heatmap(df1.corr(), cmap = \"Blues\")"
   ]
  },
  {
   "cell_type": "markdown",
   "id": "7bb2c7a8",
   "metadata": {
    "papermill": {
     "duration": 0.014455,
     "end_time": "2022-10-16T01:46:37.540933",
     "exception": false,
     "start_time": "2022-10-16T01:46:37.526478",
     "status": "completed"
    },
    "tags": []
   },
   "source": [
    "# 관심변수와 bankruptcy의 관계를 관찰하기 위해 density(밀도) plot을 구성합니다."
   ]
  },
  {
   "cell_type": "code",
   "execution_count": 11,
   "id": "cbf94fa9",
   "metadata": {
    "execution": {
     "iopub.execute_input": "2022-10-16T01:46:37.572964Z",
     "iopub.status.busy": "2022-10-16T01:46:37.572294Z",
     "iopub.status.idle": "2022-10-16T01:46:37.904694Z",
     "shell.execute_reply": "2022-10-16T01:46:37.903749Z"
    },
    "papermill": {
     "duration": 0.352173,
     "end_time": "2022-10-16T01:46:37.907848",
     "exception": false,
     "start_time": "2022-10-16T01:46:37.555675",
     "status": "completed"
    },
    "tags": []
   },
   "outputs": [
    {
     "data": {
      "text/plain": [
       "Text(0.5, 1.0, 'Relationship between bankrupt events and Net income to total assets')"
      ]
     },
     "execution_count": 11,
     "metadata": {},
     "output_type": "execute_result"
    },
    {
     "data": {
      "image/png": "[encoded data removed]",
      "text/plain": [
       "<Figure size 576x288 with 1 Axes>"
      ]
     },
     "metadata": {
      "needs_background": "light"
     },
     "output_type": "display_data"
    }
   ],
   "source": [
    "fig = plt.figure(figsize=(8,4))\n",
    "sns.kdeplot(df[df['Bankrupt?']==1][' Net Income to Total Assets'])\n",
    "sns.kdeplot(df[df['Bankrupt?']==0][' Net Income to Total Assets'])\n",
    "fig.legend(labels=['Bankrupt', 'Not Bankrupt'])\n",
    "plt.title('Relationship between bankrupt events and Net income to total assets')"
   ]
  },
  {
   "cell_type": "code",
   "execution_count": 12,
   "id": "3444f3c3",
   "metadata": {
    "execution": {
     "iopub.execute_input": "2022-10-16T01:46:37.940855Z",
     "iopub.status.busy": "2022-10-16T01:46:37.940445Z",
     "iopub.status.idle": "2022-10-16T01:46:38.254454Z",
     "shell.execute_reply": "2022-10-16T01:46:38.253020Z"
    },
    "papermill": {
     "duration": 0.333887,
     "end_time": "2022-10-16T01:46:38.257313",
     "exception": false,
     "start_time": "2022-10-16T01:46:37.923426",
     "status": "completed"
    },
    "tags": []
   },
   "outputs": [
    {
     "data": {
      "text/plain": [
       "Text(0.5, 1.0, 'Relationship between bankrupt events and Retained Earnings to Total Assets')"
      ]
     },
     "execution_count": 12,
     "metadata": {},
     "output_type": "execute_result"
    },
    {
     "data": {
      "image/png": "[encoded data removed]",
      "text/plain": [
       "<Figure size 576x288 with 1 Axes>"
      ]
     },
     "metadata": {
      "needs_background": "light"
     },
     "output_type": "display_data"
    }
   ],
   "source": [
    "fig = plt.figure(figsize=(8,4))\n",
    "sns.kdeplot(df[df['Bankrupt?']==1][' Retained Earnings to Total Assets'])\n",
    "sns.kdeplot(df[df['Bankrupt?']==0][' Retained Earnings to Total Assets'])\n",
    "fig.legend(labels=['Bankrupt', 'Not Bankrupt'])\n",
    "plt.title('Relationship between bankrupt events and Retained Earnings to Total Assets')"
   ]
  },
  {
   "cell_type": "code",
   "execution_count": 13,
   "id": "a6914034",
   "metadata": {
    "execution": {
     "iopub.execute_input": "2022-10-16T01:46:38.292446Z",
     "iopub.status.busy": "2022-10-16T01:46:38.291369Z",
     "iopub.status.idle": "2022-10-16T01:46:38.605315Z",
     "shell.execute_reply": "2022-10-16T01:46:38.603957Z"
    },
    "papermill": {
     "duration": 0.334076,
     "end_time": "2022-10-16T01:46:38.607949",
     "exception": false,
     "start_time": "2022-10-16T01:46:38.273873",
     "status": "completed"
    },
    "tags": []
   },
   "outputs": [
    {
     "data": {
      "text/plain": [
       "Text(0.5, 1.0, 'Relationship between bankrupt events and Total Asset Growth Rate')"
      ]
     },
     "execution_count": 13,
     "metadata": {},
     "output_type": "execute_result"
    },
    {
     "data": {
      "image/png": "[encoded data removed]",
      "text/plain": [
       "<Figure size 576x288 with 1 Axes>"
      ]
     },
     "metadata": {
      "needs_background": "light"
     },
     "output_type": "display_data"
    }
   ],
   "source": [
    "fig = plt.figure(figsize=(8,4))\n",
    "sns.kdeplot(df[df['Bankrupt?']==1][' Total Asset Growth Rate'])\n",
    "sns.kdeplot(df[df['Bankrupt?']==0][' Total Asset Growth Rate'])\n",
    "fig.legend(labels=['Bankrupt', 'Not Bankrupt'])\n",
    "plt.title('Relationship between bankrupt events and Total Asset Growth Rate')"
   ]
  },
  {
   "cell_type": "markdown",
   "id": "739c6a95",
   "metadata": {
    "papermill": {
     "duration": 0.016287,
     "end_time": "2022-10-16T01:46:38.641110",
     "exception": false,
     "start_time": "2022-10-16T01:46:38.624823",
     "status": "completed"
    },
    "tags": []
   },
   "source": [
    "# set X and Y variables"
   ]
  },
  {
   "cell_type": "code",
   "execution_count": 14,
   "id": "8c296996",
   "metadata": {
    "execution": {
     "iopub.execute_input": "2022-10-16T01:46:38.676393Z",
     "iopub.status.busy": "2022-10-16T01:46:38.675995Z",
     "iopub.status.idle": "2022-10-16T01:46:38.682973Z",
     "shell.execute_reply": "2022-10-16T01:46:38.681918Z"
    },
    "papermill": {
     "duration": 0.027784,
     "end_time": "2022-10-16T01:46:38.685640",
     "exception": false,
     "start_time": "2022-10-16T01:46:38.657856",
     "status": "completed"
    },
    "tags": []
   },
   "outputs": [],
   "source": [
    "X = df1.drop(columns = \"Bankrupt?\")\n",
    "Y = df1[\"Bankrupt?\"]"
   ]
  },
  {
   "cell_type": "markdown",
   "id": "9b67909c",
   "metadata": {
    "papermill": {
     "duration": 0.0173,
     "end_time": "2022-10-16T01:46:38.720189",
     "exception": false,
     "start_time": "2022-10-16T01:46:38.702889",
     "status": "completed"
    },
    "tags": []
   },
   "source": [
    "# split to train set and test set"
   ]
  },
  {
   "cell_type": "code",
   "execution_count": 15,
   "id": "d94b9358",
   "metadata": {
    "execution": {
     "iopub.execute_input": "2022-10-16T01:46:38.755530Z",
     "iopub.status.busy": "2022-10-16T01:46:38.755128Z",
     "iopub.status.idle": "2022-10-16T01:46:38.763156Z",
     "shell.execute_reply": "2022-10-16T01:46:38.762230Z"
    },
    "papermill": {
     "duration": 0.028507,
     "end_time": "2022-10-16T01:46:38.765411",
     "exception": false,
     "start_time": "2022-10-16T01:46:38.736904",
     "status": "completed"
    },
    "tags": []
   },
   "outputs": [],
   "source": [
    "X_train,X_test,Y_train,Y_test = train_test_split(X,Y,random_state=1)"
   ]
  },
  {
   "cell_type": "markdown",
   "id": "bab6df91",
   "metadata": {
    "papermill": {
     "duration": 0.016984,
     "end_time": "2022-10-16T01:46:38.799243",
     "exception": false,
     "start_time": "2022-10-16T01:46:38.782259",
     "status": "completed"
    },
    "tags": []
   },
   "source": [
    "# SMOTE the variables to correct the imbalanced dataset"
   ]
  },
  {
   "cell_type": "markdown",
   "id": "10839726",
   "metadata": {},
   "source": [
    "불균형 데이터처리를 위해 SMOTE합니다.\n"
   ]
  },
  {
   "cell_type": "code",
   "execution_count": 16,
   "id": "6642d615",
   "metadata": {
    "execution": {
     "iopub.execute_input": "2022-10-16T01:46:38.835097Z",
     "iopub.status.busy": "2022-10-16T01:46:38.834146Z",
     "iopub.status.idle": "2022-10-16T01:46:38.854390Z",
     "shell.execute_reply": "2022-10-16T01:46:38.853484Z"
    },
    "papermill": {
     "duration": 0.04105,
     "end_time": "2022-10-16T01:46:38.857088",
     "exception": false,
     "start_time": "2022-10-16T01:46:38.816038",
     "status": "completed"
    },
    "tags": []
   },
   "outputs": [],
   "source": [
    "X_train,Y_train = SMOTE(random_state=1).fit_resample(X_train,Y_train)"
   ]
  },
  {
   "cell_type": "markdown",
   "id": "bd4ab4c2",
   "metadata": {
    "papermill": {
     "duration": 0.016785,
     "end_time": "2022-10-16T01:46:38.891010",
     "exception": false,
     "start_time": "2022-10-16T01:46:38.874225",
     "status": "completed"
    },
    "tags": []
   },
   "source": [
    "# Normalise the train set"
   ]
  },
  {
   "cell_type": "code",
   "execution_count": 17,
   "id": "25c6add9",
   "metadata": {
    "execution": {
     "iopub.execute_input": "2022-10-16T01:46:38.927315Z",
     "iopub.status.busy": "2022-10-16T01:46:38.926901Z",
     "iopub.status.idle": "2022-10-16T01:46:38.941841Z",
     "shell.execute_reply": "2022-10-16T01:46:38.940331Z"
    },
    "papermill": {
     "duration": 0.035994,
     "end_time": "2022-10-16T01:46:38.944506",
     "exception": false,
     "start_time": "2022-10-16T01:46:38.908512",
     "status": "completed"
    },
    "tags": []
   },
   "outputs": [],
   "source": [
    "X_train = stats.zscore(X_train)\n",
    "X_test = stats.zscore(X_test)"
   ]
  },
  {
   "cell_type": "markdown",
   "id": "27bad706",
   "metadata": {
    "papermill": {
     "duration": 0.016618,
     "end_time": "2022-10-16T01:46:38.978080",
     "exception": false,
     "start_time": "2022-10-16T01:46:38.961462",
     "status": "completed"
    },
    "tags": []
   },
   "source": [
    "# Decision tree"
   ]
  },
  {
   "cell_type": "code",
   "execution_count": 18,
   "id": "05ae2367",
   "metadata": {
    "execution": {
     "iopub.execute_input": "2022-10-16T01:46:39.015658Z",
     "iopub.status.busy": "2022-10-16T01:46:39.015119Z",
     "iopub.status.idle": "2022-10-16T01:46:39.253504Z",
     "shell.execute_reply": "2022-10-16T01:46:39.252002Z"
    },
    "papermill": {
     "duration": 0.259999,
     "end_time": "2022-10-16T01:46:39.256241",
     "exception": false,
     "start_time": "2022-10-16T01:46:38.996242",
     "status": "completed"
    },
    "tags": []
   },
   "outputs": [
    {
     "name": "stdout",
     "output_type": "stream",
     "text": [
      "Train set Accuracy:  1.0\n",
      "Test set Accuracy:  0.6129032258064516\n"
     ]
    }
   ],
   "source": [
    "model = tree.DecisionTreeClassifier(random_state=1)\n",
    "model.fit(X_train,Y_train)\n",
    "pred = model.predict(X_test)\n",
    "cm = confusion_matrix(Y_test,pred)\n",
    "print(\"Train set Accuracy: \", metrics.accuracy_score(Y_train, model.predict(X_train)))\n",
    "print(\"Test set Accuracy: \", metrics.accuracy_score(Y_test, pred))"
   ]
  },
  {
   "cell_type": "markdown",
   "id": "898fc2ef",
   "metadata": {
    "papermill": {
     "duration": 0.0166,
     "end_time": "2022-10-16T01:46:39.289739",
     "exception": false,
     "start_time": "2022-10-16T01:46:39.273139",
     "status": "completed"
    },
    "tags": []
   },
   "source": [
    "# Feature importance of variables "
   ]
  },
  {
   "cell_type": "code",
   "execution_count": 19,
   "id": "185cafe9",
   "metadata": {
    "execution": {
     "iopub.execute_input": "2022-10-16T01:46:39.325391Z",
     "iopub.status.busy": "2022-10-16T01:46:39.324967Z",
     "iopub.status.idle": "2022-10-16T01:46:39.684894Z",
     "shell.execute_reply": "2022-10-16T01:46:39.683950Z"
    },
    "papermill": {
     "duration": 0.380927,
     "end_time": "2022-10-16T01:46:39.687383",
     "exception": false,
     "start_time": "2022-10-16T01:46:39.306456",
     "status": "completed"
    },
    "tags": []
   },
   "outputs": [
    {
     "data": {
      "text/plain": [
       "<AxesSubplot:>"
      ]
     },
     "execution_count": 19,
     "metadata": {},
     "output_type": "execute_result"
    },
    {
     "data": {
      "image/png": "[encoded data removed]",
      "text/plain": [
       "<Figure size 576x432 with 1 Axes>"
      ]
     },
     "metadata": {
      "needs_background": "light"
     },
     "output_type": "display_data"
    }
   ],
   "source": [
    "feat_importances = pd.DataFrame(model.feature_importances_, index=X_train.columns, columns=[\"Importance\"])\n",
    "feat_importances.sort_values(by='Importance', ascending=False, inplace=True)\n",
    "feat_importances.plot(kind='bar', figsize=(8,6))"
   ]
  },
  {
   "cell_type": "markdown",
   "id": "acf7d178",
   "metadata": {
    "papermill": {
     "duration": 0.017389,
     "end_time": "2022-10-16T01:46:39.722396",
     "exception": false,
     "start_time": "2022-10-16T01:46:39.705007",
     "status": "completed"
    },
    "tags": []
   },
   "source": [
    "# Confusion matrix - Decision tree"
   ]
  },
  {
   "cell_type": "code",
   "execution_count": 20,
   "id": "586be6b7",
   "metadata": {
    "execution": {
     "iopub.execute_input": "2022-10-16T01:46:39.759836Z",
     "iopub.status.busy": "2022-10-16T01:46:39.759202Z",
     "iopub.status.idle": "2022-10-16T01:46:40.004021Z",
     "shell.execute_reply": "2022-10-16T01:46:40.002822Z"
    },
    "papermill": {
     "duration": 0.266103,
     "end_time": "2022-10-16T01:46:40.006413",
     "exception": false,
     "start_time": "2022-10-16T01:46:39.740310",
     "status": "completed"
    },
    "tags": []
   },
   "outputs": [
    {
     "data": {
      "text/plain": [
       "<AxesSubplot:title={'center':'Confusion Matrix'}, xlabel='Predicted label', ylabel='True label'>"
      ]
     },
     "execution_count": 20,
     "metadata": {},
     "output_type": "execute_result"
    },
    {
     "data": {
      "image/png": "[encoded data removed]",
      "text/plain": [
       "<Figure size 288x288 with 2 Axes>"
      ]
     },
     "metadata": {
      "needs_background": "light"
     },
     "output_type": "display_data"
    }
   ],
   "source": [
    "skplt.metrics.plot_confusion_matrix(\n",
    "    Y_test, \n",
    "    pred,\n",
    "    figsize=(4,4))"
   ]
  },
  {
   "cell_type": "markdown",
   "id": "b90edd4a",
   "metadata": {
    "papermill": {
     "duration": 0.017796,
     "end_time": "2022-10-16T01:46:40.042761",
     "exception": false,
     "start_time": "2022-10-16T01:46:40.024965",
     "status": "completed"
    },
    "tags": []
   },
   "source": [
    "# Random forest"
   ]
  },
  {
   "cell_type": "code",
   "execution_count": 21,
   "id": "af2af3ba",
   "metadata": {
    "execution": {
     "iopub.execute_input": "2022-10-16T01:46:40.081071Z",
     "iopub.status.busy": "2022-10-16T01:46:40.080356Z",
     "iopub.status.idle": "2022-10-16T01:46:42.797939Z",
     "shell.execute_reply": "2022-10-16T01:46:42.796466Z"
    },
    "papermill": {
     "duration": 2.739723,
     "end_time": "2022-10-16T01:46:42.800427",
     "exception": false,
     "start_time": "2022-10-16T01:46:40.060704",
     "status": "completed"
    },
    "tags": []
   },
   "outputs": [
    {
     "name": "stdout",
     "output_type": "stream",
     "text": [
      "Train set Accuracy:  1.0\n",
      "Test set Accuracy:  0.6234604105571847\n"
     ]
    }
   ],
   "source": [
    "model = ensemble.RandomForestClassifier(random_state=1)\n",
    "model.fit(X_train,Y_train)\n",
    "pred = model.predict(X_test)\n",
    "cm = confusion_matrix(Y_test,pred)\n",
    "print(\"Train set Accuracy: \", metrics.accuracy_score(Y_train, model.predict(X_train)))\n",
    "print(\"Test set Accuracy: \", metrics.accuracy_score(Y_test, pred))"
   ]
  },
  {
   "cell_type": "markdown",
   "id": "b8edd462",
   "metadata": {
    "papermill": {
     "duration": 0.018387,
     "end_time": "2022-10-16T01:46:42.837121",
     "exception": false,
     "start_time": "2022-10-16T01:46:42.818734",
     "status": "completed"
    },
    "tags": []
   },
   "source": [
    "# Feature importance of each variable"
   ]
  },
  {
   "cell_type": "code",
   "execution_count": 22,
   "id": "ff918ba7",
   "metadata": {
    "execution": {
     "iopub.execute_input": "2022-10-16T01:46:42.875377Z",
     "iopub.status.busy": "2022-10-16T01:46:42.874570Z",
     "iopub.status.idle": "2022-10-16T01:46:43.250981Z",
     "shell.execute_reply": "2022-10-16T01:46:43.250058Z"
    },
    "papermill": {
     "duration": 0.398211,
     "end_time": "2022-10-16T01:46:43.253350",
     "exception": false,
     "start_time": "2022-10-16T01:46:42.855139",
     "status": "completed"
    },
    "tags": []
   },
   "outputs": [
    {
     "data": {
      "text/plain": [
       "<AxesSubplot:>"
      ]
     },
     "execution_count": 22,
     "metadata": {},
     "output_type": "execute_result"
    },
    {
     "data": {
      "image/png": "[encoded data removed]",
      "text/plain": [
       "<Figure size 576x432 with 1 Axes>"
      ]
     },
     "metadata": {
      "needs_background": "light"
     },
     "output_type": "display_data"
    }
   ],
   "source": [
    "feat_importances = pd.DataFrame(model.feature_importances_, index=X_train.columns, columns=[\"Importance\"])\n",
    "feat_importances.sort_values(by='Importance', ascending=False, inplace=True)\n",
    "feat_importances.plot(kind='bar', figsize=(8,6))"
   ]
  },
  {
   "cell_type": "markdown",
   "id": "9acb9533",
   "metadata": {
    "papermill": {
     "duration": 0.018174,
     "end_time": "2022-10-16T01:46:43.290206",
     "exception": false,
     "start_time": "2022-10-16T01:46:43.272032",
     "status": "completed"
    },
    "tags": []
   },
   "source": [
    "# Confusion Matrix - Random Forest"
   ]
  },
  {
   "cell_type": "code",
   "execution_count": 23,
   "id": "d4f98b47",
   "metadata": {
    "execution": {
     "iopub.execute_input": "2022-10-16T01:46:43.329779Z",
     "iopub.status.busy": "2022-10-16T01:46:43.328732Z",
     "iopub.status.idle": "2022-10-16T01:46:43.590045Z",
     "shell.execute_reply": "2022-10-16T01:46:43.587786Z"
    },
    "papermill": {
     "duration": 0.28434,
     "end_time": "2022-10-16T01:46:43.593005",
     "exception": false,
     "start_time": "2022-10-16T01:46:43.308665",
     "status": "completed"
    },
    "tags": []
   },
   "outputs": [
    {
     "data": {
      "text/plain": [
       "<AxesSubplot:title={'center':'Confusion Matrix'}, xlabel='Predicted label', ylabel='True label'>"
      ]
     },
     "execution_count": 23,
     "metadata": {},
     "output_type": "execute_result"
    },
    {
     "data": {
      "image/png": "[encoded data removed]",
      "text/plain": [
       "<Figure size 288x288 with 2 Axes>"
      ]
     },
     "metadata": {
      "needs_background": "light"
     },
     "output_type": "display_data"
    }
   ],
   "source": [
    "skplt.metrics.plot_confusion_matrix(\n",
    "    Y_test, \n",
    "    pred,\n",
    "    figsize=(4,4))"
   ]
  },
  {
   "cell_type": "markdown",
   "id": "bc02fd86",
   "metadata": {
    "papermill": {
     "duration": 0.0186,
     "end_time": "2022-10-16T01:46:43.635674",
     "exception": false,
     "start_time": "2022-10-16T01:46:43.617074",
     "status": "completed"
    },
    "tags": []
   },
   "source": [
    "# K Nearest Neighbours"
   ]
  },
  {
   "cell_type": "code",
   "execution_count": 24,
   "id": "acd5eefd",
   "metadata": {
    "execution": {
     "iopub.execute_input": "2022-10-16T01:46:43.676118Z",
     "iopub.status.busy": "2022-10-16T01:46:43.675313Z",
     "iopub.status.idle": "2022-10-16T01:46:44.837042Z",
     "shell.execute_reply": "2022-10-16T01:46:44.835703Z"
    },
    "papermill": {
     "duration": 1.184882,
     "end_time": "2022-10-16T01:46:44.839474",
     "exception": false,
     "start_time": "2022-10-16T01:46:43.654592",
     "status": "completed"
    },
    "tags": []
   },
   "outputs": [
    {
     "name": "stdout",
     "output_type": "stream",
     "text": [
      "Train set Accuracy:  0.9980827447023208\n",
      "Test set Accuracy:  0.7601173020527859\n"
     ]
    }
   ],
   "source": [
    "model = KNeighborsClassifier(n_neighbors=2)\n",
    "model.fit(X_train,Y_train)\n",
    "pred = model.predict(X_test)\n",
    "cm = confusion_matrix(Y_test,pred)\n",
    "print(\"Train set Accuracy: \", metrics.accuracy_score(Y_train, model.predict(X_train)))\n",
    "print(\"Test set Accuracy: \", metrics.accuracy_score(Y_test, pred))"
   ]
  },
  {
   "cell_type": "markdown",
   "id": "c1613393",
   "metadata": {
    "papermill": {
     "duration": 0.018865,
     "end_time": "2022-10-16T01:46:44.877435",
     "exception": false,
     "start_time": "2022-10-16T01:46:44.858570",
     "status": "completed"
    },
    "tags": []
   },
   "source": [
    "# Confusion Matrix - KNN"
   ]
  },
  {
   "cell_type": "code",
   "execution_count": 25,
   "id": "901c4f10",
   "metadata": {
    "execution": {
     "iopub.execute_input": "2022-10-16T01:46:44.918346Z",
     "iopub.status.busy": "2022-10-16T01:46:44.917441Z",
     "iopub.status.idle": "2022-10-16T01:46:45.103893Z",
     "shell.execute_reply": "2022-10-16T01:46:45.102352Z"
    },
    "papermill": {
     "duration": 0.211722,
     "end_time": "2022-10-16T01:46:45.108398",
     "exception": false,
     "start_time": "2022-10-16T01:46:44.896676",
     "status": "completed"
    },
    "tags": []
   },
   "outputs": [
    {
     "data": {
      "text/plain": [
       "<AxesSubplot:title={'center':'Confusion Matrix'}, xlabel='Predicted label', ylabel='True label'>"
      ]
     },
     "execution_count": 25,
     "metadata": {},
     "output_type": "execute_result"
    },
    {
     "data": {
      "image/png": "[encoded data removed]",
      "text/plain": [
       "<Figure size 288x288 with 2 Axes>"
      ]
     },
     "metadata": {
      "needs_background": "light"
     },
     "output_type": "display_data"
    }
   ],
   "source": [
    "skplt.metrics.plot_confusion_matrix(\n",
    "    Y_test, \n",
    "    pred,\n",
    "    figsize=(4,4))"
   ]
  },
  {
   "cell_type": "markdown",
   "id": "1f897596",
   "metadata": {
    "papermill": {
     "duration": 0.019404,
     "end_time": "2022-10-16T01:46:45.148783",
     "exception": false,
     "start_time": "2022-10-16T01:46:45.129379",
     "status": "completed"
    },
    "tags": []
   },
   "source": [
    "# Neural network"
   ]
  },
  {
   "cell_type": "code",
   "execution_count": 26,
   "id": "5e369727",
   "metadata": {
    "execution": {
     "iopub.execute_input": "2022-10-16T01:46:45.190912Z",
     "iopub.status.busy": "2022-10-16T01:46:45.190200Z",
     "iopub.status.idle": "2022-10-16T01:47:05.918742Z",
     "shell.execute_reply": "2022-10-16T01:47:05.917384Z"
    },
    "papermill": {
     "duration": 20.757794,
     "end_time": "2022-10-16T01:47:05.926604",
     "exception": false,
     "start_time": "2022-10-16T01:46:45.168810",
     "status": "completed"
    },
    "tags": []
   },
   "outputs": [
    {
     "name": "stdout",
     "output_type": "stream",
     "text": [
      "Train set Accuracy:  0.9699293642785065\n",
      "Test set Accuracy:  0.6140762463343109\n"
     ]
    },
    {
     "name": "stderr",
     "output_type": "stream",
     "text": [
      "/opt/conda/lib/python3.7/site-packages/sklearn/neural_network/_multilayer_perceptron.py:696: ConvergenceWarning: Stochastic Optimizer: Maximum iterations (200) reached and the optimization hasn't converged yet.\n",
      "  ConvergenceWarning,\n"
     ]
    }
   ],
   "source": [
    "model = neural_network.MLPClassifier(random_state=1)\n",
    "model.fit(X_train,Y_train)\n",
    "pred = model.predict(X_test)\n",
    "cm = confusion_matrix(Y_test,pred)\n",
    "print(\"Train set Accuracy: \", metrics.accuracy_score(Y_train, model.predict(X_train)))\n",
    "print(\"Test set Accuracy: \", metrics.accuracy_score(Y_test, pred))"
   ]
  },
  {
   "cell_type": "markdown",
   "id": "a8e1204a",
   "metadata": {
    "papermill": {
     "duration": 0.049005,
     "end_time": "2022-10-16T01:47:06.024355",
     "exception": false,
     "start_time": "2022-10-16T01:47:05.975350",
     "status": "completed"
    },
    "tags": []
   },
   "source": [
    "# Confusion Matrix - NN"
   ]
  },
  {
   "cell_type": "code",
   "execution_count": 27,
   "id": "739fc741",
   "metadata": {
    "execution": {
     "iopub.execute_input": "2022-10-16T01:47:06.069860Z",
     "iopub.status.busy": "2022-10-16T01:47:06.069458Z",
     "iopub.status.idle": "2022-10-16T01:47:06.321170Z",
     "shell.execute_reply": "2022-10-16T01:47:06.320059Z"
    },
    "papermill": {
     "duration": 0.274812,
     "end_time": "2022-10-16T01:47:06.323467",
     "exception": false,
     "start_time": "2022-10-16T01:47:06.048655",
     "status": "completed"
    },
    "tags": []
   },
   "outputs": [
    {
     "data": {
      "text/plain": [
       "<AxesSubplot:title={'center':'Confusion Matrix'}, xlabel='Predicted label', ylabel='True label'>"
      ]
     },
     "execution_count": 27,
     "metadata": {},
     "output_type": "execute_result"
    },
    {
     "data": {
      "image/png": "[encoded data removed]",
      "text/plain": [
       "<Figure size 288x288 with 2 Axes>"
      ]
     },
     "metadata": {
      "needs_background": "light"
     },
     "output_type": "display_data"
    }
   ],
   "source": [
    "skplt.metrics.plot_confusion_matrix(\n",
    "    Y_test, \n",
    "    pred,\n",
    "    figsize=(4,4))"
   ]
  },
  {
   "cell_type": "markdown",
   "id": "b1bf409b",
   "metadata": {},
   "source": [
    "가장 좋은 모델은 K Nearest Neighbour이지만 false positive(FP) 오류가 높습니다.  \n",
    "(즉, 61번 중 17번이라도 bankruptcy을 잘못 예측했습니다.)"
   ]
  },
  {
   "cell_type": "markdown",
   "id": "4099a3be",
   "metadata": {},
   "source": [
    "."
   ]
  }
 ],
 "metadata": {
  "kernelspec": {
   "display_name": "Python 3",
   "language": "python",
   "name": "python3"
  },
  "language_info": {
   "codemirror_mode": {
    "name": "ipython",
    "version": 3
   },
   "file_extension": ".py",
   "mimetype": "text/x-python",
   "name": "python",
   "nbconvert_exporter": "python",
   "pygments_lexer": "ipython3",
   "version": "3.7.12"
  },
  "papermill": {
   "default_parameters": {},
   "duration": 45.540046,
   "end_time": "2022-10-16T01:47:07.358391",
   "environment_variables": {},
   "exception": null,
   "input_path": "__notebook__.ipynb",
   "output_path": "__notebook__.ipynb",
   "parameters": {},
   "start_time": "2022-10-16T01:46:21.818345",
   "version": "2.3.4"
  }
 },
 "nbformat": 4,
 "nbformat_minor": 5
}
