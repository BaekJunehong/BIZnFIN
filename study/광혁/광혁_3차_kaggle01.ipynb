참고 https://www.kaggle.com/code/ahmadihossein/groupby-tutorial
