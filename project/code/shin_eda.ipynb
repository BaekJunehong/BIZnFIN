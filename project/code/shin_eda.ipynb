{
 "cells": [
  {
   "cell_type": "markdown",
   "metadata": {},
   "source": [
    "# BIZ 프로젝트 : 부실기업 예측"
   ]
  },
  {
   "cell_type": "markdown",
   "metadata": {},
   "source": [
    "## Step2 : 데이터 전처리"
   ]
  },
  {
   "cell_type": "markdown",
   "metadata": {},
   "source": [
    "### 필요라이브러리 불러오기"
   ]
  },
  {
   "cell_type": "code",
   "execution_count": 1,
   "metadata": {},
   "outputs": [],
   "source": [
    "import pandas as pd\n",
    "import numpy as np"
   ]
  },
  {
   "cell_type": "markdown",
   "metadata": {},
   "source": [
    "### 데이터 불러오기"
   ]
  },
  {
   "cell_type": "code",
   "execution_count": 2,
   "metadata": {},
   "outputs": [],
   "source": [
    "RANDOM_STATE = 110\n",
    "\n",
    "data = pd.read_csv(\"../../project/data/clean_financial_data.csv\", encoding='utf-8-sig', low_memory=False)"
   ]
  },
  {
   "cell_type": "code",
   "execution_count": 3,
   "metadata": {},
   "outputs": [
    {
     "data": {
      "text/plain": [
       "Index(['업체코드', '종목코드', '종목명', '2020/총자산증가율', '2021/총자산증가율', '2022/총자산증가율',\n",
       "       '2023/총자산증가율', '2024/총자산증가율', '2020/유형자산증가율', '2021/유형자산증가율',\n",
       "       ...\n",
       "       '2020/조세공과(구성비)', '2021/조세공과(구성비)', '2022/조세공과(구성비)', '2023/조세공과(구성비)',\n",
       "       '2024/조세공과(구성비)', '2020/감가상각비(구성비)', '2021/감가상각비(구성비)',\n",
       "       '2022/감가상각비(구성비)', '2023/감가상각비(구성비)', '2024/감가상각비(구성비)'],\n",
       "      dtype='object', length=543)"
      ]
     },
     "execution_count": 3,
     "metadata": {},
     "output_type": "execute_result"
    }
   ],
   "source": [
    "data.columns"
   ]
  },
  {
   "cell_type": "code",
   "execution_count": 5,
   "metadata": {},
   "outputs": [
    {
     "data": {
      "text/html": [
       "<div>\n",
       "<style scoped>\n",
       "    .dataframe tbody tr th:only-of-type {\n",
       "        vertical-align: middle;\n",
       "    }\n",
       "\n",
       "    .dataframe tbody tr th {\n",
       "        vertical-align: top;\n",
       "    }\n",
       "\n",
       "    .dataframe thead th {\n",
       "        text-align: right;\n",
       "    }\n",
       "</style>\n",
       "<table border=\"1\" class=\"dataframe\">\n",
       "  <thead>\n",
       "    <tr style=\"text-align: right;\">\n",
       "      <th></th>\n",
       "      <th>업체코드</th>\n",
       "      <th>종목코드</th>\n",
       "      <th>종목명</th>\n",
       "      <th>2020/총자산증가율</th>\n",
       "      <th>2021/총자산증가율</th>\n",
       "      <th>2022/총자산증가율</th>\n",
       "      <th>2023/총자산증가율</th>\n",
       "      <th>2024/총자산증가율</th>\n",
       "      <th>2020/유형자산증가율</th>\n",
       "      <th>2021/유형자산증가율</th>\n",
       "      <th>...</th>\n",
       "      <th>2020/조세공과(구성비)</th>\n",
       "      <th>2021/조세공과(구성비)</th>\n",
       "      <th>2022/조세공과(구성비)</th>\n",
       "      <th>2023/조세공과(구성비)</th>\n",
       "      <th>2024/조세공과(구성비)</th>\n",
       "      <th>2020/감가상각비(구성비)</th>\n",
       "      <th>2021/감가상각비(구성비)</th>\n",
       "      <th>2022/감가상각비(구성비)</th>\n",
       "      <th>2023/감가상각비(구성비)</th>\n",
       "      <th>2024/감가상각비(구성비)</th>\n",
       "    </tr>\n",
       "  </thead>\n",
       "  <tbody>\n",
       "    <tr>\n",
       "      <th>38634</th>\n",
       "      <td>NX01379</td>\n",
       "      <td>NaN</td>\n",
       "      <td>다마요팩(주)</td>\n",
       "      <td>-0.65</td>\n",
       "      <td>40.32</td>\n",
       "      <td>-1.22</td>\n",
       "      <td>2.23</td>\n",
       "      <td>NaN</td>\n",
       "      <td>-12.62</td>\n",
       "      <td>58.32</td>\n",
       "      <td>...</td>\n",
       "      <td>2.53</td>\n",
       "      <td>2.07</td>\n",
       "      <td>2.54</td>\n",
       "      <td>2.26</td>\n",
       "      <td>NaN</td>\n",
       "      <td>17.06</td>\n",
       "      <td>13.03</td>\n",
       "      <td>9.27</td>\n",
       "      <td>9.22</td>\n",
       "      <td>NaN</td>\n",
       "    </tr>\n",
       "    <tr>\n",
       "      <th>38635</th>\n",
       "      <td>NX57312</td>\n",
       "      <td>NaN</td>\n",
       "      <td>(주)에스엘씨</td>\n",
       "      <td>-17.31</td>\n",
       "      <td>26.04</td>\n",
       "      <td>-9.67</td>\n",
       "      <td>4.95</td>\n",
       "      <td>NaN</td>\n",
       "      <td>-2.45</td>\n",
       "      <td>-1.99</td>\n",
       "      <td>...</td>\n",
       "      <td>2.07</td>\n",
       "      <td>1.12</td>\n",
       "      <td>4.45</td>\n",
       "      <td>0.93</td>\n",
       "      <td>NaN</td>\n",
       "      <td>5.39</td>\n",
       "      <td>2.19</td>\n",
       "      <td>1.81</td>\n",
       "      <td>1.79</td>\n",
       "      <td>NaN</td>\n",
       "    </tr>\n",
       "    <tr>\n",
       "      <th>38636</th>\n",
       "      <td>NX91216</td>\n",
       "      <td>NaN</td>\n",
       "      <td>농업회사법인한국양계(주)</td>\n",
       "      <td>3.02</td>\n",
       "      <td>40.62</td>\n",
       "      <td>-4.03</td>\n",
       "      <td>1.53</td>\n",
       "      <td>NaN</td>\n",
       "      <td>-12.50</td>\n",
       "      <td>9.38</td>\n",
       "      <td>...</td>\n",
       "      <td>NaN</td>\n",
       "      <td>0.10</td>\n",
       "      <td>0.11</td>\n",
       "      <td>0.01</td>\n",
       "      <td>NaN</td>\n",
       "      <td>NaN</td>\n",
       "      <td>7.13</td>\n",
       "      <td>9.34</td>\n",
       "      <td>12.29</td>\n",
       "      <td>NaN</td>\n",
       "    </tr>\n",
       "    <tr>\n",
       "      <th>38637</th>\n",
       "      <td>NY32604</td>\n",
       "      <td>NaN</td>\n",
       "      <td>(주)메디라인액티브코리아</td>\n",
       "      <td>29.51</td>\n",
       "      <td>3.24</td>\n",
       "      <td>105.26</td>\n",
       "      <td>5.89</td>\n",
       "      <td>NaN</td>\n",
       "      <td>53.67</td>\n",
       "      <td>45.20</td>\n",
       "      <td>...</td>\n",
       "      <td>2.31</td>\n",
       "      <td>0.31</td>\n",
       "      <td>0.69</td>\n",
       "      <td>0.66</td>\n",
       "      <td>NaN</td>\n",
       "      <td>2.94</td>\n",
       "      <td>3.48</td>\n",
       "      <td>3.13</td>\n",
       "      <td>5.64</td>\n",
       "      <td>NaN</td>\n",
       "    </tr>\n",
       "    <tr>\n",
       "      <th>38638</th>\n",
       "      <td>NY84181</td>\n",
       "      <td>NaN</td>\n",
       "      <td>(주)엘림글로벌</td>\n",
       "      <td>20.08</td>\n",
       "      <td>-1.72</td>\n",
       "      <td>32.95</td>\n",
       "      <td>12.32</td>\n",
       "      <td>NaN</td>\n",
       "      <td>-0.82</td>\n",
       "      <td>-2.99</td>\n",
       "      <td>...</td>\n",
       "      <td>4.64</td>\n",
       "      <td>4.22</td>\n",
       "      <td>3.65</td>\n",
       "      <td>2.68</td>\n",
       "      <td>NaN</td>\n",
       "      <td>9.30</td>\n",
       "      <td>15.10</td>\n",
       "      <td>12.00</td>\n",
       "      <td>13.71</td>\n",
       "      <td>NaN</td>\n",
       "    </tr>\n",
       "  </tbody>\n",
       "</table>\n",
       "<p>5 rows × 543 columns</p>\n",
       "</div>"
      ],
      "text/plain": [
       "          업체코드 종목코드            종목명  2020/총자산증가율  2021/총자산증가율  2022/총자산증가율  \\\n",
       "38634  NX01379  NaN        다마요팩(주)        -0.65        40.32        -1.22   \n",
       "38635  NX57312  NaN        (주)에스엘씨       -17.31        26.04        -9.67   \n",
       "38636  NX91216  NaN  농업회사법인한국양계(주)         3.02        40.62        -4.03   \n",
       "38637  NY32604  NaN  (주)메디라인액티브코리아        29.51         3.24       105.26   \n",
       "38638  NY84181  NaN       (주)엘림글로벌        20.08        -1.72        32.95   \n",
       "\n",
       "       2023/총자산증가율  2024/총자산증가율  2020/유형자산증가율  2021/유형자산증가율  ...  \\\n",
       "38634         2.23          NaN        -12.62         58.32  ...   \n",
       "38635         4.95          NaN         -2.45         -1.99  ...   \n",
       "38636         1.53          NaN        -12.50          9.38  ...   \n",
       "38637         5.89          NaN         53.67         45.20  ...   \n",
       "38638        12.32          NaN         -0.82         -2.99  ...   \n",
       "\n",
       "       2020/조세공과(구성비)  2021/조세공과(구성비)  2022/조세공과(구성비)  2023/조세공과(구성비)  \\\n",
       "38634            2.53            2.07            2.54            2.26   \n",
       "38635            2.07            1.12            4.45            0.93   \n",
       "38636             NaN            0.10            0.11            0.01   \n",
       "38637            2.31            0.31            0.69            0.66   \n",
       "38638            4.64            4.22            3.65            2.68   \n",
       "\n",
       "       2024/조세공과(구성비)  2020/감가상각비(구성비)  2021/감가상각비(구성비)  2022/감가상각비(구성비)  \\\n",
       "38634             NaN            17.06            13.03             9.27   \n",
       "38635             NaN             5.39             2.19             1.81   \n",
       "38636             NaN              NaN             7.13             9.34   \n",
       "38637             NaN             2.94             3.48             3.13   \n",
       "38638             NaN             9.30            15.10            12.00   \n",
       "\n",
       "       2023/감가상각비(구성비)  2024/감가상각비(구성비)  \n",
       "38634             9.22              NaN  \n",
       "38635             1.79              NaN  \n",
       "38636            12.29              NaN  \n",
       "38637             5.64              NaN  \n",
       "38638            13.71              NaN  \n",
       "\n",
       "[5 rows x 543 columns]"
      ]
     },
     "execution_count": 5,
     "metadata": {},
     "output_type": "execute_result"
    }
   ],
   "source": [
    "data.tail(5)"
   ]
  },
  {
   "cell_type": "code",
   "execution_count": 4,
   "metadata": {},
   "outputs": [
    {
     "name": "stdout",
     "output_type": "stream",
     "text": [
      "이자보상비율 이름이 들어가는 변수들:\n",
      "Index(['2020/영업활동현금흐름이자보상비율', '2021/영업활동현금흐름이자보상비율', '2022/영업활동현금흐름이자보상비율',\n",
      "       '2023/영업활동현금흐름이자보상비율', '2024/영업활동현금흐름이자보상비율', '2020/영업이익이자보상비율',\n",
      "       '2021/영업이익이자보상비율', '2022/영업이익이자보상비율', '2023/영업이익이자보상비율',\n",
      "       '2024/영업이익이자보상비율', '2020/법인세비용차감전순이익이자보상비율', '2021/법인세비용차감전순이익이자보상비율',\n",
      "       '2022/법인세비용차감전순이익이자보상비율', '2023/법인세비용차감전순이익이자보상비율',\n",
      "       '2024/법인세비용차감전순이익이자보상비율', '2020/법인세차감전순이익이자보상비율',\n",
      "       '2021/법인세차감전순이익이자보상비율', '2022/법인세차감전순이익이자보상비율', '2023/법인세차감전순이익이자보상비율',\n",
      "       '2024/법인세차감전순이익이자보상비율'],\n",
      "      dtype='object')\n"
     ]
    }
   ],
   "source": [
    "import pandas as pd\n",
    "\n",
    "# '이자보상비율' 이름이 들어가는 변수들 필터링\n",
    "interest_coverage_ratio_cols = data.filter(like='이자보상비율').columns\n",
    "\n",
    "# 필터링된 변수명 출력\n",
    "print(\"이자보상비율 이름이 들어가는 변수들:\")\n",
    "print(interest_coverage_ratio_cols)"
   ]
  },
  {
   "cell_type": "code",
   "execution_count": 5,
   "metadata": {},
   "outputs": [
    {
     "name": "stdout",
     "output_type": "stream",
     "text": [
      "영업이익이자보상비율 이름이 들어가는 변수들:\n",
      "Index(['2020/영업이익이자보상비율', '2021/영업이익이자보상비율', '2022/영업이익이자보상비율',\n",
      "       '2023/영업이익이자보상비율', '2024/영업이익이자보상비율'],\n",
      "      dtype='object')\n"
     ]
    }
   ],
   "source": [
    "# '영업이익이자보상비율' 이름이 들어가는 변수들 필터링\n",
    "interest_coverage_ratio_cols = data.filter(like='영업이익이자보상비율').columns\n",
    "\n",
    "# 필터링된 변수명 출력\n",
    "print(\"영업이익이자보상비율 이름이 들어가는 변수들:\")\n",
    "print(interest_coverage_ratio_cols)\n",
    "\n",
    "# 해당 값들에 대해서 결측이 존재하는 경우 0 값을 넣어줌\n",
    "data[interest_coverage_ratio_cols] = data[interest_coverage_ratio_cols].fillna(0)"
   ]
  },
  {
   "cell_type": "code",
   "execution_count": 6,
   "metadata": {},
   "outputs": [
    {
     "name": "stdout",
     "output_type": "stream",
     "text": [
      "\n",
      "2022/부실기업 변수 값:\n",
      "0    26746\n",
      "1    11893\n",
      "Name: 2022/부실기업, dtype: int64\n",
      "\n",
      "2023/부실기업 변수 값:\n",
      "0    26897\n",
      "1    11742\n",
      "Name: 2023/부실기업, dtype: int64\n"
     ]
    }
   ],
   "source": [
    "# 2022/부실기업 변수 생성 및 값 할당\n",
    "data['2022/부실기업'] = ((data['2020/영업이익이자보상비율'] < 1) & \n",
    "                        (data['2021/영업이익이자보상비율'] < 1) & \n",
    "                        (data['2022/영업이익이자보상비율'] < 1)).astype(int)\n",
    "\n",
    "# 2023/부실기업 변수 생성 및 값 할당\n",
    "data['2023/부실기업'] = ((data['2021/영업이익이자보상비율'] < 1) & \n",
    "                        (data['2022/영업이익이자보상비율'] < 1) & \n",
    "                        (data['2023/영업이익이자보상비율'] < 1)).astype(int)\n",
    "\n",
    "# 결과 확인\n",
    "print(\"\\n2022/부실기업 변수 값:\")\n",
    "print(data['2022/부실기업'].value_counts())\n",
    "\n",
    "print(\"\\n2023/부실기업 변수 값:\")\n",
    "print(data['2023/부실기업'].value_counts())"
   ]
  },
  {
   "cell_type": "code",
   "execution_count": 7,
   "metadata": {},
   "outputs": [
    {
     "data": {
      "text/plain": [
       "Index(['업체코드', '종목코드', '종목명', '2020/총자산증가율', '2021/총자산증가율', '2022/총자산증가율',\n",
       "       '2023/총자산증가율', '2024/총자산증가율', '2020/유형자산증가율', '2021/유형자산증가율',\n",
       "       ...\n",
       "       '2022/조세공과(구성비)', '2023/조세공과(구성비)', '2024/조세공과(구성비)', '2020/감가상각비(구성비)',\n",
       "       '2021/감가상각비(구성비)', '2022/감가상각비(구성비)', '2023/감가상각비(구성비)',\n",
       "       '2024/감가상각비(구성비)', '2022/부실기업', '2023/부실기업'],\n",
       "      dtype='object', length=545)"
      ]
     },
     "execution_count": 7,
     "metadata": {},
     "output_type": "execute_result"
    }
   ],
   "source": [
    "data.columns"
   ]
  },
  {
   "cell_type": "markdown",
   "metadata": {},
   "source": [
    "2024년 자료에 대해서 확인"
   ]
  },
  {
   "cell_type": "code",
   "execution_count": 8,
   "metadata": {},
   "outputs": [
    {
     "name": "stdout",
     "output_type": "stream",
     "text": [
      "2024가 들어가는 변수들:\n",
      "Index(['2024/총자산증가율', '2024/유형자산증가율', '2024/유동자산증가율', '2024/재고자산증가율',\n",
      "       '2024/자기자본증가율', '2024/매출액증가율', '2024/영업이익증가율', '2024/법인세비용차감전순이익증가율',\n",
      "       '2024/순이익증가율', '2024/종업원수증가율',\n",
      "       ...\n",
      "       '2024/설비투자효율', '2024/기계투자효율', '2024/부가가치율', '2024/노동소득분배율',\n",
      "       '2024/법인세차감전순이익(구성비)', '2024/인건비(구성비)', '2024/금융비용(구성비)',\n",
      "       '2024/임차료(구성비)', '2024/조세공과(구성비)', '2024/감가상각비(구성비)'],\n",
      "      dtype='object', length=108)\n",
      "\n",
      "모든 값이 결측인 행의 갯수: 0\n",
      "\n",
      "결측 비율이 0.9 미만인 2024 변수들:\n",
      "Index(['2024/영업이익이자보상비율'], dtype='object')\n"
     ]
    }
   ],
   "source": [
    "# '2024'가 들어가는 변수들 필터링\n",
    "cols_2024 = data.filter(like='2024').columns\n",
    "\n",
    "# 필터링된 변수명 출력\n",
    "print(\"2024가 들어가는 변수들:\")\n",
    "print(cols_2024)\n",
    "\n",
    "# 모든 값이 결측인 행 확인\n",
    "missing_all_2024 = data[cols_2024].isnull().all(axis=1)\n",
    "\n",
    "# 모든 값이 결측인 행의 갯수 출력\n",
    "num_missing_all_2024 = missing_all_2024.sum()\n",
    "print(f\"\\n모든 값이 결측인 행의 갯수: {num_missing_all_2024}\")\n",
    "\n",
    "# 2024 변수들의 결측 비율 계산\n",
    "missing_ratio_2024 = data[cols_2024].isnull().mean()\n",
    "\n",
    "# 결측 비율이 0.9 미만인 변수들 필터링\n",
    "cols_2024_below_90 = missing_ratio_2024[missing_ratio_2024 < 0.9].index\n",
    "\n",
    "# 결측 비율이 0.9 미만인 변수들 출력\n",
    "print(\"\\n결측 비율이 0.9 미만인 2024 변수들:\")\n",
    "print(cols_2024_below_90)"
   ]
  },
  {
   "cell_type": "markdown",
   "metadata": {},
   "source": [
    "'2024/영업이익이자보상비율' 변수의 경우 결측에 0이 들어가있는 상태"
   ]
  },
  {
   "cell_type": "code",
   "execution_count": 9,
   "metadata": {},
   "outputs": [
    {
     "data": {
      "text/plain": [
       "0.9820647532286032"
      ]
     },
     "execution_count": 9,
     "metadata": {},
     "output_type": "execute_result"
    }
   ],
   "source": [
    "len(data[data['2024/영업이익이자보상비율'] == 0])/len(data)"
   ]
  },
  {
   "cell_type": "markdown",
   "metadata": {},
   "source": [
    "2024/영업이익이자보상비율 결측은 실제로 0.98로 2024년 모든 자료는 90퍼센트 이상이 결측으로 존재  \n",
    "-> 2024년 자료를 제거해줌  "
   ]
  },
  {
   "cell_type": "code",
   "execution_count": 10,
   "metadata": {},
   "outputs": [
    {
     "name": "stdout",
     "output_type": "stream",
     "text": [
      "제거 전 변수 갯수: 545\n",
      "제거 후 변수 갯수: 437\n"
     ]
    },
    {
     "data": {
      "text/plain": [
       "Index(['업체코드', '종목코드', '종목명', '2020/총자산증가율', '2021/총자산증가율', '2022/총자산증가율',\n",
       "       '2023/총자산증가율', '2020/유형자산증가율', '2021/유형자산증가율', '2022/유형자산증가율',\n",
       "       ...\n",
       "       '2020/조세공과(구성비)', '2021/조세공과(구성비)', '2022/조세공과(구성비)', '2023/조세공과(구성비)',\n",
       "       '2020/감가상각비(구성비)', '2021/감가상각비(구성비)', '2022/감가상각비(구성비)',\n",
       "       '2023/감가상각비(구성비)', '2022/부실기업', '2023/부실기업'],\n",
       "      dtype='object', length=437)"
      ]
     },
     "execution_count": 10,
     "metadata": {},
     "output_type": "execute_result"
    }
   ],
   "source": [
    "print(f\"제거 전 변수 갯수: {len(data.columns)}\")\n",
    "\n",
    "# 2024년도 데이터 제거\n",
    "data = data.drop(columns=cols_2024)\n",
    "\n",
    "# 제거된 후 데이터프레임 확인\n",
    "print(f\"제거 후 변수 갯수: {len(data.columns)}\")\n",
    "\n",
    "data.columns"
   ]
  },
  {
   "cell_type": "code",
   "execution_count": 11,
   "metadata": {},
   "outputs": [
    {
     "data": {
      "text/html": [
       "<div>\n",
       "<style scoped>\n",
       "    .dataframe tbody tr th:only-of-type {\n",
       "        vertical-align: middle;\n",
       "    }\n",
       "\n",
       "    .dataframe tbody tr th {\n",
       "        vertical-align: top;\n",
       "    }\n",
       "\n",
       "    .dataframe thead th {\n",
       "        text-align: right;\n",
       "    }\n",
       "</style>\n",
       "<table border=\"1\" class=\"dataframe\">\n",
       "  <thead>\n",
       "    <tr style=\"text-align: right;\">\n",
       "      <th></th>\n",
       "      <th>업체코드</th>\n",
       "      <th>종목코드</th>\n",
       "      <th>종목명</th>\n",
       "      <th>2020/총자산증가율</th>\n",
       "      <th>2021/총자산증가율</th>\n",
       "      <th>2022/총자산증가율</th>\n",
       "      <th>2023/총자산증가율</th>\n",
       "      <th>2020/유형자산증가율</th>\n",
       "      <th>2021/유형자산증가율</th>\n",
       "      <th>2022/유형자산증가율</th>\n",
       "      <th>...</th>\n",
       "      <th>2020/조세공과(구성비)</th>\n",
       "      <th>2021/조세공과(구성비)</th>\n",
       "      <th>2022/조세공과(구성비)</th>\n",
       "      <th>2023/조세공과(구성비)</th>\n",
       "      <th>2020/감가상각비(구성비)</th>\n",
       "      <th>2021/감가상각비(구성비)</th>\n",
       "      <th>2022/감가상각비(구성비)</th>\n",
       "      <th>2023/감가상각비(구성비)</th>\n",
       "      <th>2022/부실기업</th>\n",
       "      <th>2023/부실기업</th>\n",
       "    </tr>\n",
       "  </thead>\n",
       "  <tbody>\n",
       "    <tr>\n",
       "      <th>0</th>\n",
       "      <td>N350605</td>\n",
       "      <td>A000020</td>\n",
       "      <td>동화약품</td>\n",
       "      <td>7.57</td>\n",
       "      <td>2.70</td>\n",
       "      <td>3.27</td>\n",
       "      <td>10.23</td>\n",
       "      <td>19.67</td>\n",
       "      <td>10.41</td>\n",
       "      <td>7.64</td>\n",
       "      <td>...</td>\n",
       "      <td>NaN</td>\n",
       "      <td>NaN</td>\n",
       "      <td>NaN</td>\n",
       "      <td>NaN</td>\n",
       "      <td>NaN</td>\n",
       "      <td>NaN</td>\n",
       "      <td>NaN</td>\n",
       "      <td>NaN</td>\n",
       "      <td>0</td>\n",
       "      <td>0</td>\n",
       "    </tr>\n",
       "    <tr>\n",
       "      <th>1</th>\n",
       "      <td>N320498</td>\n",
       "      <td>A000040</td>\n",
       "      <td>KR모터스</td>\n",
       "      <td>-36.76</td>\n",
       "      <td>1.45</td>\n",
       "      <td>-0.52</td>\n",
       "      <td>-4.89</td>\n",
       "      <td>-0.29</td>\n",
       "      <td>5.78</td>\n",
       "      <td>4.85</td>\n",
       "      <td>...</td>\n",
       "      <td>NaN</td>\n",
       "      <td>NaN</td>\n",
       "      <td>NaN</td>\n",
       "      <td>NaN</td>\n",
       "      <td>NaN</td>\n",
       "      <td>NaN</td>\n",
       "      <td>NaN</td>\n",
       "      <td>NaN</td>\n",
       "      <td>1</td>\n",
       "      <td>1</td>\n",
       "    </tr>\n",
       "    <tr>\n",
       "      <th>2</th>\n",
       "      <td>N320684</td>\n",
       "      <td>A000050</td>\n",
       "      <td>경방</td>\n",
       "      <td>-6.47</td>\n",
       "      <td>0.15</td>\n",
       "      <td>-6.09</td>\n",
       "      <td>-1.40</td>\n",
       "      <td>-36.42</td>\n",
       "      <td>-23.56</td>\n",
       "      <td>665.18</td>\n",
       "      <td>...</td>\n",
       "      <td>NaN</td>\n",
       "      <td>NaN</td>\n",
       "      <td>NaN</td>\n",
       "      <td>NaN</td>\n",
       "      <td>NaN</td>\n",
       "      <td>NaN</td>\n",
       "      <td>NaN</td>\n",
       "      <td>NaN</td>\n",
       "      <td>0</td>\n",
       "      <td>0</td>\n",
       "    </tr>\n",
       "  </tbody>\n",
       "</table>\n",
       "<p>3 rows × 437 columns</p>\n",
       "</div>"
      ],
      "text/plain": [
       "      업체코드     종목코드    종목명  2020/총자산증가율  2021/총자산증가율  2022/총자산증가율  \\\n",
       "0  N350605  A000020   동화약품         7.57         2.70         3.27   \n",
       "1  N320498  A000040  KR모터스       -36.76         1.45        -0.52   \n",
       "2  N320684  A000050     경방        -6.47         0.15        -6.09   \n",
       "\n",
       "   2023/총자산증가율  2020/유형자산증가율  2021/유형자산증가율  2022/유형자산증가율  ...  2020/조세공과(구성비)  \\\n",
       "0        10.23         19.67         10.41          7.64  ...             NaN   \n",
       "1        -4.89         -0.29          5.78          4.85  ...             NaN   \n",
       "2        -1.40        -36.42        -23.56        665.18  ...             NaN   \n",
       "\n",
       "   2021/조세공과(구성비)  2022/조세공과(구성비)  2023/조세공과(구성비)  2020/감가상각비(구성비)  \\\n",
       "0             NaN             NaN             NaN              NaN   \n",
       "1             NaN             NaN             NaN              NaN   \n",
       "2             NaN             NaN             NaN              NaN   \n",
       "\n",
       "   2021/감가상각비(구성비)  2022/감가상각비(구성비)  2023/감가상각비(구성비)  2022/부실기업  2023/부실기업  \n",
       "0              NaN              NaN              NaN          0          0  \n",
       "1              NaN              NaN              NaN          1          1  \n",
       "2              NaN              NaN              NaN          0          0  \n",
       "\n",
       "[3 rows x 437 columns]"
      ]
     },
     "execution_count": 11,
     "metadata": {},
     "output_type": "execute_result"
    }
   ],
   "source": [
    "data.head(3)"
   ]
  },
  {
   "cell_type": "code",
   "execution_count": 12,
   "metadata": {},
   "outputs": [
    {
     "name": "stdout",
     "output_type": "stream",
     "text": [
      "\n",
      "결측 비율이 0.7 이상인 변수들:\n",
      "Index(['종목코드', '2023/감가상각비/총비용비율', '2023/인건비/총비용비율', '2023/조세/조세차감전순이익비율',\n",
      "       '2023/조세공과/총비용비율', '2020/배당율', '2021/배당율', '2022/배당율', '2023/배당율',\n",
      "       '2020/재공품회전율', '2021/재공품회전율', '2023/재공품회전율', '2020/부가가치(종업원1인당)',\n",
      "       '2021/부가가치(종업원1인당)', '2022/부가가치(종업원1인당)', '2023/부가가치(종업원1인당)',\n",
      "       '2020/인건비(종업원1인당)', '2021/인건비(종업원1인당)', '2022/인건비(종업원1인당)',\n",
      "       '2023/인건비(종업원1인당)', '2023/총자본투자효율', '2023/설비투자효율', '2020/기계투자효율',\n",
      "       '2021/기계투자효율', '2022/기계투자효율', '2023/기계투자효율', '2023/부가가치율',\n",
      "       '2023/노동소득분배율', '2023/법인세차감전순이익(구성비)', '2023/인건비(구성비)',\n",
      "       '2023/금융비용(구성비)', '2023/임차료(구성비)', '2023/조세공과(구성비)', '2023/감가상각비(구성비)'],\n",
      "      dtype='object')\n",
      "\n",
      "결측 비율이 0.8 이상인 변수들:\n",
      "Index(['종목코드', '2020/배당율', '2021/배당율', '2022/배당율', '2023/배당율', '2023/기계투자효율'], dtype='object')\n",
      "\n",
      "결측 비율이 0.9 이상인 변수들:\n",
      "Index(['종목코드'], dtype='object')\n"
     ]
    }
   ],
   "source": [
    "import pandas as pd\n",
    "\n",
    "# 모든 변수들에 대해 결측 비율 계산\n",
    "missing_ratio_all = data.isnull().mean()\n",
    "\n",
    "# # 결측 비율이 0.5 이상인 변수들 필터링 및 출력\n",
    "# cols_above_50 = missing_ratio_all[missing_ratio_all >= 0.5].index\n",
    "# print(\"\\n결측 비율이 0.5 이상인 변수들:\")\n",
    "# print(cols_above_50)\n",
    "\n",
    "# # 결측 비율이 0.6 이상인 변수들 필터링 및 출력\n",
    "# cols_above_60 = missing_ratio_all[missing_ratio_all >= 0.6].index\n",
    "# print(\"\\n결측 비율이 0.6 이상인 변수들:\")\n",
    "# print(cols_above_60)\n",
    "\n",
    "# 결측 비율이 0.7 이상인 변수들 필터링 및 출력\n",
    "cols_above_70 = missing_ratio_all[missing_ratio_all >= 0.7].index\n",
    "print(\"\\n결측 비율이 0.7 이상인 변수들:\")\n",
    "print(cols_above_70)\n",
    "\n",
    "# 결측 비율이 0.8 이상인 변수들 필터링 및 출력\n",
    "cols_above_80 = missing_ratio_all[missing_ratio_all >= 0.8].index\n",
    "print(\"\\n결측 비율이 0.8 이상인 변수들:\")\n",
    "print(cols_above_80)\n",
    "\n",
    "# 결측 비율이 0.9 이상인 변수들 필터링 및 출력\n",
    "cols_above_90 = missing_ratio_all[missing_ratio_all >= 0.9].index\n",
    "print(\"\\n결측 비율이 0.9 이상인 변수들:\")\n",
    "print(cols_above_90)"
   ]
  },
  {
   "cell_type": "markdown",
   "metadata": {},
   "source": [
    "이때 종목코드 x -> 해당 기업이 상장되지 않은 경우"
   ]
  },
  {
   "cell_type": "code",
   "execution_count": 13,
   "metadata": {},
   "outputs": [],
   "source": [
    "# '종목코드' 열의 값이 있으면 1, 없으면 0을 부여하는 새로운 열 생성\n",
    "data['종목코드_유무'] = data['종목코드'].notnull().astype(int)\n",
    "\n",
    "# '종목코드' 열 제거\n",
    "data = data.drop(columns=['종목코드'])"
   ]
  },
  {
   "cell_type": "markdown",
   "metadata": {},
   "source": [
    "나머지 변수들의 결측값에 대해서는 0을 넣어줌"
   ]
  },
  {
   "cell_type": "code",
   "execution_count": 14,
   "metadata": {},
   "outputs": [
    {
     "data": {
      "text/html": [
       "<div>\n",
       "<style scoped>\n",
       "    .dataframe tbody tr th:only-of-type {\n",
       "        vertical-align: middle;\n",
       "    }\n",
       "\n",
       "    .dataframe tbody tr th {\n",
       "        vertical-align: top;\n",
       "    }\n",
       "\n",
       "    .dataframe thead th {\n",
       "        text-align: right;\n",
       "    }\n",
       "</style>\n",
       "<table border=\"1\" class=\"dataframe\">\n",
       "  <thead>\n",
       "    <tr style=\"text-align: right;\">\n",
       "      <th></th>\n",
       "      <th>업체코드</th>\n",
       "      <th>종목명</th>\n",
       "      <th>2020/총자산증가율</th>\n",
       "      <th>2021/총자산증가율</th>\n",
       "      <th>2022/총자산증가율</th>\n",
       "      <th>2023/총자산증가율</th>\n",
       "      <th>2020/유형자산증가율</th>\n",
       "      <th>2021/유형자산증가율</th>\n",
       "      <th>2022/유형자산증가율</th>\n",
       "      <th>2023/유형자산증가율</th>\n",
       "      <th>...</th>\n",
       "      <th>2021/조세공과(구성비)</th>\n",
       "      <th>2022/조세공과(구성비)</th>\n",
       "      <th>2023/조세공과(구성비)</th>\n",
       "      <th>2020/감가상각비(구성비)</th>\n",
       "      <th>2021/감가상각비(구성비)</th>\n",
       "      <th>2022/감가상각비(구성비)</th>\n",
       "      <th>2023/감가상각비(구성비)</th>\n",
       "      <th>2022/부실기업</th>\n",
       "      <th>2023/부실기업</th>\n",
       "      <th>종목코드_유무</th>\n",
       "    </tr>\n",
       "  </thead>\n",
       "  <tbody>\n",
       "    <tr>\n",
       "      <th>0</th>\n",
       "      <td>N350605</td>\n",
       "      <td>동화약품</td>\n",
       "      <td>7.57</td>\n",
       "      <td>2.70</td>\n",
       "      <td>3.27</td>\n",
       "      <td>10.23</td>\n",
       "      <td>19.67</td>\n",
       "      <td>10.41</td>\n",
       "      <td>7.64</td>\n",
       "      <td>15.13</td>\n",
       "      <td>...</td>\n",
       "      <td>0.0</td>\n",
       "      <td>0.0</td>\n",
       "      <td>0.0</td>\n",
       "      <td>0.0</td>\n",
       "      <td>0.0</td>\n",
       "      <td>0.0</td>\n",
       "      <td>0.0</td>\n",
       "      <td>0</td>\n",
       "      <td>0</td>\n",
       "      <td>1</td>\n",
       "    </tr>\n",
       "    <tr>\n",
       "      <th>1</th>\n",
       "      <td>N320498</td>\n",
       "      <td>KR모터스</td>\n",
       "      <td>-36.76</td>\n",
       "      <td>1.45</td>\n",
       "      <td>-0.52</td>\n",
       "      <td>-4.89</td>\n",
       "      <td>-0.29</td>\n",
       "      <td>5.78</td>\n",
       "      <td>4.85</td>\n",
       "      <td>-10.98</td>\n",
       "      <td>...</td>\n",
       "      <td>0.0</td>\n",
       "      <td>0.0</td>\n",
       "      <td>0.0</td>\n",
       "      <td>0.0</td>\n",
       "      <td>0.0</td>\n",
       "      <td>0.0</td>\n",
       "      <td>0.0</td>\n",
       "      <td>1</td>\n",
       "      <td>1</td>\n",
       "      <td>1</td>\n",
       "    </tr>\n",
       "    <tr>\n",
       "      <th>2</th>\n",
       "      <td>N320684</td>\n",
       "      <td>경방</td>\n",
       "      <td>-6.47</td>\n",
       "      <td>0.15</td>\n",
       "      <td>-6.09</td>\n",
       "      <td>-1.40</td>\n",
       "      <td>-36.42</td>\n",
       "      <td>-23.56</td>\n",
       "      <td>665.18</td>\n",
       "      <td>-4.12</td>\n",
       "      <td>...</td>\n",
       "      <td>0.0</td>\n",
       "      <td>0.0</td>\n",
       "      <td>0.0</td>\n",
       "      <td>0.0</td>\n",
       "      <td>0.0</td>\n",
       "      <td>0.0</td>\n",
       "      <td>0.0</td>\n",
       "      <td>0</td>\n",
       "      <td>0</td>\n",
       "      <td>1</td>\n",
       "    </tr>\n",
       "  </tbody>\n",
       "</table>\n",
       "<p>3 rows × 437 columns</p>\n",
       "</div>"
      ],
      "text/plain": [
       "      업체코드    종목명  2020/총자산증가율  2021/총자산증가율  2022/총자산증가율  2023/총자산증가율  \\\n",
       "0  N350605   동화약품         7.57         2.70         3.27        10.23   \n",
       "1  N320498  KR모터스       -36.76         1.45        -0.52        -4.89   \n",
       "2  N320684     경방        -6.47         0.15        -6.09        -1.40   \n",
       "\n",
       "   2020/유형자산증가율  2021/유형자산증가율  2022/유형자산증가율  2023/유형자산증가율  ...  \\\n",
       "0         19.67         10.41          7.64         15.13  ...   \n",
       "1         -0.29          5.78          4.85        -10.98  ...   \n",
       "2        -36.42        -23.56        665.18         -4.12  ...   \n",
       "\n",
       "   2021/조세공과(구성비)  2022/조세공과(구성비)  2023/조세공과(구성비)  2020/감가상각비(구성비)  \\\n",
       "0             0.0             0.0             0.0              0.0   \n",
       "1             0.0             0.0             0.0              0.0   \n",
       "2             0.0             0.0             0.0              0.0   \n",
       "\n",
       "   2021/감가상각비(구성비)  2022/감가상각비(구성비)  2023/감가상각비(구성비)  2022/부실기업  2023/부실기업  \\\n",
       "0              0.0              0.0              0.0          0          0   \n",
       "1              0.0              0.0              0.0          1          1   \n",
       "2              0.0              0.0              0.0          0          0   \n",
       "\n",
       "   종목코드_유무  \n",
       "0        1  \n",
       "1        1  \n",
       "2        1  \n",
       "\n",
       "[3 rows x 437 columns]"
      ]
     },
     "execution_count": 14,
     "metadata": {},
     "output_type": "execute_result"
    }
   ],
   "source": [
    "import pandas as pd\n",
    "\n",
    "# 결측값을 0으로 채우기\n",
    "data = data.fillna(0)\n",
    "\n",
    "# 변경된 데이터프레임 확인\n",
    "data.head(3)"
   ]
  },
  {
   "cell_type": "markdown",
   "metadata": {},
   "source": [
    "### 데이터 저장"
   ]
  },
  {
   "cell_type": "code",
   "execution_count": 15,
   "metadata": {},
   "outputs": [],
   "source": [
    "# CSV 파일로 저장\n",
    "data.to_csv(\"../../project/data/clean_financial_data_eda.csv\", index=False, encoding='utf-8-sig')"
   ]
  },
  {
   "cell_type": "markdown",
   "metadata": {},
   "source": [
    "### 이후 할것 스케치\n",
    "\n",
    "전처리(변수선택)\n",
    "- 후진제거법\n",
    "- t-검정\n",
    "\n",
    "모델링\n",
    "- 20,21년도 변수 -> 22년 부실기업 여부 예측\n",
    "- 20,21,22년도 변수 -> 23년도 부실기업 여부 예측"
   ]
  },
  {
   "cell_type": "markdown",
   "metadata": {},
   "source": [
    "."
   ]
  }
 ],
 "metadata": {
  "kernelspec": {
   "display_name": "base",
   "language": "python",
   "name": "python3"
  },
  "language_info": {
   "codemirror_mode": {
    "name": "ipython",
    "version": 3
   },
   "file_extension": ".py",
   "mimetype": "text/x-python",
   "name": "python",
   "nbconvert_exporter": "python",
   "pygments_lexer": "ipython3",
   "version": "3.12.4"
  }
 },
 "nbformat": 4,
 "nbformat_minor": 2
}
