{
 "cells": [
  {
   "cell_type": "markdown",
   "metadata": {},
   "source": [
    "# BIZ 프로젝트 : 부실기업 예측"
   ]
  },
  {
   "cell_type": "markdown",
   "metadata": {},
   "source": [
    "## Step1 : 데이터 불러오기"
   ]
  },
  {
   "cell_type": "markdown",
   "metadata": {},
   "source": [
    "외부감사를 받아야 하는 법인을 의미하는 외부감사기업을 대상으로    \n",
    "20-24년의 기간의 재무비율 115개의 항목에 대해서 ValueSearch를 이용하여 데이터를 수집하였다.  "
   ]
  },
  {
   "cell_type": "markdown",
   "metadata": {},
   "source": [
    "https://www.nicevse.com/vse/main.html"
   ]
  },
  {
   "cell_type": "markdown",
   "metadata": {},
   "source": [
    "### 필요라이브러리 불러오기"
   ]
  },
  {
   "cell_type": "code",
   "execution_count": 23,
   "metadata": {},
   "outputs": [],
   "source": [
    "import pandas as pd"
   ]
  },
  {
   "cell_type": "markdown",
   "metadata": {},
   "source": [
    "### 데이터 불러오기"
   ]
  },
  {
   "cell_type": "code",
   "execution_count": 24,
   "metadata": {},
   "outputs": [],
   "source": [
    "RANDOM_STATE = 110\n",
    "\n",
    "# Excel 파일 읽기\n",
    "data = pd.read_excel(\"../../project/data/financial_data.xlsx\", header=1, sheet_name='Sheet1')"
   ]
  },
  {
   "cell_type": "code",
   "execution_count": 25,
   "metadata": {},
   "outputs": [
    {
     "data": {
      "text/plain": [
       "39861"
      ]
     },
     "execution_count": 25,
     "metadata": {},
     "output_type": "execute_result"
    }
   ],
   "source": [
    "len(data)"
   ]
  },
  {
   "cell_type": "markdown",
   "metadata": {},
   "source": [
    "외부감사기업으로 약 4만개의 기업의 데이터를 확보하였다."
   ]
  },
  {
   "cell_type": "code",
   "execution_count": 26,
   "metadata": {},
   "outputs": [
    {
     "data": {
      "text/plain": [
       "Index(['업체코드', '종목코드', '종목명', '_0', '_0.1', '_0.2', '_0.3', '_0.4',\n",
       "       '2020/Annual\\n191000.<성장성에 관한 지표>', '2021/Annual\\n191000.<성장성에 관한 지표>',\n",
       "       ...\n",
       "       '2020/Annual\\n196050.조세공과(구성비)', '2021/Annual\\n196050.조세공과(구성비)',\n",
       "       '2022/Annual\\n196050.조세공과(구성비)', '2023/Annual\\n196050.조세공과(구성비)',\n",
       "       '2024/Annual\\n196050.조세공과(구성비)', '2020/Annual\\n196060.감가상각비(구성비)',\n",
       "       '2021/Annual\\n196060.감가상각비(구성비)', '2022/Annual\\n196060.감가상각비(구성비)',\n",
       "       '2023/Annual\\n196060.감가상각비(구성비)', '2024/Annual\\n196060.감가상각비(구성비)'],\n",
       "      dtype='object', length=578)"
      ]
     },
     "execution_count": 26,
     "metadata": {},
     "output_type": "execute_result"
    }
   ],
   "source": [
    "data.columns"
   ]
  },
  {
   "cell_type": "code",
   "execution_count": 27,
   "metadata": {},
   "outputs": [
    {
     "name": "stdout",
     "output_type": "stream",
     "text": [
      "'_0' 변수의 고유 값: [nan]\n",
      "'_0.1' 변수의 고유 값: [nan]\n",
      "'_0.2' 변수의 고유 값: [nan]\n",
      "'_0.3' 변수의 고유 값: [nan]\n",
      "'_0.4' 변수의 고유 값: [nan]\n"
     ]
    }
   ],
   "source": [
    "# 확인할 변수 목록\n",
    "variables_to_check = ['_0', '_0.1', '_0.2', '_0.3', '_0.4']\n",
    "\n",
    "# 각 변수의 고유 값 확인\n",
    "for column in variables_to_check:\n",
    "    if column in data.columns:\n",
    "        unique_values = data[column].unique()\n",
    "        print(f\"'{column}' 변수의 고유 값: {unique_values}\")\n",
    "    else:\n",
    "        print(f\"'{column}' 변수는 데이터프레임에 존재하지 않습니다.\")"
   ]
  },
  {
   "cell_type": "code",
   "execution_count": 28,
   "metadata": {},
   "outputs": [],
   "source": [
    "# 드랍할 변수 목록\n",
    "variables_to_drop = ['_0', '_0.1', '_0.2', '_0.3', '_0.4']\n",
    "\n",
    "# 변수 드랍\n",
    "df = data.drop(columns=variables_to_drop)"
   ]
  },
  {
   "cell_type": "markdown",
   "metadata": {},
   "source": [
    "데이터를 수집하는 과정에서 불필요하다고 생각이 들은 변수들에 대해서 결측값을 확인하였고    \n",
    "['_0', '_0.1', '_0.2', '_0.3', '_0.4'] 5개의 변수 모두 결측으로 존재하여 제거해 주었다.  "
   ]
  },
  {
   "cell_type": "code",
   "execution_count": 29,
   "metadata": {},
   "outputs": [
    {
     "data": {
      "text/plain": [
       "Index(['업체코드', '종목코드', '종목명', '2020/Annual\\n191000.<성장성에 관한 지표>',\n",
       "       '2021/Annual\\n191000.<성장성에 관한 지표>', '2022/Annual\\n191000.<성장성에 관한 지표>',\n",
       "       '2023/Annual\\n191000.<성장성에 관한 지표>', '2024/Annual\\n191000.<성장성에 관한 지표>',\n",
       "       '2020/Annual\\n191010.총자산증가율', '2021/Annual\\n191010.총자산증가율',\n",
       "       ...\n",
       "       '2020/Annual\\n196050.조세공과(구성비)', '2021/Annual\\n196050.조세공과(구성비)',\n",
       "       '2022/Annual\\n196050.조세공과(구성비)', '2023/Annual\\n196050.조세공과(구성비)',\n",
       "       '2024/Annual\\n196050.조세공과(구성비)', '2020/Annual\\n196060.감가상각비(구성비)',\n",
       "       '2021/Annual\\n196060.감가상각비(구성비)', '2022/Annual\\n196060.감가상각비(구성비)',\n",
       "       '2023/Annual\\n196060.감가상각비(구성비)', '2024/Annual\\n196060.감가상각비(구성비)'],\n",
       "      dtype='object', length=573)"
      ]
     },
     "execution_count": 29,
     "metadata": {},
     "output_type": "execute_result"
    }
   ],
   "source": [
    "df.columns"
   ]
  },
  {
   "cell_type": "markdown",
   "metadata": {},
   "source": [
    "기업의 인덱스와 관련된 변수 ['업체코드', '종목코드', '종목명']를 제외하면 변수는 총 570개  \n",
    "570 -> 5(연도) * 114(재무비율) 으로 재무비율 변수로 총 114개  "
   ]
  },
  {
   "cell_type": "code",
   "execution_count": 30,
   "metadata": {},
   "outputs": [
    {
     "name": "stdout",
     "output_type": "stream",
     "text": [
      "Index(['업체코드', '종목코드', '종목명', '2020/<성장성에 관한 지표>', '2021/<성장성에 관한 지표>',\n",
      "       '2022/<성장성에 관한 지표>', '2023/<성장성에 관한 지표>', '2024/<성장성에 관한 지표>',\n",
      "       '2020/총자산증가율', '2021/총자산증가율',\n",
      "       ...\n",
      "       '2020/조세공과(구성비)', '2021/조세공과(구성비)', '2022/조세공과(구성비)', '2023/조세공과(구성비)',\n",
      "       '2024/조세공과(구성비)', '2020/감가상각비(구성비)', '2021/감가상각비(구성비)',\n",
      "       '2022/감가상각비(구성비)', '2023/감가상각비(구성비)', '2024/감가상각비(구성비)'],\n",
      "      dtype='object', length=573)\n"
     ]
    }
   ],
   "source": [
    "# 열 이름 변환 함수\n",
    "def transform_column_name(col_name):\n",
    "    if col_name in ['업체코드', '종목코드', '종목명']:\n",
    "        return col_name\n",
    "    parts = col_name.split('\\n')\n",
    "    if len(parts) == 2:\n",
    "        year, desc = parts\n",
    "        desc = desc.split('.')[1]  # 변수 키워드 부분만 추출\n",
    "        return f\"{year.split('/')[0]}/{desc}\"\n",
    "    return col_name\n",
    "\n",
    "# 열 이름 변환 적용\n",
    "df.columns = [transform_column_name(col) for col in df.columns]\n",
    "\n",
    "# 변환된 열 이름 출력\n",
    "print(df.columns)"
   ]
  },
  {
   "cell_type": "markdown",
   "metadata": {},
   "source": [
    "변수명의 주요 키워드만을 이용하여 새로운 변수명으로 변환   \n",
    "ex) 2020/Annual\\n196050.조세공과(구성비) -> 2020/조세공과(구성비)   "
   ]
  },
  {
   "cell_type": "code",
   "execution_count": 33,
   "metadata": {},
   "outputs": [
    {
     "name": "stdout",
     "output_type": "stream",
     "text": [
      "중복되는 열 이름이 없습니다.\n"
     ]
    }
   ],
   "source": [
    "import pandas as pd\n",
    "\n",
    "# 열 이름 중복 확인 함수\n",
    "def check_duplicate_columns(df):\n",
    "    duplicates = df.columns[df.columns.duplicated()]\n",
    "    if len(duplicates) > 0:\n",
    "        print(\"중복되는 열 이름:\", duplicates)\n",
    "    else:\n",
    "        print(\"중복되는 열 이름이 없습니다.\")\n",
    "\n",
    "# 중복 확인 함수 호출\n",
    "check_duplicate_columns(df)"
   ]
  },
  {
   "cell_type": "markdown",
   "metadata": {},
   "source": [
    "변환된 변수명간에 중복되는 경우를 확인하였고 없음을 확인하였다."
   ]
  },
  {
   "cell_type": "code",
   "execution_count": 36,
   "metadata": {},
   "outputs": [
    {
     "data": {
      "text/plain": [
       "39861"
      ]
     },
     "execution_count": 36,
     "metadata": {},
     "output_type": "execute_result"
    }
   ],
   "source": [
    "len(df)"
   ]
  },
  {
   "cell_type": "code",
   "execution_count": null,
   "metadata": {},
   "outputs": [
    {
     "data": {
      "text/plain": [
       "업체코드     종목코드     종목명      \n",
       "N000292  A059210  메타바이오메드      1\n",
       "N813419  A021880  메이슨캐피탈       1\n",
       "N813605  A022100  포스코DX        1\n",
       "N813796  A033650  메타넷디지털(주)    1\n",
       "N813826  A023780  신한캐피탈(주)     1\n",
       "                              ..\n",
       "N290082  A117560  (주)삼우아이엠씨    1\n",
       "N290141  A214870  한울BnC        1\n",
       "N290171  A317120  라닉스          1\n",
       "N290565  A305090  마이크로디지탈      1\n",
       "NT42259  A456190  큐라켐          1\n",
       "Length: 3670, dtype: int64"
      ]
     },
     "execution_count": 35,
     "metadata": {},
     "output_type": "execute_result"
    }
   ],
   "source": [
    "# 기업의 인덱스 관련 변수 지정하여 중복 확인\n",
    "df[['업체코드', '종목코드', '종목명']].value_counts()"
   ]
  },
  {
   "cell_type": "code",
   "execution_count": 35,
   "metadata": {},
   "outputs": [],
   "source": [
    "data.drop_duplicates(subset=['종목명'], keep='first', inplace=True)"
   ]
  },
  {
   "cell_type": "code",
   "execution_count": 36,
   "metadata": {},
   "outputs": [
    {
     "data": {
      "text/plain": [
       "종목명\n",
       "(주)신한은행         1\n",
       "(주)포트디자인랩       1\n",
       "(주)영신하우징        1\n",
       "(주)아이브이신라       1\n",
       "농업회사법인(주)무의     1\n",
       "               ..\n",
       "제트에프렘페더샤시(주)    1\n",
       "(주)마창대교         1\n",
       "(주)삼희종합건설       1\n",
       "(주)포럼씨앤디        1\n",
       "(주)엘림글로벌        1\n",
       "Name: count, Length: 38798, dtype: int64"
      ]
     },
     "execution_count": 36,
     "metadata": {},
     "output_type": "execute_result"
    }
   ],
   "source": [
    "data['종목명'].value_counts()"
   ]
  }
 ],
 "metadata": {
  "kernelspec": {
   "display_name": "Python 3",
   "language": "python",
   "name": "python3"
  },
  "language_info": {
   "codemirror_mode": {
    "name": "ipython",
    "version": 3
   },
   "file_extension": ".py",
   "mimetype": "text/x-python",
   "name": "python",
   "nbconvert_exporter": "python",
   "pygments_lexer": "ipython3",
   "version": "3.7.8"
  }
 },
 "nbformat": 4,
 "nbformat_minor": 2
}
