{
 "cells": [
  {
   "cell_type": "markdown",
   "metadata": {},
   "source": [
    "필요 설정"
   ]
  },
  {
   "cell_type": "code",
   "execution_count": 258,
   "metadata": {},
   "outputs": [],
   "source": [
    "import matplotlib.pyplot as plt\n",
    "\n",
    "# 한글 폰트 설정\n",
    "plt.rcParams['font.family'] = 'Malgun Gothic'\n",
    "plt.rcParams['axes.unicode_minus'] = False\n"
   ]
  },
  {
   "cell_type": "markdown",
   "metadata": {
    "id": "3XVl64aOyJtN"
   },
   "source": [
    "# 1. 데이터 불러오기"
   ]
  },
  {
   "cell_type": "code",
   "execution_count": 259,
   "metadata": {
    "colab": {
     "base_uri": "https://localhost:8080/",
     "height": 76
    },
    "executionInfo": {
     "elapsed": 985498,
     "status": "ok",
     "timestamp": 1731221555428,
     "user": {
      "displayName": "‍김세원[재학 / 경영학전공]",
      "userId": "08422766966386930480"
     },
     "user_tz": -540
    },
    "id": "UsYsjTUqyHer",
    "outputId": "0d9b9779-dc25-4170-be67-17e7309cb893"
   },
   "outputs": [],
   "source": [
    "import pandas as pd\n",
    "# from google.colab import files\n",
    "# uploaded=files.upload()"
   ]
  },
  {
   "cell_type": "markdown",
   "metadata": {
    "id": "Bnun8-aa2bcC"
   },
   "source": [
    "# 2. 데이터 간단하게 살펴보기"
   ]
  },
  {
   "cell_type": "code",
   "execution_count": 260,
   "metadata": {},
   "outputs": [],
   "source": [
    "RANDOM_STATE = 110\n",
    "\n",
    "data = pd.read_csv(\"../../project/data/clean_financial_data.csv\", encoding='utf-8-sig', low_memory=False)"
   ]
  },
  {
   "cell_type": "code",
   "execution_count": 261,
   "metadata": {
    "colab": {
     "base_uri": "https://localhost:8080/"
    },
    "executionInfo": {
     "elapsed": 4832,
     "status": "ok",
     "timestamp": 1731222235673,
     "user": {
      "displayName": "‍김세원[재학 / 경영학전공]",
      "userId": "08422766966386930480"
     },
     "user_tz": -540
    },
    "id": "_4oggk4I2LzI",
    "outputId": "5ad5ccc3-1da2-4901-b760-0927526b401c"
   },
   "outputs": [
    {
     "name": "stdout",
     "output_type": "stream",
     "text": [
      "<class 'pandas.core.frame.DataFrame'>\n",
      "RangeIndex: 38639 entries, 0 to 38638\n",
      "Columns: 543 entries, 업체코드 to 2024/감가상각비(구성비)\n",
      "dtypes: float64(540), object(3)\n",
      "memory usage: 160.1+ MB\n"
     ]
    },
    {
     "data": {
      "text/plain": [
       "(      업체코드     종목코드    종목명  2020/총자산증가율  2021/총자산증가율  2022/총자산증가율  \\\n",
       " 0  N350605  A000020   동화약품         7.57         2.70         3.27   \n",
       " 1  N320498  A000040  KR모터스       -36.76         1.45        -0.52   \n",
       " 2  N320684  A000050     경방        -6.47         0.15        -6.09   \n",
       " 3  N320730  A000070  삼양홀딩스         6.31        22.28        -0.76   \n",
       " 4  N310581  A000080  하이트진로        -0.99        10.65        -9.43   \n",
       " \n",
       "    2023/총자산증가율  2024/총자산증가율  2020/유형자산증가율  2021/유형자산증가율  ...  2020/조세공과(구성비)  \\\n",
       " 0        10.23          NaN         19.67         10.41  ...             NaN   \n",
       " 1        -4.89          NaN         -0.29          5.78  ...             NaN   \n",
       " 2        -1.40          NaN        -36.42        -23.56  ...             NaN   \n",
       " 3        17.63          NaN        -45.53        943.89  ...             NaN   \n",
       " 4        -0.03          NaN         -6.75         -2.60  ...             NaN   \n",
       " \n",
       "    2021/조세공과(구성비)  2022/조세공과(구성비)  2023/조세공과(구성비)  2024/조세공과(구성비)  \\\n",
       " 0             NaN             NaN             NaN             NaN   \n",
       " 1             NaN             NaN             NaN             NaN   \n",
       " 2             NaN             NaN             NaN             NaN   \n",
       " 3             NaN             NaN             NaN             NaN   \n",
       " 4             NaN             NaN             NaN             NaN   \n",
       " \n",
       "    2020/감가상각비(구성비)  2021/감가상각비(구성비)  2022/감가상각비(구성비)  2023/감가상각비(구성비)  \\\n",
       " 0              NaN              NaN              NaN              NaN   \n",
       " 1              NaN              NaN              NaN              NaN   \n",
       " 2              NaN              NaN              NaN              NaN   \n",
       " 3              NaN              NaN              NaN              NaN   \n",
       " 4              NaN              NaN              NaN              NaN   \n",
       " \n",
       "    2024/감가상각비(구성비)  \n",
       " 0              NaN  \n",
       " 1              NaN  \n",
       " 2              NaN  \n",
       " 3              NaN  \n",
       " 4              NaN  \n",
       " \n",
       " [5 rows x 543 columns],\n",
       " None,\n",
       "         2020/총자산증가율   2021/총자산증가율   2022/총자산증가율   2023/총자산증가율  2024/총자산증가율  \\\n",
       " count  3.188600e+04  3.362400e+04  3.623900e+04  3.741500e+04   921.000000   \n",
       " mean   5.305259e+04  1.163331e+04  2.996273e+03  4.451929e+04     7.380532   \n",
       " std    6.367349e+06  1.845671e+06  3.276952e+05  8.601052e+06    36.305262   \n",
       " min   -1.000000e+02 -9.973000e+01 -9.476000e+01 -9.910000e+01   -67.480000   \n",
       " 25%   -2.670000e+00 -5.825000e-01 -1.560000e+00 -3.260000e+00    -2.730000   \n",
       " 50%    5.260000e+00  8.850000e+00  6.350000e+00  3.310000e+00     1.140000   \n",
       " 75%    2.223000e+01  2.934250e+01  2.283000e+01  1.567500e+01    10.870000   \n",
       " max    1.088298e+09  3.380280e+08  5.932866e+07  1.663698e+09   795.320000   \n",
       " \n",
       "        2020/유형자산증가율  2021/유형자산증가율  2022/유형자산증가율  2023/유형자산증가율   2024/유형자산증가율  \\\n",
       " count  3.034000e+04  3.170000e+04  3.378700e+04  3.483800e+04     833.000000   \n",
       " mean   8.253629e+04  1.624520e+05  2.604517e+05  1.703348e+05     418.052965   \n",
       " std    6.196724e+06  1.701625e+07  2.430867e+07  1.579391e+07    7874.739634   \n",
       " min   -1.000000e+02 -1.000000e+02 -1.000000e+02 -1.000000e+02     -94.990000   \n",
       " 25%   -5.570000e+00 -5.210000e+00 -4.620000e+00 -4.710000e+00      -6.460000   \n",
       " 50%   -5.700000e-01 -2.400000e-01 -2.000000e-01 -6.200000e-01      -1.190000   \n",
       " 75%    1.721000e+01  2.111500e+01  1.906000e+01  1.183000e+01       8.680000   \n",
       " max    8.957088e+08  2.580453e+09  3.426597e+09  2.557226e+09  200396.360000   \n",
       " \n",
       "        ...  2020/조세공과(구성비)  2021/조세공과(구성비)  2022/조세공과(구성비)  2023/조세공과(구성비)  \\\n",
       " count  ...    14463.000000    14194.000000    12183.000000     9002.000000   \n",
       " mean   ...      -27.222122        1.300757        2.323539        5.193423   \n",
       " std    ...     3733.618319      135.886000       84.964748      200.833916   \n",
       " min    ...  -448826.090000   -15258.600000    -6844.660000    -6908.090000   \n",
       " 25%    ...        0.990000        0.950000        0.980000        1.050000   \n",
       " 50%    ...        2.090000        2.050000        2.060000        2.080000   \n",
       " 75%    ...        3.250000        3.190000        3.210000        3.157500   \n",
       " max    ...    10934.340000     1784.340000     3801.870000    12466.900000   \n",
       " \n",
       "        2024/조세공과(구성비)  2020/감가상각비(구성비)  2021/감가상각비(구성비)  2022/감가상각비(구성비)  \\\n",
       " count       51.000000     14463.000000     14194.000000     12183.000000   \n",
       " mean         2.906275        20.768527         3.407910        12.194536   \n",
       " std          4.194248       943.057131       773.357338       264.861602   \n",
       " min         -0.980000     -9796.800000    -90985.120000     -6907.970000   \n",
       " 25%          0.610000         1.920000         1.810000         1.990000   \n",
       " 50%          1.900000         7.080000         6.785000         7.050000   \n",
       " 75%          3.055000        15.180000        14.587500        14.600000   \n",
       " max         21.850000    107285.710000      2916.000000     24896.950000   \n",
       " \n",
       "        2023/감가상각비(구성비)  2024/감가상각비(구성비)  \n",
       " count      9002.000000        51.000000  \n",
       " mean          9.857141         9.391373  \n",
       " std         274.440220        10.601660  \n",
       " min      -23573.090000        -2.950000  \n",
       " 25%           2.410000         2.445000  \n",
       " 50%           7.410000         6.000000  \n",
       " 75%          15.017500        12.165000  \n",
       " max        8082.130000        43.220000  \n",
       " \n",
       " [8 rows x 540 columns])"
      ]
     },
     "execution_count": 261,
     "metadata": {},
     "output_type": "execute_result"
    }
   ],
   "source": [
    "# Load the uploaded file to examine its structure\n",
    "# data = 'clean_financial_data.csv'\n",
    "# data = pd.read_csv(data)\n",
    "\n",
    "# Display the first few rows, column info, and summary statistics\n",
    "data_head = data.head()\n",
    "data_info = data.info()\n",
    "data_describe = data.describe()\n",
    "\n",
    "data_head, data_info, data_describe"
   ]
  },
  {
   "cell_type": "markdown",
   "metadata": {
    "id": "zBv9Nigi2mmu"
   },
   "source": [
    "# 3. 결측치 처리"
   ]
  },
  {
   "cell_type": "code",
   "execution_count": 262,
   "metadata": {
    "colab": {
     "base_uri": "https://localhost:8080/"
    },
    "executionInfo": {
     "elapsed": 488,
     "status": "ok",
     "timestamp": 1731222530600,
     "user": {
      "displayName": "‍김세원[재학 / 경영학전공]",
      "userId": "08422766966386930480"
     },
     "user_tz": -540
    },
    "id": "aGDPV-7g2o5T",
    "outputId": "83ea0174-8ab4-4d6f-c277-5c9653735c91"
   },
   "outputs": [
    {
     "data": {
      "text/plain": [
       "Index(['업체코드', '종목코드', '종목명', '2020/총자산증가율', '2021/총자산증가율', '2022/총자산증가율',\n",
       "       '2023/총자산증가율', '2024/총자산증가율', '2020/유형자산증가율', '2021/유형자산증가율',\n",
       "       ...\n",
       "       '2020/조세공과(구성비)', '2021/조세공과(구성비)', '2022/조세공과(구성비)', '2023/조세공과(구성비)',\n",
       "       '2024/조세공과(구성비)', '2020/감가상각비(구성비)', '2021/감가상각비(구성비)',\n",
       "       '2022/감가상각비(구성비)', '2023/감가상각비(구성비)', '2024/감가상각비(구성비)'],\n",
       "      dtype='object', length=543)"
      ]
     },
     "execution_count": 262,
     "metadata": {},
     "output_type": "execute_result"
    }
   ],
   "source": [
    "import pandas as pd\n",
    "import seaborn as sns\n",
    "import numpy as np\n",
    "\n",
    "data.columns\n"
   ]
  },
  {
   "cell_type": "markdown",
   "metadata": {
    "id": "yjQV0lDa58Kw"
   },
   "source": [
    "부실기업은 과거 3년 연속해서 이자보상 배율이 1.0 미만인 기업을 뜻함.\n",
    "\n",
    "따라서 이자보상 배율에 결측치가 있는지를 확인해야함."
   ]
  },
  {
   "cell_type": "code",
   "execution_count": 263,
   "metadata": {
    "colab": {
     "base_uri": "https://localhost:8080/",
     "height": 241
    },
    "executionInfo": {
     "elapsed": 371,
     "status": "ok",
     "timestamp": 1731222734362,
     "user": {
      "displayName": "‍김세원[재학 / 경영학전공]",
      "userId": "08422766966386930480"
     },
     "user_tz": -540
    },
    "id": "M49yQEQg6LrF",
    "outputId": "54343421-eaed-4c01-c3b4-ae33a53d48da"
   },
   "outputs": [
    {
     "data": {
      "text/plain": [
       "2020/영업이익이자보상비율     8768\n",
       "2021/영업이익이자보상비율     6378\n",
       "2022/영업이익이자보상비율     4472\n",
       "2023/영업이익이자보상비율     4810\n",
       "2024/영업이익이자보상비율    37943\n",
       "dtype: int64"
      ]
     },
     "execution_count": 263,
     "metadata": {},
     "output_type": "execute_result"
    }
   ],
   "source": [
    "# '영업이익이자보상비율'이 포함된 열들 찾기\n",
    "columns_with_ratio = [col for col in data.columns if '영업이익이자보상비율' in col]\n",
    "\n",
    "# 각 열에 대해 결측치 확인\n",
    "missing_data = data[columns_with_ratio].isnull().sum()\n",
    "\n",
    "# 결측치가 있는 열 출력\n",
    "missing_data[missing_data > 0]"
   ]
  },
  {
   "cell_type": "markdown",
   "metadata": {
    "id": "3I5OOjOZ626q"
   },
   "source": [
    "2024년 데이터에 있는 영업이익이자보상비율의 대부분이 결측치이므로 제거해준다"
   ]
  },
  {
   "cell_type": "code",
   "execution_count": 264,
   "metadata": {
    "executionInfo": {
     "elapsed": 360,
     "status": "ok",
     "timestamp": 1731222841474,
     "user": {
      "displayName": "‍김세원[재학 / 경영학전공]",
      "userId": "08422766966386930480"
     },
     "user_tz": -540
    },
    "id": "cajSMjm-6_7e"
   },
   "outputs": [],
   "source": [
    "# '2024'가 열 이름에 포함된 열들을 제거\n",
    "data = data.drop(columns=[col for col in data.columns if '2024' in col], errors='ignore')"
   ]
  },
  {
   "cell_type": "code",
   "execution_count": 265,
   "metadata": {
    "colab": {
     "base_uri": "https://localhost:8080/"
    },
    "executionInfo": {
     "elapsed": 518,
     "status": "ok",
     "timestamp": 1731222857965,
     "user": {
      "displayName": "‍김세원[재학 / 경영학전공]",
      "userId": "08422766966386930480"
     },
     "user_tz": -540
    },
    "id": "U0c2PKHB7Ftg",
    "outputId": "dbf88bd9-19e2-4688-c116-53d35e66a32e"
   },
   "outputs": [
    {
     "name": "stdout",
     "output_type": "stream",
     "text": [
      "남은 데이터 개수: 27604 행\n"
     ]
    }
   ],
   "source": [
    "# '영업이익이자보상비율'이 포함된 열들 찾기\n",
    "columns_with_ratio = [col for col in data.columns if '영업이익이자보상비율' in col]\n",
    "\n",
    "# 결측치가 있는 행 제거\n",
    "data = data.dropna(subset=columns_with_ratio)\n",
    "\n",
    "# 결과 확인\n",
    "print(f\"남은 데이터 개수: {data.shape[0]} 행\")"
   ]
  },
  {
   "cell_type": "code",
   "execution_count": 266,
   "metadata": {
    "executionInfo": {
     "elapsed": 811,
     "status": "ok",
     "timestamp": 1731223593517,
     "user": {
      "displayName": "‍김세원[재학 / 경영학전공]",
      "userId": "08422766966386930480"
     },
     "user_tz": -540
    },
    "id": "ZrR7r6cN7T0f"
   },
   "outputs": [],
   "source": [
    "#각 열의 결측값을 중앙값으로 대체\n",
    "data = data.fillna(data.median(numeric_only=True))"
   ]
  },
  {
   "cell_type": "code",
   "execution_count": 267,
   "metadata": {
    "colab": {
     "base_uri": "https://localhost:8080/",
     "height": 458
    },
    "executionInfo": {
     "elapsed": 460,
     "status": "ok",
     "timestamp": 1731223597425,
     "user": {
      "displayName": "‍김세원[재학 / 경영학전공]",
      "userId": "08422766966386930480"
     },
     "user_tz": -540
    },
    "id": "fjMblYnE7XQZ",
    "outputId": "53b0a66b-1c81-4f04-df2f-5b45e555a088"
   },
   "outputs": [
    {
     "data": {
      "text/plain": [
       "업체코드                object\n",
       "종목코드                object\n",
       "종목명                 object\n",
       "2020/총자산증가율        float64\n",
       "2021/총자산증가율        float64\n",
       "                    ...   \n",
       "2023/조세공과(구성비)     float64\n",
       "2020/감가상각비(구성비)    float64\n",
       "2021/감가상각비(구성비)    float64\n",
       "2022/감가상각비(구성비)    float64\n",
       "2023/감가상각비(구성비)    float64\n",
       "Length: 435, dtype: object"
      ]
     },
     "execution_count": 267,
     "metadata": {},
     "output_type": "execute_result"
    }
   ],
   "source": [
    "data.dtypes"
   ]
  },
  {
   "cell_type": "markdown",
   "metadata": {
    "id": "fXDNa9QM89NI"
   },
   "source": [
    "# 4. 이상치 감지"
   ]
  },
  {
   "cell_type": "markdown",
   "metadata": {
    "id": "VHwVqS959GEg"
   },
   "source": [
    "총자산증가율에서 IQR 방식을 이용해본 결과, 연도별로 약 4천 여개의 이상치가 발견됨."
   ]
  },
  {
   "cell_type": "code",
   "execution_count": 268,
   "metadata": {
    "colab": {
     "base_uri": "https://localhost:8080/"
    },
    "executionInfo": {
     "elapsed": 2174,
     "status": "ok",
     "timestamp": 1731223450868,
     "user": {
      "displayName": "‍김세원[재학 / 경영학전공]",
      "userId": "08422766966386930480"
     },
     "user_tz": -540
    },
    "id": "NOs_L5UY9O23",
    "outputId": "5dd960fe-8ed6-443e-a887-788d4b9bc939"
   },
   "outputs": [
    {
     "data": {
      "text/plain": [
       "(업체코드                0.000000\n",
       " 종목코드               88.400232\n",
       " 종목명                 0.003623\n",
       " 2020/총자산증가율         0.000000\n",
       " 2021/총자산증가율         0.000000\n",
       "                      ...    \n",
       " 2023/조세공과(구성비)      0.000000\n",
       " 2020/감가상각비(구성비)     0.000000\n",
       " 2021/감가상각비(구성비)     0.000000\n",
       " 2022/감가상각비(구성비)     0.000000\n",
       " 2023/감가상각비(구성비)     0.000000\n",
       " Length: 435, dtype: float64,\n",
       " 업체코드                object\n",
       " 종목코드                object\n",
       " 종목명                 object\n",
       " 2020/총자산증가율        float64\n",
       " 2021/총자산증가율        float64\n",
       "                     ...   \n",
       " 2023/조세공과(구성비)     float64\n",
       " 2020/감가상각비(구성비)    float64\n",
       " 2021/감가상각비(구성비)    float64\n",
       " 2022/감가상각비(구성비)    float64\n",
       " 2023/감가상각비(구성비)    float64\n",
       " Length: 435, dtype: object,\n",
       "         2020/총자산증가율   2021/총자산증가율   2022/총자산증가율   2023/총자산증가율  2020/유형자산증가율  \\\n",
       " count  2.760400e+04  2.760400e+04  27604.000000  27604.000000  2.760400e+04   \n",
       " mean   4.853964e+04  3.513082e+02     20.776691     10.147829  8.939232e+04   \n",
       " std    6.615218e+06  4.764774e+04    370.936055     66.347491  6.494586e+06   \n",
       " min   -9.814000e+01 -9.341000e+01    -94.450000    -99.100000 -1.000000e+02   \n",
       " 25%   -2.290000e+00 -8.100000e-01     -1.860000     -3.730000 -4.262500e+00   \n",
       " 50%    5.090000e+00  8.110000e+00      5.450000      2.690000 -4.600000e-01   \n",
       " 75%    2.037250e+01  2.680000e+01     19.360000     13.760000  1.389250e+01   \n",
       " max    1.088298e+09  7.903010e+06  58327.710000   8838.170000  8.957088e+08   \n",
       " \n",
       "        2021/유형자산증가율  2022/유형자산증가율  2023/유형자산증가율  2020/유동자산증가율  2021/유동자산증가율  \\\n",
       " count  2.760400e+04  2.760400e+04  2.760400e+04  2.760400e+04  2.760400e+04   \n",
       " mean   1.750278e+05  1.097836e+05  1.868647e+05  4.906856e+04  5.594491e+02   \n",
       " std    1.818903e+07  1.183802e+07  1.725044e+07  6.603789e+06  6.194667e+04   \n",
       " min   -1.000000e+02 -1.000000e+02 -1.000000e+02 -9.990000e+01 -9.996000e+01   \n",
       " 25%   -4.290000e+00 -3.870000e+00 -4.030000e+00 -7.970000e+00 -4.505000e+00   \n",
       " 50%   -1.800000e-01 -2.300000e-01 -6.700000e-01  7.240000e+00  1.250000e+01   \n",
       " 75%    1.791250e+01  1.542000e+01  9.520000e+00  3.046000e+01  4.002250e+01   \n",
       " max    2.580453e+09  1.913878e+09  2.557226e+09  1.088298e+09  1.021224e+07   \n",
       " \n",
       "        ...  2022/임차료(구성비)  2023/임차료(구성비)  2020/조세공과(구성비)  2021/조세공과(구성비)  \\\n",
       " count  ...   27604.000000   27604.000000    27604.000000    27604.000000   \n",
       " mean   ...       1.879500       1.779520      -13.387665        1.797838   \n",
       " std    ...      21.484149     101.186003     2702.517234       95.276512   \n",
       " min    ...   -1494.560000  -14861.320000  -448826.090000   -15258.600000   \n",
       " 25%    ...       1.320000       1.410000        2.140000        2.110000   \n",
       " 50%    ...       1.320000       1.410000        2.140000        2.110000   \n",
       " 75%    ...       1.320000       1.410000        2.140000        2.110000   \n",
       " max    ...    1745.250000    6911.320000    10934.340000      993.460000   \n",
       " \n",
       "        2022/조세공과(구성비)  2023/조세공과(구성비)  2020/감가상각비(구성비)  2021/감가상각비(구성비)  \\\n",
       " count    27604.000000    27604.000000     27604.000000     27604.000000   \n",
       " mean         2.099399        3.038405        10.816349         5.814600   \n",
       " std         53.476133      114.485662       221.201112       554.407058   \n",
       " min      -6844.660000    -6908.090000     -9796.800000    -90985.120000   \n",
       " 25%          2.120000        2.130000         7.960000         7.830000   \n",
       " 50%          2.120000        2.130000         7.960000         7.830000   \n",
       " 75%          2.120000        2.130000         7.960000         7.830000   \n",
       " max       3801.870000    12466.900000     24318.840000      2916.000000   \n",
       " \n",
       "        2022/감가상각비(구성비)  2023/감가상각비(구성비)  \n",
       " count     27604.000000     27604.000000  \n",
       " mean          9.282575         8.626712  \n",
       " std          89.750269       154.607782  \n",
       " min       -6907.970000    -23573.090000  \n",
       " 25%           8.030000         8.220000  \n",
       " 50%           8.030000         8.220000  \n",
       " 75%           8.030000         8.220000  \n",
       " max        8570.190000      8082.130000  \n",
       " \n",
       " [8 rows x 432 columns],\n",
       " 2020/총자산증가율    3484\n",
       " 2021/총자산증가율    2992\n",
       " 2022/총자산증가율    2950\n",
       " 2023/총자산증가율    3056\n",
       " dtype: int64,\n",
       " 0)"
      ]
     },
     "execution_count": 268,
     "metadata": {},
     "output_type": "execute_result"
    }
   ],
   "source": [
    "# Step 1: Check for missing values in each column\n",
    "missing_values = data.isnull().sum()\n",
    "missing_values_percentage = (missing_values / len(data)) * 100\n",
    "\n",
    "# Step 2: Check data types for potential conversion needs\n",
    "data_types = data.dtypes\n",
    "\n",
    "# Step 3: Basic statistics of numerical columns\n",
    "numerical_summary = data.describe()\n",
    "\n",
    "# Step 4: Detect potential outliers using IQR for selected columns (e.g., 총자산증가율)\n",
    "# Selecting a subset of columns for outlier detection (considering a sample due to large number of columns)\n",
    "sample_columns = ['2020/총자산증가율', '2021/총자산증가율', '2022/총자산증가율', '2023/총자산증가율']\n",
    "Q1 = data[sample_columns].quantile(0.25)\n",
    "Q3 = data[sample_columns].quantile(0.75)\n",
    "IQR = Q3 - Q1\n",
    "outliers = ((data[sample_columns] < (Q1 - 1.5 * IQR)) | (data[sample_columns] > (Q3 + 1.5 * IQR))).sum()\n",
    "\n",
    "# Step 5: Check for duplicate rows\n",
    "duplicate_rows = data.duplicated().sum()\n",
    "\n",
    "missing_values_percentage, data_types, numerical_summary, outliers, duplicate_rows\n"
   ]
  },
  {
   "cell_type": "markdown",
   "metadata": {
    "id": "c6_jDHLZ-SWM"
   },
   "source": [
    "총자산증가율은 기업의 규모(자기자본+부채)가 얼마나 증가했는지를 보여주는 성장지표.\n",
    "\n",
    "\n",
    "총자산이 증가하지 않거나, 부채의 증가로 인하여 자산증가율이 높아지는 것은 부실로 연결 가능.\n",
    "\n",
    "(우리끼리는 3년 연속 이자보상배율이 1 미만인 걸 부실 기업으로 했지만\n",
    "총자산증가율으로도 혹시나 부실 기업이라고 얘기하는데 더 보줄 수 있을까봐 해봤는데 데이터 값이 너무 왔다갔다 해서 포기...)"
   ]
  },
  {
   "cell_type": "code",
   "execution_count": 269,
   "metadata": {
    "colab": {
     "base_uri": "https://localhost:8080/"
    },
    "executionInfo": {
     "elapsed": 375,
     "status": "ok",
     "timestamp": 1731224004985,
     "user": {
      "displayName": "‍김세원[재학 / 경영학전공]",
      "userId": "08422766966386930480"
     },
     "user_tz": -540
    },
    "id": "ChsamgK1_FPL",
    "outputId": "f7f20bbf-5b41-4795-886c-e2ad7ef7b419"
   },
   "outputs": [
    {
     "name": "stdout",
     "output_type": "stream",
     "text": [
      "Total Asset Growth Data by Year:\n",
      "    2020/총자산증가율  2021/총자산증가율  2022/총자산증가율  2023/총자산증가율\n",
      "0         7.57         2.70         3.27        10.23\n",
      "1       -36.76         1.45        -0.52        -4.89\n",
      "2        -6.47         0.15        -6.09        -1.40\n",
      "3         6.31        22.28        -0.76        17.63\n",
      "4        -0.99        10.65        -9.43        -0.03\n"
     ]
    }
   ],
   "source": [
    "# Extract columns containing \"총자산증가율\" for each year\n",
    "total_asset_growth_columns = [col for col in data.columns if '총자산증가율' in col]\n",
    "\n",
    "# Create a new DataFrame with only the 총자산증가율 columns\n",
    "total_asset_growth_data = data[total_asset_growth_columns]\n",
    "\n",
    "# Display the first few rows of the new DataFrame to inspect\n",
    "print(\"Total Asset Growth Data by Year:\\n\", total_asset_growth_data.head())\n"
   ]
  },
  {
   "cell_type": "code",
   "execution_count": 270,
   "metadata": {},
   "outputs": [
    {
     "data": {
      "text/html": [
       "<div>\n",
       "<style scoped>\n",
       "    .dataframe tbody tr th:only-of-type {\n",
       "        vertical-align: middle;\n",
       "    }\n",
       "\n",
       "    .dataframe tbody tr th {\n",
       "        vertical-align: top;\n",
       "    }\n",
       "\n",
       "    .dataframe thead th {\n",
       "        text-align: right;\n",
       "    }\n",
       "</style>\n",
       "<table border=\"1\" class=\"dataframe\">\n",
       "  <thead>\n",
       "    <tr style=\"text-align: right;\">\n",
       "      <th></th>\n",
       "      <th>업체코드</th>\n",
       "      <th>종목코드</th>\n",
       "      <th>종목명</th>\n",
       "      <th>2020/총자산증가율</th>\n",
       "      <th>2021/총자산증가율</th>\n",
       "      <th>2022/총자산증가율</th>\n",
       "      <th>2023/총자산증가율</th>\n",
       "      <th>2020/유형자산증가율</th>\n",
       "      <th>2021/유형자산증가율</th>\n",
       "      <th>2022/유형자산증가율</th>\n",
       "      <th>...</th>\n",
       "      <th>2022/임차료(구성비)</th>\n",
       "      <th>2023/임차료(구성비)</th>\n",
       "      <th>2020/조세공과(구성비)</th>\n",
       "      <th>2021/조세공과(구성비)</th>\n",
       "      <th>2022/조세공과(구성비)</th>\n",
       "      <th>2023/조세공과(구성비)</th>\n",
       "      <th>2020/감가상각비(구성비)</th>\n",
       "      <th>2021/감가상각비(구성비)</th>\n",
       "      <th>2022/감가상각비(구성비)</th>\n",
       "      <th>2023/감가상각비(구성비)</th>\n",
       "    </tr>\n",
       "  </thead>\n",
       "  <tbody>\n",
       "    <tr>\n",
       "      <th>0</th>\n",
       "      <td>N350605</td>\n",
       "      <td>A000020</td>\n",
       "      <td>동화약품</td>\n",
       "      <td>7.57</td>\n",
       "      <td>2.70</td>\n",
       "      <td>3.27</td>\n",
       "      <td>10.23</td>\n",
       "      <td>19.67</td>\n",
       "      <td>10.41</td>\n",
       "      <td>7.64</td>\n",
       "      <td>...</td>\n",
       "      <td>1.32</td>\n",
       "      <td>1.41</td>\n",
       "      <td>2.14</td>\n",
       "      <td>2.11</td>\n",
       "      <td>2.12</td>\n",
       "      <td>2.13</td>\n",
       "      <td>7.96</td>\n",
       "      <td>7.83</td>\n",
       "      <td>8.03</td>\n",
       "      <td>8.22</td>\n",
       "    </tr>\n",
       "    <tr>\n",
       "      <th>1</th>\n",
       "      <td>N320498</td>\n",
       "      <td>A000040</td>\n",
       "      <td>KR모터스</td>\n",
       "      <td>-36.76</td>\n",
       "      <td>1.45</td>\n",
       "      <td>-0.52</td>\n",
       "      <td>-4.89</td>\n",
       "      <td>-0.29</td>\n",
       "      <td>5.78</td>\n",
       "      <td>4.85</td>\n",
       "      <td>...</td>\n",
       "      <td>1.32</td>\n",
       "      <td>1.41</td>\n",
       "      <td>2.14</td>\n",
       "      <td>2.11</td>\n",
       "      <td>2.12</td>\n",
       "      <td>2.13</td>\n",
       "      <td>7.96</td>\n",
       "      <td>7.83</td>\n",
       "      <td>8.03</td>\n",
       "      <td>8.22</td>\n",
       "    </tr>\n",
       "    <tr>\n",
       "      <th>2</th>\n",
       "      <td>N320684</td>\n",
       "      <td>A000050</td>\n",
       "      <td>경방</td>\n",
       "      <td>-6.47</td>\n",
       "      <td>0.15</td>\n",
       "      <td>-6.09</td>\n",
       "      <td>-1.40</td>\n",
       "      <td>-36.42</td>\n",
       "      <td>-23.56</td>\n",
       "      <td>665.18</td>\n",
       "      <td>...</td>\n",
       "      <td>1.32</td>\n",
       "      <td>1.41</td>\n",
       "      <td>2.14</td>\n",
       "      <td>2.11</td>\n",
       "      <td>2.12</td>\n",
       "      <td>2.13</td>\n",
       "      <td>7.96</td>\n",
       "      <td>7.83</td>\n",
       "      <td>8.03</td>\n",
       "      <td>8.22</td>\n",
       "    </tr>\n",
       "  </tbody>\n",
       "</table>\n",
       "<p>3 rows × 435 columns</p>\n",
       "</div>"
      ],
      "text/plain": [
       "      업체코드     종목코드    종목명  2020/총자산증가율  2021/총자산증가율  2022/총자산증가율  \\\n",
       "0  N350605  A000020   동화약품         7.57         2.70         3.27   \n",
       "1  N320498  A000040  KR모터스       -36.76         1.45        -0.52   \n",
       "2  N320684  A000050     경방        -6.47         0.15        -6.09   \n",
       "\n",
       "   2023/총자산증가율  2020/유형자산증가율  2021/유형자산증가율  2022/유형자산증가율  ...  2022/임차료(구성비)  \\\n",
       "0        10.23         19.67         10.41          7.64  ...           1.32   \n",
       "1        -4.89         -0.29          5.78          4.85  ...           1.32   \n",
       "2        -1.40        -36.42        -23.56        665.18  ...           1.32   \n",
       "\n",
       "   2023/임차료(구성비)  2020/조세공과(구성비)  2021/조세공과(구성비)  2022/조세공과(구성비)  \\\n",
       "0           1.41            2.14            2.11            2.12   \n",
       "1           1.41            2.14            2.11            2.12   \n",
       "2           1.41            2.14            2.11            2.12   \n",
       "\n",
       "   2023/조세공과(구성비)  2020/감가상각비(구성비)  2021/감가상각비(구성비)  2022/감가상각비(구성비)  \\\n",
       "0            2.13             7.96             7.83             8.03   \n",
       "1            2.13             7.96             7.83             8.03   \n",
       "2            2.13             7.96             7.83             8.03   \n",
       "\n",
       "   2023/감가상각비(구성비)  \n",
       "0             8.22  \n",
       "1             8.22  \n",
       "2             8.22  \n",
       "\n",
       "[3 rows x 435 columns]"
      ]
     },
     "execution_count": 270,
     "metadata": {},
     "output_type": "execute_result"
    }
   ],
   "source": [
    "data.head(3)"
   ]
  },
  {
   "cell_type": "code",
   "execution_count": 271,
   "metadata": {},
   "outputs": [
    {
     "data": {
      "text/plain": [
       "count    2.760400e+04\n",
       "mean     7.143426e+02\n",
       "std      3.351529e+04\n",
       "min     -9.889597e+05\n",
       "25%     -1.500000e-01\n",
       "50%      2.340000e+00\n",
       "75%      1.069250e+01\n",
       "max      3.329131e+06\n",
       "Name: 2020/영업이익이자보상비율, dtype: float64"
      ]
     },
     "execution_count": 271,
     "metadata": {},
     "output_type": "execute_result"
    }
   ],
   "source": [
    "data['2020/영업이익이자보상비율'].describe()"
   ]
  },
  {
   "cell_type": "code",
   "execution_count": 272,
   "metadata": {},
   "outputs": [],
   "source": [
    "import matplotlib.pyplot as plt\n",
    "import seaborn as sns\n",
    "\n",
    "# '영업이익보상비율' 관련 열 추출\n",
    "interest_coverage_columns = [col for col in data.columns if '영업이익보상비율' in col]\n",
    "interest_coverage_data = data[interest_coverage_columns]"
   ]
  },
  {
   "cell_type": "code",
   "execution_count": 273,
   "metadata": {},
   "outputs": [
    {
     "data": {
      "text/html": [
       "<div>\n",
       "<style scoped>\n",
       "    .dataframe tbody tr th:only-of-type {\n",
       "        vertical-align: middle;\n",
       "    }\n",
       "\n",
       "    .dataframe tbody tr th {\n",
       "        vertical-align: top;\n",
       "    }\n",
       "\n",
       "    .dataframe thead th {\n",
       "        text-align: right;\n",
       "    }\n",
       "</style>\n",
       "<table border=\"1\" class=\"dataframe\">\n",
       "  <thead>\n",
       "    <tr style=\"text-align: right;\">\n",
       "      <th></th>\n",
       "      <th>업체코드</th>\n",
       "      <th>종목코드</th>\n",
       "      <th>종목명</th>\n",
       "      <th>2020/총자산증가율</th>\n",
       "      <th>2021/총자산증가율</th>\n",
       "      <th>2022/총자산증가율</th>\n",
       "      <th>2023/총자산증가율</th>\n",
       "      <th>2020/유형자산증가율</th>\n",
       "      <th>2021/유형자산증가율</th>\n",
       "      <th>2022/유형자산증가율</th>\n",
       "      <th>...</th>\n",
       "      <th>2022/임차료(구성비)</th>\n",
       "      <th>2023/임차료(구성비)</th>\n",
       "      <th>2020/조세공과(구성비)</th>\n",
       "      <th>2021/조세공과(구성비)</th>\n",
       "      <th>2022/조세공과(구성비)</th>\n",
       "      <th>2023/조세공과(구성비)</th>\n",
       "      <th>2020/감가상각비(구성비)</th>\n",
       "      <th>2021/감가상각비(구성비)</th>\n",
       "      <th>2022/감가상각비(구성비)</th>\n",
       "      <th>2023/감가상각비(구성비)</th>\n",
       "    </tr>\n",
       "  </thead>\n",
       "  <tbody>\n",
       "    <tr>\n",
       "      <th>0</th>\n",
       "      <td>N350605</td>\n",
       "      <td>A000020</td>\n",
       "      <td>동화약품</td>\n",
       "      <td>7.57</td>\n",
       "      <td>2.70</td>\n",
       "      <td>3.27</td>\n",
       "      <td>10.23</td>\n",
       "      <td>19.67</td>\n",
       "      <td>10.41</td>\n",
       "      <td>7.64</td>\n",
       "      <td>...</td>\n",
       "      <td>1.32</td>\n",
       "      <td>1.41</td>\n",
       "      <td>2.14</td>\n",
       "      <td>2.11</td>\n",
       "      <td>2.12</td>\n",
       "      <td>2.13</td>\n",
       "      <td>7.96</td>\n",
       "      <td>7.83</td>\n",
       "      <td>8.03</td>\n",
       "      <td>8.22</td>\n",
       "    </tr>\n",
       "    <tr>\n",
       "      <th>1</th>\n",
       "      <td>N320498</td>\n",
       "      <td>A000040</td>\n",
       "      <td>KR모터스</td>\n",
       "      <td>-36.76</td>\n",
       "      <td>1.45</td>\n",
       "      <td>-0.52</td>\n",
       "      <td>-4.89</td>\n",
       "      <td>-0.29</td>\n",
       "      <td>5.78</td>\n",
       "      <td>4.85</td>\n",
       "      <td>...</td>\n",
       "      <td>1.32</td>\n",
       "      <td>1.41</td>\n",
       "      <td>2.14</td>\n",
       "      <td>2.11</td>\n",
       "      <td>2.12</td>\n",
       "      <td>2.13</td>\n",
       "      <td>7.96</td>\n",
       "      <td>7.83</td>\n",
       "      <td>8.03</td>\n",
       "      <td>8.22</td>\n",
       "    </tr>\n",
       "    <tr>\n",
       "      <th>2</th>\n",
       "      <td>N320684</td>\n",
       "      <td>A000050</td>\n",
       "      <td>경방</td>\n",
       "      <td>-6.47</td>\n",
       "      <td>0.15</td>\n",
       "      <td>-6.09</td>\n",
       "      <td>-1.40</td>\n",
       "      <td>-36.42</td>\n",
       "      <td>-23.56</td>\n",
       "      <td>665.18</td>\n",
       "      <td>...</td>\n",
       "      <td>1.32</td>\n",
       "      <td>1.41</td>\n",
       "      <td>2.14</td>\n",
       "      <td>2.11</td>\n",
       "      <td>2.12</td>\n",
       "      <td>2.13</td>\n",
       "      <td>7.96</td>\n",
       "      <td>7.83</td>\n",
       "      <td>8.03</td>\n",
       "      <td>8.22</td>\n",
       "    </tr>\n",
       "  </tbody>\n",
       "</table>\n",
       "<p>3 rows × 435 columns</p>\n",
       "</div>"
      ],
      "text/plain": [
       "      업체코드     종목코드    종목명  2020/총자산증가율  2021/총자산증가율  2022/총자산증가율  \\\n",
       "0  N350605  A000020   동화약품         7.57         2.70         3.27   \n",
       "1  N320498  A000040  KR모터스       -36.76         1.45        -0.52   \n",
       "2  N320684  A000050     경방        -6.47         0.15        -6.09   \n",
       "\n",
       "   2023/총자산증가율  2020/유형자산증가율  2021/유형자산증가율  2022/유형자산증가율  ...  2022/임차료(구성비)  \\\n",
       "0        10.23         19.67         10.41          7.64  ...           1.32   \n",
       "1        -4.89         -0.29          5.78          4.85  ...           1.32   \n",
       "2        -1.40        -36.42        -23.56        665.18  ...           1.32   \n",
       "\n",
       "   2023/임차료(구성비)  2020/조세공과(구성비)  2021/조세공과(구성비)  2022/조세공과(구성비)  \\\n",
       "0           1.41            2.14            2.11            2.12   \n",
       "1           1.41            2.14            2.11            2.12   \n",
       "2           1.41            2.14            2.11            2.12   \n",
       "\n",
       "   2023/조세공과(구성비)  2020/감가상각비(구성비)  2021/감가상각비(구성비)  2022/감가상각비(구성비)  \\\n",
       "0            2.13             7.96             7.83             8.03   \n",
       "1            2.13             7.96             7.83             8.03   \n",
       "2            2.13             7.96             7.83             8.03   \n",
       "\n",
       "   2023/감가상각비(구성비)  \n",
       "0             8.22  \n",
       "1             8.22  \n",
       "2             8.22  \n",
       "\n",
       "[3 rows x 435 columns]"
      ]
     },
     "execution_count": 273,
     "metadata": {},
     "output_type": "execute_result"
    }
   ],
   "source": [
    "data.head(3)"
   ]
  },
  {
   "cell_type": "code",
   "execution_count": 274,
   "metadata": {},
   "outputs": [
    {
     "data": {
      "text/plain": [
       "Index(['업체코드', '종목코드', '종목명', '2020/총자산증가율', '2021/총자산증가율', '2022/총자산증가율',\n",
       "       '2023/총자산증가율', '2020/유형자산증가율', '2021/유형자산증가율', '2022/유형자산증가율',\n",
       "       ...\n",
       "       '2022/임차료(구성비)', '2023/임차료(구성비)', '2020/조세공과(구성비)', '2021/조세공과(구성비)',\n",
       "       '2022/조세공과(구성비)', '2023/조세공과(구성비)', '2020/감가상각비(구성비)',\n",
       "       '2021/감가상각비(구성비)', '2022/감가상각비(구성비)', '2023/감가상각비(구성비)'],\n",
       "      dtype='object', length=435)"
      ]
     },
     "execution_count": 274,
     "metadata": {},
     "output_type": "execute_result"
    }
   ],
   "source": [
    "data.columns"
   ]
  },
  {
   "cell_type": "code",
   "execution_count": 275,
   "metadata": {},
   "outputs": [
    {
     "name": "stdout",
     "output_type": "stream",
     "text": [
      "영업이익이자보상비율 이름이 들어가는 변수들:\n",
      "Index(['2020/영업이익이자보상비율', '2021/영업이익이자보상비율', '2022/영업이익이자보상비율',\n",
      "       '2023/영업이익이자보상비율'],\n",
      "      dtype='object')\n"
     ]
    }
   ],
   "source": [
    "import pandas as pd\n",
    "\n",
    "# '영업이익이자보상비율' 이름이 들어가는 변수들 필터링\n",
    "interest_coverage_ratio_cols = data.filter(like='영업이익이자보상비율').columns\n",
    "\n",
    "# 필터링된 변수명 출력\n",
    "print(\"영업이익이자보상비율 이름이 들어가는 변수들:\")\n",
    "print(interest_coverage_ratio_cols)"
   ]
  },
  {
   "cell_type": "code",
   "execution_count": 276,
   "metadata": {
    "colab": {
     "base_uri": "https://localhost:8080/",
     "height": 1000
    },
    "executionInfo": {
     "elapsed": 872,
     "status": "ok",
     "timestamp": 1731224746398,
     "user": {
      "displayName": "‍김세원[재학 / 경영학전공]",
      "userId": "08422766966386930480"
     },
     "user_tz": -540
    },
    "id": "kL7ehk76BSPj",
    "outputId": "83b82b5a-7d40-4ba6-eee4-9fbb3452ec5d"
   },
   "outputs": [
    {
     "data": {
      "image/png": "[encoded data removed]",
      "text/plain": [
       "<Figure size 1200x600 with 1 Axes>"
      ]
     },
     "metadata": {},
     "output_type": "display_data"
    },
    {
     "data": {
      "image/png": "[encoded data removed]",
      "text/plain": [
       "<Figure size 1200x600 with 1 Axes>"
      ]
     },
     "metadata": {},
     "output_type": "display_data"
    },
    {
     "name": "stdout",
     "output_type": "stream",
     "text": [
      "Percentage of insolvent companies in 2020/영업이익이자보상비율: 35.60%\n",
      "Percentage of insolvent companies in 2021/영업이익이자보상비율: 33.19%\n",
      "Percentage of insolvent companies in 2022/영업이익이자보상비율: 34.30%\n",
      "Percentage of insolvent companies in 2023/영업이익이자보상비율: 39.76%\n",
      "Sample of data with new insolvent company columns:\n",
      "    부실기업_2020/영업이익이자보상비율  부실기업_2021/영업이익이자보상비율  부실기업_2022/영업이익이자보상비율  \\\n",
      "0                     0                     0                     0   \n",
      "1                     1                     1                     1   \n",
      "2                     0                     0                     0   \n",
      "3                     0                     0                     0   \n",
      "4                     0                     0                     0   \n",
      "\n",
      "   부실기업_2023/영업이익이자보상비율  \n",
      "0                     0  \n",
      "1                     1  \n",
      "2                     0  \n",
      "3                     0  \n",
      "4                     0  \n"
     ]
    }
   ],
   "source": [
    "import matplotlib.pyplot as plt\n",
    "import seaborn as sns\n",
    "\n",
    "# '영업이익이자보상비율' 관련 열 추출\n",
    "interest_coverage_columns = [col for col in data.columns if '영업이익이자보상비율' in col]\n",
    "interest_coverage_data = data[interest_coverage_columns]\n",
    "\n",
    "# 2. 분포 확인 - 히스토그램\n",
    "plt.figure(figsize=(12, 6))\n",
    "for col in interest_coverage_columns:\n",
    "    sns.histplot(interest_coverage_data[col], kde=True, bins=30, label=col)\n",
    "plt.title(\"Distribution of Interest Coverage Ratio by Year\")\n",
    "plt.xlabel(\"Interest Coverage Ratio\")\n",
    "plt.ylabel(\"Frequency\")\n",
    "plt.legend(title=\"Year\")\n",
    "plt.show()\n",
    "\n",
    "\n",
    "# 3. 분포 확인 - 박스 플롯\n",
    "plt.figure(figsize=(12, 6))\n",
    "sns.boxplot(data=interest_coverage_data)\n",
    "plt.title(\"Boxplot of Interest Coverage Ratio by Year\")\n",
    "plt.xlabel(\"Year\")\n",
    "plt.ylabel(\"Interest Coverage Ratio\")\n",
    "plt.xticks(ticks=range(len(interest_coverage_columns)), labels=interest_coverage_columns, rotation=45)\n",
    "plt.show()\n",
    "\n",
    "# 4. 부실 기업 비율 확인\n",
    "for col in interest_coverage_columns:\n",
    "    insolvent_ratio = (interest_coverage_data[col] < 1).mean() * 100\n",
    "    print(f\"Percentage of insolvent companies in {col}: {insolvent_ratio:.2f}%\")\n",
    "\n",
    "# ====== 전처리 코드 ======\n",
    "\n",
    "# 결측치 처리 - 결측값을 중앙값으로 대체\n",
    "for col in interest_coverage_columns:\n",
    "    data[col].fillna(data[col].median(), inplace=True)\n",
    "\n",
    "# 이상치 처리 - IQR 방식으로 이상치를 상한선과 하한선으로 조정\n",
    "for col in interest_coverage_columns:\n",
    "    Q1 = data[col].quantile(0.25)\n",
    "    Q3 = data[col].quantile(0.75)\n",
    "    IQR = Q3 - Q1\n",
    "    lower_bound = Q1 - 1.5 * IQR\n",
    "    upper_bound = Q3 + 1.5 * IQR\n",
    "    data[col] = data[col].clip(lower=lower_bound, upper=upper_bound)\n",
    "\n",
    "# 부실기업 컬럼 생성 - 영업이익보상비율이 1 미만인 경우 1, 그렇지 않으면 0으로 설정\n",
    "for col in interest_coverage_columns:\n",
    "    data[f'부실기업_{col}'] = data[col].apply(lambda x: 1 if x < 1 else 0)\n",
    "\n",
    "# 부실기업 컬럼 예시 확인\n",
    "print(\"Sample of data with new insolvent company columns:\\n\", data[[f'부실기업_{col}' for col in interest_coverage_columns]].head())\n"
   ]
  }
 ],
 "metadata": {
  "colab": {
   "authorship_tag": "ABX9TyMEDcX3o5QnV6JDoJ79voqm",
   "provenance": []
  },
  "kernelspec": {
   "display_name": "Python 3",
   "name": "python3"
  },
  "language_info": {
   "codemirror_mode": {
    "name": "ipython",
    "version": 3
   },
   "file_extension": ".py",
   "mimetype": "text/x-python",
   "name": "python",
   "nbconvert_exporter": "python",
   "pygments_lexer": "ipython3",
   "version": "3.7.8"
  }
 },
 "nbformat": 4,
 "nbformat_minor": 0
}
