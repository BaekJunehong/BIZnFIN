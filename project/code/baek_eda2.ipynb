{
 "cells": [
  {
   "cell_type": "markdown",
   "metadata": {},
   "source": [
    "# BIZ 프로젝트 : 부실기업 예측"
   ]
  },
  {
   "cell_type": "markdown",
   "metadata": {},
   "source": [
    "## Step2 : 데이터 전처리"
   ]
  },
  {
   "cell_type": "markdown",
   "metadata": {},
   "source": [
    "부실기업은 과거 3년간 연속해 이자보상 배율이 1.0미만인 기업을 의미하며  \n",
    "이를 이용하여 타겟변수인 부실기업여부 변수를 생성"
   ]
  },
  {
   "cell_type": "markdown",
   "metadata": {},
   "source": [
    "### 필요라이브러리 불러오기"
   ]
  },
  {
   "cell_type": "code",
   "execution_count": 453,
   "metadata": {},
   "outputs": [],
   "source": [
    "import pandas as pd\n",
    "import numpy as np"
   ]
  },
  {
   "cell_type": "markdown",
   "metadata": {},
   "source": [
    "### 데이터 불러오기"
   ]
  },
  {
   "cell_type": "code",
   "execution_count": 454,
   "metadata": {},
   "outputs": [],
   "source": [
    "RANDOM_STATE = 110\n",
    "\n",
    "data = pd.read_csv(\"../../project/data/clean_financial_data.csv\", encoding='utf-8-sig', low_memory=False)"
   ]
  },
  {
   "cell_type": "code",
   "execution_count": 455,
   "metadata": {},
   "outputs": [
    {
     "data": {
      "text/plain": [
       "Index(['업체코드', '종목코드', '종목명', '2020/총자산증가율', '2021/총자산증가율', '2022/총자산증가율',\n",
       "       '2023/총자산증가율', '2024/총자산증가율', '2020/유형자산증가율', '2021/유형자산증가율',\n",
       "       ...\n",
       "       '2020/조세공과(구성비)', '2021/조세공과(구성비)', '2022/조세공과(구성비)', '2023/조세공과(구성비)',\n",
       "       '2024/조세공과(구성비)', '2020/감가상각비(구성비)', '2021/감가상각비(구성비)',\n",
       "       '2022/감가상각비(구성비)', '2023/감가상각비(구성비)', '2024/감가상각비(구성비)'],\n",
       "      dtype='object', length=543)"
      ]
     },
     "execution_count": 455,
     "metadata": {},
     "output_type": "execute_result"
    }
   ],
   "source": [
    "data.columns"
   ]
  },
  {
   "cell_type": "markdown",
   "metadata": {},
   "source": [
    "21~23년도 데이터 선택"
   ]
  },
  {
   "cell_type": "code",
   "execution_count": 456,
   "metadata": {},
   "outputs": [
    {
     "name": "stdout",
     "output_type": "stream",
     "text": [
      "필터링된 데이터프레임의 열들:\n",
      "Index(['업체코드', '종목코드', '종목명', '2021/총자산증가율', '2022/총자산증가율', '2023/총자산증가율',\n",
      "       '2021/유형자산증가율', '2022/유형자산증가율', '2023/유형자산증가율', '2021/유동자산증가율',\n",
      "       ...\n",
      "       '2023/금융비용(구성비)', '2021/임차료(구성비)', '2022/임차료(구성비)', '2023/임차료(구성비)',\n",
      "       '2021/조세공과(구성비)', '2022/조세공과(구성비)', '2023/조세공과(구성비)', '2021/감가상각비(구성비)',\n",
      "       '2022/감가상각비(구성비)', '2023/감가상각비(구성비)'],\n",
      "      dtype='object', length=327)\n"
     ]
    }
   ],
   "source": [
    "import pandas as pd\n",
    "\n",
    "# 21~23년도 데이터만을 사용하기 위해 해당 연도가 포함된 열 필터링\n",
    "years = ['2021', '2022', '2023']\n",
    "cols_to_keep = ['업체코드', '종목코드', '종목명'] + [col for col in data.columns if any(year in col for year in years)]\n",
    "\n",
    "# 필터링된 열들로 새로운 데이터프레임 생성\n",
    "data = data[cols_to_keep]\n",
    "\n",
    "# 결과 확인\n",
    "print(\"필터링된 데이터프레임의 열들:\")\n",
    "print(data.columns)"
   ]
  },
  {
   "cell_type": "markdown",
   "metadata": {},
   "source": [
    "연도별 영업이익이자보상비율의 값이 결측인 행이 존재하는경우 해당 행 제거"
   ]
  },
  {
   "cell_type": "code",
   "execution_count": 457,
   "metadata": {},
   "outputs": [
    {
     "name": "stdout",
     "output_type": "stream",
     "text": [
      "영업이익이자보상비율 이름이 들어가는 변수들:\n",
      "Index(['2021/영업이익이자보상비율', '2022/영업이익이자보상비율', '2023/영업이익이자보상비율'], dtype='object')\n",
      "\n",
      "제거된 행의 갯수: 8335\n"
     ]
    }
   ],
   "source": [
    "import pandas as pd\n",
    "\n",
    "# '영업이익이자보상비율' 이름이 들어가는 변수들 필터링\n",
    "interest_coverage_ratio_cols = data.filter(like='영업이익이자보상비율').columns\n",
    "\n",
    "# 필터링된 변수명 출력\n",
    "print(\"영업이익이자보상비율 이름이 들어가는 변수들:\")\n",
    "print(interest_coverage_ratio_cols)\n",
    "\n",
    "# 결측값이 존재하는 행 제거 전의 행 수\n",
    "initial_row_count = len(data)\n",
    "\n",
    "# 해당 값들에 대해서 결측이 존재하는 경우 해당 행 제거\n",
    "data = data.dropna(subset=interest_coverage_ratio_cols)\n",
    "\n",
    "# 결측값이 존재하는 행 제거 후의 행 수\n",
    "final_row_count = len(data)\n",
    "\n",
    "# 제거된 행의 갯수 출력\n",
    "removed_rows = initial_row_count - final_row_count\n",
    "print(f\"\\n제거된 행의 갯수: {removed_rows}\")"
   ]
  },
  {
   "cell_type": "code",
   "execution_count": 458,
   "metadata": {},
   "outputs": [
    {
     "name": "stdout",
     "output_type": "stream",
     "text": [
      "<class 'pandas.core.frame.DataFrame'>\n",
      "Int64Index: 30304 entries, 0 to 38638\n",
      "Columns: 327 entries, 업체코드 to 2023/감가상각비(구성비)\n",
      "dtypes: float64(324), object(3)\n",
      "memory usage: 75.8+ MB\n"
     ]
    }
   ],
   "source": [
    "data.info()"
   ]
  },
  {
   "cell_type": "markdown",
   "metadata": {},
   "source": [
    "부실기업여부 변수 생성  \n",
    "3년 연속 영업이익이자보상비율 < 1 => 부실기업"
   ]
  },
  {
   "cell_type": "code",
   "execution_count": 459,
   "metadata": {},
   "outputs": [
    {
     "name": "stdout",
     "output_type": "stream",
     "text": [
      "\n",
      "2023/부실기업 변수 값:\n",
      "0    24097\n",
      "1     6207\n",
      "Name: 2023/부실기업, dtype: int64\n"
     ]
    }
   ],
   "source": [
    "# 2023/부실기업 변수 생성 및 값 할당\n",
    "data['2023/부실기업'] = ((data['2021/영업이익이자보상비율'] < 1) & \n",
    "                        (data['2022/영업이익이자보상비율'] < 1) & \n",
    "                        (data['2023/영업이익이자보상비율'] < 1)).astype(int)\n",
    "\n",
    "# 결과 확인\n",
    "print(\"\\n2023/부실기업 변수 값:\")\n",
    "print(data['2023/부실기업'].value_counts())"
   ]
  },
  {
   "cell_type": "code",
   "execution_count": 460,
   "metadata": {},
   "outputs": [
    {
     "data": {
      "text/plain": [
       "Index(['업체코드', '종목코드', '종목명', '2021/총자산증가율', '2022/총자산증가율', '2023/총자산증가율',\n",
       "       '2021/유형자산증가율', '2022/유형자산증가율', '2023/유형자산증가율', '2021/유동자산증가율',\n",
       "       ...\n",
       "       '2021/임차료(구성비)', '2022/임차료(구성비)', '2023/임차료(구성비)', '2021/조세공과(구성비)',\n",
       "       '2022/조세공과(구성비)', '2023/조세공과(구성비)', '2021/감가상각비(구성비)',\n",
       "       '2022/감가상각비(구성비)', '2023/감가상각비(구성비)', '2023/부실기업'],\n",
       "      dtype='object', length=328)"
      ]
     },
     "execution_count": 460,
     "metadata": {},
     "output_type": "execute_result"
    }
   ],
   "source": [
    "data.columns"
   ]
  },
  {
   "cell_type": "code",
   "execution_count": 461,
   "metadata": {},
   "outputs": [
    {
     "data": {
      "text/html": [
       "<div>\n",
       "<style scoped>\n",
       "    .dataframe tbody tr th:only-of-type {\n",
       "        vertical-align: middle;\n",
       "    }\n",
       "\n",
       "    .dataframe tbody tr th {\n",
       "        vertical-align: top;\n",
       "    }\n",
       "\n",
       "    .dataframe thead th {\n",
       "        text-align: right;\n",
       "    }\n",
       "</style>\n",
       "<table border=\"1\" class=\"dataframe\">\n",
       "  <thead>\n",
       "    <tr style=\"text-align: right;\">\n",
       "      <th></th>\n",
       "      <th>업체코드</th>\n",
       "      <th>종목코드</th>\n",
       "      <th>종목명</th>\n",
       "      <th>2021/총자산증가율</th>\n",
       "      <th>2022/총자산증가율</th>\n",
       "      <th>2023/총자산증가율</th>\n",
       "      <th>2021/유형자산증가율</th>\n",
       "      <th>2022/유형자산증가율</th>\n",
       "      <th>2023/유형자산증가율</th>\n",
       "      <th>2021/유동자산증가율</th>\n",
       "      <th>...</th>\n",
       "      <th>2021/임차료(구성비)</th>\n",
       "      <th>2022/임차료(구성비)</th>\n",
       "      <th>2023/임차료(구성비)</th>\n",
       "      <th>2021/조세공과(구성비)</th>\n",
       "      <th>2022/조세공과(구성비)</th>\n",
       "      <th>2023/조세공과(구성비)</th>\n",
       "      <th>2021/감가상각비(구성비)</th>\n",
       "      <th>2022/감가상각비(구성비)</th>\n",
       "      <th>2023/감가상각비(구성비)</th>\n",
       "      <th>2023/부실기업</th>\n",
       "    </tr>\n",
       "  </thead>\n",
       "  <tbody>\n",
       "    <tr>\n",
       "      <th>0</th>\n",
       "      <td>N350605</td>\n",
       "      <td>A000020</td>\n",
       "      <td>동화약품</td>\n",
       "      <td>2.70</td>\n",
       "      <td>3.27</td>\n",
       "      <td>10.23</td>\n",
       "      <td>10.41</td>\n",
       "      <td>7.64</td>\n",
       "      <td>15.13</td>\n",
       "      <td>-3.11</td>\n",
       "      <td>...</td>\n",
       "      <td>NaN</td>\n",
       "      <td>NaN</td>\n",
       "      <td>NaN</td>\n",
       "      <td>NaN</td>\n",
       "      <td>NaN</td>\n",
       "      <td>NaN</td>\n",
       "      <td>NaN</td>\n",
       "      <td>NaN</td>\n",
       "      <td>NaN</td>\n",
       "      <td>0</td>\n",
       "    </tr>\n",
       "    <tr>\n",
       "      <th>1</th>\n",
       "      <td>N320498</td>\n",
       "      <td>A000040</td>\n",
       "      <td>KR모터스</td>\n",
       "      <td>1.45</td>\n",
       "      <td>-0.52</td>\n",
       "      <td>-4.89</td>\n",
       "      <td>5.78</td>\n",
       "      <td>4.85</td>\n",
       "      <td>-10.98</td>\n",
       "      <td>-12.71</td>\n",
       "      <td>...</td>\n",
       "      <td>NaN</td>\n",
       "      <td>NaN</td>\n",
       "      <td>NaN</td>\n",
       "      <td>NaN</td>\n",
       "      <td>NaN</td>\n",
       "      <td>NaN</td>\n",
       "      <td>NaN</td>\n",
       "      <td>NaN</td>\n",
       "      <td>NaN</td>\n",
       "      <td>1</td>\n",
       "    </tr>\n",
       "    <tr>\n",
       "      <th>2</th>\n",
       "      <td>N320684</td>\n",
       "      <td>A000050</td>\n",
       "      <td>경방</td>\n",
       "      <td>0.15</td>\n",
       "      <td>-6.09</td>\n",
       "      <td>-1.40</td>\n",
       "      <td>-23.56</td>\n",
       "      <td>665.18</td>\n",
       "      <td>-4.12</td>\n",
       "      <td>-0.72</td>\n",
       "      <td>...</td>\n",
       "      <td>NaN</td>\n",
       "      <td>NaN</td>\n",
       "      <td>NaN</td>\n",
       "      <td>NaN</td>\n",
       "      <td>NaN</td>\n",
       "      <td>NaN</td>\n",
       "      <td>NaN</td>\n",
       "      <td>NaN</td>\n",
       "      <td>NaN</td>\n",
       "      <td>0</td>\n",
       "    </tr>\n",
       "  </tbody>\n",
       "</table>\n",
       "<p>3 rows × 328 columns</p>\n",
       "</div>"
      ],
      "text/plain": [
       "      업체코드     종목코드    종목명  2021/총자산증가율  2022/총자산증가율  2023/총자산증가율  \\\n",
       "0  N350605  A000020   동화약품         2.70         3.27        10.23   \n",
       "1  N320498  A000040  KR모터스         1.45        -0.52        -4.89   \n",
       "2  N320684  A000050     경방         0.15        -6.09        -1.40   \n",
       "\n",
       "   2021/유형자산증가율  2022/유형자산증가율  2023/유형자산증가율  2021/유동자산증가율  ...  2021/임차료(구성비)  \\\n",
       "0         10.41          7.64         15.13         -3.11  ...            NaN   \n",
       "1          5.78          4.85        -10.98        -12.71  ...            NaN   \n",
       "2        -23.56        665.18         -4.12         -0.72  ...            NaN   \n",
       "\n",
       "   2022/임차료(구성비)  2023/임차료(구성비)  2021/조세공과(구성비)  2022/조세공과(구성비)  \\\n",
       "0            NaN            NaN             NaN             NaN   \n",
       "1            NaN            NaN             NaN             NaN   \n",
       "2            NaN            NaN             NaN             NaN   \n",
       "\n",
       "   2023/조세공과(구성비)  2021/감가상각비(구성비)  2022/감가상각비(구성비)  2023/감가상각비(구성비)  \\\n",
       "0             NaN              NaN              NaN              NaN   \n",
       "1             NaN              NaN              NaN              NaN   \n",
       "2             NaN              NaN              NaN              NaN   \n",
       "\n",
       "   2023/부실기업  \n",
       "0          0  \n",
       "1          1  \n",
       "2          0  \n",
       "\n",
       "[3 rows x 328 columns]"
      ]
     },
     "execution_count": 461,
     "metadata": {},
     "output_type": "execute_result"
    }
   ],
   "source": [
    "data.head(3)"
   ]
  },
  {
   "cell_type": "markdown",
   "metadata": {},
   "source": [
    "이때 종목코드 x -> 해당 기업이 상장되지 않은 경우"
   ]
  },
  {
   "cell_type": "code",
   "execution_count": 462,
   "metadata": {},
   "outputs": [],
   "source": [
    "# '종목코드' 열의 값이 있으면 1, 없으면 0을 부여하는 새로운 열 생성\n",
    "data['상장여부'] = data['종목코드'].notnull().astype(int)\n",
    "\n",
    "# '종목코드' 열 제거\n",
    "data = data.drop(columns=['종목코드'])"
   ]
  },
  {
   "cell_type": "markdown",
   "metadata": {},
   "source": [
    "결측비율 계산"
   ]
  },
  {
   "cell_type": "code",
   "execution_count": 463,
   "metadata": {},
   "outputs": [
    {
     "name": "stdout",
     "output_type": "stream",
     "text": [
      "\n",
      "결측 비율이 0.7 이상인 변수들:\n",
      "Index(['2023/감가상각비/총비용비율', '2023/인건비/총비용비율', '2023/조세/조세차감전순이익비율',\n",
      "       '2023/조세공과/총비용비율', '2021/배당율', '2022/배당율', '2023/배당율',\n",
      "       '2022/부가가치(종업원1인당)', '2023/부가가치(종업원1인당)', '2022/인건비(종업원1인당)',\n",
      "       '2023/인건비(종업원1인당)', '2023/총자본투자효율', '2023/설비투자효율', '2022/기계투자효율',\n",
      "       '2023/기계투자효율', '2023/부가가치율', '2023/노동소득분배율', '2023/법인세차감전순이익(구성비)',\n",
      "       '2023/인건비(구성비)', '2023/금융비용(구성비)', '2023/임차료(구성비)', '2023/조세공과(구성비)',\n",
      "       '2023/감가상각비(구성비)'],\n",
      "      dtype='object')\n",
      "\n",
      "결측 비율이 0.8 이상인 변수들:\n",
      "Index(['2021/배당율', '2022/배당율', '2023/배당율'], dtype='object')\n",
      "\n",
      "결측 비율이 0.9 이상인 변수들:\n",
      "Index([], dtype='object')\n"
     ]
    }
   ],
   "source": [
    "import pandas as pd\n",
    "\n",
    "# 모든 변수들에 대해 결측 비율 계산\n",
    "missing_ratio_all = data.isnull().mean()\n",
    "\n",
    "# # 결측 비율이 0.5 이상인 변수들 필터링 및 출력\n",
    "# cols_above_50 = missing_ratio_all[missing_ratio_all >= 0.5].index\n",
    "# print(\"\\n결측 비율이 0.5 이상인 변수들:\")\n",
    "# print(cols_above_50)\n",
    "\n",
    "# # 결측 비율이 0.6 이상인 변수들 필터링 및 출력\n",
    "# cols_above_60 = missing_ratio_all[missing_ratio_all >= 0.6].index\n",
    "# print(\"\\n결측 비율이 0.6 이상인 변수들:\")\n",
    "# print(cols_above_60)\n",
    "\n",
    "# 결측 비율이 0.7 이상인 변수들 필터링 및 출력\n",
    "cols_above_70 = missing_ratio_all[missing_ratio_all >= 0.7].index\n",
    "print(\"\\n결측 비율이 0.7 이상인 변수들:\")\n",
    "print(cols_above_70)\n",
    "\n",
    "# 결측 비율이 0.8 이상인 변수들 필터링 및 출력\n",
    "cols_above_80 = missing_ratio_all[missing_ratio_all >= 0.8].index\n",
    "print(\"\\n결측 비율이 0.8 이상인 변수들:\")\n",
    "print(cols_above_80)\n",
    "\n",
    "# 결측 비율이 0.9 이상인 변수들 필터링 및 출력\n",
    "cols_above_90 = missing_ratio_all[missing_ratio_all >= 0.9].index\n",
    "print(\"\\n결측 비율이 0.9 이상인 변수들:\")\n",
    "print(cols_above_90)"
   ]
  },
  {
   "cell_type": "markdown",
   "metadata": {},
   "source": [
    "결측값에 대해서 중앙값으로 대체"
   ]
  },
  {
   "cell_type": "code",
   "execution_count": 464,
   "metadata": {},
   "outputs": [
    {
     "name": "stdout",
     "output_type": "stream",
     "text": [
      "결측치 대체 결과:\n",
      "업체코드               0.000000\n",
      "종목명                0.000033\n",
      "2021/총자산증가율        0.000000\n",
      "2022/총자산증가율        0.000000\n",
      "2023/총자산증가율        0.000000\n",
      "                     ...   \n",
      "2021/감가상각비(구성비)    0.000000\n",
      "2022/감가상각비(구성비)    0.000000\n",
      "2023/감가상각비(구성비)    0.000000\n",
      "2023/부실기업          0.000000\n",
      "상장여부               0.000000\n",
      "Length: 328, dtype: float64\n"
     ]
    },
    {
     "name": "stderr",
     "output_type": "stream",
     "text": [
      "C:\\Users\\juneh\\AppData\\Roaming\\Python\\Python37\\site-packages\\ipykernel_launcher.py:5: FutureWarning: Dropping of nuisance columns in DataFrame reductions (with 'numeric_only=None') is deprecated; in a future version this will raise TypeError.  Select only valid columns before calling the reduction.\n",
      "  \"\"\"\n"
     ]
    }
   ],
   "source": [
    "import pandas as pd\n",
    "from scipy.stats import mstats\n",
    "\n",
    "# 결측치를 중앙값으로 대체\n",
    "data = data.fillna(data.median())\n",
    "\n",
    "# 결측치 대체 결과 확인\n",
    "print(\"결측치 대체 결과:\")\n",
    "print(data.isnull().mean())"
   ]
  },
  {
   "cell_type": "markdown",
   "metadata": {},
   "source": [
    "이상치(Outlier)를 처리하는 방법으로 윈저라이징(Winsorizing)을 적용"
   ]
  },
  {
   "cell_type": "code",
   "execution_count": 465,
   "metadata": {},
   "outputs": [
    {
     "name": "stdout",
     "output_type": "stream",
     "text": [
      "\n",
      "윈저라이징이 적용된 데이터프레임:\n",
      "      업체코드    종목명  2021/총자산증가율  2022/총자산증가율  2023/총자산증가율  2021/유형자산증가율  \\\n",
      "0  N350605   동화약품         2.70         3.27        10.23         10.41   \n",
      "1  N320498  KR모터스         1.45        -0.52        -4.89          5.78   \n",
      "2  N320684     경방         0.15        -6.09        -1.40        -23.56   \n",
      "3  N320730  삼양홀딩스        22.28        -0.76        17.63        943.89   \n",
      "4  N310581  하이트진로        10.65        -9.43        -0.03         -2.60   \n",
      "\n",
      "   2022/유형자산증가율  2023/유형자산증가율  2021/유동자산증가율  2022/유동자산증가율  ...  2022/임차료(구성비)  \\\n",
      "0          7.64         15.13         -3.11          0.95  ...            1.3   \n",
      "1          4.85        -10.98        -12.71         19.15  ...            1.3   \n",
      "2        665.18         -4.12         -0.72        -22.21  ...            1.3   \n",
      "3          0.68          8.08        -15.68         17.97  ...            1.3   \n",
      "4         -1.51          0.81         55.77        -24.09  ...            1.3   \n",
      "\n",
      "   2023/임차료(구성비)  2021/조세공과(구성비)  2022/조세공과(구성비)  2023/조세공과(구성비)  \\\n",
      "0            1.4            2.08             2.1            2.11   \n",
      "1            1.4            2.08             2.1            2.11   \n",
      "2            1.4            2.08             2.1            2.11   \n",
      "3            1.4            2.08             2.1            2.11   \n",
      "4            1.4            2.08             2.1            2.11   \n",
      "\n",
      "   2021/감가상각비(구성비)  2022/감가상각비(구성비)  2023/감가상각비(구성비)  2023/부실기업  상장여부  \n",
      "0             7.49             7.77             8.06          0     1  \n",
      "1             7.49             7.77             8.06          1     1  \n",
      "2             7.49             7.77             8.06          0     1  \n",
      "3             7.49             7.77             8.06          0     1  \n",
      "4             7.49             7.77             8.06          0     1  \n",
      "\n",
      "[5 rows x 328 columns]\n"
     ]
    }
   ],
   "source": [
    "# 윈저라이징 적용 (누적확률 0.01, 0.99에 해당하는 값들로 변환)\n",
    "data_winsorized = data.apply(lambda x: mstats.winsorize(x, limits=[0.01, 0.01]) if x.dtype.kind in 'biufc' else x)\n",
    "\n",
    "# 결과 확인\n",
    "print(\"\\n윈저라이징이 적용된 데이터프레임:\")\n",
    "print(data_winsorized.head())"
   ]
  },
  {
   "cell_type": "markdown",
   "metadata": {},
   "source": [
    "### 데이터 저장"
   ]
  },
  {
   "cell_type": "code",
   "execution_count": 466,
   "metadata": {},
   "outputs": [],
   "source": [
    "# CSV 파일로 저장\n",
    "data.to_csv(\"../../project/data/clean_financial_data_eda2.csv\", index=False, encoding='utf-8-sig')"
   ]
  },
  {
   "cell_type": "markdown",
   "metadata": {},
   "source": [
    "### 이후 할것 스케치\n",
    "\n",
    "전처리(변수선택)\n",
    "- 후진제거법\n",
    "- t-검정\n",
    "\n",
    "모델링\n",
    "- 20,21년도 변수 -> 22년 부실기업 여부 예측\n",
    "- 20,21,22년도 변수 -> 23년도 부실기업 여부 예측"
   ]
  },
  {
   "cell_type": "code",
   "execution_count": 467,
   "metadata": {},
   "outputs": [],
   "source": [
    "RANDOM_STATE = 110\n",
    "\n",
    "data = pd.read_csv(\"../../project/data/clean_financial_data_eda2.csv\", encoding='utf-8-sig', low_memory=False)"
   ]
  },
  {
   "cell_type": "code",
   "execution_count": 468,
   "metadata": {},
   "outputs": [
    {
     "name": "stdout",
     "output_type": "stream",
     "text": [
      "<class 'pandas.core.frame.DataFrame'>\n",
      "RangeIndex: 30304 entries, 0 to 30303\n",
      "Data columns (total 328 columns):\n",
      " #    Column                     Non-Null Count  Dtype  \n",
      "---   ------                     --------------  -----  \n",
      " 0    업체코드                       30304 non-null  object \n",
      " 1    종목명                        30303 non-null  object \n",
      " 2    2021/총자산증가율                30304 non-null  float64\n",
      " 3    2022/총자산증가율                30304 non-null  float64\n",
      " 4    2023/총자산증가율                30304 non-null  float64\n",
      " 5    2021/유형자산증가율               30304 non-null  float64\n",
      " 6    2022/유형자산증가율               30304 non-null  float64\n",
      " 7    2023/유형자산증가율               30304 non-null  float64\n",
      " 8    2021/유동자산증가율               30304 non-null  float64\n",
      " 9    2022/유동자산증가율               30304 non-null  float64\n",
      " 10   2023/유동자산증가율               30304 non-null  float64\n",
      " 11   2021/재고자산증가율               30304 non-null  float64\n",
      " 12   2022/재고자산증가율               30304 non-null  float64\n",
      " 13   2023/재고자산증가율               30304 non-null  float64\n",
      " 14   2021/자기자본증가율               30304 non-null  float64\n",
      " 15   2022/자기자본증가율               30304 non-null  float64\n",
      " 16   2023/자기자본증가율               30304 non-null  float64\n",
      " 17   2021/매출액증가율                30304 non-null  float64\n",
      " 18   2022/매출액증가율                30304 non-null  float64\n",
      " 19   2023/매출액증가율                30304 non-null  float64\n",
      " 20   2021/영업이익증가율               30304 non-null  float64\n",
      " 21   2022/영업이익증가율               30304 non-null  float64\n",
      " 22   2023/영업이익증가율               30304 non-null  float64\n",
      " 23   2021/법인세비용차감전순이익증가율        30304 non-null  float64\n",
      " 24   2022/법인세비용차감전순이익증가율        30304 non-null  float64\n",
      " 25   2023/법인세비용차감전순이익증가율        30304 non-null  float64\n",
      " 26   2021/순이익증가율                30304 non-null  float64\n",
      " 27   2022/순이익증가율                30304 non-null  float64\n",
      " 28   2023/순이익증가율                30304 non-null  float64\n",
      " 29   2021/종업원수증가율               30304 non-null  float64\n",
      " 30   2022/종업원수증가율               30304 non-null  float64\n",
      " 31   2023/종업원수증가율               30304 non-null  float64\n",
      " 32   2021/총자본영업이익율              30304 non-null  float64\n",
      " 33   2022/총자본영업이익율              30304 non-null  float64\n",
      " 34   2023/총자본영업이익율              30304 non-null  float64\n",
      " 35   2021/총자본법인세비용차감전순이익율       30304 non-null  float64\n",
      " 36   2022/총자본법인세비용차감전순이익율       30304 non-null  float64\n",
      " 37   2023/총자본법인세비용차감전순이익율       30304 non-null  float64\n",
      " 38   2021/총자본순이익율               30304 non-null  float64\n",
      " 39   2022/총자본순이익율               30304 non-null  float64\n",
      " 40   2023/총자본순이익율               30304 non-null  float64\n",
      " 41   2021/기업법인세비용차감전순이익율        30304 non-null  float64\n",
      " 42   2022/기업법인세비용차감전순이익율        30304 non-null  float64\n",
      " 43   2023/기업법인세비용차감전순이익율        30304 non-null  float64\n",
      " 44   2021/기업순이익율                30304 non-null  float64\n",
      " 45   2022/기업순이익율                30304 non-null  float64\n",
      " 46   2023/기업순이익율                30304 non-null  float64\n",
      " 47   2021/경영자본영업이익율             30304 non-null  float64\n",
      " 48   2022/경영자본영업이익율             30304 non-null  float64\n",
      " 49   2023/경영자본영업이익율             30304 non-null  float64\n",
      " 50   2021/자기자본법인세비용차감전순이익율      30304 non-null  float64\n",
      " 51   2022/자기자본법인세비용차감전순이익율      30304 non-null  float64\n",
      " 52   2023/자기자본법인세비용차감전순이익율      30304 non-null  float64\n",
      " 53   2021/자기자본순이익율              30304 non-null  float64\n",
      " 54   2022/자기자본순이익율              30304 non-null  float64\n",
      " 55   2023/자기자본순이익율              30304 non-null  float64\n",
      " 56   2021/자본금법인세비용차감전순이익율       30304 non-null  float64\n",
      " 57   2022/자본금법인세비용차감전순이익율       30304 non-null  float64\n",
      " 58   2023/자본금법인세비용차감전순이익율       30304 non-null  float64\n",
      " 59   2021/자본금순이익율               30304 non-null  float64\n",
      " 60   2022/자본금순이익율               30304 non-null  float64\n",
      " 61   2023/자본금순이익율               30304 non-null  float64\n",
      " 62   2021/매출액법인세비용차감전순이익율       30304 non-null  float64\n",
      " 63   2022/매출액법인세비용차감전순이익율       30304 non-null  float64\n",
      " 64   2023/매출액법인세비용차감전순이익율       30304 non-null  float64\n",
      " 65   2021/매출액순이익율               30304 non-null  float64\n",
      " 66   2022/매출액순이익율               30304 non-null  float64\n",
      " 67   2023/매출액순이익율               30304 non-null  float64\n",
      " 68   2021/매출액총이익율               30304 non-null  float64\n",
      " 69   2022/매출액총이익율               30304 non-null  float64\n",
      " 70   2023/매출액총이익율               30304 non-null  float64\n",
      " 71   2021/매출액영업이익율              30304 non-null  float64\n",
      " 72   2022/매출액영업이익율              30304 non-null  float64\n",
      " 73   2023/매출액영업이익율              30304 non-null  float64\n",
      " 74   2021/수지비율                  30304 non-null  float64\n",
      " 75   2022/수지비율                  30304 non-null  float64\n",
      " 76   2023/수지비율                  30304 non-null  float64\n",
      " 77   2021/매출원가율                 30304 non-null  float64\n",
      " 78   2022/매출원가율                 30304 non-null  float64\n",
      " 79   2023/매출원가율                 30304 non-null  float64\n",
      " 80   2021/감가상각율                 30304 non-null  float64\n",
      " 81   2022/감가상각율                 30304 non-null  float64\n",
      " 82   2023/감가상각율                 30304 non-null  float64\n",
      " 83   2021/감가상각비/총비용비율           30304 non-null  float64\n",
      " 84   2022/감가상각비/총비용비율           30304 non-null  float64\n",
      " 85   2023/감가상각비/총비용비율           30304 non-null  float64\n",
      " 86   2021/인건비/총비용비율             30304 non-null  float64\n",
      " 87   2022/인건비/총비용비율             30304 non-null  float64\n",
      " 88   2023/인건비/총비용비율             30304 non-null  float64\n",
      " 89   2021/조세/조세차감전순이익비율         30304 non-null  float64\n",
      " 90   2022/조세/조세차감전순이익비율         30304 non-null  float64\n",
      " 91   2023/조세/조세차감전순이익비율         30304 non-null  float64\n",
      " 92   2021/조세공과/총비용비율            30304 non-null  float64\n",
      " 93   2022/조세공과/총비용비율            30304 non-null  float64\n",
      " 94   2023/조세공과/총비용비율            30304 non-null  float64\n",
      " 95   2021/금융비용/총부채              30304 non-null  float64\n",
      " 96   2022/금융비용/총부채              30304 non-null  float64\n",
      " 97   2023/금융비용/총부채              30304 non-null  float64\n",
      " 98   2021/차입금평균이자율              30304 non-null  float64\n",
      " 99   2022/차입금평균이자율              30304 non-null  float64\n",
      " 100  2023/차입금평균이자율              30304 non-null  float64\n",
      " 101  2021/금융비용/총비용비율            30304 non-null  float64\n",
      " 102  2022/금융비용/총비용비율            30304 non-null  float64\n",
      " 103  2023/금융비용/총비용비율            30304 non-null  float64\n",
      " 104  2021/금융비용/매출액비율            30304 non-null  float64\n",
      " 105  2022/금융비용/매출액비율            30304 non-null  float64\n",
      " 106  2023/금융비용/매출액비율            30304 non-null  float64\n",
      " 107  2021/영업활동현금흐름이자보상비율        30304 non-null  float64\n",
      " 108  2022/영업활동현금흐름이자보상비율        30304 non-null  float64\n",
      " 109  2023/영업활동현금흐름이자보상비율        30304 non-null  float64\n",
      " 110  2021/영업이익이자보상비율            30304 non-null  float64\n",
      " 111  2022/영업이익이자보상비율            30304 non-null  float64\n",
      " 112  2023/영업이익이자보상비율            30304 non-null  float64\n",
      " 113  2021/법인세비용차감전순이익이자보상비율     30304 non-null  float64\n",
      " 114  2022/법인세비용차감전순이익이자보상비율     30304 non-null  float64\n",
      " 115  2023/법인세비용차감전순이익이자보상비율     30304 non-null  float64\n",
      " 116  2021/법인세차감전순이익이자보상비율       30304 non-null  float64\n",
      " 117  2022/법인세차감전순이익이자보상비율       30304 non-null  float64\n",
      " 118  2023/법인세차감전순이익이자보상비율       30304 non-null  float64\n",
      " 119  2021/배당율                   30304 non-null  float64\n",
      " 120  2022/배당율                   30304 non-null  float64\n",
      " 121  2023/배당율                   30304 non-null  float64\n",
      " 122  2021/배당성향                  30304 non-null  float64\n",
      " 123  2022/배당성향                  30304 non-null  float64\n",
      " 124  2023/배당성향                  30304 non-null  float64\n",
      " 125  2021/상환계수(세전이익)            30304 non-null  float64\n",
      " 126  2022/상환계수(세전이익)            30304 non-null  float64\n",
      " 127  2023/상환계수(세전이익)            30304 non-null  float64\n",
      " 128  2021/부채상환계수                30304 non-null  float64\n",
      " 129  2022/부채상환계수                30304 non-null  float64\n",
      " 130  2023/부채상환계수                30304 non-null  float64\n",
      " 131  2021/대출효율성계수(법인세비용차감전순이익)  30304 non-null  float64\n",
      " 132  2022/대출효율성계수(법인세비용차감전순이익)  30304 non-null  float64\n",
      " 133  2023/대출효율성계수(법인세비용차감전순이익)  30304 non-null  float64\n",
      " 134  2021/EBIT대매출액(세전이익)        30304 non-null  float64\n",
      " 135  2022/EBIT대매출액(세전이익)        30304 non-null  float64\n",
      " 136  2023/EBIT대매출액(세전이익)        30304 non-null  float64\n",
      " 137  2021/EBITDA대매출액            30304 non-null  float64\n",
      " 138  2022/EBITDA대매출액            30304 non-null  float64\n",
      " 139  2023/EBITDA대매출액            30304 non-null  float64\n",
      " 140  2021/EBITDA대금융비용           30304 non-null  float64\n",
      " 141  2022/EBITDA대금융비용           30304 non-null  float64\n",
      " 142  2023/EBITDA대금융비용           30304 non-null  float64\n",
      " 143  2021/자기자본비율                30304 non-null  float64\n",
      " 144  2022/자기자본비율                30304 non-null  float64\n",
      " 145  2023/자기자본비율                30304 non-null  float64\n",
      " 146  2021/유동비율                  30304 non-null  float64\n",
      " 147  2022/유동비율                  30304 non-null  float64\n",
      " 148  2023/유동비율                  30304 non-null  float64\n",
      " 149  2021/당좌비율                  30304 non-null  float64\n",
      " 150  2022/당좌비율                  30304 non-null  float64\n",
      " 151  2023/당좌비율                  30304 non-null  float64\n",
      " 152  2021/현금비율                  30304 non-null  float64\n",
      " 153  2022/현금비율                  30304 non-null  float64\n",
      " 154  2023/현금비율                  30304 non-null  float64\n",
      " 155  2021/비유동자산비율               30304 non-null  float64\n",
      " 156  2022/비유동자산비율               30304 non-null  float64\n",
      " 157  2023/비유동자산비율               30304 non-null  float64\n",
      " 158  2021/비유동자산장기적합율            30304 non-null  float64\n",
      " 159  2022/비유동자산장기적합율            30304 non-null  float64\n",
      " 160  2023/비유동자산장기적합율            30304 non-null  float64\n",
      " 161  2021/부채비율                  30304 non-null  float64\n",
      " 162  2022/부채비율                  30304 non-null  float64\n",
      " 163  2023/부채비율                  30304 non-null  float64\n",
      " 164  2021/유동부채비율                30304 non-null  float64\n",
      " 165  2022/유동부채비율                30304 non-null  float64\n",
      " 166  2023/유동부채비율                30304 non-null  float64\n",
      " 167  2021/비유동부채비율               30304 non-null  float64\n",
      " 168  2022/비유동부채비율               30304 non-null  float64\n",
      " 169  2023/비유동부채비율               30304 non-null  float64\n",
      " 170  2021/차입금의존도                30304 non-null  float64\n",
      " 171  2022/차입금의존도                30304 non-null  float64\n",
      " 172  2023/차입금의존도                30304 non-null  float64\n",
      " 173  2021/차입금/자기자본              30304 non-null  float64\n",
      " 174  2022/차입금/자기자본              30304 non-null  float64\n",
      " 175  2023/차입금/자기자본              30304 non-null  float64\n",
      " 176  2021/차입금/매출액비율             30304 non-null  float64\n",
      " 177  2022/차입금/매출액비율             30304 non-null  float64\n",
      " 178  2023/차입금/매출액비율             30304 non-null  float64\n",
      " 179  2021/매출채권/매입채무비율           30304 non-null  float64\n",
      " 180  2022/매출채권/매입채무비율           30304 non-null  float64\n",
      " 181  2023/매출채권/매입채무비율           30304 non-null  float64\n",
      " 182  2021/매출채권/상,제품비율           30304 non-null  float64\n",
      " 183  2022/매출채권/상,제품비율           30304 non-null  float64\n",
      " 184  2023/매출채권/상,제품비율           30304 non-null  float64\n",
      " 185  2021/매입채무/재고자산비율           30304 non-null  float64\n",
      " 186  2022/매입채무/재고자산비율           30304 non-null  float64\n",
      " 187  2023/매입채무/재고자산비율           30304 non-null  float64\n",
      " 188  2021/재고자산/순운전자본비율          30304 non-null  float64\n",
      " 189  2022/재고자산/순운전자본비율          30304 non-null  float64\n",
      " 190  2023/재고자산/순운전자본비율          30304 non-null  float64\n",
      " 191  2021/비유동부채/순운전자본비율         30304 non-null  float64\n",
      " 192  2022/비유동부채/순운전자본비율         30304 non-null  float64\n",
      " 193  2023/비유동부채/순운전자본비율         30304 non-null  float64\n",
      " 194  2021/순운전자본/총자본비율           30304 non-null  float64\n",
      " 195  2022/순운전자본/총자본비율           30304 non-null  float64\n",
      " 196  2023/순운전자본/총자본비율           30304 non-null  float64\n",
      " 197  2021/적립금비율                 30304 non-null  float64\n",
      " 198  2022/적립금비율                 30304 non-null  float64\n",
      " 199  2023/적립금비율                 30304 non-null  float64\n",
      " 200  2021/사내유보율                 30304 non-null  float64\n",
      " 201  2022/사내유보율                 30304 non-null  float64\n",
      " 202  2023/사내유보율                 30304 non-null  float64\n",
      " 203  2021/유보액/총자산비율             30304 non-null  float64\n",
      " 204  2022/유보액/총자산비율             30304 non-null  float64\n",
      " 205  2023/유보액/총자산비율             30304 non-null  float64\n",
      " 206  2021/유보액/납입자본비율            30304 non-null  float64\n",
      " 207  2022/유보액/납입자본비율            30304 non-null  float64\n",
      " 208  2023/유보액/납입자본비율            30304 non-null  float64\n",
      " 209  2021/총C/F대부채비율             30304 non-null  float64\n",
      " 210  2022/총C/F대부채비율             30304 non-null  float64\n",
      " 211  2023/총C/F대부채비율             30304 non-null  float64\n",
      " 212  2021/총C/F대차입금비율            30304 non-null  float64\n",
      " 213  2022/총C/F대차입금비율            30304 non-null  float64\n",
      " 214  2023/총C/F대차입금비율            30304 non-null  float64\n",
      " 215  2021/총C/F대총자본비율            30304 non-null  float64\n",
      " 216  2022/총C/F대총자본비율            30304 non-null  float64\n",
      " 217  2023/총C/F대총자본비율            30304 non-null  float64\n",
      " 218  2021/총C/F대매출액비율            30304 non-null  float64\n",
      " 219  2022/총C/F대매출액비율            30304 non-null  float64\n",
      " 220  2023/총C/F대매출액비율            30304 non-null  float64\n",
      " 221  2021/순C/F대차입금비율            30304 non-null  float64\n",
      " 222  2022/순C/F대차입금비율            30304 non-null  float64\n",
      " 223  2023/순C/F대차입금비율            30304 non-null  float64\n",
      " 224  2021/총자본회전율                30304 non-null  float64\n",
      " 225  2022/총자본회전율                30304 non-null  float64\n",
      " 226  2023/총자본회전율                30304 non-null  float64\n",
      " 227  2021/자기자본회전율               30304 non-null  float64\n",
      " 228  2022/자기자본회전율               30304 non-null  float64\n",
      " 229  2023/자기자본회전율               30304 non-null  float64\n",
      " 230  2021/자본금회전율                30304 non-null  float64\n",
      " 231  2022/자본금회전율                30304 non-null  float64\n",
      " 232  2023/자본금회전율                30304 non-null  float64\n",
      " 233  2021/순운전자본회전율              30304 non-null  float64\n",
      " 234  2022/순운전자본회전율              30304 non-null  float64\n",
      " 235  2023/순운전자본회전율              30304 non-null  float64\n",
      " 236  2021/경영자본회전율               30304 non-null  float64\n",
      " 237  2022/경영자본회전율               30304 non-null  float64\n",
      " 238  2023/경영자본회전율               30304 non-null  float64\n",
      " 239  2021/비유동자산회전율              30304 non-null  float64\n",
      " 240  2022/비유동자산회전율              30304 non-null  float64\n",
      " 241  2023/비유동자산회전율              30304 non-null  float64\n",
      " 242  2021/유형자산회전율               30304 non-null  float64\n",
      " 243  2022/유형자산회전율               30304 non-null  float64\n",
      " 244  2023/유형자산회전율               30304 non-null  float64\n",
      " 245  2021/재고자산회전율1              30304 non-null  float64\n",
      " 246  2022/재고자산회전율1              30304 non-null  float64\n",
      " 247  2023/재고자산회전율1              30304 non-null  float64\n",
      " 248  2021/상(제)품회전율              30304 non-null  float64\n",
      " 249  2022/상(제)품회전율              30304 non-null  float64\n",
      " 250  2023/상(제)품회전율              30304 non-null  float64\n",
      " 251  2021/원재료회전율                30304 non-null  float64\n",
      " 252  2022/원재료회전율                30304 non-null  float64\n",
      " 253  2023/원재료회전율                30304 non-null  float64\n",
      " 254  2021/재공품회전율                30304 non-null  float64\n",
      " 255  2022/재공품회전율                30304 non-null  float64\n",
      " 256  2023/재공품회전율                30304 non-null  float64\n",
      " 257  2021/매출채권회전율               30304 non-null  float64\n",
      " 258  2022/매출채권회전율               30304 non-null  float64\n",
      " 259  2023/매출채권회전율               30304 non-null  float64\n",
      " 260  2021/매입채무회전율               30304 non-null  float64\n",
      " 261  2022/매입채무회전율               30304 non-null  float64\n",
      " 262  2023/매입채무회전율               30304 non-null  float64\n",
      " 263  2021/재고자산회전율2              30304 non-null  float64\n",
      " 264  2022/재고자산회전율2              30304 non-null  float64\n",
      " 265  2023/재고자산회전율2              30304 non-null  float64\n",
      " 266  2021/순영업자본회전율              30304 non-null  float64\n",
      " 267  2022/순영업자본회전율              30304 non-null  float64\n",
      " 268  2023/순영업자본회전율              30304 non-null  float64\n",
      " 269  2021/부가가치(종업원1인당)          30304 non-null  float64\n",
      " 270  2022/부가가치(종업원1인당)          30304 non-null  float64\n",
      " 271  2023/부가가치(종업원1인당)          30304 non-null  float64\n",
      " 272  2021/매출액(종업원1인당)           30304 non-null  float64\n",
      " 273  2022/매출액(종업원1인당)           30304 non-null  float64\n",
      " 274  2023/매출액(종업원1인당)           30304 non-null  float64\n",
      " 275  2021/법인세비용차감전순이익(종업원1인당)   30304 non-null  float64\n",
      " 276  2022/법인세비용차감전순이익(종업원1인당)   30304 non-null  float64\n",
      " 277  2023/법인세비용차감전순이익(종업원1인당)   30304 non-null  float64\n",
      " 278  2021/순이익(종업원1인당)           30304 non-null  float64\n",
      " 279  2022/순이익(종업원1인당)           30304 non-null  float64\n",
      " 280  2023/순이익(종업원1인당)           30304 non-null  float64\n",
      " 281  2021/인건비(종업원1인당)           30304 non-null  float64\n",
      " 282  2022/인건비(종업원1인당)           30304 non-null  float64\n",
      " 283  2023/인건비(종업원1인당)           30304 non-null  float64\n",
      " 284  2021/노동장비율(종업원1인당)         30304 non-null  float64\n",
      " 285  2022/노동장비율(종업원1인당)         30304 non-null  float64\n",
      " 286  2023/노동장비율(종업원1인당)         30304 non-null  float64\n",
      " 287  2021/기계장비율(종업원1인당)         30304 non-null  float64\n",
      " 288  2022/기계장비율(종업원1인당)         30304 non-null  float64\n",
      " 289  2023/기계장비율(종업원1인당)         30304 non-null  float64\n",
      " 290  2021/자본집약도(종업원1인당)         30304 non-null  float64\n",
      " 291  2022/자본집약도(종업원1인당)         30304 non-null  float64\n",
      " 292  2023/자본집약도(종업원1인당)         30304 non-null  float64\n",
      " 293  2021/총자본투자효율               30304 non-null  float64\n",
      " 294  2022/총자본투자효율               30304 non-null  float64\n",
      " 295  2023/총자본투자효율               30304 non-null  float64\n",
      " 296  2021/설비투자효율                30304 non-null  float64\n",
      " 297  2022/설비투자효율                30304 non-null  float64\n",
      " 298  2023/설비투자효율                30304 non-null  float64\n",
      " 299  2021/기계투자효율                30304 non-null  float64\n",
      " 300  2022/기계투자효율                30304 non-null  float64\n",
      " 301  2023/기계투자효율                30304 non-null  float64\n",
      " 302  2021/부가가치율                 30304 non-null  float64\n",
      " 303  2022/부가가치율                 30304 non-null  float64\n",
      " 304  2023/부가가치율                 30304 non-null  float64\n",
      " 305  2021/노동소득분배율               30304 non-null  float64\n",
      " 306  2022/노동소득분배율               30304 non-null  float64\n",
      " 307  2023/노동소득분배율               30304 non-null  float64\n",
      " 308  2021/법인세차감전순이익(구성비)        30304 non-null  float64\n",
      " 309  2022/법인세차감전순이익(구성비)        30304 non-null  float64\n",
      " 310  2023/법인세차감전순이익(구성비)        30304 non-null  float64\n",
      " 311  2021/인건비(구성비)              30304 non-null  float64\n",
      " 312  2022/인건비(구성비)              30304 non-null  float64\n",
      " 313  2023/인건비(구성비)              30304 non-null  float64\n",
      " 314  2021/금융비용(구성비)             30304 non-null  float64\n",
      " 315  2022/금융비용(구성비)             30304 non-null  float64\n",
      " 316  2023/금융비용(구성비)             30304 non-null  float64\n",
      " 317  2021/임차료(구성비)              30304 non-null  float64\n",
      " 318  2022/임차료(구성비)              30304 non-null  float64\n",
      " 319  2023/임차료(구성비)              30304 non-null  float64\n",
      " 320  2021/조세공과(구성비)             30304 non-null  float64\n",
      " 321  2022/조세공과(구성비)             30304 non-null  float64\n",
      " 322  2023/조세공과(구성비)             30304 non-null  float64\n",
      " 323  2021/감가상각비(구성비)            30304 non-null  float64\n",
      " 324  2022/감가상각비(구성비)            30304 non-null  float64\n",
      " 325  2023/감가상각비(구성비)            30304 non-null  float64\n",
      " 326  2023/부실기업                  30304 non-null  int64  \n",
      " 327  상장여부                       30304 non-null  int64  \n",
      "dtypes: float64(324), int64(2), object(2)\n",
      "memory usage: 75.8+ MB\n"
     ]
    },
    {
     "name": "stderr",
     "output_type": "stream",
     "text": [
      "C:\\Users\\juneh\\AppData\\Roaming\\Python\\Python37\\site-packages\\ipykernel_launcher.py:1: FutureWarning: null_counts is deprecated. Use show_counts instead\n",
      "  \"\"\"Entry point for launching an IPython kernel.\n"
     ]
    }
   ],
   "source": [
    "data.info(verbose=True, null_counts=True)"
   ]
  },
  {
   "cell_type": "markdown",
   "metadata": {},
   "source": [
    "t-검정"
   ]
  },
  {
   "cell_type": "code",
   "execution_count": 469,
   "metadata": {},
   "outputs": [
    {
     "name": "stdout",
     "output_type": "stream",
     "text": [
      "\n",
      "선택된 변수들로 구성된 데이터프레임:\n",
      "Index(['업체코드', '종목명', '2021/총자산증가율', '2022/총자산증가율', '2023/총자산증가율',\n",
      "       '2022/유동자산증가율', '2022/재고자산증가율', '2021/자기자본증가율', '2023/자기자본증가율',\n",
      "       '2022/영업이익증가율',\n",
      "       ...\n",
      "       '2022/총자본투자효율', '2023/총자본투자효율', '2021/기계투자효율', '2022/기계투자효율',\n",
      "       '2023/기계투자효율', '2021/부가가치율', '2023/부가가치율', '2021/임차료(구성비)',\n",
      "       '2022/임차료(구성비)', '2023/부실기업'],\n",
      "      dtype='object', length=158)\n"
     ]
    },
    {
     "name": "stderr",
     "output_type": "stream",
     "text": [
      "C:\\Users\\juneh\\AppData\\Roaming\\Python\\Python37\\site-packages\\ipykernel_launcher.py:26: SettingWithCopyWarning: \n",
      "A value is trying to be set on a copy of a slice from a DataFrame.\n",
      "Try using .loc[row_indexer,col_indexer] = value instead\n",
      "\n",
      "See the caveats in the documentation: https://pandas.pydata.org/pandas-docs/stable/user_guide/indexing.html#returning-a-view-versus-a-copy\n"
     ]
    }
   ],
   "source": [
    "import pandas as pd\n",
    "from scipy.stats import ttest_ind\n",
    "\n",
    "# 종속 변수는 '2023/부실기업'으로 가정\n",
    "y = data['2023/부실기업']\n",
    "X = data.drop(columns=['2023/부실기업', '업체코드', '종목명'])\n",
    "\n",
    "# t-검정을 통해 변수 선택\n",
    "def t_test_selection(X, y, significance_level=0.05):\n",
    "    selected_vars = []\n",
    "    for column in X.columns:\n",
    "        group1 = X[y == 0][column]\n",
    "        group2 = X[y == 1][column]\n",
    "        t_stat, p_value = ttest_ind(group1, group2)\n",
    "        if p_value < significance_level:\n",
    "            selected_vars.append(column)\n",
    "    return selected_vars\n",
    "\n",
    "# t-검정을 통해 선택된 변수들\n",
    "selected_vars_ttest = t_test_selection(X, y)\n",
    "\n",
    "# 선택된 변수들로 새로운 데이터프레임 생성\n",
    "X_selected_ttest = data[['업체코드', '종목명'] + selected_vars_ttest]\n",
    "\n",
    "# 종속 변수 y를 데이터프레임에 추가\n",
    "X_selected_ttest['2023/부실기업'] = y\n",
    "\n",
    "# 결과 확인\n",
    "print(\"\\n선택된 변수들로 구성된 데이터프레임:\")\n",
    "print(X_selected_ttest.columns)"
   ]
  },
  {
   "cell_type": "markdown",
   "metadata": {},
   "source": [
    "후진 선택법"
   ]
  },
  {
   "cell_type": "markdown",
   "metadata": {},
   "source": [
    "-> 코드 잘 안먹어서 일단 넘어감"
   ]
  },
  {
   "cell_type": "code",
   "execution_count": 470,
   "metadata": {},
   "outputs": [],
   "source": [
    "# CSV 파일로 저장\n",
    "X_selected_ttest.to_csv(\"../../project/data/clean_financial_data_eda3.csv\", index=False, encoding='utf-8-sig')"
   ]
  },
  {
   "cell_type": "markdown",
   "metadata": {},
   "source": [
    "## 모델링"
   ]
  },
  {
   "cell_type": "code",
   "execution_count": 471,
   "metadata": {},
   "outputs": [],
   "source": [
    "RANDOM_STATE = 110\n",
    "\n",
    "data = pd.read_csv(\"../../project/data/clean_financial_data_eda3.csv\", encoding='utf-8-sig', low_memory=False)"
   ]
  },
  {
   "cell_type": "code",
   "execution_count": 479,
   "metadata": {},
   "outputs": [],
   "source": [
    "import pandas as pd\n",
    "from sklearn.model_selection import train_test_split\n",
    "from sklearn.preprocessing import StandardScaler\n",
    "from sklearn.ensemble import RandomForestClassifier, BaggingClassifier\n",
    "from sklearn.svm import SVC\n",
    "from sklearn.neighbors import KNeighborsClassifier\n",
    "from sklearn.metrics import accuracy_score\n",
    "import tensorflow as tf\n",
    "from tensorflow.keras.models import Sequential\n",
    "from tensorflow.keras.layers import Dense, LSTM, GRU, Conv2D, MaxPooling2D, Flatten, Dropout, Reshape\n",
    "from tensorflow.keras.optimizers import Adam\n"
   ]
  },
  {
   "cell_type": "code",
   "execution_count": 475,
   "metadata": {},
   "outputs": [],
   "source": [
    "# 종속 변수는 '2023/부실기업'으로 가정\n",
    "y = data['2023/부실기업']\n",
    "X = data.drop(columns=['2023/부실기업', '업체코드', '종목명'])\n",
    "\n",
    "# 데이터 분할 (70:30 비율)\n",
    "X_train, X_test, y_train, y_test = train_test_split(X, y, test_size=0.3, random_state=42)\n",
    "\n",
    "# 데이터 정규화\n",
    "scaler = StandardScaler()\n",
    "X_train_scaled = scaler.fit_transform(X_train)\n",
    "X_test_scaled = scaler.transform(X_test)"
   ]
  },
  {
   "cell_type": "code",
   "execution_count": 476,
   "metadata": {},
   "outputs": [
    {
     "name": "stdout",
     "output_type": "stream",
     "text": [
      "Random Forest Accuracy: 0.9575450945886493\n",
      "SVM Ensemble Accuracy: 0.907391113066432\n",
      "KNN Ensemble Accuracy: 0.8983721953365597\n"
     ]
    }
   ],
   "source": [
    "# 머신러닝 앙상블 모형 설정\n",
    "# 랜덤포레스트\n",
    "rf_model = RandomForestClassifier(n_estimators=50, max_depth=5, min_samples_split=10, random_state=42)\n",
    "rf_model.fit(X_train_scaled, y_train)\n",
    "rf_predictions = rf_model.predict(X_test_scaled)\n",
    "rf_accuracy = accuracy_score(y_test, rf_predictions)\n",
    "print(f\"Random Forest Accuracy: {rf_accuracy}\")\n",
    "\n",
    "# 서포트 벡터 머신 앙상블\n",
    "svm_model = BaggingClassifier(base_estimator=SVC(C=2, kernel='linear'), n_estimators=50, random_state=42)\n",
    "svm_model.fit(X_train_scaled, y_train)\n",
    "svm_predictions = svm_model.predict(X_test_scaled)\n",
    "svm_accuracy = accuracy_score(y_test, svm_predictions)\n",
    "print(f\"SVM Ensemble Accuracy: {svm_accuracy}\")\n",
    "\n",
    "# K-최근접 이웃법 앙상블\n",
    "knn_model = BaggingClassifier(base_estimator=KNeighborsClassifier(n_neighbors=30, metric='euclidean'), n_estimators=50, random_state=42)\n",
    "knn_model.fit(X_train_scaled, y_train)\n",
    "knn_predictions = knn_model.predict(X_test_scaled)\n",
    "knn_accuracy = accuracy_score(y_test, knn_predictions)\n",
    "print(f\"KNN Ensemble Accuracy: {knn_accuracy}\")"
   ]
  },
  {
   "cell_type": "code",
   "execution_count": 494,
   "metadata": {},
   "outputs": [],
   "source": [
    "# 딥러닝 모형 설정\n",
    "\n",
    "# 합성곱신경망 (CNN)\n",
    "cnn_model = Sequential()\n",
    "cnn_model.add(Reshape((X_train_scaled.shape[1], 1, 1), input_shape=(X_train_scaled.shape[1], 1))) \n",
    "cnn_model.add(Conv2D(64, kernel_size=(2, 2), activation='relu', padding='same'))\n",
    "cnn_model.add(MaxPooling2D(pool_size=(1, 1)))\n",
    "cnn_model.add(Dropout(0.25))\n",
    "cnn_model.add(Flatten())\n",
    "cnn_model.add(Dense(128, activation='relu'))\n",
    "cnn_model.add(Dropout(0.25))\n",
    "cnn_model.add(Dense(1, activation='sigmoid'))\n",
    "cnn_model.compile(loss='binary_crossentropy', optimizer=Adam(), metrics=['accuracy'])\n",
    "\n",
    "# RNN-LSTM\n",
    "lstm_model = Sequential()\n",
    "lstm_model.add(LSTM(128, activation='relu', return_sequences=True, input_shape=(X_train_scaled.shape[1], 1)))\n",
    "lstm_model.add(LSTM(128, activation='relu'))\n",
    "lstm_model.add(Dense(1, activation='sigmoid'))\n",
    "lstm_model.compile(loss='binary_crossentropy', optimizer=Adam(), metrics=['accuracy'])\n",
    "\n",
    "# RNN-GRU\n",
    "gru_model = Sequential()\n",
    "gru_model.add(GRU(128, activation='relu', return_sequences=True, input_shape=(X_train_scaled.shape[1], 1)))\n",
    "gru_model.add(GRU(128, activation='relu'))\n",
    "gru_model.add(Dense(1, activation='sigmoid'))\n",
    "gru_model.compile(loss='binary_crossentropy', optimizer=Adam(), metrics=['accuracy'])"
   ]
  },
  {
   "cell_type": "code",
   "execution_count": 496,
   "metadata": {},
   "outputs": [
    {
     "name": "stdout",
     "output_type": "stream",
     "text": [
      "Epoch 1/200\n",
      "531/531 [==============================] - 11s 20ms/step - loss: 0.0977 - accuracy: 0.9607 - val_loss: 0.1311 - val_accuracy: 0.9529\n",
      "Epoch 2/200\n",
      "531/531 [==============================] - 11s 21ms/step - loss: 0.0903 - accuracy: 0.9631 - val_loss: 0.1016 - val_accuracy: 0.9628\n",
      "Epoch 3/200\n",
      "531/531 [==============================] - 11s 21ms/step - loss: 0.0862 - accuracy: 0.9651 - val_loss: 0.1025 - val_accuracy: 0.9651\n",
      "Epoch 4/200\n",
      "531/531 [==============================] - 11s 20ms/step - loss: 0.0820 - accuracy: 0.9669 - val_loss: 0.1043 - val_accuracy: 0.9649\n",
      "Epoch 5/200\n",
      "531/531 [==============================] - 11s 20ms/step - loss: 0.0830 - accuracy: 0.9669 - val_loss: 0.1123 - val_accuracy: 0.9623\n",
      "Epoch 6/200\n",
      "531/531 [==============================] - 10s 20ms/step - loss: 0.0831 - accuracy: 0.9680 - val_loss: 0.1257 - val_accuracy: 0.9628\n",
      "Epoch 7/200\n",
      "531/531 [==============================] - 10s 19ms/step - loss: 0.0797 - accuracy: 0.9692 - val_loss: 0.1108 - val_accuracy: 0.9637\n",
      "Epoch 8/200\n",
      "531/531 [==============================] - 11s 20ms/step - loss: 0.0721 - accuracy: 0.9686 - val_loss: 0.1147 - val_accuracy: 0.9644\n",
      "Epoch 9/200\n",
      "531/531 [==============================] - 11s 20ms/step - loss: 0.0792 - accuracy: 0.9695 - val_loss: 0.1303 - val_accuracy: 0.9665\n",
      "Epoch 10/200\n",
      "531/531 [==============================] - 10s 19ms/step - loss: 0.0715 - accuracy: 0.9717 - val_loss: 0.1230 - val_accuracy: 0.9625\n",
      "Epoch 11/200\n",
      "531/531 [==============================] - 11s 20ms/step - loss: 0.0804 - accuracy: 0.9731 - val_loss: 0.1168 - val_accuracy: 0.9668\n",
      "Epoch 12/200\n",
      "531/531 [==============================] - 11s 20ms/step - loss: 0.0742 - accuracy: 0.9747 - val_loss: 0.1267 - val_accuracy: 0.9651\n",
      "285/285 [==============================] - 1s 3ms/step - loss: 3.6199 - accuracy: 0.9581\n",
      "CNN Accuracy: 0.9580950140953064\n",
      "Epoch 1/200\n",
      "531/531 [==============================] - 122s 226ms/step - loss: nan - accuracy: 0.7911 - val_loss: nan - val_accuracy: 0.7947\n",
      "Epoch 2/200\n",
      "531/531 [==============================] - 106s 199ms/step - loss: nan - accuracy: 0.7920 - val_loss: nan - val_accuracy: 0.7947\n",
      "Epoch 3/200\n",
      "531/531 [==============================] - 108s 203ms/step - loss: nan - accuracy: 0.7920 - val_loss: nan - val_accuracy: 0.7947\n",
      "Epoch 4/200\n",
      "531/531 [==============================] - 108s 203ms/step - loss: nan - accuracy: 0.7920 - val_loss: nan - val_accuracy: 0.7947\n",
      "Epoch 5/200\n",
      "531/531 [==============================] - 108s 203ms/step - loss: nan - accuracy: 0.7920 - val_loss: nan - val_accuracy: 0.7947\n",
      "Epoch 6/200\n",
      "531/531 [==============================] - 106s 199ms/step - loss: nan - accuracy: 0.7920 - val_loss: nan - val_accuracy: 0.7947\n",
      "Epoch 7/200\n",
      "531/531 [==============================] - 107s 201ms/step - loss: nan - accuracy: 0.7920 - val_loss: nan - val_accuracy: 0.7947\n",
      "Epoch 8/200\n",
      "531/531 [==============================] - 106s 200ms/step - loss: nan - accuracy: 0.7920 - val_loss: nan - val_accuracy: 0.7947\n",
      "Epoch 9/200\n",
      "531/531 [==============================] - 106s 200ms/step - loss: nan - accuracy: 0.7920 - val_loss: nan - val_accuracy: 0.7947\n",
      "Epoch 10/200\n",
      "531/531 [==============================] - 107s 202ms/step - loss: nan - accuracy: 0.7920 - val_loss: nan - val_accuracy: 0.7947\n",
      "285/285 [==============================] - 17s 59ms/step - loss: nan - accuracy: 0.8014\n",
      "LSTM Accuracy: 0.8013638257980347\n",
      "Epoch 1/200\n",
      "531/531 [==============================] - 95s 176ms/step - loss: 0.4978 - accuracy: 0.7963 - val_loss: 0.3530 - val_accuracy: 0.8555\n",
      "Epoch 2/200\n",
      "531/531 [==============================] - 91s 172ms/step - loss: 0.2960 - accuracy: 0.8807 - val_loss: 0.1846 - val_accuracy: 0.9281\n",
      "Epoch 3/200\n",
      "531/531 [==============================] - 89s 167ms/step - loss: 0.1690 - accuracy: 0.9299 - val_loss: 0.1373 - val_accuracy: 0.9392\n",
      "Epoch 4/200\n",
      "531/531 [==============================] - 89s 168ms/step - loss: 0.1484 - accuracy: 0.9396 - val_loss: 0.1496 - val_accuracy: 0.9373\n",
      "Epoch 5/200\n",
      "531/531 [==============================] - 89s 167ms/step - loss: 0.1342 - accuracy: 0.9464 - val_loss: 0.1000 - val_accuracy: 0.9559\n",
      "Epoch 6/200\n",
      "531/531 [==============================] - 89s 167ms/step - loss: 0.1308 - accuracy: 0.9467 - val_loss: 0.1059 - val_accuracy: 0.9531\n",
      "Epoch 7/200\n",
      "531/531 [==============================] - 89s 168ms/step - loss: 0.1240 - accuracy: 0.9494 - val_loss: 0.1059 - val_accuracy: 0.9550\n",
      "Epoch 8/200\n",
      "531/531 [==============================] - 89s 167ms/step - loss: 0.1195 - accuracy: 0.9523 - val_loss: 0.1282 - val_accuracy: 0.9489\n",
      "Epoch 9/200\n",
      "531/531 [==============================] - 90s 170ms/step - loss: 0.1154 - accuracy: 0.9540 - val_loss: 0.1129 - val_accuracy: 0.9529\n",
      "Epoch 10/200\n",
      "531/531 [==============================] - 90s 170ms/step - loss: 0.1134 - accuracy: 0.9552 - val_loss: 0.1111 - val_accuracy: 0.9522\n",
      "Epoch 11/200\n",
      "531/531 [==============================] - 91s 171ms/step - loss: 0.1086 - accuracy: 0.9564 - val_loss: 0.0838 - val_accuracy: 0.9644\n",
      "Epoch 12/200\n",
      "531/531 [==============================] - 89s 168ms/step - loss: 0.1033 - accuracy: 0.9567 - val_loss: 0.0951 - val_accuracy: 0.9578\n",
      "Epoch 13/200\n",
      "531/531 [==============================] - 90s 169ms/step - loss: 0.1001 - accuracy: 0.9580 - val_loss: 0.0855 - val_accuracy: 0.9672\n",
      "Epoch 14/200\n",
      "531/531 [==============================] - 90s 170ms/step - loss: 0.0976 - accuracy: 0.9601 - val_loss: 0.0986 - val_accuracy: 0.9590\n",
      "Epoch 15/200\n",
      "531/531 [==============================] - 90s 169ms/step - loss: 0.0957 - accuracy: 0.9604 - val_loss: 0.0751 - val_accuracy: 0.9677\n",
      "Epoch 16/200\n",
      "531/531 [==============================] - 89s 168ms/step - loss: 0.0921 - accuracy: 0.9625 - val_loss: 0.0820 - val_accuracy: 0.9665\n",
      "Epoch 17/200\n",
      "531/531 [==============================] - 89s 168ms/step - loss: 0.0829 - accuracy: 0.9649 - val_loss: 0.0686 - val_accuracy: 0.9715\n",
      "Epoch 18/200\n",
      "531/531 [==============================] - 89s 168ms/step - loss: 0.0807 - accuracy: 0.9674 - val_loss: 0.0703 - val_accuracy: 0.9703\n",
      "Epoch 19/200\n",
      "531/531 [==============================] - 89s 168ms/step - loss: 0.0777 - accuracy: 0.9671 - val_loss: 0.0784 - val_accuracy: 0.9701\n",
      "Epoch 20/200\n",
      "531/531 [==============================] - 90s 169ms/step - loss: 0.0770 - accuracy: 0.9680 - val_loss: 0.0700 - val_accuracy: 0.9731\n",
      "Epoch 21/200\n",
      "531/531 [==============================] - 89s 168ms/step - loss: 0.0709 - accuracy: 0.9709 - val_loss: 0.0694 - val_accuracy: 0.9745\n",
      "Epoch 22/200\n",
      "531/531 [==============================] - 89s 168ms/step - loss: 0.0694 - accuracy: 0.9704 - val_loss: 0.0675 - val_accuracy: 0.9748\n",
      "Epoch 23/200\n",
      "531/531 [==============================] - 90s 170ms/step - loss: 0.0698 - accuracy: 0.9712 - val_loss: 0.0725 - val_accuracy: 0.9717\n",
      "Epoch 24/200\n",
      "531/531 [==============================] - 91s 171ms/step - loss: 0.0678 - accuracy: 0.9721 - val_loss: 0.0657 - val_accuracy: 0.9743\n",
      "Epoch 25/200\n",
      "531/531 [==============================] - 90s 170ms/step - loss: 0.0655 - accuracy: 0.9734 - val_loss: 0.0694 - val_accuracy: 0.9708\n",
      "Epoch 26/200\n",
      "531/531 [==============================] - 90s 169ms/step - loss: 0.0812 - accuracy: 0.9678 - val_loss: 0.0848 - val_accuracy: 0.9661\n",
      "Epoch 27/200\n",
      "531/531 [==============================] - 90s 169ms/step - loss: 0.0678 - accuracy: 0.9727 - val_loss: 0.0746 - val_accuracy: 0.9689\n",
      "Epoch 28/200\n",
      "531/531 [==============================] - 91s 171ms/step - loss: 0.0615 - accuracy: 0.9730 - val_loss: 0.0704 - val_accuracy: 0.9727\n",
      "Epoch 29/200\n",
      "531/531 [==============================] - 92s 173ms/step - loss: 0.0603 - accuracy: 0.9752 - val_loss: 0.0589 - val_accuracy: 0.9760\n",
      "Epoch 30/200\n",
      "531/531 [==============================] - 92s 173ms/step - loss: 0.0563 - accuracy: 0.9771 - val_loss: 0.0702 - val_accuracy: 0.9741\n",
      "Epoch 31/200\n",
      "531/531 [==============================] - 91s 171ms/step - loss: 0.0554 - accuracy: 0.9768 - val_loss: 0.0599 - val_accuracy: 0.9755\n",
      "Epoch 32/200\n",
      "531/531 [==============================] - 91s 171ms/step - loss: 0.0566 - accuracy: 0.9770 - val_loss: 0.0638 - val_accuracy: 0.9729\n",
      "Epoch 33/200\n",
      "531/531 [==============================] - 91s 170ms/step - loss: 0.0551 - accuracy: 0.9779 - val_loss: 0.0657 - val_accuracy: 0.9757\n",
      "Epoch 34/200\n",
      "531/531 [==============================] - 91s 171ms/step - loss: 0.0817 - accuracy: 0.9688 - val_loss: 0.0656 - val_accuracy: 0.9727\n",
      "Epoch 35/200\n",
      "531/531 [==============================] - 91s 172ms/step - loss: 0.0678 - accuracy: 0.9723 - val_loss: 0.1158 - val_accuracy: 0.9576\n",
      "Epoch 36/200\n",
      "531/531 [==============================] - 92s 174ms/step - loss: 0.1069 - accuracy: 0.9608 - val_loss: 0.0910 - val_accuracy: 0.9639\n",
      "Epoch 37/200\n",
      "531/531 [==============================] - 92s 173ms/step - loss: 0.0707 - accuracy: 0.9708 - val_loss: 0.0721 - val_accuracy: 0.9703\n",
      "Epoch 38/200\n",
      "531/531 [==============================] - 91s 171ms/step - loss: 0.0817 - accuracy: 0.9681 - val_loss: 0.1568 - val_accuracy: 0.9505\n",
      "Epoch 39/200\n",
      "531/531 [==============================] - 90s 170ms/step - loss: 0.2033 - accuracy: 0.9283 - val_loss: 0.1218 - val_accuracy: 0.9481\n",
      "285/285 [==============================] - 12s 41ms/step - loss: 0.1430 - accuracy: 0.9439\n",
      "GRU Accuracy: 0.9439067244529724\n"
     ]
    }
   ],
   "source": [
    "# 딥러닝 모형 학습 및 평가\n",
    "\n",
    "# CNN 학습 및 평가\n",
    "X_train_cnn = X_train_scaled.reshape((X_train_scaled.shape[0], X_train_scaled.shape[1], 1, 1))\n",
    "X_test_cnn = X_test_scaled.reshape((X_test_scaled.shape[0], X_test_scaled.shape[1], 1, 1))\n",
    "cnn_model.fit(X_train_cnn, y_train, epochs=200, batch_size=32, validation_split=0.2, callbacks=[tf.keras.callbacks.EarlyStopping(patience=10)])\n",
    "cnn_accuracy = cnn_model.evaluate(X_test_cnn, y_test)[1]\n",
    "print(f\"CNN Accuracy: {cnn_accuracy}\")\n",
    "\n",
    "# RNN-LSTM 학습 및 평가\n",
    "X_train_lstm = X_train_scaled.reshape((X_train_scaled.shape[0], X_train_scaled.shape[1], 1))\n",
    "X_test_lstm = X_test_scaled.reshape((X_test_scaled.shape[0], X_test_scaled.shape[1], 1))\n",
    "lstm_model.fit(X_train_lstm, y_train, epochs=200, batch_size=32, validation_split=0.2, callbacks=[tf.keras.callbacks.EarlyStopping(patience=10)])\n",
    "lstm_accuracy = lstm_model.evaluate(X_test_lstm, y_test)[1]\n",
    "print(f\"LSTM Accuracy: {lstm_accuracy}\")\n",
    "\n",
    "# RNN-GRU 학습 및 평가\n",
    "gru_model.fit(X_train_lstm, y_train, epochs=200, batch_size=32, validation_split=0.2, callbacks=[tf.keras.callbacks.EarlyStopping(patience=10)])\n",
    "gru_accuracy = gru_model.evaluate(X_test_lstm, y_test)[1]\n",
    "print(f\"GRU Accuracy: {gru_accuracy}\")"
   ]
  },
  {
   "cell_type": "code",
   "execution_count": 497,
   "metadata": {},
   "outputs": [
    {
     "name": "stdout",
     "output_type": "stream",
     "text": [
      "Deep Learning Models: CNN, LSTM, GRU\n",
      "CNN Accuracy: 0.9580950140953064\n",
      "LSTM Accuracy: 0.8013638257980347\n",
      "GRU Accuracy: 0.9439067244529724\n"
     ]
    }
   ],
   "source": [
    "print(f\"Deep Learning Models: CNN, LSTM, GRU\")\n",
    "print(f\"CNN Accuracy: {cnn_accuracy}\")\n",
    "print(f\"LSTM Accuracy: {lstm_accuracy}\")\n",
    "print(f\"GRU Accuracy: {gru_accuracy}\")"
   ]
  },
  {
   "cell_type": "markdown",
   "metadata": {},
   "source": [
    "."
   ]
  }
 ],
 "metadata": {
  "kernelspec": {
   "display_name": "Python 3",
   "language": "python",
   "name": "python3"
  },
  "language_info": {
   "codemirror_mode": {
    "name": "ipython",
    "version": 3
   },
   "file_extension": ".py",
   "mimetype": "text/x-python",
   "name": "python",
   "nbconvert_exporter": "python",
   "pygments_lexer": "ipython3",
   "version": "3.7.8"
  }
 },
 "nbformat": 4,
 "nbformat_minor": 2
}
