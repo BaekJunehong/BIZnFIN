{
 "cells": [
  {
   "cell_type": "markdown",
   "metadata": {},
   "source": [
    "# BIZ 프로젝트 : 부실기업 예측"
   ]
  },
  {
   "cell_type": "markdown",
   "metadata": {},
   "source": [
    "## Step2 : 데이터 전처리"
   ]
  },
  {
   "cell_type": "markdown",
   "metadata": {},
   "source": [
    "부실기업은 과거 3년간 연속해 이자보상 배율이 1.0미만인 기업을 의미하며  \n",
    "이를 이용하여 타겟변수인 부실기업여부 변수를 생성"
   ]
  },
  {
   "cell_type": "markdown",
   "metadata": {},
   "source": [
    "### 필요라이브러리 불러오기"
   ]
  },
  {
   "cell_type": "code",
   "execution_count": 126,
   "metadata": {},
   "outputs": [],
   "source": [
    "import pandas as pd\n",
    "import numpy as np"
   ]
  },
  {
   "cell_type": "markdown",
   "metadata": {},
   "source": [
    "### 데이터 불러오기"
   ]
  },
  {
   "cell_type": "code",
   "execution_count": 127,
   "metadata": {},
   "outputs": [
    {
     "name": "stdout",
     "output_type": "stream",
     "text": [
      "(38639, 543)\n"
     ]
    }
   ],
   "source": [
    "RANDOM_STATE = 110\n",
    "\n",
    "data = pd.read_csv(\"../../project/data/clean_financial_data.csv\", encoding='utf-8-sig', low_memory=False)\n",
    "print(data.shape)"
   ]
  },
  {
   "cell_type": "code",
   "execution_count": 128,
   "metadata": {},
   "outputs": [
    {
     "data": {
      "text/plain": [
       "Index(['업체코드', '종목코드', '종목명', '2020/총자산증가율', '2021/총자산증가율', '2022/총자산증가율',\n",
       "       '2023/총자산증가율', '2024/총자산증가율', '2020/유형자산증가율', '2021/유형자산증가율',\n",
       "       ...\n",
       "       '2020/조세공과(구성비)', '2021/조세공과(구성비)', '2022/조세공과(구성비)', '2023/조세공과(구성비)',\n",
       "       '2024/조세공과(구성비)', '2020/감가상각비(구성비)', '2021/감가상각비(구성비)',\n",
       "       '2022/감가상각비(구성비)', '2023/감가상각비(구성비)', '2024/감가상각비(구성비)'],\n",
       "      dtype='object', length=543)"
      ]
     },
     "execution_count": 128,
     "metadata": {},
     "output_type": "execute_result"
    }
   ],
   "source": [
    "data.columns"
   ]
  },
  {
   "cell_type": "code",
   "execution_count": 129,
   "metadata": {},
   "outputs": [
    {
     "name": "stdout",
     "output_type": "stream",
     "text": [
      "                 결측치 개수  결측치 비율 (%)\n",
      "2020/영업이익이자보상비율    8768   22.692099\n",
      "2021/영업이익이자보상비율    6378   16.506638\n",
      "2022/영업이익이자보상비율    4472   11.573798\n",
      "2023/영업이익이자보상비율    4810   12.448562\n",
      "2024/영업이익이자보상비율   37943   98.198711\n"
     ]
    }
   ],
   "source": [
    "# '영업이익이자보상비율'이 포함된 열들 찾기\n",
    "columns_with_ratio = [col for col in data.columns if '영업이익이자보상비율' in col]\n",
    "\n",
    "# 각 열에 대해 결측치 개수와 비율 계산\n",
    "missing_data = data[columns_with_ratio].isnull().sum()\n",
    "missing_ratio = (missing_data / len(data)) * 100  # 결측치 비율 계산 (퍼센트)\n",
    "\n",
    "# 결측치가 있는 열만 출력\n",
    "missing_summary = pd.DataFrame({\n",
    "    '결측치 개수': missing_data,\n",
    "    '결측치 비율 (%)': missing_ratio\n",
    "}).loc[missing_data > 0]\n",
    "\n",
    "# 결과 출력\n",
    "print(missing_summary)\n"
   ]
  },
  {
   "cell_type": "markdown",
   "metadata": {},
   "source": [
    "- 2024년 데이터는 target변수인 '영업이익이자보상비율'의 대부분이 결측치이므로 제거"
   ]
  },
  {
   "cell_type": "code",
   "execution_count": 130,
   "metadata": {},
   "outputs": [
    {
     "name": "stdout",
     "output_type": "stream",
     "text": [
      "(38639, 435)\n"
     ]
    }
   ],
   "source": [
    "# '2024'가 열 이름에 포함된 열들을 제거\n",
    "data = data.drop(columns=[col for col in data.columns if '2024' in col], errors='ignore')\n",
    "print(data.shape)"
   ]
  },
  {
   "cell_type": "code",
   "execution_count": 131,
   "metadata": {},
   "outputs": [
    {
     "name": "stdout",
     "output_type": "stream",
     "text": [
      "(27604, 435)\n"
     ]
    }
   ],
   "source": [
    "# '영업이익이자보상비율'이 포함된 열들 찾기\n",
    "columns_with_ratio = [col for col in data.columns if '영업이익이자보상비율' in col]\n",
    "\n",
    "# 결측치가 있는 행 제거\n",
    "data = data.dropna(subset=columns_with_ratio)\n",
    "\n",
    "# 결과 확인\n",
    "print(data.shape)"
   ]
  },
  {
   "cell_type": "code",
   "execution_count": 132,
   "metadata": {},
   "outputs": [],
   "source": [
    "# 각 열의 결측값을 중앙값으로 대체\n",
    "data = data.fillna(data.median(numeric_only=True))"
   ]
  },
  {
   "cell_type": "code",
   "execution_count": 133,
   "metadata": {},
   "outputs": [
    {
     "data": {
      "text/plain": [
       "업체코드                object\n",
       "종목코드                object\n",
       "종목명                 object\n",
       "2020/총자산증가율        float64\n",
       "2021/총자산증가율        float64\n",
       "                    ...   \n",
       "2023/조세공과(구성비)     float64\n",
       "2020/감가상각비(구성비)    float64\n",
       "2021/감가상각비(구성비)    float64\n",
       "2022/감가상각비(구성비)    float64\n",
       "2023/감가상각비(구성비)    float64\n",
       "Length: 435, dtype: object"
      ]
     },
     "execution_count": 133,
     "metadata": {},
     "output_type": "execute_result"
    }
   ],
   "source": [
    "data.dtypes"
   ]
  },
  {
   "cell_type": "code",
   "execution_count": 134,
   "metadata": {},
   "outputs": [
    {
     "name": "stdout",
     "output_type": "stream",
     "text": [
      "숫자형 변수 개수: 432개\n"
     ]
    }
   ],
   "source": [
    "# 숫자형 변수 개수 확인\n",
    "numeric_columns = data.select_dtypes(include=['number']).columns\n",
    "numeric_count = len(numeric_columns)\n",
    "\n",
    "print(f\"숫자형 변수 개수: {numeric_count}개\")"
   ]
  },
  {
   "cell_type": "code",
   "execution_count": 135,
   "metadata": {},
   "outputs": [],
   "source": [
    "import matplotlib.pyplot as plt\n",
    "from matplotlib import rc\n",
    "import platform\n",
    "\n",
    "# 운영 체제에 따라 폰트 설정\n",
    "if platform.system() == 'Windows':  # Windows 환경\n",
    "    rc('font', family='Malgun Gothic')  # 맑은 고딕\n",
    "\n",
    "# 음수 표시 가능하도록 설정\n",
    "plt.rcParams['axes.unicode_minus'] = False\n"
   ]
  },
  {
   "cell_type": "code",
   "execution_count": 136,
   "metadata": {},
   "outputs": [
    {
     "data": {
      "image/png": "[encoded data removed]",
      "text/plain": [
       "<Figure size 1200x600 with 1 Axes>"
      ]
     },
     "metadata": {},
     "output_type": "display_data"
    }
   ],
   "source": [
    "import matplotlib.pyplot as plt\n",
    "\n",
    "# 숫자형 변수 선택\n",
    "numeric_columns = data.select_dtypes(include=['number']).columns\n",
    "\n",
    "# 숫자형 변수 중 일부 선택 (예: 앞에서 10개)\n",
    "selected_columns = numeric_columns[:10]\n",
    "\n",
    "# 선택된 변수에 대한 박스플롯 그리기\n",
    "plt.figure(figsize=(12, 6))\n",
    "data[selected_columns].boxplot(rot=45)\n",
    "plt.title(\"Selected Numeric Variables - Boxplot\")\n",
    "plt.ylabel(\"Values\")\n",
    "plt.show()\n"
   ]
  },
  {
   "cell_type": "code",
   "execution_count": 137,
   "metadata": {},
   "outputs": [
    {
     "data": {
      "text/html": [
       "<div>\n",
       "<style scoped>\n",
       "    .dataframe tbody tr th:only-of-type {\n",
       "        vertical-align: middle;\n",
       "    }\n",
       "\n",
       "    .dataframe tbody tr th {\n",
       "        vertical-align: top;\n",
       "    }\n",
       "\n",
       "    .dataframe thead th {\n",
       "        text-align: right;\n",
       "    }\n",
       "</style>\n",
       "<table border=\"1\" class=\"dataframe\">\n",
       "  <thead>\n",
       "    <tr style=\"text-align: right;\">\n",
       "      <th></th>\n",
       "      <th>업체코드</th>\n",
       "      <th>종목코드</th>\n",
       "      <th>종목명</th>\n",
       "      <th>2020/총자산증가율</th>\n",
       "      <th>2021/총자산증가율</th>\n",
       "      <th>2022/총자산증가율</th>\n",
       "      <th>2023/총자산증가율</th>\n",
       "      <th>2020/유형자산증가율</th>\n",
       "      <th>2021/유형자산증가율</th>\n",
       "      <th>2022/유형자산증가율</th>\n",
       "      <th>...</th>\n",
       "      <th>2022/임차료(구성비)</th>\n",
       "      <th>2023/임차료(구성비)</th>\n",
       "      <th>2020/조세공과(구성비)</th>\n",
       "      <th>2021/조세공과(구성비)</th>\n",
       "      <th>2022/조세공과(구성비)</th>\n",
       "      <th>2023/조세공과(구성비)</th>\n",
       "      <th>2020/감가상각비(구성비)</th>\n",
       "      <th>2021/감가상각비(구성비)</th>\n",
       "      <th>2022/감가상각비(구성비)</th>\n",
       "      <th>2023/감가상각비(구성비)</th>\n",
       "    </tr>\n",
       "  </thead>\n",
       "  <tbody>\n",
       "    <tr>\n",
       "      <th>0</th>\n",
       "      <td>N350605</td>\n",
       "      <td>A000020</td>\n",
       "      <td>동화약품</td>\n",
       "      <td>7.57</td>\n",
       "      <td>2.70</td>\n",
       "      <td>3.27</td>\n",
       "      <td>10.23</td>\n",
       "      <td>19.67</td>\n",
       "      <td>10.41</td>\n",
       "      <td>7.64</td>\n",
       "      <td>...</td>\n",
       "      <td>1.32</td>\n",
       "      <td>1.41</td>\n",
       "      <td>2.14</td>\n",
       "      <td>2.11</td>\n",
       "      <td>2.12</td>\n",
       "      <td>2.13</td>\n",
       "      <td>7.96</td>\n",
       "      <td>7.83</td>\n",
       "      <td>8.03</td>\n",
       "      <td>8.22</td>\n",
       "    </tr>\n",
       "    <tr>\n",
       "      <th>1</th>\n",
       "      <td>N320498</td>\n",
       "      <td>A000040</td>\n",
       "      <td>KR모터스</td>\n",
       "      <td>-36.76</td>\n",
       "      <td>1.45</td>\n",
       "      <td>-0.52</td>\n",
       "      <td>-4.89</td>\n",
       "      <td>-0.29</td>\n",
       "      <td>5.78</td>\n",
       "      <td>4.85</td>\n",
       "      <td>...</td>\n",
       "      <td>1.32</td>\n",
       "      <td>1.41</td>\n",
       "      <td>2.14</td>\n",
       "      <td>2.11</td>\n",
       "      <td>2.12</td>\n",
       "      <td>2.13</td>\n",
       "      <td>7.96</td>\n",
       "      <td>7.83</td>\n",
       "      <td>8.03</td>\n",
       "      <td>8.22</td>\n",
       "    </tr>\n",
       "    <tr>\n",
       "      <th>2</th>\n",
       "      <td>N320684</td>\n",
       "      <td>A000050</td>\n",
       "      <td>경방</td>\n",
       "      <td>-6.47</td>\n",
       "      <td>0.15</td>\n",
       "      <td>-6.09</td>\n",
       "      <td>-1.40</td>\n",
       "      <td>-36.42</td>\n",
       "      <td>-23.56</td>\n",
       "      <td>665.18</td>\n",
       "      <td>...</td>\n",
       "      <td>1.32</td>\n",
       "      <td>1.41</td>\n",
       "      <td>2.14</td>\n",
       "      <td>2.11</td>\n",
       "      <td>2.12</td>\n",
       "      <td>2.13</td>\n",
       "      <td>7.96</td>\n",
       "      <td>7.83</td>\n",
       "      <td>8.03</td>\n",
       "      <td>8.22</td>\n",
       "    </tr>\n",
       "    <tr>\n",
       "      <th>3</th>\n",
       "      <td>N320730</td>\n",
       "      <td>A000070</td>\n",
       "      <td>삼양홀딩스</td>\n",
       "      <td>6.31</td>\n",
       "      <td>22.28</td>\n",
       "      <td>-0.76</td>\n",
       "      <td>17.63</td>\n",
       "      <td>-45.53</td>\n",
       "      <td>943.89</td>\n",
       "      <td>0.68</td>\n",
       "      <td>...</td>\n",
       "      <td>1.32</td>\n",
       "      <td>1.41</td>\n",
       "      <td>2.14</td>\n",
       "      <td>2.11</td>\n",
       "      <td>2.12</td>\n",
       "      <td>2.13</td>\n",
       "      <td>7.96</td>\n",
       "      <td>7.83</td>\n",
       "      <td>8.03</td>\n",
       "      <td>8.22</td>\n",
       "    </tr>\n",
       "    <tr>\n",
       "      <th>4</th>\n",
       "      <td>N310581</td>\n",
       "      <td>A000080</td>\n",
       "      <td>하이트진로</td>\n",
       "      <td>-0.99</td>\n",
       "      <td>10.65</td>\n",
       "      <td>-9.43</td>\n",
       "      <td>-0.03</td>\n",
       "      <td>-6.75</td>\n",
       "      <td>-2.60</td>\n",
       "      <td>-1.51</td>\n",
       "      <td>...</td>\n",
       "      <td>1.32</td>\n",
       "      <td>1.41</td>\n",
       "      <td>2.14</td>\n",
       "      <td>2.11</td>\n",
       "      <td>2.12</td>\n",
       "      <td>2.13</td>\n",
       "      <td>7.96</td>\n",
       "      <td>7.83</td>\n",
       "      <td>8.03</td>\n",
       "      <td>8.22</td>\n",
       "    </tr>\n",
       "  </tbody>\n",
       "</table>\n",
       "<p>5 rows × 435 columns</p>\n",
       "</div>"
      ],
      "text/plain": [
       "      업체코드     종목코드    종목명  2020/총자산증가율  2021/총자산증가율  2022/총자산증가율  \\\n",
       "0  N350605  A000020   동화약품         7.57         2.70         3.27   \n",
       "1  N320498  A000040  KR모터스       -36.76         1.45        -0.52   \n",
       "2  N320684  A000050     경방        -6.47         0.15        -6.09   \n",
       "3  N320730  A000070  삼양홀딩스         6.31        22.28        -0.76   \n",
       "4  N310581  A000080  하이트진로        -0.99        10.65        -9.43   \n",
       "\n",
       "   2023/총자산증가율  2020/유형자산증가율  2021/유형자산증가율  2022/유형자산증가율  ...  2022/임차료(구성비)  \\\n",
       "0        10.23         19.67         10.41          7.64  ...           1.32   \n",
       "1        -4.89         -0.29          5.78          4.85  ...           1.32   \n",
       "2        -1.40        -36.42        -23.56        665.18  ...           1.32   \n",
       "3        17.63        -45.53        943.89          0.68  ...           1.32   \n",
       "4        -0.03         -6.75         -2.60         -1.51  ...           1.32   \n",
       "\n",
       "   2023/임차료(구성비)  2020/조세공과(구성비)  2021/조세공과(구성비)  2022/조세공과(구성비)  \\\n",
       "0           1.41            2.14            2.11            2.12   \n",
       "1           1.41            2.14            2.11            2.12   \n",
       "2           1.41            2.14            2.11            2.12   \n",
       "3           1.41            2.14            2.11            2.12   \n",
       "4           1.41            2.14            2.11            2.12   \n",
       "\n",
       "   2023/조세공과(구성비)  2020/감가상각비(구성비)  2021/감가상각비(구성비)  2022/감가상각비(구성비)  \\\n",
       "0            2.13             7.96             7.83             8.03   \n",
       "1            2.13             7.96             7.83             8.03   \n",
       "2            2.13             7.96             7.83             8.03   \n",
       "3            2.13             7.96             7.83             8.03   \n",
       "4            2.13             7.96             7.83             8.03   \n",
       "\n",
       "   2023/감가상각비(구성비)  \n",
       "0             8.22  \n",
       "1             8.22  \n",
       "2             8.22  \n",
       "3             8.22  \n",
       "4             8.22  \n",
       "\n",
       "[5 rows x 435 columns]"
      ]
     },
     "execution_count": 137,
     "metadata": {},
     "output_type": "execute_result"
    }
   ],
   "source": [
    "from scipy.stats.mstats import winsorize\n",
    "\n",
    "# 숫자형 데이터에만 윈저라이징 적용\n",
    "numeric_columns = data.select_dtypes(include=['number']).columns\n",
    "\n",
    "for col in numeric_columns:\n",
    "    # 0.01 이하와 0.99 이상을 해당 값으로 제한\n",
    "    lower_limit = data[col].quantile(0.01)\n",
    "    upper_limit = data[col].quantile(0.99)\n",
    "    data[col] = data[col].clip(lower=lower_limit, upper=upper_limit)\n",
    "\n",
    "\n",
    "data.head(5)\n"
   ]
  },
  {
   "cell_type": "code",
   "execution_count": 138,
   "metadata": {},
   "outputs": [
    {
     "data": {
      "image/png": "[encoded data removed]",
      "text/plain": [
       "<Figure size 1200x600 with 1 Axes>"
      ]
     },
     "metadata": {},
     "output_type": "display_data"
    }
   ],
   "source": [
    "import matplotlib.pyplot as plt\n",
    "\n",
    "selected_columns = numeric_columns[:10]  # 이전에 선택한 numeric_columns 그대로 사용\n",
    "\n",
    "# 윈저라이징 후 선택된 변수에 대한 박스플롯 그리기\n",
    "plt.figure(figsize=(12, 6))\n",
    "data[selected_columns].boxplot(rot=45)\n",
    "plt.title(\"Selected Numeric Variables - Boxplot After Winsorizing\")\n",
    "plt.ylabel(\"Values\")\n",
    "plt.show()\n"
   ]
  },
  {
   "cell_type": "code",
   "execution_count": 139,
   "metadata": {},
   "outputs": [],
   "source": [
    "# import numpy as np\n",
    "\n",
    "# # 로그 변환\n",
    "# data_log_scaled = data[selected_columns].apply(lambda x: np.log1p(x))\n",
    "\n",
    "# # 로그 변환 후 박스플롯\n",
    "# plt.figure(figsize=(12, 6))\n",
    "# data_log_scaled.boxplot(rot=45)\n",
    "# plt.title(\"Selected Numeric Variables - Boxplot After Log Transformation\")\n",
    "# plt.ylabel(\"Log-Scaled Values\")\n",
    "# plt.show()\n"
   ]
  },
  {
   "cell_type": "code",
   "execution_count": 140,
   "metadata": {},
   "outputs": [
    {
     "data": {
      "text/plain": [
       "0        False\n",
       "1         True\n",
       "2        False\n",
       "3        False\n",
       "4        False\n",
       "         ...  \n",
       "38634     True\n",
       "38635    False\n",
       "38636    False\n",
       "38637    False\n",
       "38638    False\n",
       "Name: 2021/영업이익이자보상비율, Length: 27604, dtype: bool"
      ]
     },
     "execution_count": 140,
     "metadata": {},
     "output_type": "execute_result"
    }
   ],
   "source": [
    "data['2021/영업이익이자보상비율'] < 1"
   ]
  },
  {
   "cell_type": "markdown",
   "metadata": {},
   "source": [
    "- 0이면 부실기업이 아닌 기업, 1이면 부실기업을 의미"
   ]
  },
  {
   "cell_type": "code",
   "execution_count": 141,
   "metadata": {},
   "outputs": [
    {
     "name": "stdout",
     "output_type": "stream",
     "text": [
      "\n",
      "2023/부실기업 변수 값:\n",
      "2023/부실기업\n",
      "0    22473\n",
      "1     5131\n",
      "Name: count, dtype: int64\n"
     ]
    },
    {
     "name": "stderr",
     "output_type": "stream",
     "text": [
      "C:\\Users\\ldb76\\AppData\\Local\\Temp\\ipykernel_14892\\799345054.py:2: PerformanceWarning: DataFrame is highly fragmented.  This is usually the result of calling `frame.insert` many times, which has poor performance.  Consider joining all columns at once using pd.concat(axis=1) instead. To get a de-fragmented frame, use `newframe = frame.copy()`\n",
      "  data['2023/부실기업'] = ((data['2021/영업이익이자보상비율'] < 1) &\n"
     ]
    }
   ],
   "source": [
    "# 2023/부실기업 변수 생성 및 값 할당\n",
    "data['2023/부실기업'] = ((data['2021/영업이익이자보상비율'] < 1) & \n",
    "                        (data['2022/영업이익이자보상비율'] < 1) & \n",
    "                        (data['2023/영업이익이자보상비율'] < 1)).astype(int)\n",
    "\n",
    "print(\"\\n2023/부실기업 변수 값:\")\n",
    "print(data['2023/부실기업'].value_counts())"
   ]
  },
  {
   "cell_type": "code",
   "execution_count": 142,
   "metadata": {},
   "outputs": [
    {
     "data": {
      "text/plain": [
       "업체코드                   0\n",
       "종목코드               24402\n",
       "종목명                    1\n",
       "2020/총자산증가율            0\n",
       "2021/총자산증가율            0\n",
       "                   ...  \n",
       "2020/감가상각비(구성비)        0\n",
       "2021/감가상각비(구성비)        0\n",
       "2022/감가상각비(구성비)        0\n",
       "2023/감가상각비(구성비)        0\n",
       "2023/부실기업              0\n",
       "Length: 436, dtype: int64"
      ]
     },
     "execution_count": 142,
     "metadata": {},
     "output_type": "execute_result"
    }
   ],
   "source": [
    "data.isnull().sum()"
   ]
  },
  {
   "cell_type": "code",
   "execution_count": 143,
   "metadata": {},
   "outputs": [],
   "source": [
    "# '종목명' 열에서 null 값이 있는 행 제거\n",
    "data = data[data['종목명'].notnull()]"
   ]
  },
  {
   "cell_type": "markdown",
   "metadata": {},
   "source": [
    "이때 종목코드 x -> 해당 기업이 상장되지 않은 경우"
   ]
  },
  {
   "cell_type": "code",
   "execution_count": 144,
   "metadata": {},
   "outputs": [
    {
     "name": "stderr",
     "output_type": "stream",
     "text": [
      "C:\\Users\\ldb76\\AppData\\Local\\Temp\\ipykernel_14892\\292392295.py:2: PerformanceWarning: DataFrame is highly fragmented.  This is usually the result of calling `frame.insert` many times, which has poor performance.  Consider joining all columns at once using pd.concat(axis=1) instead. To get a de-fragmented frame, use `newframe = frame.copy()`\n",
      "  data['상장여부'] = data['종목코드'].notnull().astype(int)\n"
     ]
    }
   ],
   "source": [
    "# '종목코드' 열의 값이 있으면 1, 없으면 0을 부여하는 새로운 열 생성\n",
    "data['상장여부'] = data['종목코드'].notnull().astype(int)\n",
    "\n",
    "# '종목코드' 열 제거\n",
    "data = data.drop(columns=['종목코드'])"
   ]
  },
  {
   "cell_type": "code",
   "execution_count": 145,
   "metadata": {},
   "outputs": [
    {
     "data": {
      "text/plain": [
       "업체코드               0\n",
       "종목명                0\n",
       "2020/총자산증가율        0\n",
       "2021/총자산증가율        0\n",
       "2022/총자산증가율        0\n",
       "                  ..\n",
       "2021/감가상각비(구성비)    0\n",
       "2022/감가상각비(구성비)    0\n",
       "2023/감가상각비(구성비)    0\n",
       "2023/부실기업          0\n",
       "상장여부               0\n",
       "Length: 436, dtype: int64"
      ]
     },
     "execution_count": 145,
     "metadata": {},
     "output_type": "execute_result"
    }
   ],
   "source": [
    "data.isnull().sum()"
   ]
  },
  {
   "cell_type": "code",
   "execution_count": 146,
   "metadata": {},
   "outputs": [
    {
     "data": {
      "text/plain": [
       "업체코드                object\n",
       "종목명                 object\n",
       "2020/총자산증가율        float64\n",
       "2021/총자산증가율        float64\n",
       "2022/총자산증가율        float64\n",
       "                    ...   \n",
       "2021/감가상각비(구성비)    float64\n",
       "2022/감가상각비(구성비)    float64\n",
       "2023/감가상각비(구성비)    float64\n",
       "2023/부실기업            int32\n",
       "상장여부                 int32\n",
       "Length: 436, dtype: object"
      ]
     },
     "execution_count": 146,
     "metadata": {},
     "output_type": "execute_result"
    }
   ],
   "source": [
    "data.dtypes"
   ]
  },
  {
   "cell_type": "markdown",
   "metadata": {},
   "source": [
    "20~22년도 데이터 선택"
   ]
  },
  {
   "cell_type": "code",
   "execution_count": 147,
   "metadata": {},
   "outputs": [
    {
     "name": "stdout",
     "output_type": "stream",
     "text": [
      "필터링된 데이터프레임의 열들:\n",
      "Index(['업체코드', '종목명', '상장여부', '2023/부실기업', '2020/총자산증가율', '2021/총자산증가율',\n",
      "       '2022/총자산증가율', '2020/유형자산증가율', '2021/유형자산증가율', '2022/유형자산증가율',\n",
      "       ...\n",
      "       '2022/금융비용(구성비)', '2020/임차료(구성비)', '2021/임차료(구성비)', '2022/임차료(구성비)',\n",
      "       '2020/조세공과(구성비)', '2021/조세공과(구성비)', '2022/조세공과(구성비)', '2020/감가상각비(구성비)',\n",
      "       '2021/감가상각비(구성비)', '2022/감가상각비(구성비)'],\n",
      "      dtype='object', length=328)\n"
     ]
    }
   ],
   "source": [
    "import pandas as pd\n",
    "\n",
    "# 21~23년도 데이터만을 사용하기 위해 해당 연도가 포함된 열 필터링\n",
    "years = ['2020', '2021', '2022']\n",
    "cols_to_keep = ['업체코드', '종목명','상장여부','2023/부실기업'] + [col for col in data.columns if any(year in col for year in years)]\n",
    "\n",
    "# 필터링된 열들로 새로운 데이터프레임 생성\n",
    "data = data[cols_to_keep]\n",
    "\n",
    "# 결과 확인\n",
    "print(\"필터링된 데이터프레임의 열들:\")\n",
    "print(data.columns)"
   ]
  },
  {
   "cell_type": "code",
   "execution_count": 148,
   "metadata": {},
   "outputs": [
    {
     "name": "stdout",
     "output_type": "stream",
     "text": [
      "<class 'pandas.core.frame.DataFrame'>\n",
      "Index: 27603 entries, 0 to 38638\n",
      "Columns: 328 entries, 업체코드 to 2022/감가상각비(구성비)\n",
      "dtypes: float64(324), int32(2), object(2)\n",
      "memory usage: 69.1+ MB\n"
     ]
    }
   ],
   "source": [
    "data.info()"
   ]
  },
  {
   "cell_type": "markdown",
   "metadata": {},
   "source": [
    "### t-test"
   ]
  },
  {
   "cell_type": "code",
   "execution_count": 149,
   "metadata": {},
   "outputs": [
    {
     "name": "stdout",
     "output_type": "stream",
     "text": [
      "t-검정 결과 요약:\n",
      "                 변수       t-값       p-값\n",
      "87   2022/인건비/총비용비율  0.133861  0.893515\n",
      "4      2020/유형자산증가율 -0.190568  0.848869\n",
      "13     2020/자기자본증가율  0.238941  0.811159\n",
      "241    2020/유형자산회전율 -0.248338  0.803880\n",
      "5      2021/유형자산증가율 -0.281332  0.778463\n",
      "310   2020/인건비(구성비) -0.292772  0.769707\n",
      "304    2020/노동소득분배율 -0.292772  0.769707\n",
      "256    2020/매출채권회전율  0.358525  0.719961\n",
      "29     2021/종업원수증가율  0.368283  0.712674\n",
      "28     2020/종업원수증가율  0.613943  0.539274\n",
      "제거되는 변수의 갯수:  23\n",
      "\n",
      "유의미한 변수들:\n",
      "                  변수       t-값           p-값\n",
      "0               상장여부 -3.923307  8.814390e-05\n",
      "1        2020/총자산증가율 -5.875854  4.420711e-09\n",
      "2        2021/총자산증가율 -5.444239  5.405659e-08\n",
      "3        2022/총자산증가율  6.429458  1.367696e-10\n",
      "7       2020/유동자산증가율 -8.162246  3.961774e-16\n",
      "..               ...       ...           ...\n",
      "319   2020/조세공과(구성비) -3.014725  2.582048e-03\n",
      "320   2021/조세공과(구성비) -3.432897  6.010097e-04\n",
      "321   2022/조세공과(구성비) -3.097531  1.959583e-03\n",
      "323  2021/감가상각비(구성비) -4.141930  3.488085e-05\n",
      "324  2022/감가상각비(구성비) -4.588787  4.540407e-06\n",
      "\n",
      "[302 rows x 3 columns]\n"
     ]
    }
   ],
   "source": [
    "from scipy.stats import ttest_ind\n",
    "\n",
    "# 타겟 변수 설정\n",
    "group_0 = data[data['2023/부실기업'] == 0]  # 부실기업이 아닌 그룹\n",
    "group_1 = data[data['2023/부실기업'] == 1]  # 부실기업 그룹\n",
    "\n",
    "# 숫자형 변수 선택 및 제외할 열들 제거\n",
    "numeric_columns = data.select_dtypes(include=['number']).columns.drop('2023/부실기업')\n",
    "\n",
    "# t-검정 결과 저장\n",
    "t_test_results = []\n",
    "\n",
    "for col in numeric_columns:\n",
    "    # 각 변수에 대해 t-검정 수행\n",
    "    t_stat, p_value = ttest_ind(group_0[col].dropna(), group_1[col].dropna(), equal_var=False)  # Welch's t-test\n",
    "    t_test_results.append({'변수': col, 't-값': t_stat, 'p-값': p_value})\n",
    "\n",
    "# t-검정 결과를 데이터프레임으로 정리\n",
    "t_test_df = pd.DataFrame(t_test_results)\n",
    "\n",
    "# 유의미한 변수 필터링 (p-값 < 0.05)\n",
    "significant_vars = t_test_df[t_test_df['p-값'] < 0.05]\n",
    "\n",
    "# 결과 출력\n",
    "print(\"t-검정 결과 요약:\")\n",
    "print(t_test_df[t_test_df['p-값'] > 0.05].sort_values(by='p-값', ascending=False).head(10))  # p-값 기준 상위 10개 출력\n",
    "print(\"제거되는 변수의 갯수: \", len(t_test_df[t_test_df['p-값'] > 0.05]))\n",
    "print(\"\\n유의미한 변수들:\")\n",
    "print(significant_vars)"
   ]
  },
  {
   "cell_type": "code",
   "execution_count": null,
   "metadata": {},
   "outputs": [
    {
     "name": "stdout",
     "output_type": "stream",
     "text": [
      "2021년도 변수들:\n",
      "['2021/총자산증가율', '2021/유형자산증가율', '2021/유동자산증가율', '2021/재고자산증가율', '2021/자기자본증가율', '2021/매출액증가율', '2021/영업이익증가율', '2021/법인세비용차감전순이익증가율', '2021/순이익증가율', '2021/종업원수증가율', '2021/총자본영업이익율', '2021/총자본법인세비용차감전순이익율', '2021/총자본순이익율', '2021/기업법인세비용차감전순이익율', '2021/기업순이익율', '2021/경영자본영업이익율', '2021/자기자본법인세비용차감전순이익율', '2021/자기자본순이익율', '2021/자본금법인세비용차감전순이익율', '2021/자본금순이익율', '2021/매출액법인세비용차감전순이익율', '2021/매출액순이익율', '2021/매출액총이익율', '2021/매출액영업이익율', '2021/수지비율', '2021/매출원가율', '2021/감가상각율', '2021/감가상각비/총비용비율', '2021/인건비/총비용비율', '2021/조세/조세차감전순이익비율', '2021/조세공과/총비용비율', '2021/금융비용/총부채', '2021/차입금평균이자율', '2021/금융비용/총비용비율', '2021/금융비용/매출액비율', '2021/영업활동현금흐름이자보상비율', '2021/영업이익이자보상비율', '2021/법인세비용차감전순이익이자보상비율', '2021/법인세차감전순이익이자보상비율', '2021/배당율', '2021/배당성향', '2021/상환계수(세전이익)', '2021/부채상환계수', '2021/대출효율성계수(법인세비용차감전순이익)', '2021/EBIT대매출액(세전이익)', '2021/EBITDA대매출액', '2021/EBITDA대금융비용', '2021/자기자본비율', '2021/유동비율', '2021/당좌비율', '2021/현금비율', '2021/비유동자산비율', '2021/비유동자산장기적합율', '2021/부채비율', '2021/유동부채비율', '2021/비유동부채비율', '2021/차입금의존도', '2021/차입금/자기자본', '2021/차입금/매출액비율', '2021/매출채권/매입채무비율', '2021/매출채권/상,제품비율', '2021/매입채무/재고자산비율', '2021/재고자산/순운전자본비율', '2021/비유동부채/순운전자본비율', '2021/순운전자본/총자본비율', '2021/적립금비율', '2021/사내유보율', '2021/유보액/총자산비율', '2021/유보액/납입자본비율', '2021/총C/F대부채비율', '2021/총C/F대차입금비율', '2021/총C/F대총자본비율', '2021/총C/F대매출액비율', '2021/순C/F대차입금비율', '2021/총자본회전율', '2021/자기자본회전율', '2021/자본금회전율', '2021/순운전자본회전율', '2021/경영자본회전율', '2021/비유동자산회전율', '2021/유형자산회전율', '2021/재고자산회전율1', '2021/상(제)품회전율', '2021/원재료회전율', '2021/재공품회전율', '2021/매출채권회전율', '2021/매입채무회전율', '2021/재고자산회전율2', '2021/순영업자본회전율', '2021/부가가치(종업원1인당)', '2021/매출액(종업원1인당)', '2021/법인세비용차감전순이익(종업원1인당)', '2021/순이익(종업원1인당)', '2021/인건비(종업원1인당)', '2021/노동장비율(종업원1인당)', '2021/기계장비율(종업원1인당)', '2021/자본집약도(종업원1인당)', '2021/총자본투자효율', '2021/설비투자효율', '2021/기계투자효율', '2021/부가가치율', '2021/노동소득분배율', '2021/법인세차감전순이익(구성비)', '2021/인건비(구성비)', '2021/금융비용(구성비)', '2021/임차료(구성비)', '2021/조세공과(구성비)', '2021/감가상각비(구성비)']\n",
      "\n",
      "2022년도 변수들:\n",
      "['2022/총자산증가율', '2022/유형자산증가율', '2022/유동자산증가율', '2022/재고자산증가율', '2022/자기자본증가율', '2022/매출액증가율', '2022/영업이익증가율', '2022/법인세비용차감전순이익증가율', '2022/순이익증가율', '2022/종업원수증가율', '2022/총자본영업이익율', '2022/총자본법인세비용차감전순이익율', '2022/총자본순이익율', '2022/기업법인세비용차감전순이익율', '2022/기업순이익율', '2022/경영자본영업이익율', '2022/자기자본법인세비용차감전순이익율', '2022/자기자본순이익율', '2022/자본금법인세비용차감전순이익율', '2022/자본금순이익율', '2022/매출액법인세비용차감전순이익율', '2022/매출액순이익율', '2022/매출액총이익율', '2022/매출액영업이익율', '2022/수지비율', '2022/매출원가율', '2022/감가상각율', '2022/감가상각비/총비용비율', '2022/인건비/총비용비율', '2022/조세/조세차감전순이익비율', '2022/조세공과/총비용비율', '2022/금융비용/총부채', '2022/차입금평균이자율', '2022/금융비용/총비용비율', '2022/금융비용/매출액비율', '2022/영업활동현금흐름이자보상비율', '2022/영업이익이자보상비율', '2022/법인세비용차감전순이익이자보상비율', '2022/법인세차감전순이익이자보상비율', '2022/배당율', '2022/배당성향', '2022/상환계수(세전이익)', '2022/부채상환계수', '2022/대출효율성계수(법인세비용차감전순이익)', '2022/EBIT대매출액(세전이익)', '2022/EBITDA대매출액', '2022/EBITDA대금융비용', '2022/자기자본비율', '2022/유동비율', '2022/당좌비율', '2022/현금비율', '2022/비유동자산비율', '2022/비유동자산장기적합율', '2022/부채비율', '2022/유동부채비율', '2022/비유동부채비율', '2022/차입금의존도', '2022/차입금/자기자본', '2022/차입금/매출액비율', '2022/매출채권/매입채무비율', '2022/매출채권/상,제품비율', '2022/매입채무/재고자산비율', '2022/재고자산/순운전자본비율', '2022/비유동부채/순운전자본비율', '2022/순운전자본/총자본비율', '2022/적립금비율', '2022/사내유보율', '2022/유보액/총자산비율', '2022/유보액/납입자본비율', '2022/총C/F대부채비율', '2022/총C/F대차입금비율', '2022/총C/F대총자본비율', '2022/총C/F대매출액비율', '2022/순C/F대차입금비율', '2022/총자본회전율', '2022/자기자본회전율', '2022/자본금회전율', '2022/순운전자본회전율', '2022/경영자본회전율', '2022/비유동자산회전율', '2022/유형자산회전율', '2022/재고자산회전율1', '2022/상(제)품회전율', '2022/원재료회전율', '2022/재공품회전율', '2022/매출채권회전율', '2022/매입채무회전율', '2022/재고자산회전율2', '2022/순영업자본회전율', '2022/부가가치(종업원1인당)', '2022/매출액(종업원1인당)', '2022/법인세비용차감전순이익(종업원1인당)', '2022/순이익(종업원1인당)', '2022/인건비(종업원1인당)', '2022/노동장비율(종업원1인당)', '2022/기계장비율(종업원1인당)', '2022/자본집약도(종업원1인당)', '2022/총자본투자효율', '2022/설비투자효율', '2022/기계투자효율', '2022/부가가치율', '2022/노동소득분배율', '2022/법인세차감전순이익(구성비)', '2022/인건비(구성비)', '2022/금융비용(구성비)', '2022/임차료(구성비)', '2022/조세공과(구성비)', '2022/감가상각비(구성비)']\n",
      "\n",
      "2023년도 변수들:\n",
      "['2023/총자산증가율', '2023/유형자산증가율', '2023/유동자산증가율', '2023/재고자산증가율', '2023/자기자본증가율', '2023/매출액증가율', '2023/영업이익증가율', '2023/법인세비용차감전순이익증가율', '2023/순이익증가율', '2023/종업원수증가율', '2023/총자본영업이익율', '2023/총자본법인세비용차감전순이익율', '2023/총자본순이익율', '2023/기업법인세비용차감전순이익율', '2023/기업순이익율', '2023/경영자본영업이익율', '2023/자기자본법인세비용차감전순이익율', '2023/자기자본순이익율', '2023/자본금법인세비용차감전순이익율', '2023/자본금순이익율', '2023/매출액법인세비용차감전순이익율', '2023/매출액순이익율', '2023/매출액총이익율', '2023/매출액영업이익율', '2023/수지비율', '2023/매출원가율', '2023/감가상각율', '2023/감가상각비/총비용비율', '2023/인건비/총비용비율', '2023/조세/조세차감전순이익비율', '2023/조세공과/총비용비율', '2023/금융비용/총부채', '2023/차입금평균이자율', '2023/금융비용/총비용비율', '2023/금융비용/매출액비율', '2023/영업활동현금흐름이자보상비율', '2023/영업이익이자보상비율', '2023/법인세비용차감전순이익이자보상비율', '2023/법인세차감전순이익이자보상비율', '2023/배당율', '2023/배당성향', '2023/상환계수(세전이익)', '2023/부채상환계수', '2023/대출효율성계수(법인세비용차감전순이익)', '2023/EBIT대매출액(세전이익)', '2023/EBITDA대매출액', '2023/EBITDA대금융비용', '2023/자기자본비율', '2023/유동비율', '2023/당좌비율', '2023/현금비율', '2023/비유동자산비율', '2023/비유동자산장기적합율', '2023/부채비율', '2023/유동부채비율', '2023/비유동부채비율', '2023/차입금의존도', '2023/차입금/자기자본', '2023/차입금/매출액비율', '2023/매출채권/매입채무비율', '2023/매출채권/상,제품비율', '2023/매입채무/재고자산비율', '2023/재고자산/순운전자본비율', '2023/비유동부채/순운전자본비율', '2023/순운전자본/총자본비율', '2023/적립금비율', '2023/사내유보율', '2023/유보액/총자산비율', '2023/유보액/납입자본비율', '2023/총C/F대부채비율', '2023/총C/F대차입금비율', '2023/총C/F대총자본비율', '2023/총C/F대매출액비율', '2023/순C/F대차입금비율', '2023/총자본회전율', '2023/자기자본회전율', '2023/자본금회전율', '2023/순운전자본회전율', '2023/경영자본회전율', '2023/비유동자산회전율', '2023/유형자산회전율', '2023/재고자산회전율1', '2023/상(제)품회전율', '2023/원재료회전율', '2023/재공품회전율', '2023/매출채권회전율', '2023/매입채무회전율', '2023/재고자산회전율2', '2023/순영업자본회전율', '2023/부가가치(종업원1인당)', '2023/매출액(종업원1인당)', '2023/법인세비용차감전순이익(종업원1인당)', '2023/순이익(종업원1인당)', '2023/인건비(종업원1인당)', '2023/노동장비율(종업원1인당)', '2023/기계장비율(종업원1인당)', '2023/자본집약도(종업원1인당)', '2023/총자본투자효율', '2023/설비투자효율', '2023/기계투자효율', '2023/부가가치율', '2023/노동소득분배율', '2023/법인세차감전순이익(구성비)', '2023/인건비(구성비)', '2023/금융비용(구성비)', '2023/임차료(구성비)', '2023/조세공과(구성비)', '2023/감가상각비(구성비)']\n",
      "\n",
      "연도별 변수 요약:\n",
      "                2021             2022             2023\n",
      "0        2021/총자산증가율      2022/총자산증가율      2023/총자산증가율\n",
      "1       2021/유형자산증가율     2022/유형자산증가율     2023/유형자산증가율\n",
      "2       2021/유동자산증가율     2022/유동자산증가율     2023/유동자산증가율\n",
      "3       2021/재고자산증가율     2022/재고자산증가율     2023/재고자산증가율\n",
      "4       2021/자기자본증가율     2022/자기자본증가율     2023/자기자본증가율\n",
      "..               ...              ...              ...\n",
      "103    2021/인건비(구성비)    2022/인건비(구성비)    2023/인건비(구성비)\n",
      "104   2021/금융비용(구성비)   2022/금융비용(구성비)   2023/금융비용(구성비)\n",
      "105    2021/임차료(구성비)    2022/임차료(구성비)    2023/임차료(구성비)\n",
      "106   2021/조세공과(구성비)   2022/조세공과(구성비)   2023/조세공과(구성비)\n",
      "107  2021/감가상각비(구성비)  2022/감가상각비(구성비)  2023/감가상각비(구성비)\n",
      "\n",
      "[108 rows x 3 columns]\n"
     ]
    }
   ],
   "source": [
    "# # 각 연도별 변수 선택\n",
    "# vars_2021 = [col for col in numeric_columns if col.startswith('2021/')]\n",
    "# vars_2022 = [col for col in numeric_columns if col.startswith('2022/')]\n",
    "# vars_2023 = [col for col in numeric_columns if col.startswith('2023/')]\n",
    "\n",
    "# # 연도별 변수 출력\n",
    "# print(\"2021년도 변수들:\")\n",
    "# print(vars_2021)\n",
    "\n",
    "# print(\"\\n2022년도 변수들:\")\n",
    "# print(vars_2022)\n",
    "\n",
    "# print(\"\\n2023년도 변수들:\")\n",
    "# print(vars_2023)\n",
    "\n",
    "# # 연도별 변수들을 사전으로 정리\n",
    "# yearly_variables = {\n",
    "#     '2021': vars_2021,\n",
    "#     '2022': vars_2022,\n",
    "#     '2023': vars_2023\n",
    "# }\n",
    "\n",
    "# # 데이터프레임으로 정리해서 보기 (선택 사항)\n",
    "# import pandas as pd\n",
    "# yearly_variables_df = pd.DataFrame(dict([(year, pd.Series(vars)) for year, vars in yearly_variables.items()]))\n",
    "# print(\"\\n연도별 변수 요약:\")\n",
    "# print(yearly_variables_df)\n"
   ]
  },
  {
   "cell_type": "markdown",
   "metadata": {},
   "source": [
    "### 로지스틱 회귀분석 & 후진선택법"
   ]
  },
  {
   "cell_type": "markdown",
   "metadata": {},
   "source": [
    "- 로지스틱 회귀분석에서 변수 검증 : 특정 독립변수가 유의미하게 종속변수와 연관되어 있는지 확인하고, 불필요한 변수를 제거"
   ]
  },
  {
   "cell_type": "code",
   "execution_count": 150,
   "metadata": {},
   "outputs": [],
   "source": [
    "import statsmodels.api as sm\n",
    "\n",
    "# '2023/부실기업'을 종속변수로 설정\n",
    "y = data['2023/부실기업']\n",
    "\n",
    "# 독립변수: t-test 후 유의한 변수들\n",
    "X = data[significant_vars['변수']].select_dtypes(include=['number'])\n",
    "\n",
    "# 상수항 추가\n",
    "X = sm.add_constant(X)"
   ]
  },
  {
   "cell_type": "code",
   "execution_count": 151,
   "metadata": {},
   "outputs": [],
   "source": [
    "def backward_elimination(X, y, significance_level=0.05):\n",
    "    \"\"\"\n",
    "    후진 선택법을 이용한 변수 선택\n",
    "    Args:\n",
    "    - X: 독립변수 데이터프레임\n",
    "    - y: 종속변수 시리즈\n",
    "    - significance_level: 변수 제거 기준 p-value (기본값: 0.05)\n",
    "\n",
    "    Returns:\n",
    "    - 최종 모델\n",
    "    - 선택된 변수 리스트\n",
    "    \"\"\"\n",
    "    while True:\n",
    "        model = sm.Logit(y, X).fit(disp=False)  # 로지스틱 회귀 모델 적합\n",
    "        p_values = model.pvalues\n",
    "        max_p_value = p_values.max()  # 가장 높은 p-value\n",
    "\n",
    "        if max_p_value > significance_level:  # 기준보다 높은 변수 제거\n",
    "            excluded_variable = p_values.idxmax()\n",
    "            print(f\"제거된 변수: {excluded_variable}, p-value: {max_p_value}\")\n",
    "            X = X.drop(columns=[excluded_variable])\n",
    "        else:\n",
    "            break\n",
    "\n",
    "    return model, X.columns"
   ]
  },
  {
   "cell_type": "code",
   "execution_count": 152,
   "metadata": {},
   "outputs": [
    {
     "name": "stderr",
     "output_type": "stream",
     "text": [
      "c:\\Users\\ldb76\\AppData\\Local\\Programs\\Python\\Python311\\Lib\\site-packages\\statsmodels\\base\\model.py:607: ConvergenceWarning: Maximum Likelihood optimization failed to converge. Check mle_retvals\n",
      "  warnings.warn(\"Maximum Likelihood optimization failed to \"\n"
     ]
    },
    {
     "name": "stdout",
     "output_type": "stream",
     "text": [
      "제거된 변수: 2020/법인세차감전순이익이자보상비율, p-value: 0.9999999999999998\n"
     ]
    },
    {
     "name": "stderr",
     "output_type": "stream",
     "text": [
      "c:\\Users\\ldb76\\AppData\\Local\\Programs\\Python\\Python311\\Lib\\site-packages\\statsmodels\\base\\model.py:607: ConvergenceWarning: Maximum Likelihood optimization failed to converge. Check mle_retvals\n",
      "  warnings.warn(\"Maximum Likelihood optimization failed to \"\n"
     ]
    },
    {
     "name": "stdout",
     "output_type": "stream",
     "text": [
      "제거된 변수: 2021/노동소득분배율, p-value: 0.9999999999999601\n"
     ]
    },
    {
     "name": "stderr",
     "output_type": "stream",
     "text": [
      "c:\\Users\\ldb76\\AppData\\Local\\Programs\\Python\\Python311\\Lib\\site-packages\\statsmodels\\base\\model.py:607: ConvergenceWarning: Maximum Likelihood optimization failed to converge. Check mle_retvals\n",
      "  warnings.warn(\"Maximum Likelihood optimization failed to \"\n"
     ]
    },
    {
     "name": "stdout",
     "output_type": "stream",
     "text": [
      "제거된 변수: 2021/법인세비용차감전순이익이자보상비율, p-value: 0.9999999999999462\n"
     ]
    },
    {
     "name": "stderr",
     "output_type": "stream",
     "text": [
      "c:\\Users\\ldb76\\AppData\\Local\\Programs\\Python\\Python311\\Lib\\site-packages\\statsmodels\\base\\model.py:607: ConvergenceWarning: Maximum Likelihood optimization failed to converge. Check mle_retvals\n",
      "  warnings.warn(\"Maximum Likelihood optimization failed to \"\n"
     ]
    },
    {
     "name": "stdout",
     "output_type": "stream",
     "text": [
      "제거된 변수: 2022/노동소득분배율, p-value: 0.9999999999999433\n"
     ]
    },
    {
     "name": "stderr",
     "output_type": "stream",
     "text": [
      "c:\\Users\\ldb76\\AppData\\Local\\Programs\\Python\\Python311\\Lib\\site-packages\\statsmodels\\base\\model.py:607: ConvergenceWarning: Maximum Likelihood optimization failed to converge. Check mle_retvals\n",
      "  warnings.warn(\"Maximum Likelihood optimization failed to \"\n"
     ]
    },
    {
     "name": "stdout",
     "output_type": "stream",
     "text": [
      "제거된 변수: 2020/법인세비용차감전순이익증가율, p-value: 0.994088060981732\n"
     ]
    },
    {
     "name": "stderr",
     "output_type": "stream",
     "text": [
      "c:\\Users\\ldb76\\AppData\\Local\\Programs\\Python\\Python311\\Lib\\site-packages\\statsmodels\\base\\model.py:607: ConvergenceWarning: Maximum Likelihood optimization failed to converge. Check mle_retvals\n",
      "  warnings.warn(\"Maximum Likelihood optimization failed to \"\n"
     ]
    },
    {
     "name": "stdout",
     "output_type": "stream",
     "text": [
      "제거된 변수: 2022/법인세차감전순이익이자보상비율, p-value: 0.999999999999973\n"
     ]
    },
    {
     "name": "stderr",
     "output_type": "stream",
     "text": [
      "c:\\Users\\ldb76\\AppData\\Local\\Programs\\Python\\Python311\\Lib\\site-packages\\statsmodels\\base\\model.py:607: ConvergenceWarning: Maximum Likelihood optimization failed to converge. Check mle_retvals\n",
      "  warnings.warn(\"Maximum Likelihood optimization failed to \"\n"
     ]
    },
    {
     "name": "stdout",
     "output_type": "stream",
     "text": [
      "제거된 변수: 2022/순C/F대차입금비율, p-value: 0.9913139077172421\n"
     ]
    },
    {
     "name": "stderr",
     "output_type": "stream",
     "text": [
      "c:\\Users\\ldb76\\AppData\\Local\\Programs\\Python\\Python311\\Lib\\site-packages\\statsmodels\\base\\model.py:607: ConvergenceWarning: Maximum Likelihood optimization failed to converge. Check mle_retvals\n",
      "  warnings.warn(\"Maximum Likelihood optimization failed to \"\n"
     ]
    },
    {
     "name": "stdout",
     "output_type": "stream",
     "text": [
      "제거된 변수: 2020/EBIT대매출액(세전이익), p-value: 0.9850340532099398\n"
     ]
    },
    {
     "name": "stderr",
     "output_type": "stream",
     "text": [
      "c:\\Users\\ldb76\\AppData\\Local\\Programs\\Python\\Python311\\Lib\\site-packages\\statsmodels\\base\\model.py:607: ConvergenceWarning: Maximum Likelihood optimization failed to converge. Check mle_retvals\n",
      "  warnings.warn(\"Maximum Likelihood optimization failed to \"\n"
     ]
    },
    {
     "name": "stdout",
     "output_type": "stream",
     "text": [
      "제거된 변수: 2021/매출채권/상,제품비율, p-value: 0.9818277364211577\n"
     ]
    },
    {
     "name": "stderr",
     "output_type": "stream",
     "text": [
      "c:\\Users\\ldb76\\AppData\\Local\\Programs\\Python\\Python311\\Lib\\site-packages\\statsmodels\\base\\model.py:607: ConvergenceWarning: Maximum Likelihood optimization failed to converge. Check mle_retvals\n",
      "  warnings.warn(\"Maximum Likelihood optimization failed to \"\n"
     ]
    },
    {
     "name": "stdout",
     "output_type": "stream",
     "text": [
      "제거된 변수: const, p-value: 0.9742619984154315\n"
     ]
    },
    {
     "name": "stderr",
     "output_type": "stream",
     "text": [
      "c:\\Users\\ldb76\\AppData\\Local\\Programs\\Python\\Python311\\Lib\\site-packages\\statsmodels\\base\\model.py:607: ConvergenceWarning: Maximum Likelihood optimization failed to converge. Check mle_retvals\n",
      "  warnings.warn(\"Maximum Likelihood optimization failed to \"\n"
     ]
    },
    {
     "name": "stdout",
     "output_type": "stream",
     "text": [
      "제거된 변수: 2020/매입채무/재고자산비율, p-value: 0.971167863052818\n",
      "제거된 변수: 2022/법인세비용차감전순이익증가율, p-value: 0.9519625343929667\n",
      "제거된 변수: 2020/감가상각비/총비용비율, p-value: 0.9502886576803433\n"
     ]
    },
    {
     "name": "stderr",
     "output_type": "stream",
     "text": [
      "c:\\Users\\ldb76\\AppData\\Local\\Programs\\Python\\Python311\\Lib\\site-packages\\statsmodels\\base\\model.py:607: ConvergenceWarning: Maximum Likelihood optimization failed to converge. Check mle_retvals\n",
      "  warnings.warn(\"Maximum Likelihood optimization failed to \"\n"
     ]
    },
    {
     "name": "stdout",
     "output_type": "stream",
     "text": [
      "제거된 변수: 2020/부가가치율, p-value: 0.949693905057538\n",
      "제거된 변수: 2020/유동비율, p-value: 0.948399438267147\n",
      "제거된 변수: 2020/자기자본순이익율, p-value: 0.9461863544130015\n"
     ]
    },
    {
     "name": "stderr",
     "output_type": "stream",
     "text": [
      "c:\\Users\\ldb76\\AppData\\Local\\Programs\\Python\\Python311\\Lib\\site-packages\\statsmodels\\base\\model.py:607: ConvergenceWarning: Maximum Likelihood optimization failed to converge. Check mle_retvals\n",
      "  warnings.warn(\"Maximum Likelihood optimization failed to \"\n"
     ]
    },
    {
     "name": "stdout",
     "output_type": "stream",
     "text": [
      "제거된 변수: 2020/총자본순이익율, p-value: 0.9426885249347204\n",
      "제거된 변수: 2020/조세공과/총비용비율, p-value: 0.9394343920481492\n"
     ]
    },
    {
     "name": "stderr",
     "output_type": "stream",
     "text": [
      "c:\\Users\\ldb76\\AppData\\Local\\Programs\\Python\\Python311\\Lib\\site-packages\\statsmodels\\base\\model.py:607: ConvergenceWarning: Maximum Likelihood optimization failed to converge. Check mle_retvals\n",
      "  warnings.warn(\"Maximum Likelihood optimization failed to \"\n"
     ]
    },
    {
     "name": "stdout",
     "output_type": "stream",
     "text": [
      "제거된 변수: 2022/매출채권/상,제품비율, p-value: 0.9371808524466251\n",
      "제거된 변수: 2020/자본금회전율, p-value: 0.9215939547744048\n"
     ]
    },
    {
     "name": "stderr",
     "output_type": "stream",
     "text": [
      "c:\\Users\\ldb76\\AppData\\Local\\Programs\\Python\\Python311\\Lib\\site-packages\\statsmodels\\base\\model.py:607: ConvergenceWarning: Maximum Likelihood optimization failed to converge. Check mle_retvals\n",
      "  warnings.warn(\"Maximum Likelihood optimization failed to \"\n"
     ]
    },
    {
     "name": "stdout",
     "output_type": "stream",
     "text": [
      "제거된 변수: 2021/매출액순이익율, p-value: 0.9127860910747754\n"
     ]
    },
    {
     "name": "stderr",
     "output_type": "stream",
     "text": [
      "c:\\Users\\ldb76\\AppData\\Local\\Programs\\Python\\Python311\\Lib\\site-packages\\statsmodels\\base\\model.py:607: ConvergenceWarning: Maximum Likelihood optimization failed to converge. Check mle_retvals\n",
      "  warnings.warn(\"Maximum Likelihood optimization failed to \"\n"
     ]
    },
    {
     "name": "stdout",
     "output_type": "stream",
     "text": [
      "제거된 변수: 2022/비유동자산비율, p-value: 0.9105099598888202\n",
      "제거된 변수: 2022/감가상각비(구성비), p-value: 0.9063768913684459\n"
     ]
    },
    {
     "name": "stderr",
     "output_type": "stream",
     "text": [
      "c:\\Users\\ldb76\\AppData\\Local\\Programs\\Python\\Python311\\Lib\\site-packages\\statsmodels\\base\\model.py:607: ConvergenceWarning: Maximum Likelihood optimization failed to converge. Check mle_retvals\n",
      "  warnings.warn(\"Maximum Likelihood optimization failed to \"\n"
     ]
    },
    {
     "name": "stdout",
     "output_type": "stream",
     "text": [
      "제거된 변수: 2020/매출채권/상,제품비율, p-value: 0.9013736311627951\n",
      "제거된 변수: 2020/순C/F대차입금비율, p-value: 0.8955663371791962\n"
     ]
    },
    {
     "name": "stderr",
     "output_type": "stream",
     "text": [
      "c:\\Users\\ldb76\\AppData\\Local\\Programs\\Python\\Python311\\Lib\\site-packages\\statsmodels\\base\\model.py:607: ConvergenceWarning: Maximum Likelihood optimization failed to converge. Check mle_retvals\n",
      "  warnings.warn(\"Maximum Likelihood optimization failed to \"\n"
     ]
    },
    {
     "name": "stdout",
     "output_type": "stream",
     "text": [
      "제거된 변수: 2021/유보액/납입자본비율, p-value: 0.896978427537282\n",
      "제거된 변수: 2022/자본집약도(종업원1인당), p-value: 0.8937975695191228\n"
     ]
    },
    {
     "name": "stderr",
     "output_type": "stream",
     "text": [
      "c:\\Users\\ldb76\\AppData\\Local\\Programs\\Python\\Python311\\Lib\\site-packages\\statsmodels\\base\\model.py:607: ConvergenceWarning: Maximum Likelihood optimization failed to converge. Check mle_retvals\n",
      "  warnings.warn(\"Maximum Likelihood optimization failed to \"\n"
     ]
    },
    {
     "name": "stdout",
     "output_type": "stream",
     "text": [
      "제거된 변수: 2020/매입채무회전율, p-value: 0.892856332468035\n"
     ]
    },
    {
     "name": "stderr",
     "output_type": "stream",
     "text": [
      "c:\\Users\\ldb76\\AppData\\Local\\Programs\\Python\\Python311\\Lib\\site-packages\\statsmodels\\base\\model.py:607: ConvergenceWarning: Maximum Likelihood optimization failed to converge. Check mle_retvals\n",
      "  warnings.warn(\"Maximum Likelihood optimization failed to \"\n"
     ]
    },
    {
     "name": "stdout",
     "output_type": "stream",
     "text": [
      "제거된 변수: 2022/순이익증가율, p-value: 0.8922336174709948\n"
     ]
    },
    {
     "name": "stderr",
     "output_type": "stream",
     "text": [
      "c:\\Users\\ldb76\\AppData\\Local\\Programs\\Python\\Python311\\Lib\\site-packages\\statsmodels\\base\\model.py:607: ConvergenceWarning: Maximum Likelihood optimization failed to converge. Check mle_retvals\n",
      "  warnings.warn(\"Maximum Likelihood optimization failed to \"\n"
     ]
    },
    {
     "name": "stdout",
     "output_type": "stream",
     "text": [
      "제거된 변수: 2022/기계투자효율, p-value: 0.8897555102897254\n",
      "제거된 변수: 2022/상(제)품회전율, p-value: 0.8844401004063542\n"
     ]
    },
    {
     "name": "stderr",
     "output_type": "stream",
     "text": [
      "c:\\Users\\ldb76\\AppData\\Local\\Programs\\Python\\Python311\\Lib\\site-packages\\statsmodels\\base\\model.py:607: ConvergenceWarning: Maximum Likelihood optimization failed to converge. Check mle_retvals\n",
      "  warnings.warn(\"Maximum Likelihood optimization failed to \"\n"
     ]
    },
    {
     "name": "stdout",
     "output_type": "stream",
     "text": [
      "제거된 변수: 2020/재고자산증가율, p-value: 0.875117605674845\n"
     ]
    },
    {
     "name": "stderr",
     "output_type": "stream",
     "text": [
      "c:\\Users\\ldb76\\AppData\\Local\\Programs\\Python\\Python311\\Lib\\site-packages\\statsmodels\\base\\model.py:607: ConvergenceWarning: Maximum Likelihood optimization failed to converge. Check mle_retvals\n",
      "  warnings.warn(\"Maximum Likelihood optimization failed to \"\n"
     ]
    },
    {
     "name": "stdout",
     "output_type": "stream",
     "text": [
      "제거된 변수: 2020/경영자본영업이익율, p-value: 0.8686282655201886\n"
     ]
    },
    {
     "name": "stderr",
     "output_type": "stream",
     "text": [
      "c:\\Users\\ldb76\\AppData\\Local\\Programs\\Python\\Python311\\Lib\\site-packages\\statsmodels\\base\\model.py:607: ConvergenceWarning: Maximum Likelihood optimization failed to converge. Check mle_retvals\n",
      "  warnings.warn(\"Maximum Likelihood optimization failed to \"\n"
     ]
    },
    {
     "name": "stdout",
     "output_type": "stream",
     "text": [
      "제거된 변수: 2020/비유동자산장기적합율, p-value: 0.867384572843398\n",
      "제거된 변수: 2022/영업활동현금흐름이자보상비율, p-value: 0.849743146379135\n",
      "제거된 변수: 2020/EBITDA대매출액, p-value: 0.847872364996991\n",
      "제거된 변수: 2020/유동자산증가율, p-value: 0.8373950665913285\n"
     ]
    },
    {
     "name": "stderr",
     "output_type": "stream",
     "text": [
      "c:\\Users\\ldb76\\AppData\\Local\\Programs\\Python\\Python311\\Lib\\site-packages\\statsmodels\\base\\model.py:607: ConvergenceWarning: Maximum Likelihood optimization failed to converge. Check mle_retvals\n",
      "  warnings.warn(\"Maximum Likelihood optimization failed to \"\n"
     ]
    },
    {
     "name": "stdout",
     "output_type": "stream",
     "text": [
      "제거된 변수: 2021/감가상각비/총비용비율, p-value: 0.8363254635711328\n"
     ]
    },
    {
     "name": "stderr",
     "output_type": "stream",
     "text": [
      "c:\\Users\\ldb76\\AppData\\Local\\Programs\\Python\\Python311\\Lib\\site-packages\\statsmodels\\base\\model.py:607: ConvergenceWarning: Maximum Likelihood optimization failed to converge. Check mle_retvals\n",
      "  warnings.warn(\"Maximum Likelihood optimization failed to \"\n"
     ]
    },
    {
     "name": "stdout",
     "output_type": "stream",
     "text": [
      "제거된 변수: 2022/매출액순이익율, p-value: 0.8358054757600426\n",
      "제거된 변수: 2020/법인세비용차감전순이익이자보상비율, p-value: 0.8317808808850231\n"
     ]
    },
    {
     "name": "stderr",
     "output_type": "stream",
     "text": [
      "c:\\Users\\ldb76\\AppData\\Local\\Programs\\Python\\Python311\\Lib\\site-packages\\statsmodels\\base\\model.py:607: ConvergenceWarning: Maximum Likelihood optimization failed to converge. Check mle_retvals\n",
      "  warnings.warn(\"Maximum Likelihood optimization failed to \"\n"
     ]
    },
    {
     "name": "stdout",
     "output_type": "stream",
     "text": [
      "제거된 변수: 2022/금융비용/매출액비율, p-value: 0.8180418467678882\n",
      "제거된 변수: 2020/차입금/매출액비율, p-value: 0.817654872235664\n"
     ]
    },
    {
     "name": "stderr",
     "output_type": "stream",
     "text": [
      "c:\\Users\\ldb76\\AppData\\Local\\Programs\\Python\\Python311\\Lib\\site-packages\\statsmodels\\base\\model.py:607: ConvergenceWarning: Maximum Likelihood optimization failed to converge. Check mle_retvals\n",
      "  warnings.warn(\"Maximum Likelihood optimization failed to \"\n"
     ]
    },
    {
     "name": "stdout",
     "output_type": "stream",
     "text": [
      "제거된 변수: 2020/노동장비율(종업원1인당), p-value: 0.8190491869283272\n"
     ]
    },
    {
     "name": "stderr",
     "output_type": "stream",
     "text": [
      "c:\\Users\\ldb76\\AppData\\Local\\Programs\\Python\\Python311\\Lib\\site-packages\\statsmodels\\base\\model.py:607: ConvergenceWarning: Maximum Likelihood optimization failed to converge. Check mle_retvals\n",
      "  warnings.warn(\"Maximum Likelihood optimization failed to \"\n"
     ]
    },
    {
     "name": "stdout",
     "output_type": "stream",
     "text": [
      "제거된 변수: 2021/비유동자산비율, p-value: 0.8150269963161993\n"
     ]
    },
    {
     "name": "stderr",
     "output_type": "stream",
     "text": [
      "c:\\Users\\ldb76\\AppData\\Local\\Programs\\Python\\Python311\\Lib\\site-packages\\statsmodels\\base\\model.py:607: ConvergenceWarning: Maximum Likelihood optimization failed to converge. Check mle_retvals\n",
      "  warnings.warn(\"Maximum Likelihood optimization failed to \"\n"
     ]
    },
    {
     "name": "stdout",
     "output_type": "stream",
     "text": [
      "제거된 변수: 2020/총C/F대매출액비율, p-value: 0.8026368852721313\n"
     ]
    },
    {
     "name": "stderr",
     "output_type": "stream",
     "text": [
      "c:\\Users\\ldb76\\AppData\\Local\\Programs\\Python\\Python311\\Lib\\site-packages\\statsmodels\\base\\model.py:607: ConvergenceWarning: Maximum Likelihood optimization failed to converge. Check mle_retvals\n",
      "  warnings.warn(\"Maximum Likelihood optimization failed to \"\n"
     ]
    },
    {
     "name": "stdout",
     "output_type": "stream",
     "text": [
      "제거된 변수: 2020/총자본투자효율, p-value: 0.7989984599703543\n"
     ]
    },
    {
     "name": "stderr",
     "output_type": "stream",
     "text": [
      "c:\\Users\\ldb76\\AppData\\Local\\Programs\\Python\\Python311\\Lib\\site-packages\\statsmodels\\base\\model.py:607: ConvergenceWarning: Maximum Likelihood optimization failed to converge. Check mle_retvals\n",
      "  warnings.warn(\"Maximum Likelihood optimization failed to \"\n"
     ]
    },
    {
     "name": "stdout",
     "output_type": "stream",
     "text": [
      "제거된 변수: 2021/자기자본비율, p-value: 0.7937236020992173\n"
     ]
    },
    {
     "name": "stderr",
     "output_type": "stream",
     "text": [
      "c:\\Users\\ldb76\\AppData\\Local\\Programs\\Python\\Python311\\Lib\\site-packages\\statsmodels\\base\\model.py:607: ConvergenceWarning: Maximum Likelihood optimization failed to converge. Check mle_retvals\n",
      "  warnings.warn(\"Maximum Likelihood optimization failed to \"\n"
     ]
    },
    {
     "name": "stdout",
     "output_type": "stream",
     "text": [
      "제거된 변수: 2022/매출액총이익율, p-value: 0.7857293449924695\n",
      "제거된 변수: 2020/부가가치(종업원1인당), p-value: 0.7807076365929726\n",
      "제거된 변수: 2020/부채상환계수, p-value: 0.7756366148247845\n",
      "제거된 변수: 2020/사내유보율, p-value: 0.7710180274474043\n",
      "제거된 변수: 2020/차입금/자기자본, p-value: 0.7694012602681732\n",
      "제거된 변수: 2022/매출채권/매입채무비율, p-value: 0.7530721346621123\n",
      "제거된 변수: 2021/수지비율, p-value: 0.7435362032817452\n",
      "제거된 변수: 2021/순C/F대차입금비율, p-value: 0.7396743409570181\n",
      "제거된 변수: 2020/매출액순이익율, p-value: 0.7365940271274357\n",
      "제거된 변수: 2020/매출액법인세비용차감전순이익율, p-value: 0.8713364327622785\n",
      "제거된 변수: 2021/순운전자본회전율, p-value: 0.7337777039902202\n",
      "제거된 변수: 2022/총C/F대매출액비율, p-value: 0.725715939976884\n",
      "제거된 변수: 2020/유동부채비율, p-value: 0.7025911589716357\n",
      "제거된 변수: 2021/EBIT대매출액(세전이익), p-value: 0.7036239423294472\n",
      "제거된 변수: 2020/적립금비율, p-value: 0.6990345819017127\n",
      "제거된 변수: 2022/노동장비율(종업원1인당), p-value: 0.6947601431816387\n",
      "제거된 변수: 2020/비유동자산회전율, p-value: 0.701509130830122\n",
      "제거된 변수: 2020/영업활동현금흐름이자보상비율, p-value: 0.6908000300712879\n",
      "제거된 변수: 2021/재고자산회전율2, p-value: 0.677482686217624\n",
      "제거된 변수: 2021/재고자산회전율1, p-value: 0.7366250401548887\n",
      "제거된 변수: 2021/자기자본회전율, p-value: 0.6749586339892715\n",
      "제거된 변수: 2021/설비투자효율, p-value: 0.6698921190878052\n",
      "제거된 변수: 2021/매출채권/매입채무비율, p-value: 0.6726038421840692\n",
      "제거된 변수: 2022/조세공과(구성비), p-value: 0.6348559972125659\n",
      "제거된 변수: 2020/순운전자본회전율, p-value: 0.631116775956867\n",
      "제거된 변수: 2021/유동비율, p-value: 0.6335860934555422\n",
      "제거된 변수: 2021/매출액영업이익율, p-value: 0.6040967471738494\n",
      "제거된 변수: 2021/부가가치(종업원1인당), p-value: 0.6008235977133465\n",
      "제거된 변수: 2021/자기자본증가율, p-value: 0.583711590405068\n",
      "제거된 변수: 2021/비유동부채비율, p-value: 0.5934948696775314\n",
      "제거된 변수: 2022/부채비율, p-value: 0.5954470396471121\n",
      "제거된 변수: 2022/비유동부채비율, p-value: 0.6133433598724759\n",
      "제거된 변수: 2022/재고자산/순운전자본비율, p-value: 0.622487179385744\n",
      "제거된 변수: 2020/자본금법인세비용차감전순이익율, p-value: 0.5723958292635384\n",
      "제거된 변수: 2021/매입채무회전율, p-value: 0.5704801456063386\n",
      "제거된 변수: 2020/매출채권/매입채무비율, p-value: 0.6141224812501767\n",
      "제거된 변수: 2021/총자본순이익율, p-value: 0.5659368491189231\n",
      "제거된 변수: 2021/자기자본법인세비용차감전순이익율, p-value: 0.5795391527959133\n",
      "제거된 변수: 2022/기업순이익율, p-value: 0.5487923437312274\n",
      "제거된 변수: 2020/재공품회전율, p-value: 0.5410400767681471\n",
      "제거된 변수: 2020/수지비율, p-value: 0.535954923908955\n",
      "제거된 변수: 2021/유동자산증가율, p-value: 0.5349550079198397\n"
     ]
    },
    {
     "name": "stderr",
     "output_type": "stream",
     "text": [
      "c:\\Users\\ldb76\\AppData\\Local\\Programs\\Python\\Python311\\Lib\\site-packages\\statsmodels\\base\\model.py:607: ConvergenceWarning: Maximum Likelihood optimization failed to converge. Check mle_retvals\n",
      "  warnings.warn(\"Maximum Likelihood optimization failed to \"\n"
     ]
    },
    {
     "name": "stdout",
     "output_type": "stream",
     "text": [
      "제거된 변수: 2021/법인세비용차감전순이익증가율, p-value: 0.511886279246544\n",
      "제거된 변수: 2022/순영업자본회전율, p-value: 0.5101836308101022\n",
      "제거된 변수: 2020/자본집약도(종업원1인당), p-value: 0.5067483703474437\n",
      "제거된 변수: 2020/경영자본회전율, p-value: 0.5056759146977722\n",
      "제거된 변수: 2021/경영자본회전율, p-value: 0.5206424547982872\n",
      "제거된 변수: 2021/조세공과(구성비), p-value: 0.4991591302699979\n",
      "제거된 변수: 2020/재고자산회전율2, p-value: 0.49012885990359034\n",
      "제거된 변수: 2021/매입채무/재고자산비율, p-value: 0.4802377005724059\n",
      "제거된 변수: 2020/총자산증가율, p-value: 0.46995316161267175\n",
      "제거된 변수: 2020/상환계수(세전이익), p-value: 0.4696814249986967\n",
      "제거된 변수: 2021/기계투자효율, p-value: 0.4629550587293222\n",
      "제거된 변수: 2021/비유동자산회전율, p-value: 0.4283669165882632\n",
      "제거된 변수: 2021/유형자산회전율, p-value: 0.42967845919705483\n",
      "제거된 변수: 2022/유형자산회전율, p-value: 0.551504620392461\n",
      "제거된 변수: 2020/조세/조세차감전순이익비율, p-value: 0.43236300744423917\n"
     ]
    },
    {
     "name": "stderr",
     "output_type": "stream",
     "text": [
      "c:\\Users\\ldb76\\AppData\\Local\\Programs\\Python\\Python311\\Lib\\site-packages\\statsmodels\\base\\model.py:607: ConvergenceWarning: Maximum Likelihood optimization failed to converge. Check mle_retvals\n",
      "  warnings.warn(\"Maximum Likelihood optimization failed to \"\n"
     ]
    },
    {
     "name": "stdout",
     "output_type": "stream",
     "text": [
      "제거된 변수: 2022/총자본투자효율, p-value: 0.4178378592307461\n",
      "제거된 변수: 2022/조세공과/총비용비율, p-value: 0.416233082729093\n",
      "제거된 변수: 2020/자본금순이익율, p-value: 0.4157446911703727\n",
      "제거된 변수: 2020/대출효율성계수(법인세비용차감전순이익), p-value: 0.4130817863163633\n",
      "제거된 변수: 2022/자기자본증가율, p-value: 0.39666333068847237\n",
      "제거된 변수: 2021/배당성향, p-value: 0.39599730179332004\n",
      "제거된 변수: 2020/배당성향, p-value: 0.48311723348127833\n",
      "제거된 변수: 2021/감가상각비(구성비), p-value: 0.38975021622869543\n",
      "제거된 변수: 2021/차입금평균이자율, p-value: 0.38952118964403026\n",
      "제거된 변수: 2022/재고자산증가율, p-value: 0.3913624702818519\n",
      "제거된 변수: 2022/순운전자본회전율, p-value: 0.36801281254454277\n",
      "제거된 변수: 2020/당좌비율, p-value: 0.36628339945288624\n",
      "제거된 변수: 2020/순이익증가율, p-value: 0.36403075251387973\n",
      "제거된 변수: 2022/부채상환계수, p-value: 0.3642821900790939\n",
      "제거된 변수: 2022/상환계수(세전이익), p-value: 0.7228329786124149\n",
      "제거된 변수: 2021/배당율, p-value: 0.3543981291279231\n"
     ]
    },
    {
     "name": "stderr",
     "output_type": "stream",
     "text": [
      "c:\\Users\\ldb76\\AppData\\Local\\Programs\\Python\\Python311\\Lib\\site-packages\\statsmodels\\base\\model.py:607: ConvergenceWarning: Maximum Likelihood optimization failed to converge. Check mle_retvals\n",
      "  warnings.warn(\"Maximum Likelihood optimization failed to \"\n"
     ]
    },
    {
     "name": "stdout",
     "output_type": "stream",
     "text": [
      "제거된 변수: 2022/비유동자산장기적합율, p-value: 0.35843953644734683\n",
      "제거된 변수: 2021/비유동자산장기적합율, p-value: 0.4511873077493431\n"
     ]
    },
    {
     "name": "stderr",
     "output_type": "stream",
     "text": [
      "c:\\Users\\ldb76\\AppData\\Local\\Programs\\Python\\Python311\\Lib\\site-packages\\statsmodels\\base\\model.py:607: ConvergenceWarning: Maximum Likelihood optimization failed to converge. Check mle_retvals\n",
      "  warnings.warn(\"Maximum Likelihood optimization failed to \"\n"
     ]
    },
    {
     "name": "stdout",
     "output_type": "stream",
     "text": [
      "제거된 변수: 2021/재공품회전율, p-value: 0.3501015344467323\n",
      "제거된 변수: 2022/자기자본순이익율, p-value: 0.3408212437444199\n",
      "제거된 변수: 2021/자본금회전율, p-value: 0.33730935788587346\n",
      "제거된 변수: 2022/자본금회전율, p-value: 0.3536317715016999\n"
     ]
    },
    {
     "name": "stderr",
     "output_type": "stream",
     "text": [
      "c:\\Users\\ldb76\\AppData\\Local\\Programs\\Python\\Python311\\Lib\\site-packages\\statsmodels\\base\\model.py:607: ConvergenceWarning: Maximum Likelihood optimization failed to converge. Check mle_retvals\n",
      "  warnings.warn(\"Maximum Likelihood optimization failed to \"\n"
     ]
    },
    {
     "name": "stdout",
     "output_type": "stream",
     "text": [
      "제거된 변수: 2020/기업법인세비용차감전순이익율, p-value: 0.33982911844954866\n",
      "제거된 변수: 2021/총C/F대총자본비율, p-value: 0.3274261321712034\n",
      "제거된 변수: 2020/총C/F대총자본비율, p-value: 0.43825464930291413\n",
      "제거된 변수: 2020/총C/F대부채비율, p-value: 0.3680793952801805\n",
      "제거된 변수: 2021/총C/F대차입금비율, p-value: 0.33172524281564464\n",
      "제거된 변수: 2022/총C/F대차입금비율, p-value: 0.3360842563249231\n",
      "제거된 변수: 2022/기계장비율(종업원1인당), p-value: 0.32133364141992427\n",
      "제거된 변수: 상장여부, p-value: 0.3235570994066087\n",
      "제거된 변수: 2021/총자본법인세비용차감전순이익율, p-value: 0.31847712788770255\n",
      "제거된 변수: 2022/차입금/매출액비율, p-value: 0.3214249896679443\n",
      "제거된 변수: 2020/인건비(종업원1인당), p-value: 0.3312618960786534\n",
      "제거된 변수: 2021/인건비(종업원1인당), p-value: 0.4729310835432644\n"
     ]
    },
    {
     "name": "stderr",
     "output_type": "stream",
     "text": [
      "c:\\Users\\ldb76\\AppData\\Local\\Programs\\Python\\Python311\\Lib\\site-packages\\statsmodels\\base\\model.py:607: ConvergenceWarning: Maximum Likelihood optimization failed to converge. Check mle_retvals\n",
      "  warnings.warn(\"Maximum Likelihood optimization failed to \"\n"
     ]
    },
    {
     "name": "stdout",
     "output_type": "stream",
     "text": [
      "제거된 변수: 2021/재고자산/순운전자본비율, p-value: 0.3182343738703328\n",
      "제거된 변수: 2020/자기자본회전율, p-value: 0.3120288764398236\n",
      "제거된 변수: 2020/상(제)품회전율, p-value: 0.29976697981353195\n",
      "제거된 변수: 2022/임차료(구성비), p-value: 0.2855198268275152\n"
     ]
    },
    {
     "name": "stderr",
     "output_type": "stream",
     "text": [
      "c:\\Users\\ldb76\\AppData\\Local\\Programs\\Python\\Python311\\Lib\\site-packages\\statsmodels\\base\\model.py:607: ConvergenceWarning: Maximum Likelihood optimization failed to converge. Check mle_retvals\n",
      "  warnings.warn(\"Maximum Likelihood optimization failed to \"\n"
     ]
    },
    {
     "name": "stdout",
     "output_type": "stream",
     "text": [
      "제거된 변수: 2022/재공품회전율, p-value: 0.290453853942382\n",
      "제거된 변수: 2022/원재료회전율, p-value: 0.2840306496408117\n",
      "제거된 변수: 2021/영업활동현금흐름이자보상비율, p-value: 0.27320460208890907\n",
      "제거된 변수: 2022/총C/F대부채비율, p-value: 0.263771110109274\n",
      "제거된 변수: 2022/종업원수증가율, p-value: 0.2549171649628209\n",
      "제거된 변수: 2022/배당율, p-value: 0.25712758510314604\n"
     ]
    },
    {
     "name": "stderr",
     "output_type": "stream",
     "text": [
      "c:\\Users\\ldb76\\AppData\\Local\\Programs\\Python\\Python311\\Lib\\site-packages\\statsmodels\\base\\model.py:607: ConvergenceWarning: Maximum Likelihood optimization failed to converge. Check mle_retvals\n",
      "  warnings.warn(\"Maximum Likelihood optimization failed to \"\n"
     ]
    },
    {
     "name": "stdout",
     "output_type": "stream",
     "text": [
      "제거된 변수: 2022/수지비율, p-value: 0.24373193130194593\n",
      "제거된 변수: 2022/영업이익증가율, p-value: 0.23345446523176316\n",
      "제거된 변수: 2021/적립금비율, p-value: 0.20445579895184607\n"
     ]
    },
    {
     "name": "stderr",
     "output_type": "stream",
     "text": [
      "c:\\Users\\ldb76\\AppData\\Local\\Programs\\Python\\Python311\\Lib\\site-packages\\statsmodels\\base\\model.py:607: ConvergenceWarning: Maximum Likelihood optimization failed to converge. Check mle_retvals\n",
      "  warnings.warn(\"Maximum Likelihood optimization failed to \"\n"
     ]
    },
    {
     "name": "stdout",
     "output_type": "stream",
     "text": [
      "제거된 변수: 2022/적립금비율, p-value: 0.5205114116847717\n",
      "제거된 변수: 2021/부가가치율, p-value: 0.194313365902262\n",
      "제거된 변수: 2021/조세공과/총비용비율, p-value: 0.28758907822144997\n",
      "제거된 변수: 2020/조세공과(구성비), p-value: 0.3123832213487977\n",
      "제거된 변수: 2021/총자본투자효율, p-value: 0.1943631133112319\n",
      "제거된 변수: 2022/부가가치(종업원1인당), p-value: 0.19436442805780285\n",
      "제거된 변수: 2022/인건비(구성비), p-value: 0.2608264165521964\n",
      "제거된 변수: 2022/부가가치율, p-value: 0.23442065320367733\n",
      "제거된 변수: 2022/사내유보율, p-value: 0.181670439094471\n",
      "제거된 변수: 2021/감가상각율, p-value: 0.1722698674762676\n",
      "제거된 변수: 2022/감가상각율, p-value: 0.1729145696361204\n",
      "제거된 변수: 2022/자기자본비율, p-value: 0.18653777375218528\n",
      "제거된 변수: 2021/자본금순이익율, p-value: 0.16382041437830352\n",
      "제거된 변수: 2022/기업법인세비용차감전순이익율, p-value: 0.15997185979012518\n",
      "제거된 변수: 2022/총자본법인세비용차감전순이익율, p-value: 0.3695158727477754\n",
      "제거된 변수: 2020/배당율, p-value: 0.1503074942522517\n",
      "제거된 변수: 2020/차입금의존도, p-value: 0.1479499839722707\n",
      "제거된 변수: 2021/차입금/자기자본, p-value: 0.14997779247533996\n",
      "제거된 변수: 2021/부채비율, p-value: 0.4352832303059513\n",
      "제거된 변수: 2021/기계장비율(종업원1인당), p-value: 0.14071742676933308\n",
      "제거된 변수: 2020/현금비율, p-value: 0.1417689377451026\n",
      "제거된 변수: 2022/매출액(종업원1인당), p-value: 0.12951508258511657\n",
      "제거된 변수: 2020/매출액증가율, p-value: 0.13780093100272905\n",
      "제거된 변수: 2020/영업이익증가율, p-value: 0.1457988414552911\n",
      "제거된 변수: 2021/매출액총이익율, p-value: 0.1342327404610094\n",
      "제거된 변수: 2022/법인세비용차감전순이익(종업원1인당), p-value: 0.14860382668706615\n",
      "제거된 변수: 2020/유보액/납입자본비율, p-value: 0.13132914799289486\n",
      "제거된 변수: 2021/매출원가율, p-value: 0.1311166833889358\n",
      "제거된 변수: 2022/매입채무회전율, p-value: 0.13509543558536183\n",
      "제거된 변수: 2021/상(제)품회전율, p-value: 0.1319819474177973\n",
      "제거된 변수: 2021/원재료회전율, p-value: 0.11953879633964778\n",
      "제거된 변수: 2020/원재료회전율, p-value: 0.4357297829098049\n",
      "제거된 변수: 2022/대출효율성계수(법인세비용차감전순이익), p-value: 0.1204733893358348\n",
      "제거된 변수: 2021/임차료(구성비), p-value: 0.11554254311409153\n",
      "제거된 변수: 2022/감가상각비/총비용비율, p-value: 0.1138378866467051\n",
      "제거된 변수: 2020/설비투자효율, p-value: 0.107244480841316\n",
      "제거된 변수: 2020/금융비용(구성비), p-value: 0.14900375410200337\n",
      "제거된 변수: 2022/설비투자효율, p-value: 0.11789088776284709\n",
      "제거된 변수: 2022/비유동부채/순운전자본비율, p-value: 0.11080414939050397\n",
      "제거된 변수: 2021/비유동부채/순운전자본비율, p-value: 0.11458657960161343\n",
      "제거된 변수: 2021/순영업자본회전율, p-value: 0.1127307197341791\n",
      "제거된 변수: 2020/영업이익이자보상비율, p-value: 0.10147856637463573\n",
      "제거된 변수: 2020/EBITDA대금융비용, p-value: 0.2815958549378218\n",
      "제거된 변수: 2021/자본금법인세비용차감전순이익율, p-value: 0.10143427580155755\n",
      "제거된 변수: 2020/비유동부채비율, p-value: 0.08840188815945857\n",
      "제거된 변수: 2021/순이익증가율, p-value: 0.06921777364067713\n",
      "제거된 변수: 2021/경영자본영업이익율, p-value: 0.06382301171728885\n",
      "제거된 변수: 2020/기계투자효율, p-value: 0.06140509515827835\n",
      "제거된 변수: 2021/금융비용/매출액비율, p-value: 0.06087402416671475\n",
      "제거된 변수: 2020/매출액영업이익율, p-value: 0.05882477068308379\n",
      "제거된 변수: 2022/EBITDA대매출액, p-value: 0.06912489736937763\n",
      "제거된 변수: 2021/EBITDA대매출액, p-value: 0.07556645487145026\n",
      "제거된 변수: 2021/총자본회전율, p-value: 0.05319915582066382\n",
      "제거된 변수: 2020/총자본회전율, p-value: 0.17566204512620343\n",
      "제거된 변수: 2022/차입금의존도, p-value: 0.05510983901623345\n",
      "\n",
      "선택된 변수들:\n",
      "Index(['2021/총자산증가율', '2022/총자산증가율', '2022/매출액증가율', '2021/영업이익증가율',\n",
      "       '2020/총자본영업이익율', '2021/총자본영업이익율', '2022/총자본영업이익율',\n",
      "       '2020/총자본법인세비용차감전순이익율', '2022/총자본순이익율', '2021/기업법인세비용차감전순이익율',\n",
      "       '2020/기업순이익율', '2021/기업순이익율', '2022/경영자본영업이익율', '2020/자기자본법인세비용차감전순이익율',\n",
      "       '2022/자기자본법인세비용차감전순이익율', '2021/자기자본순이익율', '2022/자본금법인세비용차감전순이익율',\n",
      "       '2022/자본금순이익율', '2021/매출액법인세비용차감전순이익율', '2022/매출액법인세비용차감전순이익율',\n",
      "       '2020/매출액총이익율', '2022/매출액영업이익율', '2020/매출원가율', '2022/매출원가율',\n",
      "       '2021/조세/조세차감전순이익비율', '2022/조세/조세차감전순이익비율', '2020/금융비용/총부채',\n",
      "       '2021/금융비용/총부채', '2022/금융비용/총부채', '2020/차입금평균이자율', '2022/차입금평균이자율',\n",
      "       '2020/금융비용/총비용비율', '2021/금융비용/총비용비율', '2022/금융비용/총비용비율',\n",
      "       '2020/금융비용/매출액비율', '2021/영업이익이자보상비율', '2022/영업이익이자보상비율',\n",
      "       '2022/법인세비용차감전순이익이자보상비율', '2021/법인세차감전순이익이자보상비율', '2022/배당성향',\n",
      "       '2021/상환계수(세전이익)', '2021/부채상환계수', '2021/대출효율성계수(법인세비용차감전순이익)',\n",
      "       '2022/EBIT대매출액(세전이익)', '2021/EBITDA대금융비용', '2022/EBITDA대금융비용',\n",
      "       '2020/자기자본비율', '2021/당좌비율', '2021/현금비율', '2022/현금비율', '2020/비유동자산비율',\n",
      "       '2020/부채비율', '2021/유동부채비율', '2022/유동부채비율', '2021/차입금의존도',\n",
      "       '2022/차입금/자기자본', '2021/차입금/매출액비율', '2022/매입채무/재고자산비율',\n",
      "       '2020/재고자산/순운전자본비율', '2020/비유동부채/순운전자본비율', '2020/순운전자본/총자본비율',\n",
      "       '2021/순운전자본/총자본비율', '2022/순운전자본/총자본비율', '2021/사내유보율', '2020/유보액/총자산비율',\n",
      "       '2021/유보액/총자산비율', '2022/유보액/총자산비율', '2022/유보액/납입자본비율', '2021/총C/F대부채비율',\n",
      "       '2020/총C/F대차입금비율', '2022/총C/F대총자본비율', '2021/총C/F대매출액비율', '2022/총자본회전율',\n",
      "       '2022/자기자본회전율', '2022/경영자본회전율', '2022/비유동자산회전율', '2020/재고자산회전율1',\n",
      "       '2022/재고자산회전율1', '2022/재고자산회전율2', '2020/매출액(종업원1인당)',\n",
      "       '2021/매출액(종업원1인당)', '2020/법인세비용차감전순이익(종업원1인당)',\n",
      "       '2021/법인세비용차감전순이익(종업원1인당)', '2020/순이익(종업원1인당)', '2021/순이익(종업원1인당)',\n",
      "       '2022/순이익(종업원1인당)', '2022/인건비(종업원1인당)', '2021/노동장비율(종업원1인당)',\n",
      "       '2020/기계장비율(종업원1인당)', '2021/자본집약도(종업원1인당)', '2020/법인세차감전순이익(구성비)',\n",
      "       '2021/법인세차감전순이익(구성비)', '2022/법인세차감전순이익(구성비)', '2021/인건비(구성비)',\n",
      "       '2021/금융비용(구성비)', '2022/금융비용(구성비)', '2020/임차료(구성비)'],\n",
      "      dtype='object')\n",
      "\n",
      "최종 모델 요약:\n",
      "                           Logit Regression Results                           \n",
      "==============================================================================\n",
      "Dep. Variable:              2023/부실기업   No. Observations:                27603\n",
      "Model:                          Logit   Df Residuals:                    27506\n",
      "Method:                           MLE   Df Model:                           96\n",
      "Date:                Mon, 11 Nov 2024   Pseudo R-squ.:                  0.5483\n",
      "Time:                        23:05:40   Log-Likelihood:                -5987.2\n",
      "converged:                       True   LL-Null:                       -13254.\n",
      "Covariance Type:            nonrobust   LLR p-value:                     0.000\n",
      "=============================================================================================\n",
      "                                coef    std err          z      P>|z|      [0.025      0.975]\n",
      "---------------------------------------------------------------------------------------------\n",
      "2021/총자산증가율                  -0.0009      0.000     -2.249      0.024      -0.002      -0.000\n",
      "2022/총자산증가율                  -0.0023      0.001     -3.094      0.002      -0.004      -0.001\n",
      "2022/매출액증가율                  -0.0026      0.000     -8.002      0.000      -0.003      -0.002\n",
      "2021/영업이익증가율                 -0.0009      0.000     -4.888      0.000      -0.001      -0.001\n",
      "2020/총자본영업이익율                -0.0337      0.005     -6.934      0.000      -0.043      -0.024\n",
      "2021/총자본영업이익율                -0.1304      0.006    -22.083      0.000      -0.142      -0.119\n",
      "2022/총자본영업이익율                -0.0767      0.009     -8.805      0.000      -0.094      -0.060\n",
      "2020/총자본법인세비용차감전순이익율         -0.0429      0.011     -3.856      0.000      -0.065      -0.021\n",
      "2022/총자본순이익율                  0.0298      0.006      4.600      0.000       0.017       0.043\n",
      "2021/기업법인세비용차감전순이익율          -0.0438      0.019     -2.266      0.023      -0.082      -0.006\n",
      "2020/기업순이익율                   0.0720      0.012      6.062      0.000       0.049       0.095\n",
      "2021/기업순이익율                   0.1050      0.021      5.050      0.000       0.064       0.146\n",
      "2022/경영자본영업이익율               -0.0301      0.005     -6.011      0.000      -0.040      -0.020\n",
      "2020/자기자본법인세비용차감전순이익율        -0.0052      0.001     -5.332      0.000      -0.007      -0.003\n",
      "2022/자기자본법인세비용차감전순이익율        -0.0082      0.001     -7.552      0.000      -0.010      -0.006\n",
      "2021/자기자본순이익율                -0.0095      0.001     -8.615      0.000      -0.012      -0.007\n",
      "2022/자본금법인세비용차감전순이익율          0.0002   7.25e-05      2.489      0.013    3.84e-05       0.000\n",
      "2022/자본금순이익율                 -0.0002   7.86e-05     -2.539      0.011      -0.000   -4.55e-05\n",
      "2021/매출액법인세비용차감전순이익율          0.0020      0.001      3.718      0.000       0.001       0.003\n",
      "2022/매출액법인세비용차감전순이익율          0.0020      0.000      4.172      0.000       0.001       0.003\n",
      "2020/매출액총이익율                 -0.0206      0.006     -3.696      0.000      -0.032      -0.010\n",
      "2022/매출액영업이익율                -0.0022      0.000     -4.957      0.000      -0.003      -0.001\n",
      "2020/매출원가율                   -0.0220      0.006     -3.849      0.000      -0.033      -0.011\n",
      "2022/매출원가율                    0.0064      0.001      4.433      0.000       0.004       0.009\n",
      "2021/조세/조세차감전순이익비율           -0.0044      0.001     -3.739      0.000      -0.007      -0.002\n",
      "2022/조세/조세차감전순이익비율            0.0028      0.001      2.222      0.026       0.000       0.005\n",
      "2020/금융비용/총부채                -0.0984      0.029     -3.413      0.001      -0.155      -0.042\n",
      "2021/금융비용/총부채                 0.1073      0.030      3.617      0.000       0.049       0.165\n",
      "2022/금융비용/총부채                 0.1907      0.029      6.582      0.000       0.134       0.248\n",
      "2020/차입금평균이자율                 0.0717      0.017      4.274      0.000       0.039       0.105\n",
      "2022/차입금평균이자율                -0.0862      0.017     -4.961      0.000      -0.120      -0.052\n",
      "2020/금융비용/총비용비율              -0.0113      0.003     -3.761      0.000      -0.017      -0.005\n",
      "2021/금융비용/총비용비율               0.0176      0.004      4.716      0.000       0.010       0.025\n",
      "2022/금융비용/총비용비율               0.0313      0.003      9.064      0.000       0.025       0.038\n",
      "2020/금융비용/매출액비율               0.0019      0.001      3.021      0.003       0.001       0.003\n",
      "2021/영업이익이자보상비율              -0.0047      0.002     -2.669      0.008      -0.008      -0.001\n",
      "2022/영업이익이자보상비율              -0.0114      0.002     -5.374      0.000      -0.016      -0.007\n",
      "2022/법인세비용차감전순이익이자보상비율       -0.0007      0.000     -2.582      0.010      -0.001      -0.000\n",
      "2021/법인세차감전순이익이자보상비율          0.0008      0.000      2.905      0.004       0.000       0.001\n",
      "2022/배당성향                    -0.0093      0.002     -4.560      0.000      -0.013      -0.005\n",
      "2021/상환계수(세전이익)              -0.0001   6.29e-05     -2.194      0.028      -0.000   -1.47e-05\n",
      "2021/부채상환계수                   0.0002   7.08e-05      2.161      0.031    1.43e-05       0.000\n",
      "2021/대출효율성계수(법인세비용차감전순이익)    -0.0002   5.72e-05     -2.823      0.005      -0.000   -4.93e-05\n",
      "2022/EBIT대매출액(세전이익)          -0.0020      0.001     -2.857      0.004      -0.003      -0.001\n",
      "2021/EBITDA대금융비용          -3.729e-05   1.62e-05     -2.308      0.021    -6.9e-05   -5.63e-06\n",
      "2022/EBITDA대금융비용           2.691e-05   1.17e-05      2.294      0.022    3.92e-06    4.99e-05\n",
      "2020/자기자본비율                   0.0099      0.002      5.246      0.000       0.006       0.014\n",
      "2021/당좌비율                     0.0007      0.000      4.887      0.000       0.000       0.001\n",
      "2021/현금비율                    -0.0013      0.000     -3.271      0.001      -0.002      -0.001\n",
      "2022/현금비율                    -0.0009      0.000     -2.196      0.028      -0.002      -0.000\n",
      "2020/비유동자산비율                 -0.0002   6.38e-05     -3.746      0.000      -0.000      -0.000\n",
      "2020/부채비율                     0.0001   3.71e-05      3.625      0.000    6.17e-05       0.000\n",
      "2021/유동부채비율                  -0.0002   5.22e-05     -3.189      0.001      -0.000   -6.41e-05\n",
      "2022/유동부채비율                  -0.0004   7.72e-05     -4.686      0.000      -0.001      -0.000\n",
      "2021/차입금의존도                  -0.0053      0.002     -3.253      0.001      -0.008      -0.002\n",
      "2022/차입금/자기자본                 0.0002   5.43e-05      3.427      0.001    7.97e-05       0.000\n",
      "2021/차입금/매출액비율                0.0002   2.96e-05      6.669      0.000       0.000       0.000\n",
      "2022/매입채무/재고자산비율          -6.598e-05   3.27e-05     -2.018      0.044      -0.000    -1.9e-06\n",
      "2020/재고자산/순운전자본비율            -0.0004      0.000     -3.130      0.002      -0.001      -0.000\n",
      "2020/비유동부채/순운전자본비율         7.582e-05   2.54e-05      2.986      0.003    2.61e-05       0.000\n",
      "2020/순운전자본/총자본비율             -0.0031      0.001     -2.640      0.008      -0.005      -0.001\n",
      "2021/순운전자본/총자본비율             -0.0034      0.001     -2.389      0.017      -0.006      -0.001\n",
      "2022/순운전자본/총자본비율             -0.0045      0.001     -3.615      0.000      -0.007      -0.002\n",
      "2021/사내유보율                    0.0117      0.005      2.336      0.019       0.002       0.021\n",
      "2020/유보액/총자산비율               -0.0059      0.002     -2.845      0.004      -0.010      -0.002\n",
      "2021/유보액/총자산비율               -0.0115      0.003     -4.270      0.000      -0.017      -0.006\n",
      "2022/유보액/총자산비율                0.0085      0.002      4.262      0.000       0.005       0.012\n",
      "2022/유보액/납입자본비율            9.252e-06   3.76e-06      2.463      0.014    1.89e-06    1.66e-05\n",
      "2021/총C/F대부채비율               -0.0107      0.002     -5.516      0.000      -0.015      -0.007\n",
      "2020/총C/F대차입금비율              -0.0002      0.000     -2.274      0.023      -0.000   -3.42e-05\n",
      "2022/총C/F대총자본비율              -0.0221      0.005     -4.183      0.000      -0.032      -0.012\n",
      "2021/총C/F대매출액비율              -0.0013      0.001     -2.438      0.015      -0.002      -0.000\n",
      "2022/총자본회전율                  -0.8142      0.081    -10.081      0.000      -0.972      -0.656\n",
      "2022/자기자본회전율                  0.0297      0.007      4.107      0.000       0.016       0.044\n",
      "2022/경영자본회전율                  0.1829      0.055      3.314      0.001       0.075       0.291\n",
      "2022/비유동자산회전율                -0.0036      0.001     -2.630      0.009      -0.006      -0.001\n",
      "2020/재고자산회전율1                 0.0003      0.000      2.344      0.019    4.51e-05       0.001\n",
      "2022/재고자산회전율1                -0.0005      0.000     -2.580      0.010      -0.001      -0.000\n",
      "2022/재고자산회전율2                 0.0009      0.000      2.707      0.007       0.000       0.002\n",
      "2020/매출액(종업원1인당)           9.304e-11   2.62e-11      3.546      0.000    4.16e-11    1.44e-10\n",
      "2021/매출액(종업원1인당)          -1.532e-10   2.55e-11     -6.002      0.000   -2.03e-10   -1.03e-10\n",
      "2020/법인세비용차감전순이익(종업원1인당)   1.091e-09   5.54e-10      1.971      0.049    6.14e-12    2.18e-09\n",
      "2021/법인세비용차감전순이익(종업원1인당)   8.992e-10   4.03e-10      2.230      0.026    1.09e-10    1.69e-09\n",
      "2020/순이익(종업원1인당)          -1.441e-09   6.05e-10     -2.382      0.017   -2.63e-09   -2.55e-10\n",
      "2021/순이익(종업원1인당)          -1.284e-09   4.36e-10     -2.947      0.003   -2.14e-09    -4.3e-10\n",
      "2022/순이익(종업원1인당)          -3.696e-10   6.55e-11     -5.645      0.000   -4.98e-10   -2.41e-10\n",
      "2022/인건비(종업원1인당)          -5.787e-09   1.56e-09     -3.708      0.000   -8.85e-09   -2.73e-09\n",
      "2021/노동장비율(종업원1인당)        -1.984e-11   8.64e-12     -2.296      0.022   -3.68e-11    -2.9e-12\n",
      "2020/기계장비율(종업원1인당)        -1.076e-09   4.58e-10     -2.351      0.019   -1.97e-09   -1.79e-10\n",
      "2021/자본집약도(종업원1인당)         1.074e-11    3.9e-12      2.754      0.006     3.1e-12    1.84e-11\n",
      "2020/법인세차감전순이익(구성비)          -0.0010      0.000     -2.059      0.039      -0.002   -4.64e-05\n",
      "2021/법인세차감전순이익(구성비)          -0.0062      0.002     -3.769      0.000      -0.009      -0.003\n",
      "2022/법인세차감전순이익(구성비)          -0.0036      0.001     -4.487      0.000      -0.005      -0.002\n",
      "2021/인건비(구성비)                -0.0059      0.002     -2.602      0.009      -0.010      -0.001\n",
      "2021/금융비용(구성비)               -0.0131      0.005     -2.723      0.006      -0.023      -0.004\n",
      "2022/금융비용(구성비)               -0.0109      0.004     -2.471      0.013      -0.020      -0.002\n",
      "2020/임차료(구성비)                -0.0326      0.007     -4.677      0.000      -0.046      -0.019\n",
      "=============================================================================================\n",
      "\n",
      "Possibly complete quasi-separation: A fraction 0.10 of observations can be\n",
      "perfectly predicted. This might indicate that there is complete\n",
      "quasi-separation. In this case some parameters will not be identified.\n"
     ]
    }
   ],
   "source": [
    "# 후진 제거법 수행\n",
    "final_model, selected_features = backward_elimination(X, y)\n",
    "\n",
    "# 최종 결과 출력\n",
    "print(\"\\n선택된 변수들:\")\n",
    "print(selected_features)\n",
    "\n",
    "# 최종 모델 요약\n",
    "print(\"\\n최종 모델 요약:\")\n",
    "print(final_model.summary())"
   ]
  },
  {
   "cell_type": "code",
   "execution_count": 153,
   "metadata": {},
   "outputs": [
    {
     "data": {
      "text/plain": [
       "Index(['2021/총자산증가율', '2022/총자산증가율', '2022/매출액증가율', '2021/영업이익증가율',\n",
       "       '2020/총자본영업이익율', '2021/총자본영업이익율', '2022/총자본영업이익율',\n",
       "       '2020/총자본법인세비용차감전순이익율', '2022/총자본순이익율', '2021/기업법인세비용차감전순이익율',\n",
       "       '2020/기업순이익율', '2021/기업순이익율', '2022/경영자본영업이익율', '2020/자기자본법인세비용차감전순이익율',\n",
       "       '2022/자기자본법인세비용차감전순이익율', '2021/자기자본순이익율', '2022/자본금법인세비용차감전순이익율',\n",
       "       '2022/자본금순이익율', '2021/매출액법인세비용차감전순이익율', '2022/매출액법인세비용차감전순이익율',\n",
       "       '2020/매출액총이익율', '2022/매출액영업이익율', '2020/매출원가율', '2022/매출원가율',\n",
       "       '2021/조세/조세차감전순이익비율', '2022/조세/조세차감전순이익비율', '2020/금융비용/총부채',\n",
       "       '2021/금융비용/총부채', '2022/금융비용/총부채', '2020/차입금평균이자율', '2022/차입금평균이자율',\n",
       "       '2020/금융비용/총비용비율', '2021/금융비용/총비용비율', '2022/금융비용/총비용비율',\n",
       "       '2020/금융비용/매출액비율', '2021/영업이익이자보상비율', '2022/영업이익이자보상비율',\n",
       "       '2022/법인세비용차감전순이익이자보상비율', '2021/법인세차감전순이익이자보상비율', '2022/배당성향',\n",
       "       '2021/상환계수(세전이익)', '2021/부채상환계수', '2021/대출효율성계수(법인세비용차감전순이익)',\n",
       "       '2022/EBIT대매출액(세전이익)', '2021/EBITDA대금융비용', '2022/EBITDA대금융비용',\n",
       "       '2020/자기자본비율', '2021/당좌비율', '2021/현금비율', '2022/현금비율', '2020/비유동자산비율',\n",
       "       '2020/부채비율', '2021/유동부채비율', '2022/유동부채비율', '2021/차입금의존도',\n",
       "       '2022/차입금/자기자본', '2021/차입금/매출액비율', '2022/매입채무/재고자산비율',\n",
       "       '2020/재고자산/순운전자본비율', '2020/비유동부채/순운전자본비율', '2020/순운전자본/총자본비율',\n",
       "       '2021/순운전자본/총자본비율', '2022/순운전자본/총자본비율', '2021/사내유보율', '2020/유보액/총자산비율',\n",
       "       '2021/유보액/총자산비율', '2022/유보액/총자산비율', '2022/유보액/납입자본비율', '2021/총C/F대부채비율',\n",
       "       '2020/총C/F대차입금비율', '2022/총C/F대총자본비율', '2021/총C/F대매출액비율', '2022/총자본회전율',\n",
       "       '2022/자기자본회전율', '2022/경영자본회전율', '2022/비유동자산회전율', '2020/재고자산회전율1',\n",
       "       '2022/재고자산회전율1', '2022/재고자산회전율2', '2020/매출액(종업원1인당)',\n",
       "       '2021/매출액(종업원1인당)', '2020/법인세비용차감전순이익(종업원1인당)',\n",
       "       '2021/법인세비용차감전순이익(종업원1인당)', '2020/순이익(종업원1인당)', '2021/순이익(종업원1인당)',\n",
       "       '2022/순이익(종업원1인당)', '2022/인건비(종업원1인당)', '2021/노동장비율(종업원1인당)',\n",
       "       '2020/기계장비율(종업원1인당)', '2021/자본집약도(종업원1인당)', '2020/법인세차감전순이익(구성비)',\n",
       "       '2021/법인세차감전순이익(구성비)', '2022/법인세차감전순이익(구성비)', '2021/인건비(구성비)',\n",
       "       '2021/금융비용(구성비)', '2022/금융비용(구성비)', '2020/임차료(구성비)'],\n",
       "      dtype='object')"
      ]
     },
     "execution_count": 153,
     "metadata": {},
     "output_type": "execute_result"
    }
   ],
   "source": [
    "selected_features"
   ]
  },
  {
   "cell_type": "code",
   "execution_count": 154,
   "metadata": {},
   "outputs": [
    {
     "name": "stdout",
     "output_type": "stream",
     "text": [
      "\n",
      "2020년도 변수들:\n",
      "['2020/총자본영업이익율', '2020/총자본법인세비용차감전순이익율', '2020/기업순이익율', '2020/자기자본법인세비용차감전순이익율', '2020/매출액총이익율', '2020/매출원가율', '2020/금융비용/총부채', '2020/차입금평균이자율', '2020/금융비용/총비용비율', '2020/금융비용/매출액비율', '2020/자기자본비율', '2020/비유동자산비율', '2020/부채비율', '2020/재고자산/순운전자본비율', '2020/비유동부채/순운전자본비율', '2020/순운전자본/총자본비율', '2020/유보액/총자산비율', '2020/총C/F대차입금비율', '2020/재고자산회전율1', '2020/매출액(종업원1인당)', '2020/법인세비용차감전순이익(종업원1인당)', '2020/순이익(종업원1인당)', '2020/기계장비율(종업원1인당)', '2020/법인세차감전순이익(구성비)', '2020/임차료(구성비)']\n",
      "2021년도 변수들:\n",
      "['2021/총자산증가율', '2021/영업이익증가율', '2021/총자본영업이익율', '2021/기업법인세비용차감전순이익율', '2021/기업순이익율', '2021/자기자본순이익율', '2021/매출액법인세비용차감전순이익율', '2021/조세/조세차감전순이익비율', '2021/금융비용/총부채', '2021/금융비용/총비용비율', '2021/영업이익이자보상비율', '2021/법인세차감전순이익이자보상비율', '2021/상환계수(세전이익)', '2021/부채상환계수', '2021/대출효율성계수(법인세비용차감전순이익)', '2021/EBITDA대금융비용', '2021/당좌비율', '2021/현금비율', '2021/유동부채비율', '2021/차입금의존도', '2021/차입금/매출액비율', '2021/순운전자본/총자본비율', '2021/사내유보율', '2021/유보액/총자산비율', '2021/총C/F대부채비율', '2021/총C/F대매출액비율', '2021/매출액(종업원1인당)', '2021/법인세비용차감전순이익(종업원1인당)', '2021/순이익(종업원1인당)', '2021/노동장비율(종업원1인당)', '2021/자본집약도(종업원1인당)', '2021/법인세차감전순이익(구성비)', '2021/인건비(구성비)', '2021/금융비용(구성비)']\n",
      "\n",
      "2022년도 변수들:\n",
      "['2022/총자산증가율', '2022/매출액증가율', '2022/총자본영업이익율', '2022/총자본순이익율', '2022/경영자본영업이익율', '2022/자기자본법인세비용차감전순이익율', '2022/자본금법인세비용차감전순이익율', '2022/자본금순이익율', '2022/매출액법인세비용차감전순이익율', '2022/매출액영업이익율', '2022/매출원가율', '2022/조세/조세차감전순이익비율', '2022/금융비용/총부채', '2022/차입금평균이자율', '2022/금융비용/총비용비율', '2022/영업이익이자보상비율', '2022/법인세비용차감전순이익이자보상비율', '2022/배당성향', '2022/EBIT대매출액(세전이익)', '2022/EBITDA대금융비용', '2022/현금비율', '2022/유동부채비율', '2022/차입금/자기자본', '2022/매입채무/재고자산비율', '2022/순운전자본/총자본비율', '2022/유보액/총자산비율', '2022/유보액/납입자본비율', '2022/총C/F대총자본비율', '2022/총자본회전율', '2022/자기자본회전율', '2022/경영자본회전율', '2022/비유동자산회전율', '2022/재고자산회전율1', '2022/재고자산회전율2', '2022/순이익(종업원1인당)', '2022/인건비(종업원1인당)', '2022/법인세차감전순이익(구성비)', '2022/금융비용(구성비)']\n",
      "\n",
      "연도별 변수 요약:\n",
      "                        2020                       2021  \\\n",
      "0              2020/총자본영업이익율                2021/총자산증가율   \n",
      "1       2020/총자본법인세비용차감전순이익율               2021/영업이익증가율   \n",
      "2                2020/기업순이익율              2021/총자본영업이익율   \n",
      "3      2020/자기자본법인세비용차감전순이익율        2021/기업법인세비용차감전순이익율   \n",
      "4               2020/매출액총이익율                2021/기업순이익율   \n",
      "5                 2020/매출원가율              2021/자기자본순이익율   \n",
      "6              2020/금융비용/총부채       2021/매출액법인세비용차감전순이익율   \n",
      "7              2020/차입금평균이자율         2021/조세/조세차감전순이익비율   \n",
      "8            2020/금융비용/총비용비율              2021/금융비용/총부채   \n",
      "9            2020/금융비용/매출액비율            2021/금융비용/총비용비율   \n",
      "10               2020/자기자본비율            2021/영업이익이자보상비율   \n",
      "11              2020/비유동자산비율       2021/법인세차감전순이익이자보상비율   \n",
      "12                 2020/부채비율            2021/상환계수(세전이익)   \n",
      "13         2020/재고자산/순운전자본비율                2021/부채상환계수   \n",
      "14        2020/비유동부채/순운전자본비율  2021/대출효율성계수(법인세비용차감전순이익)   \n",
      "15          2020/순운전자본/총자본비율           2021/EBITDA대금융비용   \n",
      "16            2020/유보액/총자산비율                  2021/당좌비율   \n",
      "17           2020/총C/F대차입금비율                  2021/현금비율   \n",
      "18             2020/재고자산회전율1                2021/유동부채비율   \n",
      "19          2020/매출액(종업원1인당)                2021/차입금의존도   \n",
      "20  2020/법인세비용차감전순이익(종업원1인당)             2021/차입금/매출액비율   \n",
      "21          2020/순이익(종업원1인당)           2021/순운전자본/총자본비율   \n",
      "22        2020/기계장비율(종업원1인당)                 2021/사내유보율   \n",
      "23       2020/법인세차감전순이익(구성비)             2021/유보액/총자산비율   \n",
      "24             2020/임차료(구성비)             2021/총C/F대부채비율   \n",
      "25                       NaN            2021/총C/F대매출액비율   \n",
      "26                       NaN           2021/매출액(종업원1인당)   \n",
      "27                       NaN   2021/법인세비용차감전순이익(종업원1인당)   \n",
      "28                       NaN           2021/순이익(종업원1인당)   \n",
      "29                       NaN         2021/노동장비율(종업원1인당)   \n",
      "30                       NaN         2021/자본집약도(종업원1인당)   \n",
      "31                       NaN        2021/법인세차감전순이익(구성비)   \n",
      "32                       NaN              2021/인건비(구성비)   \n",
      "33                       NaN             2021/금융비용(구성비)   \n",
      "34                       NaN                        NaN   \n",
      "35                       NaN                        NaN   \n",
      "36                       NaN                        NaN   \n",
      "37                       NaN                        NaN   \n",
      "\n",
      "                      2022  \n",
      "0              2022/총자산증가율  \n",
      "1              2022/매출액증가율  \n",
      "2            2022/총자본영업이익율  \n",
      "3             2022/총자본순이익율  \n",
      "4           2022/경영자본영업이익율  \n",
      "5    2022/자기자본법인세비용차감전순이익율  \n",
      "6     2022/자본금법인세비용차감전순이익율  \n",
      "7             2022/자본금순이익율  \n",
      "8     2022/매출액법인세비용차감전순이익율  \n",
      "9            2022/매출액영업이익율  \n",
      "10              2022/매출원가율  \n",
      "11      2022/조세/조세차감전순이익비율  \n",
      "12           2022/금융비용/총부채  \n",
      "13           2022/차입금평균이자율  \n",
      "14         2022/금융비용/총비용비율  \n",
      "15         2022/영업이익이자보상비율  \n",
      "16  2022/법인세비용차감전순이익이자보상비율  \n",
      "17               2022/배당성향  \n",
      "18     2022/EBIT대매출액(세전이익)  \n",
      "19        2022/EBITDA대금융비용  \n",
      "20               2022/현금비율  \n",
      "21             2022/유동부채비율  \n",
      "22           2022/차입금/자기자본  \n",
      "23        2022/매입채무/재고자산비율  \n",
      "24        2022/순운전자본/총자본비율  \n",
      "25          2022/유보액/총자산비율  \n",
      "26         2022/유보액/납입자본비율  \n",
      "27         2022/총C/F대총자본비율  \n",
      "28             2022/총자본회전율  \n",
      "29            2022/자기자본회전율  \n",
      "30            2022/경영자본회전율  \n",
      "31           2022/비유동자산회전율  \n",
      "32           2022/재고자산회전율1  \n",
      "33           2022/재고자산회전율2  \n",
      "34        2022/순이익(종업원1인당)  \n",
      "35        2022/인건비(종업원1인당)  \n",
      "36     2022/법인세차감전순이익(구성비)  \n",
      "37          2022/금융비용(구성비)  \n"
     ]
    }
   ],
   "source": [
    "# 각 연도별 변수 선택\n",
    "vars_2020 = [col for col in selected_features if col.startswith('2020/')]\n",
    "vars_2021 = [col for col in selected_features if col.startswith('2021/')]\n",
    "vars_2022 = [col for col in selected_features if col.startswith('2022/')]\n",
    "\n",
    "# 연도별 변수 출력\n",
    "print(\"\\n2020년도 변수들:\")\n",
    "print(vars_2020)\n",
    "\n",
    "print(\"2021년도 변수들:\")\n",
    "print(vars_2021)\n",
    "\n",
    "print(\"\\n2022년도 변수들:\")\n",
    "print(vars_2022)\n",
    "\n",
    "# 연도별 변수들을 사전으로 정리\n",
    "yearly_variables = {\n",
    "    '2020': vars_2020,\n",
    "    '2021': vars_2021,\n",
    "    '2022': vars_2022\n",
    "}\n",
    "\n",
    "# 데이터프레임으로 정리해서 보기 (선택 사항)\n",
    "import pandas as pd\n",
    "yearly_variables_df = pd.DataFrame(dict([(year, pd.Series(vars)) for year, vars in yearly_variables.items()]))\n",
    "print(\"\\n연도별 변수 요약:\")\n",
    "print(yearly_variables_df)\n"
   ]
  },
  {
   "cell_type": "code",
   "execution_count": 155,
   "metadata": {},
   "outputs": [
    {
     "data": {
      "text/html": [
       "<div>\n",
       "<style scoped>\n",
       "    .dataframe tbody tr th:only-of-type {\n",
       "        vertical-align: middle;\n",
       "    }\n",
       "\n",
       "    .dataframe tbody tr th {\n",
       "        vertical-align: top;\n",
       "    }\n",
       "\n",
       "    .dataframe thead th {\n",
       "        text-align: right;\n",
       "    }\n",
       "</style>\n",
       "<table border=\"1\" class=\"dataframe\">\n",
       "  <thead>\n",
       "    <tr style=\"text-align: right;\">\n",
       "      <th></th>\n",
       "      <th>2021/총자산증가율</th>\n",
       "      <th>2022/총자산증가율</th>\n",
       "      <th>2022/매출액증가율</th>\n",
       "      <th>2021/영업이익증가율</th>\n",
       "      <th>2020/총자본영업이익율</th>\n",
       "      <th>2021/총자본영업이익율</th>\n",
       "      <th>2022/총자본영업이익율</th>\n",
       "      <th>2020/총자본법인세비용차감전순이익율</th>\n",
       "      <th>2022/총자본순이익율</th>\n",
       "      <th>2021/기업법인세비용차감전순이익율</th>\n",
       "      <th>...</th>\n",
       "      <th>2021/노동장비율(종업원1인당)</th>\n",
       "      <th>2020/기계장비율(종업원1인당)</th>\n",
       "      <th>2021/자본집약도(종업원1인당)</th>\n",
       "      <th>2020/법인세차감전순이익(구성비)</th>\n",
       "      <th>2021/법인세차감전순이익(구성비)</th>\n",
       "      <th>2022/법인세차감전순이익(구성비)</th>\n",
       "      <th>2021/인건비(구성비)</th>\n",
       "      <th>2021/금융비용(구성비)</th>\n",
       "      <th>2022/금융비용(구성비)</th>\n",
       "      <th>2020/임차료(구성비)</th>\n",
       "    </tr>\n",
       "  </thead>\n",
       "  <tbody>\n",
       "    <tr>\n",
       "      <th>0</th>\n",
       "      <td>2.70</td>\n",
       "      <td>3.27</td>\n",
       "      <td>16.06</td>\n",
       "      <td>-16.09</td>\n",
       "      <td>5.71</td>\n",
       "      <td>4.56</td>\n",
       "      <td>6.28</td>\n",
       "      <td>8.54</td>\n",
       "      <td>4.30</td>\n",
       "      <td>5.28</td>\n",
       "      <td>...</td>\n",
       "      <td>1.583593e+08</td>\n",
       "      <td>11511260.0</td>\n",
       "      <td>5.627382e+08</td>\n",
       "      <td>15.74</td>\n",
       "      <td>17.87</td>\n",
       "      <td>15.335</td>\n",
       "      <td>57.855</td>\n",
       "      <td>3.18</td>\n",
       "      <td>4.50</td>\n",
       "      <td>1.39</td>\n",
       "    </tr>\n",
       "    <tr>\n",
       "      <th>1</th>\n",
       "      <td>1.45</td>\n",
       "      <td>-0.52</td>\n",
       "      <td>-15.04</td>\n",
       "      <td>16.26</td>\n",
       "      <td>-1.38</td>\n",
       "      <td>-1.02</td>\n",
       "      <td>-4.95</td>\n",
       "      <td>-9.88</td>\n",
       "      <td>-5.47</td>\n",
       "      <td>-2.73</td>\n",
       "      <td>...</td>\n",
       "      <td>1.295734e+09</td>\n",
       "      <td>1587450.0</td>\n",
       "      <td>1.767904e+09</td>\n",
       "      <td>15.74</td>\n",
       "      <td>17.87</td>\n",
       "      <td>15.335</td>\n",
       "      <td>57.855</td>\n",
       "      <td>3.18</td>\n",
       "      <td>4.50</td>\n",
       "      <td>1.39</td>\n",
       "    </tr>\n",
       "    <tr>\n",
       "      <th>2</th>\n",
       "      <td>0.15</td>\n",
       "      <td>-6.09</td>\n",
       "      <td>-0.71</td>\n",
       "      <td>13.04</td>\n",
       "      <td>2.02</td>\n",
       "      <td>2.36</td>\n",
       "      <td>3.13</td>\n",
       "      <td>2.03</td>\n",
       "      <td>-0.22</td>\n",
       "      <td>2.91</td>\n",
       "      <td>...</td>\n",
       "      <td>1.824437e+08</td>\n",
       "      <td>2481440.0</td>\n",
       "      <td>6.096943e+09</td>\n",
       "      <td>15.74</td>\n",
       "      <td>17.87</td>\n",
       "      <td>15.335</td>\n",
       "      <td>57.855</td>\n",
       "      <td>3.18</td>\n",
       "      <td>4.50</td>\n",
       "      <td>1.39</td>\n",
       "    </tr>\n",
       "    <tr>\n",
       "      <th>3</th>\n",
       "      <td>22.28</td>\n",
       "      <td>-0.76</td>\n",
       "      <td>-40.09</td>\n",
       "      <td>218.01</td>\n",
       "      <td>4.60</td>\n",
       "      <td>12.76</td>\n",
       "      <td>3.32</td>\n",
       "      <td>4.69</td>\n",
       "      <td>3.80</td>\n",
       "      <td>13.12</td>\n",
       "      <td>...</td>\n",
       "      <td>1.521873e+08</td>\n",
       "      <td>966670.0</td>\n",
       "      <td>3.949607e+09</td>\n",
       "      <td>15.74</td>\n",
       "      <td>17.87</td>\n",
       "      <td>15.335</td>\n",
       "      <td>57.855</td>\n",
       "      <td>3.18</td>\n",
       "      <td>4.50</td>\n",
       "      <td>1.39</td>\n",
       "    </tr>\n",
       "    <tr>\n",
       "      <th>4</th>\n",
       "      <td>10.65</td>\n",
       "      <td>-9.43</td>\n",
       "      <td>12.40</td>\n",
       "      <td>-16.74</td>\n",
       "      <td>5.80</td>\n",
       "      <td>4.61</td>\n",
       "      <td>5.06</td>\n",
       "      <td>2.69</td>\n",
       "      <td>2.04</td>\n",
       "      <td>4.19</td>\n",
       "      <td>...</td>\n",
       "      <td>5.633133e+08</td>\n",
       "      <td>185085960.0</td>\n",
       "      <td>1.039853e+09</td>\n",
       "      <td>15.74</td>\n",
       "      <td>17.87</td>\n",
       "      <td>15.335</td>\n",
       "      <td>57.855</td>\n",
       "      <td>3.18</td>\n",
       "      <td>4.50</td>\n",
       "      <td>1.39</td>\n",
       "    </tr>\n",
       "    <tr>\n",
       "      <th>...</th>\n",
       "      <td>...</td>\n",
       "      <td>...</td>\n",
       "      <td>...</td>\n",
       "      <td>...</td>\n",
       "      <td>...</td>\n",
       "      <td>...</td>\n",
       "      <td>...</td>\n",
       "      <td>...</td>\n",
       "      <td>...</td>\n",
       "      <td>...</td>\n",
       "      <td>...</td>\n",
       "      <td>...</td>\n",
       "      <td>...</td>\n",
       "      <td>...</td>\n",
       "      <td>...</td>\n",
       "      <td>...</td>\n",
       "      <td>...</td>\n",
       "      <td>...</td>\n",
       "      <td>...</td>\n",
       "      <td>...</td>\n",
       "      <td>...</td>\n",
       "    </tr>\n",
       "    <tr>\n",
       "      <th>38634</th>\n",
       "      <td>40.32</td>\n",
       "      <td>-1.22</td>\n",
       "      <td>-1.06</td>\n",
       "      <td>16.26</td>\n",
       "      <td>0.72</td>\n",
       "      <td>-3.74</td>\n",
       "      <td>-0.72</td>\n",
       "      <td>-0.83</td>\n",
       "      <td>0.46</td>\n",
       "      <td>0.54</td>\n",
       "      <td>...</td>\n",
       "      <td>1.307736e+08</td>\n",
       "      <td>1351965.0</td>\n",
       "      <td>1.940924e+08</td>\n",
       "      <td>-2.87</td>\n",
       "      <td>-4.35</td>\n",
       "      <td>1.380</td>\n",
       "      <td>80.760</td>\n",
       "      <td>4.46</td>\n",
       "      <td>5.36</td>\n",
       "      <td>3.63</td>\n",
       "    </tr>\n",
       "    <tr>\n",
       "      <th>38635</th>\n",
       "      <td>26.04</td>\n",
       "      <td>-9.67</td>\n",
       "      <td>47.62</td>\n",
       "      <td>16.26</td>\n",
       "      <td>-7.95</td>\n",
       "      <td>28.21</td>\n",
       "      <td>34.50</td>\n",
       "      <td>-7.24</td>\n",
       "      <td>24.94</td>\n",
       "      <td>27.90</td>\n",
       "      <td>...</td>\n",
       "      <td>1.832951e+08</td>\n",
       "      <td>9879860.0</td>\n",
       "      <td>3.398192e+08</td>\n",
       "      <td>-22.33</td>\n",
       "      <td>49.30</td>\n",
       "      <td>54.060</td>\n",
       "      <td>42.190</td>\n",
       "      <td>1.12</td>\n",
       "      <td>0.93</td>\n",
       "      <td>6.19</td>\n",
       "    </tr>\n",
       "    <tr>\n",
       "      <th>38636</th>\n",
       "      <td>40.62</td>\n",
       "      <td>-4.03</td>\n",
       "      <td>23.12</td>\n",
       "      <td>248.73</td>\n",
       "      <td>7.54</td>\n",
       "      <td>21.53</td>\n",
       "      <td>22.33</td>\n",
       "      <td>5.81</td>\n",
       "      <td>17.58</td>\n",
       "      <td>24.39</td>\n",
       "      <td>...</td>\n",
       "      <td>2.764287e+08</td>\n",
       "      <td>101124970.0</td>\n",
       "      <td>6.505325e+08</td>\n",
       "      <td>15.74</td>\n",
       "      <td>66.38</td>\n",
       "      <td>62.360</td>\n",
       "      <td>24.090</td>\n",
       "      <td>1.32</td>\n",
       "      <td>0.84</td>\n",
       "      <td>1.39</td>\n",
       "    </tr>\n",
       "    <tr>\n",
       "      <th>38637</th>\n",
       "      <td>3.24</td>\n",
       "      <td>105.26</td>\n",
       "      <td>14.67</td>\n",
       "      <td>-17.34</td>\n",
       "      <td>14.22</td>\n",
       "      <td>10.25</td>\n",
       "      <td>2.51</td>\n",
       "      <td>14.04</td>\n",
       "      <td>1.35</td>\n",
       "      <td>10.85</td>\n",
       "      <td>...</td>\n",
       "      <td>5.900730e+06</td>\n",
       "      <td>3253050.0</td>\n",
       "      <td>8.361525e+07</td>\n",
       "      <td>21.17</td>\n",
       "      <td>15.09</td>\n",
       "      <td>3.560</td>\n",
       "      <td>76.790</td>\n",
       "      <td>1.00</td>\n",
       "      <td>2.02</td>\n",
       "      <td>3.47</td>\n",
       "    </tr>\n",
       "    <tr>\n",
       "      <th>38638</th>\n",
       "      <td>-1.72</td>\n",
       "      <td>32.95</td>\n",
       "      <td>19.10</td>\n",
       "      <td>21.54</td>\n",
       "      <td>2.77</td>\n",
       "      <td>3.11</td>\n",
       "      <td>4.84</td>\n",
       "      <td>3.25</td>\n",
       "      <td>3.39</td>\n",
       "      <td>3.95</td>\n",
       "      <td>...</td>\n",
       "      <td>1.722929e+08</td>\n",
       "      <td>1351965.0</td>\n",
       "      <td>6.967182e+08</td>\n",
       "      <td>18.36</td>\n",
       "      <td>11.84</td>\n",
       "      <td>15.670</td>\n",
       "      <td>59.080</td>\n",
       "      <td>9.75</td>\n",
       "      <td>9.17</td>\n",
       "      <td>0.47</td>\n",
       "    </tr>\n",
       "  </tbody>\n",
       "</table>\n",
       "<p>27603 rows × 97 columns</p>\n",
       "</div>"
      ],
      "text/plain": [
       "       2021/총자산증가율  2022/총자산증가율  2022/매출액증가율  2021/영업이익증가율  2020/총자본영업이익율  \\\n",
       "0             2.70         3.27        16.06        -16.09           5.71   \n",
       "1             1.45        -0.52       -15.04         16.26          -1.38   \n",
       "2             0.15        -6.09        -0.71         13.04           2.02   \n",
       "3            22.28        -0.76       -40.09        218.01           4.60   \n",
       "4            10.65        -9.43        12.40        -16.74           5.80   \n",
       "...            ...          ...          ...           ...            ...   \n",
       "38634        40.32        -1.22        -1.06         16.26           0.72   \n",
       "38635        26.04        -9.67        47.62         16.26          -7.95   \n",
       "38636        40.62        -4.03        23.12        248.73           7.54   \n",
       "38637         3.24       105.26        14.67        -17.34          14.22   \n",
       "38638        -1.72        32.95        19.10         21.54           2.77   \n",
       "\n",
       "       2021/총자본영업이익율  2022/총자본영업이익율  2020/총자본법인세비용차감전순이익율  2022/총자본순이익율  \\\n",
       "0               4.56           6.28                  8.54          4.30   \n",
       "1              -1.02          -4.95                 -9.88         -5.47   \n",
       "2               2.36           3.13                  2.03         -0.22   \n",
       "3              12.76           3.32                  4.69          3.80   \n",
       "4               4.61           5.06                  2.69          2.04   \n",
       "...              ...            ...                   ...           ...   \n",
       "38634          -3.74          -0.72                 -0.83          0.46   \n",
       "38635          28.21          34.50                 -7.24         24.94   \n",
       "38636          21.53          22.33                  5.81         17.58   \n",
       "38637          10.25           2.51                 14.04          1.35   \n",
       "38638           3.11           4.84                  3.25          3.39   \n",
       "\n",
       "       2021/기업법인세비용차감전순이익율  ...  2021/노동장비율(종업원1인당)  2020/기계장비율(종업원1인당)  \\\n",
       "0                     5.28  ...        1.583593e+08          11511260.0   \n",
       "1                    -2.73  ...        1.295734e+09           1587450.0   \n",
       "2                     2.91  ...        1.824437e+08           2481440.0   \n",
       "3                    13.12  ...        1.521873e+08            966670.0   \n",
       "4                     4.19  ...        5.633133e+08         185085960.0   \n",
       "...                    ...  ...                 ...                 ...   \n",
       "38634                 0.54  ...        1.307736e+08           1351965.0   \n",
       "38635                27.90  ...        1.832951e+08           9879860.0   \n",
       "38636                24.39  ...        2.764287e+08         101124970.0   \n",
       "38637                10.85  ...        5.900730e+06           3253050.0   \n",
       "38638                 3.95  ...        1.722929e+08           1351965.0   \n",
       "\n",
       "       2021/자본집약도(종업원1인당)  2020/법인세차감전순이익(구성비)  2021/법인세차감전순이익(구성비)  \\\n",
       "0            5.627382e+08                15.74                17.87   \n",
       "1            1.767904e+09                15.74                17.87   \n",
       "2            6.096943e+09                15.74                17.87   \n",
       "3            3.949607e+09                15.74                17.87   \n",
       "4            1.039853e+09                15.74                17.87   \n",
       "...                   ...                  ...                  ...   \n",
       "38634        1.940924e+08                -2.87                -4.35   \n",
       "38635        3.398192e+08               -22.33                49.30   \n",
       "38636        6.505325e+08                15.74                66.38   \n",
       "38637        8.361525e+07                21.17                15.09   \n",
       "38638        6.967182e+08                18.36                11.84   \n",
       "\n",
       "       2022/법인세차감전순이익(구성비)  2021/인건비(구성비)  2021/금융비용(구성비)  2022/금융비용(구성비)  \\\n",
       "0                   15.335         57.855            3.18            4.50   \n",
       "1                   15.335         57.855            3.18            4.50   \n",
       "2                   15.335         57.855            3.18            4.50   \n",
       "3                   15.335         57.855            3.18            4.50   \n",
       "4                   15.335         57.855            3.18            4.50   \n",
       "...                    ...            ...             ...             ...   \n",
       "38634                1.380         80.760            4.46            5.36   \n",
       "38635               54.060         42.190            1.12            0.93   \n",
       "38636               62.360         24.090            1.32            0.84   \n",
       "38637                3.560         76.790            1.00            2.02   \n",
       "38638               15.670         59.080            9.75            9.17   \n",
       "\n",
       "       2020/임차료(구성비)  \n",
       "0               1.39  \n",
       "1               1.39  \n",
       "2               1.39  \n",
       "3               1.39  \n",
       "4               1.39  \n",
       "...              ...  \n",
       "38634           3.63  \n",
       "38635           6.19  \n",
       "38636           1.39  \n",
       "38637           3.47  \n",
       "38638           0.47  \n",
       "\n",
       "[27603 rows x 97 columns]"
      ]
     },
     "execution_count": 155,
     "metadata": {},
     "output_type": "execute_result"
    }
   ],
   "source": [
    "data[selected_features]"
   ]
  },
  {
   "cell_type": "code",
   "execution_count": 156,
   "metadata": {},
   "outputs": [
    {
     "data": {
      "text/html": [
       "<div>\n",
       "<style scoped>\n",
       "    .dataframe tbody tr th:only-of-type {\n",
       "        vertical-align: middle;\n",
       "    }\n",
       "\n",
       "    .dataframe tbody tr th {\n",
       "        vertical-align: top;\n",
       "    }\n",
       "\n",
       "    .dataframe thead th {\n",
       "        text-align: right;\n",
       "    }\n",
       "</style>\n",
       "<table border=\"1\" class=\"dataframe\">\n",
       "  <thead>\n",
       "    <tr style=\"text-align: right;\">\n",
       "      <th></th>\n",
       "      <th>업체코드</th>\n",
       "      <th>종목명</th>\n",
       "      <th>2021/총자산증가율</th>\n",
       "      <th>2022/총자산증가율</th>\n",
       "      <th>2022/매출액증가율</th>\n",
       "      <th>2021/영업이익증가율</th>\n",
       "      <th>2020/총자본영업이익율</th>\n",
       "      <th>2021/총자본영업이익율</th>\n",
       "      <th>2022/총자본영업이익율</th>\n",
       "      <th>2020/총자본법인세비용차감전순이익율</th>\n",
       "      <th>...</th>\n",
       "      <th>2020/기계장비율(종업원1인당)</th>\n",
       "      <th>2021/자본집약도(종업원1인당)</th>\n",
       "      <th>2020/법인세차감전순이익(구성비)</th>\n",
       "      <th>2021/법인세차감전순이익(구성비)</th>\n",
       "      <th>2022/법인세차감전순이익(구성비)</th>\n",
       "      <th>2021/인건비(구성비)</th>\n",
       "      <th>2021/금융비용(구성비)</th>\n",
       "      <th>2022/금융비용(구성비)</th>\n",
       "      <th>2020/임차료(구성비)</th>\n",
       "      <th>2023/부실기업</th>\n",
       "    </tr>\n",
       "  </thead>\n",
       "  <tbody>\n",
       "    <tr>\n",
       "      <th>0</th>\n",
       "      <td>N350605</td>\n",
       "      <td>동화약품</td>\n",
       "      <td>2.70</td>\n",
       "      <td>3.27</td>\n",
       "      <td>16.06</td>\n",
       "      <td>-16.09</td>\n",
       "      <td>5.71</td>\n",
       "      <td>4.56</td>\n",
       "      <td>6.28</td>\n",
       "      <td>8.54</td>\n",
       "      <td>...</td>\n",
       "      <td>11511260.0</td>\n",
       "      <td>5.627382e+08</td>\n",
       "      <td>15.74</td>\n",
       "      <td>17.87</td>\n",
       "      <td>15.335</td>\n",
       "      <td>57.855</td>\n",
       "      <td>3.18</td>\n",
       "      <td>4.50</td>\n",
       "      <td>1.39</td>\n",
       "      <td>0</td>\n",
       "    </tr>\n",
       "    <tr>\n",
       "      <th>1</th>\n",
       "      <td>N320498</td>\n",
       "      <td>KR모터스</td>\n",
       "      <td>1.45</td>\n",
       "      <td>-0.52</td>\n",
       "      <td>-15.04</td>\n",
       "      <td>16.26</td>\n",
       "      <td>-1.38</td>\n",
       "      <td>-1.02</td>\n",
       "      <td>-4.95</td>\n",
       "      <td>-9.88</td>\n",
       "      <td>...</td>\n",
       "      <td>1587450.0</td>\n",
       "      <td>1.767904e+09</td>\n",
       "      <td>15.74</td>\n",
       "      <td>17.87</td>\n",
       "      <td>15.335</td>\n",
       "      <td>57.855</td>\n",
       "      <td>3.18</td>\n",
       "      <td>4.50</td>\n",
       "      <td>1.39</td>\n",
       "      <td>1</td>\n",
       "    </tr>\n",
       "    <tr>\n",
       "      <th>2</th>\n",
       "      <td>N320684</td>\n",
       "      <td>경방</td>\n",
       "      <td>0.15</td>\n",
       "      <td>-6.09</td>\n",
       "      <td>-0.71</td>\n",
       "      <td>13.04</td>\n",
       "      <td>2.02</td>\n",
       "      <td>2.36</td>\n",
       "      <td>3.13</td>\n",
       "      <td>2.03</td>\n",
       "      <td>...</td>\n",
       "      <td>2481440.0</td>\n",
       "      <td>6.096943e+09</td>\n",
       "      <td>15.74</td>\n",
       "      <td>17.87</td>\n",
       "      <td>15.335</td>\n",
       "      <td>57.855</td>\n",
       "      <td>3.18</td>\n",
       "      <td>4.50</td>\n",
       "      <td>1.39</td>\n",
       "      <td>0</td>\n",
       "    </tr>\n",
       "    <tr>\n",
       "      <th>3</th>\n",
       "      <td>N320730</td>\n",
       "      <td>삼양홀딩스</td>\n",
       "      <td>22.28</td>\n",
       "      <td>-0.76</td>\n",
       "      <td>-40.09</td>\n",
       "      <td>218.01</td>\n",
       "      <td>4.60</td>\n",
       "      <td>12.76</td>\n",
       "      <td>3.32</td>\n",
       "      <td>4.69</td>\n",
       "      <td>...</td>\n",
       "      <td>966670.0</td>\n",
       "      <td>3.949607e+09</td>\n",
       "      <td>15.74</td>\n",
       "      <td>17.87</td>\n",
       "      <td>15.335</td>\n",
       "      <td>57.855</td>\n",
       "      <td>3.18</td>\n",
       "      <td>4.50</td>\n",
       "      <td>1.39</td>\n",
       "      <td>0</td>\n",
       "    </tr>\n",
       "    <tr>\n",
       "      <th>4</th>\n",
       "      <td>N310581</td>\n",
       "      <td>하이트진로</td>\n",
       "      <td>10.65</td>\n",
       "      <td>-9.43</td>\n",
       "      <td>12.40</td>\n",
       "      <td>-16.74</td>\n",
       "      <td>5.80</td>\n",
       "      <td>4.61</td>\n",
       "      <td>5.06</td>\n",
       "      <td>2.69</td>\n",
       "      <td>...</td>\n",
       "      <td>185085960.0</td>\n",
       "      <td>1.039853e+09</td>\n",
       "      <td>15.74</td>\n",
       "      <td>17.87</td>\n",
       "      <td>15.335</td>\n",
       "      <td>57.855</td>\n",
       "      <td>3.18</td>\n",
       "      <td>4.50</td>\n",
       "      <td>1.39</td>\n",
       "      <td>0</td>\n",
       "    </tr>\n",
       "    <tr>\n",
       "      <th>...</th>\n",
       "      <td>...</td>\n",
       "      <td>...</td>\n",
       "      <td>...</td>\n",
       "      <td>...</td>\n",
       "      <td>...</td>\n",
       "      <td>...</td>\n",
       "      <td>...</td>\n",
       "      <td>...</td>\n",
       "      <td>...</td>\n",
       "      <td>...</td>\n",
       "      <td>...</td>\n",
       "      <td>...</td>\n",
       "      <td>...</td>\n",
       "      <td>...</td>\n",
       "      <td>...</td>\n",
       "      <td>...</td>\n",
       "      <td>...</td>\n",
       "      <td>...</td>\n",
       "      <td>...</td>\n",
       "      <td>...</td>\n",
       "      <td>...</td>\n",
       "    </tr>\n",
       "    <tr>\n",
       "      <th>38634</th>\n",
       "      <td>NX01379</td>\n",
       "      <td>다마요팩(주)</td>\n",
       "      <td>40.32</td>\n",
       "      <td>-1.22</td>\n",
       "      <td>-1.06</td>\n",
       "      <td>16.26</td>\n",
       "      <td>0.72</td>\n",
       "      <td>-3.74</td>\n",
       "      <td>-0.72</td>\n",
       "      <td>-0.83</td>\n",
       "      <td>...</td>\n",
       "      <td>1351965.0</td>\n",
       "      <td>1.940924e+08</td>\n",
       "      <td>-2.87</td>\n",
       "      <td>-4.35</td>\n",
       "      <td>1.380</td>\n",
       "      <td>80.760</td>\n",
       "      <td>4.46</td>\n",
       "      <td>5.36</td>\n",
       "      <td>3.63</td>\n",
       "      <td>0</td>\n",
       "    </tr>\n",
       "    <tr>\n",
       "      <th>38635</th>\n",
       "      <td>NX57312</td>\n",
       "      <td>(주)에스엘씨</td>\n",
       "      <td>26.04</td>\n",
       "      <td>-9.67</td>\n",
       "      <td>47.62</td>\n",
       "      <td>16.26</td>\n",
       "      <td>-7.95</td>\n",
       "      <td>28.21</td>\n",
       "      <td>34.50</td>\n",
       "      <td>-7.24</td>\n",
       "      <td>...</td>\n",
       "      <td>9879860.0</td>\n",
       "      <td>3.398192e+08</td>\n",
       "      <td>-22.33</td>\n",
       "      <td>49.30</td>\n",
       "      <td>54.060</td>\n",
       "      <td>42.190</td>\n",
       "      <td>1.12</td>\n",
       "      <td>0.93</td>\n",
       "      <td>6.19</td>\n",
       "      <td>0</td>\n",
       "    </tr>\n",
       "    <tr>\n",
       "      <th>38636</th>\n",
       "      <td>NX91216</td>\n",
       "      <td>농업회사법인한국양계(주)</td>\n",
       "      <td>40.62</td>\n",
       "      <td>-4.03</td>\n",
       "      <td>23.12</td>\n",
       "      <td>248.73</td>\n",
       "      <td>7.54</td>\n",
       "      <td>21.53</td>\n",
       "      <td>22.33</td>\n",
       "      <td>5.81</td>\n",
       "      <td>...</td>\n",
       "      <td>101124970.0</td>\n",
       "      <td>6.505325e+08</td>\n",
       "      <td>15.74</td>\n",
       "      <td>66.38</td>\n",
       "      <td>62.360</td>\n",
       "      <td>24.090</td>\n",
       "      <td>1.32</td>\n",
       "      <td>0.84</td>\n",
       "      <td>1.39</td>\n",
       "      <td>0</td>\n",
       "    </tr>\n",
       "    <tr>\n",
       "      <th>38637</th>\n",
       "      <td>NY32604</td>\n",
       "      <td>(주)메디라인액티브코리아</td>\n",
       "      <td>3.24</td>\n",
       "      <td>105.26</td>\n",
       "      <td>14.67</td>\n",
       "      <td>-17.34</td>\n",
       "      <td>14.22</td>\n",
       "      <td>10.25</td>\n",
       "      <td>2.51</td>\n",
       "      <td>14.04</td>\n",
       "      <td>...</td>\n",
       "      <td>3253050.0</td>\n",
       "      <td>8.361525e+07</td>\n",
       "      <td>21.17</td>\n",
       "      <td>15.09</td>\n",
       "      <td>3.560</td>\n",
       "      <td>76.790</td>\n",
       "      <td>1.00</td>\n",
       "      <td>2.02</td>\n",
       "      <td>3.47</td>\n",
       "      <td>0</td>\n",
       "    </tr>\n",
       "    <tr>\n",
       "      <th>38638</th>\n",
       "      <td>NY84181</td>\n",
       "      <td>(주)엘림글로벌</td>\n",
       "      <td>-1.72</td>\n",
       "      <td>32.95</td>\n",
       "      <td>19.10</td>\n",
       "      <td>21.54</td>\n",
       "      <td>2.77</td>\n",
       "      <td>3.11</td>\n",
       "      <td>4.84</td>\n",
       "      <td>3.25</td>\n",
       "      <td>...</td>\n",
       "      <td>1351965.0</td>\n",
       "      <td>6.967182e+08</td>\n",
       "      <td>18.36</td>\n",
       "      <td>11.84</td>\n",
       "      <td>15.670</td>\n",
       "      <td>59.080</td>\n",
       "      <td>9.75</td>\n",
       "      <td>9.17</td>\n",
       "      <td>0.47</td>\n",
       "      <td>0</td>\n",
       "    </tr>\n",
       "  </tbody>\n",
       "</table>\n",
       "<p>27603 rows × 100 columns</p>\n",
       "</div>"
      ],
      "text/plain": [
       "          업체코드            종목명  2021/총자산증가율  2022/총자산증가율  2022/매출액증가율  \\\n",
       "0      N350605           동화약품         2.70         3.27        16.06   \n",
       "1      N320498          KR모터스         1.45        -0.52       -15.04   \n",
       "2      N320684             경방         0.15        -6.09        -0.71   \n",
       "3      N320730          삼양홀딩스        22.28        -0.76       -40.09   \n",
       "4      N310581          하이트진로        10.65        -9.43        12.40   \n",
       "...        ...            ...          ...          ...          ...   \n",
       "38634  NX01379        다마요팩(주)        40.32        -1.22        -1.06   \n",
       "38635  NX57312        (주)에스엘씨        26.04        -9.67        47.62   \n",
       "38636  NX91216  농업회사법인한국양계(주)        40.62        -4.03        23.12   \n",
       "38637  NY32604  (주)메디라인액티브코리아         3.24       105.26        14.67   \n",
       "38638  NY84181       (주)엘림글로벌        -1.72        32.95        19.10   \n",
       "\n",
       "       2021/영업이익증가율  2020/총자본영업이익율  2021/총자본영업이익율  2022/총자본영업이익율  \\\n",
       "0            -16.09           5.71           4.56           6.28   \n",
       "1             16.26          -1.38          -1.02          -4.95   \n",
       "2             13.04           2.02           2.36           3.13   \n",
       "3            218.01           4.60          12.76           3.32   \n",
       "4            -16.74           5.80           4.61           5.06   \n",
       "...             ...            ...            ...            ...   \n",
       "38634         16.26           0.72          -3.74          -0.72   \n",
       "38635         16.26          -7.95          28.21          34.50   \n",
       "38636        248.73           7.54          21.53          22.33   \n",
       "38637        -17.34          14.22          10.25           2.51   \n",
       "38638         21.54           2.77           3.11           4.84   \n",
       "\n",
       "       2020/총자본법인세비용차감전순이익율  ...  2020/기계장비율(종업원1인당)  2021/자본집약도(종업원1인당)  \\\n",
       "0                      8.54  ...          11511260.0        5.627382e+08   \n",
       "1                     -9.88  ...           1587450.0        1.767904e+09   \n",
       "2                      2.03  ...           2481440.0        6.096943e+09   \n",
       "3                      4.69  ...            966670.0        3.949607e+09   \n",
       "4                      2.69  ...         185085960.0        1.039853e+09   \n",
       "...                     ...  ...                 ...                 ...   \n",
       "38634                 -0.83  ...           1351965.0        1.940924e+08   \n",
       "38635                 -7.24  ...           9879860.0        3.398192e+08   \n",
       "38636                  5.81  ...         101124970.0        6.505325e+08   \n",
       "38637                 14.04  ...           3253050.0        8.361525e+07   \n",
       "38638                  3.25  ...           1351965.0        6.967182e+08   \n",
       "\n",
       "       2020/법인세차감전순이익(구성비)  2021/법인세차감전순이익(구성비)  2022/법인세차감전순이익(구성비)  \\\n",
       "0                    15.74                17.87               15.335   \n",
       "1                    15.74                17.87               15.335   \n",
       "2                    15.74                17.87               15.335   \n",
       "3                    15.74                17.87               15.335   \n",
       "4                    15.74                17.87               15.335   \n",
       "...                    ...                  ...                  ...   \n",
       "38634                -2.87                -4.35                1.380   \n",
       "38635               -22.33                49.30               54.060   \n",
       "38636                15.74                66.38               62.360   \n",
       "38637                21.17                15.09                3.560   \n",
       "38638                18.36                11.84               15.670   \n",
       "\n",
       "       2021/인건비(구성비)  2021/금융비용(구성비)  2022/금융비용(구성비)  2020/임차료(구성비)  2023/부실기업  \n",
       "0             57.855            3.18            4.50           1.39          0  \n",
       "1             57.855            3.18            4.50           1.39          1  \n",
       "2             57.855            3.18            4.50           1.39          0  \n",
       "3             57.855            3.18            4.50           1.39          0  \n",
       "4             57.855            3.18            4.50           1.39          0  \n",
       "...              ...             ...             ...            ...        ...  \n",
       "38634         80.760            4.46            5.36           3.63          0  \n",
       "38635         42.190            1.12            0.93           6.19          0  \n",
       "38636         24.090            1.32            0.84           1.39          0  \n",
       "38637         76.790            1.00            2.02           3.47          0  \n",
       "38638         59.080            9.75            9.17           0.47          0  \n",
       "\n",
       "[27603 rows x 100 columns]"
      ]
     },
     "execution_count": 156,
     "metadata": {},
     "output_type": "execute_result"
    }
   ],
   "source": [
    "# Index 객체를 리스트로 변환\n",
    "selected_features_list = selected_features.tolist()\n",
    "\n",
    "# '업체코드', '종목명', '2023/부실기업' 추가\n",
    "columns_to_select = ['업체코드', '종목명'] + selected_features_list + ['2023/부실기업']\n",
    "\n",
    "# 선택된 열만 포함한 새로운 데이터프레임 생성\n",
    "filtered_data = data[columns_to_select]\n",
    "filtered_data"
   ]
  },
  {
   "cell_type": "markdown",
   "metadata": {},
   "source": [
    "### 데이터 저장"
   ]
  },
  {
   "cell_type": "code",
   "execution_count": 157,
   "metadata": {},
   "outputs": [],
   "source": [
    "# CSV 파일로 저장\n",
    "filtered_data.to_csv(\"../../project/data/3years_var_select.csv\", index=False, encoding='utf-8-sig')"
   ]
  },
  {
   "cell_type": "markdown",
   "metadata": {},
   "source": [
    "할거\n",
    "- 20,21,22 필터링걸어서 후진제거법하고 딥러닝"
   ]
  },
  {
   "cell_type": "markdown",
   "metadata": {},
   "source": [
    "### 모델링"
   ]
  },
  {
   "cell_type": "code",
   "execution_count": 158,
   "metadata": {},
   "outputs": [],
   "source": [
    "RANDOM_STATE = 110\n",
    "import pandas as pd\n",
    "\n",
    "data = pd.read_csv(\"../../project/data/3years_var_select.csv\", encoding='utf-8-sig', low_memory=False)"
   ]
  },
  {
   "cell_type": "code",
   "execution_count": 159,
   "metadata": {},
   "outputs": [
    {
     "data": {
      "text/html": [
       "<div>\n",
       "<style scoped>\n",
       "    .dataframe tbody tr th:only-of-type {\n",
       "        vertical-align: middle;\n",
       "    }\n",
       "\n",
       "    .dataframe tbody tr th {\n",
       "        vertical-align: top;\n",
       "    }\n",
       "\n",
       "    .dataframe thead th {\n",
       "        text-align: right;\n",
       "    }\n",
       "</style>\n",
       "<table border=\"1\" class=\"dataframe\">\n",
       "  <thead>\n",
       "    <tr style=\"text-align: right;\">\n",
       "      <th></th>\n",
       "      <th>업체코드</th>\n",
       "      <th>종목명</th>\n",
       "      <th>2021/총자산증가율</th>\n",
       "      <th>2022/총자산증가율</th>\n",
       "      <th>2022/매출액증가율</th>\n",
       "      <th>2021/영업이익증가율</th>\n",
       "      <th>2020/총자본영업이익율</th>\n",
       "      <th>2021/총자본영업이익율</th>\n",
       "      <th>2022/총자본영업이익율</th>\n",
       "      <th>2020/총자본법인세비용차감전순이익율</th>\n",
       "      <th>...</th>\n",
       "      <th>2020/기계장비율(종업원1인당)</th>\n",
       "      <th>2021/자본집약도(종업원1인당)</th>\n",
       "      <th>2020/법인세차감전순이익(구성비)</th>\n",
       "      <th>2021/법인세차감전순이익(구성비)</th>\n",
       "      <th>2022/법인세차감전순이익(구성비)</th>\n",
       "      <th>2021/인건비(구성비)</th>\n",
       "      <th>2021/금융비용(구성비)</th>\n",
       "      <th>2022/금융비용(구성비)</th>\n",
       "      <th>2020/임차료(구성비)</th>\n",
       "      <th>2023/부실기업</th>\n",
       "    </tr>\n",
       "  </thead>\n",
       "  <tbody>\n",
       "    <tr>\n",
       "      <th>0</th>\n",
       "      <td>N350605</td>\n",
       "      <td>동화약품</td>\n",
       "      <td>2.70</td>\n",
       "      <td>3.27</td>\n",
       "      <td>16.06</td>\n",
       "      <td>-16.09</td>\n",
       "      <td>5.71</td>\n",
       "      <td>4.56</td>\n",
       "      <td>6.28</td>\n",
       "      <td>8.54</td>\n",
       "      <td>...</td>\n",
       "      <td>11511260.0</td>\n",
       "      <td>5.627382e+08</td>\n",
       "      <td>15.74</td>\n",
       "      <td>17.87</td>\n",
       "      <td>15.335</td>\n",
       "      <td>57.855</td>\n",
       "      <td>3.18</td>\n",
       "      <td>4.5</td>\n",
       "      <td>1.39</td>\n",
       "      <td>0</td>\n",
       "    </tr>\n",
       "    <tr>\n",
       "      <th>1</th>\n",
       "      <td>N320498</td>\n",
       "      <td>KR모터스</td>\n",
       "      <td>1.45</td>\n",
       "      <td>-0.52</td>\n",
       "      <td>-15.04</td>\n",
       "      <td>16.26</td>\n",
       "      <td>-1.38</td>\n",
       "      <td>-1.02</td>\n",
       "      <td>-4.95</td>\n",
       "      <td>-9.88</td>\n",
       "      <td>...</td>\n",
       "      <td>1587450.0</td>\n",
       "      <td>1.767904e+09</td>\n",
       "      <td>15.74</td>\n",
       "      <td>17.87</td>\n",
       "      <td>15.335</td>\n",
       "      <td>57.855</td>\n",
       "      <td>3.18</td>\n",
       "      <td>4.5</td>\n",
       "      <td>1.39</td>\n",
       "      <td>1</td>\n",
       "    </tr>\n",
       "    <tr>\n",
       "      <th>2</th>\n",
       "      <td>N320684</td>\n",
       "      <td>경방</td>\n",
       "      <td>0.15</td>\n",
       "      <td>-6.09</td>\n",
       "      <td>-0.71</td>\n",
       "      <td>13.04</td>\n",
       "      <td>2.02</td>\n",
       "      <td>2.36</td>\n",
       "      <td>3.13</td>\n",
       "      <td>2.03</td>\n",
       "      <td>...</td>\n",
       "      <td>2481440.0</td>\n",
       "      <td>6.096943e+09</td>\n",
       "      <td>15.74</td>\n",
       "      <td>17.87</td>\n",
       "      <td>15.335</td>\n",
       "      <td>57.855</td>\n",
       "      <td>3.18</td>\n",
       "      <td>4.5</td>\n",
       "      <td>1.39</td>\n",
       "      <td>0</td>\n",
       "    </tr>\n",
       "    <tr>\n",
       "      <th>3</th>\n",
       "      <td>N320730</td>\n",
       "      <td>삼양홀딩스</td>\n",
       "      <td>22.28</td>\n",
       "      <td>-0.76</td>\n",
       "      <td>-40.09</td>\n",
       "      <td>218.01</td>\n",
       "      <td>4.60</td>\n",
       "      <td>12.76</td>\n",
       "      <td>3.32</td>\n",
       "      <td>4.69</td>\n",
       "      <td>...</td>\n",
       "      <td>966670.0</td>\n",
       "      <td>3.949607e+09</td>\n",
       "      <td>15.74</td>\n",
       "      <td>17.87</td>\n",
       "      <td>15.335</td>\n",
       "      <td>57.855</td>\n",
       "      <td>3.18</td>\n",
       "      <td>4.5</td>\n",
       "      <td>1.39</td>\n",
       "      <td>0</td>\n",
       "    </tr>\n",
       "    <tr>\n",
       "      <th>4</th>\n",
       "      <td>N310581</td>\n",
       "      <td>하이트진로</td>\n",
       "      <td>10.65</td>\n",
       "      <td>-9.43</td>\n",
       "      <td>12.40</td>\n",
       "      <td>-16.74</td>\n",
       "      <td>5.80</td>\n",
       "      <td>4.61</td>\n",
       "      <td>5.06</td>\n",
       "      <td>2.69</td>\n",
       "      <td>...</td>\n",
       "      <td>185085960.0</td>\n",
       "      <td>1.039853e+09</td>\n",
       "      <td>15.74</td>\n",
       "      <td>17.87</td>\n",
       "      <td>15.335</td>\n",
       "      <td>57.855</td>\n",
       "      <td>3.18</td>\n",
       "      <td>4.5</td>\n",
       "      <td>1.39</td>\n",
       "      <td>0</td>\n",
       "    </tr>\n",
       "  </tbody>\n",
       "</table>\n",
       "<p>5 rows × 100 columns</p>\n",
       "</div>"
      ],
      "text/plain": [
       "      업체코드    종목명  2021/총자산증가율  2022/총자산증가율  2022/매출액증가율  2021/영업이익증가율  \\\n",
       "0  N350605   동화약품         2.70         3.27        16.06        -16.09   \n",
       "1  N320498  KR모터스         1.45        -0.52       -15.04         16.26   \n",
       "2  N320684     경방         0.15        -6.09        -0.71         13.04   \n",
       "3  N320730  삼양홀딩스        22.28        -0.76       -40.09        218.01   \n",
       "4  N310581  하이트진로        10.65        -9.43        12.40        -16.74   \n",
       "\n",
       "   2020/총자본영업이익율  2021/총자본영업이익율  2022/총자본영업이익율  2020/총자본법인세비용차감전순이익율  ...  \\\n",
       "0           5.71           4.56           6.28                  8.54  ...   \n",
       "1          -1.38          -1.02          -4.95                 -9.88  ...   \n",
       "2           2.02           2.36           3.13                  2.03  ...   \n",
       "3           4.60          12.76           3.32                  4.69  ...   \n",
       "4           5.80           4.61           5.06                  2.69  ...   \n",
       "\n",
       "   2020/기계장비율(종업원1인당)  2021/자본집약도(종업원1인당)  2020/법인세차감전순이익(구성비)  \\\n",
       "0          11511260.0        5.627382e+08                15.74   \n",
       "1           1587450.0        1.767904e+09                15.74   \n",
       "2           2481440.0        6.096943e+09                15.74   \n",
       "3            966670.0        3.949607e+09                15.74   \n",
       "4         185085960.0        1.039853e+09                15.74   \n",
       "\n",
       "   2021/법인세차감전순이익(구성비)  2022/법인세차감전순이익(구성비)  2021/인건비(구성비)  2021/금융비용(구성비)  \\\n",
       "0                17.87               15.335         57.855            3.18   \n",
       "1                17.87               15.335         57.855            3.18   \n",
       "2                17.87               15.335         57.855            3.18   \n",
       "3                17.87               15.335         57.855            3.18   \n",
       "4                17.87               15.335         57.855            3.18   \n",
       "\n",
       "   2022/금융비용(구성비)  2020/임차료(구성비)  2023/부실기업  \n",
       "0             4.5           1.39          0  \n",
       "1             4.5           1.39          1  \n",
       "2             4.5           1.39          0  \n",
       "3             4.5           1.39          0  \n",
       "4             4.5           1.39          0  \n",
       "\n",
       "[5 rows x 100 columns]"
      ]
     },
     "execution_count": 159,
     "metadata": {},
     "output_type": "execute_result"
    }
   ],
   "source": [
    "data.head()"
   ]
  },
  {
   "cell_type": "code",
   "execution_count": 160,
   "metadata": {},
   "outputs": [],
   "source": [
    "from sklearn.model_selection import train_test_split\n",
    "from sklearn.preprocessing import StandardScaler\n",
    "from sklearn.ensemble import RandomForestClassifier, BaggingClassifier\n",
    "from sklearn.svm import SVC\n",
    "from sklearn.neighbors import KNeighborsClassifier\n",
    "from sklearn.metrics import accuracy_score\n",
    "import tensorflow as tf\n",
    "from tensorflow.keras.models import Sequential\n",
    "from tensorflow.keras.layers import Dense, LSTM, GRU, Conv2D, MaxPooling2D, Flatten, Dropout, Reshape\n",
    "from tensorflow.keras.optimizers import Adam\n"
   ]
  },
  {
   "cell_type": "code",
   "execution_count": 161,
   "metadata": {},
   "outputs": [],
   "source": [
    "# 종속 변수는 '2023/부실기업'으로 가정\n",
    "y = data['2023/부실기업']\n",
    "X = data.drop(columns=['2023/부실기업', '업체코드', '종목명'])\n",
    "\n",
    "# 데이터 분할 (70:30 비율)\n",
    "X_train, X_test, y_train, y_test = train_test_split(X, y, test_size=0.3, random_state=42)\n",
    "\n",
    "# 데이터 정규화\n",
    "scaler = StandardScaler()\n",
    "X_train_scaled = scaler.fit_transform(X_train)\n",
    "X_test_scaled = scaler.transform(X_test)"
   ]
  },
  {
   "cell_type": "code",
   "execution_count": 162,
   "metadata": {},
   "outputs": [
    {
     "name": "stderr",
     "output_type": "stream",
     "text": [
      "c:\\Users\\ldb76\\AppData\\Local\\Programs\\Python\\Python311\\Lib\\site-packages\\keras\\src\\layers\\reshaping\\reshape.py:39: UserWarning: Do not pass an `input_shape`/`input_dim` argument to a layer. When using Sequential models, prefer using an `Input(shape)` object as the first layer in the model instead.\n",
      "  super().__init__(**kwargs)\n",
      "c:\\Users\\ldb76\\AppData\\Local\\Programs\\Python\\Python311\\Lib\\site-packages\\keras\\src\\layers\\rnn\\rnn.py:204: UserWarning: Do not pass an `input_shape`/`input_dim` argument to a layer. When using Sequential models, prefer using an `Input(shape)` object as the first layer in the model instead.\n",
      "  super().__init__(**kwargs)\n"
     ]
    }
   ],
   "source": [
    "# 딥러닝 모형 설정\n",
    "\n",
    "# 합성곱신경망 (CNN)\n",
    "cnn_model = Sequential()\n",
    "cnn_model.add(Reshape((X_train_scaled.shape[1], 1, 1), input_shape=(X_train_scaled.shape[1], 1))) \n",
    "cnn_model.add(Conv2D(64, kernel_size=(2, 2), activation='relu', padding='same'))\n",
    "cnn_model.add(MaxPooling2D(pool_size=(1, 1)))\n",
    "cnn_model.add(Dropout(0.25))\n",
    "cnn_model.add(Flatten())\n",
    "cnn_model.add(Dense(128, activation='relu'))\n",
    "cnn_model.add(Dropout(0.25))\n",
    "cnn_model.add(Dense(1, activation='sigmoid'))\n",
    "cnn_model.compile(loss='binary_crossentropy', optimizer=Adam(), metrics=['accuracy'])\n",
    "\n",
    "# RNN-LSTM\n",
    "lstm_model = Sequential()\n",
    "lstm_model.add(LSTM(128, activation='relu', return_sequences=True, input_shape=(X_train_scaled.shape[1], 1)))\n",
    "lstm_model.add(LSTM(128, activation='relu'))\n",
    "lstm_model.add(Dense(1, activation='sigmoid'))\n",
    "lstm_model.compile(loss='binary_crossentropy', optimizer=Adam(), metrics=['accuracy'])\n",
    "\n",
    "# RNN-GRU\n",
    "gru_model = Sequential()\n",
    "gru_model.add(GRU(128, activation='relu', return_sequences=True, input_shape=(X_train_scaled.shape[1], 1)))\n",
    "gru_model.add(GRU(128, activation='relu'))\n",
    "gru_model.add(Dense(1, activation='sigmoid'))\n",
    "gru_model.compile(loss='binary_crossentropy', optimizer=Adam(), metrics=['accuracy'])"
   ]
  },
  {
   "cell_type": "code",
   "execution_count": 163,
   "metadata": {},
   "outputs": [
    {
     "name": "stdout",
     "output_type": "stream",
     "text": [
      "Epoch 1/200\n",
      "\u001b[1m484/484\u001b[0m \u001b[32m━━━━━━━━━━━━━━━━━━━━\u001b[0m\u001b[37m\u001b[0m \u001b[1m15s\u001b[0m 24ms/step - accuracy: 0.8926 - loss: 0.2476 - val_accuracy: 0.9169 - val_loss: 0.1757\n",
      "Epoch 2/200\n",
      "\u001b[1m484/484\u001b[0m \u001b[32m━━━━━━━━━━━━━━━━━━━━\u001b[0m\u001b[37m\u001b[0m \u001b[1m11s\u001b[0m 23ms/step - accuracy: 0.9225 - loss: 0.1768 - val_accuracy: 0.9213 - val_loss: 0.1703\n",
      "Epoch 3/200\n",
      "\u001b[1m484/484\u001b[0m \u001b[32m━━━━━━━━━━━━━━━━━━━━\u001b[0m\u001b[37m\u001b[0m \u001b[1m11s\u001b[0m 23ms/step - accuracy: 0.9308 - loss: 0.1615 - val_accuracy: 0.9237 - val_loss: 0.1689\n",
      "Epoch 4/200\n",
      "\u001b[1m484/484\u001b[0m \u001b[32m━━━━━━━━━━━━━━━━━━━━\u001b[0m\u001b[37m\u001b[0m \u001b[1m22s\u001b[0m 25ms/step - accuracy: 0.9287 - loss: 0.1603 - val_accuracy: 0.9232 - val_loss: 0.1665\n",
      "Epoch 5/200\n",
      "\u001b[1m484/484\u001b[0m \u001b[32m━━━━━━━━━━━━━━━━━━━━\u001b[0m\u001b[37m\u001b[0m \u001b[1m9s\u001b[0m 19ms/step - accuracy: 0.9361 - loss: 0.1480 - val_accuracy: 0.9304 - val_loss: 0.1649\n",
      "Epoch 6/200\n",
      "\u001b[1m484/484\u001b[0m \u001b[32m━━━━━━━━━━━━━━━━━━━━\u001b[0m\u001b[37m\u001b[0m \u001b[1m9s\u001b[0m 19ms/step - accuracy: 0.9335 - loss: 0.1487 - val_accuracy: 0.9304 - val_loss: 0.1624\n",
      "Epoch 7/200\n",
      "\u001b[1m484/484\u001b[0m \u001b[32m━━━━━━━━━━━━━━━━━━━━\u001b[0m\u001b[37m\u001b[0m \u001b[1m9s\u001b[0m 19ms/step - accuracy: 0.9399 - loss: 0.1343 - val_accuracy: 0.9345 - val_loss: 0.1576\n",
      "Epoch 8/200\n",
      "\u001b[1m484/484\u001b[0m \u001b[32m━━━━━━━━━━━━━━━━━━━━\u001b[0m\u001b[37m\u001b[0m \u001b[1m10s\u001b[0m 20ms/step - accuracy: 0.9410 - loss: 0.1315 - val_accuracy: 0.9309 - val_loss: 0.1625\n",
      "Epoch 9/200\n",
      "\u001b[1m484/484\u001b[0m \u001b[32m━━━━━━━━━━━━━━━━━━━━\u001b[0m\u001b[37m\u001b[0m \u001b[1m9s\u001b[0m 19ms/step - accuracy: 0.9467 - loss: 0.1249 - val_accuracy: 0.9307 - val_loss: 0.1661\n",
      "Epoch 10/200\n",
      "\u001b[1m484/484\u001b[0m \u001b[32m━━━━━━━━━━━━━━━━━━━━\u001b[0m\u001b[37m\u001b[0m \u001b[1m10s\u001b[0m 20ms/step - accuracy: 0.9467 - loss: 0.1245 - val_accuracy: 0.9294 - val_loss: 0.1691\n",
      "Epoch 11/200\n",
      "\u001b[1m484/484\u001b[0m \u001b[32m━━━━━━━━━━━━━━━━━━━━\u001b[0m\u001b[37m\u001b[0m \u001b[1m9s\u001b[0m 18ms/step - accuracy: 0.9466 - loss: 0.1208 - val_accuracy: 0.9312 - val_loss: 0.1683\n",
      "Epoch 12/200\n",
      "\u001b[1m484/484\u001b[0m \u001b[32m━━━━━━━━━━━━━━━━━━━━\u001b[0m\u001b[37m\u001b[0m \u001b[1m9s\u001b[0m 19ms/step - accuracy: 0.9523 - loss: 0.1141 - val_accuracy: 0.9307 - val_loss: 0.1725\n",
      "Epoch 13/200\n",
      "\u001b[1m484/484\u001b[0m \u001b[32m━━━━━━━━━━━━━━━━━━━━\u001b[0m\u001b[37m\u001b[0m \u001b[1m9s\u001b[0m 19ms/step - accuracy: 0.9535 - loss: 0.1057 - val_accuracy: 0.9309 - val_loss: 0.1736\n",
      "Epoch 14/200\n",
      "\u001b[1m484/484\u001b[0m \u001b[32m━━━━━━━━━━━━━━━━━━━━\u001b[0m\u001b[37m\u001b[0m \u001b[1m9s\u001b[0m 19ms/step - accuracy: 0.9508 - loss: 0.1149 - val_accuracy: 0.9307 - val_loss: 0.1754\n",
      "Epoch 15/200\n",
      "\u001b[1m484/484\u001b[0m \u001b[32m━━━━━━━━━━━━━━━━━━━━\u001b[0m\u001b[37m\u001b[0m \u001b[1m10s\u001b[0m 20ms/step - accuracy: 0.9589 - loss: 0.0964 - val_accuracy: 0.9340 - val_loss: 0.1828\n",
      "Epoch 16/200\n",
      "\u001b[1m484/484\u001b[0m \u001b[32m━━━━━━━━━━━━━━━━━━━━\u001b[0m\u001b[37m\u001b[0m \u001b[1m11s\u001b[0m 22ms/step - accuracy: 0.9579 - loss: 0.0942 - val_accuracy: 0.9307 - val_loss: 0.1906\n",
      "Epoch 17/200\n",
      "\u001b[1m484/484\u001b[0m \u001b[32m━━━━━━━━━━━━━━━━━━━━\u001b[0m\u001b[37m\u001b[0m \u001b[1m9s\u001b[0m 20ms/step - accuracy: 0.9606 - loss: 0.0963 - val_accuracy: 0.9257 - val_loss: 0.1998\n",
      "\u001b[1m259/259\u001b[0m \u001b[32m━━━━━━━━━━━━━━━━━━━━\u001b[0m\u001b[37m\u001b[0m \u001b[1m1s\u001b[0m 5ms/step - accuracy: 0.9281 - loss: 0.1980\n",
      "CNN Accuracy: 0.9283902645111084\n",
      "Epoch 1/200\n",
      "\u001b[1m484/484\u001b[0m \u001b[32m━━━━━━━━━━━━━━━━━━━━\u001b[0m\u001b[37m\u001b[0m \u001b[1m146s\u001b[0m 289ms/step - accuracy: 0.8012 - loss: 231804352.0000 - val_accuracy: 0.8173 - val_loss: 0.4955\n",
      "Epoch 2/200\n",
      "\u001b[1m484/484\u001b[0m \u001b[32m━━━━━━━━━━━━━━━━━━━━\u001b[0m\u001b[37m\u001b[0m \u001b[1m126s\u001b[0m 259ms/step - accuracy: 0.8136 - loss: 0.5026 - val_accuracy: 0.8173 - val_loss: 0.4954\n",
      "Epoch 3/200\n",
      "\u001b[1m484/484\u001b[0m \u001b[32m━━━━━━━━━━━━━━━━━━━━\u001b[0m\u001b[37m\u001b[0m \u001b[1m139s\u001b[0m 288ms/step - accuracy: 0.8142 - loss: 0.5016 - val_accuracy: 0.8173 - val_loss: 0.4952\n",
      "Epoch 4/200\n",
      "\u001b[1m484/484\u001b[0m \u001b[32m━━━━━━━━━━━━━━━━━━━━\u001b[0m\u001b[37m\u001b[0m \u001b[1m143s\u001b[0m 296ms/step - accuracy: 0.8169 - loss: 0.4968 - val_accuracy: 0.8173 - val_loss: 0.4949\n",
      "Epoch 5/200\n",
      "\u001b[1m484/484\u001b[0m \u001b[32m━━━━━━━━━━━━━━━━━━━━\u001b[0m\u001b[37m\u001b[0m \u001b[1m118s\u001b[0m 244ms/step - accuracy: 0.8173 - loss: 0.4972 - val_accuracy: 0.8173 - val_loss: 0.4946\n",
      "Epoch 6/200\n",
      "\u001b[1m484/484\u001b[0m \u001b[32m━━━━━━━━━━━━━━━━━━━━\u001b[0m\u001b[37m\u001b[0m \u001b[1m121s\u001b[0m 250ms/step - accuracy: 0.8146 - loss: 0.5004 - val_accuracy: 0.8173 - val_loss: 0.4941\n",
      "Epoch 7/200\n",
      "\u001b[1m484/484\u001b[0m \u001b[32m━━━━━━━━━━━━━━━━━━━━\u001b[0m\u001b[37m\u001b[0m \u001b[1m140s\u001b[0m 290ms/step - accuracy: 0.8151 - loss: 0.4991 - val_accuracy: 0.8173 - val_loss: 0.4937\n",
      "Epoch 8/200\n",
      "\u001b[1m363/484\u001b[0m \u001b[32m━━━━━━━━━━━━━━━\u001b[0m\u001b[37m━━━━━\u001b[0m \u001b[1m31s\u001b[0m 259ms/step - accuracy: 0.8108 - loss: 0.5048"
     ]
    },
    {
     "ename": "KeyboardInterrupt",
     "evalue": "",
     "output_type": "error",
     "traceback": [
      "\u001b[1;31m---------------------------------------------------------------------------\u001b[0m",
      "\u001b[1;31mKeyboardInterrupt\u001b[0m                         Traceback (most recent call last)",
      "Cell \u001b[1;32mIn[163], line 13\u001b[0m\n\u001b[0;32m     11\u001b[0m X_train_lstm \u001b[38;5;241m=\u001b[39m X_train_scaled\u001b[38;5;241m.\u001b[39mreshape((X_train_scaled\u001b[38;5;241m.\u001b[39mshape[\u001b[38;5;241m0\u001b[39m], X_train_scaled\u001b[38;5;241m.\u001b[39mshape[\u001b[38;5;241m1\u001b[39m], \u001b[38;5;241m1\u001b[39m))\n\u001b[0;32m     12\u001b[0m X_test_lstm \u001b[38;5;241m=\u001b[39m X_test_scaled\u001b[38;5;241m.\u001b[39mreshape((X_test_scaled\u001b[38;5;241m.\u001b[39mshape[\u001b[38;5;241m0\u001b[39m], X_test_scaled\u001b[38;5;241m.\u001b[39mshape[\u001b[38;5;241m1\u001b[39m], \u001b[38;5;241m1\u001b[39m))\n\u001b[1;32m---> 13\u001b[0m \u001b[43mlstm_model\u001b[49m\u001b[38;5;241;43m.\u001b[39;49m\u001b[43mfit\u001b[49m\u001b[43m(\u001b[49m\u001b[43mX_train_lstm\u001b[49m\u001b[43m,\u001b[49m\u001b[43m \u001b[49m\u001b[43my_train\u001b[49m\u001b[43m,\u001b[49m\u001b[43m \u001b[49m\u001b[43mepochs\u001b[49m\u001b[38;5;241;43m=\u001b[39;49m\u001b[38;5;241;43m200\u001b[39;49m\u001b[43m,\u001b[49m\u001b[43m \u001b[49m\u001b[43mbatch_size\u001b[49m\u001b[38;5;241;43m=\u001b[39;49m\u001b[38;5;241;43m32\u001b[39;49m\u001b[43m,\u001b[49m\u001b[43m \u001b[49m\u001b[43mvalidation_split\u001b[49m\u001b[38;5;241;43m=\u001b[39;49m\u001b[38;5;241;43m0.2\u001b[39;49m\u001b[43m,\u001b[49m\u001b[43m \u001b[49m\u001b[43mcallbacks\u001b[49m\u001b[38;5;241;43m=\u001b[39;49m\u001b[43m[\u001b[49m\u001b[43mtf\u001b[49m\u001b[38;5;241;43m.\u001b[39;49m\u001b[43mkeras\u001b[49m\u001b[38;5;241;43m.\u001b[39;49m\u001b[43mcallbacks\u001b[49m\u001b[38;5;241;43m.\u001b[39;49m\u001b[43mEarlyStopping\u001b[49m\u001b[43m(\u001b[49m\u001b[43mpatience\u001b[49m\u001b[38;5;241;43m=\u001b[39;49m\u001b[38;5;241;43m10\u001b[39;49m\u001b[43m)\u001b[49m\u001b[43m]\u001b[49m\u001b[43m)\u001b[49m\n\u001b[0;32m     14\u001b[0m lstm_accuracy \u001b[38;5;241m=\u001b[39m lstm_model\u001b[38;5;241m.\u001b[39mevaluate(X_test_lstm, y_test)[\u001b[38;5;241m1\u001b[39m]\n\u001b[0;32m     15\u001b[0m \u001b[38;5;28mprint\u001b[39m(\u001b[38;5;124mf\u001b[39m\u001b[38;5;124m\"\u001b[39m\u001b[38;5;124mLSTM Accuracy: \u001b[39m\u001b[38;5;132;01m{\u001b[39;00mlstm_accuracy\u001b[38;5;132;01m}\u001b[39;00m\u001b[38;5;124m\"\u001b[39m)\n",
      "File \u001b[1;32mc:\\Users\\ldb76\\AppData\\Local\\Programs\\Python\\Python311\\Lib\\site-packages\\keras\\src\\utils\\traceback_utils.py:117\u001b[0m, in \u001b[0;36mfilter_traceback.<locals>.error_handler\u001b[1;34m(*args, **kwargs)\u001b[0m\n\u001b[0;32m    115\u001b[0m filtered_tb \u001b[38;5;241m=\u001b[39m \u001b[38;5;28;01mNone\u001b[39;00m\n\u001b[0;32m    116\u001b[0m \u001b[38;5;28;01mtry\u001b[39;00m:\n\u001b[1;32m--> 117\u001b[0m     \u001b[38;5;28;01mreturn\u001b[39;00m \u001b[43mfn\u001b[49m\u001b[43m(\u001b[49m\u001b[38;5;241;43m*\u001b[39;49m\u001b[43margs\u001b[49m\u001b[43m,\u001b[49m\u001b[43m \u001b[49m\u001b[38;5;241;43m*\u001b[39;49m\u001b[38;5;241;43m*\u001b[39;49m\u001b[43mkwargs\u001b[49m\u001b[43m)\u001b[49m\n\u001b[0;32m    118\u001b[0m \u001b[38;5;28;01mexcept\u001b[39;00m \u001b[38;5;167;01mException\u001b[39;00m \u001b[38;5;28;01mas\u001b[39;00m e:\n\u001b[0;32m    119\u001b[0m     filtered_tb \u001b[38;5;241m=\u001b[39m _process_traceback_frames(e\u001b[38;5;241m.\u001b[39m__traceback__)\n",
      "File \u001b[1;32mc:\\Users\\ldb76\\AppData\\Local\\Programs\\Python\\Python311\\Lib\\site-packages\\keras\\src\\backend\\tensorflow\\trainer.py:320\u001b[0m, in \u001b[0;36mTensorFlowTrainer.fit\u001b[1;34m(self, x, y, batch_size, epochs, verbose, callbacks, validation_split, validation_data, shuffle, class_weight, sample_weight, initial_epoch, steps_per_epoch, validation_steps, validation_batch_size, validation_freq)\u001b[0m\n\u001b[0;32m    318\u001b[0m \u001b[38;5;28;01mfor\u001b[39;00m step, iterator \u001b[38;5;129;01min\u001b[39;00m epoch_iterator\u001b[38;5;241m.\u001b[39menumerate_epoch():\n\u001b[0;32m    319\u001b[0m     callbacks\u001b[38;5;241m.\u001b[39mon_train_batch_begin(step)\n\u001b[1;32m--> 320\u001b[0m     logs \u001b[38;5;241m=\u001b[39m \u001b[38;5;28;43mself\u001b[39;49m\u001b[38;5;241;43m.\u001b[39;49m\u001b[43mtrain_function\u001b[49m\u001b[43m(\u001b[49m\u001b[43miterator\u001b[49m\u001b[43m)\u001b[49m\n\u001b[0;32m    321\u001b[0m     logs \u001b[38;5;241m=\u001b[39m \u001b[38;5;28mself\u001b[39m\u001b[38;5;241m.\u001b[39m_pythonify_logs(logs)\n\u001b[0;32m    322\u001b[0m     callbacks\u001b[38;5;241m.\u001b[39mon_train_batch_end(step, logs)\n",
      "File \u001b[1;32mc:\\Users\\ldb76\\AppData\\Local\\Programs\\Python\\Python311\\Lib\\site-packages\\tensorflow\\python\\util\\traceback_utils.py:150\u001b[0m, in \u001b[0;36mfilter_traceback.<locals>.error_handler\u001b[1;34m(*args, **kwargs)\u001b[0m\n\u001b[0;32m    148\u001b[0m filtered_tb \u001b[38;5;241m=\u001b[39m \u001b[38;5;28;01mNone\u001b[39;00m\n\u001b[0;32m    149\u001b[0m \u001b[38;5;28;01mtry\u001b[39;00m:\n\u001b[1;32m--> 150\u001b[0m   \u001b[38;5;28;01mreturn\u001b[39;00m \u001b[43mfn\u001b[49m\u001b[43m(\u001b[49m\u001b[38;5;241;43m*\u001b[39;49m\u001b[43margs\u001b[49m\u001b[43m,\u001b[49m\u001b[43m \u001b[49m\u001b[38;5;241;43m*\u001b[39;49m\u001b[38;5;241;43m*\u001b[39;49m\u001b[43mkwargs\u001b[49m\u001b[43m)\u001b[49m\n\u001b[0;32m    151\u001b[0m \u001b[38;5;28;01mexcept\u001b[39;00m \u001b[38;5;167;01mException\u001b[39;00m \u001b[38;5;28;01mas\u001b[39;00m e:\n\u001b[0;32m    152\u001b[0m   filtered_tb \u001b[38;5;241m=\u001b[39m _process_traceback_frames(e\u001b[38;5;241m.\u001b[39m__traceback__)\n",
      "File \u001b[1;32mc:\\Users\\ldb76\\AppData\\Local\\Programs\\Python\\Python311\\Lib\\site-packages\\tensorflow\\python\\eager\\polymorphic_function\\polymorphic_function.py:833\u001b[0m, in \u001b[0;36mFunction.__call__\u001b[1;34m(self, *args, **kwds)\u001b[0m\n\u001b[0;32m    830\u001b[0m compiler \u001b[38;5;241m=\u001b[39m \u001b[38;5;124m\"\u001b[39m\u001b[38;5;124mxla\u001b[39m\u001b[38;5;124m\"\u001b[39m \u001b[38;5;28;01mif\u001b[39;00m \u001b[38;5;28mself\u001b[39m\u001b[38;5;241m.\u001b[39m_jit_compile \u001b[38;5;28;01melse\u001b[39;00m \u001b[38;5;124m\"\u001b[39m\u001b[38;5;124mnonXla\u001b[39m\u001b[38;5;124m\"\u001b[39m\n\u001b[0;32m    832\u001b[0m \u001b[38;5;28;01mwith\u001b[39;00m OptionalXlaContext(\u001b[38;5;28mself\u001b[39m\u001b[38;5;241m.\u001b[39m_jit_compile):\n\u001b[1;32m--> 833\u001b[0m   result \u001b[38;5;241m=\u001b[39m \u001b[38;5;28;43mself\u001b[39;49m\u001b[38;5;241;43m.\u001b[39;49m\u001b[43m_call\u001b[49m\u001b[43m(\u001b[49m\u001b[38;5;241;43m*\u001b[39;49m\u001b[43margs\u001b[49m\u001b[43m,\u001b[49m\u001b[43m \u001b[49m\u001b[38;5;241;43m*\u001b[39;49m\u001b[38;5;241;43m*\u001b[39;49m\u001b[43mkwds\u001b[49m\u001b[43m)\u001b[49m\n\u001b[0;32m    835\u001b[0m new_tracing_count \u001b[38;5;241m=\u001b[39m \u001b[38;5;28mself\u001b[39m\u001b[38;5;241m.\u001b[39mexperimental_get_tracing_count()\n\u001b[0;32m    836\u001b[0m without_tracing \u001b[38;5;241m=\u001b[39m (tracing_count \u001b[38;5;241m==\u001b[39m new_tracing_count)\n",
      "File \u001b[1;32mc:\\Users\\ldb76\\AppData\\Local\\Programs\\Python\\Python311\\Lib\\site-packages\\tensorflow\\python\\eager\\polymorphic_function\\polymorphic_function.py:878\u001b[0m, in \u001b[0;36mFunction._call\u001b[1;34m(self, *args, **kwds)\u001b[0m\n\u001b[0;32m    875\u001b[0m \u001b[38;5;28mself\u001b[39m\u001b[38;5;241m.\u001b[39m_lock\u001b[38;5;241m.\u001b[39mrelease()\n\u001b[0;32m    876\u001b[0m \u001b[38;5;66;03m# In this case we have not created variables on the first call. So we can\u001b[39;00m\n\u001b[0;32m    877\u001b[0m \u001b[38;5;66;03m# run the first trace but we should fail if variables are created.\u001b[39;00m\n\u001b[1;32m--> 878\u001b[0m results \u001b[38;5;241m=\u001b[39m \u001b[43mtracing_compilation\u001b[49m\u001b[38;5;241;43m.\u001b[39;49m\u001b[43mcall_function\u001b[49m\u001b[43m(\u001b[49m\n\u001b[0;32m    879\u001b[0m \u001b[43m    \u001b[49m\u001b[43margs\u001b[49m\u001b[43m,\u001b[49m\u001b[43m \u001b[49m\u001b[43mkwds\u001b[49m\u001b[43m,\u001b[49m\u001b[43m \u001b[49m\u001b[38;5;28;43mself\u001b[39;49m\u001b[38;5;241;43m.\u001b[39;49m\u001b[43m_variable_creation_config\u001b[49m\n\u001b[0;32m    880\u001b[0m \u001b[43m\u001b[49m\u001b[43m)\u001b[49m\n\u001b[0;32m    881\u001b[0m \u001b[38;5;28;01mif\u001b[39;00m \u001b[38;5;28mself\u001b[39m\u001b[38;5;241m.\u001b[39m_created_variables:\n\u001b[0;32m    882\u001b[0m   \u001b[38;5;28;01mraise\u001b[39;00m \u001b[38;5;167;01mValueError\u001b[39;00m(\u001b[38;5;124m\"\u001b[39m\u001b[38;5;124mCreating variables on a non-first call to a function\u001b[39m\u001b[38;5;124m\"\u001b[39m\n\u001b[0;32m    883\u001b[0m                    \u001b[38;5;124m\"\u001b[39m\u001b[38;5;124m decorated with tf.function.\u001b[39m\u001b[38;5;124m\"\u001b[39m)\n",
      "File \u001b[1;32mc:\\Users\\ldb76\\AppData\\Local\\Programs\\Python\\Python311\\Lib\\site-packages\\tensorflow\\python\\eager\\polymorphic_function\\tracing_compilation.py:139\u001b[0m, in \u001b[0;36mcall_function\u001b[1;34m(args, kwargs, tracing_options)\u001b[0m\n\u001b[0;32m    137\u001b[0m bound_args \u001b[38;5;241m=\u001b[39m function\u001b[38;5;241m.\u001b[39mfunction_type\u001b[38;5;241m.\u001b[39mbind(\u001b[38;5;241m*\u001b[39margs, \u001b[38;5;241m*\u001b[39m\u001b[38;5;241m*\u001b[39mkwargs)\n\u001b[0;32m    138\u001b[0m flat_inputs \u001b[38;5;241m=\u001b[39m function\u001b[38;5;241m.\u001b[39mfunction_type\u001b[38;5;241m.\u001b[39munpack_inputs(bound_args)\n\u001b[1;32m--> 139\u001b[0m \u001b[38;5;28;01mreturn\u001b[39;00m \u001b[43mfunction\u001b[49m\u001b[38;5;241;43m.\u001b[39;49m\u001b[43m_call_flat\u001b[49m\u001b[43m(\u001b[49m\u001b[43m  \u001b[49m\u001b[38;5;66;43;03m# pylint: disable=protected-access\u001b[39;49;00m\n\u001b[0;32m    140\u001b[0m \u001b[43m    \u001b[49m\u001b[43mflat_inputs\u001b[49m\u001b[43m,\u001b[49m\u001b[43m \u001b[49m\u001b[43mcaptured_inputs\u001b[49m\u001b[38;5;241;43m=\u001b[39;49m\u001b[43mfunction\u001b[49m\u001b[38;5;241;43m.\u001b[39;49m\u001b[43mcaptured_inputs\u001b[49m\n\u001b[0;32m    141\u001b[0m \u001b[43m\u001b[49m\u001b[43m)\u001b[49m\n",
      "File \u001b[1;32mc:\\Users\\ldb76\\AppData\\Local\\Programs\\Python\\Python311\\Lib\\site-packages\\tensorflow\\python\\eager\\polymorphic_function\\concrete_function.py:1322\u001b[0m, in \u001b[0;36mConcreteFunction._call_flat\u001b[1;34m(self, tensor_inputs, captured_inputs)\u001b[0m\n\u001b[0;32m   1318\u001b[0m possible_gradient_type \u001b[38;5;241m=\u001b[39m gradients_util\u001b[38;5;241m.\u001b[39mPossibleTapeGradientTypes(args)\n\u001b[0;32m   1319\u001b[0m \u001b[38;5;28;01mif\u001b[39;00m (possible_gradient_type \u001b[38;5;241m==\u001b[39m gradients_util\u001b[38;5;241m.\u001b[39mPOSSIBLE_GRADIENT_TYPES_NONE\n\u001b[0;32m   1320\u001b[0m     \u001b[38;5;129;01mand\u001b[39;00m executing_eagerly):\n\u001b[0;32m   1321\u001b[0m   \u001b[38;5;66;03m# No tape is watching; skip to running the function.\u001b[39;00m\n\u001b[1;32m-> 1322\u001b[0m   \u001b[38;5;28;01mreturn\u001b[39;00m \u001b[38;5;28;43mself\u001b[39;49m\u001b[38;5;241;43m.\u001b[39;49m\u001b[43m_inference_function\u001b[49m\u001b[38;5;241;43m.\u001b[39;49m\u001b[43mcall_preflattened\u001b[49m\u001b[43m(\u001b[49m\u001b[43margs\u001b[49m\u001b[43m)\u001b[49m\n\u001b[0;32m   1323\u001b[0m forward_backward \u001b[38;5;241m=\u001b[39m \u001b[38;5;28mself\u001b[39m\u001b[38;5;241m.\u001b[39m_select_forward_and_backward_functions(\n\u001b[0;32m   1324\u001b[0m     args,\n\u001b[0;32m   1325\u001b[0m     possible_gradient_type,\n\u001b[0;32m   1326\u001b[0m     executing_eagerly)\n\u001b[0;32m   1327\u001b[0m forward_function, args_with_tangents \u001b[38;5;241m=\u001b[39m forward_backward\u001b[38;5;241m.\u001b[39mforward()\n",
      "File \u001b[1;32mc:\\Users\\ldb76\\AppData\\Local\\Programs\\Python\\Python311\\Lib\\site-packages\\tensorflow\\python\\eager\\polymorphic_function\\atomic_function.py:216\u001b[0m, in \u001b[0;36mAtomicFunction.call_preflattened\u001b[1;34m(self, args)\u001b[0m\n\u001b[0;32m    214\u001b[0m \u001b[38;5;28;01mdef\u001b[39;00m \u001b[38;5;21mcall_preflattened\u001b[39m(\u001b[38;5;28mself\u001b[39m, args: Sequence[core\u001b[38;5;241m.\u001b[39mTensor]) \u001b[38;5;241m-\u001b[39m\u001b[38;5;241m>\u001b[39m Any:\n\u001b[0;32m    215\u001b[0m \u001b[38;5;250m  \u001b[39m\u001b[38;5;124;03m\"\"\"Calls with flattened tensor inputs and returns the structured output.\"\"\"\u001b[39;00m\n\u001b[1;32m--> 216\u001b[0m   flat_outputs \u001b[38;5;241m=\u001b[39m \u001b[38;5;28;43mself\u001b[39;49m\u001b[38;5;241;43m.\u001b[39;49m\u001b[43mcall_flat\u001b[49m\u001b[43m(\u001b[49m\u001b[38;5;241;43m*\u001b[39;49m\u001b[43margs\u001b[49m\u001b[43m)\u001b[49m\n\u001b[0;32m    217\u001b[0m   \u001b[38;5;28;01mreturn\u001b[39;00m \u001b[38;5;28mself\u001b[39m\u001b[38;5;241m.\u001b[39mfunction_type\u001b[38;5;241m.\u001b[39mpack_output(flat_outputs)\n",
      "File \u001b[1;32mc:\\Users\\ldb76\\AppData\\Local\\Programs\\Python\\Python311\\Lib\\site-packages\\tensorflow\\python\\eager\\polymorphic_function\\atomic_function.py:251\u001b[0m, in \u001b[0;36mAtomicFunction.call_flat\u001b[1;34m(self, *args)\u001b[0m\n\u001b[0;32m    249\u001b[0m \u001b[38;5;28;01mwith\u001b[39;00m record\u001b[38;5;241m.\u001b[39mstop_recording():\n\u001b[0;32m    250\u001b[0m   \u001b[38;5;28;01mif\u001b[39;00m \u001b[38;5;28mself\u001b[39m\u001b[38;5;241m.\u001b[39m_bound_context\u001b[38;5;241m.\u001b[39mexecuting_eagerly():\n\u001b[1;32m--> 251\u001b[0m     outputs \u001b[38;5;241m=\u001b[39m \u001b[38;5;28;43mself\u001b[39;49m\u001b[38;5;241;43m.\u001b[39;49m\u001b[43m_bound_context\u001b[49m\u001b[38;5;241;43m.\u001b[39;49m\u001b[43mcall_function\u001b[49m\u001b[43m(\u001b[49m\n\u001b[0;32m    252\u001b[0m \u001b[43m        \u001b[49m\u001b[38;5;28;43mself\u001b[39;49m\u001b[38;5;241;43m.\u001b[39;49m\u001b[43mname\u001b[49m\u001b[43m,\u001b[49m\n\u001b[0;32m    253\u001b[0m \u001b[43m        \u001b[49m\u001b[38;5;28;43mlist\u001b[39;49m\u001b[43m(\u001b[49m\u001b[43margs\u001b[49m\u001b[43m)\u001b[49m\u001b[43m,\u001b[49m\n\u001b[0;32m    254\u001b[0m \u001b[43m        \u001b[49m\u001b[38;5;28;43mlen\u001b[39;49m\u001b[43m(\u001b[49m\u001b[38;5;28;43mself\u001b[39;49m\u001b[38;5;241;43m.\u001b[39;49m\u001b[43mfunction_type\u001b[49m\u001b[38;5;241;43m.\u001b[39;49m\u001b[43mflat_outputs\u001b[49m\u001b[43m)\u001b[49m\u001b[43m,\u001b[49m\n\u001b[0;32m    255\u001b[0m \u001b[43m    \u001b[49m\u001b[43m)\u001b[49m\n\u001b[0;32m    256\u001b[0m   \u001b[38;5;28;01melse\u001b[39;00m:\n\u001b[0;32m    257\u001b[0m     outputs \u001b[38;5;241m=\u001b[39m make_call_op_in_graph(\n\u001b[0;32m    258\u001b[0m         \u001b[38;5;28mself\u001b[39m,\n\u001b[0;32m    259\u001b[0m         \u001b[38;5;28mlist\u001b[39m(args),\n\u001b[0;32m    260\u001b[0m         \u001b[38;5;28mself\u001b[39m\u001b[38;5;241m.\u001b[39m_bound_context\u001b[38;5;241m.\u001b[39mfunction_call_options\u001b[38;5;241m.\u001b[39mas_attrs(),\n\u001b[0;32m    261\u001b[0m     )\n",
      "File \u001b[1;32mc:\\Users\\ldb76\\AppData\\Local\\Programs\\Python\\Python311\\Lib\\site-packages\\tensorflow\\python\\eager\\context.py:1552\u001b[0m, in \u001b[0;36mContext.call_function\u001b[1;34m(self, name, tensor_inputs, num_outputs)\u001b[0m\n\u001b[0;32m   1550\u001b[0m cancellation_context \u001b[38;5;241m=\u001b[39m cancellation\u001b[38;5;241m.\u001b[39mcontext()\n\u001b[0;32m   1551\u001b[0m \u001b[38;5;28;01mif\u001b[39;00m cancellation_context \u001b[38;5;129;01mis\u001b[39;00m \u001b[38;5;28;01mNone\u001b[39;00m:\n\u001b[1;32m-> 1552\u001b[0m   outputs \u001b[38;5;241m=\u001b[39m \u001b[43mexecute\u001b[49m\u001b[38;5;241;43m.\u001b[39;49m\u001b[43mexecute\u001b[49m\u001b[43m(\u001b[49m\n\u001b[0;32m   1553\u001b[0m \u001b[43m      \u001b[49m\u001b[43mname\u001b[49m\u001b[38;5;241;43m.\u001b[39;49m\u001b[43mdecode\u001b[49m\u001b[43m(\u001b[49m\u001b[38;5;124;43m\"\u001b[39;49m\u001b[38;5;124;43mutf-8\u001b[39;49m\u001b[38;5;124;43m\"\u001b[39;49m\u001b[43m)\u001b[49m\u001b[43m,\u001b[49m\n\u001b[0;32m   1554\u001b[0m \u001b[43m      \u001b[49m\u001b[43mnum_outputs\u001b[49m\u001b[38;5;241;43m=\u001b[39;49m\u001b[43mnum_outputs\u001b[49m\u001b[43m,\u001b[49m\n\u001b[0;32m   1555\u001b[0m \u001b[43m      \u001b[49m\u001b[43minputs\u001b[49m\u001b[38;5;241;43m=\u001b[39;49m\u001b[43mtensor_inputs\u001b[49m\u001b[43m,\u001b[49m\n\u001b[0;32m   1556\u001b[0m \u001b[43m      \u001b[49m\u001b[43mattrs\u001b[49m\u001b[38;5;241;43m=\u001b[39;49m\u001b[43mattrs\u001b[49m\u001b[43m,\u001b[49m\n\u001b[0;32m   1557\u001b[0m \u001b[43m      \u001b[49m\u001b[43mctx\u001b[49m\u001b[38;5;241;43m=\u001b[39;49m\u001b[38;5;28;43mself\u001b[39;49m\u001b[43m,\u001b[49m\n\u001b[0;32m   1558\u001b[0m \u001b[43m  \u001b[49m\u001b[43m)\u001b[49m\n\u001b[0;32m   1559\u001b[0m \u001b[38;5;28;01melse\u001b[39;00m:\n\u001b[0;32m   1560\u001b[0m   outputs \u001b[38;5;241m=\u001b[39m execute\u001b[38;5;241m.\u001b[39mexecute_with_cancellation(\n\u001b[0;32m   1561\u001b[0m       name\u001b[38;5;241m.\u001b[39mdecode(\u001b[38;5;124m\"\u001b[39m\u001b[38;5;124mutf-8\u001b[39m\u001b[38;5;124m\"\u001b[39m),\n\u001b[0;32m   1562\u001b[0m       num_outputs\u001b[38;5;241m=\u001b[39mnum_outputs,\n\u001b[1;32m   (...)\u001b[0m\n\u001b[0;32m   1566\u001b[0m       cancellation_manager\u001b[38;5;241m=\u001b[39mcancellation_context,\n\u001b[0;32m   1567\u001b[0m   )\n",
      "File \u001b[1;32mc:\\Users\\ldb76\\AppData\\Local\\Programs\\Python\\Python311\\Lib\\site-packages\\tensorflow\\python\\eager\\execute.py:53\u001b[0m, in \u001b[0;36mquick_execute\u001b[1;34m(op_name, num_outputs, inputs, attrs, ctx, name)\u001b[0m\n\u001b[0;32m     51\u001b[0m \u001b[38;5;28;01mtry\u001b[39;00m:\n\u001b[0;32m     52\u001b[0m   ctx\u001b[38;5;241m.\u001b[39mensure_initialized()\n\u001b[1;32m---> 53\u001b[0m   tensors \u001b[38;5;241m=\u001b[39m \u001b[43mpywrap_tfe\u001b[49m\u001b[38;5;241;43m.\u001b[39;49m\u001b[43mTFE_Py_Execute\u001b[49m\u001b[43m(\u001b[49m\u001b[43mctx\u001b[49m\u001b[38;5;241;43m.\u001b[39;49m\u001b[43m_handle\u001b[49m\u001b[43m,\u001b[49m\u001b[43m \u001b[49m\u001b[43mdevice_name\u001b[49m\u001b[43m,\u001b[49m\u001b[43m \u001b[49m\u001b[43mop_name\u001b[49m\u001b[43m,\u001b[49m\n\u001b[0;32m     54\u001b[0m \u001b[43m                                      \u001b[49m\u001b[43minputs\u001b[49m\u001b[43m,\u001b[49m\u001b[43m \u001b[49m\u001b[43mattrs\u001b[49m\u001b[43m,\u001b[49m\u001b[43m \u001b[49m\u001b[43mnum_outputs\u001b[49m\u001b[43m)\u001b[49m\n\u001b[0;32m     55\u001b[0m \u001b[38;5;28;01mexcept\u001b[39;00m core\u001b[38;5;241m.\u001b[39m_NotOkStatusException \u001b[38;5;28;01mas\u001b[39;00m e:\n\u001b[0;32m     56\u001b[0m   \u001b[38;5;28;01mif\u001b[39;00m name \u001b[38;5;129;01mis\u001b[39;00m \u001b[38;5;129;01mnot\u001b[39;00m \u001b[38;5;28;01mNone\u001b[39;00m:\n",
      "\u001b[1;31mKeyboardInterrupt\u001b[0m: "
     ]
    }
   ],
   "source": [
    "# 딥러닝 모형 학습 및 평가\n",
    "\n",
    "# CNN 학습 및 평가\n",
    "X_train_cnn = X_train_scaled.reshape((X_train_scaled.shape[0], X_train_scaled.shape[1], 1, 1))\n",
    "X_test_cnn = X_test_scaled.reshape((X_test_scaled.shape[0], X_test_scaled.shape[1], 1, 1))\n",
    "cnn_model.fit(X_train_cnn, y_train, epochs=200, batch_size=32, validation_split=0.2, callbacks=[tf.keras.callbacks.EarlyStopping(patience=10)])\n",
    "cnn_accuracy = cnn_model.evaluate(X_test_cnn, y_test)[1]\n",
    "print(f\"CNN Accuracy: {cnn_accuracy}\")\n",
    "\n",
    "# RNN-LSTM 학습 및 평가\n",
    "X_train_lstm = X_train_scaled.reshape((X_train_scaled.shape[0], X_train_scaled.shape[1], 1))\n",
    "X_test_lstm = X_test_scaled.reshape((X_test_scaled.shape[0], X_test_scaled.shape[1], 1))\n",
    "lstm_model.fit(X_train_lstm, y_train, epochs=200, batch_size=32, validation_split=0.2, callbacks=[tf.keras.callbacks.EarlyStopping(patience=10)])\n",
    "lstm_accuracy = lstm_model.evaluate(X_test_lstm, y_test)[1]\n",
    "print(f\"LSTM Accuracy: {lstm_accuracy}\")\n",
    "\n",
    "# RNN-GRU 학습 및 평가\n",
    "gru_model.fit(X_train_lstm, y_train, epochs=200, batch_size=32, validation_split=0.2, callbacks=[tf.keras.callbacks.EarlyStopping(patience=10)])\n",
    "gru_accuracy = gru_model.evaluate(X_test_lstm, y_test)[1]\n",
    "print(f\"GRU Accuracy: {gru_accuracy}\")"
   ]
  },
  {
   "cell_type": "code",
   "execution_count": null,
   "metadata": {},
   "outputs": [],
   "source": [
    "print(f\"Deep Learning Models: CNN, LSTM, GRU\")\n",
    "print(f\"CNN Accuracy: {cnn_accuracy}\")\n",
    "print(f\"LSTM Accuracy: {lstm_accuracy}\")\n",
    "print(f\"GRU Accuracy: {gru_accuracy}\")"
   ]
  },
  {
   "cell_type": "code",
   "execution_count": null,
   "metadata": {},
   "outputs": [],
   "source": []
  },
  {
   "cell_type": "code",
   "execution_count": 164,
   "metadata": {},
   "outputs": [
    {
     "name": "stdout",
     "output_type": "stream",
     "text": [
      "Epoch 1/200\n",
      "\u001b[1m484/484\u001b[0m \u001b[32m━━━━━━━━━━━━━━━━━━━━\u001b[0m\u001b[37m\u001b[0m \u001b[1m11s\u001b[0m 21ms/step - accuracy: 0.9610 - loss: 0.0903 - val_accuracy: 0.9288 - val_loss: 0.2030\n",
      "Epoch 2/200\n",
      "\u001b[1m484/484\u001b[0m \u001b[32m━━━━━━━━━━━━━━━━━━━━\u001b[0m\u001b[37m\u001b[0m \u001b[1m10s\u001b[0m 21ms/step - accuracy: 0.9652 - loss: 0.0833 - val_accuracy: 0.9263 - val_loss: 0.2135\n",
      "Epoch 3/200\n",
      "\u001b[1m484/484\u001b[0m \u001b[32m━━━━━━━━━━━━━━━━━━━━\u001b[0m\u001b[37m\u001b[0m \u001b[1m10s\u001b[0m 21ms/step - accuracy: 0.9661 - loss: 0.0865 - val_accuracy: 0.9216 - val_loss: 0.2435\n",
      "Epoch 4/200\n",
      "\u001b[1m484/484\u001b[0m \u001b[32m━━━━━━━━━━━━━━━━━━━━\u001b[0m\u001b[37m\u001b[0m \u001b[1m11s\u001b[0m 22ms/step - accuracy: 0.9650 - loss: 0.0831 - val_accuracy: 0.9283 - val_loss: 0.2302\n",
      "Epoch 5/200\n",
      "\u001b[1m484/484\u001b[0m \u001b[32m━━━━━━━━━━━━━━━━━━━━\u001b[0m\u001b[37m\u001b[0m \u001b[1m10s\u001b[0m 21ms/step - accuracy: 0.9664 - loss: 0.0798 - val_accuracy: 0.9288 - val_loss: 0.2269\n",
      "Epoch 6/200\n",
      "\u001b[1m484/484\u001b[0m \u001b[32m━━━━━━━━━━━━━━━━━━━━\u001b[0m\u001b[37m\u001b[0m \u001b[1m11s\u001b[0m 23ms/step - accuracy: 0.9692 - loss: 0.0768 - val_accuracy: 0.9252 - val_loss: 0.2433\n",
      "Epoch 7/200\n",
      "\u001b[1m484/484\u001b[0m \u001b[32m━━━━━━━━━━━━━━━━━━━━\u001b[0m\u001b[37m\u001b[0m \u001b[1m12s\u001b[0m 24ms/step - accuracy: 0.9674 - loss: 0.0760 - val_accuracy: 0.9255 - val_loss: 0.2343\n",
      "Epoch 8/200\n",
      "\u001b[1m484/484\u001b[0m \u001b[32m━━━━━━━━━━━━━━━━━━━━\u001b[0m\u001b[37m\u001b[0m \u001b[1m11s\u001b[0m 22ms/step - accuracy: 0.9710 - loss: 0.0683 - val_accuracy: 0.9268 - val_loss: 0.2527\n",
      "Epoch 9/200\n",
      "\u001b[1m484/484\u001b[0m \u001b[32m━━━━━━━━━━━━━━━━━━━━\u001b[0m\u001b[37m\u001b[0m \u001b[1m10s\u001b[0m 20ms/step - accuracy: 0.9705 - loss: 0.0718 - val_accuracy: 0.9281 - val_loss: 0.2433\n",
      "Epoch 10/200\n",
      "\u001b[1m484/484\u001b[0m \u001b[32m━━━━━━━━━━━━━━━━━━━━\u001b[0m\u001b[37m\u001b[0m \u001b[1m11s\u001b[0m 22ms/step - accuracy: 0.9717 - loss: 0.0684 - val_accuracy: 0.9247 - val_loss: 0.2569\n",
      "Epoch 11/200\n",
      "\u001b[1m484/484\u001b[0m \u001b[32m━━━━━━━━━━━━━━━━━━━━\u001b[0m\u001b[37m\u001b[0m \u001b[1m11s\u001b[0m 22ms/step - accuracy: 0.9711 - loss: 0.0673 - val_accuracy: 0.9229 - val_loss: 0.2615\n",
      "\u001b[1m259/259\u001b[0m \u001b[32m━━━━━━━━━━━━━━━━━━━━\u001b[0m\u001b[37m\u001b[0m \u001b[1m2s\u001b[0m 8ms/step - accuracy: 0.9314 - loss: 0.2475\n",
      "CNN Accuracy: 0.9320130348205566\n",
      "Epoch 1/200\n",
      "\u001b[1m484/484\u001b[0m \u001b[32m━━━━━━━━━━━━━━━━━━━━\u001b[0m\u001b[37m\u001b[0m \u001b[1m122s\u001b[0m 253ms/step - accuracy: 0.8147 - loss: 0.4985 - val_accuracy: 0.8173 - val_loss: 0.4927\n",
      "Epoch 2/200\n",
      "\u001b[1m484/484\u001b[0m \u001b[32m━━━━━━━━━━━━━━━━━━━━\u001b[0m\u001b[37m\u001b[0m \u001b[1m115s\u001b[0m 238ms/step - accuracy: 0.8176 - loss: 0.4934 - val_accuracy: 0.8173 - val_loss: 0.4921\n",
      "Epoch 3/200\n",
      "\u001b[1m484/484\u001b[0m \u001b[32m━━━━━━━━━━━━━━━━━━━━\u001b[0m\u001b[37m\u001b[0m \u001b[1m124s\u001b[0m 256ms/step - accuracy: 0.8149 - loss: 0.4969 - val_accuracy: 0.8173 - val_loss: 0.4912\n",
      "Epoch 4/200\n",
      "\u001b[1m484/484\u001b[0m \u001b[32m━━━━━━━━━━━━━━━━━━━━\u001b[0m\u001b[37m\u001b[0m \u001b[1m111s\u001b[0m 230ms/step - accuracy: 0.8121 - loss: 0.4999 - val_accuracy: 0.8173 - val_loss: 0.4902\n",
      "Epoch 5/200\n",
      "\u001b[1m484/484\u001b[0m \u001b[32m━━━━━━━━━━━━━━━━━━━━\u001b[0m\u001b[37m\u001b[0m \u001b[1m111s\u001b[0m 229ms/step - accuracy: 0.8150 - loss: 0.4947 - val_accuracy: 0.8173 - val_loss: 0.4892\n",
      "Epoch 6/200\n",
      "\u001b[1m484/484\u001b[0m \u001b[32m━━━━━━━━━━━━━━━━━━━━\u001b[0m\u001b[37m\u001b[0m \u001b[1m124s\u001b[0m 256ms/step - accuracy: 0.8088 - loss: 0.5028 - val_accuracy: 0.8173 - val_loss: 0.4881\n",
      "Epoch 7/200\n",
      "\u001b[1m484/484\u001b[0m \u001b[32m━━━━━━━━━━━━━━━━━━━━\u001b[0m\u001b[37m\u001b[0m \u001b[1m113s\u001b[0m 234ms/step - accuracy: 0.8103 - loss: 0.4990 - val_accuracy: 0.8173 - val_loss: 0.4869\n",
      "Epoch 8/200\n",
      "\u001b[1m484/484\u001b[0m \u001b[32m━━━━━━━━━━━━━━━━━━━━\u001b[0m\u001b[37m\u001b[0m \u001b[1m126s\u001b[0m 260ms/step - accuracy: 0.8117 - loss: 0.4953 - val_accuracy: 0.8173 - val_loss: 0.4856\n",
      "Epoch 9/200\n",
      "\u001b[1m484/484\u001b[0m \u001b[32m━━━━━━━━━━━━━━━━━━━━\u001b[0m\u001b[37m\u001b[0m \u001b[1m132s\u001b[0m 272ms/step - accuracy: 0.8106 - loss: 0.4954 - val_accuracy: 0.8173 - val_loss: 0.4842\n",
      "Epoch 10/200\n",
      "\u001b[1m484/484\u001b[0m \u001b[32m━━━━━━━━━━━━━━━━━━━━\u001b[0m\u001b[37m\u001b[0m \u001b[1m141s\u001b[0m 290ms/step - accuracy: 0.8071 - loss: 0.4997 - val_accuracy: 0.8173 - val_loss: 0.4827\n",
      "Epoch 11/200\n",
      "\u001b[1m484/484\u001b[0m \u001b[32m━━━━━━━━━━━━━━━━━━━━\u001b[0m\u001b[37m\u001b[0m \u001b[1m124s\u001b[0m 252ms/step - accuracy: 0.8132 - loss: 0.4886 - val_accuracy: 0.8173 - val_loss: 0.4811\n",
      "Epoch 12/200\n",
      "\u001b[1m484/484\u001b[0m \u001b[32m━━━━━━━━━━━━━━━━━━━━\u001b[0m\u001b[37m\u001b[0m \u001b[1m97s\u001b[0m 200ms/step - accuracy: 0.8156 - loss: 0.4831 - val_accuracy: 0.8173 - val_loss: 0.4785\n",
      "Epoch 13/200\n",
      "\u001b[1m484/484\u001b[0m \u001b[32m━━━━━━━━━━━━━━━━━━━━\u001b[0m\u001b[37m\u001b[0m \u001b[1m117s\u001b[0m 242ms/step - accuracy: 0.8168 - loss: 0.4779 - val_accuracy: 0.8179 - val_loss: 0.4724\n",
      "Epoch 14/200\n",
      "\u001b[1m484/484\u001b[0m \u001b[32m━━━━━━━━━━━━━━━━━━━━\u001b[0m\u001b[37m\u001b[0m \u001b[1m98s\u001b[0m 203ms/step - accuracy: 0.8129 - loss: 0.4779 - val_accuracy: 0.8181 - val_loss: 0.4675\n",
      "Epoch 15/200\n",
      "\u001b[1m484/484\u001b[0m \u001b[32m━━━━━━━━━━━━━━━━━━━━\u001b[0m\u001b[37m\u001b[0m \u001b[1m99s\u001b[0m 204ms/step - accuracy: 0.8217 - loss: 0.4593 - val_accuracy: 0.8202 - val_loss: 0.4579\n",
      "Epoch 16/200\n",
      "\u001b[1m484/484\u001b[0m \u001b[32m━━━━━━━━━━━━━━━━━━━━\u001b[0m\u001b[37m\u001b[0m \u001b[1m101s\u001b[0m 210ms/step - accuracy: 0.8301 - loss: 0.4466 - val_accuracy: 0.8179 - val_loss: 0.4650\n",
      "Epoch 17/200\n",
      "\u001b[1m484/484\u001b[0m \u001b[32m━━━━━━━━━━━━━━━━━━━━\u001b[0m\u001b[37m\u001b[0m \u001b[1m97s\u001b[0m 199ms/step - accuracy: 0.8204 - loss: 1.0603 - val_accuracy: 0.8173 - val_loss: 0.4818\n",
      "Epoch 18/200\n",
      "\u001b[1m484/484\u001b[0m \u001b[32m━━━━━━━━━━━━━━━━━━━━\u001b[0m\u001b[37m\u001b[0m \u001b[1m98s\u001b[0m 202ms/step - accuracy: 0.8133 - loss: 0.4854 - val_accuracy: 0.8173 - val_loss: 0.4775\n",
      "Epoch 19/200\n",
      "\u001b[1m484/484\u001b[0m \u001b[32m━━━━━━━━━━━━━━━━━━━━\u001b[0m\u001b[37m\u001b[0m \u001b[1m101s\u001b[0m 208ms/step - accuracy: 0.8125 - loss: 0.4839 - val_accuracy: 0.8173 - val_loss: 0.4768\n",
      "Epoch 20/200\n",
      "\u001b[1m484/484\u001b[0m \u001b[32m━━━━━━━━━━━━━━━━━━━━\u001b[0m\u001b[37m\u001b[0m \u001b[1m97s\u001b[0m 200ms/step - accuracy: 0.8126 - loss: 0.4828 - val_accuracy: 0.8173 - val_loss: 0.4759\n",
      "Epoch 21/200\n",
      "\u001b[1m484/484\u001b[0m \u001b[32m━━━━━━━━━━━━━━━━━━━━\u001b[0m\u001b[37m\u001b[0m \u001b[1m96s\u001b[0m 199ms/step - accuracy: 0.8104 - loss: 0.4851 - val_accuracy: 0.8173 - val_loss: 0.4749\n",
      "Epoch 22/200\n",
      "\u001b[1m484/484\u001b[0m \u001b[32m━━━━━━━━━━━━━━━━━━━━\u001b[0m\u001b[37m\u001b[0m \u001b[1m102s\u001b[0m 211ms/step - accuracy: 0.8120 - loss: 0.4820 - val_accuracy: 0.8173 - val_loss: 0.4738\n",
      "Epoch 23/200\n",
      "\u001b[1m484/484\u001b[0m \u001b[32m━━━━━━━━━━━━━━━━━━━━\u001b[0m\u001b[37m\u001b[0m \u001b[1m101s\u001b[0m 208ms/step - accuracy: 0.8092 - loss: 0.4845 - val_accuracy: 0.8173 - val_loss: 0.4725\n",
      "Epoch 24/200\n",
      "\u001b[1m484/484\u001b[0m \u001b[32m━━━━━━━━━━━━━━━━━━━━\u001b[0m\u001b[37m\u001b[0m \u001b[1m94s\u001b[0m 195ms/step - accuracy: 0.8147 - loss: 0.4753 - val_accuracy: 0.8173 - val_loss: 0.4703\n",
      "Epoch 25/200\n",
      "\u001b[1m484/484\u001b[0m \u001b[32m━━━━━━━━━━━━━━━━━━━━\u001b[0m\u001b[37m\u001b[0m \u001b[1m96s\u001b[0m 198ms/step - accuracy: 0.8147 - loss: 0.4723 - val_accuracy: 0.8173 - val_loss: 0.4675\n",
      "\u001b[1m259/259\u001b[0m \u001b[32m━━━━━━━━━━━━━━━━━━━━\u001b[0m\u001b[37m\u001b[0m \u001b[1m19s\u001b[0m 74ms/step - accuracy: 0.8120 - loss: 0.4743\n",
      "LSTM Accuracy: 0.8139113783836365\n",
      "Epoch 1/200\n",
      "\u001b[1m484/484\u001b[0m \u001b[32m━━━━━━━━━━━━━━━━━━━━\u001b[0m\u001b[37m\u001b[0m \u001b[1m103s\u001b[0m 200ms/step - accuracy: 0.8299 - loss: 0.4394 - val_accuracy: 0.8634 - val_loss: 0.2955\n",
      "Epoch 2/200\n",
      "\u001b[1m484/484\u001b[0m \u001b[32m━━━━━━━━━━━━━━━━━━━━\u001b[0m\u001b[37m\u001b[0m \u001b[1m100s\u001b[0m 207ms/step - accuracy: 0.8715 - loss: 0.2939 - val_accuracy: 0.8815 - val_loss: 0.2702\n",
      "Epoch 3/200\n",
      "\u001b[1m484/484\u001b[0m \u001b[32m━━━━━━━━━━━━━━━━━━━━\u001b[0m\u001b[37m\u001b[0m \u001b[1m95s\u001b[0m 197ms/step - accuracy: 0.8881 - loss: 0.2633 - val_accuracy: 0.8877 - val_loss: 0.2537\n",
      "Epoch 4/200\n",
      "\u001b[1m484/484\u001b[0m \u001b[32m━━━━━━━━━━━━━━━━━━━━\u001b[0m\u001b[37m\u001b[0m \u001b[1m97s\u001b[0m 200ms/step - accuracy: 0.8867 - loss: 0.2488 - val_accuracy: 0.8898 - val_loss: 0.2347\n",
      "Epoch 5/200\n",
      "\u001b[1m484/484\u001b[0m \u001b[32m━━━━━━━━━━━━━━━━━━━━\u001b[0m\u001b[37m\u001b[0m \u001b[1m94s\u001b[0m 194ms/step - accuracy: 0.8957 - loss: 0.2305 - val_accuracy: 0.8968 - val_loss: 0.2282\n",
      "Epoch 6/200\n",
      "\u001b[1m484/484\u001b[0m \u001b[32m━━━━━━━━━━━━━━━━━━━━\u001b[0m\u001b[37m\u001b[0m \u001b[1m97s\u001b[0m 200ms/step - accuracy: 0.8972 - loss: 0.2255 - val_accuracy: 0.9053 - val_loss: 0.2320\n",
      "Epoch 7/200\n",
      "\u001b[1m484/484\u001b[0m \u001b[32m━━━━━━━━━━━━━━━━━━━━\u001b[0m\u001b[37m\u001b[0m \u001b[1m93s\u001b[0m 193ms/step - accuracy: 0.9019 - loss: 0.2186 - val_accuracy: 0.9056 - val_loss: 0.2127\n",
      "Epoch 8/200\n",
      "\u001b[1m484/484\u001b[0m \u001b[32m━━━━━━━━━━━━━━━━━━━━\u001b[0m\u001b[37m\u001b[0m \u001b[1m96s\u001b[0m 198ms/step - accuracy: 0.9128 - loss: 0.1988 - val_accuracy: 0.9100 - val_loss: 0.1954\n",
      "Epoch 9/200\n",
      "\u001b[1m484/484\u001b[0m \u001b[32m━━━━━━━━━━━━━━━━━━━━\u001b[0m\u001b[37m\u001b[0m \u001b[1m95s\u001b[0m 196ms/step - accuracy: 0.9190 - loss: 0.1858 - val_accuracy: 0.9159 - val_loss: 0.1894\n",
      "Epoch 10/200\n",
      "\u001b[1m484/484\u001b[0m \u001b[32m━━━━━━━━━━━━━━━━━━━━\u001b[0m\u001b[37m\u001b[0m \u001b[1m114s\u001b[0m 236ms/step - accuracy: 0.9209 - loss: 0.1777 - val_accuracy: 0.9172 - val_loss: 0.1796\n",
      "Epoch 11/200\n",
      "\u001b[1m484/484\u001b[0m \u001b[32m━━━━━━━━━━━━━━━━━━━━\u001b[0m\u001b[37m\u001b[0m \u001b[1m94s\u001b[0m 194ms/step - accuracy: 0.9291 - loss: 0.1634 - val_accuracy: 0.9154 - val_loss: 0.1944\n",
      "Epoch 12/200\n",
      "\u001b[1m484/484\u001b[0m \u001b[32m━━━━━━━━━━━━━━━━━━━━\u001b[0m\u001b[37m\u001b[0m \u001b[1m93s\u001b[0m 192ms/step - accuracy: 0.9332 - loss: 0.1559 - val_accuracy: 0.9239 - val_loss: 0.1715\n",
      "Epoch 13/200\n",
      "\u001b[1m484/484\u001b[0m \u001b[32m━━━━━━━━━━━━━━━━━━━━\u001b[0m\u001b[37m\u001b[0m \u001b[1m110s\u001b[0m 227ms/step - accuracy: 0.9376 - loss: 0.1478 - val_accuracy: 0.9203 - val_loss: 0.1739\n",
      "Epoch 14/200\n",
      "\u001b[1m484/484\u001b[0m \u001b[32m━━━━━━━━━━━━━━━━━━━━\u001b[0m\u001b[37m\u001b[0m \u001b[1m127s\u001b[0m 195ms/step - accuracy: 0.9335 - loss: 0.1487 - val_accuracy: 0.9193 - val_loss: 0.1841\n",
      "Epoch 15/200\n",
      "\u001b[1m484/484\u001b[0m \u001b[32m━━━━━━━━━━━━━━━━━━━━\u001b[0m\u001b[37m\u001b[0m \u001b[1m94s\u001b[0m 195ms/step - accuracy: 0.9376 - loss: 0.1438 - val_accuracy: 0.9219 - val_loss: 0.1738\n",
      "Epoch 16/200\n",
      "\u001b[1m484/484\u001b[0m \u001b[32m━━━━━━━━━━━━━━━━━━━━\u001b[0m\u001b[37m\u001b[0m \u001b[1m95s\u001b[0m 197ms/step - accuracy: 0.9384 - loss: 0.1415 - val_accuracy: 0.9260 - val_loss: 0.1657\n",
      "Epoch 17/200\n",
      "\u001b[1m484/484\u001b[0m \u001b[32m━━━━━━━━━━━━━━━━━━━━\u001b[0m\u001b[37m\u001b[0m \u001b[1m94s\u001b[0m 195ms/step - accuracy: 0.9452 - loss: 0.1319 - val_accuracy: 0.9255 - val_loss: 0.1649\n",
      "Epoch 18/200\n",
      "\u001b[1m484/484\u001b[0m \u001b[32m━━━━━━━━━━━━━━━━━━━━\u001b[0m\u001b[37m\u001b[0m \u001b[1m95s\u001b[0m 197ms/step - accuracy: 0.9444 - loss: 0.1317 - val_accuracy: 0.9294 - val_loss: 0.1655\n",
      "Epoch 19/200\n",
      "\u001b[1m484/484\u001b[0m \u001b[32m━━━━━━━━━━━━━━━━━━━━\u001b[0m\u001b[37m\u001b[0m \u001b[1m94s\u001b[0m 193ms/step - accuracy: 0.9447 - loss: 0.1272 - val_accuracy: 0.9270 - val_loss: 0.1647\n",
      "Epoch 20/200\n",
      "\u001b[1m484/484\u001b[0m \u001b[32m━━━━━━━━━━━━━━━━━━━━\u001b[0m\u001b[37m\u001b[0m \u001b[1m93s\u001b[0m 192ms/step - accuracy: 0.9465 - loss: 0.1250 - val_accuracy: 0.9250 - val_loss: 0.1780\n",
      "Epoch 21/200\n",
      "\u001b[1m484/484\u001b[0m \u001b[32m━━━━━━━━━━━━━━━━━━━━\u001b[0m\u001b[37m\u001b[0m \u001b[1m97s\u001b[0m 200ms/step - accuracy: 0.9474 - loss: 0.1225 - val_accuracy: 0.9263 - val_loss: 0.1683\n",
      "Epoch 22/200\n",
      "\u001b[1m484/484\u001b[0m \u001b[32m━━━━━━━━━━━━━━━━━━━━\u001b[0m\u001b[37m\u001b[0m \u001b[1m98s\u001b[0m 203ms/step - accuracy: 0.9434 - loss: 0.1263 - val_accuracy: 0.9294 - val_loss: 0.1686\n",
      "Epoch 23/200\n",
      "\u001b[1m484/484\u001b[0m \u001b[32m━━━━━━━━━━━━━━━━━━━━\u001b[0m\u001b[37m\u001b[0m \u001b[1m95s\u001b[0m 197ms/step - accuracy: 0.9453 - loss: 0.1233 - val_accuracy: 0.9234 - val_loss: 0.1715\n",
      "Epoch 24/200\n",
      "\u001b[1m484/484\u001b[0m \u001b[32m━━━━━━━━━━━━━━━━━━━━\u001b[0m\u001b[37m\u001b[0m \u001b[1m96s\u001b[0m 199ms/step - accuracy: 0.9447 - loss: 0.1218 - val_accuracy: 0.9283 - val_loss: 0.1693\n",
      "Epoch 25/200\n",
      "\u001b[1m484/484\u001b[0m \u001b[32m━━━━━━━━━━━━━━━━━━━━\u001b[0m\u001b[37m\u001b[0m \u001b[1m92s\u001b[0m 190ms/step - accuracy: 0.9468 - loss: 0.1230 - val_accuracy: 0.9278 - val_loss: 0.1700\n",
      "Epoch 26/200\n",
      "\u001b[1m484/484\u001b[0m \u001b[32m━━━━━━━━━━━━━━━━━━━━\u001b[0m\u001b[37m\u001b[0m \u001b[1m96s\u001b[0m 198ms/step - accuracy: 0.9461 - loss: 0.1191 - val_accuracy: 0.9094 - val_loss: 0.1956\n",
      "Epoch 27/200\n",
      "\u001b[1m484/484\u001b[0m \u001b[32m━━━━━━━━━━━━━━━━━━━━\u001b[0m\u001b[37m\u001b[0m \u001b[1m99s\u001b[0m 205ms/step - accuracy: 0.9416 - loss: 0.1296 - val_accuracy: 0.9278 - val_loss: 0.1809\n",
      "Epoch 28/200\n",
      "\u001b[1m484/484\u001b[0m \u001b[32m━━━━━━━━━━━━━━━━━━━━\u001b[0m\u001b[37m\u001b[0m \u001b[1m94s\u001b[0m 194ms/step - accuracy: 0.9533 - loss: 0.1054 - val_accuracy: 0.9265 - val_loss: 0.1822\n",
      "Epoch 29/200\n",
      "\u001b[1m484/484\u001b[0m \u001b[32m━━━━━━━━━━━━━━━━━━━━\u001b[0m\u001b[37m\u001b[0m \u001b[1m93s\u001b[0m 192ms/step - accuracy: 0.9500 - loss: 0.1122 - val_accuracy: 0.9234 - val_loss: 0.1806\n",
      "\u001b[1m259/259\u001b[0m \u001b[32m━━━━━━━━━━━━━━━━━━━━\u001b[0m\u001b[37m\u001b[0m \u001b[1m16s\u001b[0m 63ms/step - accuracy: 0.9313 - loss: 0.1755\n",
      "GRU Accuracy: 0.9316507577896118\n"
     ]
    }
   ],
   "source": [
    "# 딥러닝 모형 학습 및 평가\n",
    "\n",
    "# CNN 학습 및 평가\n",
    "X_train_cnn = X_train_scaled.reshape((X_train_scaled.shape[0], X_train_scaled.shape[1], 1, 1))\n",
    "X_test_cnn = X_test_scaled.reshape((X_test_scaled.shape[0], X_test_scaled.shape[1], 1, 1))\n",
    "\n",
    "cnn_history = cnn_model.fit(\n",
    "    X_train_cnn,\n",
    "    y_train,\n",
    "    epochs=200,\n",
    "    batch_size=32,\n",
    "    validation_split=0.2,\n",
    "    callbacks=[tf.keras.callbacks.EarlyStopping(patience=10)],\n",
    "    verbose=1\n",
    ")\n",
    "\n",
    "cnn_accuracy = cnn_model.evaluate(X_test_cnn, y_test, verbose=1)[1]\n",
    "print(f\"CNN Accuracy: {cnn_accuracy}\")\n",
    "\n",
    "# RNN-LSTM 학습 및 평가\n",
    "X_train_lstm = X_train_scaled.reshape((X_train_scaled.shape[0], X_train_scaled.shape[1], 1))\n",
    "X_test_lstm = X_test_scaled.reshape((X_test_scaled.shape[0], X_test_scaled.shape[1], 1))\n",
    "\n",
    "lstm_history = lstm_model.fit(\n",
    "    X_train_lstm,\n",
    "    y_train,\n",
    "    epochs=200,\n",
    "    batch_size=32,\n",
    "    validation_split=0.2,\n",
    "    callbacks=[tf.keras.callbacks.EarlyStopping(patience=10)],\n",
    "    verbose=1\n",
    ")\n",
    "\n",
    "lstm_accuracy = lstm_model.evaluate(X_test_lstm, y_test, verbose=1)[1]\n",
    "print(f\"LSTM Accuracy: {lstm_accuracy}\")\n",
    "\n",
    "# RNN-GRU 학습 및 평가\n",
    "gru_history = gru_model.fit(\n",
    "    X_train_lstm,\n",
    "    y_train,\n",
    "    epochs=200,\n",
    "    batch_size=32,\n",
    "    validation_split=0.2,\n",
    "    callbacks=[tf.keras.callbacks.EarlyStopping(patience=10)],\n",
    "    verbose=1\n",
    ")\n",
    "\n",
    "gru_accuracy = gru_model.evaluate(X_test_lstm, y_test, verbose=1)[1]\n",
    "print(f\"GRU Accuracy: {gru_accuracy}\")"
   ]
  },
  {
   "cell_type": "code",
   "execution_count": 165,
   "metadata": {},
   "outputs": [
    {
     "data": {
      "image/png": "[encoded data removed]",
      "text/plain": [
       "<Figure size 1200x800 with 1 Axes>"
      ]
     },
     "metadata": {},
     "output_type": "display_data"
    }
   ],
   "source": [
    "import matplotlib.pyplot as plt\n",
    "\n",
    "# 그래프 그리기\n",
    "plt.figure(figsize=(12, 8))\n",
    "\n",
    "# CNN 성능 변화\n",
    "plt.plot(cnn_history.history['accuracy'], label='CNN Training Accuracy')\n",
    "plt.plot(cnn_history.history['val_accuracy'], label='CNN Validation Accuracy')\n",
    "\n",
    "# LSTM 성능 변화\n",
    "plt.plot(lstm_history.history['accuracy'], label='LSTM Training Accuracy')\n",
    "plt.plot(lstm_history.history['val_accuracy'], label='LSTM Validation Accuracy')\n",
    "\n",
    "# GRU 성능 변화\n",
    "plt.plot(gru_history.history['accuracy'], label='GRU Training Accuracy')\n",
    "plt.plot(gru_history.history['val_accuracy'], label='GRU Validation Accuracy')\n",
    "\n",
    "# 그래프 세부 설정\n",
    "plt.title('Model Accuracy over Epochs')\n",
    "plt.xlabel('Epochs')\n",
    "plt.ylabel('Accuracy')\n",
    "plt.legend()\n",
    "plt.grid(True)\n",
    "plt.show()"
   ]
  }
 ],
 "metadata": {
  "kernelspec": {
   "display_name": "Python 3",
   "language": "python",
   "name": "python3"
  },
  "language_info": {
   "codemirror_mode": {
    "name": "ipython",
    "version": 3
   },
   "file_extension": ".py",
   "mimetype": "text/x-python",
   "name": "python",
   "nbconvert_exporter": "python",
   "pygments_lexer": "ipython3",
   "version": "3.11.4"
  }
 },
 "nbformat": 4,
 "nbformat_minor": 2
}
