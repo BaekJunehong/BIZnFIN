{
 "cells": [
  {
   "cell_type": "markdown",
   "metadata": {},
   "source": [
    "# BIZ 프로젝트 : 부실기업 예측"
   ]
  },
  {
   "cell_type": "markdown",
   "metadata": {},
   "source": [
    "## Step2 : 데이터 전처리"
   ]
  },
  {
   "cell_type": "markdown",
   "metadata": {},
   "source": [
    "부실기업은 과거 3년간 연속해 이자보상 배율이 1.0미만인 기업을 의미하며  \n",
    "이를 이용하여 타겟변수인 부실기업여부 변수를 생성"
   ]
  },
  {
   "cell_type": "markdown",
   "metadata": {},
   "source": [
    "### 필요라이브러리 불러오기"
   ]
  },
  {
   "cell_type": "code",
   "execution_count": 1,
   "metadata": {},
   "outputs": [],
   "source": [
    "import pandas as pd\n",
    "import numpy as np"
   ]
  },
  {
   "cell_type": "markdown",
   "metadata": {},
   "source": [
    "### 데이터 불러오기"
   ]
  },
  {
   "cell_type": "code",
   "execution_count": 8,
   "metadata": {},
   "outputs": [
    {
     "name": "stdout",
     "output_type": "stream",
     "text": [
      "(38639, 543)\n"
     ]
    }
   ],
   "source": [
    "RANDOM_STATE = 110\n",
    "\n",
    "data = pd.read_csv(\"../../project/data/clean_financial_data.csv\", encoding='utf-8-sig', low_memory=False)\n",
    "print(data.shape)"
   ]
  },
  {
   "cell_type": "code",
   "execution_count": 3,
   "metadata": {},
   "outputs": [
    {
     "data": {
      "text/plain": [
       "Index(['업체코드', '종목코드', '종목명', '2020/총자산증가율', '2021/총자산증가율', '2022/총자산증가율',\n",
       "       '2023/총자산증가율', '2024/총자산증가율', '2020/유형자산증가율', '2021/유형자산증가율',\n",
       "       ...\n",
       "       '2020/조세공과(구성비)', '2021/조세공과(구성비)', '2022/조세공과(구성비)', '2023/조세공과(구성비)',\n",
       "       '2024/조세공과(구성비)', '2020/감가상각비(구성비)', '2021/감가상각비(구성비)',\n",
       "       '2022/감가상각비(구성비)', '2023/감가상각비(구성비)', '2024/감가상각비(구성비)'],\n",
       "      dtype='object', length=543)"
      ]
     },
     "execution_count": 3,
     "metadata": {},
     "output_type": "execute_result"
    }
   ],
   "source": [
    "data.columns"
   ]
  },
  {
   "cell_type": "code",
   "execution_count": 9,
   "metadata": {},
   "outputs": [
    {
     "name": "stdout",
     "output_type": "stream",
     "text": [
      "                 결측치 개수  결측치 비율 (%)\n",
      "2020/영업이익이자보상비율    8768   22.692099\n",
      "2021/영업이익이자보상비율    6378   16.506638\n",
      "2022/영업이익이자보상비율    4472   11.573798\n",
      "2023/영업이익이자보상비율    4810   12.448562\n",
      "2024/영업이익이자보상비율   37943   98.198711\n"
     ]
    }
   ],
   "source": [
    "# '영업이익이자보상비율'이 포함된 열들 찾기\n",
    "columns_with_ratio = [col for col in data.columns if '영업이익이자보상비율' in col]\n",
    "\n",
    "# 각 열에 대해 결측치 개수와 비율 계산\n",
    "missing_data = data[columns_with_ratio].isnull().sum()\n",
    "missing_ratio = (missing_data / len(data)) * 100  # 결측치 비율 계산 (퍼센트)\n",
    "\n",
    "# 결측치가 있는 열만 출력\n",
    "missing_summary = pd.DataFrame({\n",
    "    '결측치 개수': missing_data,\n",
    "    '결측치 비율 (%)': missing_ratio\n",
    "}).loc[missing_data > 0]\n",
    "\n",
    "# 결과 출력\n",
    "print(missing_summary)\n"
   ]
  },
  {
   "cell_type": "markdown",
   "metadata": {},
   "source": [
    "- 2024년 데이터는 target변수인 '영업이익이자보상비율'의 대부분이 결측치이므로 제거"
   ]
  },
  {
   "cell_type": "code",
   "execution_count": 10,
   "metadata": {},
   "outputs": [
    {
     "name": "stdout",
     "output_type": "stream",
     "text": [
      "(38639, 435)\n"
     ]
    }
   ],
   "source": [
    "# '2024'가 열 이름에 포함된 열들을 제거\n",
    "data = data.drop(columns=[col for col in data.columns if '2024' in col], errors='ignore')\n",
    "print(data.shape)"
   ]
  },
  {
   "cell_type": "code",
   "execution_count": 11,
   "metadata": {},
   "outputs": [
    {
     "name": "stdout",
     "output_type": "stream",
     "text": [
      "(27604, 435)\n"
     ]
    }
   ],
   "source": [
    "# '영업이익이자보상비율'이 포함된 열들 찾기\n",
    "columns_with_ratio = [col for col in data.columns if '영업이익이자보상비율' in col]\n",
    "\n",
    "# 결측치가 있는 행 제거\n",
    "data = data.dropna(subset=columns_with_ratio)\n",
    "\n",
    "# 결과 확인\n",
    "print(data.shape)"
   ]
  },
  {
   "cell_type": "code",
   "execution_count": 12,
   "metadata": {},
   "outputs": [],
   "source": [
    "# 각 열의 결측값을 중앙값으로 대체\n",
    "data = data.fillna(data.median(numeric_only=True))"
   ]
  },
  {
   "cell_type": "code",
   "execution_count": 13,
   "metadata": {},
   "outputs": [
    {
     "data": {
      "text/plain": [
       "업체코드                object\n",
       "종목코드                object\n",
       "종목명                 object\n",
       "2020/총자산증가율        float64\n",
       "2021/총자산증가율        float64\n",
       "                    ...   \n",
       "2023/조세공과(구성비)     float64\n",
       "2020/감가상각비(구성비)    float64\n",
       "2021/감가상각비(구성비)    float64\n",
       "2022/감가상각비(구성비)    float64\n",
       "2023/감가상각비(구성비)    float64\n",
       "Length: 435, dtype: object"
      ]
     },
     "execution_count": 13,
     "metadata": {},
     "output_type": "execute_result"
    }
   ],
   "source": [
    "data.dtypes"
   ]
  },
  {
   "cell_type": "code",
   "execution_count": 14,
   "metadata": {},
   "outputs": [
    {
     "name": "stdout",
     "output_type": "stream",
     "text": [
      "숫자형 변수 개수: 432개\n"
     ]
    }
   ],
   "source": [
    "# 숫자형 변수 개수 확인\n",
    "numeric_columns = data.select_dtypes(include=['number']).columns\n",
    "numeric_count = len(numeric_columns)\n",
    "\n",
    "print(f\"숫자형 변수 개수: {numeric_count}개\")"
   ]
  },
  {
   "cell_type": "code",
   "execution_count": 15,
   "metadata": {},
   "outputs": [
    {
     "name": "stderr",
     "output_type": "stream",
     "text": [
      "C:\\Users\\ldb76\\AppData\\Roaming\\Python\\Python311\\site-packages\\IPython\\core\\pylabtools.py:170: UserWarning: Glyph 52509 (\\N{HANGUL SYLLABLE CONG}) missing from font(s) DejaVu Sans.\n",
      "  fig.canvas.print_figure(bytes_io, **kw)\n",
      "C:\\Users\\ldb76\\AppData\\Roaming\\Python\\Python311\\site-packages\\IPython\\core\\pylabtools.py:170: UserWarning: Glyph 51088 (\\N{HANGUL SYLLABLE JA}) missing from font(s) DejaVu Sans.\n",
      "  fig.canvas.print_figure(bytes_io, **kw)\n",
      "C:\\Users\\ldb76\\AppData\\Roaming\\Python\\Python311\\site-packages\\IPython\\core\\pylabtools.py:170: UserWarning: Glyph 49328 (\\N{HANGUL SYLLABLE SAN}) missing from font(s) DejaVu Sans.\n",
      "  fig.canvas.print_figure(bytes_io, **kw)\n",
      "C:\\Users\\ldb76\\AppData\\Roaming\\Python\\Python311\\site-packages\\IPython\\core\\pylabtools.py:170: UserWarning: Glyph 51613 (\\N{HANGUL SYLLABLE JEUNG}) missing from font(s) DejaVu Sans.\n",
      "  fig.canvas.print_figure(bytes_io, **kw)\n",
      "C:\\Users\\ldb76\\AppData\\Roaming\\Python\\Python311\\site-packages\\IPython\\core\\pylabtools.py:170: UserWarning: Glyph 44032 (\\N{HANGUL SYLLABLE GA}) missing from font(s) DejaVu Sans.\n",
      "  fig.canvas.print_figure(bytes_io, **kw)\n",
      "C:\\Users\\ldb76\\AppData\\Roaming\\Python\\Python311\\site-packages\\IPython\\core\\pylabtools.py:170: UserWarning: Glyph 50984 (\\N{HANGUL SYLLABLE YUL}) missing from font(s) DejaVu Sans.\n",
      "  fig.canvas.print_figure(bytes_io, **kw)\n",
      "C:\\Users\\ldb76\\AppData\\Roaming\\Python\\Python311\\site-packages\\IPython\\core\\pylabtools.py:170: UserWarning: Glyph 50976 (\\N{HANGUL SYLLABLE YU}) missing from font(s) DejaVu Sans.\n",
      "  fig.canvas.print_figure(bytes_io, **kw)\n",
      "C:\\Users\\ldb76\\AppData\\Roaming\\Python\\Python311\\site-packages\\IPython\\core\\pylabtools.py:170: UserWarning: Glyph 54805 (\\N{HANGUL SYLLABLE HYEONG}) missing from font(s) DejaVu Sans.\n",
      "  fig.canvas.print_figure(bytes_io, **kw)\n",
      "C:\\Users\\ldb76\\AppData\\Roaming\\Python\\Python311\\site-packages\\IPython\\core\\pylabtools.py:170: UserWarning: Glyph 46041 (\\N{HANGUL SYLLABLE DONG}) missing from font(s) DejaVu Sans.\n",
      "  fig.canvas.print_figure(bytes_io, **kw)\n"
     ]
    },
    {
     "data": {
      "image/png": "[encoded data removed]",
      "text/plain": [
       "<Figure size 1200x600 with 1 Axes>"
      ]
     },
     "metadata": {},
     "output_type": "display_data"
    }
   ],
   "source": [
    "import matplotlib.pyplot as plt\n",
    "\n",
    "# 숫자형 변수 선택\n",
    "numeric_columns = data.select_dtypes(include=['number']).columns\n",
    "\n",
    "# 숫자형 변수 중 일부 선택 (예: 앞에서 10개)\n",
    "selected_columns = numeric_columns[:10]\n",
    "\n",
    "# 선택된 변수에 대한 박스플롯 그리기\n",
    "plt.figure(figsize=(12, 6))\n",
    "data[selected_columns].boxplot(rot=45)\n",
    "plt.title(\"Selected Numeric Variables - Boxplot\")\n",
    "plt.ylabel(\"Values\")\n",
    "plt.show()\n"
   ]
  },
  {
   "cell_type": "code",
   "execution_count": 16,
   "metadata": {},
   "outputs": [
    {
     "data": {
      "text/html": [
       "<div>\n",
       "<style scoped>\n",
       "    .dataframe tbody tr th:only-of-type {\n",
       "        vertical-align: middle;\n",
       "    }\n",
       "\n",
       "    .dataframe tbody tr th {\n",
       "        vertical-align: top;\n",
       "    }\n",
       "\n",
       "    .dataframe thead th {\n",
       "        text-align: right;\n",
       "    }\n",
       "</style>\n",
       "<table border=\"1\" class=\"dataframe\">\n",
       "  <thead>\n",
       "    <tr style=\"text-align: right;\">\n",
       "      <th></th>\n",
       "      <th>업체코드</th>\n",
       "      <th>종목코드</th>\n",
       "      <th>종목명</th>\n",
       "      <th>2020/총자산증가율</th>\n",
       "      <th>2021/총자산증가율</th>\n",
       "      <th>2022/총자산증가율</th>\n",
       "      <th>2023/총자산증가율</th>\n",
       "      <th>2020/유형자산증가율</th>\n",
       "      <th>2021/유형자산증가율</th>\n",
       "      <th>2022/유형자산증가율</th>\n",
       "      <th>...</th>\n",
       "      <th>2022/임차료(구성비)</th>\n",
       "      <th>2023/임차료(구성비)</th>\n",
       "      <th>2020/조세공과(구성비)</th>\n",
       "      <th>2021/조세공과(구성비)</th>\n",
       "      <th>2022/조세공과(구성비)</th>\n",
       "      <th>2023/조세공과(구성비)</th>\n",
       "      <th>2020/감가상각비(구성비)</th>\n",
       "      <th>2021/감가상각비(구성비)</th>\n",
       "      <th>2022/감가상각비(구성비)</th>\n",
       "      <th>2023/감가상각비(구성비)</th>\n",
       "    </tr>\n",
       "  </thead>\n",
       "  <tbody>\n",
       "    <tr>\n",
       "      <th>0</th>\n",
       "      <td>N350605</td>\n",
       "      <td>A000020</td>\n",
       "      <td>동화약품</td>\n",
       "      <td>7.57</td>\n",
       "      <td>2.70</td>\n",
       "      <td>3.27</td>\n",
       "      <td>10.23</td>\n",
       "      <td>19.67</td>\n",
       "      <td>10.41</td>\n",
       "      <td>7.64</td>\n",
       "      <td>...</td>\n",
       "      <td>1.32</td>\n",
       "      <td>1.41</td>\n",
       "      <td>2.14</td>\n",
       "      <td>2.11</td>\n",
       "      <td>2.12</td>\n",
       "      <td>2.13</td>\n",
       "      <td>7.96</td>\n",
       "      <td>7.83</td>\n",
       "      <td>8.03</td>\n",
       "      <td>8.22</td>\n",
       "    </tr>\n",
       "    <tr>\n",
       "      <th>1</th>\n",
       "      <td>N320498</td>\n",
       "      <td>A000040</td>\n",
       "      <td>KR모터스</td>\n",
       "      <td>-36.76</td>\n",
       "      <td>1.45</td>\n",
       "      <td>-0.52</td>\n",
       "      <td>-4.89</td>\n",
       "      <td>-0.29</td>\n",
       "      <td>5.78</td>\n",
       "      <td>4.85</td>\n",
       "      <td>...</td>\n",
       "      <td>1.32</td>\n",
       "      <td>1.41</td>\n",
       "      <td>2.14</td>\n",
       "      <td>2.11</td>\n",
       "      <td>2.12</td>\n",
       "      <td>2.13</td>\n",
       "      <td>7.96</td>\n",
       "      <td>7.83</td>\n",
       "      <td>8.03</td>\n",
       "      <td>8.22</td>\n",
       "    </tr>\n",
       "    <tr>\n",
       "      <th>2</th>\n",
       "      <td>N320684</td>\n",
       "      <td>A000050</td>\n",
       "      <td>경방</td>\n",
       "      <td>-6.47</td>\n",
       "      <td>0.15</td>\n",
       "      <td>-6.09</td>\n",
       "      <td>-1.40</td>\n",
       "      <td>-36.42</td>\n",
       "      <td>-23.56</td>\n",
       "      <td>665.18</td>\n",
       "      <td>...</td>\n",
       "      <td>1.32</td>\n",
       "      <td>1.41</td>\n",
       "      <td>2.14</td>\n",
       "      <td>2.11</td>\n",
       "      <td>2.12</td>\n",
       "      <td>2.13</td>\n",
       "      <td>7.96</td>\n",
       "      <td>7.83</td>\n",
       "      <td>8.03</td>\n",
       "      <td>8.22</td>\n",
       "    </tr>\n",
       "    <tr>\n",
       "      <th>3</th>\n",
       "      <td>N320730</td>\n",
       "      <td>A000070</td>\n",
       "      <td>삼양홀딩스</td>\n",
       "      <td>6.31</td>\n",
       "      <td>22.28</td>\n",
       "      <td>-0.76</td>\n",
       "      <td>17.63</td>\n",
       "      <td>-45.53</td>\n",
       "      <td>943.89</td>\n",
       "      <td>0.68</td>\n",
       "      <td>...</td>\n",
       "      <td>1.32</td>\n",
       "      <td>1.41</td>\n",
       "      <td>2.14</td>\n",
       "      <td>2.11</td>\n",
       "      <td>2.12</td>\n",
       "      <td>2.13</td>\n",
       "      <td>7.96</td>\n",
       "      <td>7.83</td>\n",
       "      <td>8.03</td>\n",
       "      <td>8.22</td>\n",
       "    </tr>\n",
       "    <tr>\n",
       "      <th>4</th>\n",
       "      <td>N310581</td>\n",
       "      <td>A000080</td>\n",
       "      <td>하이트진로</td>\n",
       "      <td>-0.99</td>\n",
       "      <td>10.65</td>\n",
       "      <td>-9.43</td>\n",
       "      <td>-0.03</td>\n",
       "      <td>-6.75</td>\n",
       "      <td>-2.60</td>\n",
       "      <td>-1.51</td>\n",
       "      <td>...</td>\n",
       "      <td>1.32</td>\n",
       "      <td>1.41</td>\n",
       "      <td>2.14</td>\n",
       "      <td>2.11</td>\n",
       "      <td>2.12</td>\n",
       "      <td>2.13</td>\n",
       "      <td>7.96</td>\n",
       "      <td>7.83</td>\n",
       "      <td>8.03</td>\n",
       "      <td>8.22</td>\n",
       "    </tr>\n",
       "  </tbody>\n",
       "</table>\n",
       "<p>5 rows × 435 columns</p>\n",
       "</div>"
      ],
      "text/plain": [
       "      업체코드     종목코드    종목명  2020/총자산증가율  2021/총자산증가율  2022/총자산증가율  \\\n",
       "0  N350605  A000020   동화약품         7.57         2.70         3.27   \n",
       "1  N320498  A000040  KR모터스       -36.76         1.45        -0.52   \n",
       "2  N320684  A000050     경방        -6.47         0.15        -6.09   \n",
       "3  N320730  A000070  삼양홀딩스         6.31        22.28        -0.76   \n",
       "4  N310581  A000080  하이트진로        -0.99        10.65        -9.43   \n",
       "\n",
       "   2023/총자산증가율  2020/유형자산증가율  2021/유형자산증가율  2022/유형자산증가율  ...  2022/임차료(구성비)  \\\n",
       "0        10.23         19.67         10.41          7.64  ...           1.32   \n",
       "1        -4.89         -0.29          5.78          4.85  ...           1.32   \n",
       "2        -1.40        -36.42        -23.56        665.18  ...           1.32   \n",
       "3        17.63        -45.53        943.89          0.68  ...           1.32   \n",
       "4        -0.03         -6.75         -2.60         -1.51  ...           1.32   \n",
       "\n",
       "   2023/임차료(구성비)  2020/조세공과(구성비)  2021/조세공과(구성비)  2022/조세공과(구성비)  \\\n",
       "0           1.41            2.14            2.11            2.12   \n",
       "1           1.41            2.14            2.11            2.12   \n",
       "2           1.41            2.14            2.11            2.12   \n",
       "3           1.41            2.14            2.11            2.12   \n",
       "4           1.41            2.14            2.11            2.12   \n",
       "\n",
       "   2023/조세공과(구성비)  2020/감가상각비(구성비)  2021/감가상각비(구성비)  2022/감가상각비(구성비)  \\\n",
       "0            2.13             7.96             7.83             8.03   \n",
       "1            2.13             7.96             7.83             8.03   \n",
       "2            2.13             7.96             7.83             8.03   \n",
       "3            2.13             7.96             7.83             8.03   \n",
       "4            2.13             7.96             7.83             8.03   \n",
       "\n",
       "   2023/감가상각비(구성비)  \n",
       "0             8.22  \n",
       "1             8.22  \n",
       "2             8.22  \n",
       "3             8.22  \n",
       "4             8.22  \n",
       "\n",
       "[5 rows x 435 columns]"
      ]
     },
     "execution_count": 16,
     "metadata": {},
     "output_type": "execute_result"
    }
   ],
   "source": [
    "from scipy.stats.mstats import winsorize\n",
    "\n",
    "# 숫자형 데이터에만 윈저라이징 적용\n",
    "numeric_columns = data.select_dtypes(include=['number']).columns\n",
    "\n",
    "for col in numeric_columns:\n",
    "    # 0.01 이하와 0.99 이상을 해당 값으로 제한\n",
    "    lower_limit = data[col].quantile(0.01)\n",
    "    upper_limit = data[col].quantile(0.99)\n",
    "    data[col] = data[col].clip(lower=lower_limit, upper=upper_limit)\n",
    "\n",
    "\n",
    "data.head(5)\n"
   ]
  },
  {
   "cell_type": "code",
   "execution_count": null,
   "metadata": {},
   "outputs": [
    {
     "name": "stderr",
     "output_type": "stream",
     "text": [
      "C:\\Users\\ldb76\\AppData\\Roaming\\Python\\Python311\\site-packages\\IPython\\core\\pylabtools.py:170: UserWarning: Glyph 52509 (\\N{HANGUL SYLLABLE CONG}) missing from font(s) DejaVu Sans.\n",
      "  fig.canvas.print_figure(bytes_io, **kw)\n",
      "C:\\Users\\ldb76\\AppData\\Roaming\\Python\\Python311\\site-packages\\IPython\\core\\pylabtools.py:170: UserWarning: Glyph 51088 (\\N{HANGUL SYLLABLE JA}) missing from font(s) DejaVu Sans.\n",
      "  fig.canvas.print_figure(bytes_io, **kw)\n",
      "C:\\Users\\ldb76\\AppData\\Roaming\\Python\\Python311\\site-packages\\IPython\\core\\pylabtools.py:170: UserWarning: Glyph 49328 (\\N{HANGUL SYLLABLE SAN}) missing from font(s) DejaVu Sans.\n",
      "  fig.canvas.print_figure(bytes_io, **kw)\n",
      "C:\\Users\\ldb76\\AppData\\Roaming\\Python\\Python311\\site-packages\\IPython\\core\\pylabtools.py:170: UserWarning: Glyph 51613 (\\N{HANGUL SYLLABLE JEUNG}) missing from font(s) DejaVu Sans.\n",
      "  fig.canvas.print_figure(bytes_io, **kw)\n",
      "C:\\Users\\ldb76\\AppData\\Roaming\\Python\\Python311\\site-packages\\IPython\\core\\pylabtools.py:170: UserWarning: Glyph 44032 (\\N{HANGUL SYLLABLE GA}) missing from font(s) DejaVu Sans.\n",
      "  fig.canvas.print_figure(bytes_io, **kw)\n",
      "C:\\Users\\ldb76\\AppData\\Roaming\\Python\\Python311\\site-packages\\IPython\\core\\pylabtools.py:170: UserWarning: Glyph 50984 (\\N{HANGUL SYLLABLE YUL}) missing from font(s) DejaVu Sans.\n",
      "  fig.canvas.print_figure(bytes_io, **kw)\n",
      "C:\\Users\\ldb76\\AppData\\Roaming\\Python\\Python311\\site-packages\\IPython\\core\\pylabtools.py:170: UserWarning: Glyph 50976 (\\N{HANGUL SYLLABLE YU}) missing from font(s) DejaVu Sans.\n",
      "  fig.canvas.print_figure(bytes_io, **kw)\n",
      "C:\\Users\\ldb76\\AppData\\Roaming\\Python\\Python311\\site-packages\\IPython\\core\\pylabtools.py:170: UserWarning: Glyph 54805 (\\N{HANGUL SYLLABLE HYEONG}) missing from font(s) DejaVu Sans.\n",
      "  fig.canvas.print_figure(bytes_io, **kw)\n",
      "C:\\Users\\ldb76\\AppData\\Roaming\\Python\\Python311\\site-packages\\IPython\\core\\pylabtools.py:170: UserWarning: Glyph 46041 (\\N{HANGUL SYLLABLE DONG}) missing from font(s) DejaVu Sans.\n",
      "  fig.canvas.print_figure(bytes_io, **kw)\n"
     ]
    },
    {
     "data": {
      "image/png": "[encoded data removed]",
      "text/plain": [
       "<Figure size 1200x600 with 1 Axes>"
      ]
     },
     "metadata": {},
     "output_type": "display_data"
    }
   ],
   "source": [
    "import matplotlib.pyplot as plt\n",
    "\n",
    "selected_columns = numeric_columns[:10]  # 이전에 선택한 numeric_columns 그대로 사용\n",
    "\n",
    "# 윈저라이징 후 선택된 변수에 대한 박스플롯 그리기\n",
    "plt.figure(figsize=(12, 6))\n",
    "data[selected_columns].boxplot(rot=45)\n",
    "plt.title(\"Selected Numeric Variables - Boxplot After Winsorizing\")\n",
    "plt.ylabel(\"Values\")\n",
    "plt.show()\n"
   ]
  },
  {
   "cell_type": "code",
   "execution_count": 18,
   "metadata": {},
   "outputs": [
    {
     "name": "stderr",
     "output_type": "stream",
     "text": [
      "c:\\Users\\ldb76\\AppData\\Local\\Programs\\Python\\Python311\\Lib\\site-packages\\pandas\\core\\arraylike.py:399: RuntimeWarning: divide by zero encountered in log1p\n",
      "  result = getattr(ufunc, method)(*inputs, **kwargs)\n",
      "c:\\Users\\ldb76\\AppData\\Local\\Programs\\Python\\Python311\\Lib\\site-packages\\pandas\\core\\arraylike.py:399: RuntimeWarning: invalid value encountered in log1p\n",
      "  result = getattr(ufunc, method)(*inputs, **kwargs)\n",
      "C:\\Users\\ldb76\\AppData\\Roaming\\Python\\Python311\\site-packages\\IPython\\core\\pylabtools.py:170: UserWarning: Glyph 52509 (\\N{HANGUL SYLLABLE CONG}) missing from font(s) DejaVu Sans.\n",
      "  fig.canvas.print_figure(bytes_io, **kw)\n",
      "C:\\Users\\ldb76\\AppData\\Roaming\\Python\\Python311\\site-packages\\IPython\\core\\pylabtools.py:170: UserWarning: Glyph 51088 (\\N{HANGUL SYLLABLE JA}) missing from font(s) DejaVu Sans.\n",
      "  fig.canvas.print_figure(bytes_io, **kw)\n",
      "C:\\Users\\ldb76\\AppData\\Roaming\\Python\\Python311\\site-packages\\IPython\\core\\pylabtools.py:170: UserWarning: Glyph 49328 (\\N{HANGUL SYLLABLE SAN}) missing from font(s) DejaVu Sans.\n",
      "  fig.canvas.print_figure(bytes_io, **kw)\n",
      "C:\\Users\\ldb76\\AppData\\Roaming\\Python\\Python311\\site-packages\\IPython\\core\\pylabtools.py:170: UserWarning: Glyph 51613 (\\N{HANGUL SYLLABLE JEUNG}) missing from font(s) DejaVu Sans.\n",
      "  fig.canvas.print_figure(bytes_io, **kw)\n",
      "C:\\Users\\ldb76\\AppData\\Roaming\\Python\\Python311\\site-packages\\IPython\\core\\pylabtools.py:170: UserWarning: Glyph 44032 (\\N{HANGUL SYLLABLE GA}) missing from font(s) DejaVu Sans.\n",
      "  fig.canvas.print_figure(bytes_io, **kw)\n",
      "C:\\Users\\ldb76\\AppData\\Roaming\\Python\\Python311\\site-packages\\IPython\\core\\pylabtools.py:170: UserWarning: Glyph 50984 (\\N{HANGUL SYLLABLE YUL}) missing from font(s) DejaVu Sans.\n",
      "  fig.canvas.print_figure(bytes_io, **kw)\n",
      "C:\\Users\\ldb76\\AppData\\Roaming\\Python\\Python311\\site-packages\\IPython\\core\\pylabtools.py:170: UserWarning: Glyph 50976 (\\N{HANGUL SYLLABLE YU}) missing from font(s) DejaVu Sans.\n",
      "  fig.canvas.print_figure(bytes_io, **kw)\n",
      "C:\\Users\\ldb76\\AppData\\Roaming\\Python\\Python311\\site-packages\\IPython\\core\\pylabtools.py:170: UserWarning: Glyph 54805 (\\N{HANGUL SYLLABLE HYEONG}) missing from font(s) DejaVu Sans.\n",
      "  fig.canvas.print_figure(bytes_io, **kw)\n",
      "C:\\Users\\ldb76\\AppData\\Roaming\\Python\\Python311\\site-packages\\IPython\\core\\pylabtools.py:170: UserWarning: Glyph 46041 (\\N{HANGUL SYLLABLE DONG}) missing from font(s) DejaVu Sans.\n",
      "  fig.canvas.print_figure(bytes_io, **kw)\n"
     ]
    },
    {
     "data": {
      "image/png": "[encoded data removed]",
      "text/plain": [
       "<Figure size 1200x600 with 1 Axes>"
      ]
     },
     "metadata": {},
     "output_type": "display_data"
    }
   ],
   "source": [
    "import numpy as np\n",
    "\n",
    "# 로그 변환\n",
    "data_log_scaled = data[selected_columns].apply(lambda x: np.log1p(x))\n",
    "\n",
    "# 로그 변환 후 박스플롯\n",
    "plt.figure(figsize=(12, 6))\n",
    "data_log_scaled.boxplot(rot=45)\n",
    "plt.title(\"Selected Numeric Variables - Boxplot After Log Transformation\")\n",
    "plt.ylabel(\"Log-Scaled Values\")\n",
    "plt.show()\n"
   ]
  },
  {
   "cell_type": "code",
   "execution_count": 19,
   "metadata": {},
   "outputs": [
    {
     "data": {
      "text/plain": [
       "0        False\n",
       "1         True\n",
       "2        False\n",
       "3        False\n",
       "4        False\n",
       "         ...  \n",
       "38634     True\n",
       "38635    False\n",
       "38636    False\n",
       "38637    False\n",
       "38638    False\n",
       "Name: 2021/영업이익이자보상비율, Length: 27604, dtype: bool"
      ]
     },
     "execution_count": 19,
     "metadata": {},
     "output_type": "execute_result"
    }
   ],
   "source": [
    "data['2021/영업이익이자보상비율'] < 1"
   ]
  },
  {
   "cell_type": "markdown",
   "metadata": {},
   "source": [
    "- 0이면 부실기업이 아닌 기업, 1이면 부실기업을 의미"
   ]
  },
  {
   "cell_type": "code",
   "execution_count": 20,
   "metadata": {},
   "outputs": [
    {
     "name": "stdout",
     "output_type": "stream",
     "text": [
      "\n",
      "2022/부실기업 변수 값:\n",
      "2022/부실기업\n",
      "0    22672\n",
      "1     4932\n",
      "Name: count, dtype: int64\n",
      "\n",
      "2023/부실기업 변수 값:\n",
      "2023/부실기업\n",
      "0    22473\n",
      "1     5131\n",
      "Name: count, dtype: int64\n"
     ]
    },
    {
     "name": "stderr",
     "output_type": "stream",
     "text": [
      "C:\\Users\\ldb76\\AppData\\Local\\Temp\\ipykernel_18104\\1223814708.py:2: PerformanceWarning: DataFrame is highly fragmented.  This is usually the result of calling `frame.insert` many times, which has poor performance.  Consider joining all columns at once using pd.concat(axis=1) instead. To get a de-fragmented frame, use `newframe = frame.copy()`\n",
      "  data['2022/부실기업'] = ((data['2020/영업이익이자보상비율'] < 1) &\n",
      "C:\\Users\\ldb76\\AppData\\Local\\Temp\\ipykernel_18104\\1223814708.py:7: PerformanceWarning: DataFrame is highly fragmented.  This is usually the result of calling `frame.insert` many times, which has poor performance.  Consider joining all columns at once using pd.concat(axis=1) instead. To get a de-fragmented frame, use `newframe = frame.copy()`\n",
      "  data['2023/부실기업'] = ((data['2021/영업이익이자보상비율'] < 1) &\n"
     ]
    }
   ],
   "source": [
    "# 2022/부실기업 변수 생성 및 값 할당\n",
    "data['2022/부실기업'] = ((data['2020/영업이익이자보상비율'] < 1) & \n",
    "                        (data['2021/영업이익이자보상비율'] < 1) & \n",
    "                        (data['2022/영업이익이자보상비율'] < 1)).astype(int)\n",
    "\n",
    "# 2023/부실기업 변수 생성 및 값 할당\n",
    "data['2023/부실기업'] = ((data['2021/영업이익이자보상비율'] < 1) & \n",
    "                        (data['2022/영업이익이자보상비율'] < 1) & \n",
    "                        (data['2023/영업이익이자보상비율'] < 1)).astype(int)\n",
    "\n",
    "# 결과 확인\n",
    "print(\"\\n2022/부실기업 변수 값:\")\n",
    "print(data['2022/부실기업'].value_counts())\n",
    "\n",
    "print(\"\\n2023/부실기업 변수 값:\")\n",
    "print(data['2023/부실기업'].value_counts())"
   ]
  },
  {
   "cell_type": "code",
   "execution_count": 21,
   "metadata": {},
   "outputs": [
    {
     "data": {
      "text/plain": [
       "업체코드                   0\n",
       "종목코드               24402\n",
       "종목명                    1\n",
       "2020/총자산증가율            0\n",
       "2021/총자산증가율            0\n",
       "                   ...  \n",
       "2021/감가상각비(구성비)        0\n",
       "2022/감가상각비(구성비)        0\n",
       "2023/감가상각비(구성비)        0\n",
       "2022/부실기업              0\n",
       "2023/부실기업              0\n",
       "Length: 437, dtype: int64"
      ]
     },
     "execution_count": 21,
     "metadata": {},
     "output_type": "execute_result"
    }
   ],
   "source": [
    "data.isnull().sum()"
   ]
  },
  {
   "cell_type": "code",
   "execution_count": 22,
   "metadata": {},
   "outputs": [],
   "source": [
    "# '종목명' 열에서 null 값이 있는 행 제거\n",
    "data = data[data['종목명'].notnull()]"
   ]
  },
  {
   "cell_type": "markdown",
   "metadata": {},
   "source": [
    "이때 종목코드 x -> 해당 기업이 상장되지 않은 경우"
   ]
  },
  {
   "cell_type": "code",
   "execution_count": 23,
   "metadata": {},
   "outputs": [
    {
     "name": "stderr",
     "output_type": "stream",
     "text": [
      "C:\\Users\\ldb76\\AppData\\Local\\Temp\\ipykernel_18104\\292392295.py:2: PerformanceWarning: DataFrame is highly fragmented.  This is usually the result of calling `frame.insert` many times, which has poor performance.  Consider joining all columns at once using pd.concat(axis=1) instead. To get a de-fragmented frame, use `newframe = frame.copy()`\n",
      "  data['상장여부'] = data['종목코드'].notnull().astype(int)\n"
     ]
    }
   ],
   "source": [
    "# '종목코드' 열의 값이 있으면 1, 없으면 0을 부여하는 새로운 열 생성\n",
    "data['상장여부'] = data['종목코드'].notnull().astype(int)\n",
    "\n",
    "# '종목코드' 열 제거\n",
    "data = data.drop(columns=['종목코드'])"
   ]
  },
  {
   "cell_type": "code",
   "execution_count": 24,
   "metadata": {},
   "outputs": [
    {
     "data": {
      "text/plain": [
       "업체코드               0\n",
       "종목명                0\n",
       "2020/총자산증가율        0\n",
       "2021/총자산증가율        0\n",
       "2022/총자산증가율        0\n",
       "                  ..\n",
       "2022/감가상각비(구성비)    0\n",
       "2023/감가상각비(구성비)    0\n",
       "2022/부실기업          0\n",
       "2023/부실기업          0\n",
       "상장여부               0\n",
       "Length: 437, dtype: int64"
      ]
     },
     "execution_count": 24,
     "metadata": {},
     "output_type": "execute_result"
    }
   ],
   "source": [
    "data.isnull().sum()"
   ]
  },
  {
   "cell_type": "code",
   "execution_count": 31,
   "metadata": {},
   "outputs": [
    {
     "data": {
      "text/plain": [
       "업체코드                object\n",
       "종목명                 object\n",
       "2020/총자산증가율        float64\n",
       "2021/총자산증가율        float64\n",
       "2022/총자산증가율        float64\n",
       "                    ...   \n",
       "2022/감가상각비(구성비)    float64\n",
       "2023/감가상각비(구성비)    float64\n",
       "2022/부실기업            int32\n",
       "2023/부실기업            int32\n",
       "상장여부                 int32\n",
       "Length: 437, dtype: object"
      ]
     },
     "execution_count": 31,
     "metadata": {},
     "output_type": "execute_result"
    }
   ],
   "source": [
    "data.dtypes"
   ]
  },
  {
   "cell_type": "markdown",
   "metadata": {},
   "source": [
    "### t-test"
   ]
  },
  {
   "cell_type": "code",
   "execution_count": null,
   "metadata": {},
   "outputs": [
    {
     "name": "stdout",
     "output_type": "stream",
     "text": [
      "t-검정 결과 요약:\n",
      "                       변수        t-값  p-값\n",
      "299           2023/총자본회전율  50.497312  0.0\n",
      "42          2022/총자본영업이익율  78.096694  0.0\n",
      "43          2023/총자본영업이익율  68.768396  0.0\n",
      "226           2022/차입금의존도 -45.014498  0.0\n",
      "45   2021/총자본법인세비용차감전순이익율  59.620978  0.0\n",
      "46   2022/총자본법인세비용차감전순이익율  63.429898  0.0\n",
      "47   2023/총자본법인세비용차감전순이익율  58.411592  0.0\n",
      "48           2020/총자본순이익율  42.161589  0.0\n",
      "49           2021/총자본순이익율  57.473684  0.0\n",
      "50           2022/총자본순이익율  60.471166  0.0\n",
      "\n",
      "유의미한 변수들:\n",
      "                  변수        t-값           p-값\n",
      "0        2020/총자산증가율  -5.875854  4.420711e-09\n",
      "1        2021/총자산증가율  -5.444239  5.405659e-08\n",
      "2        2022/총자산증가율   6.429458  1.367696e-10\n",
      "3        2023/총자산증가율  12.333330  1.343744e-34\n",
      "7       2023/유형자산증가율   6.804193  1.082887e-11\n",
      "..               ...        ...           ...\n",
      "427   2023/조세공과(구성비)  -4.225246  2.416841e-05\n",
      "429  2021/감가상각비(구성비)  -4.141930  3.488085e-05\n",
      "430  2022/감가상각비(구성비)  -4.588787  4.540407e-06\n",
      "431  2023/감가상각비(구성비)  -4.212045  2.561527e-05\n",
      "432             상장여부  -3.923307  8.814390e-05\n",
      "\n",
      "[406 rows x 3 columns]\n"
     ]
    }
   ],
   "source": [
    "from scipy.stats import ttest_ind\n",
    "\n",
    "# 타겟 변수 설정\n",
    "group_0 = data[data['2023/부실기업'] == 0]  # 부실기업이 아닌 그룹\n",
    "group_1 = data[data['2023/부실기업'] == 1]  # 부실기업 그룹\n",
    "\n",
    "# 숫자형 변수 선택 및 제외할 열들 제거\n",
    "numeric_columns = data.select_dtypes(include=['number']).columns.drop(['2022/부실기업', '2023/부실기업'])\n",
    "\n",
    "# t-검정 결과 저장\n",
    "t_test_results = []\n",
    "\n",
    "for col in numeric_columns:\n",
    "    # 각 변수에 대해 t-검정 수행\n",
    "    t_stat, p_value = ttest_ind(group_0[col].dropna(), group_1[col].dropna(), equal_var=False)  # Welch's t-test\n",
    "    t_test_results.append({'변수': col, 't-값': t_stat, 'p-값': p_value})\n",
    "\n",
    "# t-검정 결과를 데이터프레임으로 정리\n",
    "t_test_df = pd.DataFrame(t_test_results)\n",
    "\n",
    "# 유의미한 변수 필터링 (p-값 < 0.05)\n",
    "significant_vars = t_test_df[t_test_df['p-값'] < 0.05]\n",
    "\n",
    "# 결과 출력\n",
    "print(\"t-검정 결과 요약:\")\n",
    "print(t_test_df.sort_values(by='p-값').head(10))  # p-값 기준 상위 10개 출력\n",
    "print(\"\\n유의미한 변수들:\")\n",
    "print(significant_vars)"
   ]
  },
  {
   "cell_type": "code",
   "execution_count": 36,
   "metadata": {},
   "outputs": [
    {
     "name": "stdout",
     "output_type": "stream",
     "text": [
      "2021년도 변수들:\n",
      "['2021/총자산증가율', '2021/유형자산증가율', '2021/유동자산증가율', '2021/재고자산증가율', '2021/자기자본증가율', '2021/매출액증가율', '2021/영업이익증가율', '2021/법인세비용차감전순이익증가율', '2021/순이익증가율', '2021/종업원수증가율', '2021/총자본영업이익율', '2021/총자본법인세비용차감전순이익율', '2021/총자본순이익율', '2021/기업법인세비용차감전순이익율', '2021/기업순이익율', '2021/경영자본영업이익율', '2021/자기자본법인세비용차감전순이익율', '2021/자기자본순이익율', '2021/자본금법인세비용차감전순이익율', '2021/자본금순이익율', '2021/매출액법인세비용차감전순이익율', '2021/매출액순이익율', '2021/매출액총이익율', '2021/매출액영업이익율', '2021/수지비율', '2021/매출원가율', '2021/감가상각율', '2021/감가상각비/총비용비율', '2021/인건비/총비용비율', '2021/조세/조세차감전순이익비율', '2021/조세공과/총비용비율', '2021/금융비용/총부채', '2021/차입금평균이자율', '2021/금융비용/총비용비율', '2021/금융비용/매출액비율', '2021/영업활동현금흐름이자보상비율', '2021/영업이익이자보상비율', '2021/법인세비용차감전순이익이자보상비율', '2021/법인세차감전순이익이자보상비율', '2021/배당율', '2021/배당성향', '2021/상환계수(세전이익)', '2021/부채상환계수', '2021/대출효율성계수(법인세비용차감전순이익)', '2021/EBIT대매출액(세전이익)', '2021/EBITDA대매출액', '2021/EBITDA대금융비용', '2021/자기자본비율', '2021/유동비율', '2021/당좌비율', '2021/현금비율', '2021/비유동자산비율', '2021/비유동자산장기적합율', '2021/부채비율', '2021/유동부채비율', '2021/비유동부채비율', '2021/차입금의존도', '2021/차입금/자기자본', '2021/차입금/매출액비율', '2021/매출채권/매입채무비율', '2021/매출채권/상,제품비율', '2021/매입채무/재고자산비율', '2021/재고자산/순운전자본비율', '2021/비유동부채/순운전자본비율', '2021/순운전자본/총자본비율', '2021/적립금비율', '2021/사내유보율', '2021/유보액/총자산비율', '2021/유보액/납입자본비율', '2021/총C/F대부채비율', '2021/총C/F대차입금비율', '2021/총C/F대총자본비율', '2021/총C/F대매출액비율', '2021/순C/F대차입금비율', '2021/총자본회전율', '2021/자기자본회전율', '2021/자본금회전율', '2021/순운전자본회전율', '2021/경영자본회전율', '2021/비유동자산회전율', '2021/유형자산회전율', '2021/재고자산회전율1', '2021/상(제)품회전율', '2021/원재료회전율', '2021/재공품회전율', '2021/매출채권회전율', '2021/매입채무회전율', '2021/재고자산회전율2', '2021/순영업자본회전율', '2021/부가가치(종업원1인당)', '2021/매출액(종업원1인당)', '2021/법인세비용차감전순이익(종업원1인당)', '2021/순이익(종업원1인당)', '2021/인건비(종업원1인당)', '2021/노동장비율(종업원1인당)', '2021/기계장비율(종업원1인당)', '2021/자본집약도(종업원1인당)', '2021/총자본투자효율', '2021/설비투자효율', '2021/기계투자효율', '2021/부가가치율', '2021/노동소득분배율', '2021/법인세차감전순이익(구성비)', '2021/인건비(구성비)', '2021/금융비용(구성비)', '2021/임차료(구성비)', '2021/조세공과(구성비)', '2021/감가상각비(구성비)']\n",
      "\n",
      "2022년도 변수들:\n",
      "['2022/총자산증가율', '2022/유형자산증가율', '2022/유동자산증가율', '2022/재고자산증가율', '2022/자기자본증가율', '2022/매출액증가율', '2022/영업이익증가율', '2022/법인세비용차감전순이익증가율', '2022/순이익증가율', '2022/종업원수증가율', '2022/총자본영업이익율', '2022/총자본법인세비용차감전순이익율', '2022/총자본순이익율', '2022/기업법인세비용차감전순이익율', '2022/기업순이익율', '2022/경영자본영업이익율', '2022/자기자본법인세비용차감전순이익율', '2022/자기자본순이익율', '2022/자본금법인세비용차감전순이익율', '2022/자본금순이익율', '2022/매출액법인세비용차감전순이익율', '2022/매출액순이익율', '2022/매출액총이익율', '2022/매출액영업이익율', '2022/수지비율', '2022/매출원가율', '2022/감가상각율', '2022/감가상각비/총비용비율', '2022/인건비/총비용비율', '2022/조세/조세차감전순이익비율', '2022/조세공과/총비용비율', '2022/금융비용/총부채', '2022/차입금평균이자율', '2022/금융비용/총비용비율', '2022/금융비용/매출액비율', '2022/영업활동현금흐름이자보상비율', '2022/영업이익이자보상비율', '2022/법인세비용차감전순이익이자보상비율', '2022/법인세차감전순이익이자보상비율', '2022/배당율', '2022/배당성향', '2022/상환계수(세전이익)', '2022/부채상환계수', '2022/대출효율성계수(법인세비용차감전순이익)', '2022/EBIT대매출액(세전이익)', '2022/EBITDA대매출액', '2022/EBITDA대금융비용', '2022/자기자본비율', '2022/유동비율', '2022/당좌비율', '2022/현금비율', '2022/비유동자산비율', '2022/비유동자산장기적합율', '2022/부채비율', '2022/유동부채비율', '2022/비유동부채비율', '2022/차입금의존도', '2022/차입금/자기자본', '2022/차입금/매출액비율', '2022/매출채권/매입채무비율', '2022/매출채권/상,제품비율', '2022/매입채무/재고자산비율', '2022/재고자산/순운전자본비율', '2022/비유동부채/순운전자본비율', '2022/순운전자본/총자본비율', '2022/적립금비율', '2022/사내유보율', '2022/유보액/총자산비율', '2022/유보액/납입자본비율', '2022/총C/F대부채비율', '2022/총C/F대차입금비율', '2022/총C/F대총자본비율', '2022/총C/F대매출액비율', '2022/순C/F대차입금비율', '2022/총자본회전율', '2022/자기자본회전율', '2022/자본금회전율', '2022/순운전자본회전율', '2022/경영자본회전율', '2022/비유동자산회전율', '2022/유형자산회전율', '2022/재고자산회전율1', '2022/상(제)품회전율', '2022/원재료회전율', '2022/재공품회전율', '2022/매출채권회전율', '2022/매입채무회전율', '2022/재고자산회전율2', '2022/순영업자본회전율', '2022/부가가치(종업원1인당)', '2022/매출액(종업원1인당)', '2022/법인세비용차감전순이익(종업원1인당)', '2022/순이익(종업원1인당)', '2022/인건비(종업원1인당)', '2022/노동장비율(종업원1인당)', '2022/기계장비율(종업원1인당)', '2022/자본집약도(종업원1인당)', '2022/총자본투자효율', '2022/설비투자효율', '2022/기계투자효율', '2022/부가가치율', '2022/노동소득분배율', '2022/법인세차감전순이익(구성비)', '2022/인건비(구성비)', '2022/금융비용(구성비)', '2022/임차료(구성비)', '2022/조세공과(구성비)', '2022/감가상각비(구성비)']\n",
      "\n",
      "2023년도 변수들:\n",
      "['2023/총자산증가율', '2023/유형자산증가율', '2023/유동자산증가율', '2023/재고자산증가율', '2023/자기자본증가율', '2023/매출액증가율', '2023/영업이익증가율', '2023/법인세비용차감전순이익증가율', '2023/순이익증가율', '2023/종업원수증가율', '2023/총자본영업이익율', '2023/총자본법인세비용차감전순이익율', '2023/총자본순이익율', '2023/기업법인세비용차감전순이익율', '2023/기업순이익율', '2023/경영자본영업이익율', '2023/자기자본법인세비용차감전순이익율', '2023/자기자본순이익율', '2023/자본금법인세비용차감전순이익율', '2023/자본금순이익율', '2023/매출액법인세비용차감전순이익율', '2023/매출액순이익율', '2023/매출액총이익율', '2023/매출액영업이익율', '2023/수지비율', '2023/매출원가율', '2023/감가상각율', '2023/감가상각비/총비용비율', '2023/인건비/총비용비율', '2023/조세/조세차감전순이익비율', '2023/조세공과/총비용비율', '2023/금융비용/총부채', '2023/차입금평균이자율', '2023/금융비용/총비용비율', '2023/금융비용/매출액비율', '2023/영업활동현금흐름이자보상비율', '2023/영업이익이자보상비율', '2023/법인세비용차감전순이익이자보상비율', '2023/법인세차감전순이익이자보상비율', '2023/배당율', '2023/배당성향', '2023/상환계수(세전이익)', '2023/부채상환계수', '2023/대출효율성계수(법인세비용차감전순이익)', '2023/EBIT대매출액(세전이익)', '2023/EBITDA대매출액', '2023/EBITDA대금융비용', '2023/자기자본비율', '2023/유동비율', '2023/당좌비율', '2023/현금비율', '2023/비유동자산비율', '2023/비유동자산장기적합율', '2023/부채비율', '2023/유동부채비율', '2023/비유동부채비율', '2023/차입금의존도', '2023/차입금/자기자본', '2023/차입금/매출액비율', '2023/매출채권/매입채무비율', '2023/매출채권/상,제품비율', '2023/매입채무/재고자산비율', '2023/재고자산/순운전자본비율', '2023/비유동부채/순운전자본비율', '2023/순운전자본/총자본비율', '2023/적립금비율', '2023/사내유보율', '2023/유보액/총자산비율', '2023/유보액/납입자본비율', '2023/총C/F대부채비율', '2023/총C/F대차입금비율', '2023/총C/F대총자본비율', '2023/총C/F대매출액비율', '2023/순C/F대차입금비율', '2023/총자본회전율', '2023/자기자본회전율', '2023/자본금회전율', '2023/순운전자본회전율', '2023/경영자본회전율', '2023/비유동자산회전율', '2023/유형자산회전율', '2023/재고자산회전율1', '2023/상(제)품회전율', '2023/원재료회전율', '2023/재공품회전율', '2023/매출채권회전율', '2023/매입채무회전율', '2023/재고자산회전율2', '2023/순영업자본회전율', '2023/부가가치(종업원1인당)', '2023/매출액(종업원1인당)', '2023/법인세비용차감전순이익(종업원1인당)', '2023/순이익(종업원1인당)', '2023/인건비(종업원1인당)', '2023/노동장비율(종업원1인당)', '2023/기계장비율(종업원1인당)', '2023/자본집약도(종업원1인당)', '2023/총자본투자효율', '2023/설비투자효율', '2023/기계투자효율', '2023/부가가치율', '2023/노동소득분배율', '2023/법인세차감전순이익(구성비)', '2023/인건비(구성비)', '2023/금융비용(구성비)', '2023/임차료(구성비)', '2023/조세공과(구성비)', '2023/감가상각비(구성비)']\n",
      "\n",
      "연도별 변수 요약:\n",
      "                2021             2022             2023\n",
      "0        2021/총자산증가율      2022/총자산증가율      2023/총자산증가율\n",
      "1       2021/유형자산증가율     2022/유형자산증가율     2023/유형자산증가율\n",
      "2       2021/유동자산증가율     2022/유동자산증가율     2023/유동자산증가율\n",
      "3       2021/재고자산증가율     2022/재고자산증가율     2023/재고자산증가율\n",
      "4       2021/자기자본증가율     2022/자기자본증가율     2023/자기자본증가율\n",
      "..               ...              ...              ...\n",
      "103    2021/인건비(구성비)    2022/인건비(구성비)    2023/인건비(구성비)\n",
      "104   2021/금융비용(구성비)   2022/금융비용(구성비)   2023/금융비용(구성비)\n",
      "105    2021/임차료(구성비)    2022/임차료(구성비)    2023/임차료(구성비)\n",
      "106   2021/조세공과(구성비)   2022/조세공과(구성비)   2023/조세공과(구성비)\n",
      "107  2021/감가상각비(구성비)  2022/감가상각비(구성비)  2023/감가상각비(구성비)\n",
      "\n",
      "[108 rows x 3 columns]\n"
     ]
    }
   ],
   "source": [
    "# 각 연도별 변수 선택\n",
    "vars_2021 = [col for col in numeric_columns if col.startswith('2021/')]\n",
    "vars_2022 = [col for col in numeric_columns if col.startswith('2022/')]\n",
    "vars_2023 = [col for col in numeric_columns if col.startswith('2023/')]\n",
    "\n",
    "# 연도별 변수 출력\n",
    "print(\"2021년도 변수들:\")\n",
    "print(vars_2021)\n",
    "\n",
    "print(\"\\n2022년도 변수들:\")\n",
    "print(vars_2022)\n",
    "\n",
    "print(\"\\n2023년도 변수들:\")\n",
    "print(vars_2023)\n",
    "\n",
    "# 연도별 변수들을 사전으로 정리\n",
    "yearly_variables = {\n",
    "    '2021': vars_2021,\n",
    "    '2022': vars_2022,\n",
    "    '2023': vars_2023\n",
    "}\n",
    "\n",
    "# 데이터프레임으로 정리해서 보기 (선택 사항)\n",
    "import pandas as pd\n",
    "yearly_variables_df = pd.DataFrame(dict([(year, pd.Series(vars)) for year, vars in yearly_variables.items()]))\n",
    "print(\"\\n연도별 변수 요약:\")\n",
    "print(yearly_variables_df)\n"
   ]
  },
  {
   "cell_type": "markdown",
   "metadata": {},
   "source": [
    "### 로지스틱 회귀분석 & 후진선택법"
   ]
  },
  {
   "cell_type": "code",
   "execution_count": 38,
   "metadata": {},
   "outputs": [],
   "source": [
    "import statsmodels.api as sm\n",
    "\n",
    "# '2023/부실기업'을 종속변수로 설정\n",
    "y = data['2023/부실기업']\n",
    "\n",
    "# 독립변수: '2021/', '2022/', '2023/'로 시작하는 재무비율 변수들\n",
    "financial_columns = [col for col in data.columns if col.startswith(('2021/', '2022/', '2023/'))]\n",
    "X = data[financial_columns]\n",
    "\n",
    "# 상수항 추가 (로지스틱 회귀를 위해)\n",
    "X = sm.add_constant(X)"
   ]
  },
  {
   "cell_type": "code",
   "execution_count": 39,
   "metadata": {},
   "outputs": [],
   "source": [
    "\n",
    "def backward_elimination(X, y, significance_level=0.05):\n",
    "    \"\"\"\n",
    "    후진 선택법을 이용한 변수 선택\n",
    "    Args:\n",
    "    - X: 독립변수 데이터프레임\n",
    "    - y: 종속변수 시리즈\n",
    "    - significance_level: 변수 제거 기준 p-value (기본값: 0.05)\n",
    "\n",
    "    Returns:\n",
    "    - 최종 모델\n",
    "    - 선택된 변수 리스트\n",
    "    \"\"\"\n",
    "    while True:\n",
    "        model = sm.Logit(y, X).fit(disp=False)  # 로지스틱 회귀 모델 적합\n",
    "        p_values = model.pvalues\n",
    "        max_p_value = p_values.max()  # 가장 높은 p-value\n",
    "\n",
    "        if max_p_value > significance_level:  # 기준보다 높은 변수 제거\n",
    "            excluded_variable = p_values.idxmax()\n",
    "            print(f\"제거된 변수: {excluded_variable}, p-value: {max_p_value}\")\n",
    "            X = X.drop(columns=[excluded_variable])\n",
    "        else:\n",
    "            break\n",
    "\n",
    "    return model, X.columns"
   ]
  },
  {
   "cell_type": "code",
   "execution_count": 40,
   "metadata": {},
   "outputs": [
    {
     "name": "stderr",
     "output_type": "stream",
     "text": [
      "c:\\Users\\ldb76\\AppData\\Local\\Programs\\Python\\Python311\\Lib\\site-packages\\statsmodels\\discrete\\discrete_model.py:227: PerfectSeparationWarning: Perfect separation or prediction detected, parameter may not be identified\n",
      "  warnings.warn(msg, category=PerfectSeparationWarning)\n",
      "c:\\Users\\ldb76\\AppData\\Local\\Programs\\Python\\Python311\\Lib\\site-packages\\statsmodels\\discrete\\discrete_model.py:2385: RuntimeWarning: overflow encountered in exp\n",
      "  return 1/(1+np.exp(-X))\n",
      "c:\\Users\\ldb76\\AppData\\Local\\Programs\\Python\\Python311\\Lib\\site-packages\\statsmodels\\discrete\\discrete_model.py:2443: RuntimeWarning: divide by zero encountered in log\n",
      "  return np.sum(np.log(self.cdf(q * linpred)))\n"
     ]
    },
    {
     "ename": "LinAlgError",
     "evalue": "Singular matrix",
     "output_type": "error",
     "traceback": [
      "\u001b[1;31m---------------------------------------------------------------------------\u001b[0m",
      "\u001b[1;31mLinAlgError\u001b[0m                               Traceback (most recent call last)",
      "Cell \u001b[1;32mIn[40], line 2\u001b[0m\n\u001b[0;32m      1\u001b[0m \u001b[38;5;66;03m# 후진 선택법 수행\u001b[39;00m\n\u001b[1;32m----> 2\u001b[0m final_model, selected_features \u001b[38;5;241m=\u001b[39m \u001b[43mbackward_elimination\u001b[49m\u001b[43m(\u001b[49m\u001b[43mX\u001b[49m\u001b[43m,\u001b[49m\u001b[43m \u001b[49m\u001b[43my\u001b[49m\u001b[43m)\u001b[49m\n\u001b[0;32m      4\u001b[0m \u001b[38;5;66;03m# 최종 결과 출력\u001b[39;00m\n\u001b[0;32m      5\u001b[0m \u001b[38;5;28mprint\u001b[39m(\u001b[38;5;124m\"\u001b[39m\u001b[38;5;130;01m\\n\u001b[39;00m\u001b[38;5;124m선택된 변수들:\u001b[39m\u001b[38;5;124m\"\u001b[39m)\n",
      "Cell \u001b[1;32mIn[39], line 14\u001b[0m, in \u001b[0;36mbackward_elimination\u001b[1;34m(X, y, significance_level)\u001b[0m\n\u001b[0;32m      2\u001b[0m \u001b[38;5;250m\u001b[39m\u001b[38;5;124;03m\"\"\"\u001b[39;00m\n\u001b[0;32m      3\u001b[0m \u001b[38;5;124;03m후진 선택법을 이용한 변수 선택\u001b[39;00m\n\u001b[0;32m      4\u001b[0m \u001b[38;5;124;03mArgs:\u001b[39;00m\n\u001b[1;32m   (...)\u001b[0m\n\u001b[0;32m     11\u001b[0m \u001b[38;5;124;03m- 선택된 변수 리스트\u001b[39;00m\n\u001b[0;32m     12\u001b[0m \u001b[38;5;124;03m\"\"\"\u001b[39;00m\n\u001b[0;32m     13\u001b[0m \u001b[38;5;28;01mwhile\u001b[39;00m \u001b[38;5;28;01mTrue\u001b[39;00m:\n\u001b[1;32m---> 14\u001b[0m     model \u001b[38;5;241m=\u001b[39m \u001b[43msm\u001b[49m\u001b[38;5;241;43m.\u001b[39;49m\u001b[43mLogit\u001b[49m\u001b[43m(\u001b[49m\u001b[43my\u001b[49m\u001b[43m,\u001b[49m\u001b[43m \u001b[49m\u001b[43mX\u001b[49m\u001b[43m)\u001b[49m\u001b[38;5;241;43m.\u001b[39;49m\u001b[43mfit\u001b[49m\u001b[43m(\u001b[49m\u001b[43mdisp\u001b[49m\u001b[38;5;241;43m=\u001b[39;49m\u001b[38;5;28;43;01mFalse\u001b[39;49;00m\u001b[43m)\u001b[49m  \u001b[38;5;66;03m# 로지스틱 회귀 모델 적합\u001b[39;00m\n\u001b[0;32m     15\u001b[0m     p_values \u001b[38;5;241m=\u001b[39m model\u001b[38;5;241m.\u001b[39mpvalues\n\u001b[0;32m     16\u001b[0m     max_p_value \u001b[38;5;241m=\u001b[39m p_values\u001b[38;5;241m.\u001b[39mmax()  \u001b[38;5;66;03m# 가장 높은 p-value\u001b[39;00m\n",
      "File \u001b[1;32mc:\\Users\\ldb76\\AppData\\Local\\Programs\\Python\\Python311\\Lib\\site-packages\\statsmodels\\discrete\\discrete_model.py:2601\u001b[0m, in \u001b[0;36mLogit.fit\u001b[1;34m(self, start_params, method, maxiter, full_output, disp, callback, **kwargs)\u001b[0m\n\u001b[0;32m   2598\u001b[0m \u001b[38;5;129m@Appender\u001b[39m(DiscreteModel\u001b[38;5;241m.\u001b[39mfit\u001b[38;5;241m.\u001b[39m\u001b[38;5;18m__doc__\u001b[39m)\n\u001b[0;32m   2599\u001b[0m \u001b[38;5;28;01mdef\u001b[39;00m \u001b[38;5;21mfit\u001b[39m(\u001b[38;5;28mself\u001b[39m, start_params\u001b[38;5;241m=\u001b[39m\u001b[38;5;28;01mNone\u001b[39;00m, method\u001b[38;5;241m=\u001b[39m\u001b[38;5;124m'\u001b[39m\u001b[38;5;124mnewton\u001b[39m\u001b[38;5;124m'\u001b[39m, maxiter\u001b[38;5;241m=\u001b[39m\u001b[38;5;241m35\u001b[39m,\n\u001b[0;32m   2600\u001b[0m         full_output\u001b[38;5;241m=\u001b[39m\u001b[38;5;241m1\u001b[39m, disp\u001b[38;5;241m=\u001b[39m\u001b[38;5;241m1\u001b[39m, callback\u001b[38;5;241m=\u001b[39m\u001b[38;5;28;01mNone\u001b[39;00m, \u001b[38;5;241m*\u001b[39m\u001b[38;5;241m*\u001b[39mkwargs):\n\u001b[1;32m-> 2601\u001b[0m     bnryfit \u001b[38;5;241m=\u001b[39m \u001b[38;5;28;43msuper\u001b[39;49m\u001b[43m(\u001b[49m\u001b[43m)\u001b[49m\u001b[38;5;241;43m.\u001b[39;49m\u001b[43mfit\u001b[49m\u001b[43m(\u001b[49m\u001b[43mstart_params\u001b[49m\u001b[38;5;241;43m=\u001b[39;49m\u001b[43mstart_params\u001b[49m\u001b[43m,\u001b[49m\n\u001b[0;32m   2602\u001b[0m \u001b[43m                          \u001b[49m\u001b[43mmethod\u001b[49m\u001b[38;5;241;43m=\u001b[39;49m\u001b[43mmethod\u001b[49m\u001b[43m,\u001b[49m\n\u001b[0;32m   2603\u001b[0m \u001b[43m                          \u001b[49m\u001b[43mmaxiter\u001b[49m\u001b[38;5;241;43m=\u001b[39;49m\u001b[43mmaxiter\u001b[49m\u001b[43m,\u001b[49m\n\u001b[0;32m   2604\u001b[0m \u001b[43m                          \u001b[49m\u001b[43mfull_output\u001b[49m\u001b[38;5;241;43m=\u001b[39;49m\u001b[43mfull_output\u001b[49m\u001b[43m,\u001b[49m\n\u001b[0;32m   2605\u001b[0m \u001b[43m                          \u001b[49m\u001b[43mdisp\u001b[49m\u001b[38;5;241;43m=\u001b[39;49m\u001b[43mdisp\u001b[49m\u001b[43m,\u001b[49m\n\u001b[0;32m   2606\u001b[0m \u001b[43m                          \u001b[49m\u001b[43mcallback\u001b[49m\u001b[38;5;241;43m=\u001b[39;49m\u001b[43mcallback\u001b[49m\u001b[43m,\u001b[49m\n\u001b[0;32m   2607\u001b[0m \u001b[43m                          \u001b[49m\u001b[38;5;241;43m*\u001b[39;49m\u001b[38;5;241;43m*\u001b[39;49m\u001b[43mkwargs\u001b[49m\u001b[43m)\u001b[49m\n\u001b[0;32m   2609\u001b[0m     discretefit \u001b[38;5;241m=\u001b[39m LogitResults(\u001b[38;5;28mself\u001b[39m, bnryfit)\n\u001b[0;32m   2610\u001b[0m     \u001b[38;5;28;01mreturn\u001b[39;00m BinaryResultsWrapper(discretefit)\n",
      "File \u001b[1;32mc:\\Users\\ldb76\\AppData\\Local\\Programs\\Python\\Python311\\Lib\\site-packages\\statsmodels\\discrete\\discrete_model.py:243\u001b[0m, in \u001b[0;36mDiscreteModel.fit\u001b[1;34m(self, start_params, method, maxiter, full_output, disp, callback, **kwargs)\u001b[0m\n\u001b[0;32m    240\u001b[0m \u001b[38;5;28;01melse\u001b[39;00m:\n\u001b[0;32m    241\u001b[0m     \u001b[38;5;28;01mpass\u001b[39;00m  \u001b[38;5;66;03m# TODO: make a function factory to have multiple call-backs\u001b[39;00m\n\u001b[1;32m--> 243\u001b[0m mlefit \u001b[38;5;241m=\u001b[39m \u001b[38;5;28;43msuper\u001b[39;49m\u001b[43m(\u001b[49m\u001b[43m)\u001b[49m\u001b[38;5;241;43m.\u001b[39;49m\u001b[43mfit\u001b[49m\u001b[43m(\u001b[49m\u001b[43mstart_params\u001b[49m\u001b[38;5;241;43m=\u001b[39;49m\u001b[43mstart_params\u001b[49m\u001b[43m,\u001b[49m\n\u001b[0;32m    244\u001b[0m \u001b[43m                     \u001b[49m\u001b[43mmethod\u001b[49m\u001b[38;5;241;43m=\u001b[39;49m\u001b[43mmethod\u001b[49m\u001b[43m,\u001b[49m\n\u001b[0;32m    245\u001b[0m \u001b[43m                     \u001b[49m\u001b[43mmaxiter\u001b[49m\u001b[38;5;241;43m=\u001b[39;49m\u001b[43mmaxiter\u001b[49m\u001b[43m,\u001b[49m\n\u001b[0;32m    246\u001b[0m \u001b[43m                     \u001b[49m\u001b[43mfull_output\u001b[49m\u001b[38;5;241;43m=\u001b[39;49m\u001b[43mfull_output\u001b[49m\u001b[43m,\u001b[49m\n\u001b[0;32m    247\u001b[0m \u001b[43m                     \u001b[49m\u001b[43mdisp\u001b[49m\u001b[38;5;241;43m=\u001b[39;49m\u001b[43mdisp\u001b[49m\u001b[43m,\u001b[49m\n\u001b[0;32m    248\u001b[0m \u001b[43m                     \u001b[49m\u001b[43mcallback\u001b[49m\u001b[38;5;241;43m=\u001b[39;49m\u001b[43mcallback\u001b[49m\u001b[43m,\u001b[49m\n\u001b[0;32m    249\u001b[0m \u001b[43m                     \u001b[49m\u001b[38;5;241;43m*\u001b[39;49m\u001b[38;5;241;43m*\u001b[39;49m\u001b[43mkwargs\u001b[49m\u001b[43m)\u001b[49m\n\u001b[0;32m    251\u001b[0m \u001b[38;5;28;01mreturn\u001b[39;00m mlefit\n",
      "File \u001b[1;32mc:\\Users\\ldb76\\AppData\\Local\\Programs\\Python\\Python311\\Lib\\site-packages\\statsmodels\\base\\model.py:582\u001b[0m, in \u001b[0;36mLikelihoodModel.fit\u001b[1;34m(self, start_params, method, maxiter, full_output, disp, fargs, callback, retall, skip_hessian, **kwargs)\u001b[0m\n\u001b[0;32m    580\u001b[0m     Hinv \u001b[38;5;241m=\u001b[39m cov_params_func(\u001b[38;5;28mself\u001b[39m, xopt, retvals)\n\u001b[0;32m    581\u001b[0m \u001b[38;5;28;01melif\u001b[39;00m method \u001b[38;5;241m==\u001b[39m \u001b[38;5;124m'\u001b[39m\u001b[38;5;124mnewton\u001b[39m\u001b[38;5;124m'\u001b[39m \u001b[38;5;129;01mand\u001b[39;00m full_output:\n\u001b[1;32m--> 582\u001b[0m     Hinv \u001b[38;5;241m=\u001b[39m \u001b[43mnp\u001b[49m\u001b[38;5;241;43m.\u001b[39;49m\u001b[43mlinalg\u001b[49m\u001b[38;5;241;43m.\u001b[39;49m\u001b[43minv\u001b[49m\u001b[43m(\u001b[49m\u001b[38;5;241;43m-\u001b[39;49m\u001b[43mretvals\u001b[49m\u001b[43m[\u001b[49m\u001b[38;5;124;43m'\u001b[39;49m\u001b[38;5;124;43mHessian\u001b[39;49m\u001b[38;5;124;43m'\u001b[39;49m\u001b[43m]\u001b[49m\u001b[43m)\u001b[49m \u001b[38;5;241m/\u001b[39m nobs\n\u001b[0;32m    583\u001b[0m \u001b[38;5;28;01melif\u001b[39;00m \u001b[38;5;129;01mnot\u001b[39;00m skip_hessian:\n\u001b[0;32m    584\u001b[0m     H \u001b[38;5;241m=\u001b[39m \u001b[38;5;241m-\u001b[39m\u001b[38;5;241m1\u001b[39m \u001b[38;5;241m*\u001b[39m \u001b[38;5;28mself\u001b[39m\u001b[38;5;241m.\u001b[39mhessian(xopt)\n",
      "File \u001b[1;32mc:\\Users\\ldb76\\AppData\\Local\\Programs\\Python\\Python311\\Lib\\site-packages\\numpy\\linalg\\linalg.py:561\u001b[0m, in \u001b[0;36minv\u001b[1;34m(a)\u001b[0m\n\u001b[0;32m    559\u001b[0m signature \u001b[38;5;241m=\u001b[39m \u001b[38;5;124m'\u001b[39m\u001b[38;5;124mD->D\u001b[39m\u001b[38;5;124m'\u001b[39m \u001b[38;5;28;01mif\u001b[39;00m isComplexType(t) \u001b[38;5;28;01melse\u001b[39;00m \u001b[38;5;124m'\u001b[39m\u001b[38;5;124md->d\u001b[39m\u001b[38;5;124m'\u001b[39m\n\u001b[0;32m    560\u001b[0m extobj \u001b[38;5;241m=\u001b[39m get_linalg_error_extobj(_raise_linalgerror_singular)\n\u001b[1;32m--> 561\u001b[0m ainv \u001b[38;5;241m=\u001b[39m \u001b[43m_umath_linalg\u001b[49m\u001b[38;5;241;43m.\u001b[39;49m\u001b[43minv\u001b[49m\u001b[43m(\u001b[49m\u001b[43ma\u001b[49m\u001b[43m,\u001b[49m\u001b[43m \u001b[49m\u001b[43msignature\u001b[49m\u001b[38;5;241;43m=\u001b[39;49m\u001b[43msignature\u001b[49m\u001b[43m,\u001b[49m\u001b[43m \u001b[49m\u001b[43mextobj\u001b[49m\u001b[38;5;241;43m=\u001b[39;49m\u001b[43mextobj\u001b[49m\u001b[43m)\u001b[49m\n\u001b[0;32m    562\u001b[0m \u001b[38;5;28;01mreturn\u001b[39;00m wrap(ainv\u001b[38;5;241m.\u001b[39mastype(result_t, copy\u001b[38;5;241m=\u001b[39m\u001b[38;5;28;01mFalse\u001b[39;00m))\n",
      "File \u001b[1;32mc:\\Users\\ldb76\\AppData\\Local\\Programs\\Python\\Python311\\Lib\\site-packages\\numpy\\linalg\\linalg.py:112\u001b[0m, in \u001b[0;36m_raise_linalgerror_singular\u001b[1;34m(err, flag)\u001b[0m\n\u001b[0;32m    111\u001b[0m \u001b[38;5;28;01mdef\u001b[39;00m \u001b[38;5;21m_raise_linalgerror_singular\u001b[39m(err, flag):\n\u001b[1;32m--> 112\u001b[0m     \u001b[38;5;28;01mraise\u001b[39;00m LinAlgError(\u001b[38;5;124m\"\u001b[39m\u001b[38;5;124mSingular matrix\u001b[39m\u001b[38;5;124m\"\u001b[39m)\n",
      "\u001b[1;31mLinAlgError\u001b[0m: Singular matrix"
     ]
    }
   ],
   "source": [
    "# 후진 선택법 수행\n",
    "final_model, selected_features = backward_elimination(X, y)\n",
    "\n",
    "# 최종 결과 출력\n",
    "print(\"\\n선택된 변수들:\")\n",
    "print(selected_features)\n",
    "\n",
    "# 최종 모델 요약\n",
    "print(\"\\n최종 모델 요약:\")\n",
    "print(final_model.summary())"
   ]
  }
 ],
 "metadata": {
  "kernelspec": {
   "display_name": "Python 3",
   "language": "python",
   "name": "python3"
  },
  "language_info": {
   "codemirror_mode": {
    "name": "ipython",
    "version": 3
   },
   "file_extension": ".py",
   "mimetype": "text/x-python",
   "name": "python",
   "nbconvert_exporter": "python",
   "pygments_lexer": "ipython3",
   "version": "3.11.4"
  }
 },
 "nbformat": 4,
 "nbformat_minor": 2
}
