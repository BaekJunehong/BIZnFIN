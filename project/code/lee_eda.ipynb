{
 "cells": [
  {
   "cell_type": "markdown",
   "metadata": {},
   "source": [
    "# BIZ 프로젝트 : 부실기업 예측"
   ]
  },
  {
   "cell_type": "markdown",
   "metadata": {},
   "source": [
    "## Step2 : 데이터 전처리"
   ]
  },
  {
   "cell_type": "markdown",
   "metadata": {},
   "source": [
    "부실기업은 과거 3년간 연속해 이자보상 배율이 1.0미만인 기업을 의미하며  \n",
    "이를 이용하여 타겟변수인 부실기업여부 변수를 생성"
   ]
  },
  {
   "cell_type": "markdown",
   "metadata": {},
   "source": [
    "### 필요라이브러리 불러오기"
   ]
  },
  {
   "cell_type": "code",
   "execution_count": 51,
   "metadata": {},
   "outputs": [],
   "source": [
    "import pandas as pd\n",
    "import numpy as np"
   ]
  },
  {
   "cell_type": "markdown",
   "metadata": {},
   "source": [
    "### 데이터 불러오기"
   ]
  },
  {
   "cell_type": "code",
   "execution_count": 52,
   "metadata": {},
   "outputs": [],
   "source": [
    "RANDOM_STATE = 110\n",
    "\n",
    "data = pd.read_csv(\"../../project/data/clean_financial_data.csv\", encoding='utf-8-sig', low_memory=False)"
   ]
  },
  {
   "cell_type": "code",
   "execution_count": 53,
   "metadata": {},
   "outputs": [
    {
     "data": {
      "text/plain": [
       "Index(['업체코드', '종목코드', '종목명', '2020/총자산증가율', '2021/총자산증가율', '2022/총자산증가율',\n",
       "       '2023/총자산증가율', '2024/총자산증가율', '2020/유형자산증가율', '2021/유형자산증가율',\n",
       "       ...\n",
       "       '2020/조세공과(구성비)', '2021/조세공과(구성비)', '2022/조세공과(구성비)', '2023/조세공과(구성비)',\n",
       "       '2024/조세공과(구성비)', '2020/감가상각비(구성비)', '2021/감가상각비(구성비)',\n",
       "       '2022/감가상각비(구성비)', '2023/감가상각비(구성비)', '2024/감가상각비(구성비)'],\n",
       "      dtype='object', length=543)"
      ]
     },
     "execution_count": 53,
     "metadata": {},
     "output_type": "execute_result"
    }
   ],
   "source": [
    "data.columns"
   ]
  },
  {
   "cell_type": "code",
   "execution_count": 54,
   "metadata": {},
   "outputs": [
    {
     "data": {
      "text/plain": [
       "2020/영업이익이자보상비율     8768\n",
       "2021/영업이익이자보상비율     6378\n",
       "2022/영업이익이자보상비율     4472\n",
       "2023/영업이익이자보상비율     4810\n",
       "2024/영업이익이자보상비율    37943\n",
       "dtype: int64"
      ]
     },
     "execution_count": 54,
     "metadata": {},
     "output_type": "execute_result"
    }
   ],
   "source": [
    "# '영업이익이자보상비율'이 포함된 열들 찾기\n",
    "columns_with_ratio = [col for col in data.columns if '영업이익이자보상비율' in col]\n",
    "\n",
    "# 각 열에 대해 결측치 확인\n",
    "missing_data = data[columns_with_ratio].isnull().sum()\n",
    "\n",
    "# 결측치가 있는 열 출력\n",
    "missing_data[missing_data > 0]"
   ]
  },
  {
   "cell_type": "markdown",
   "metadata": {},
   "source": [
    "- 2024년 데이터는 target변수인 '영업이익이자보상비율'의 대부분이 결측치이므로 제거"
   ]
  },
  {
   "cell_type": "code",
   "execution_count": 55,
   "metadata": {},
   "outputs": [],
   "source": [
    "# '2024'가 열 이름에 포함된 열들을 제거\n",
    "data = data.drop(columns=[col for col in data.columns if '2024' in col], errors='ignore')"
   ]
  },
  {
   "cell_type": "code",
   "execution_count": 56,
   "metadata": {},
   "outputs": [
    {
     "name": "stdout",
     "output_type": "stream",
     "text": [
      "남은 데이터 개수: 27604 행\n"
     ]
    }
   ],
   "source": [
    "# '영업이익이자보상비율'이 포함된 열들 찾기\n",
    "columns_with_ratio = [col for col in data.columns if '영업이익이자보상비율' in col]\n",
    "\n",
    "# 결측치가 있는 행 제거\n",
    "data = data.dropna(subset=columns_with_ratio)\n",
    "\n",
    "# 결과 확인\n",
    "print(f\"남은 데이터 개수: {data.shape[0]} 행\")"
   ]
  },
  {
   "cell_type": "code",
   "execution_count": 57,
   "metadata": {},
   "outputs": [],
   "source": [
    "# 각 열의 결측값을 중앙값으로 대체\n",
    "data = data.fillna(data.median(numeric_only=True))"
   ]
  },
  {
   "cell_type": "code",
   "execution_count": 58,
   "metadata": {},
   "outputs": [
    {
     "data": {
      "text/plain": [
       "업체코드                object\n",
       "종목코드                object\n",
       "종목명                 object\n",
       "2020/총자산증가율        float64\n",
       "2021/총자산증가율        float64\n",
       "                    ...   \n",
       "2023/조세공과(구성비)     float64\n",
       "2020/감가상각비(구성비)    float64\n",
       "2021/감가상각비(구성비)    float64\n",
       "2022/감가상각비(구성비)    float64\n",
       "2023/감가상각비(구성비)    float64\n",
       "Length: 435, dtype: object"
      ]
     },
     "execution_count": 58,
     "metadata": {},
     "output_type": "execute_result"
    }
   ],
   "source": [
    "data.dtypes"
   ]
  },
  {
   "cell_type": "code",
   "execution_count": 59,
   "metadata": {},
   "outputs": [
    {
     "data": {
      "text/html": [
       "<div>\n",
       "<style scoped>\n",
       "    .dataframe tbody tr th:only-of-type {\n",
       "        vertical-align: middle;\n",
       "    }\n",
       "\n",
       "    .dataframe tbody tr th {\n",
       "        vertical-align: top;\n",
       "    }\n",
       "\n",
       "    .dataframe thead th {\n",
       "        text-align: right;\n",
       "    }\n",
       "</style>\n",
       "<table border=\"1\" class=\"dataframe\">\n",
       "  <thead>\n",
       "    <tr style=\"text-align: right;\">\n",
       "      <th></th>\n",
       "      <th>업체코드</th>\n",
       "      <th>종목코드</th>\n",
       "      <th>종목명</th>\n",
       "      <th>2020/총자산증가율</th>\n",
       "      <th>2021/총자산증가율</th>\n",
       "      <th>2022/총자산증가율</th>\n",
       "      <th>2023/총자산증가율</th>\n",
       "      <th>2020/유형자산증가율</th>\n",
       "      <th>2021/유형자산증가율</th>\n",
       "      <th>2022/유형자산증가율</th>\n",
       "      <th>...</th>\n",
       "      <th>2022/임차료(구성비)</th>\n",
       "      <th>2023/임차료(구성비)</th>\n",
       "      <th>2020/조세공과(구성비)</th>\n",
       "      <th>2021/조세공과(구성비)</th>\n",
       "      <th>2022/조세공과(구성비)</th>\n",
       "      <th>2023/조세공과(구성비)</th>\n",
       "      <th>2020/감가상각비(구성비)</th>\n",
       "      <th>2021/감가상각비(구성비)</th>\n",
       "      <th>2022/감가상각비(구성비)</th>\n",
       "      <th>2023/감가상각비(구성비)</th>\n",
       "    </tr>\n",
       "  </thead>\n",
       "  <tbody>\n",
       "    <tr>\n",
       "      <th>0</th>\n",
       "      <td>N350605</td>\n",
       "      <td>A000020</td>\n",
       "      <td>동화약품</td>\n",
       "      <td>7.57</td>\n",
       "      <td>2.70</td>\n",
       "      <td>3.27</td>\n",
       "      <td>10.23</td>\n",
       "      <td>19.67</td>\n",
       "      <td>10.41</td>\n",
       "      <td>7.64</td>\n",
       "      <td>...</td>\n",
       "      <td>1.32</td>\n",
       "      <td>1.41</td>\n",
       "      <td>2.14</td>\n",
       "      <td>2.11</td>\n",
       "      <td>2.12</td>\n",
       "      <td>2.13</td>\n",
       "      <td>7.96</td>\n",
       "      <td>7.83</td>\n",
       "      <td>8.03</td>\n",
       "      <td>8.22</td>\n",
       "    </tr>\n",
       "    <tr>\n",
       "      <th>1</th>\n",
       "      <td>N320498</td>\n",
       "      <td>A000040</td>\n",
       "      <td>KR모터스</td>\n",
       "      <td>-36.76</td>\n",
       "      <td>1.45</td>\n",
       "      <td>-0.52</td>\n",
       "      <td>-4.89</td>\n",
       "      <td>-0.29</td>\n",
       "      <td>5.78</td>\n",
       "      <td>4.85</td>\n",
       "      <td>...</td>\n",
       "      <td>1.32</td>\n",
       "      <td>1.41</td>\n",
       "      <td>2.14</td>\n",
       "      <td>2.11</td>\n",
       "      <td>2.12</td>\n",
       "      <td>2.13</td>\n",
       "      <td>7.96</td>\n",
       "      <td>7.83</td>\n",
       "      <td>8.03</td>\n",
       "      <td>8.22</td>\n",
       "    </tr>\n",
       "    <tr>\n",
       "      <th>2</th>\n",
       "      <td>N320684</td>\n",
       "      <td>A000050</td>\n",
       "      <td>경방</td>\n",
       "      <td>-6.47</td>\n",
       "      <td>0.15</td>\n",
       "      <td>-6.09</td>\n",
       "      <td>-1.40</td>\n",
       "      <td>-36.42</td>\n",
       "      <td>-23.56</td>\n",
       "      <td>665.18</td>\n",
       "      <td>...</td>\n",
       "      <td>1.32</td>\n",
       "      <td>1.41</td>\n",
       "      <td>2.14</td>\n",
       "      <td>2.11</td>\n",
       "      <td>2.12</td>\n",
       "      <td>2.13</td>\n",
       "      <td>7.96</td>\n",
       "      <td>7.83</td>\n",
       "      <td>8.03</td>\n",
       "      <td>8.22</td>\n",
       "    </tr>\n",
       "    <tr>\n",
       "      <th>3</th>\n",
       "      <td>N320730</td>\n",
       "      <td>A000070</td>\n",
       "      <td>삼양홀딩스</td>\n",
       "      <td>6.31</td>\n",
       "      <td>22.28</td>\n",
       "      <td>-0.76</td>\n",
       "      <td>17.63</td>\n",
       "      <td>-45.53</td>\n",
       "      <td>943.89</td>\n",
       "      <td>0.68</td>\n",
       "      <td>...</td>\n",
       "      <td>1.32</td>\n",
       "      <td>1.41</td>\n",
       "      <td>2.14</td>\n",
       "      <td>2.11</td>\n",
       "      <td>2.12</td>\n",
       "      <td>2.13</td>\n",
       "      <td>7.96</td>\n",
       "      <td>7.83</td>\n",
       "      <td>8.03</td>\n",
       "      <td>8.22</td>\n",
       "    </tr>\n",
       "    <tr>\n",
       "      <th>4</th>\n",
       "      <td>N310581</td>\n",
       "      <td>A000080</td>\n",
       "      <td>하이트진로</td>\n",
       "      <td>-0.99</td>\n",
       "      <td>10.65</td>\n",
       "      <td>-9.43</td>\n",
       "      <td>-0.03</td>\n",
       "      <td>-6.75</td>\n",
       "      <td>-2.60</td>\n",
       "      <td>-1.51</td>\n",
       "      <td>...</td>\n",
       "      <td>1.32</td>\n",
       "      <td>1.41</td>\n",
       "      <td>2.14</td>\n",
       "      <td>2.11</td>\n",
       "      <td>2.12</td>\n",
       "      <td>2.13</td>\n",
       "      <td>7.96</td>\n",
       "      <td>7.83</td>\n",
       "      <td>8.03</td>\n",
       "      <td>8.22</td>\n",
       "    </tr>\n",
       "  </tbody>\n",
       "</table>\n",
       "<p>5 rows × 435 columns</p>\n",
       "</div>"
      ],
      "text/plain": [
       "      업체코드     종목코드    종목명  2020/총자산증가율  2021/총자산증가율  2022/총자산증가율  \\\n",
       "0  N350605  A000020   동화약품         7.57         2.70         3.27   \n",
       "1  N320498  A000040  KR모터스       -36.76         1.45        -0.52   \n",
       "2  N320684  A000050     경방        -6.47         0.15        -6.09   \n",
       "3  N320730  A000070  삼양홀딩스         6.31        22.28        -0.76   \n",
       "4  N310581  A000080  하이트진로        -0.99        10.65        -9.43   \n",
       "\n",
       "   2023/총자산증가율  2020/유형자산증가율  2021/유형자산증가율  2022/유형자산증가율  ...  2022/임차료(구성비)  \\\n",
       "0        10.23         19.67         10.41          7.64  ...           1.32   \n",
       "1        -4.89         -0.29          5.78          4.85  ...           1.32   \n",
       "2        -1.40        -36.42        -23.56        665.18  ...           1.32   \n",
       "3        17.63        -45.53        943.89          0.68  ...           1.32   \n",
       "4        -0.03         -6.75         -2.60         -1.51  ...           1.32   \n",
       "\n",
       "   2023/임차료(구성비)  2020/조세공과(구성비)  2021/조세공과(구성비)  2022/조세공과(구성비)  \\\n",
       "0           1.41            2.14            2.11            2.12   \n",
       "1           1.41            2.14            2.11            2.12   \n",
       "2           1.41            2.14            2.11            2.12   \n",
       "3           1.41            2.14            2.11            2.12   \n",
       "4           1.41            2.14            2.11            2.12   \n",
       "\n",
       "   2023/조세공과(구성비)  2020/감가상각비(구성비)  2021/감가상각비(구성비)  2022/감가상각비(구성비)  \\\n",
       "0            2.13             7.96             7.83             8.03   \n",
       "1            2.13             7.96             7.83             8.03   \n",
       "2            2.13             7.96             7.83             8.03   \n",
       "3            2.13             7.96             7.83             8.03   \n",
       "4            2.13             7.96             7.83             8.03   \n",
       "\n",
       "   2023/감가상각비(구성비)  \n",
       "0             8.22  \n",
       "1             8.22  \n",
       "2             8.22  \n",
       "3             8.22  \n",
       "4             8.22  \n",
       "\n",
       "[5 rows x 435 columns]"
      ]
     },
     "execution_count": 59,
     "metadata": {},
     "output_type": "execute_result"
    }
   ],
   "source": [
    "from scipy.stats.mstats import winsorize\n",
    "\n",
    "# 숫자형 데이터에만 윈저라이징 적용\n",
    "numeric_columns = data.select_dtypes(include=['number']).columns\n",
    "\n",
    "for col in numeric_columns:\n",
    "    # 0.01 이하와 0.99 이상을 해당 값으로 제한\n",
    "    lower_limit = data[col].quantile(0.01)\n",
    "    upper_limit = data[col].quantile(0.99)\n",
    "    data[col] = data[col].clip(lower=lower_limit, upper=upper_limit)\n",
    "\n",
    "\n",
    "data.head(5)\n"
   ]
  },
  {
   "cell_type": "code",
   "execution_count": 60,
   "metadata": {},
   "outputs": [
    {
     "data": {
      "text/plain": [
       "0        False\n",
       "1         True\n",
       "2        False\n",
       "3        False\n",
       "4        False\n",
       "         ...  \n",
       "38634     True\n",
       "38635    False\n",
       "38636    False\n",
       "38637    False\n",
       "38638    False\n",
       "Name: 2021/영업이익이자보상비율, Length: 27604, dtype: bool"
      ]
     },
     "execution_count": 60,
     "metadata": {},
     "output_type": "execute_result"
    }
   ],
   "source": [
    "data['2021/영업이익이자보상비율'] < 1"
   ]
  },
  {
   "cell_type": "markdown",
   "metadata": {},
   "source": [
    "- 0이면 부실기업이 아닌 기업, 1이면 부실기업을 의미"
   ]
  },
  {
   "cell_type": "code",
   "execution_count": 61,
   "metadata": {},
   "outputs": [
    {
     "name": "stdout",
     "output_type": "stream",
     "text": [
      "\n",
      "2022/부실기업 변수 값:\n",
      "2022/부실기업\n",
      "0    22672\n",
      "1     4932\n",
      "Name: count, dtype: int64\n",
      "\n",
      "2023/부실기업 변수 값:\n",
      "2023/부실기업\n",
      "0    22473\n",
      "1     5131\n",
      "Name: count, dtype: int64\n"
     ]
    },
    {
     "name": "stderr",
     "output_type": "stream",
     "text": [
      "C:\\Users\\ldb76\\AppData\\Local\\Temp\\ipykernel_56672\\1223814708.py:2: PerformanceWarning: DataFrame is highly fragmented.  This is usually the result of calling `frame.insert` many times, which has poor performance.  Consider joining all columns at once using pd.concat(axis=1) instead. To get a de-fragmented frame, use `newframe = frame.copy()`\n",
      "  data['2022/부실기업'] = ((data['2020/영업이익이자보상비율'] < 1) &\n",
      "C:\\Users\\ldb76\\AppData\\Local\\Temp\\ipykernel_56672\\1223814708.py:7: PerformanceWarning: DataFrame is highly fragmented.  This is usually the result of calling `frame.insert` many times, which has poor performance.  Consider joining all columns at once using pd.concat(axis=1) instead. To get a de-fragmented frame, use `newframe = frame.copy()`\n",
      "  data['2023/부실기업'] = ((data['2021/영업이익이자보상비율'] < 1) &\n"
     ]
    }
   ],
   "source": [
    "# 2022/부실기업 변수 생성 및 값 할당\n",
    "data['2022/부실기업'] = ((data['2020/영업이익이자보상비율'] < 1) & \n",
    "                        (data['2021/영업이익이자보상비율'] < 1) & \n",
    "                        (data['2022/영업이익이자보상비율'] < 1)).astype(int)\n",
    "\n",
    "# 2023/부실기업 변수 생성 및 값 할당\n",
    "data['2023/부실기업'] = ((data['2021/영업이익이자보상비율'] < 1) & \n",
    "                        (data['2022/영업이익이자보상비율'] < 1) & \n",
    "                        (data['2023/영업이익이자보상비율'] < 1)).astype(int)\n",
    "\n",
    "# 결과 확인\n",
    "print(\"\\n2022/부실기업 변수 값:\")\n",
    "print(data['2022/부실기업'].value_counts())\n",
    "\n",
    "print(\"\\n2023/부실기업 변수 값:\")\n",
    "print(data['2023/부실기업'].value_counts())"
   ]
  },
  {
   "cell_type": "code",
   "execution_count": 64,
   "metadata": {},
   "outputs": [
    {
     "data": {
      "text/plain": [
       "업체코드                   0\n",
       "종목코드               24402\n",
       "종목명                    1\n",
       "2020/총자산증가율            0\n",
       "2021/총자산증가율            0\n",
       "                   ...  \n",
       "2021/감가상각비(구성비)        0\n",
       "2022/감가상각비(구성비)        0\n",
       "2023/감가상각비(구성비)        0\n",
       "2022/부실기업              0\n",
       "2023/부실기업              0\n",
       "Length: 437, dtype: int64"
      ]
     },
     "execution_count": 64,
     "metadata": {},
     "output_type": "execute_result"
    }
   ],
   "source": [
    "data.isnull().sum()"
   ]
  },
  {
   "cell_type": "code",
   "execution_count": 66,
   "metadata": {},
   "outputs": [],
   "source": [
    "# '종목명' 열에서 null 값이 있는 행 제거\n",
    "data = data[data['종목명'].notnull()]"
   ]
  },
  {
   "cell_type": "markdown",
   "metadata": {},
   "source": [
    "이때 종목코드 x -> 해당 기업이 상장되지 않은 경우"
   ]
  },
  {
   "cell_type": "code",
   "execution_count": 67,
   "metadata": {},
   "outputs": [
    {
     "name": "stderr",
     "output_type": "stream",
     "text": [
      "C:\\Users\\ldb76\\AppData\\Local\\Temp\\ipykernel_56672\\292392295.py:2: PerformanceWarning: DataFrame is highly fragmented.  This is usually the result of calling `frame.insert` many times, which has poor performance.  Consider joining all columns at once using pd.concat(axis=1) instead. To get a de-fragmented frame, use `newframe = frame.copy()`\n",
      "  data['상장여부'] = data['종목코드'].notnull().astype(int)\n"
     ]
    }
   ],
   "source": [
    "# '종목코드' 열의 값이 있으면 1, 없으면 0을 부여하는 새로운 열 생성\n",
    "data['상장여부'] = data['종목코드'].notnull().astype(int)\n",
    "\n",
    "# '종목코드' 열 제거\n",
    "data = data.drop(columns=['종목코드'])"
   ]
  },
  {
   "cell_type": "code",
   "execution_count": 68,
   "metadata": {},
   "outputs": [
    {
     "data": {
      "text/plain": [
       "업체코드               0\n",
       "종목명                0\n",
       "2020/총자산증가율        0\n",
       "2021/총자산증가율        0\n",
       "2022/총자산증가율        0\n",
       "                  ..\n",
       "2022/감가상각비(구성비)    0\n",
       "2023/감가상각비(구성비)    0\n",
       "2022/부실기업          0\n",
       "2023/부실기업          0\n",
       "상장여부               0\n",
       "Length: 437, dtype: int64"
      ]
     },
     "execution_count": 68,
     "metadata": {},
     "output_type": "execute_result"
    }
   ],
   "source": [
    "data.isnull().sum()"
   ]
  }
 ],
 "metadata": {
  "kernelspec": {
   "display_name": "Python 3",
   "language": "python",
   "name": "python3"
  },
  "language_info": {
   "codemirror_mode": {
    "name": "ipython",
    "version": 3
   },
   "file_extension": ".py",
   "mimetype": "text/x-python",
   "name": "python",
   "nbconvert_exporter": "python",
   "pygments_lexer": "ipython3",
   "version": "3.11.4"
  }
 },
 "nbformat": 4,
 "nbformat_minor": 2
}
