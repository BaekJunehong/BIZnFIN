{
 "cells": [
  {
   "cell_type": "markdown",
   "metadata": {},
   "source": [
    "# BIZ 프로젝트 : 부실기업 예측"
   ]
  },
  {
   "cell_type": "markdown",
   "metadata": {},
   "source": [
    "## Step2 : 데이터 전처리"
   ]
  },
  {
   "cell_type": "markdown",
   "metadata": {},
   "source": [
    "부실기업은 과거 3년간 연속해 이자보상 배율이 1.0미만인 기업을 의미하며  \n",
    "이를 이용하여 타겟변수인 부실기업여부 변수를 생성"
   ]
  },
  {
   "cell_type": "markdown",
   "metadata": {},
   "source": [
    "### 필요라이브러리 불러오기"
   ]
  },
  {
   "cell_type": "code",
   "execution_count": 28,
   "metadata": {},
   "outputs": [],
   "source": [
    "import pandas as pd\n",
    "import numpy as np"
   ]
  },
  {
   "cell_type": "markdown",
   "metadata": {},
   "source": [
    "### 데이터 불러오기"
   ]
  },
  {
   "cell_type": "code",
   "execution_count": 29,
   "metadata": {},
   "outputs": [
    {
     "name": "stdout",
     "output_type": "stream",
     "text": [
      "(38639, 543)\n"
     ]
    }
   ],
   "source": [
    "RANDOM_STATE = 110\n",
    "\n",
    "data = pd.read_csv(\"../../project/data/clean_financial_data.csv\", encoding='utf-8-sig', low_memory=False)\n",
    "print(data.shape)"
   ]
  },
  {
   "cell_type": "code",
   "execution_count": 30,
   "metadata": {},
   "outputs": [
    {
     "data": {
      "text/plain": [
       "Index(['업체코드', '종목코드', '종목명', '2020/총자산증가율', '2021/총자산증가율', '2022/총자산증가율',\n",
       "       '2023/총자산증가율', '2024/총자산증가율', '2020/유형자산증가율', '2021/유형자산증가율',\n",
       "       ...\n",
       "       '2020/조세공과(구성비)', '2021/조세공과(구성비)', '2022/조세공과(구성비)', '2023/조세공과(구성비)',\n",
       "       '2024/조세공과(구성비)', '2020/감가상각비(구성비)', '2021/감가상각비(구성비)',\n",
       "       '2022/감가상각비(구성비)', '2023/감가상각비(구성비)', '2024/감가상각비(구성비)'],\n",
       "      dtype='object', length=543)"
      ]
     },
     "execution_count": 30,
     "metadata": {},
     "output_type": "execute_result"
    }
   ],
   "source": [
    "data.columns"
   ]
  },
  {
   "cell_type": "code",
   "execution_count": 31,
   "metadata": {},
   "outputs": [
    {
     "name": "stdout",
     "output_type": "stream",
     "text": [
      "                 결측치 개수  결측치 비율 (%)\n",
      "2020/영업이익이자보상비율    8768   22.692099\n",
      "2021/영업이익이자보상비율    6378   16.506638\n",
      "2022/영업이익이자보상비율    4472   11.573798\n",
      "2023/영업이익이자보상비율    4810   12.448562\n",
      "2024/영업이익이자보상비율   37943   98.198711\n"
     ]
    }
   ],
   "source": [
    "# '영업이익이자보상비율'이 포함된 열들 찾기\n",
    "columns_with_ratio = [col for col in data.columns if '영업이익이자보상비율' in col]\n",
    "\n",
    "# 각 열에 대해 결측치 개수와 비율 계산\n",
    "missing_data = data[columns_with_ratio].isnull().sum()\n",
    "missing_ratio = (missing_data / len(data)) * 100  # 결측치 비율 계산 (퍼센트)\n",
    "\n",
    "# 결측치가 있는 열만 출력\n",
    "missing_summary = pd.DataFrame({\n",
    "    '결측치 개수': missing_data,\n",
    "    '결측치 비율 (%)': missing_ratio\n",
    "}).loc[missing_data > 0]\n",
    "\n",
    "# 결과 출력\n",
    "print(missing_summary)\n"
   ]
  },
  {
   "cell_type": "markdown",
   "metadata": {},
   "source": [
    "- 2024년 데이터는 target변수인 '영업이익이자보상비율'의 대부분이 결측치이므로 제거"
   ]
  },
  {
   "cell_type": "code",
   "execution_count": 32,
   "metadata": {},
   "outputs": [
    {
     "name": "stdout",
     "output_type": "stream",
     "text": [
      "(38639, 435)\n"
     ]
    }
   ],
   "source": [
    "# '2024'가 열 이름에 포함된 열들을 제거\n",
    "data = data.drop(columns=[col for col in data.columns if '2024' in col], errors='ignore')\n",
    "print(data.shape)"
   ]
  },
  {
   "cell_type": "code",
   "execution_count": 33,
   "metadata": {},
   "outputs": [
    {
     "name": "stdout",
     "output_type": "stream",
     "text": [
      "(27604, 435)\n"
     ]
    }
   ],
   "source": [
    "# '영업이익이자보상비율'이 포함된 열들 찾기\n",
    "columns_with_ratio = [col for col in data.columns if '영업이익이자보상비율' in col]\n",
    "\n",
    "# 결측치가 있는 행 제거\n",
    "data = data.dropna(subset=columns_with_ratio)\n",
    "\n",
    "# 결과 확인\n",
    "print(data.shape)"
   ]
  },
  {
   "cell_type": "code",
   "execution_count": 34,
   "metadata": {},
   "outputs": [],
   "source": [
    "# 각 열의 결측값을 중앙값으로 대체\n",
    "data = data.fillna(data.median(numeric_only=True))"
   ]
  },
  {
   "cell_type": "code",
   "execution_count": 35,
   "metadata": {},
   "outputs": [
    {
     "data": {
      "text/plain": [
       "업체코드                object\n",
       "종목코드                object\n",
       "종목명                 object\n",
       "2020/총자산증가율        float64\n",
       "2021/총자산증가율        float64\n",
       "                    ...   \n",
       "2023/조세공과(구성비)     float64\n",
       "2020/감가상각비(구성비)    float64\n",
       "2021/감가상각비(구성비)    float64\n",
       "2022/감가상각비(구성비)    float64\n",
       "2023/감가상각비(구성비)    float64\n",
       "Length: 435, dtype: object"
      ]
     },
     "execution_count": 35,
     "metadata": {},
     "output_type": "execute_result"
    }
   ],
   "source": [
    "data.dtypes"
   ]
  },
  {
   "cell_type": "code",
   "execution_count": 36,
   "metadata": {},
   "outputs": [
    {
     "name": "stdout",
     "output_type": "stream",
     "text": [
      "숫자형 변수 개수: 432개\n"
     ]
    }
   ],
   "source": [
    "# 숫자형 변수 개수 확인\n",
    "numeric_columns = data.select_dtypes(include=['number']).columns\n",
    "numeric_count = len(numeric_columns)\n",
    "\n",
    "print(f\"숫자형 변수 개수: {numeric_count}개\")"
   ]
  },
  {
   "cell_type": "code",
   "execution_count": 37,
   "metadata": {},
   "outputs": [],
   "source": [
    "import matplotlib.pyplot as plt\n",
    "from matplotlib import rc\n",
    "import platform\n",
    "\n",
    "# 운영 체제에 따라 폰트 설정\n",
    "if platform.system() == 'Windows':  # Windows 환경\n",
    "    rc('font', family='Malgun Gothic')  # 맑은 고딕\n",
    "\n",
    "# 음수 표시 가능하도록 설정\n",
    "plt.rcParams['axes.unicode_minus'] = False\n"
   ]
  },
  {
   "cell_type": "code",
   "execution_count": 38,
   "metadata": {},
   "outputs": [
    {
     "data": {
      "image/png": "[encoded data removed]",
      "text/plain": [
       "<Figure size 1200x600 with 1 Axes>"
      ]
     },
     "metadata": {},
     "output_type": "display_data"
    }
   ],
   "source": [
    "import matplotlib.pyplot as plt\n",
    "\n",
    "# 숫자형 변수 선택\n",
    "numeric_columns = data.select_dtypes(include=['number']).columns\n",
    "\n",
    "# 숫자형 변수 중 일부 선택 (예: 앞에서 10개)\n",
    "selected_columns = numeric_columns[:10]\n",
    "\n",
    "# 선택된 변수에 대한 박스플롯 그리기\n",
    "plt.figure(figsize=(12, 6))\n",
    "data[selected_columns].boxplot(rot=45)\n",
    "plt.title(\"Selected Numeric Variables - Boxplot\")\n",
    "plt.ylabel(\"Values\")\n",
    "plt.show()\n"
   ]
  },
  {
   "cell_type": "code",
   "execution_count": 39,
   "metadata": {},
   "outputs": [
    {
     "data": {
      "text/html": [
       "<div>\n",
       "<style scoped>\n",
       "    .dataframe tbody tr th:only-of-type {\n",
       "        vertical-align: middle;\n",
       "    }\n",
       "\n",
       "    .dataframe tbody tr th {\n",
       "        vertical-align: top;\n",
       "    }\n",
       "\n",
       "    .dataframe thead th {\n",
       "        text-align: right;\n",
       "    }\n",
       "</style>\n",
       "<table border=\"1\" class=\"dataframe\">\n",
       "  <thead>\n",
       "    <tr style=\"text-align: right;\">\n",
       "      <th></th>\n",
       "      <th>업체코드</th>\n",
       "      <th>종목코드</th>\n",
       "      <th>종목명</th>\n",
       "      <th>2020/총자산증가율</th>\n",
       "      <th>2021/총자산증가율</th>\n",
       "      <th>2022/총자산증가율</th>\n",
       "      <th>2023/총자산증가율</th>\n",
       "      <th>2020/유형자산증가율</th>\n",
       "      <th>2021/유형자산증가율</th>\n",
       "      <th>2022/유형자산증가율</th>\n",
       "      <th>...</th>\n",
       "      <th>2022/임차료(구성비)</th>\n",
       "      <th>2023/임차료(구성비)</th>\n",
       "      <th>2020/조세공과(구성비)</th>\n",
       "      <th>2021/조세공과(구성비)</th>\n",
       "      <th>2022/조세공과(구성비)</th>\n",
       "      <th>2023/조세공과(구성비)</th>\n",
       "      <th>2020/감가상각비(구성비)</th>\n",
       "      <th>2021/감가상각비(구성비)</th>\n",
       "      <th>2022/감가상각비(구성비)</th>\n",
       "      <th>2023/감가상각비(구성비)</th>\n",
       "    </tr>\n",
       "  </thead>\n",
       "  <tbody>\n",
       "    <tr>\n",
       "      <th>0</th>\n",
       "      <td>N350605</td>\n",
       "      <td>A000020</td>\n",
       "      <td>동화약품</td>\n",
       "      <td>7.57</td>\n",
       "      <td>2.70</td>\n",
       "      <td>3.27</td>\n",
       "      <td>10.23</td>\n",
       "      <td>19.67</td>\n",
       "      <td>10.41</td>\n",
       "      <td>7.64</td>\n",
       "      <td>...</td>\n",
       "      <td>1.32</td>\n",
       "      <td>1.41</td>\n",
       "      <td>2.14</td>\n",
       "      <td>2.11</td>\n",
       "      <td>2.12</td>\n",
       "      <td>2.13</td>\n",
       "      <td>7.96</td>\n",
       "      <td>7.83</td>\n",
       "      <td>8.03</td>\n",
       "      <td>8.22</td>\n",
       "    </tr>\n",
       "    <tr>\n",
       "      <th>1</th>\n",
       "      <td>N320498</td>\n",
       "      <td>A000040</td>\n",
       "      <td>KR모터스</td>\n",
       "      <td>-36.76</td>\n",
       "      <td>1.45</td>\n",
       "      <td>-0.52</td>\n",
       "      <td>-4.89</td>\n",
       "      <td>-0.29</td>\n",
       "      <td>5.78</td>\n",
       "      <td>4.85</td>\n",
       "      <td>...</td>\n",
       "      <td>1.32</td>\n",
       "      <td>1.41</td>\n",
       "      <td>2.14</td>\n",
       "      <td>2.11</td>\n",
       "      <td>2.12</td>\n",
       "      <td>2.13</td>\n",
       "      <td>7.96</td>\n",
       "      <td>7.83</td>\n",
       "      <td>8.03</td>\n",
       "      <td>8.22</td>\n",
       "    </tr>\n",
       "    <tr>\n",
       "      <th>2</th>\n",
       "      <td>N320684</td>\n",
       "      <td>A000050</td>\n",
       "      <td>경방</td>\n",
       "      <td>-6.47</td>\n",
       "      <td>0.15</td>\n",
       "      <td>-6.09</td>\n",
       "      <td>-1.40</td>\n",
       "      <td>-36.42</td>\n",
       "      <td>-23.56</td>\n",
       "      <td>665.18</td>\n",
       "      <td>...</td>\n",
       "      <td>1.32</td>\n",
       "      <td>1.41</td>\n",
       "      <td>2.14</td>\n",
       "      <td>2.11</td>\n",
       "      <td>2.12</td>\n",
       "      <td>2.13</td>\n",
       "      <td>7.96</td>\n",
       "      <td>7.83</td>\n",
       "      <td>8.03</td>\n",
       "      <td>8.22</td>\n",
       "    </tr>\n",
       "    <tr>\n",
       "      <th>3</th>\n",
       "      <td>N320730</td>\n",
       "      <td>A000070</td>\n",
       "      <td>삼양홀딩스</td>\n",
       "      <td>6.31</td>\n",
       "      <td>22.28</td>\n",
       "      <td>-0.76</td>\n",
       "      <td>17.63</td>\n",
       "      <td>-45.53</td>\n",
       "      <td>943.89</td>\n",
       "      <td>0.68</td>\n",
       "      <td>...</td>\n",
       "      <td>1.32</td>\n",
       "      <td>1.41</td>\n",
       "      <td>2.14</td>\n",
       "      <td>2.11</td>\n",
       "      <td>2.12</td>\n",
       "      <td>2.13</td>\n",
       "      <td>7.96</td>\n",
       "      <td>7.83</td>\n",
       "      <td>8.03</td>\n",
       "      <td>8.22</td>\n",
       "    </tr>\n",
       "    <tr>\n",
       "      <th>4</th>\n",
       "      <td>N310581</td>\n",
       "      <td>A000080</td>\n",
       "      <td>하이트진로</td>\n",
       "      <td>-0.99</td>\n",
       "      <td>10.65</td>\n",
       "      <td>-9.43</td>\n",
       "      <td>-0.03</td>\n",
       "      <td>-6.75</td>\n",
       "      <td>-2.60</td>\n",
       "      <td>-1.51</td>\n",
       "      <td>...</td>\n",
       "      <td>1.32</td>\n",
       "      <td>1.41</td>\n",
       "      <td>2.14</td>\n",
       "      <td>2.11</td>\n",
       "      <td>2.12</td>\n",
       "      <td>2.13</td>\n",
       "      <td>7.96</td>\n",
       "      <td>7.83</td>\n",
       "      <td>8.03</td>\n",
       "      <td>8.22</td>\n",
       "    </tr>\n",
       "  </tbody>\n",
       "</table>\n",
       "<p>5 rows × 435 columns</p>\n",
       "</div>"
      ],
      "text/plain": [
       "      업체코드     종목코드    종목명  2020/총자산증가율  2021/총자산증가율  2022/총자산증가율  \\\n",
       "0  N350605  A000020   동화약품         7.57         2.70         3.27   \n",
       "1  N320498  A000040  KR모터스       -36.76         1.45        -0.52   \n",
       "2  N320684  A000050     경방        -6.47         0.15        -6.09   \n",
       "3  N320730  A000070  삼양홀딩스         6.31        22.28        -0.76   \n",
       "4  N310581  A000080  하이트진로        -0.99        10.65        -9.43   \n",
       "\n",
       "   2023/총자산증가율  2020/유형자산증가율  2021/유형자산증가율  2022/유형자산증가율  ...  2022/임차료(구성비)  \\\n",
       "0        10.23         19.67         10.41          7.64  ...           1.32   \n",
       "1        -4.89         -0.29          5.78          4.85  ...           1.32   \n",
       "2        -1.40        -36.42        -23.56        665.18  ...           1.32   \n",
       "3        17.63        -45.53        943.89          0.68  ...           1.32   \n",
       "4        -0.03         -6.75         -2.60         -1.51  ...           1.32   \n",
       "\n",
       "   2023/임차료(구성비)  2020/조세공과(구성비)  2021/조세공과(구성비)  2022/조세공과(구성비)  \\\n",
       "0           1.41            2.14            2.11            2.12   \n",
       "1           1.41            2.14            2.11            2.12   \n",
       "2           1.41            2.14            2.11            2.12   \n",
       "3           1.41            2.14            2.11            2.12   \n",
       "4           1.41            2.14            2.11            2.12   \n",
       "\n",
       "   2023/조세공과(구성비)  2020/감가상각비(구성비)  2021/감가상각비(구성비)  2022/감가상각비(구성비)  \\\n",
       "0            2.13             7.96             7.83             8.03   \n",
       "1            2.13             7.96             7.83             8.03   \n",
       "2            2.13             7.96             7.83             8.03   \n",
       "3            2.13             7.96             7.83             8.03   \n",
       "4            2.13             7.96             7.83             8.03   \n",
       "\n",
       "   2023/감가상각비(구성비)  \n",
       "0             8.22  \n",
       "1             8.22  \n",
       "2             8.22  \n",
       "3             8.22  \n",
       "4             8.22  \n",
       "\n",
       "[5 rows x 435 columns]"
      ]
     },
     "execution_count": 39,
     "metadata": {},
     "output_type": "execute_result"
    }
   ],
   "source": [
    "from scipy.stats.mstats import winsorize\n",
    "\n",
    "# 숫자형 데이터에만 윈저라이징 적용\n",
    "numeric_columns = data.select_dtypes(include=['number']).columns\n",
    "\n",
    "for col in numeric_columns:\n",
    "    # 0.01 이하와 0.99 이상을 해당 값으로 제한\n",
    "    lower_limit = data[col].quantile(0.01)\n",
    "    upper_limit = data[col].quantile(0.99)\n",
    "    data[col] = data[col].clip(lower=lower_limit, upper=upper_limit)\n",
    "\n",
    "\n",
    "data.head(5)\n"
   ]
  },
  {
   "cell_type": "code",
   "execution_count": 40,
   "metadata": {},
   "outputs": [
    {
     "data": {
      "image/png": "[encoded data removed]",
      "text/plain": [
       "<Figure size 1200x600 with 1 Axes>"
      ]
     },
     "metadata": {},
     "output_type": "display_data"
    }
   ],
   "source": [
    "import matplotlib.pyplot as plt\n",
    "\n",
    "selected_columns = numeric_columns[:10]  # 이전에 선택한 numeric_columns 그대로 사용\n",
    "\n",
    "# 윈저라이징 후 선택된 변수에 대한 박스플롯 그리기\n",
    "plt.figure(figsize=(12, 6))\n",
    "data[selected_columns].boxplot(rot=45)\n",
    "plt.title(\"Selected Numeric Variables - Boxplot After Winsorizing\")\n",
    "plt.ylabel(\"Values\")\n",
    "plt.show()\n"
   ]
  },
  {
   "cell_type": "code",
   "execution_count": 41,
   "metadata": {},
   "outputs": [
    {
     "name": "stderr",
     "output_type": "stream",
     "text": [
      "c:\\Users\\ldb76\\AppData\\Local\\Programs\\Python\\Python311\\Lib\\site-packages\\pandas\\core\\arraylike.py:399: RuntimeWarning: divide by zero encountered in log1p\n",
      "  result = getattr(ufunc, method)(*inputs, **kwargs)\n",
      "c:\\Users\\ldb76\\AppData\\Local\\Programs\\Python\\Python311\\Lib\\site-packages\\pandas\\core\\arraylike.py:399: RuntimeWarning: invalid value encountered in log1p\n",
      "  result = getattr(ufunc, method)(*inputs, **kwargs)\n"
     ]
    },
    {
     "data": {
      "image/png": "[encoded data removed]",
      "text/plain": [
       "<Figure size 1200x600 with 1 Axes>"
      ]
     },
     "metadata": {},
     "output_type": "display_data"
    }
   ],
   "source": [
    "import numpy as np\n",
    "\n",
    "# 로그 변환\n",
    "data_log_scaled = data[selected_columns].apply(lambda x: np.log1p(x))\n",
    "\n",
    "# 로그 변환 후 박스플롯\n",
    "plt.figure(figsize=(12, 6))\n",
    "data_log_scaled.boxplot(rot=45)\n",
    "plt.title(\"Selected Numeric Variables - Boxplot After Log Transformation\")\n",
    "plt.ylabel(\"Log-Scaled Values\")\n",
    "plt.show()\n"
   ]
  },
  {
   "cell_type": "code",
   "execution_count": 42,
   "metadata": {},
   "outputs": [
    {
     "data": {
      "text/plain": [
       "0        False\n",
       "1         True\n",
       "2        False\n",
       "3        False\n",
       "4        False\n",
       "         ...  \n",
       "38634     True\n",
       "38635    False\n",
       "38636    False\n",
       "38637    False\n",
       "38638    False\n",
       "Name: 2021/영업이익이자보상비율, Length: 27604, dtype: bool"
      ]
     },
     "execution_count": 42,
     "metadata": {},
     "output_type": "execute_result"
    }
   ],
   "source": [
    "data['2021/영업이익이자보상비율'] < 1"
   ]
  },
  {
   "cell_type": "markdown",
   "metadata": {},
   "source": [
    "- 0이면 부실기업이 아닌 기업, 1이면 부실기업을 의미"
   ]
  },
  {
   "cell_type": "code",
   "execution_count": 43,
   "metadata": {},
   "outputs": [
    {
     "name": "stdout",
     "output_type": "stream",
     "text": [
      "\n",
      "2023/부실기업 변수 값:\n",
      "2023/부실기업\n",
      "0    22473\n",
      "1     5131\n",
      "Name: count, dtype: int64\n"
     ]
    },
    {
     "name": "stderr",
     "output_type": "stream",
     "text": [
      "C:\\Users\\ldb76\\AppData\\Local\\Temp\\ipykernel_14892\\799345054.py:2: PerformanceWarning: DataFrame is highly fragmented.  This is usually the result of calling `frame.insert` many times, which has poor performance.  Consider joining all columns at once using pd.concat(axis=1) instead. To get a de-fragmented frame, use `newframe = frame.copy()`\n",
      "  data['2023/부실기업'] = ((data['2021/영업이익이자보상비율'] < 1) &\n"
     ]
    }
   ],
   "source": [
    "# 2023/부실기업 변수 생성 및 값 할당\n",
    "data['2023/부실기업'] = ((data['2021/영업이익이자보상비율'] < 1) & \n",
    "                        (data['2022/영업이익이자보상비율'] < 1) & \n",
    "                        (data['2023/영업이익이자보상비율'] < 1)).astype(int)\n",
    "\n",
    "print(\"\\n2023/부실기업 변수 값:\")\n",
    "print(data['2023/부실기업'].value_counts())"
   ]
  },
  {
   "cell_type": "code",
   "execution_count": 44,
   "metadata": {},
   "outputs": [
    {
     "data": {
      "text/plain": [
       "업체코드                   0\n",
       "종목코드               24402\n",
       "종목명                    1\n",
       "2020/총자산증가율            0\n",
       "2021/총자산증가율            0\n",
       "                   ...  \n",
       "2020/감가상각비(구성비)        0\n",
       "2021/감가상각비(구성비)        0\n",
       "2022/감가상각비(구성비)        0\n",
       "2023/감가상각비(구성비)        0\n",
       "2023/부실기업              0\n",
       "Length: 436, dtype: int64"
      ]
     },
     "execution_count": 44,
     "metadata": {},
     "output_type": "execute_result"
    }
   ],
   "source": [
    "data.isnull().sum()"
   ]
  },
  {
   "cell_type": "code",
   "execution_count": 45,
   "metadata": {},
   "outputs": [],
   "source": [
    "# '종목명' 열에서 null 값이 있는 행 제거\n",
    "data = data[data['종목명'].notnull()]"
   ]
  },
  {
   "cell_type": "markdown",
   "metadata": {},
   "source": [
    "이때 종목코드 x -> 해당 기업이 상장되지 않은 경우"
   ]
  },
  {
   "cell_type": "code",
   "execution_count": 46,
   "metadata": {},
   "outputs": [
    {
     "name": "stderr",
     "output_type": "stream",
     "text": [
      "C:\\Users\\ldb76\\AppData\\Local\\Temp\\ipykernel_14892\\292392295.py:2: PerformanceWarning: DataFrame is highly fragmented.  This is usually the result of calling `frame.insert` many times, which has poor performance.  Consider joining all columns at once using pd.concat(axis=1) instead. To get a de-fragmented frame, use `newframe = frame.copy()`\n",
      "  data['상장여부'] = data['종목코드'].notnull().astype(int)\n"
     ]
    }
   ],
   "source": [
    "# '종목코드' 열의 값이 있으면 1, 없으면 0을 부여하는 새로운 열 생성\n",
    "data['상장여부'] = data['종목코드'].notnull().astype(int)\n",
    "\n",
    "# '종목코드' 열 제거\n",
    "data = data.drop(columns=['종목코드'])"
   ]
  },
  {
   "cell_type": "code",
   "execution_count": 47,
   "metadata": {},
   "outputs": [
    {
     "data": {
      "text/plain": [
       "업체코드               0\n",
       "종목명                0\n",
       "2020/총자산증가율        0\n",
       "2021/총자산증가율        0\n",
       "2022/총자산증가율        0\n",
       "                  ..\n",
       "2021/감가상각비(구성비)    0\n",
       "2022/감가상각비(구성비)    0\n",
       "2023/감가상각비(구성비)    0\n",
       "2023/부실기업          0\n",
       "상장여부               0\n",
       "Length: 436, dtype: int64"
      ]
     },
     "execution_count": 47,
     "metadata": {},
     "output_type": "execute_result"
    }
   ],
   "source": [
    "data.isnull().sum()"
   ]
  },
  {
   "cell_type": "code",
   "execution_count": 48,
   "metadata": {},
   "outputs": [
    {
     "data": {
      "text/plain": [
       "업체코드                object\n",
       "종목명                 object\n",
       "2020/총자산증가율        float64\n",
       "2021/총자산증가율        float64\n",
       "2022/총자산증가율        float64\n",
       "                    ...   \n",
       "2021/감가상각비(구성비)    float64\n",
       "2022/감가상각비(구성비)    float64\n",
       "2023/감가상각비(구성비)    float64\n",
       "2023/부실기업            int32\n",
       "상장여부                 int32\n",
       "Length: 436, dtype: object"
      ]
     },
     "execution_count": 48,
     "metadata": {},
     "output_type": "execute_result"
    }
   ],
   "source": [
    "data.dtypes"
   ]
  },
  {
   "cell_type": "markdown",
   "metadata": {},
   "source": [
    "21~23년도 데이터 선택"
   ]
  },
  {
   "cell_type": "code",
   "execution_count": 49,
   "metadata": {},
   "outputs": [
    {
     "name": "stdout",
     "output_type": "stream",
     "text": [
      "필터링된 데이터프레임의 열들:\n",
      "Index(['업체코드', '종목명', '상장여부', '2021/총자산증가율', '2022/총자산증가율', '2023/총자산증가율',\n",
      "       '2021/유형자산증가율', '2022/유형자산증가율', '2023/유형자산증가율', '2021/유동자산증가율',\n",
      "       ...\n",
      "       '2021/임차료(구성비)', '2022/임차료(구성비)', '2023/임차료(구성비)', '2021/조세공과(구성비)',\n",
      "       '2022/조세공과(구성비)', '2023/조세공과(구성비)', '2021/감가상각비(구성비)',\n",
      "       '2022/감가상각비(구성비)', '2023/감가상각비(구성비)', '2023/부실기업'],\n",
      "      dtype='object', length=328)\n"
     ]
    }
   ],
   "source": [
    "import pandas as pd\n",
    "\n",
    "# 21~23년도 데이터만을 사용하기 위해 해당 연도가 포함된 열 필터링\n",
    "years = ['2021', '2022', '2023']\n",
    "cols_to_keep = ['업체코드', '종목명','상장여부'] + [col for col in data.columns if any(year in col for year in years)]\n",
    "\n",
    "# 필터링된 열들로 새로운 데이터프레임 생성\n",
    "data = data[cols_to_keep]\n",
    "\n",
    "# 결과 확인\n",
    "print(\"필터링된 데이터프레임의 열들:\")\n",
    "print(data.columns)"
   ]
  },
  {
   "cell_type": "code",
   "execution_count": 50,
   "metadata": {},
   "outputs": [
    {
     "name": "stdout",
     "output_type": "stream",
     "text": [
      "<class 'pandas.core.frame.DataFrame'>\n",
      "Index: 27603 entries, 0 to 38638\n",
      "Columns: 328 entries, 업체코드 to 2023/부실기업\n",
      "dtypes: float64(324), int32(2), object(2)\n",
      "memory usage: 69.1+ MB\n"
     ]
    }
   ],
   "source": [
    "data.info()"
   ]
  },
  {
   "cell_type": "markdown",
   "metadata": {},
   "source": [
    "### t-test"
   ]
  },
  {
   "cell_type": "code",
   "execution_count": 51,
   "metadata": {},
   "outputs": [
    {
     "name": "stdout",
     "output_type": "stream",
     "text": [
      "t-검정 결과 요약:\n",
      "                 변수       t-값       p-값\n",
      "99    2023/차입금평균이자율 -0.006439  0.994863\n",
      "86   2022/인건비/총비용비율  0.133861  0.893515\n",
      "4      2021/유형자산증가율 -0.281332  0.778463\n",
      "9      2023/유동자산증가율 -0.366221  0.714212\n",
      "28     2021/종업원수증가율  0.368283  0.712674\n",
      "243    2023/유형자산회전율 -0.485006  0.627687\n",
      "258    2023/매출채권회전율 -0.653761  0.513286\n",
      "257    2022/매출채권회전율  1.052563  0.292573\n",
      "8      2022/유동자산증가율 -1.175761  0.239736\n",
      "10     2021/재고자산증가율  1.210586  0.226094\n",
      "제거되는 변수의 갯수:  16\n",
      "\n",
      "유의미한 변수들:\n",
      "                  변수        t-값           p-값\n",
      "0               상장여부  -3.923307  8.814390e-05\n",
      "1        2021/총자산증가율  -5.444239  5.405659e-08\n",
      "2        2022/총자산증가율   6.429458  1.367696e-10\n",
      "3        2023/총자산증가율  12.333330  1.343744e-34\n",
      "6       2023/유형자산증가율   6.804193  1.082887e-11\n",
      "..               ...        ...           ...\n",
      "320   2022/조세공과(구성비)  -3.097531  1.959583e-03\n",
      "321   2023/조세공과(구성비)  -4.225246  2.416841e-05\n",
      "322  2021/감가상각비(구성비)  -4.141930  3.488085e-05\n",
      "323  2022/감가상각비(구성비)  -4.588787  4.540407e-06\n",
      "324  2023/감가상각비(구성비)  -4.212045  2.561527e-05\n",
      "\n",
      "[309 rows x 3 columns]\n"
     ]
    }
   ],
   "source": [
    "from scipy.stats import ttest_ind\n",
    "\n",
    "# 타겟 변수 설정\n",
    "group_0 = data[data['2023/부실기업'] == 0]  # 부실기업이 아닌 그룹\n",
    "group_1 = data[data['2023/부실기업'] == 1]  # 부실기업 그룹\n",
    "\n",
    "# 숫자형 변수 선택 및 제외할 열들 제거\n",
    "numeric_columns = data.select_dtypes(include=['number']).columns.drop('2023/부실기업')\n",
    "\n",
    "# t-검정 결과 저장\n",
    "t_test_results = []\n",
    "\n",
    "for col in numeric_columns:\n",
    "    # 각 변수에 대해 t-검정 수행\n",
    "    t_stat, p_value = ttest_ind(group_0[col].dropna(), group_1[col].dropna(), equal_var=False)  # Welch's t-test\n",
    "    t_test_results.append({'변수': col, 't-값': t_stat, 'p-값': p_value})\n",
    "\n",
    "# t-검정 결과를 데이터프레임으로 정리\n",
    "t_test_df = pd.DataFrame(t_test_results)\n",
    "\n",
    "# 유의미한 변수 필터링 (p-값 < 0.05)\n",
    "significant_vars = t_test_df[t_test_df['p-값'] < 0.05]\n",
    "\n",
    "# 결과 출력\n",
    "print(\"t-검정 결과 요약:\")\n",
    "print(t_test_df[t_test_df['p-값'] > 0.05].sort_values(by='p-값', ascending=False).head(10))  # p-값 기준 상위 10개 출력\n",
    "print(\"제거되는 변수의 갯수: \", len(t_test_df[t_test_df['p-값'] > 0.05]))\n",
    "print(\"\\n유의미한 변수들:\")\n",
    "print(significant_vars)"
   ]
  },
  {
   "cell_type": "code",
   "execution_count": null,
   "metadata": {},
   "outputs": [
    {
     "name": "stdout",
     "output_type": "stream",
     "text": [
      "2021년도 변수들:\n",
      "['2021/총자산증가율', '2021/유형자산증가율', '2021/유동자산증가율', '2021/재고자산증가율', '2021/자기자본증가율', '2021/매출액증가율', '2021/영업이익증가율', '2021/법인세비용차감전순이익증가율', '2021/순이익증가율', '2021/종업원수증가율', '2021/총자본영업이익율', '2021/총자본법인세비용차감전순이익율', '2021/총자본순이익율', '2021/기업법인세비용차감전순이익율', '2021/기업순이익율', '2021/경영자본영업이익율', '2021/자기자본법인세비용차감전순이익율', '2021/자기자본순이익율', '2021/자본금법인세비용차감전순이익율', '2021/자본금순이익율', '2021/매출액법인세비용차감전순이익율', '2021/매출액순이익율', '2021/매출액총이익율', '2021/매출액영업이익율', '2021/수지비율', '2021/매출원가율', '2021/감가상각율', '2021/감가상각비/총비용비율', '2021/인건비/총비용비율', '2021/조세/조세차감전순이익비율', '2021/조세공과/총비용비율', '2021/금융비용/총부채', '2021/차입금평균이자율', '2021/금융비용/총비용비율', '2021/금융비용/매출액비율', '2021/영업활동현금흐름이자보상비율', '2021/영업이익이자보상비율', '2021/법인세비용차감전순이익이자보상비율', '2021/법인세차감전순이익이자보상비율', '2021/배당율', '2021/배당성향', '2021/상환계수(세전이익)', '2021/부채상환계수', '2021/대출효율성계수(법인세비용차감전순이익)', '2021/EBIT대매출액(세전이익)', '2021/EBITDA대매출액', '2021/EBITDA대금융비용', '2021/자기자본비율', '2021/유동비율', '2021/당좌비율', '2021/현금비율', '2021/비유동자산비율', '2021/비유동자산장기적합율', '2021/부채비율', '2021/유동부채비율', '2021/비유동부채비율', '2021/차입금의존도', '2021/차입금/자기자본', '2021/차입금/매출액비율', '2021/매출채권/매입채무비율', '2021/매출채권/상,제품비율', '2021/매입채무/재고자산비율', '2021/재고자산/순운전자본비율', '2021/비유동부채/순운전자본비율', '2021/순운전자본/총자본비율', '2021/적립금비율', '2021/사내유보율', '2021/유보액/총자산비율', '2021/유보액/납입자본비율', '2021/총C/F대부채비율', '2021/총C/F대차입금비율', '2021/총C/F대총자본비율', '2021/총C/F대매출액비율', '2021/순C/F대차입금비율', '2021/총자본회전율', '2021/자기자본회전율', '2021/자본금회전율', '2021/순운전자본회전율', '2021/경영자본회전율', '2021/비유동자산회전율', '2021/유형자산회전율', '2021/재고자산회전율1', '2021/상(제)품회전율', '2021/원재료회전율', '2021/재공품회전율', '2021/매출채권회전율', '2021/매입채무회전율', '2021/재고자산회전율2', '2021/순영업자본회전율', '2021/부가가치(종업원1인당)', '2021/매출액(종업원1인당)', '2021/법인세비용차감전순이익(종업원1인당)', '2021/순이익(종업원1인당)', '2021/인건비(종업원1인당)', '2021/노동장비율(종업원1인당)', '2021/기계장비율(종업원1인당)', '2021/자본집약도(종업원1인당)', '2021/총자본투자효율', '2021/설비투자효율', '2021/기계투자효율', '2021/부가가치율', '2021/노동소득분배율', '2021/법인세차감전순이익(구성비)', '2021/인건비(구성비)', '2021/금융비용(구성비)', '2021/임차료(구성비)', '2021/조세공과(구성비)', '2021/감가상각비(구성비)']\n",
      "\n",
      "2022년도 변수들:\n",
      "['2022/총자산증가율', '2022/유형자산증가율', '2022/유동자산증가율', '2022/재고자산증가율', '2022/자기자본증가율', '2022/매출액증가율', '2022/영업이익증가율', '2022/법인세비용차감전순이익증가율', '2022/순이익증가율', '2022/종업원수증가율', '2022/총자본영업이익율', '2022/총자본법인세비용차감전순이익율', '2022/총자본순이익율', '2022/기업법인세비용차감전순이익율', '2022/기업순이익율', '2022/경영자본영업이익율', '2022/자기자본법인세비용차감전순이익율', '2022/자기자본순이익율', '2022/자본금법인세비용차감전순이익율', '2022/자본금순이익율', '2022/매출액법인세비용차감전순이익율', '2022/매출액순이익율', '2022/매출액총이익율', '2022/매출액영업이익율', '2022/수지비율', '2022/매출원가율', '2022/감가상각율', '2022/감가상각비/총비용비율', '2022/인건비/총비용비율', '2022/조세/조세차감전순이익비율', '2022/조세공과/총비용비율', '2022/금융비용/총부채', '2022/차입금평균이자율', '2022/금융비용/총비용비율', '2022/금융비용/매출액비율', '2022/영업활동현금흐름이자보상비율', '2022/영업이익이자보상비율', '2022/법인세비용차감전순이익이자보상비율', '2022/법인세차감전순이익이자보상비율', '2022/배당율', '2022/배당성향', '2022/상환계수(세전이익)', '2022/부채상환계수', '2022/대출효율성계수(법인세비용차감전순이익)', '2022/EBIT대매출액(세전이익)', '2022/EBITDA대매출액', '2022/EBITDA대금융비용', '2022/자기자본비율', '2022/유동비율', '2022/당좌비율', '2022/현금비율', '2022/비유동자산비율', '2022/비유동자산장기적합율', '2022/부채비율', '2022/유동부채비율', '2022/비유동부채비율', '2022/차입금의존도', '2022/차입금/자기자본', '2022/차입금/매출액비율', '2022/매출채권/매입채무비율', '2022/매출채권/상,제품비율', '2022/매입채무/재고자산비율', '2022/재고자산/순운전자본비율', '2022/비유동부채/순운전자본비율', '2022/순운전자본/총자본비율', '2022/적립금비율', '2022/사내유보율', '2022/유보액/총자산비율', '2022/유보액/납입자본비율', '2022/총C/F대부채비율', '2022/총C/F대차입금비율', '2022/총C/F대총자본비율', '2022/총C/F대매출액비율', '2022/순C/F대차입금비율', '2022/총자본회전율', '2022/자기자본회전율', '2022/자본금회전율', '2022/순운전자본회전율', '2022/경영자본회전율', '2022/비유동자산회전율', '2022/유형자산회전율', '2022/재고자산회전율1', '2022/상(제)품회전율', '2022/원재료회전율', '2022/재공품회전율', '2022/매출채권회전율', '2022/매입채무회전율', '2022/재고자산회전율2', '2022/순영업자본회전율', '2022/부가가치(종업원1인당)', '2022/매출액(종업원1인당)', '2022/법인세비용차감전순이익(종업원1인당)', '2022/순이익(종업원1인당)', '2022/인건비(종업원1인당)', '2022/노동장비율(종업원1인당)', '2022/기계장비율(종업원1인당)', '2022/자본집약도(종업원1인당)', '2022/총자본투자효율', '2022/설비투자효율', '2022/기계투자효율', '2022/부가가치율', '2022/노동소득분배율', '2022/법인세차감전순이익(구성비)', '2022/인건비(구성비)', '2022/금융비용(구성비)', '2022/임차료(구성비)', '2022/조세공과(구성비)', '2022/감가상각비(구성비)']\n",
      "\n",
      "2023년도 변수들:\n",
      "['2023/총자산증가율', '2023/유형자산증가율', '2023/유동자산증가율', '2023/재고자산증가율', '2023/자기자본증가율', '2023/매출액증가율', '2023/영업이익증가율', '2023/법인세비용차감전순이익증가율', '2023/순이익증가율', '2023/종업원수증가율', '2023/총자본영업이익율', '2023/총자본법인세비용차감전순이익율', '2023/총자본순이익율', '2023/기업법인세비용차감전순이익율', '2023/기업순이익율', '2023/경영자본영업이익율', '2023/자기자본법인세비용차감전순이익율', '2023/자기자본순이익율', '2023/자본금법인세비용차감전순이익율', '2023/자본금순이익율', '2023/매출액법인세비용차감전순이익율', '2023/매출액순이익율', '2023/매출액총이익율', '2023/매출액영업이익율', '2023/수지비율', '2023/매출원가율', '2023/감가상각율', '2023/감가상각비/총비용비율', '2023/인건비/총비용비율', '2023/조세/조세차감전순이익비율', '2023/조세공과/총비용비율', '2023/금융비용/총부채', '2023/차입금평균이자율', '2023/금융비용/총비용비율', '2023/금융비용/매출액비율', '2023/영업활동현금흐름이자보상비율', '2023/영업이익이자보상비율', '2023/법인세비용차감전순이익이자보상비율', '2023/법인세차감전순이익이자보상비율', '2023/배당율', '2023/배당성향', '2023/상환계수(세전이익)', '2023/부채상환계수', '2023/대출효율성계수(법인세비용차감전순이익)', '2023/EBIT대매출액(세전이익)', '2023/EBITDA대매출액', '2023/EBITDA대금융비용', '2023/자기자본비율', '2023/유동비율', '2023/당좌비율', '2023/현금비율', '2023/비유동자산비율', '2023/비유동자산장기적합율', '2023/부채비율', '2023/유동부채비율', '2023/비유동부채비율', '2023/차입금의존도', '2023/차입금/자기자본', '2023/차입금/매출액비율', '2023/매출채권/매입채무비율', '2023/매출채권/상,제품비율', '2023/매입채무/재고자산비율', '2023/재고자산/순운전자본비율', '2023/비유동부채/순운전자본비율', '2023/순운전자본/총자본비율', '2023/적립금비율', '2023/사내유보율', '2023/유보액/총자산비율', '2023/유보액/납입자본비율', '2023/총C/F대부채비율', '2023/총C/F대차입금비율', '2023/총C/F대총자본비율', '2023/총C/F대매출액비율', '2023/순C/F대차입금비율', '2023/총자본회전율', '2023/자기자본회전율', '2023/자본금회전율', '2023/순운전자본회전율', '2023/경영자본회전율', '2023/비유동자산회전율', '2023/유형자산회전율', '2023/재고자산회전율1', '2023/상(제)품회전율', '2023/원재료회전율', '2023/재공품회전율', '2023/매출채권회전율', '2023/매입채무회전율', '2023/재고자산회전율2', '2023/순영업자본회전율', '2023/부가가치(종업원1인당)', '2023/매출액(종업원1인당)', '2023/법인세비용차감전순이익(종업원1인당)', '2023/순이익(종업원1인당)', '2023/인건비(종업원1인당)', '2023/노동장비율(종업원1인당)', '2023/기계장비율(종업원1인당)', '2023/자본집약도(종업원1인당)', '2023/총자본투자효율', '2023/설비투자효율', '2023/기계투자효율', '2023/부가가치율', '2023/노동소득분배율', '2023/법인세차감전순이익(구성비)', '2023/인건비(구성비)', '2023/금융비용(구성비)', '2023/임차료(구성비)', '2023/조세공과(구성비)', '2023/감가상각비(구성비)']\n",
      "\n",
      "연도별 변수 요약:\n",
      "                2021             2022             2023\n",
      "0        2021/총자산증가율      2022/총자산증가율      2023/총자산증가율\n",
      "1       2021/유형자산증가율     2022/유형자산증가율     2023/유형자산증가율\n",
      "2       2021/유동자산증가율     2022/유동자산증가율     2023/유동자산증가율\n",
      "3       2021/재고자산증가율     2022/재고자산증가율     2023/재고자산증가율\n",
      "4       2021/자기자본증가율     2022/자기자본증가율     2023/자기자본증가율\n",
      "..               ...              ...              ...\n",
      "103    2021/인건비(구성비)    2022/인건비(구성비)    2023/인건비(구성비)\n",
      "104   2021/금융비용(구성비)   2022/금융비용(구성비)   2023/금융비용(구성비)\n",
      "105    2021/임차료(구성비)    2022/임차료(구성비)    2023/임차료(구성비)\n",
      "106   2021/조세공과(구성비)   2022/조세공과(구성비)   2023/조세공과(구성비)\n",
      "107  2021/감가상각비(구성비)  2022/감가상각비(구성비)  2023/감가상각비(구성비)\n",
      "\n",
      "[108 rows x 3 columns]\n"
     ]
    }
   ],
   "source": [
    "# # 각 연도별 변수 선택\n",
    "# vars_2021 = [col for col in numeric_columns if col.startswith('2021/')]\n",
    "# vars_2022 = [col for col in numeric_columns if col.startswith('2022/')]\n",
    "# vars_2023 = [col for col in numeric_columns if col.startswith('2023/')]\n",
    "\n",
    "# # 연도별 변수 출력\n",
    "# print(\"2021년도 변수들:\")\n",
    "# print(vars_2021)\n",
    "\n",
    "# print(\"\\n2022년도 변수들:\")\n",
    "# print(vars_2022)\n",
    "\n",
    "# print(\"\\n2023년도 변수들:\")\n",
    "# print(vars_2023)\n",
    "\n",
    "# # 연도별 변수들을 사전으로 정리\n",
    "# yearly_variables = {\n",
    "#     '2021': vars_2021,\n",
    "#     '2022': vars_2022,\n",
    "#     '2023': vars_2023\n",
    "# }\n",
    "\n",
    "# # 데이터프레임으로 정리해서 보기 (선택 사항)\n",
    "# import pandas as pd\n",
    "# yearly_variables_df = pd.DataFrame(dict([(year, pd.Series(vars)) for year, vars in yearly_variables.items()]))\n",
    "# print(\"\\n연도별 변수 요약:\")\n",
    "# print(yearly_variables_df)\n"
   ]
  },
  {
   "cell_type": "markdown",
   "metadata": {},
   "source": [
    "### 로지스틱 회귀분석 & 후진선택법"
   ]
  },
  {
   "cell_type": "markdown",
   "metadata": {},
   "source": [
    "- 로지스틱 회귀분석에서 변수 검증 : 특정 독립변수가 유의미하게 종속변수와 연관되어 있는지 확인하고, 불필요한 변수를 제거"
   ]
  },
  {
   "cell_type": "code",
   "execution_count": 52,
   "metadata": {},
   "outputs": [],
   "source": [
    "import statsmodels.api as sm\n",
    "\n",
    "# '2023/부실기업'을 종속변수로 설정\n",
    "y = data['2023/부실기업']\n",
    "\n",
    "# 독립변수: t-test 후 유의한 변수들\n",
    "X = data[significant_vars['변수']].select_dtypes(include=['number'])\n",
    "\n",
    "# 상수항 추가\n",
    "X = sm.add_constant(X)"
   ]
  },
  {
   "cell_type": "code",
   "execution_count": 53,
   "metadata": {},
   "outputs": [],
   "source": [
    "def backward_elimination(X, y, significance_level=0.05):\n",
    "    \"\"\"\n",
    "    후진 선택법을 이용한 변수 선택\n",
    "    Args:\n",
    "    - X: 독립변수 데이터프레임\n",
    "    - y: 종속변수 시리즈\n",
    "    - significance_level: 변수 제거 기준 p-value (기본값: 0.05)\n",
    "\n",
    "    Returns:\n",
    "    - 최종 모델\n",
    "    - 선택된 변수 리스트\n",
    "    \"\"\"\n",
    "    while True:\n",
    "        model = sm.Logit(y, X).fit(disp=False)  # 로지스틱 회귀 모델 적합\n",
    "        p_values = model.pvalues\n",
    "        max_p_value = p_values.max()  # 가장 높은 p-value\n",
    "\n",
    "        if max_p_value > significance_level:  # 기준보다 높은 변수 제거\n",
    "            excluded_variable = p_values.idxmax()\n",
    "            print(f\"제거된 변수: {excluded_variable}, p-value: {max_p_value}\")\n",
    "            X = X.drop(columns=[excluded_variable])\n",
    "        else:\n",
    "            break\n",
    "\n",
    "    return model, X.columns"
   ]
  },
  {
   "cell_type": "code",
   "execution_count": 59,
   "metadata": {},
   "outputs": [
    {
     "name": "stderr",
     "output_type": "stream",
     "text": [
      "c:\\Users\\ldb76\\AppData\\Local\\Programs\\Python\\Python311\\Lib\\site-packages\\statsmodels\\base\\model.py:607: ConvergenceWarning: Maximum Likelihood optimization failed to converge. Check mle_retvals\n",
      "  warnings.warn(\"Maximum Likelihood optimization failed to \"\n"
     ]
    },
    {
     "name": "stdout",
     "output_type": "stream",
     "text": [
      "제거된 변수: 2022/법인세비용차감전순이익이자보상비율, p-value: 0.9999999999999991\n"
     ]
    },
    {
     "name": "stderr",
     "output_type": "stream",
     "text": [
      "c:\\Users\\ldb76\\AppData\\Local\\Programs\\Python\\Python311\\Lib\\site-packages\\statsmodels\\base\\model.py:607: ConvergenceWarning: Maximum Likelihood optimization failed to converge. Check mle_retvals\n",
      "  warnings.warn(\"Maximum Likelihood optimization failed to \"\n"
     ]
    },
    {
     "name": "stdout",
     "output_type": "stream",
     "text": [
      "제거된 변수: 2023/법인세비용차감전순이익이자보상비율, p-value: 1.0\n"
     ]
    },
    {
     "name": "stderr",
     "output_type": "stream",
     "text": [
      "c:\\Users\\ldb76\\AppData\\Local\\Programs\\Python\\Python311\\Lib\\site-packages\\statsmodels\\base\\model.py:607: ConvergenceWarning: Maximum Likelihood optimization failed to converge. Check mle_retvals\n",
      "  warnings.warn(\"Maximum Likelihood optimization failed to \"\n"
     ]
    },
    {
     "name": "stdout",
     "output_type": "stream",
     "text": [
      "제거된 변수: 2021/법인세비용차감전순이익이자보상비율, p-value: 0.9999999999999736\n"
     ]
    },
    {
     "name": "stderr",
     "output_type": "stream",
     "text": [
      "c:\\Users\\ldb76\\AppData\\Local\\Programs\\Python\\Python311\\Lib\\site-packages\\statsmodels\\base\\model.py:607: ConvergenceWarning: Maximum Likelihood optimization failed to converge. Check mle_retvals\n",
      "  warnings.warn(\"Maximum Likelihood optimization failed to \"\n"
     ]
    },
    {
     "name": "stdout",
     "output_type": "stream",
     "text": [
      "제거된 변수: 2021/인건비(구성비), p-value: 0.9999999596353023\n"
     ]
    },
    {
     "name": "stderr",
     "output_type": "stream",
     "text": [
      "c:\\Users\\ldb76\\AppData\\Local\\Programs\\Python\\Python311\\Lib\\site-packages\\statsmodels\\base\\model.py:607: ConvergenceWarning: Maximum Likelihood optimization failed to converge. Check mle_retvals\n",
      "  warnings.warn(\"Maximum Likelihood optimization failed to \"\n"
     ]
    },
    {
     "name": "stdout",
     "output_type": "stream",
     "text": [
      "제거된 변수: 2023/노동소득분배율, p-value: 0.9999999477602457\n"
     ]
    },
    {
     "name": "stderr",
     "output_type": "stream",
     "text": [
      "c:\\Users\\ldb76\\AppData\\Local\\Programs\\Python\\Python311\\Lib\\site-packages\\statsmodels\\base\\model.py:607: ConvergenceWarning: Maximum Likelihood optimization failed to converge. Check mle_retvals\n",
      "  warnings.warn(\"Maximum Likelihood optimization failed to \"\n"
     ]
    },
    {
     "name": "stdout",
     "output_type": "stream",
     "text": [
      "제거된 변수: 2022/종업원수증가율, p-value: 0.9898196113366065\n"
     ]
    },
    {
     "name": "stderr",
     "output_type": "stream",
     "text": [
      "c:\\Users\\ldb76\\AppData\\Local\\Programs\\Python\\Python311\\Lib\\site-packages\\statsmodels\\base\\model.py:607: ConvergenceWarning: Maximum Likelihood optimization failed to converge. Check mle_retvals\n",
      "  warnings.warn(\"Maximum Likelihood optimization failed to \"\n"
     ]
    },
    {
     "name": "stdout",
     "output_type": "stream",
     "text": [
      "제거된 변수: 2023/매출채권/매입채무비율, p-value: 0.989373787137279\n"
     ]
    },
    {
     "name": "stderr",
     "output_type": "stream",
     "text": [
      "c:\\Users\\ldb76\\AppData\\Local\\Programs\\Python\\Python311\\Lib\\site-packages\\statsmodels\\base\\model.py:607: ConvergenceWarning: Maximum Likelihood optimization failed to converge. Check mle_retvals\n",
      "  warnings.warn(\"Maximum Likelihood optimization failed to \"\n"
     ]
    },
    {
     "name": "stdout",
     "output_type": "stream",
     "text": [
      "제거된 변수: 2022/인건비(구성비), p-value: 0.9999999941640183\n"
     ]
    },
    {
     "name": "stderr",
     "output_type": "stream",
     "text": [
      "c:\\Users\\ldb76\\AppData\\Local\\Programs\\Python\\Python311\\Lib\\site-packages\\statsmodels\\base\\model.py:607: ConvergenceWarning: Maximum Likelihood optimization failed to converge. Check mle_retvals\n",
      "  warnings.warn(\"Maximum Likelihood optimization failed to \"\n"
     ]
    },
    {
     "name": "stdout",
     "output_type": "stream",
     "text": [
      "제거된 변수: const, p-value: 0.9869222488604391\n"
     ]
    },
    {
     "name": "stderr",
     "output_type": "stream",
     "text": [
      "c:\\Users\\ldb76\\AppData\\Local\\Programs\\Python\\Python311\\Lib\\site-packages\\statsmodels\\base\\model.py:607: ConvergenceWarning: Maximum Likelihood optimization failed to converge. Check mle_retvals\n",
      "  warnings.warn(\"Maximum Likelihood optimization failed to \"\n"
     ]
    },
    {
     "name": "stdout",
     "output_type": "stream",
     "text": [
      "제거된 변수: 2022/영업이익증가율, p-value: 0.9843224332233684\n",
      "제거된 변수: 2023/배당성향, p-value: 0.9622381325697386\n"
     ]
    },
    {
     "name": "stderr",
     "output_type": "stream",
     "text": [
      "c:\\Users\\ldb76\\AppData\\Local\\Programs\\Python\\Python311\\Lib\\site-packages\\statsmodels\\base\\model.py:607: ConvergenceWarning: Maximum Likelihood optimization failed to converge. Check mle_retvals\n",
      "  warnings.warn(\"Maximum Likelihood optimization failed to \"\n"
     ]
    },
    {
     "name": "stdout",
     "output_type": "stream",
     "text": [
      "제거된 변수: 2023/적립금비율, p-value: 0.9555799895958424\n"
     ]
    },
    {
     "name": "stderr",
     "output_type": "stream",
     "text": [
      "c:\\Users\\ldb76\\AppData\\Local\\Programs\\Python\\Python311\\Lib\\site-packages\\statsmodels\\base\\model.py:607: ConvergenceWarning: Maximum Likelihood optimization failed to converge. Check mle_retvals\n",
      "  warnings.warn(\"Maximum Likelihood optimization failed to \"\n"
     ]
    },
    {
     "name": "stdout",
     "output_type": "stream",
     "text": [
      "제거된 변수: 2021/부가가치(종업원1인당), p-value: 0.9509099440827729\n"
     ]
    },
    {
     "name": "stderr",
     "output_type": "stream",
     "text": [
      "c:\\Users\\ldb76\\AppData\\Local\\Programs\\Python\\Python311\\Lib\\site-packages\\statsmodels\\base\\model.py:607: ConvergenceWarning: Maximum Likelihood optimization failed to converge. Check mle_retvals\n",
      "  warnings.warn(\"Maximum Likelihood optimization failed to \"\n"
     ]
    },
    {
     "name": "stdout",
     "output_type": "stream",
     "text": [
      "제거된 변수: 2022/매출채권/상,제품비율, p-value: 0.9490455255982008\n"
     ]
    },
    {
     "name": "stderr",
     "output_type": "stream",
     "text": [
      "c:\\Users\\ldb76\\AppData\\Local\\Programs\\Python\\Python311\\Lib\\site-packages\\statsmodels\\base\\model.py:607: ConvergenceWarning: Maximum Likelihood optimization failed to converge. Check mle_retvals\n",
      "  warnings.warn(\"Maximum Likelihood optimization failed to \"\n"
     ]
    },
    {
     "name": "stdout",
     "output_type": "stream",
     "text": [
      "제거된 변수: 2023/재고자산회전율2, p-value: 0.9379259101306918\n",
      "제거된 변수: 2021/순C/F대차입금비율, p-value: 0.9365327996730322\n"
     ]
    },
    {
     "name": "stderr",
     "output_type": "stream",
     "text": [
      "c:\\Users\\ldb76\\AppData\\Local\\Programs\\Python\\Python311\\Lib\\site-packages\\statsmodels\\base\\model.py:607: ConvergenceWarning: Maximum Likelihood optimization failed to converge. Check mle_retvals\n",
      "  warnings.warn(\"Maximum Likelihood optimization failed to \"\n"
     ]
    },
    {
     "name": "stdout",
     "output_type": "stream",
     "text": [
      "제거된 변수: 2022/순이익증가율, p-value: 0.9350325442822258\n"
     ]
    },
    {
     "name": "stderr",
     "output_type": "stream",
     "text": [
      "c:\\Users\\ldb76\\AppData\\Local\\Programs\\Python\\Python311\\Lib\\site-packages\\statsmodels\\base\\model.py:607: ConvergenceWarning: Maximum Likelihood optimization failed to converge. Check mle_retvals\n",
      "  warnings.warn(\"Maximum Likelihood optimization failed to \"\n"
     ]
    },
    {
     "name": "stdout",
     "output_type": "stream",
     "text": [
      "제거된 변수: 2023/순운전자본/총자본비율, p-value: 0.9342642469844409\n"
     ]
    },
    {
     "name": "stderr",
     "output_type": "stream",
     "text": [
      "c:\\Users\\ldb76\\AppData\\Local\\Programs\\Python\\Python311\\Lib\\site-packages\\statsmodels\\base\\model.py:607: ConvergenceWarning: Maximum Likelihood optimization failed to converge. Check mle_retvals\n",
      "  warnings.warn(\"Maximum Likelihood optimization failed to \"\n"
     ]
    },
    {
     "name": "stdout",
     "output_type": "stream",
     "text": [
      "제거된 변수: 2023/종업원수증가율, p-value: 0.934471172404992\n"
     ]
    },
    {
     "name": "stderr",
     "output_type": "stream",
     "text": [
      "c:\\Users\\ldb76\\AppData\\Local\\Programs\\Python\\Python311\\Lib\\site-packages\\statsmodels\\base\\model.py:607: ConvergenceWarning: Maximum Likelihood optimization failed to converge. Check mle_retvals\n",
      "  warnings.warn(\"Maximum Likelihood optimization failed to \"\n"
     ]
    },
    {
     "name": "stdout",
     "output_type": "stream",
     "text": [
      "제거된 변수: 2023/대출효율성계수(법인세비용차감전순이익), p-value: 0.9318920998881791\n"
     ]
    },
    {
     "name": "stderr",
     "output_type": "stream",
     "text": [
      "c:\\Users\\ldb76\\AppData\\Local\\Programs\\Python\\Python311\\Lib\\site-packages\\statsmodels\\base\\model.py:607: ConvergenceWarning: Maximum Likelihood optimization failed to converge. Check mle_retvals\n",
      "  warnings.warn(\"Maximum Likelihood optimization failed to \"\n"
     ]
    },
    {
     "name": "stdout",
     "output_type": "stream",
     "text": [
      "제거된 변수: 2023/인건비(종업원1인당), p-value: 0.9268977854716127\n"
     ]
    },
    {
     "name": "stderr",
     "output_type": "stream",
     "text": [
      "c:\\Users\\ldb76\\AppData\\Local\\Programs\\Python\\Python311\\Lib\\site-packages\\statsmodels\\base\\model.py:607: ConvergenceWarning: Maximum Likelihood optimization failed to converge. Check mle_retvals\n",
      "  warnings.warn(\"Maximum Likelihood optimization failed to \"\n"
     ]
    },
    {
     "name": "stdout",
     "output_type": "stream",
     "text": [
      "제거된 변수: 2023/기업법인세비용차감전순이익율, p-value: 0.9275081176135505\n"
     ]
    },
    {
     "name": "stderr",
     "output_type": "stream",
     "text": [
      "c:\\Users\\ldb76\\AppData\\Local\\Programs\\Python\\Python311\\Lib\\site-packages\\statsmodels\\base\\model.py:607: ConvergenceWarning: Maximum Likelihood optimization failed to converge. Check mle_retvals\n",
      "  warnings.warn(\"Maximum Likelihood optimization failed to \"\n"
     ]
    },
    {
     "name": "stdout",
     "output_type": "stream",
     "text": [
      "제거된 변수: 2022/상(제)품회전율, p-value: 0.9120865131258218\n"
     ]
    },
    {
     "name": "stderr",
     "output_type": "stream",
     "text": [
      "c:\\Users\\ldb76\\AppData\\Local\\Programs\\Python\\Python311\\Lib\\site-packages\\statsmodels\\base\\model.py:607: ConvergenceWarning: Maximum Likelihood optimization failed to converge. Check mle_retvals\n",
      "  warnings.warn(\"Maximum Likelihood optimization failed to \"\n"
     ]
    },
    {
     "name": "stdout",
     "output_type": "stream",
     "text": [
      "제거된 변수: 2021/자기자본법인세비용차감전순이익율, p-value: 0.9092890540189414\n"
     ]
    },
    {
     "name": "stderr",
     "output_type": "stream",
     "text": [
      "c:\\Users\\ldb76\\AppData\\Local\\Programs\\Python\\Python311\\Lib\\site-packages\\statsmodels\\base\\model.py:607: ConvergenceWarning: Maximum Likelihood optimization failed to converge. Check mle_retvals\n",
      "  warnings.warn(\"Maximum Likelihood optimization failed to \"\n"
     ]
    },
    {
     "name": "stdout",
     "output_type": "stream",
     "text": [
      "제거된 변수: 2021/총C/F대총자본비율, p-value: 0.9093174630408911\n"
     ]
    },
    {
     "name": "stderr",
     "output_type": "stream",
     "text": [
      "c:\\Users\\ldb76\\AppData\\Local\\Programs\\Python\\Python311\\Lib\\site-packages\\statsmodels\\base\\model.py:607: ConvergenceWarning: Maximum Likelihood optimization failed to converge. Check mle_retvals\n",
      "  warnings.warn(\"Maximum Likelihood optimization failed to \"\n"
     ]
    },
    {
     "name": "stdout",
     "output_type": "stream",
     "text": [
      "제거된 변수: 2021/순영업자본회전율, p-value: 0.9080655696545225\n"
     ]
    },
    {
     "name": "stderr",
     "output_type": "stream",
     "text": [
      "c:\\Users\\ldb76\\AppData\\Local\\Programs\\Python\\Python311\\Lib\\site-packages\\statsmodels\\base\\model.py:607: ConvergenceWarning: Maximum Likelihood optimization failed to converge. Check mle_retvals\n",
      "  warnings.warn(\"Maximum Likelihood optimization failed to \"\n"
     ]
    },
    {
     "name": "stdout",
     "output_type": "stream",
     "text": [
      "제거된 변수: 2023/매입채무/재고자산비율, p-value: 0.8932601632080712\n",
      "제거된 변수: 2021/비유동자산비율, p-value: 0.8905725548778064\n"
     ]
    },
    {
     "name": "stderr",
     "output_type": "stream",
     "text": [
      "c:\\Users\\ldb76\\AppData\\Local\\Programs\\Python\\Python311\\Lib\\site-packages\\statsmodels\\base\\model.py:607: ConvergenceWarning: Maximum Likelihood optimization failed to converge. Check mle_retvals\n",
      "  warnings.warn(\"Maximum Likelihood optimization failed to \"\n"
     ]
    },
    {
     "name": "stdout",
     "output_type": "stream",
     "text": [
      "제거된 변수: 2022/비유동자산비율, p-value: 0.899643860416731\n"
     ]
    },
    {
     "name": "stderr",
     "output_type": "stream",
     "text": [
      "c:\\Users\\ldb76\\AppData\\Local\\Programs\\Python\\Python311\\Lib\\site-packages\\statsmodels\\base\\model.py:607: ConvergenceWarning: Maximum Likelihood optimization failed to converge. Check mle_retvals\n",
      "  warnings.warn(\"Maximum Likelihood optimization failed to \"\n"
     ]
    },
    {
     "name": "stdout",
     "output_type": "stream",
     "text": [
      "제거된 변수: 2022/비유동부채비율, p-value: 0.914619278619766\n"
     ]
    },
    {
     "name": "stderr",
     "output_type": "stream",
     "text": [
      "c:\\Users\\ldb76\\AppData\\Local\\Programs\\Python\\Python311\\Lib\\site-packages\\statsmodels\\base\\model.py:607: ConvergenceWarning: Maximum Likelihood optimization failed to converge. Check mle_retvals\n",
      "  warnings.warn(\"Maximum Likelihood optimization failed to \"\n"
     ]
    },
    {
     "name": "stdout",
     "output_type": "stream",
     "text": [
      "제거된 변수: 2023/조세/조세차감전순이익비율, p-value: 0.8782275296770384\n",
      "제거된 변수: 2022/수지비율, p-value: 0.8778545032818844\n"
     ]
    },
    {
     "name": "stderr",
     "output_type": "stream",
     "text": [
      "c:\\Users\\ldb76\\AppData\\Local\\Programs\\Python\\Python311\\Lib\\site-packages\\statsmodels\\base\\model.py:607: ConvergenceWarning: Maximum Likelihood optimization failed to converge. Check mle_retvals\n",
      "  warnings.warn(\"Maximum Likelihood optimization failed to \"\n"
     ]
    },
    {
     "name": "stdout",
     "output_type": "stream",
     "text": [
      "제거된 변수: 2021/비유동자산장기적합율, p-value: 0.8733332535313523\n"
     ]
    },
    {
     "name": "stderr",
     "output_type": "stream",
     "text": [
      "c:\\Users\\ldb76\\AppData\\Local\\Programs\\Python\\Python311\\Lib\\site-packages\\statsmodels\\base\\model.py:607: ConvergenceWarning: Maximum Likelihood optimization failed to converge. Check mle_retvals\n",
      "  warnings.warn(\"Maximum Likelihood optimization failed to \"\n"
     ]
    },
    {
     "name": "stdout",
     "output_type": "stream",
     "text": [
      "제거된 변수: 2022/감가상각비(구성비), p-value: 0.871276558079557\n"
     ]
    },
    {
     "name": "stderr",
     "output_type": "stream",
     "text": [
      "c:\\Users\\ldb76\\AppData\\Local\\Programs\\Python\\Python311\\Lib\\site-packages\\statsmodels\\base\\model.py:607: ConvergenceWarning: Maximum Likelihood optimization failed to converge. Check mle_retvals\n",
      "  warnings.warn(\"Maximum Likelihood optimization failed to \"\n"
     ]
    },
    {
     "name": "stdout",
     "output_type": "stream",
     "text": [
      "제거된 변수: 2022/법인세차감전순이익이자보상비율, p-value: 0.8601906887255365\n"
     ]
    },
    {
     "name": "stderr",
     "output_type": "stream",
     "text": [
      "c:\\Users\\ldb76\\AppData\\Local\\Programs\\Python\\Python311\\Lib\\site-packages\\statsmodels\\base\\model.py:607: ConvergenceWarning: Maximum Likelihood optimization failed to converge. Check mle_retvals\n",
      "  warnings.warn(\"Maximum Likelihood optimization failed to \"\n"
     ]
    },
    {
     "name": "stdout",
     "output_type": "stream",
     "text": [
      "제거된 변수: 2021/매입채무회전율, p-value: 0.8385915237820216\n"
     ]
    },
    {
     "name": "stderr",
     "output_type": "stream",
     "text": [
      "c:\\Users\\ldb76\\AppData\\Local\\Programs\\Python\\Python311\\Lib\\site-packages\\statsmodels\\base\\model.py:607: ConvergenceWarning: Maximum Likelihood optimization failed to converge. Check mle_retvals\n",
      "  warnings.warn(\"Maximum Likelihood optimization failed to \"\n"
     ]
    },
    {
     "name": "stdout",
     "output_type": "stream",
     "text": [
      "제거된 변수: 2023/순C/F대차입금비율, p-value: 0.8386197533094861\n"
     ]
    },
    {
     "name": "stderr",
     "output_type": "stream",
     "text": [
      "c:\\Users\\ldb76\\AppData\\Local\\Programs\\Python\\Python311\\Lib\\site-packages\\statsmodels\\base\\model.py:607: ConvergenceWarning: Maximum Likelihood optimization failed to converge. Check mle_retvals\n",
      "  warnings.warn(\"Maximum Likelihood optimization failed to \"\n"
     ]
    },
    {
     "name": "stdout",
     "output_type": "stream",
     "text": [
      "제거된 변수: 2021/매출채권/매입채무비율, p-value: 0.8329857287136273\n"
     ]
    },
    {
     "name": "stderr",
     "output_type": "stream",
     "text": [
      "c:\\Users\\ldb76\\AppData\\Local\\Programs\\Python\\Python311\\Lib\\site-packages\\statsmodels\\base\\model.py:607: ConvergenceWarning: Maximum Likelihood optimization failed to converge. Check mle_retvals\n",
      "  warnings.warn(\"Maximum Likelihood optimization failed to \"\n"
     ]
    },
    {
     "name": "stdout",
     "output_type": "stream",
     "text": [
      "제거된 변수: 2022/총자본투자효율, p-value: 0.8322207386764233\n"
     ]
    },
    {
     "name": "stderr",
     "output_type": "stream",
     "text": [
      "c:\\Users\\ldb76\\AppData\\Local\\Programs\\Python\\Python311\\Lib\\site-packages\\statsmodels\\base\\model.py:607: ConvergenceWarning: Maximum Likelihood optimization failed to converge. Check mle_retvals\n",
      "  warnings.warn(\"Maximum Likelihood optimization failed to \"\n"
     ]
    },
    {
     "name": "stdout",
     "output_type": "stream",
     "text": [
      "제거된 변수: 2023/매출액순이익율, p-value: 0.8092090292086958\n"
     ]
    },
    {
     "name": "stderr",
     "output_type": "stream",
     "text": [
      "c:\\Users\\ldb76\\AppData\\Local\\Programs\\Python\\Python311\\Lib\\site-packages\\statsmodels\\base\\model.py:607: ConvergenceWarning: Maximum Likelihood optimization failed to converge. Check mle_retvals\n",
      "  warnings.warn(\"Maximum Likelihood optimization failed to \"\n"
     ]
    },
    {
     "name": "stdout",
     "output_type": "stream",
     "text": [
      "제거된 변수: 2023/유보액/총자산비율, p-value: 0.8023364723482606\n"
     ]
    },
    {
     "name": "stderr",
     "output_type": "stream",
     "text": [
      "c:\\Users\\ldb76\\AppData\\Local\\Programs\\Python\\Python311\\Lib\\site-packages\\statsmodels\\base\\model.py:607: ConvergenceWarning: Maximum Likelihood optimization failed to converge. Check mle_retvals\n",
      "  warnings.warn(\"Maximum Likelihood optimization failed to \"\n"
     ]
    },
    {
     "name": "stdout",
     "output_type": "stream",
     "text": [
      "제거된 변수: 2021/총자본순이익율, p-value: 0.7914510650489721\n"
     ]
    },
    {
     "name": "stderr",
     "output_type": "stream",
     "text": [
      "c:\\Users\\ldb76\\AppData\\Local\\Programs\\Python\\Python311\\Lib\\site-packages\\statsmodels\\base\\model.py:607: ConvergenceWarning: Maximum Likelihood optimization failed to converge. Check mle_retvals\n",
      "  warnings.warn(\"Maximum Likelihood optimization failed to \"\n"
     ]
    },
    {
     "name": "stdout",
     "output_type": "stream",
     "text": [
      "제거된 변수: 2022/총C/F대차입금비율, p-value: 0.7925348242229954\n"
     ]
    },
    {
     "name": "stderr",
     "output_type": "stream",
     "text": [
      "c:\\Users\\ldb76\\AppData\\Local\\Programs\\Python\\Python311\\Lib\\site-packages\\statsmodels\\base\\model.py:607: ConvergenceWarning: Maximum Likelihood optimization failed to converge. Check mle_retvals\n",
      "  warnings.warn(\"Maximum Likelihood optimization failed to \"\n"
     ]
    },
    {
     "name": "stdout",
     "output_type": "stream",
     "text": [
      "제거된 변수: 2023/법인세차감전순이익이자보상비율, p-value: 0.7843675645872572\n"
     ]
    },
    {
     "name": "stderr",
     "output_type": "stream",
     "text": [
      "c:\\Users\\ldb76\\AppData\\Local\\Programs\\Python\\Python311\\Lib\\site-packages\\statsmodels\\base\\model.py:607: ConvergenceWarning: Maximum Likelihood optimization failed to converge. Check mle_retvals\n",
      "  warnings.warn(\"Maximum Likelihood optimization failed to \"\n"
     ]
    },
    {
     "name": "stdout",
     "output_type": "stream",
     "text": [
      "제거된 변수: 2023/법인세비용차감전순이익증가율, p-value: 0.7809421084007393\n"
     ]
    },
    {
     "name": "stderr",
     "output_type": "stream",
     "text": [
      "c:\\Users\\ldb76\\AppData\\Local\\Programs\\Python\\Python311\\Lib\\site-packages\\statsmodels\\base\\model.py:607: ConvergenceWarning: Maximum Likelihood optimization failed to converge. Check mle_retvals\n",
      "  warnings.warn(\"Maximum Likelihood optimization failed to \"\n"
     ]
    },
    {
     "name": "stdout",
     "output_type": "stream",
     "text": [
      "제거된 변수: 2023/비유동자산회전율, p-value: 0.781055658470885\n"
     ]
    },
    {
     "name": "stderr",
     "output_type": "stream",
     "text": [
      "c:\\Users\\ldb76\\AppData\\Local\\Programs\\Python\\Python311\\Lib\\site-packages\\statsmodels\\base\\model.py:607: ConvergenceWarning: Maximum Likelihood optimization failed to converge. Check mle_retvals\n",
      "  warnings.warn(\"Maximum Likelihood optimization failed to \"\n"
     ]
    },
    {
     "name": "stdout",
     "output_type": "stream",
     "text": [
      "제거된 변수: 2021/자기자본증가율, p-value: 0.7774205360908806\n"
     ]
    },
    {
     "name": "stderr",
     "output_type": "stream",
     "text": [
      "c:\\Users\\ldb76\\AppData\\Local\\Programs\\Python\\Python311\\Lib\\site-packages\\statsmodels\\base\\model.py:607: ConvergenceWarning: Maximum Likelihood optimization failed to converge. Check mle_retvals\n",
      "  warnings.warn(\"Maximum Likelihood optimization failed to \"\n"
     ]
    },
    {
     "name": "stdout",
     "output_type": "stream",
     "text": [
      "제거된 변수: 2023/당좌비율, p-value: 0.7694914211407455\n"
     ]
    },
    {
     "name": "stderr",
     "output_type": "stream",
     "text": [
      "c:\\Users\\ldb76\\AppData\\Local\\Programs\\Python\\Python311\\Lib\\site-packages\\statsmodels\\base\\model.py:607: ConvergenceWarning: Maximum Likelihood optimization failed to converge. Check mle_retvals\n",
      "  warnings.warn(\"Maximum Likelihood optimization failed to \"\n"
     ]
    },
    {
     "name": "stdout",
     "output_type": "stream",
     "text": [
      "제거된 변수: 2023/조세공과(구성비), p-value: 0.7596485954287305\n"
     ]
    },
    {
     "name": "stderr",
     "output_type": "stream",
     "text": [
      "c:\\Users\\ldb76\\AppData\\Local\\Programs\\Python\\Python311\\Lib\\site-packages\\statsmodels\\base\\model.py:607: ConvergenceWarning: Maximum Likelihood optimization failed to converge. Check mle_retvals\n",
      "  warnings.warn(\"Maximum Likelihood optimization failed to \"\n"
     ]
    },
    {
     "name": "stdout",
     "output_type": "stream",
     "text": [
      "제거된 변수: 2023/부채비율, p-value: 0.7544837829629032\n"
     ]
    },
    {
     "name": "stderr",
     "output_type": "stream",
     "text": [
      "c:\\Users\\ldb76\\AppData\\Local\\Programs\\Python\\Python311\\Lib\\site-packages\\statsmodels\\base\\model.py:607: ConvergenceWarning: Maximum Likelihood optimization failed to converge. Check mle_retvals\n",
      "  warnings.warn(\"Maximum Likelihood optimization failed to \"\n"
     ]
    },
    {
     "name": "stdout",
     "output_type": "stream",
     "text": [
      "제거된 변수: 2022/자본집약도(종업원1인당), p-value: 0.7540623687331145\n"
     ]
    },
    {
     "name": "stderr",
     "output_type": "stream",
     "text": [
      "c:\\Users\\ldb76\\AppData\\Local\\Programs\\Python\\Python311\\Lib\\site-packages\\statsmodels\\base\\model.py:607: ConvergenceWarning: Maximum Likelihood optimization failed to converge. Check mle_retvals\n",
      "  warnings.warn(\"Maximum Likelihood optimization failed to \"\n"
     ]
    },
    {
     "name": "stdout",
     "output_type": "stream",
     "text": [
      "제거된 변수: 2022/법인세비용차감전순이익증가율, p-value: 0.751315679396318\n"
     ]
    },
    {
     "name": "stderr",
     "output_type": "stream",
     "text": [
      "c:\\Users\\ldb76\\AppData\\Local\\Programs\\Python\\Python311\\Lib\\site-packages\\statsmodels\\base\\model.py:607: ConvergenceWarning: Maximum Likelihood optimization failed to converge. Check mle_retvals\n",
      "  warnings.warn(\"Maximum Likelihood optimization failed to \"\n"
     ]
    },
    {
     "name": "stdout",
     "output_type": "stream",
     "text": [
      "제거된 변수: 2023/EBIT대매출액(세전이익), p-value: 0.7484987433312847\n"
     ]
    },
    {
     "name": "stderr",
     "output_type": "stream",
     "text": [
      "c:\\Users\\ldb76\\AppData\\Local\\Programs\\Python\\Python311\\Lib\\site-packages\\statsmodels\\base\\model.py:607: ConvergenceWarning: Maximum Likelihood optimization failed to converge. Check mle_retvals\n",
      "  warnings.warn(\"Maximum Likelihood optimization failed to \"\n"
     ]
    },
    {
     "name": "stdout",
     "output_type": "stream",
     "text": [
      "제거된 변수: 2022/총자산증가율, p-value: 0.7444972424947858\n"
     ]
    },
    {
     "name": "stderr",
     "output_type": "stream",
     "text": [
      "c:\\Users\\ldb76\\AppData\\Local\\Programs\\Python\\Python311\\Lib\\site-packages\\statsmodels\\base\\model.py:607: ConvergenceWarning: Maximum Likelihood optimization failed to converge. Check mle_retvals\n",
      "  warnings.warn(\"Maximum Likelihood optimization failed to \"\n"
     ]
    },
    {
     "name": "stdout",
     "output_type": "stream",
     "text": [
      "제거된 변수: 2023/감가상각비/총비용비율, p-value: 0.7367296734715898\n"
     ]
    },
    {
     "name": "stderr",
     "output_type": "stream",
     "text": [
      "c:\\Users\\ldb76\\AppData\\Local\\Programs\\Python\\Python311\\Lib\\site-packages\\statsmodels\\base\\model.py:607: ConvergenceWarning: Maximum Likelihood optimization failed to converge. Check mle_retvals\n",
      "  warnings.warn(\"Maximum Likelihood optimization failed to \"\n"
     ]
    },
    {
     "name": "stdout",
     "output_type": "stream",
     "text": [
      "제거된 변수: 2023/감가상각비(구성비), p-value: 0.801869640079474\n",
      "제거된 변수: 2022/인건비(종업원1인당), p-value: 0.7436807993520463\n"
     ]
    },
    {
     "name": "stderr",
     "output_type": "stream",
     "text": [
      "c:\\Users\\ldb76\\AppData\\Local\\Programs\\Python\\Python311\\Lib\\site-packages\\statsmodels\\base\\model.py:607: ConvergenceWarning: Maximum Likelihood optimization failed to converge. Check mle_retvals\n",
      "  warnings.warn(\"Maximum Likelihood optimization failed to \"\n",
      "c:\\Users\\ldb76\\AppData\\Local\\Programs\\Python\\Python311\\Lib\\site-packages\\statsmodels\\base\\model.py:607: ConvergenceWarning: Maximum Likelihood optimization failed to converge. Check mle_retvals\n",
      "  warnings.warn(\"Maximum Likelihood optimization failed to \"\n"
     ]
    },
    {
     "name": "stdout",
     "output_type": "stream",
     "text": [
      "제거된 변수: 2021/매출액순이익율, p-value: 0.7362905100011556\n"
     ]
    },
    {
     "name": "stderr",
     "output_type": "stream",
     "text": [
      "c:\\Users\\ldb76\\AppData\\Local\\Programs\\Python\\Python311\\Lib\\site-packages\\statsmodels\\base\\model.py:607: ConvergenceWarning: Maximum Likelihood optimization failed to converge. Check mle_retvals\n",
      "  warnings.warn(\"Maximum Likelihood optimization failed to \"\n"
     ]
    },
    {
     "name": "stdout",
     "output_type": "stream",
     "text": [
      "제거된 변수: 2022/총C/F대매출액비율, p-value: 0.7248779641287697\n"
     ]
    },
    {
     "name": "stderr",
     "output_type": "stream",
     "text": [
      "c:\\Users\\ldb76\\AppData\\Local\\Programs\\Python\\Python311\\Lib\\site-packages\\statsmodels\\base\\model.py:607: ConvergenceWarning: Maximum Likelihood optimization failed to converge. Check mle_retvals\n",
      "  warnings.warn(\"Maximum Likelihood optimization failed to \"\n"
     ]
    },
    {
     "name": "stdout",
     "output_type": "stream",
     "text": [
      "제거된 변수: 2022/EBITDA대매출액, p-value: 0.7312829113161615\n"
     ]
    },
    {
     "name": "stderr",
     "output_type": "stream",
     "text": [
      "c:\\Users\\ldb76\\AppData\\Local\\Programs\\Python\\Python311\\Lib\\site-packages\\statsmodels\\base\\model.py:607: ConvergenceWarning: Maximum Likelihood optimization failed to converge. Check mle_retvals\n",
      "  warnings.warn(\"Maximum Likelihood optimization failed to \"\n"
     ]
    },
    {
     "name": "stdout",
     "output_type": "stream",
     "text": [
      "제거된 변수: 2022/기업순이익율, p-value: 0.7213296657008987\n"
     ]
    },
    {
     "name": "stderr",
     "output_type": "stream",
     "text": [
      "c:\\Users\\ldb76\\AppData\\Local\\Programs\\Python\\Python311\\Lib\\site-packages\\statsmodels\\base\\model.py:607: ConvergenceWarning: Maximum Likelihood optimization failed to converge. Check mle_retvals\n",
      "  warnings.warn(\"Maximum Likelihood optimization failed to \"\n"
     ]
    },
    {
     "name": "stdout",
     "output_type": "stream",
     "text": [
      "제거된 변수: 2023/차입금/자기자본, p-value: 0.7132402794424566\n"
     ]
    },
    {
     "name": "stderr",
     "output_type": "stream",
     "text": [
      "c:\\Users\\ldb76\\AppData\\Local\\Programs\\Python\\Python311\\Lib\\site-packages\\statsmodels\\base\\model.py:607: ConvergenceWarning: Maximum Likelihood optimization failed to converge. Check mle_retvals\n",
      "  warnings.warn(\"Maximum Likelihood optimization failed to \"\n"
     ]
    },
    {
     "name": "stdout",
     "output_type": "stream",
     "text": [
      "제거된 변수: 2023/부가가치(종업원1인당), p-value: 0.7056466065646744\n"
     ]
    },
    {
     "name": "stderr",
     "output_type": "stream",
     "text": [
      "c:\\Users\\ldb76\\AppData\\Local\\Programs\\Python\\Python311\\Lib\\site-packages\\statsmodels\\base\\model.py:607: ConvergenceWarning: Maximum Likelihood optimization failed to converge. Check mle_retvals\n",
      "  warnings.warn(\"Maximum Likelihood optimization failed to \"\n"
     ]
    },
    {
     "name": "stdout",
     "output_type": "stream",
     "text": [
      "제거된 변수: 2021/매출액총이익율, p-value: 0.6945310987627169\n"
     ]
    },
    {
     "name": "stderr",
     "output_type": "stream",
     "text": [
      "c:\\Users\\ldb76\\AppData\\Local\\Programs\\Python\\Python311\\Lib\\site-packages\\statsmodels\\base\\model.py:607: ConvergenceWarning: Maximum Likelihood optimization failed to converge. Check mle_retvals\n",
      "  warnings.warn(\"Maximum Likelihood optimization failed to \"\n"
     ]
    },
    {
     "name": "stdout",
     "output_type": "stream",
     "text": [
      "제거된 변수: 2022/자기자본비율, p-value: 0.6988404663074606\n",
      "제거된 변수: 2023/재고자산/순운전자본비율, p-value: 0.6854818071506554\n",
      "제거된 변수: 2021/재고자산/순운전자본비율, p-value: 0.7051850064635343\n",
      "제거된 변수: 2023/자본금순이익율, p-value: 0.6732336423073351\n",
      "제거된 변수: 2023/자본금법인세비용차감전순이익율, p-value: 0.8740259337326417\n",
      "제거된 변수: 2022/임차료(구성비), p-value: 0.666761832035837\n",
      "제거된 변수: 2023/경영자본회전율, p-value: 0.6660889514759551\n",
      "제거된 변수: 2021/차입금의존도, p-value: 0.6501307439757948\n"
     ]
    },
    {
     "name": "stderr",
     "output_type": "stream",
     "text": [
      "c:\\Users\\ldb76\\AppData\\Local\\Programs\\Python\\Python311\\Lib\\site-packages\\statsmodels\\base\\model.py:607: ConvergenceWarning: Maximum Likelihood optimization failed to converge. Check mle_retvals\n",
      "  warnings.warn(\"Maximum Likelihood optimization failed to \"\n"
     ]
    },
    {
     "name": "stdout",
     "output_type": "stream",
     "text": [
      "제거된 변수: 2021/차입금/자기자본, p-value: 0.7168018820178037\n",
      "제거된 변수: 2022/매출채권/매입채무비율, p-value: 0.657874727631283\n",
      "제거된 변수: 2022/금융비용/매출액비율, p-value: 0.6510889322857287\n",
      "제거된 변수: 2023/금융비용/매출액비율, p-value: 0.706322237495595\n"
     ]
    },
    {
     "name": "stderr",
     "output_type": "stream",
     "text": [
      "c:\\Users\\ldb76\\AppData\\Local\\Programs\\Python\\Python311\\Lib\\site-packages\\statsmodels\\base\\model.py:607: ConvergenceWarning: Maximum Likelihood optimization failed to converge. Check mle_retvals\n",
      "  warnings.warn(\"Maximum Likelihood optimization failed to \"\n"
     ]
    },
    {
     "name": "stdout",
     "output_type": "stream",
     "text": [
      "제거된 변수: 2022/순영업자본회전율, p-value: 0.6470093637824335\n",
      "제거된 변수: 2021/재고자산회전율2, p-value: 0.6503557902577415\n",
      "제거된 변수: 2022/노동장비율(종업원1인당), p-value: 0.6319927763921871\n"
     ]
    },
    {
     "name": "stderr",
     "output_type": "stream",
     "text": [
      "c:\\Users\\ldb76\\AppData\\Local\\Programs\\Python\\Python311\\Lib\\site-packages\\statsmodels\\base\\model.py:607: ConvergenceWarning: Maximum Likelihood optimization failed to converge. Check mle_retvals\n",
      "  warnings.warn(\"Maximum Likelihood optimization failed to \"\n"
     ]
    },
    {
     "name": "stdout",
     "output_type": "stream",
     "text": [
      "제거된 변수: 2022/매출액(종업원1인당), p-value: 0.6398402961330582\n",
      "제거된 변수: 2021/매출원가율, p-value: 0.6294345116753209\n",
      "제거된 변수: 2021/EBIT대매출액(세전이익), p-value: 0.6288040007602578\n",
      "제거된 변수: 2021/경영자본회전율, p-value: 0.627752844434863\n",
      "제거된 변수: 2021/상(제)품회전율, p-value: 0.6173803988996907\n"
     ]
    },
    {
     "name": "stderr",
     "output_type": "stream",
     "text": [
      "c:\\Users\\ldb76\\AppData\\Local\\Programs\\Python\\Python311\\Lib\\site-packages\\statsmodels\\base\\model.py:607: ConvergenceWarning: Maximum Likelihood optimization failed to converge. Check mle_retvals\n",
      "  warnings.warn(\"Maximum Likelihood optimization failed to \"\n"
     ]
    },
    {
     "name": "stdout",
     "output_type": "stream",
     "text": [
      "제거된 변수: 2022/설비투자효율, p-value: 0.6120512112477465\n",
      "제거된 변수: 2023/설비투자효율, p-value: 0.7255171918582555\n"
     ]
    },
    {
     "name": "stderr",
     "output_type": "stream",
     "text": [
      "c:\\Users\\ldb76\\AppData\\Local\\Programs\\Python\\Python311\\Lib\\site-packages\\statsmodels\\base\\model.py:607: ConvergenceWarning: Maximum Likelihood optimization failed to converge. Check mle_retvals\n",
      "  warnings.warn(\"Maximum Likelihood optimization failed to \"\n"
     ]
    },
    {
     "name": "stdout",
     "output_type": "stream",
     "text": [
      "제거된 변수: 2021/재공품회전율, p-value: 0.6183219876011565\n",
      "제거된 변수: 2021/부채비율, p-value: 0.6114221659311996\n",
      "제거된 변수: 2021/재고자산회전율1, p-value: 0.6107106842079918\n",
      "제거된 변수: 2021/기계장비율(종업원1인당), p-value: 0.6041716649461798\n",
      "제거된 변수: 2022/순운전자본회전율, p-value: 0.60104734420348\n",
      "제거된 변수: 2023/영업활동현금흐름이자보상비율, p-value: 0.5972042790576044\n",
      "제거된 변수: 2023/경영자본영업이익율, p-value: 0.5985358110292448\n",
      "제거된 변수: 2021/EBITDA대매출액, p-value: 0.5908498578263011\n",
      "제거된 변수: 2021/조세공과/총비용비율, p-value: 0.558741578105509\n",
      "제거된 변수: 2023/법인세차감전순이익(구성비), p-value: 0.5434940103067106\n",
      "제거된 변수: 2023/재공품회전율, p-value: 0.5405616925927853\n",
      "제거된 변수: 2022/재공품회전율, p-value: 0.7314448930891881\n",
      "제거된 변수: 2022/원재료회전율, p-value: 0.5368343420580022\n",
      "제거된 변수: 2023/법인세비용차감전순이익(종업원1인당), p-value: 0.5274169357448144\n",
      "제거된 변수: 2023/총자본법인세비용차감전순이익율, p-value: 0.6439718406564328\n",
      "제거된 변수: 2023/재고자산회전율1, p-value: 0.5095928822219864\n",
      "제거된 변수: 2023/부채상환계수, p-value: 0.49670676192682517\n"
     ]
    },
    {
     "name": "stderr",
     "output_type": "stream",
     "text": [
      "c:\\Users\\ldb76\\AppData\\Local\\Programs\\Python\\Python311\\Lib\\site-packages\\statsmodels\\base\\model.py:607: ConvergenceWarning: Maximum Likelihood optimization failed to converge. Check mle_retvals\n",
      "  warnings.warn(\"Maximum Likelihood optimization failed to \"\n"
     ]
    },
    {
     "name": "stdout",
     "output_type": "stream",
     "text": [
      "제거된 변수: 2021/당좌비율, p-value: 0.45759759255172494\n",
      "제거된 변수: 2022/비유동부채/순운전자본비율, p-value: 0.47018100366059634\n",
      "제거된 변수: 2023/원재료회전율, p-value: 0.45141656817470965\n",
      "제거된 변수: 2021/총자본투자효율, p-value: 0.440374522043377\n",
      "제거된 변수: 2021/감가상각비/총비용비율, p-value: 0.48156969489914603\n",
      "제거된 변수: 2023/조세공과/총비용비율, p-value: 0.47069328792973053\n",
      "제거된 변수: 2021/적립금비율, p-value: 0.4449961068860421\n",
      "제거된 변수: 2023/영업이익증가율, p-value: 0.43018988111709167\n"
     ]
    },
    {
     "name": "stderr",
     "output_type": "stream",
     "text": [
      "c:\\Users\\ldb76\\AppData\\Local\\Programs\\Python\\Python311\\Lib\\site-packages\\statsmodels\\base\\model.py:607: ConvergenceWarning: Maximum Likelihood optimization failed to converge. Check mle_retvals\n",
      "  warnings.warn(\"Maximum Likelihood optimization failed to \"\n"
     ]
    },
    {
     "name": "stdout",
     "output_type": "stream",
     "text": [
      "제거된 변수: 2023/자본금회전율, p-value: 0.4226712519676985\n"
     ]
    },
    {
     "name": "stderr",
     "output_type": "stream",
     "text": [
      "c:\\Users\\ldb76\\AppData\\Local\\Programs\\Python\\Python311\\Lib\\site-packages\\statsmodels\\base\\model.py:607: ConvergenceWarning: Maximum Likelihood optimization failed to converge. Check mle_retvals\n",
      "  warnings.warn(\"Maximum Likelihood optimization failed to \"\n"
     ]
    },
    {
     "name": "stdout",
     "output_type": "stream",
     "text": [
      "제거된 변수: 2021/매입채무/재고자산비율, p-value: 0.4205118189227385\n",
      "제거된 변수: 2021/기계투자효율, p-value: 0.422592189225543\n",
      "제거된 변수: 2022/기계투자효율, p-value: 0.6091985971552115\n",
      "제거된 변수: 2023/수지비율, p-value: 0.4221377923103623\n",
      "제거된 변수: 2021/영업활동현금흐름이자보상비율, p-value: 0.4291058502262217\n"
     ]
    },
    {
     "name": "stderr",
     "output_type": "stream",
     "text": [
      "c:\\Users\\ldb76\\AppData\\Local\\Programs\\Python\\Python311\\Lib\\site-packages\\statsmodels\\base\\model.py:607: ConvergenceWarning: Maximum Likelihood optimization failed to converge. Check mle_retvals\n",
      "  warnings.warn(\"Maximum Likelihood optimization failed to \"\n"
     ]
    },
    {
     "name": "stdout",
     "output_type": "stream",
     "text": [
      "제거된 변수: 2023/비유동자산비율, p-value: 0.40269264643757063\n",
      "제거된 변수: 2021/배당성향, p-value: 0.3728409189559009\n",
      "제거된 변수: 2021/원재료회전율, p-value: 0.37360500364147764\n",
      "제거된 변수: 2023/비유동자산장기적합율, p-value: 0.36685828574077894\n",
      "제거된 변수: 2022/비유동자산장기적합율, p-value: 0.4750059460818906\n",
      "제거된 변수: 2022/매입채무/재고자산비율, p-value: 0.3568612646910899\n"
     ]
    },
    {
     "name": "stderr",
     "output_type": "stream",
     "text": [
      "c:\\Users\\ldb76\\AppData\\Local\\Programs\\Python\\Python311\\Lib\\site-packages\\statsmodels\\base\\model.py:607: ConvergenceWarning: Maximum Likelihood optimization failed to converge. Check mle_retvals\n",
      "  warnings.warn(\"Maximum Likelihood optimization failed to \"\n"
     ]
    },
    {
     "name": "stdout",
     "output_type": "stream",
     "text": [
      "제거된 변수: 2021/금융비용/매출액비율, p-value: 0.35488998572414265\n",
      "제거된 변수: 2021/유보액/납입자본비율, p-value: 0.3519619356990421\n",
      "제거된 변수: 2022/유보액/납입자본비율, p-value: 0.5834941395786157\n",
      "제거된 변수: 2023/금융비용/총비용비율, p-value: 0.3459622929657701\n",
      "제거된 변수: 2022/차입금의존도, p-value: 0.33564270858517453\n",
      "제거된 변수: 2023/차입금의존도, p-value: 0.40941096523783194\n",
      "제거된 변수: 2023/감가상각율, p-value: 0.3274699154361528\n",
      "제거된 변수: 2023/상환계수(세전이익), p-value: 0.32792092380026094\n",
      "제거된 변수: 2023/EBITDA대금융비용, p-value: 0.4140384554733614\n",
      "제거된 변수: 2023/총C/F대차입금비율, p-value: 0.3564045970275139\n",
      "제거된 변수: 2022/총C/F대부채비율, p-value: 0.35616566698629126\n",
      "제거된 변수: 2023/총자본회전율, p-value: 0.31890654317091793\n",
      "제거된 변수: 2023/상(제)품회전율, p-value: 0.32987858239129\n",
      "제거된 변수: 2022/기계장비율(종업원1인당), p-value: 0.2986014910828584\n",
      "제거된 변수: 2021/매출채권/상,제품비율, p-value: 0.3019521662430037\n",
      "제거된 변수: 2021/법인세비용차감전순이익증가율, p-value: 0.3007635922228813\n",
      "제거된 변수: 2022/순C/F대차입금비율, p-value: 0.27763739776313845\n",
      "제거된 변수: 2021/감가상각율, p-value: 0.2838312929596588\n",
      "제거된 변수: 2021/설비투자효율, p-value: 0.2828057236335375\n",
      "제거된 변수: 2021/부가가치율, p-value: 0.29383697546876375\n",
      "제거된 변수: 2022/금융비용(구성비), p-value: 0.2675764944080451\n",
      "제거된 변수: 2021/조세공과(구성비), p-value: 0.2653710486197487\n",
      "제거된 변수: 2022/조세공과(구성비), p-value: 0.3925488840857756\n",
      "제거된 변수: 2022/재고자산/순운전자본비율, p-value: 0.2553253711502471\n",
      "제거된 변수: 2021/비유동자산회전율, p-value: 0.2712370212946412\n",
      "제거된 변수: 2021/유형자산회전율, p-value: 0.3925807721862188\n"
     ]
    },
    {
     "name": "stderr",
     "output_type": "stream",
     "text": [
      "c:\\Users\\ldb76\\AppData\\Local\\Programs\\Python\\Python311\\Lib\\site-packages\\statsmodels\\base\\model.py:607: ConvergenceWarning: Maximum Likelihood optimization failed to converge. Check mle_retvals\n",
      "  warnings.warn(\"Maximum Likelihood optimization failed to \"\n"
     ]
    },
    {
     "name": "stdout",
     "output_type": "stream",
     "text": [
      "제거된 변수: 2023/자본집약도(종업원1인당), p-value: 0.2883055727896928\n"
     ]
    },
    {
     "name": "stderr",
     "output_type": "stream",
     "text": [
      "c:\\Users\\ldb76\\AppData\\Local\\Programs\\Python\\Python311\\Lib\\site-packages\\statsmodels\\base\\model.py:607: ConvergenceWarning: Maximum Likelihood optimization failed to converge. Check mle_retvals\n",
      "  warnings.warn(\"Maximum Likelihood optimization failed to \"\n"
     ]
    },
    {
     "name": "stdout",
     "output_type": "stream",
     "text": [
      "제거된 변수: 2023/노동장비율(종업원1인당), p-value: 0.49142190110673023\n",
      "제거된 변수: 2023/자기자본회전율, p-value: 0.2406659420620506\n",
      "제거된 변수: 2023/매입채무회전율, p-value: 0.2477883533034061\n",
      "제거된 변수: 2022/EBIT대매출액(세전이익), p-value: 0.22863390243501214\n"
     ]
    },
    {
     "name": "stderr",
     "output_type": "stream",
     "text": [
      "c:\\Users\\ldb76\\AppData\\Local\\Programs\\Python\\Python311\\Lib\\site-packages\\statsmodels\\base\\model.py:607: ConvergenceWarning: Maximum Likelihood optimization failed to converge. Check mle_retvals\n",
      "  warnings.warn(\"Maximum Likelihood optimization failed to \"\n"
     ]
    },
    {
     "name": "stdout",
     "output_type": "stream",
     "text": [
      "제거된 변수: 2022/매입채무회전율, p-value: 0.22422628834364\n",
      "제거된 변수: 2022/노동소득분배율, p-value: 0.2160362384657054\n",
      "제거된 변수: 2022/조세공과/총비용비율, p-value: 0.26885114283603784\n",
      "제거된 변수: 2022/차입금/매출액비율, p-value: 0.20978129314794625\n",
      "제거된 변수: 2021/유동자산증가율, p-value: 0.21216884534783875\n",
      "제거된 변수: 2022/재고자산증가율, p-value: 0.2023356100348579\n"
     ]
    },
    {
     "name": "stderr",
     "output_type": "stream",
     "text": [
      "c:\\Users\\ldb76\\AppData\\Local\\Programs\\Python\\Python311\\Lib\\site-packages\\statsmodels\\base\\model.py:607: ConvergenceWarning: Maximum Likelihood optimization failed to converge. Check mle_retvals\n",
      "  warnings.warn(\"Maximum Likelihood optimization failed to \"\n"
     ]
    },
    {
     "name": "stdout",
     "output_type": "stream",
     "text": [
      "제거된 변수: 2022/부가가치(종업원1인당), p-value: 0.19456267533066507\n",
      "제거된 변수: 2023/비유동부채/순운전자본비율, p-value: 0.1971961230191248\n",
      "제거된 변수: 2022/부가가치율, p-value: 0.18961264677019962\n",
      "제거된 변수: 2021/자본금회전율, p-value: 0.18161176461790374\n",
      "제거된 변수: 2022/유형자산회전율, p-value: 0.18534957301744148\n",
      "제거된 변수: 2021/사내유보율, p-value: 0.17485676664425454\n"
     ]
    },
    {
     "name": "stderr",
     "output_type": "stream",
     "text": [
      "c:\\Users\\ldb76\\AppData\\Local\\Programs\\Python\\Python311\\Lib\\site-packages\\statsmodels\\base\\model.py:607: ConvergenceWarning: Maximum Likelihood optimization failed to converge. Check mle_retvals\n",
      "  warnings.warn(\"Maximum Likelihood optimization failed to \"\n"
     ]
    },
    {
     "name": "stdout",
     "output_type": "stream",
     "text": [
      "제거된 변수: 2021/순운전자본회전율, p-value: 0.1695407660963596\n",
      "제거된 변수: 2023/순운전자본회전율, p-value: 0.18327221563370366\n",
      "제거된 변수: 2023/총자본투자효율, p-value: 0.16062950702122958\n",
      "제거된 변수: 2023/금융비용(구성비), p-value: 0.23747646069008066\n",
      "제거된 변수: 2023/순영업자본회전율, p-value: 0.16777640878167732\n",
      "제거된 변수: 2022/차입금/자기자본, p-value: 0.16377612745858505\n",
      "제거된 변수: 2023/비유동부채비율, p-value: 0.19615996471645536\n",
      "제거된 변수: 2021/순이익증가율, p-value: 0.15618225734067973\n",
      "제거된 변수: 2023/순이익증가율, p-value: 0.13901502981739833\n",
      "제거된 변수: 2023/배당율, p-value: 0.13051795998608098\n",
      "제거된 변수: 2021/매출액영업이익율, p-value: 0.13182037300234115\n",
      "제거된 변수: 2022/감가상각비/총비용비율, p-value: 0.13845194916369175\n",
      "제거된 변수: 2022/자본금법인세비용차감전순이익율, p-value: 0.12007696384123415\n",
      "제거된 변수: 2022/자본금순이익율, p-value: 0.7847536981475264\n",
      "제거된 변수: 2022/총자본순이익율, p-value: 0.1978108275833943\n"
     ]
    },
    {
     "name": "stderr",
     "output_type": "stream",
     "text": [
      "c:\\Users\\ldb76\\AppData\\Local\\Programs\\Python\\Python311\\Lib\\site-packages\\statsmodels\\base\\model.py:607: ConvergenceWarning: Maximum Likelihood optimization failed to converge. Check mle_retvals\n",
      "  warnings.warn(\"Maximum Likelihood optimization failed to \"\n"
     ]
    },
    {
     "name": "stdout",
     "output_type": "stream",
     "text": [
      "제거된 변수: 2022/법인세비용차감전순이익(종업원1인당), p-value: 0.13456245646533524\n",
      "제거된 변수: 2022/총자본법인세비용차감전순이익율, p-value: 0.12840360888242333\n",
      "제거된 변수: 2021/총자본법인세비용차감전순이익율, p-value: 0.20418587193507798\n",
      "제거된 변수: 2021/기업법인세비용차감전순이익율, p-value: 0.1983020672259873\n",
      "제거된 변수: 2021/총C/F대차입금비율, p-value: 0.13256205404534674\n",
      "제거된 변수: 2022/영업활동현금흐름이자보상비율, p-value: 0.1335227437548055\n",
      "제거된 변수: 2023/매출채권/상,제품비율, p-value: 0.12443706340428795\n",
      "제거된 변수: 2022/재고자산회전율1, p-value: 0.1348357437204212\n",
      "제거된 변수: 2022/매출액총이익율, p-value: 0.12190016654111292\n",
      "제거된 변수: 2021/자기자본회전율, p-value: 0.11751162059072054\n",
      "제거된 변수: 2022/감가상각율, p-value: 0.10812849900291366\n",
      "제거된 변수: 2022/자본금회전율, p-value: 0.10378245220901734\n",
      "제거된 변수: 2022/부채상환계수, p-value: 0.10589144427550029\n",
      "제거된 변수: 2021/현금비율, p-value: 0.09872454666987766\n",
      "제거된 변수: 2021/비유동부채비율, p-value: 0.08225710677743968\n",
      "제거된 변수: 2023/자기자본순이익율, p-value: 0.09635375902265587\n",
      "제거된 변수: 2023/총C/F대매출액비율, p-value: 0.09214128612448372\n",
      "제거된 변수: 2023/매출액영업이익율, p-value: 0.14018757337737622\n",
      "제거된 변수: 2023/매출액법인세비용차감전순이익율, p-value: 0.11535997526803951\n",
      "제거된 변수: 2022/조세/조세차감전순이익비율, p-value: 0.08628863184379545\n",
      "제거된 변수: 2021/법인세차감전순이익이자보상비율, p-value: 0.08225581795591679\n",
      "제거된 변수: 2021/차입금평균이자율, p-value: 0.06059053354242079\n",
      "제거된 변수: 2022/차입금평균이자율, p-value: 0.13885069061053254\n",
      "제거된 변수: 2023/금융비용/총부채, p-value: 0.07653586776486968\n",
      "제거된 변수: 2021/임차료(구성비), p-value: 0.05586919119040085\n",
      "제거된 변수: 2022/EBITDA대금융비용, p-value: 0.05109609616611957\n",
      "제거된 변수: 2022/적립금비율, p-value: 0.05132128670529514\n",
      "제거된 변수: 2021/경영자본영업이익율, p-value: 0.05391762214925034\n",
      "\n",
      "선택된 변수들:\n",
      "Index(['상장여부', '2021/총자산증가율', '2023/총자산증가율', '2023/유형자산증가율', '2023/재고자산증가율',\n",
      "       '2022/자기자본증가율', '2023/자기자본증가율', '2022/매출액증가율', '2023/매출액증가율',\n",
      "       '2021/영업이익증가율',\n",
      "       ...\n",
      "       '2021/자본집약도(종업원1인당)', '2023/기계투자효율', '2023/부가가치율', '2021/노동소득분배율',\n",
      "       '2021/법인세차감전순이익(구성비)', '2022/법인세차감전순이익(구성비)', '2023/인건비(구성비)',\n",
      "       '2021/금융비용(구성비)', '2023/임차료(구성비)', '2021/감가상각비(구성비)'],\n",
      "      dtype='object', length=101)\n",
      "\n",
      "최종 모델 요약:\n",
      "                           Logit Regression Results                           \n",
      "==============================================================================\n",
      "Dep. Variable:              2023/부실기업   No. Observations:                27603\n",
      "Model:                          Logit   Df Residuals:                    27502\n",
      "Method:                           MLE   Df Model:                          100\n",
      "Date:                Mon, 11 Nov 2024   Pseudo R-squ.:                  0.6199\n",
      "Time:                        21:23:37   Log-Likelihood:                -5037.3\n",
      "converged:                       True   LL-Null:                       -13254.\n",
      "Covariance Type:            nonrobust   LLR p-value:                     0.000\n",
      "=============================================================================================\n",
      "                                coef    std err          z      P>|z|      [0.025      0.975]\n",
      "---------------------------------------------------------------------------------------------\n",
      "상장여부                         -0.2597      0.096     -2.702      0.007      -0.448      -0.071\n",
      "2021/총자산증가율                  -0.0010      0.000     -2.305      0.021      -0.002      -0.000\n",
      "2023/총자산증가율                  -0.0065      0.001     -4.700      0.000      -0.009      -0.004\n",
      "2023/유형자산증가율                 -0.0006      0.000     -2.417      0.016      -0.001      -0.000\n",
      "2023/재고자산증가율                 -0.0014      0.000     -3.445      0.001      -0.002      -0.001\n",
      "2022/자기자본증가율                 -0.0011      0.000     -2.979      0.003      -0.002      -0.000\n",
      "2023/자기자본증가율                 -0.0011      0.000     -2.426      0.015      -0.002      -0.000\n",
      "2022/매출액증가율                  -0.0027      0.000     -7.148      0.000      -0.003      -0.002\n",
      "2023/매출액증가율                  -0.0031      0.000     -6.746      0.000      -0.004      -0.002\n",
      "2021/영업이익증가율                 -0.0008      0.000     -4.355      0.000      -0.001      -0.000\n",
      "2021/총자본영업이익율                -0.1642      0.007    -24.655      0.000      -0.177      -0.151\n",
      "2022/총자본영업이익율                -0.0625      0.010     -6.396      0.000      -0.082      -0.043\n",
      "2023/총자본영업이익율                -0.1450      0.007    -20.405      0.000      -0.159      -0.131\n",
      "2023/총자본순이익율                 -0.0764      0.017     -4.610      0.000      -0.109      -0.044\n",
      "2022/기업법인세비용차감전순이익율           0.0356      0.007      5.014      0.000       0.022       0.050\n",
      "2021/기업순이익율                   0.0743      0.006     11.668      0.000       0.062       0.087\n",
      "2023/기업순이익율                   0.1063      0.016      6.656      0.000       0.075       0.138\n",
      "2022/경영자본영업이익율               -0.0345      0.005     -6.281      0.000      -0.045      -0.024\n",
      "2022/자기자본법인세비용차감전순이익율        -0.0256      0.006     -4.145      0.000      -0.038      -0.013\n",
      "2023/자기자본법인세비용차감전순이익율        -0.0081      0.001     -6.787      0.000      -0.010      -0.006\n",
      "2021/자기자본순이익율                -0.0119      0.001     -9.791      0.000      -0.014      -0.010\n",
      "2022/자기자본순이익율                 0.0195      0.006      3.045      0.002       0.007       0.032\n",
      "2021/자본금법인세비용차감전순이익율         -0.0003   9.54e-05     -2.878      0.004      -0.000   -8.76e-05\n",
      "2021/자본금순이익율                  0.0003      0.000      2.386      0.017    4.53e-05       0.000\n",
      "2021/매출액법인세비용차감전순이익율          0.0019      0.001      3.519      0.000       0.001       0.003\n",
      "2022/매출액법인세비용차감전순이익율          0.0030      0.001      3.308      0.001       0.001       0.005\n",
      "2022/매출액순이익율                 -0.0020      0.001     -2.236      0.025      -0.004      -0.000\n",
      "2023/매출액총이익율                 -0.0314      0.009     -3.560      0.000      -0.049      -0.014\n",
      "2022/매출액영업이익율                -0.0029      0.001     -5.571      0.000      -0.004      -0.002\n",
      "2021/수지비율                  2.872e-05   1.34e-05      2.150      0.032    2.54e-06    5.49e-05\n",
      "2022/매출원가율                    0.0062      0.002      3.197      0.001       0.002       0.010\n",
      "2023/매출원가율                   -0.0328      0.009     -3.624      0.000      -0.050      -0.015\n",
      "2023/인건비/총비용비율               -0.0403      0.008     -5.146      0.000      -0.056      -0.025\n",
      "2021/조세/조세차감전순이익비율           -0.0042      0.001     -3.228      0.001      -0.007      -0.002\n",
      "2021/금융비용/총부채                 0.1244      0.030      4.165      0.000       0.066       0.183\n",
      "2022/금융비용/총부채                 0.0972      0.030      3.270      0.001       0.039       0.155\n",
      "2021/금융비용/총비용비율               0.0167      0.004      4.506      0.000       0.009       0.024\n",
      "2022/금융비용/총비용비율               0.0210      0.004      5.827      0.000       0.014       0.028\n",
      "2021/영업이익이자보상비율              -0.0096      0.002     -5.733      0.000      -0.013      -0.006\n",
      "2022/영업이익이자보상비율              -0.0074      0.002     -3.824      0.000      -0.011      -0.004\n",
      "2023/영업이익이자보상비율              -0.0136      0.002     -7.130      0.000      -0.017      -0.010\n",
      "2021/배당율                     -0.0015      0.001     -2.210      0.027      -0.003      -0.000\n",
      "2022/배당율                      0.0018      0.001      2.167      0.030       0.000       0.003\n",
      "2022/배당성향                    -0.0094      0.002     -4.207      0.000      -0.014      -0.005\n",
      "2021/상환계수(세전이익)              -0.0002   6.93e-05     -2.923      0.003      -0.000   -6.68e-05\n",
      "2022/상환계수(세전이익)           -2.171e-05   8.77e-06     -2.476      0.013   -3.89e-05   -4.53e-06\n",
      "2021/부채상환계수                   0.0002   8.07e-05      2.899      0.004    7.58e-05       0.000\n",
      "2021/대출효율성계수(법인세비용차감전순이익)    -0.0001   6.31e-05     -1.979      0.048      -0.000    -1.2e-06\n",
      "2022/대출효율성계수(법인세비용차감전순이익)    -0.0002   8.62e-05     -2.411      0.016      -0.000   -3.89e-05\n",
      "2023/EBITDA대매출액               0.0019      0.001      3.604      0.000       0.001       0.003\n",
      "2021/EBITDA대금융비용          -1.978e-05   9.98e-06     -1.983      0.047   -3.93e-05   -2.25e-07\n",
      "2021/자기자본비율                   0.0077      0.003      2.793      0.005       0.002       0.013\n",
      "2023/자기자본비율                   0.0075      0.003      2.963      0.003       0.003       0.013\n",
      "2021/유동비율                     0.0003   8.21e-05      3.189      0.001       0.000       0.000\n",
      "2023/유동비율                     0.0004      0.000      2.504      0.012    7.95e-05       0.001\n",
      "2022/현금비율                    -0.0015      0.001     -2.944      0.003      -0.003      -0.001\n",
      "2023/현금비율                    -0.0014      0.001     -2.180      0.029      -0.003      -0.000\n",
      "2022/부채비율                     0.0002   4.85e-05      4.462      0.000       0.000       0.000\n",
      "2021/유동부채비율                  -0.0001    6.2e-05     -2.334      0.020      -0.000   -2.32e-05\n",
      "2022/유동부채비율                  -0.0004   9.19e-05     -4.808      0.000      -0.001      -0.000\n",
      "2023/유동부채비율                  -0.0001      5e-05     -2.907      0.004      -0.000   -4.73e-05\n",
      "2021/차입금/매출액비율                0.0002   3.49e-05      6.211      0.000       0.000       0.000\n",
      "2023/차입금/매출액비율              7.52e-05   2.58e-05      2.915      0.004    2.46e-05       0.000\n",
      "2021/비유동부채/순운전자본비율         8.779e-05   3.07e-05      2.859      0.004    2.76e-05       0.000\n",
      "2021/순운전자본/총자본비율             -0.0076      0.001     -5.361      0.000      -0.010      -0.005\n",
      "2022/순운전자본/총자본비율             -0.0044      0.001     -3.119      0.002      -0.007      -0.002\n",
      "2022/사내유보율                   -0.0180      0.008     -2.388      0.017      -0.033      -0.003\n",
      "2023/사내유보율                    0.0281      0.008      3.330      0.001       0.012       0.045\n",
      "2021/유보액/총자산비율               -0.0128      0.003     -4.857      0.000      -0.018      -0.008\n",
      "2022/유보액/총자산비율                0.0060      0.003      2.399      0.016       0.001       0.011\n",
      "2023/유보액/납입자본비율            1.264e-05    3.9e-06      3.240      0.001       5e-06    2.03e-05\n",
      "2021/총C/F대부채비율               -0.0096      0.002     -4.616      0.000      -0.014      -0.006\n",
      "2023/총C/F대부채비율               -0.0047      0.002     -2.224      0.026      -0.009      -0.001\n",
      "2022/총C/F대총자본비율              -0.0164      0.006     -2.891      0.004      -0.028      -0.005\n",
      "2023/총C/F대총자본비율               0.0244      0.007      3.413      0.001       0.010       0.038\n",
      "2021/총C/F대매출액비율              -0.0015      0.001     -2.746      0.006      -0.003      -0.000\n",
      "2021/총자본회전율                  -0.3357      0.113     -2.977      0.003      -0.557      -0.115\n",
      "2022/총자본회전율                  -0.5929      0.133     -4.450      0.000      -0.854      -0.332\n",
      "2022/자기자본회전율                  0.0435      0.008      5.223      0.000       0.027       0.060\n",
      "2022/경영자본회전율                  0.1740      0.061      2.846      0.004       0.054       0.294\n",
      "2022/비유동자산회전율                -0.0035      0.002     -2.302      0.021      -0.007      -0.001\n",
      "2022/재고자산회전율2                 0.0005      0.000      2.737      0.006       0.000       0.001\n",
      "2021/매출액(종업원1인당)          -1.039e-10   2.46e-11     -4.216      0.000   -1.52e-10   -5.56e-11\n",
      "2023/매출액(종업원1인당)           -7.29e-11   1.89e-11     -3.856      0.000    -1.1e-10   -3.58e-11\n",
      "2021/법인세비용차감전순이익(종업원1인당)   9.716e-10   4.43e-10      2.194      0.028    1.03e-10    1.84e-09\n",
      "2021/순이익(종업원1인당)          -1.456e-09   4.87e-10     -2.990      0.003   -2.41e-09   -5.02e-10\n",
      "2022/순이익(종업원1인당)          -4.907e-10   7.36e-11     -6.667      0.000   -6.35e-10   -3.46e-10\n",
      "2023/순이익(종업원1인당)           -4.51e-10   6.38e-11     -7.064      0.000   -5.76e-10   -3.26e-10\n",
      "2021/인건비(종업원1인당)           -3.56e-09   1.59e-09     -2.237      0.025   -6.68e-09   -4.41e-10\n",
      "2021/노동장비율(종업원1인당)        -3.778e-11   9.53e-12     -3.963      0.000   -5.65e-11   -1.91e-11\n",
      "2023/기계장비율(종업원1인당)        -8.736e-10   4.44e-10     -1.967      0.049   -1.74e-09   -3.12e-12\n",
      "2021/자본집약도(종업원1인당)         2.044e-11   4.33e-12      4.719      0.000     1.2e-11    2.89e-11\n",
      "2023/기계투자효율               -5.097e-07    2.2e-07     -2.316      0.021   -9.41e-07   -7.83e-08\n",
      "2023/부가가치율                    0.0167      0.004      3.805      0.000       0.008       0.025\n",
      "2021/노동소득분배율                 -0.0057      0.003     -2.050      0.040      -0.011      -0.000\n",
      "2021/법인세차감전순이익(구성비)          -0.0085      0.002     -3.941      0.000      -0.013      -0.004\n",
      "2022/법인세차감전순이익(구성비)          -0.0020      0.001     -3.296      0.001      -0.003      -0.001\n",
      "2023/인건비(구성비)                 0.0103      0.002      5.933      0.000       0.007       0.014\n",
      "2021/금융비용(구성비)               -0.0191      0.005     -3.833      0.000      -0.029      -0.009\n",
      "2023/임차료(구성비)                -0.0558      0.011     -5.110      0.000      -0.077      -0.034\n",
      "2021/감가상각비(구성비)              -0.0111      0.004     -2.727      0.006      -0.019      -0.003\n",
      "=============================================================================================\n",
      "\n",
      "Possibly complete quasi-separation: A fraction 0.18 of observations can be\n",
      "perfectly predicted. This might indicate that there is complete\n",
      "quasi-separation. In this case some parameters will not be identified.\n"
     ]
    }
   ],
   "source": [
    "# 후진 제거법 수행\n",
    "final_model, selected_features = backward_elimination(X, y)\n",
    "\n",
    "# 최종 결과 출력\n",
    "print(\"\\n선택된 변수들:\")\n",
    "print(selected_features)\n",
    "\n",
    "# 최종 모델 요약\n",
    "print(\"\\n최종 모델 요약:\")\n",
    "print(final_model.summary())"
   ]
  },
  {
   "cell_type": "code",
   "execution_count": 60,
   "metadata": {},
   "outputs": [
    {
     "data": {
      "text/plain": [
       "Index(['상장여부', '2021/총자산증가율', '2023/총자산증가율', '2023/유형자산증가율', '2023/재고자산증가율',\n",
       "       '2022/자기자본증가율', '2023/자기자본증가율', '2022/매출액증가율', '2023/매출액증가율',\n",
       "       '2021/영업이익증가율',\n",
       "       ...\n",
       "       '2021/자본집약도(종업원1인당)', '2023/기계투자효율', '2023/부가가치율', '2021/노동소득분배율',\n",
       "       '2021/법인세차감전순이익(구성비)', '2022/법인세차감전순이익(구성비)', '2023/인건비(구성비)',\n",
       "       '2021/금융비용(구성비)', '2023/임차료(구성비)', '2021/감가상각비(구성비)'],\n",
       "      dtype='object', length=101)"
      ]
     },
     "execution_count": 60,
     "metadata": {},
     "output_type": "execute_result"
    }
   ],
   "source": [
    "selected_features"
   ]
  },
  {
   "cell_type": "code",
   "execution_count": null,
   "metadata": {},
   "outputs": [
    {
     "name": "stdout",
     "output_type": "stream",
     "text": [
      "2021년도 변수들:\n",
      "['2021/총자산증가율', '2021/영업이익증가율', '2021/총자본영업이익율', '2021/기업순이익율', '2021/자기자본순이익율', '2021/자본금법인세비용차감전순이익율', '2021/자본금순이익율', '2021/매출액법인세비용차감전순이익율', '2021/수지비율', '2021/조세/조세차감전순이익비율', '2021/금융비용/총부채', '2021/금융비용/총비용비율', '2021/영업이익이자보상비율', '2021/배당율', '2021/상환계수(세전이익)', '2021/부채상환계수', '2021/대출효율성계수(법인세비용차감전순이익)', '2021/EBITDA대금융비용', '2021/자기자본비율', '2021/유동비율', '2021/유동부채비율', '2021/차입금/매출액비율', '2021/비유동부채/순운전자본비율', '2021/순운전자본/총자본비율', '2021/유보액/총자산비율', '2021/총C/F대부채비율', '2021/총C/F대매출액비율', '2021/총자본회전율', '2021/매출액(종업원1인당)', '2021/법인세비용차감전순이익(종업원1인당)', '2021/순이익(종업원1인당)', '2021/인건비(종업원1인당)', '2021/노동장비율(종업원1인당)', '2021/자본집약도(종업원1인당)', '2021/노동소득분배율', '2021/법인세차감전순이익(구성비)', '2021/금융비용(구성비)', '2021/감가상각비(구성비)']\n",
      "\n",
      "2022년도 변수들:\n",
      "['2022/자기자본증가율', '2022/매출액증가율', '2022/총자본영업이익율', '2022/기업법인세비용차감전순이익율', '2022/경영자본영업이익율', '2022/자기자본법인세비용차감전순이익율', '2022/자기자본순이익율', '2022/매출액법인세비용차감전순이익율', '2022/매출액순이익율', '2022/매출액영업이익율', '2022/매출원가율', '2022/금융비용/총부채', '2022/금융비용/총비용비율', '2022/영업이익이자보상비율', '2022/배당율', '2022/배당성향', '2022/상환계수(세전이익)', '2022/대출효율성계수(법인세비용차감전순이익)', '2022/현금비율', '2022/부채비율', '2022/유동부채비율', '2022/순운전자본/총자본비율', '2022/사내유보율', '2022/유보액/총자산비율', '2022/총C/F대총자본비율', '2022/총자본회전율', '2022/자기자본회전율', '2022/경영자본회전율', '2022/비유동자산회전율', '2022/재고자산회전율2', '2022/순이익(종업원1인당)', '2022/법인세차감전순이익(구성비)']\n",
      "\n",
      "2023년도 변수들:\n",
      "['2023/총자산증가율', '2023/유형자산증가율', '2023/재고자산증가율', '2023/자기자본증가율', '2023/매출액증가율', '2023/총자본영업이익율', '2023/총자본순이익율', '2023/기업순이익율', '2023/자기자본법인세비용차감전순이익율', '2023/매출액총이익율', '2023/매출원가율', '2023/인건비/총비용비율', '2023/영업이익이자보상비율', '2023/EBITDA대매출액', '2023/자기자본비율', '2023/유동비율', '2023/현금비율', '2023/유동부채비율', '2023/차입금/매출액비율', '2023/사내유보율', '2023/유보액/납입자본비율', '2023/총C/F대부채비율', '2023/총C/F대총자본비율', '2023/매출액(종업원1인당)', '2023/순이익(종업원1인당)', '2023/기계장비율(종업원1인당)', '2023/기계투자효율', '2023/부가가치율', '2023/인건비(구성비)', '2023/임차료(구성비)']\n",
      "\n",
      "연도별 변수 요약:\n",
      "                         2021                       2022  \\\n",
      "0                 2021/총자산증가율               2022/자기자본증가율   \n",
      "1                2021/영업이익증가율                2022/매출액증가율   \n",
      "2               2021/총자본영업이익율              2022/총자본영업이익율   \n",
      "3                 2021/기업순이익율        2022/기업법인세비용차감전순이익율   \n",
      "4               2021/자기자본순이익율             2022/경영자본영업이익율   \n",
      "5        2021/자본금법인세비용차감전순이익율      2022/자기자본법인세비용차감전순이익율   \n",
      "6                2021/자본금순이익율              2022/자기자본순이익율   \n",
      "7        2021/매출액법인세비용차감전순이익율       2022/매출액법인세비용차감전순이익율   \n",
      "8                   2021/수지비율               2022/매출액순이익율   \n",
      "9          2021/조세/조세차감전순이익비율              2022/매출액영업이익율   \n",
      "10              2021/금융비용/총부채                 2022/매출원가율   \n",
      "11            2021/금융비용/총비용비율              2022/금융비용/총부채   \n",
      "12            2021/영업이익이자보상비율            2022/금융비용/총비용비율   \n",
      "13                   2021/배당율            2022/영업이익이자보상비율   \n",
      "14            2021/상환계수(세전이익)                   2022/배당율   \n",
      "15                2021/부채상환계수                  2022/배당성향   \n",
      "16  2021/대출효율성계수(법인세비용차감전순이익)            2022/상환계수(세전이익)   \n",
      "17           2021/EBITDA대금융비용  2022/대출효율성계수(법인세비용차감전순이익)   \n",
      "18                2021/자기자본비율                  2022/현금비율   \n",
      "19                  2021/유동비율                  2022/부채비율   \n",
      "20                2021/유동부채비율                2022/유동부채비율   \n",
      "21             2021/차입금/매출액비율           2022/순운전자본/총자본비율   \n",
      "22         2021/비유동부채/순운전자본비율                 2022/사내유보율   \n",
      "23           2021/순운전자본/총자본비율             2022/유보액/총자산비율   \n",
      "24             2021/유보액/총자산비율            2022/총C/F대총자본비율   \n",
      "25             2021/총C/F대부채비율                2022/총자본회전율   \n",
      "26            2021/총C/F대매출액비율               2022/자기자본회전율   \n",
      "27                2021/총자본회전율               2022/경영자본회전율   \n",
      "28           2021/매출액(종업원1인당)              2022/비유동자산회전율   \n",
      "29   2021/법인세비용차감전순이익(종업원1인당)              2022/재고자산회전율2   \n",
      "30           2021/순이익(종업원1인당)           2022/순이익(종업원1인당)   \n",
      "31           2021/인건비(종업원1인당)        2022/법인세차감전순이익(구성비)   \n",
      "32         2021/노동장비율(종업원1인당)                        NaN   \n",
      "33         2021/자본집약도(종업원1인당)                        NaN   \n",
      "34               2021/노동소득분배율                        NaN   \n",
      "35        2021/법인세차감전순이익(구성비)                        NaN   \n",
      "36             2021/금융비용(구성비)                        NaN   \n",
      "37            2021/감가상각비(구성비)                        NaN   \n",
      "\n",
      "                     2023  \n",
      "0             2023/총자산증가율  \n",
      "1            2023/유형자산증가율  \n",
      "2            2023/재고자산증가율  \n",
      "3            2023/자기자본증가율  \n",
      "4             2023/매출액증가율  \n",
      "5           2023/총자본영업이익율  \n",
      "6            2023/총자본순이익율  \n",
      "7             2023/기업순이익율  \n",
      "8   2023/자기자본법인세비용차감전순이익율  \n",
      "9            2023/매출액총이익율  \n",
      "10             2023/매출원가율  \n",
      "11         2023/인건비/총비용비율  \n",
      "12        2023/영업이익이자보상비율  \n",
      "13        2023/EBITDA대매출액  \n",
      "14            2023/자기자본비율  \n",
      "15              2023/유동비율  \n",
      "16              2023/현금비율  \n",
      "17            2023/유동부채비율  \n",
      "18         2023/차입금/매출액비율  \n",
      "19             2023/사내유보율  \n",
      "20        2023/유보액/납입자본비율  \n",
      "21         2023/총C/F대부채비율  \n",
      "22        2023/총C/F대총자본비율  \n",
      "23       2023/매출액(종업원1인당)  \n",
      "24       2023/순이익(종업원1인당)  \n",
      "25     2023/기계장비율(종업원1인당)  \n",
      "26            2023/기계투자효율  \n",
      "27             2023/부가가치율  \n",
      "28          2023/인건비(구성비)  \n",
      "29          2023/임차료(구성비)  \n",
      "30                    NaN  \n",
      "31                    NaN  \n",
      "32                    NaN  \n",
      "33                    NaN  \n",
      "34                    NaN  \n",
      "35                    NaN  \n",
      "36                    NaN  \n",
      "37                    NaN  \n"
     ]
    }
   ],
   "source": [
    "# 각 연도별 변수 선택\n",
    "vars_2021 = [col for col in selected_features if col.startswith('2021/')]\n",
    "vars_2022 = [col for col in selected_features if col.startswith('2022/')]\n",
    "vars_2023 = [col for col in selected_features if col.startswith('2023/')]\n",
    "\n",
    "# 연도별 변수 출력\n",
    "print(\"2021년도 변수들:\")\n",
    "print(vars_2021)\n",
    "\n",
    "print(\"\\n2022년도 변수들:\")\n",
    "print(vars_2022)\n",
    "\n",
    "print(\"\\n2023년도 변수들:\")\n",
    "print(vars_2023)\n",
    "\n",
    "# 연도별 변수들을 사전으로 정리\n",
    "yearly_variables = {\n",
    "    '2021': vars_2021,\n",
    "    '2022': vars_2022,\n",
    "    '2023': vars_2023\n",
    "}\n",
    "\n",
    "# 데이터프레임으로 정리해서 보기 (선택 사항)\n",
    "import pandas as pd\n",
    "yearly_variables_df = pd.DataFrame(dict([(year, pd.Series(vars)) for year, vars in yearly_variables.items()]))\n",
    "print(\"\\n연도별 변수 요약:\")\n",
    "print(yearly_variables_df)\n"
   ]
  },
  {
   "cell_type": "code",
   "execution_count": 75,
   "metadata": {},
   "outputs": [
    {
     "data": {
      "text/html": [
       "<div>\n",
       "<style scoped>\n",
       "    .dataframe tbody tr th:only-of-type {\n",
       "        vertical-align: middle;\n",
       "    }\n",
       "\n",
       "    .dataframe tbody tr th {\n",
       "        vertical-align: top;\n",
       "    }\n",
       "\n",
       "    .dataframe thead th {\n",
       "        text-align: right;\n",
       "    }\n",
       "</style>\n",
       "<table border=\"1\" class=\"dataframe\">\n",
       "  <thead>\n",
       "    <tr style=\"text-align: right;\">\n",
       "      <th></th>\n",
       "      <th>상장여부</th>\n",
       "      <th>2021/총자산증가율</th>\n",
       "      <th>2023/총자산증가율</th>\n",
       "      <th>2023/유형자산증가율</th>\n",
       "      <th>2023/재고자산증가율</th>\n",
       "      <th>2022/자기자본증가율</th>\n",
       "      <th>2023/자기자본증가율</th>\n",
       "      <th>2022/매출액증가율</th>\n",
       "      <th>2023/매출액증가율</th>\n",
       "      <th>2021/영업이익증가율</th>\n",
       "      <th>...</th>\n",
       "      <th>2021/자본집약도(종업원1인당)</th>\n",
       "      <th>2023/기계투자효율</th>\n",
       "      <th>2023/부가가치율</th>\n",
       "      <th>2021/노동소득분배율</th>\n",
       "      <th>2021/법인세차감전순이익(구성비)</th>\n",
       "      <th>2022/법인세차감전순이익(구성비)</th>\n",
       "      <th>2023/인건비(구성비)</th>\n",
       "      <th>2021/금융비용(구성비)</th>\n",
       "      <th>2023/임차료(구성비)</th>\n",
       "      <th>2021/감가상각비(구성비)</th>\n",
       "    </tr>\n",
       "  </thead>\n",
       "  <tbody>\n",
       "    <tr>\n",
       "      <th>0</th>\n",
       "      <td>1</td>\n",
       "      <td>2.70</td>\n",
       "      <td>10.23</td>\n",
       "      <td>15.13</td>\n",
       "      <td>17.36</td>\n",
       "      <td>4.51</td>\n",
       "      <td>4.40</td>\n",
       "      <td>16.06</td>\n",
       "      <td>6.08</td>\n",
       "      <td>-16.09</td>\n",
       "      <td>...</td>\n",
       "      <td>5.627382e+08</td>\n",
       "      <td>766.765</td>\n",
       "      <td>23.85</td>\n",
       "      <td>57.855</td>\n",
       "      <td>17.87</td>\n",
       "      <td>15.335</td>\n",
       "      <td>59.68</td>\n",
       "      <td>3.18</td>\n",
       "      <td>1.41</td>\n",
       "      <td>7.83</td>\n",
       "    </tr>\n",
       "    <tr>\n",
       "      <th>1</th>\n",
       "      <td>1</td>\n",
       "      <td>1.45</td>\n",
       "      <td>-4.89</td>\n",
       "      <td>-10.98</td>\n",
       "      <td>-4.03</td>\n",
       "      <td>-3.21</td>\n",
       "      <td>-32.85</td>\n",
       "      <td>-15.04</td>\n",
       "      <td>3.03</td>\n",
       "      <td>16.26</td>\n",
       "      <td>...</td>\n",
       "      <td>1.767904e+09</td>\n",
       "      <td>766.765</td>\n",
       "      <td>23.85</td>\n",
       "      <td>57.855</td>\n",
       "      <td>17.87</td>\n",
       "      <td>15.335</td>\n",
       "      <td>59.68</td>\n",
       "      <td>3.18</td>\n",
       "      <td>1.41</td>\n",
       "      <td>7.83</td>\n",
       "    </tr>\n",
       "    <tr>\n",
       "      <th>2</th>\n",
       "      <td>1</td>\n",
       "      <td>0.15</td>\n",
       "      <td>-1.40</td>\n",
       "      <td>-4.12</td>\n",
       "      <td>14.96</td>\n",
       "      <td>-0.98</td>\n",
       "      <td>-0.93</td>\n",
       "      <td>-0.71</td>\n",
       "      <td>0.46</td>\n",
       "      <td>13.04</td>\n",
       "      <td>...</td>\n",
       "      <td>6.096943e+09</td>\n",
       "      <td>766.765</td>\n",
       "      <td>23.85</td>\n",
       "      <td>57.855</td>\n",
       "      <td>17.87</td>\n",
       "      <td>15.335</td>\n",
       "      <td>59.68</td>\n",
       "      <td>3.18</td>\n",
       "      <td>1.41</td>\n",
       "      <td>7.83</td>\n",
       "    </tr>\n",
       "    <tr>\n",
       "      <th>3</th>\n",
       "      <td>1</td>\n",
       "      <td>22.28</td>\n",
       "      <td>17.63</td>\n",
       "      <td>8.08</td>\n",
       "      <td>14.53</td>\n",
       "      <td>3.04</td>\n",
       "      <td>12.43</td>\n",
       "      <td>-40.09</td>\n",
       "      <td>2.34</td>\n",
       "      <td>218.01</td>\n",
       "      <td>...</td>\n",
       "      <td>3.949607e+09</td>\n",
       "      <td>766.765</td>\n",
       "      <td>23.85</td>\n",
       "      <td>57.855</td>\n",
       "      <td>17.87</td>\n",
       "      <td>15.335</td>\n",
       "      <td>59.68</td>\n",
       "      <td>3.18</td>\n",
       "      <td>1.41</td>\n",
       "      <td>7.83</td>\n",
       "    </tr>\n",
       "    <tr>\n",
       "      <th>4</th>\n",
       "      <td>1</td>\n",
       "      <td>10.65</td>\n",
       "      <td>-0.03</td>\n",
       "      <td>0.81</td>\n",
       "      <td>17.46</td>\n",
       "      <td>4.65</td>\n",
       "      <td>-6.29</td>\n",
       "      <td>12.40</td>\n",
       "      <td>1.11</td>\n",
       "      <td>-16.74</td>\n",
       "      <td>...</td>\n",
       "      <td>1.039853e+09</td>\n",
       "      <td>766.765</td>\n",
       "      <td>23.85</td>\n",
       "      <td>57.855</td>\n",
       "      <td>17.87</td>\n",
       "      <td>15.335</td>\n",
       "      <td>59.68</td>\n",
       "      <td>3.18</td>\n",
       "      <td>1.41</td>\n",
       "      <td>7.83</td>\n",
       "    </tr>\n",
       "    <tr>\n",
       "      <th>...</th>\n",
       "      <td>...</td>\n",
       "      <td>...</td>\n",
       "      <td>...</td>\n",
       "      <td>...</td>\n",
       "      <td>...</td>\n",
       "      <td>...</td>\n",
       "      <td>...</td>\n",
       "      <td>...</td>\n",
       "      <td>...</td>\n",
       "      <td>...</td>\n",
       "      <td>...</td>\n",
       "      <td>...</td>\n",
       "      <td>...</td>\n",
       "      <td>...</td>\n",
       "      <td>...</td>\n",
       "      <td>...</td>\n",
       "      <td>...</td>\n",
       "      <td>...</td>\n",
       "      <td>...</td>\n",
       "      <td>...</td>\n",
       "      <td>...</td>\n",
       "    </tr>\n",
       "    <tr>\n",
       "      <th>38634</th>\n",
       "      <td>0</td>\n",
       "      <td>40.32</td>\n",
       "      <td>2.23</td>\n",
       "      <td>-2.59</td>\n",
       "      <td>5.61</td>\n",
       "      <td>2.09</td>\n",
       "      <td>13.42</td>\n",
       "      <td>-1.06</td>\n",
       "      <td>-8.86</td>\n",
       "      <td>16.26</td>\n",
       "      <td>...</td>\n",
       "      <td>1.940924e+08</td>\n",
       "      <td>975.540</td>\n",
       "      <td>26.08</td>\n",
       "      <td>80.760</td>\n",
       "      <td>-4.35</td>\n",
       "      <td>1.380</td>\n",
       "      <td>66.47</td>\n",
       "      <td>4.46</td>\n",
       "      <td>5.15</td>\n",
       "      <td>13.03</td>\n",
       "    </tr>\n",
       "    <tr>\n",
       "      <th>38635</th>\n",
       "      <td>0</td>\n",
       "      <td>26.04</td>\n",
       "      <td>4.95</td>\n",
       "      <td>-83.69</td>\n",
       "      <td>13.51</td>\n",
       "      <td>-0.18</td>\n",
       "      <td>97.31</td>\n",
       "      <td>47.62</td>\n",
       "      <td>40.17</td>\n",
       "      <td>16.26</td>\n",
       "      <td>...</td>\n",
       "      <td>3.398192e+08</td>\n",
       "      <td>4080.390</td>\n",
       "      <td>54.80</td>\n",
       "      <td>42.190</td>\n",
       "      <td>49.30</td>\n",
       "      <td>54.060</td>\n",
       "      <td>34.55</td>\n",
       "      <td>1.12</td>\n",
       "      <td>1.96</td>\n",
       "      <td>2.19</td>\n",
       "    </tr>\n",
       "    <tr>\n",
       "      <th>38636</th>\n",
       "      <td>0</td>\n",
       "      <td>40.62</td>\n",
       "      <td>1.53</td>\n",
       "      <td>-3.31</td>\n",
       "      <td>-51.40</td>\n",
       "      <td>20.87</td>\n",
       "      <td>13.10</td>\n",
       "      <td>23.12</td>\n",
       "      <td>-4.55</td>\n",
       "      <td>248.73</td>\n",
       "      <td>...</td>\n",
       "      <td>6.505325e+08</td>\n",
       "      <td>188.190</td>\n",
       "      <td>38.55</td>\n",
       "      <td>24.090</td>\n",
       "      <td>66.38</td>\n",
       "      <td>62.360</td>\n",
       "      <td>35.48</td>\n",
       "      <td>1.32</td>\n",
       "      <td>0.52</td>\n",
       "      <td>7.13</td>\n",
       "    </tr>\n",
       "    <tr>\n",
       "      <th>38637</th>\n",
       "      <td>0</td>\n",
       "      <td>3.24</td>\n",
       "      <td>5.89</td>\n",
       "      <td>-1.03</td>\n",
       "      <td>8.92</td>\n",
       "      <td>-0.96</td>\n",
       "      <td>25.42</td>\n",
       "      <td>14.67</td>\n",
       "      <td>12.44</td>\n",
       "      <td>-17.34</td>\n",
       "      <td>...</td>\n",
       "      <td>8.361525e+07</td>\n",
       "      <td>1054.340</td>\n",
       "      <td>28.23</td>\n",
       "      <td>76.790</td>\n",
       "      <td>15.09</td>\n",
       "      <td>3.560</td>\n",
       "      <td>71.77</td>\n",
       "      <td>1.00</td>\n",
       "      <td>1.35</td>\n",
       "      <td>3.48</td>\n",
       "    </tr>\n",
       "    <tr>\n",
       "      <th>38638</th>\n",
       "      <td>0</td>\n",
       "      <td>-1.72</td>\n",
       "      <td>12.32</td>\n",
       "      <td>11.43</td>\n",
       "      <td>10.18</td>\n",
       "      <td>75.97</td>\n",
       "      <td>4.23</td>\n",
       "      <td>19.10</td>\n",
       "      <td>16.53</td>\n",
       "      <td>21.54</td>\n",
       "      <td>...</td>\n",
       "      <td>6.967182e+08</td>\n",
       "      <td>766.765</td>\n",
       "      <td>29.92</td>\n",
       "      <td>59.080</td>\n",
       "      <td>11.84</td>\n",
       "      <td>15.670</td>\n",
       "      <td>56.81</td>\n",
       "      <td>9.75</td>\n",
       "      <td>1.03</td>\n",
       "      <td>15.10</td>\n",
       "    </tr>\n",
       "  </tbody>\n",
       "</table>\n",
       "<p>27603 rows × 101 columns</p>\n",
       "</div>"
      ],
      "text/plain": [
       "       상장여부  2021/총자산증가율  2023/총자산증가율  2023/유형자산증가율  2023/재고자산증가율  \\\n",
       "0         1         2.70        10.23         15.13         17.36   \n",
       "1         1         1.45        -4.89        -10.98         -4.03   \n",
       "2         1         0.15        -1.40         -4.12         14.96   \n",
       "3         1        22.28        17.63          8.08         14.53   \n",
       "4         1        10.65        -0.03          0.81         17.46   \n",
       "...     ...          ...          ...           ...           ...   \n",
       "38634     0        40.32         2.23         -2.59          5.61   \n",
       "38635     0        26.04         4.95        -83.69         13.51   \n",
       "38636     0        40.62         1.53         -3.31        -51.40   \n",
       "38637     0         3.24         5.89         -1.03          8.92   \n",
       "38638     0        -1.72        12.32         11.43         10.18   \n",
       "\n",
       "       2022/자기자본증가율  2023/자기자본증가율  2022/매출액증가율  2023/매출액증가율  2021/영업이익증가율  \\\n",
       "0              4.51          4.40        16.06         6.08        -16.09   \n",
       "1             -3.21        -32.85       -15.04         3.03         16.26   \n",
       "2             -0.98         -0.93        -0.71         0.46         13.04   \n",
       "3              3.04         12.43       -40.09         2.34        218.01   \n",
       "4              4.65         -6.29        12.40         1.11        -16.74   \n",
       "...             ...           ...          ...          ...           ...   \n",
       "38634          2.09         13.42        -1.06        -8.86         16.26   \n",
       "38635         -0.18         97.31        47.62        40.17         16.26   \n",
       "38636         20.87         13.10        23.12        -4.55        248.73   \n",
       "38637         -0.96         25.42        14.67        12.44        -17.34   \n",
       "38638         75.97          4.23        19.10        16.53         21.54   \n",
       "\n",
       "       ...  2021/자본집약도(종업원1인당)  2023/기계투자효율  2023/부가가치율  2021/노동소득분배율  \\\n",
       "0      ...        5.627382e+08      766.765       23.85        57.855   \n",
       "1      ...        1.767904e+09      766.765       23.85        57.855   \n",
       "2      ...        6.096943e+09      766.765       23.85        57.855   \n",
       "3      ...        3.949607e+09      766.765       23.85        57.855   \n",
       "4      ...        1.039853e+09      766.765       23.85        57.855   \n",
       "...    ...                 ...          ...         ...           ...   \n",
       "38634  ...        1.940924e+08      975.540       26.08        80.760   \n",
       "38635  ...        3.398192e+08     4080.390       54.80        42.190   \n",
       "38636  ...        6.505325e+08      188.190       38.55        24.090   \n",
       "38637  ...        8.361525e+07     1054.340       28.23        76.790   \n",
       "38638  ...        6.967182e+08      766.765       29.92        59.080   \n",
       "\n",
       "       2021/법인세차감전순이익(구성비)  2022/법인세차감전순이익(구성비)  2023/인건비(구성비)  \\\n",
       "0                    17.87               15.335          59.68   \n",
       "1                    17.87               15.335          59.68   \n",
       "2                    17.87               15.335          59.68   \n",
       "3                    17.87               15.335          59.68   \n",
       "4                    17.87               15.335          59.68   \n",
       "...                    ...                  ...            ...   \n",
       "38634                -4.35                1.380          66.47   \n",
       "38635                49.30               54.060          34.55   \n",
       "38636                66.38               62.360          35.48   \n",
       "38637                15.09                3.560          71.77   \n",
       "38638                11.84               15.670          56.81   \n",
       "\n",
       "       2021/금융비용(구성비)  2023/임차료(구성비)  2021/감가상각비(구성비)  \n",
       "0                3.18           1.41             7.83  \n",
       "1                3.18           1.41             7.83  \n",
       "2                3.18           1.41             7.83  \n",
       "3                3.18           1.41             7.83  \n",
       "4                3.18           1.41             7.83  \n",
       "...               ...            ...              ...  \n",
       "38634            4.46           5.15            13.03  \n",
       "38635            1.12           1.96             2.19  \n",
       "38636            1.32           0.52             7.13  \n",
       "38637            1.00           1.35             3.48  \n",
       "38638            9.75           1.03            15.10  \n",
       "\n",
       "[27603 rows x 101 columns]"
      ]
     },
     "execution_count": 75,
     "metadata": {},
     "output_type": "execute_result"
    }
   ],
   "source": [
    "data[selected_features]"
   ]
  },
  {
   "cell_type": "code",
   "execution_count": 80,
   "metadata": {},
   "outputs": [
    {
     "data": {
      "text/html": [
       "<div>\n",
       "<style scoped>\n",
       "    .dataframe tbody tr th:only-of-type {\n",
       "        vertical-align: middle;\n",
       "    }\n",
       "\n",
       "    .dataframe tbody tr th {\n",
       "        vertical-align: top;\n",
       "    }\n",
       "\n",
       "    .dataframe thead th {\n",
       "        text-align: right;\n",
       "    }\n",
       "</style>\n",
       "<table border=\"1\" class=\"dataframe\">\n",
       "  <thead>\n",
       "    <tr style=\"text-align: right;\">\n",
       "      <th></th>\n",
       "      <th>업체코드</th>\n",
       "      <th>종목명</th>\n",
       "      <th>2023/부실기업</th>\n",
       "    </tr>\n",
       "  </thead>\n",
       "  <tbody>\n",
       "    <tr>\n",
       "      <th>0</th>\n",
       "      <td>N350605</td>\n",
       "      <td>동화약품</td>\n",
       "      <td>0</td>\n",
       "    </tr>\n",
       "    <tr>\n",
       "      <th>1</th>\n",
       "      <td>N320498</td>\n",
       "      <td>KR모터스</td>\n",
       "      <td>1</td>\n",
       "    </tr>\n",
       "    <tr>\n",
       "      <th>2</th>\n",
       "      <td>N320684</td>\n",
       "      <td>경방</td>\n",
       "      <td>0</td>\n",
       "    </tr>\n",
       "    <tr>\n",
       "      <th>3</th>\n",
       "      <td>N320730</td>\n",
       "      <td>삼양홀딩스</td>\n",
       "      <td>0</td>\n",
       "    </tr>\n",
       "    <tr>\n",
       "      <th>4</th>\n",
       "      <td>N310581</td>\n",
       "      <td>하이트진로</td>\n",
       "      <td>0</td>\n",
       "    </tr>\n",
       "    <tr>\n",
       "      <th>...</th>\n",
       "      <td>...</td>\n",
       "      <td>...</td>\n",
       "      <td>...</td>\n",
       "    </tr>\n",
       "    <tr>\n",
       "      <th>38634</th>\n",
       "      <td>NX01379</td>\n",
       "      <td>다마요팩(주)</td>\n",
       "      <td>0</td>\n",
       "    </tr>\n",
       "    <tr>\n",
       "      <th>38635</th>\n",
       "      <td>NX57312</td>\n",
       "      <td>(주)에스엘씨</td>\n",
       "      <td>0</td>\n",
       "    </tr>\n",
       "    <tr>\n",
       "      <th>38636</th>\n",
       "      <td>NX91216</td>\n",
       "      <td>농업회사법인한국양계(주)</td>\n",
       "      <td>0</td>\n",
       "    </tr>\n",
       "    <tr>\n",
       "      <th>38637</th>\n",
       "      <td>NY32604</td>\n",
       "      <td>(주)메디라인액티브코리아</td>\n",
       "      <td>0</td>\n",
       "    </tr>\n",
       "    <tr>\n",
       "      <th>38638</th>\n",
       "      <td>NY84181</td>\n",
       "      <td>(주)엘림글로벌</td>\n",
       "      <td>0</td>\n",
       "    </tr>\n",
       "  </tbody>\n",
       "</table>\n",
       "<p>27603 rows × 3 columns</p>\n",
       "</div>"
      ],
      "text/plain": [
       "          업체코드            종목명  2023/부실기업\n",
       "0      N350605           동화약품          0\n",
       "1      N320498          KR모터스          1\n",
       "2      N320684             경방          0\n",
       "3      N320730          삼양홀딩스          0\n",
       "4      N310581          하이트진로          0\n",
       "...        ...            ...        ...\n",
       "38634  NX01379        다마요팩(주)          0\n",
       "38635  NX57312        (주)에스엘씨          0\n",
       "38636  NX91216  농업회사법인한국양계(주)          0\n",
       "38637  NY32604  (주)메디라인액티브코리아          0\n",
       "38638  NY84181       (주)엘림글로벌          0\n",
       "\n",
       "[27603 rows x 3 columns]"
      ]
     },
     "execution_count": 80,
     "metadata": {},
     "output_type": "execute_result"
    }
   ],
   "source": [
    "data[['업체코드', '종목명']+['2023/부실기업']]"
   ]
  },
  {
   "cell_type": "code",
   "execution_count": 86,
   "metadata": {},
   "outputs": [
    {
     "data": {
      "text/html": [
       "<div>\n",
       "<style scoped>\n",
       "    .dataframe tbody tr th:only-of-type {\n",
       "        vertical-align: middle;\n",
       "    }\n",
       "\n",
       "    .dataframe tbody tr th {\n",
       "        vertical-align: top;\n",
       "    }\n",
       "\n",
       "    .dataframe thead th {\n",
       "        text-align: right;\n",
       "    }\n",
       "</style>\n",
       "<table border=\"1\" class=\"dataframe\">\n",
       "  <thead>\n",
       "    <tr style=\"text-align: right;\">\n",
       "      <th></th>\n",
       "      <th>업체코드</th>\n",
       "      <th>종목명</th>\n",
       "      <th>상장여부</th>\n",
       "      <th>2021/총자산증가율</th>\n",
       "      <th>2023/총자산증가율</th>\n",
       "      <th>2023/유형자산증가율</th>\n",
       "      <th>2023/재고자산증가율</th>\n",
       "      <th>2022/자기자본증가율</th>\n",
       "      <th>2023/자기자본증가율</th>\n",
       "      <th>2022/매출액증가율</th>\n",
       "      <th>...</th>\n",
       "      <th>2023/기계투자효율</th>\n",
       "      <th>2023/부가가치율</th>\n",
       "      <th>2021/노동소득분배율</th>\n",
       "      <th>2021/법인세차감전순이익(구성비)</th>\n",
       "      <th>2022/법인세차감전순이익(구성비)</th>\n",
       "      <th>2023/인건비(구성비)</th>\n",
       "      <th>2021/금융비용(구성비)</th>\n",
       "      <th>2023/임차료(구성비)</th>\n",
       "      <th>2021/감가상각비(구성비)</th>\n",
       "      <th>2023/부실기업</th>\n",
       "    </tr>\n",
       "  </thead>\n",
       "  <tbody>\n",
       "    <tr>\n",
       "      <th>0</th>\n",
       "      <td>N350605</td>\n",
       "      <td>동화약품</td>\n",
       "      <td>1</td>\n",
       "      <td>2.70</td>\n",
       "      <td>10.23</td>\n",
       "      <td>15.13</td>\n",
       "      <td>17.36</td>\n",
       "      <td>4.51</td>\n",
       "      <td>4.40</td>\n",
       "      <td>16.06</td>\n",
       "      <td>...</td>\n",
       "      <td>766.765</td>\n",
       "      <td>23.85</td>\n",
       "      <td>57.855</td>\n",
       "      <td>17.87</td>\n",
       "      <td>15.335</td>\n",
       "      <td>59.68</td>\n",
       "      <td>3.18</td>\n",
       "      <td>1.41</td>\n",
       "      <td>7.83</td>\n",
       "      <td>0</td>\n",
       "    </tr>\n",
       "    <tr>\n",
       "      <th>1</th>\n",
       "      <td>N320498</td>\n",
       "      <td>KR모터스</td>\n",
       "      <td>1</td>\n",
       "      <td>1.45</td>\n",
       "      <td>-4.89</td>\n",
       "      <td>-10.98</td>\n",
       "      <td>-4.03</td>\n",
       "      <td>-3.21</td>\n",
       "      <td>-32.85</td>\n",
       "      <td>-15.04</td>\n",
       "      <td>...</td>\n",
       "      <td>766.765</td>\n",
       "      <td>23.85</td>\n",
       "      <td>57.855</td>\n",
       "      <td>17.87</td>\n",
       "      <td>15.335</td>\n",
       "      <td>59.68</td>\n",
       "      <td>3.18</td>\n",
       "      <td>1.41</td>\n",
       "      <td>7.83</td>\n",
       "      <td>1</td>\n",
       "    </tr>\n",
       "    <tr>\n",
       "      <th>2</th>\n",
       "      <td>N320684</td>\n",
       "      <td>경방</td>\n",
       "      <td>1</td>\n",
       "      <td>0.15</td>\n",
       "      <td>-1.40</td>\n",
       "      <td>-4.12</td>\n",
       "      <td>14.96</td>\n",
       "      <td>-0.98</td>\n",
       "      <td>-0.93</td>\n",
       "      <td>-0.71</td>\n",
       "      <td>...</td>\n",
       "      <td>766.765</td>\n",
       "      <td>23.85</td>\n",
       "      <td>57.855</td>\n",
       "      <td>17.87</td>\n",
       "      <td>15.335</td>\n",
       "      <td>59.68</td>\n",
       "      <td>3.18</td>\n",
       "      <td>1.41</td>\n",
       "      <td>7.83</td>\n",
       "      <td>0</td>\n",
       "    </tr>\n",
       "    <tr>\n",
       "      <th>3</th>\n",
       "      <td>N320730</td>\n",
       "      <td>삼양홀딩스</td>\n",
       "      <td>1</td>\n",
       "      <td>22.28</td>\n",
       "      <td>17.63</td>\n",
       "      <td>8.08</td>\n",
       "      <td>14.53</td>\n",
       "      <td>3.04</td>\n",
       "      <td>12.43</td>\n",
       "      <td>-40.09</td>\n",
       "      <td>...</td>\n",
       "      <td>766.765</td>\n",
       "      <td>23.85</td>\n",
       "      <td>57.855</td>\n",
       "      <td>17.87</td>\n",
       "      <td>15.335</td>\n",
       "      <td>59.68</td>\n",
       "      <td>3.18</td>\n",
       "      <td>1.41</td>\n",
       "      <td>7.83</td>\n",
       "      <td>0</td>\n",
       "    </tr>\n",
       "    <tr>\n",
       "      <th>4</th>\n",
       "      <td>N310581</td>\n",
       "      <td>하이트진로</td>\n",
       "      <td>1</td>\n",
       "      <td>10.65</td>\n",
       "      <td>-0.03</td>\n",
       "      <td>0.81</td>\n",
       "      <td>17.46</td>\n",
       "      <td>4.65</td>\n",
       "      <td>-6.29</td>\n",
       "      <td>12.40</td>\n",
       "      <td>...</td>\n",
       "      <td>766.765</td>\n",
       "      <td>23.85</td>\n",
       "      <td>57.855</td>\n",
       "      <td>17.87</td>\n",
       "      <td>15.335</td>\n",
       "      <td>59.68</td>\n",
       "      <td>3.18</td>\n",
       "      <td>1.41</td>\n",
       "      <td>7.83</td>\n",
       "      <td>0</td>\n",
       "    </tr>\n",
       "    <tr>\n",
       "      <th>...</th>\n",
       "      <td>...</td>\n",
       "      <td>...</td>\n",
       "      <td>...</td>\n",
       "      <td>...</td>\n",
       "      <td>...</td>\n",
       "      <td>...</td>\n",
       "      <td>...</td>\n",
       "      <td>...</td>\n",
       "      <td>...</td>\n",
       "      <td>...</td>\n",
       "      <td>...</td>\n",
       "      <td>...</td>\n",
       "      <td>...</td>\n",
       "      <td>...</td>\n",
       "      <td>...</td>\n",
       "      <td>...</td>\n",
       "      <td>...</td>\n",
       "      <td>...</td>\n",
       "      <td>...</td>\n",
       "      <td>...</td>\n",
       "      <td>...</td>\n",
       "    </tr>\n",
       "    <tr>\n",
       "      <th>38634</th>\n",
       "      <td>NX01379</td>\n",
       "      <td>다마요팩(주)</td>\n",
       "      <td>0</td>\n",
       "      <td>40.32</td>\n",
       "      <td>2.23</td>\n",
       "      <td>-2.59</td>\n",
       "      <td>5.61</td>\n",
       "      <td>2.09</td>\n",
       "      <td>13.42</td>\n",
       "      <td>-1.06</td>\n",
       "      <td>...</td>\n",
       "      <td>975.540</td>\n",
       "      <td>26.08</td>\n",
       "      <td>80.760</td>\n",
       "      <td>-4.35</td>\n",
       "      <td>1.380</td>\n",
       "      <td>66.47</td>\n",
       "      <td>4.46</td>\n",
       "      <td>5.15</td>\n",
       "      <td>13.03</td>\n",
       "      <td>0</td>\n",
       "    </tr>\n",
       "    <tr>\n",
       "      <th>38635</th>\n",
       "      <td>NX57312</td>\n",
       "      <td>(주)에스엘씨</td>\n",
       "      <td>0</td>\n",
       "      <td>26.04</td>\n",
       "      <td>4.95</td>\n",
       "      <td>-83.69</td>\n",
       "      <td>13.51</td>\n",
       "      <td>-0.18</td>\n",
       "      <td>97.31</td>\n",
       "      <td>47.62</td>\n",
       "      <td>...</td>\n",
       "      <td>4080.390</td>\n",
       "      <td>54.80</td>\n",
       "      <td>42.190</td>\n",
       "      <td>49.30</td>\n",
       "      <td>54.060</td>\n",
       "      <td>34.55</td>\n",
       "      <td>1.12</td>\n",
       "      <td>1.96</td>\n",
       "      <td>2.19</td>\n",
       "      <td>0</td>\n",
       "    </tr>\n",
       "    <tr>\n",
       "      <th>38636</th>\n",
       "      <td>NX91216</td>\n",
       "      <td>농업회사법인한국양계(주)</td>\n",
       "      <td>0</td>\n",
       "      <td>40.62</td>\n",
       "      <td>1.53</td>\n",
       "      <td>-3.31</td>\n",
       "      <td>-51.40</td>\n",
       "      <td>20.87</td>\n",
       "      <td>13.10</td>\n",
       "      <td>23.12</td>\n",
       "      <td>...</td>\n",
       "      <td>188.190</td>\n",
       "      <td>38.55</td>\n",
       "      <td>24.090</td>\n",
       "      <td>66.38</td>\n",
       "      <td>62.360</td>\n",
       "      <td>35.48</td>\n",
       "      <td>1.32</td>\n",
       "      <td>0.52</td>\n",
       "      <td>7.13</td>\n",
       "      <td>0</td>\n",
       "    </tr>\n",
       "    <tr>\n",
       "      <th>38637</th>\n",
       "      <td>NY32604</td>\n",
       "      <td>(주)메디라인액티브코리아</td>\n",
       "      <td>0</td>\n",
       "      <td>3.24</td>\n",
       "      <td>5.89</td>\n",
       "      <td>-1.03</td>\n",
       "      <td>8.92</td>\n",
       "      <td>-0.96</td>\n",
       "      <td>25.42</td>\n",
       "      <td>14.67</td>\n",
       "      <td>...</td>\n",
       "      <td>1054.340</td>\n",
       "      <td>28.23</td>\n",
       "      <td>76.790</td>\n",
       "      <td>15.09</td>\n",
       "      <td>3.560</td>\n",
       "      <td>71.77</td>\n",
       "      <td>1.00</td>\n",
       "      <td>1.35</td>\n",
       "      <td>3.48</td>\n",
       "      <td>0</td>\n",
       "    </tr>\n",
       "    <tr>\n",
       "      <th>38638</th>\n",
       "      <td>NY84181</td>\n",
       "      <td>(주)엘림글로벌</td>\n",
       "      <td>0</td>\n",
       "      <td>-1.72</td>\n",
       "      <td>12.32</td>\n",
       "      <td>11.43</td>\n",
       "      <td>10.18</td>\n",
       "      <td>75.97</td>\n",
       "      <td>4.23</td>\n",
       "      <td>19.10</td>\n",
       "      <td>...</td>\n",
       "      <td>766.765</td>\n",
       "      <td>29.92</td>\n",
       "      <td>59.080</td>\n",
       "      <td>11.84</td>\n",
       "      <td>15.670</td>\n",
       "      <td>56.81</td>\n",
       "      <td>9.75</td>\n",
       "      <td>1.03</td>\n",
       "      <td>15.10</td>\n",
       "      <td>0</td>\n",
       "    </tr>\n",
       "  </tbody>\n",
       "</table>\n",
       "<p>27603 rows × 104 columns</p>\n",
       "</div>"
      ],
      "text/plain": [
       "          업체코드            종목명  상장여부  2021/총자산증가율  2023/총자산증가율  2023/유형자산증가율  \\\n",
       "0      N350605           동화약품     1         2.70        10.23         15.13   \n",
       "1      N320498          KR모터스     1         1.45        -4.89        -10.98   \n",
       "2      N320684             경방     1         0.15        -1.40         -4.12   \n",
       "3      N320730          삼양홀딩스     1        22.28        17.63          8.08   \n",
       "4      N310581          하이트진로     1        10.65        -0.03          0.81   \n",
       "...        ...            ...   ...          ...          ...           ...   \n",
       "38634  NX01379        다마요팩(주)     0        40.32         2.23         -2.59   \n",
       "38635  NX57312        (주)에스엘씨     0        26.04         4.95        -83.69   \n",
       "38636  NX91216  농업회사법인한국양계(주)     0        40.62         1.53         -3.31   \n",
       "38637  NY32604  (주)메디라인액티브코리아     0         3.24         5.89         -1.03   \n",
       "38638  NY84181       (주)엘림글로벌     0        -1.72        12.32         11.43   \n",
       "\n",
       "       2023/재고자산증가율  2022/자기자본증가율  2023/자기자본증가율  2022/매출액증가율  ...  \\\n",
       "0             17.36          4.51          4.40        16.06  ...   \n",
       "1             -4.03         -3.21        -32.85       -15.04  ...   \n",
       "2             14.96         -0.98         -0.93        -0.71  ...   \n",
       "3             14.53          3.04         12.43       -40.09  ...   \n",
       "4             17.46          4.65         -6.29        12.40  ...   \n",
       "...             ...           ...           ...          ...  ...   \n",
       "38634          5.61          2.09         13.42        -1.06  ...   \n",
       "38635         13.51         -0.18         97.31        47.62  ...   \n",
       "38636        -51.40         20.87         13.10        23.12  ...   \n",
       "38637          8.92         -0.96         25.42        14.67  ...   \n",
       "38638         10.18         75.97          4.23        19.10  ...   \n",
       "\n",
       "       2023/기계투자효율  2023/부가가치율  2021/노동소득분배율  2021/법인세차감전순이익(구성비)  \\\n",
       "0          766.765       23.85        57.855                17.87   \n",
       "1          766.765       23.85        57.855                17.87   \n",
       "2          766.765       23.85        57.855                17.87   \n",
       "3          766.765       23.85        57.855                17.87   \n",
       "4          766.765       23.85        57.855                17.87   \n",
       "...            ...         ...           ...                  ...   \n",
       "38634      975.540       26.08        80.760                -4.35   \n",
       "38635     4080.390       54.80        42.190                49.30   \n",
       "38636      188.190       38.55        24.090                66.38   \n",
       "38637     1054.340       28.23        76.790                15.09   \n",
       "38638      766.765       29.92        59.080                11.84   \n",
       "\n",
       "       2022/법인세차감전순이익(구성비)  2023/인건비(구성비)  2021/금융비용(구성비)  2023/임차료(구성비)  \\\n",
       "0                   15.335          59.68            3.18           1.41   \n",
       "1                   15.335          59.68            3.18           1.41   \n",
       "2                   15.335          59.68            3.18           1.41   \n",
       "3                   15.335          59.68            3.18           1.41   \n",
       "4                   15.335          59.68            3.18           1.41   \n",
       "...                    ...            ...             ...            ...   \n",
       "38634                1.380          66.47            4.46           5.15   \n",
       "38635               54.060          34.55            1.12           1.96   \n",
       "38636               62.360          35.48            1.32           0.52   \n",
       "38637                3.560          71.77            1.00           1.35   \n",
       "38638               15.670          56.81            9.75           1.03   \n",
       "\n",
       "       2021/감가상각비(구성비)  2023/부실기업  \n",
       "0                 7.83          0  \n",
       "1                 7.83          1  \n",
       "2                 7.83          0  \n",
       "3                 7.83          0  \n",
       "4                 7.83          0  \n",
       "...                ...        ...  \n",
       "38634            13.03          0  \n",
       "38635             2.19          0  \n",
       "38636             7.13          0  \n",
       "38637             3.48          0  \n",
       "38638            15.10          0  \n",
       "\n",
       "[27603 rows x 104 columns]"
      ]
     },
     "execution_count": 86,
     "metadata": {},
     "output_type": "execute_result"
    }
   ],
   "source": [
    "# Index 객체를 리스트로 변환\n",
    "selected_features_list = selected_features.tolist()\n",
    "\n",
    "# '업체코드', '종목명', '2023/부실기업' 추가\n",
    "columns_to_select = ['업체코드', '종목명'] + selected_features_list + ['2023/부실기업']\n",
    "\n",
    "# 선택된 열만 포함한 새로운 데이터프레임 생성\n",
    "filtered_data = data[columns_to_select]\n",
    "filtered_data"
   ]
  },
  {
   "cell_type": "markdown",
   "metadata": {},
   "source": [
    "### 데이터 저장"
   ]
  },
  {
   "cell_type": "code",
   "execution_count": 87,
   "metadata": {},
   "outputs": [],
   "source": [
    "# CSV 파일로 저장\n",
    "filtered_data.to_csv(\"../../project/data/var_select.csv\", index=False, encoding='utf-8-sig')"
   ]
  },
  {
   "cell_type": "markdown",
   "metadata": {},
   "source": [
    "할거\n",
    "- 20,21,22 필터링걸어서 후진제거법하고 딥러닝"
   ]
  }
 ],
 "metadata": {
  "kernelspec": {
   "display_name": "Python 3",
   "language": "python",
   "name": "python3"
  },
  "language_info": {
   "codemirror_mode": {
    "name": "ipython",
    "version": 3
   },
   "file_extension": ".py",
   "mimetype": "text/x-python",
   "name": "python",
   "nbconvert_exporter": "python",
   "pygments_lexer": "ipython3",
   "version": "3.11.4"
  }
 },
 "nbformat": 4,
 "nbformat_minor": 2
}
